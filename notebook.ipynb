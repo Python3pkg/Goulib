{
 "metadata": {
  "name": "",
  "signature": "sha256:16727cd6acf03605a5e58c638636858d6e7fb3174e7b8a684a958837b2b3cf27"
 },
 "nbformat": 3,
 "nbformat_minor": 0,
 "worksheets": [
  {
   "cells": [
    {
     "cell_type": "markdown",
     "metadata": {},
     "source": [
      "# Goulib\n",
      "my library of useful code for scientific + technical applications\n",
      "\n",
      "- author: Philippe Guglielmetti goulib@goulu.net\n",
      "- copyright: Copyright 2013 Philippe Guglielmetti\n",
      "- license: LGPL (see LICENSE.TXT)\n",
      "\n",
      "- installation : \"pip install Goulib\"\n",
      "- distribution: https://pypi.python.org/pypi/Goulib\n",
      "- documentation: https://goulib.readthedocs.org/\n",
      "- source : https://github.com/goulu/Goulib\n",
      "\n",
      "Some modules offer specific IPython Notebook support\n"
     ]
    },
    {
     "cell_type": "code",
     "collapsed": false,
     "input": [
      "from IPython.display import display, HTML, Math, Latex"
     ],
     "language": "python",
     "metadata": {},
     "outputs": [],
     "prompt_number": 1
    },
    {
     "cell_type": "markdown",
     "metadata": {},
     "source": [
      "## Colors"
     ]
    },
    {
     "cell_type": "code",
     "collapsed": false,
     "input": [
      "from Goulib.colors import *"
     ],
     "language": "python",
     "metadata": {},
     "outputs": [],
     "prompt_number": 1
    },
    {
     "cell_type": "code",
     "collapsed": false,
     "input": [
      "c=color['blue'] # color is a dict of most used colors indexed by name\n",
      "print c, color_lookup[c] # reversed dict to retrieve color name by hex string"
     ],
     "language": "python",
     "metadata": {},
     "outputs": [
      {
       "output_type": "stream",
       "stream": "stdout",
       "text": [
        "#0000ff blue\n"
       ]
      }
     ],
     "prompt_number": 2
    },
    {
     "cell_type": "code",
     "collapsed": false,
     "input": [
      "red=Color('red') #Color objects can be init'ed by name,\n",
      "green=Color('#00ff00') # by RGB hex string,\n",
      "blue=Color((0,0,1)) #or by RGB triplet\n",
      "\n",
      "c=red+blue #colors can be added\n",
      "print c.name, c.hex, c.rgb # see ? the color name of the sum is correct too !\n",
      "c # Color objects have an HTML representation"
     ],
     "language": "python",
     "metadata": {},
     "outputs": [
      {
       "output_type": "stream",
       "stream": "stdout",
       "text": [
        "magenta #ff00ff [1.0, 0.0, 1.0]\n"
       ]
      },
      {
       "html": [
        "<div style=\"color:#ff00ff\">magenta</div>"
       ],
       "metadata": {},
       "output_type": "pyout",
       "prompt_number": 3,
       "text": [
        "magenta"
       ]
      }
     ],
     "prompt_number": 3
    },
    {
     "cell_type": "code",
     "collapsed": false,
     "input": [
      "c= Color('gray')-red # colors can be substracted too. RGB values might go off bounds, but hex is bounded\n",
      "print c.name, c.hex, c.rgb # see ? the color name of the sum is correct too !\n",
      "c"
     ],
     "language": "python",
     "metadata": {},
     "outputs": [
      {
       "output_type": "stream",
       "stream": "stdout",
       "text": [
        "teal #008080 [-0.4980392156862745, 0.5019607843137255, 0.5019607843137255]\n"
       ]
      },
      {
       "html": [
        "<div style=\"color:#008080\">teal</div>"
       ],
       "metadata": {},
       "output_type": "pyout",
       "prompt_number": 4,
       "text": [
        "teal"
       ]
      }
     ],
     "prompt_number": 4
    },
    {
     "cell_type": "code",
     "collapsed": false,
     "input": [
      "from random import random\n",
      "Color((random(),random(),random())) # unknown colors recieve name of the nearest known color\n",
      "# re-run this cell to see changes"
     ],
     "language": "python",
     "metadata": {},
     "outputs": [
      {
       "html": [
        "<div style=\"color:#04ea8b\">~mediumspringgreen</div>"
       ],
       "metadata": {},
       "output_type": "pyout",
       "prompt_number": 12,
       "text": [
        "~mediumspringgreen"
       ]
      }
     ],
     "prompt_number": 12
    },
    {
     "cell_type": "code",
     "collapsed": false,
     "input": [
      "def html(iterable):\n",
      "    for _ in iterable:\n",
      "        display(_)\n",
      "html(map(Color,color_range(5,'blue','orange')))"
     ],
     "language": "python",
     "metadata": {},
     "outputs": [
      {
       "html": [
        "<div style=\"color:#0000ff\">blue</div>"
       ],
       "metadata": {},
       "output_type": "display_data",
       "text": [
        "blue"
       ]
      },
      {
       "html": [
        "<div style=\"color:#00d5ff\">~deepskyblue</div>"
       ],
       "metadata": {},
       "output_type": "display_data",
       "text": [
        "~deepskyblue"
       ]
      },
      {
       "html": [
        "<div style=\"color:#00ff52\">~springgreen</div>"
       ],
       "metadata": {},
       "output_type": "display_data",
       "text": [
        "~springgreen"
       ]
      },
      {
       "html": [
        "<div style=\"color:#83ff00\">~chartreuse</div>"
       ],
       "metadata": {},
       "output_type": "display_data",
       "text": [
        "~chartreuse"
       ]
      },
      {
       "html": [
        "<div style=\"color:#ffa400\">~orange</div>"
       ],
       "metadata": {},
       "output_type": "display_data",
       "text": [
        "~orange"
       ]
      }
     ],
     "prompt_number": 29
    },
    {
     "cell_type": "heading",
     "level": 2,
     "metadata": {},
     "source": [
      "Table"
     ]
    },
    {
     "cell_type": "code",
     "collapsed": false,
     "input": [
      "from Goulib.table import *\n",
      "Table(titles=['A','B'],data=[[1,2],[3,4]]) #simple table. See \"Graph\" for "
     ],
     "language": "python",
     "metadata": {},
     "outputs": []
    },
    {
     "cell_type": "heading",
     "level": 2,
     "metadata": {},
     "source": [
      "Drawing"
     ]
    },
    {
     "cell_type": "code",
     "collapsed": false,
     "input": [
      "from Goulib.drawing import *"
     ],
     "language": "python",
     "metadata": {},
     "outputs": []
    },
    {
     "cell_type": "code",
     "collapsed": false,
     "input": [
      "Drawing('tests/drawing.pdf')"
     ],
     "language": "python",
     "metadata": {},
     "outputs": []
    },
    {
     "cell_type": "markdown",
     "metadata": {},
     "source": [
      "##Graph"
     ]
    },
    {
     "cell_type": "code",
     "collapsed": false,
     "input": [
      "from Goulib.graph import *\n",
      "\n",
      "logi=GeoGraph(multi=False)\n",
      "\n",
      "nodes={}\n",
      "from Goulib.table import Table\n",
      "for line in Table('tests/localisation.csv'):\n",
      "    name=line[0]\n",
      "    pos=tuple([line[3],-line[4]]) #flip Y to keep North North ...\n",
      "    nodes[name]=pos\n",
      "\n",
      "mat=Table('tests/matrice.csv')\n",
      "for line in mat:\n",
      "    end=nodes[line[0]]\n",
      "    for i,v in enumerate(line[2:]):\n",
      "        if v:\n",
      "            start=nodes[mat.titles[i+2]]\n",
      "            try:\n",
      "                edge=logi[start][end]\n",
      "                w=edge[0]['weight']\n",
      "                pass\n",
      "            except:\n",
      "                w=0\n",
      "            logi.add_edge(start,end,weight=v+w)\n",
      "        \n",
      "from Goulib.colors import hex_to_rgb\n",
      "import matplotlib.pyplot as plt\n",
      "\n",
      "#define a function that maps edge data to a color\n",
      "colors={'red':'#C3001E','green':'#1DC300','blue':'#265896','lightblue':'#6598CA','gray':'#585858'}\n",
      "map=plt.get_cmap('Greys')\n",
      "def edge_color(data):\n",
      "    c=data['weight']\n",
      "    if c>100:\n",
      "        c=hex_to_rgb(colors['red'],scale=1./255)\n",
      "    else:\n",
      "        c=map(float(c)/100)\n",
      "    return c\n",
      "        \n",
      "logi.render(edge_color=edge_color, node_size=100, node_color=colors['lightblue']) #this will set logi.render_args ...\n",
      "logi #... so here we display them :-)\n"
     ],
     "language": "python",
     "metadata": {},
     "outputs": []
    },
    {
     "cell_type": "markdown",
     "metadata": {},
     "source": [
      "##Polynomial"
     ]
    },
    {
     "cell_type": "code",
     "collapsed": false,
     "input": [
      "from Goulib.polynomial import *\n",
      "\n",
      "p1=Polynomial([-1,1,3]) # inited from coefficients in ascending power order\n",
      "p1 # Latex output"
     ],
     "language": "python",
     "metadata": {},
     "outputs": [
      {
       "latex": [
        "$3x^2 + x - 1$"
       ],
       "metadata": {},
       "output_type": "pyout",
       "prompt_number": 2,
       "text": [
        "3x^2 + x - 1"
       ]
      }
     ],
     "prompt_number": 2
    },
    {
     "cell_type": "code",
     "collapsed": false,
     "input": [
      "p2=Polynomial('-5x^3+3x') # inited from string\n",
      "p2"
     ],
     "language": "python",
     "metadata": {},
     "outputs": [
      {
       "latex": [
        "$-5x^3 + 3x$"
       ],
       "metadata": {},
       "output_type": "pyout",
       "prompt_number": 4,
       "text": [
        "-5x^3 + 3x"
       ]
      }
     ],
     "prompt_number": 4
    },
    {
     "cell_type": "code",
     "collapsed": false,
     "input": [
      "print [round(p(x),3) for x in arange(-1,1,.2)] #evaluation"
     ],
     "language": "python",
     "metadata": {},
     "outputs": [
      {
       "output_type": "stream",
       "stream": "stdout",
       "text": [
        "[1.0, 0.12, -0.52, -0.92, -1.08, -1.0, -0.68, -0.12, 0.68, 1.72]\n"
       ]
      }
     ],
     "prompt_number": 38
    },
    {
     "cell_type": "code",
     "collapsed": false,
     "input": [
      "p1-p2+2 # addition and subtraction of polynomials and scalars"
     ],
     "language": "python",
     "metadata": {},
     "outputs": [
      {
       "latex": [
        "$5x^3 + 3x^2 - 2x + 1$"
       ],
       "metadata": {},
       "output_type": "pyout",
       "prompt_number": 12,
       "text": [
        "5x^3 + 3x^2 - 2x + 1"
       ]
      }
     ],
     "prompt_number": 12
    },
    {
     "cell_type": "code",
     "collapsed": false,
     "input": [
      "-p1*p2**2 # polynomial (and scalar) multiplication and scalar power"
     ],
     "language": "python",
     "metadata": {},
     "outputs": [
      {
       "latex": [
        "$-75x^8 - 25x^7 + 115x^6 + 30x^5 - 57x^4 - 9x^3 + 9x^2$"
       ],
       "metadata": {},
       "output_type": "pyout",
       "prompt_number": 26,
       "text": [
        "-75x^8 - 25x^7 + 115x^6 + 30x^5 - 57x^4 - 9x^3 + 9x^2"
       ]
      }
     ],
     "prompt_number": 26
    },
    {
     "cell_type": "code",
     "collapsed": false,
     "input": [
      "p1.derivative()+p2.integral() #integral and derivative"
     ],
     "language": "python",
     "metadata": {},
     "outputs": [
      {
       "latex": [
        "$-1.25x^4 + 1.5x^2 + 6x + 1$"
       ],
       "metadata": {},
       "output_type": "pyout",
       "prompt_number": 20,
       "text": [
        "-1.25x^4 + 1.5x^2 + 6x + 1"
       ]
      }
     ],
     "prompt_number": 20
    },
    {
     "cell_type": "markdown",
     "metadata": {},
     "source": [
      "## Motion\n",
      "\"motion laws\", functions of time which return (position, velocity, acceleration, jerk) tuples"
     ]
    },
    {
     "cell_type": "code",
     "collapsed": false,
     "input": [
      "from Goulib.motion import *\n",
      "\n",
      "def plot(pva,t0=None,t1=None,ylim=None):\n",
      "    \"\"\"plots a Segment on pylab\"\"\"\n",
      "    if t0 is None: t0=pva.t0\n",
      "    if t1 is None: t1=pva.t1\n",
      "    x = np.arange(t0,t1, (t1-t0)/100.);\n",
      "    y = [pva(t) for t in x]\n",
      "    y=map(list, zip(*y)) #transpose because of \n",
      "    labels=['Pos','Vel','Acc','Jrk']\n",
      "    for y_arr, label in zip(y, labels):\n",
      "        pylab.plot(x, y_arr, label=label)\n",
      "    pylab.legend()\n",
      "    if ylim: pylab.ylim(ylim)\n",
      "    pylab.show() "
     ],
     "language": "python",
     "metadata": {},
     "outputs": [],
     "prompt_number": 13
    },
    {
     "cell_type": "markdown",
     "metadata": {},
     "source": [
      "##Segments"
     ]
    },
    {
     "cell_type": "markdown",
     "metadata": {},
     "source": [
      "### Polynomial Segments\n",
      "\n",
      "Polynomials are very handy to define Segments as coefficients can easily be determined from start/end conditions.\n",
      "Also, polynomials can easily be integrated or derivated in order to obtain position, velocity, or acceleration laws from each other.\n",
      "\n",
      "Motion defines several handy functions that return SegmentPoly matching common situations"
     ]
    },
    {
     "cell_type": "code",
     "collapsed": false,
     "input": [
      "seg=Segment2ndDegree(0,1,(-1,1,2)) # time interval and initial position\n",
      "plot(seg)"
     ],
     "language": "python",
     "metadata": {},
     "outputs": [
      {
       "metadata": {},
       "output_type": "display_data",
       "png": "[encoded data removed]",
       "text": [
        "<matplotlib.figure.Figure at 0x70f6030>"
       ]
      }
     ],
     "prompt_number": 14
    },
    {
     "cell_type": "code",
     "collapsed": false,
     "input": [
      "seg=Segment4thDegree(0,None,(-2,1),(2,3))\n",
      "plot(seg,ylim=[-2,4])"
     ],
     "language": "python",
     "metadata": {},
     "outputs": [
      {
       "metadata": {},
       "output_type": "display_data",
       "png": "[encoded data removed]",
       "text": [
        "<matplotlib.figure.Figure at 0x714eab0>"
       ]
      }
     ],
     "prompt_number": 15
    },
    {
     "cell_type": "code",
     "collapsed": false,
     "input": [
      "seg=Segment4thDegree(0,2,(-2,1),(None,3))\n",
      "plot(seg,ylim=[-2,4])"
     ],
     "language": "python",
     "metadata": {},
     "outputs": [
      {
       "metadata": {},
       "output_type": "display_data",
       "png": "[encoded data removed]",
       "text": [
        "<matplotlib.figure.Figure at 0x70f6670>"
       ]
      }
     ],
     "prompt_number": 16
    },
    {
     "cell_type": "code",
     "collapsed": false,
     "input": [],
     "language": "python",
     "metadata": {},
     "outputs": []
    }
   ],
   "metadata": {}
  }
 ]
}