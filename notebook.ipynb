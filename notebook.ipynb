{
 "cells": [
  {
   "cell_type": "markdown",
   "metadata": {},
   "source": [
    "# Goulib\n",
    "library of useful code for scientific + technical applications\n",
    "\n",
    "- author: Philippe Guglielmetti goulib@goulu.net\n",
    "- copyright: Copyright 2013 Philippe Guglielmetti\n",
    "- license: LGPL (see LICENSE.TXT)\n",
    "\n",
    "- installation : \"pip install Goulib\"\n",
    "- distribution: https://pypi.python.org/pypi/Goulib\n",
    "- documentation: https://goulib.readthedocs.org/\n",
    "- source : https://github.com/goulu/Goulib\n",
    "\n",
    "Some modules offer specific IPython Notebook support"
   ]
  },
  {
   "cell_type": "code",
   "execution_count": null,
   "metadata": {
    "collapsed": false
   },
   "outputs": [],
   "source": [
    "from Goulib.notebook import *\n",
    "h2('Notebook')\n",
    "h3('some useful tools for IPYthon/Jupyter notebooks')\n",
    "h('notably this \"print\" function which accepts',1,1+1,int(9**.5),'or even more parameters')"
   ]
  },
  {
   "cell_type": "code",
   "execution_count": null,
   "metadata": {
    "collapsed": false
   },
   "outputs": [],
   "source": [
    "from Goulib import math2, itertools2 #Goulib modules that complement std modules"
   ]
  },
  {
   "cell_type": "markdown",
   "metadata": {},
   "source": [
    "## Modules\n",
    "the following modules are described in their own notebooks:\n",
    "\n",
    "### [Math2](notebooks/math2.ipynb)\n",
    "more math without numpy\n",
    "\n",
    "### [Expr](notebooks/expr.ipynb)\n",
    "\n",
    "### [Image](notebooks/image.ipynb)\n",
    "image processing made simple\n",
    "\n",
    "### [Table](notebooks/table.ipynb)\n",
    "\"mini pandas.DataFrame\" Table class with Excel + CSV I/O, easy access to columns, HTML output, and much more."
   ]
  },
  {
   "cell_type": "markdown",
   "metadata": {},
   "source": [
    "## Colors"
   ]
  },
  {
   "cell_type": "code",
   "execution_count": null,
   "metadata": {
    "collapsed": false
   },
   "outputs": [],
   "source": [
    "from Goulib.colors import *"
   ]
  },
  {
   "cell_type": "code",
   "execution_count": null,
   "metadata": {
    "collapsed": false
   },
   "outputs": [],
   "source": [
    "c=color['blue'] # color is a dict of most used colors indexed by name\n",
    "h(c, color_lookup[c]) # reversed dict to retrieve color name by hex string"
   ]
  },
  {
   "cell_type": "code",
   "execution_count": null,
   "metadata": {
    "collapsed": false
   },
   "outputs": [],
   "source": [
    "red=Color('red') #Color objects can be init'ed by name,\n",
    "green=Color('#00ff00') # by RGB hex string,\n",
    "blue=Color((0,0,1)) #or by RGB triplet\n",
    "blue # Color objects have an HTML representation"
   ]
  },
  {
   "cell_type": "code",
   "execution_count": null,
   "metadata": {
    "collapsed": false
   },
   "outputs": [],
   "source": [
    "#colors can be added\n",
    "cyan=blue+green\n",
    "magenta=blue+red\n",
    "yellow=red+green\n",
    "\n",
    "h(magenta.name, magenta.hex, magenta.rgb) # see ? the color name of the sum is correct too !\n",
    "magenta"
   ]
  },
  {
   "cell_type": "code",
   "execution_count": null,
   "metadata": {
    "collapsed": false
   },
   "outputs": [],
   "source": [
    "magenta-cyan-yellow #and colors can be substracted too"
   ]
  },
  {
   "cell_type": "code",
   "execution_count": null,
   "metadata": {
    "collapsed": false
   },
   "outputs": [],
   "source": [
    "c= Color('gray')-red # colors can be substracted too. RGB values might go off bounds, but hex is bounded\n",
    "h(c.name, c.hex, c.rgb) # see ? the color name of the sum is correct too !\n",
    "c"
   ]
  },
  {
   "cell_type": "code",
   "execution_count": null,
   "metadata": {
    "collapsed": false
   },
   "outputs": [],
   "source": [
    "from random import random\n",
    "Color((random(),random(),random())) # unknown colors recieve name of the nearest known color with a tile before\n",
    "# re-run this cell to see changes"
   ]
  },
  {
   "cell_type": "code",
   "execution_count": null,
   "metadata": {
    "collapsed": false
   },
   "outputs": [],
   "source": [
    "from IPython.display import display\n",
    "def html(iterable):\n",
    "    for _ in iterable:\n",
    "        display(_)\n",
    "html(map(Color,color_range(5,'red','blue')))"
   ]
  },
  {
   "cell_type": "markdown",
   "metadata": {},
   "source": [
    "## Stats"
   ]
  },
  {
   "cell_type": "code",
   "execution_count": null,
   "metadata": {
    "collapsed": false
   },
   "outputs": [],
   "source": [
    "from Goulib.stats import *\n",
    "\n",
    "n1=Normal()\n",
    "n1"
   ]
  },
  {
   "cell_type": "code",
   "execution_count": null,
   "metadata": {
    "collapsed": false
   },
   "outputs": [],
   "source": [
    "n2=Normal([],4,4)\n",
    "n2"
   ]
  },
  {
   "cell_type": "code",
   "execution_count": null,
   "metadata": {
    "collapsed": false
   },
   "outputs": [],
   "source": [
    "n1+n2"
   ]
  },
  {
   "cell_type": "code",
   "execution_count": null,
   "metadata": {
    "collapsed": false
   },
   "outputs": [],
   "source": [
    "plot.plot([n1,n2,n1+n2])"
   ]
  },
  {
   "cell_type": "markdown",
   "metadata": {},
   "source": [
    "## Geom\n",
    "Vector, matrix and quaternion operations + line, arc, circle entities for use in 2D and 3D graphics applications.\n"
   ]
  },
  {
   "cell_type": "code",
   "execution_count": null,
   "metadata": {
    "collapsed": false
   },
   "outputs": [],
   "source": [
    "from Goulib.geom import *\n",
    "import sys,inspect\n",
    "h('geom defines many classes : %s'%dict(inspect.getmembers(sys.modules['Goulib.geom'], inspect.isclass)).keys())"
   ]
  },
  {
   "cell_type": "code",
   "execution_count": null,
   "metadata": {
    "collapsed": false
   },
   "outputs": [],
   "source": [
    "Arc2((0,0),(0,1),(1,0)) #does not render in IPython"
   ]
  },
  {
   "cell_type": "code",
   "execution_count": null,
   "metadata": {
    "collapsed": false
   },
   "outputs": [],
   "source": [
    "from Goulib.drawing import * #adds rendering (and more) to Geom\n",
    "a=Arc2((0,0),(0,1),(1,0)) #same class is now rendered in IPython\n",
    "a"
   ]
  },
  {
   "cell_type": "code",
   "execution_count": null,
   "metadata": {
    "collapsed": false
   },
   "outputs": [],
   "source": [
    "l1=Segment2((-2,.5),Vector2(4,0)) #horizontal at y=0.5\n",
    "l2=Segment2((-2,-.5),Vector2(4,0)) #horizontal at y=-0.5\n",
    "lines=Group([l1,l2])\n",
    "lines.color='blue'\n",
    "Group([lines,a])"
   ]
  },
  {
   "cell_type": "code",
   "execution_count": null,
   "metadata": {
    "collapsed": false
   },
   "outputs": [],
   "source": [
    "pts=Group([i[0] for i in lines.intersect(a)]) # list of intersection points\n",
    "Group([lines,a,pts])"
   ]
  },
  {
   "cell_type": "code",
   "execution_count": null,
   "metadata": {
    "collapsed": false
   },
   "outputs": [],
   "source": [
    "c1=circle_from_3_points(*pts) # classic\n",
    "a1=arc_from_3_points(*pts) # not trivial ;-)\n",
    "a1.r*=.99\n",
    "a1.color='blue'\n",
    "Group([pts,c1,a1])"
   ]
  },
  {
   "cell_type": "markdown",
   "metadata": {},
   "source": [
    "## Drawing\n",
    "vector graphics in .dxf, .svg and .pdf formats based on Geom"
   ]
  },
  {
   "cell_type": "code",
   "execution_count": null,
   "metadata": {
    "collapsed": false
   },
   "outputs": [],
   "source": [
    "from Goulib.drawing import *\n",
    "import inspect\n",
    "h('drawing adds more classes to geom : %s'%dict(inspect.getmembers(sys.modules['Goulib.drawing'], inspect.isclass)).keys())"
   ]
  },
  {
   "cell_type": "markdown",
   "metadata": {},
   "source": [
    "Geom entities and others defined in Drawing can be grouped :"
   ]
  },
  {
   "cell_type": "code",
   "execution_count": null,
   "metadata": {
    "collapsed": false
   },
   "outputs": [],
   "source": [
    "r1=Rect((0,0),(-1,1))\n",
    "r2=Rect((1,-1),(2,2))\n",
    "c1=Circle(Point2(4,4),1)\n",
    "c2=Circle(Point2(0,2),.5)\n",
    "s1=r1.connect(r2)\n",
    "s1.color='red'\n",
    "s2=r2.connect(c1)\n",
    "s2.color='red'\n",
    "s3=c1.connect(c2)\n",
    "s3.color='red'\n",
    "\n",
    "g=Group([r1,r2,c1,c2,s1,s2,s3])\n",
    "g"
   ]
  },
  {
   "cell_type": "markdown",
   "metadata": {},
   "source": [
    "Groups can be handled as entities :"
   ]
  },
  {
   "cell_type": "code",
   "execution_count": null,
   "metadata": {
    "collapsed": false
   },
   "outputs": [],
   "source": [
    "g2=Trans(scale=2, offset=(10,1), rotation=30)*g\n",
    "g2.color='blue'\n",
    "h(g.distance(g2))\n",
    "Group([g,g2]) #group of groups"
   ]
  },
  {
   "cell_type": "markdown",
   "metadata": {},
   "source": [
    "Drawing objects can be read/saved from/to various formats including pdf, svg and dxf "
   ]
  },
  {
   "cell_type": "code",
   "execution_count": null,
   "metadata": {
    "collapsed": false
   },
   "outputs": [],
   "source": [
    "Drawing('tests/drawing.pdf')"
   ]
  },
  {
   "cell_type": "code",
   "execution_count": null,
   "metadata": {
    "collapsed": false
   },
   "outputs": [],
   "source": [
    "Drawing('tests/drawing.svg')"
   ]
  },
  {
   "cell_type": "code",
   "execution_count": null,
   "metadata": {
    "collapsed": false
   },
   "outputs": [],
   "source": [
    "Drawing('tests/drawing.dxf')"
   ]
  },
  {
   "cell_type": "markdown",
   "metadata": {},
   "source": [
    "Drawing also extends geom to allow geometric constructions\n"
   ]
  },
  {
   "cell_type": "code",
   "execution_count": null,
   "metadata": {
    "collapsed": false
   },
   "outputs": [],
   "source": [
    "d=Drawing()\n",
    "for i,color in enumerate(color_range(100,'blue','orange')):\n",
    "    circle=Circle((i*.1,sin(.1*i)),1)\n",
    "    circle.color=color\n",
    "    d.append(circle)\n",
    "d"
   ]
  },
  {
   "cell_type": "markdown",
   "metadata": {},
   "source": [
    "## Graph\n",
    "efficient Euclidian Graphs for [NetworkX](http://networkx.github.io/) and related algorithms"
   ]
  },
  {
   "cell_type": "code",
   "execution_count": null,
   "metadata": {
    "collapsed": false
   },
   "outputs": [],
   "source": [
    "import networkx as nx\n",
    "from Goulib.graph import *"
   ]
  },
  {
   "cell_type": "code",
   "execution_count": null,
   "metadata": {
    "collapsed": false
   },
   "outputs": [],
   "source": [
    "g=nx.gn_graph(20)\n",
    "nx.draw_networkx(g)"
   ]
  },
  {
   "cell_type": "code",
   "execution_count": null,
   "metadata": {
    "collapsed": false
   },
   "outputs": [],
   "source": [
    "draw_networkx(g) #improved version over nx.draw_networkx"
   ]
  },
  {
   "cell_type": "code",
   "execution_count": null,
   "metadata": {
    "collapsed": false
   },
   "outputs": [],
   "source": [
    "geo=nx.geographical_threshold_graph(50,25)\n",
    "geo # NetworkX Graphs do not render in Notebooks..."
   ]
  },
  {
   "cell_type": "code",
   "execution_count": null,
   "metadata": {
    "collapsed": false
   },
   "outputs": [],
   "source": [
    "geo=GeoGraph(geo)\n",
    "geo # GeoGraphs do !"
   ]
  },
  {
   "cell_type": "code",
   "execution_count": null,
   "metadata": {
    "collapsed": false
   },
   "outputs": [],
   "source": [
    "# it's easy to make GeoGraphs look nice\n",
    "def edge_color(data): # simply define a function that maps edge data to a color\n",
    "    return plt.get_cmap('Blues')(data['length']/.25)       \n",
    "geo.render(edge_color=edge_color, node_size=50) #this will set geo.render_args ...\n",
    "geo #... so here we display them :-)"
   ]
  },
  {
   "cell_type": "code",
   "execution_count": null,
   "metadata": {
    "collapsed": false
   },
   "outputs": [],
   "source": [
    "d=to_drawing(geo) # graphs can also be converted or added to a Goulib.Drawing\n",
    "c=Circle((0.5,0.5),0.5)\n",
    "c.color='red'\n",
    "d.append(c)"
   ]
  },
  {
   "cell_type": "code",
   "execution_count": null,
   "metadata": {
    "collapsed": false
   },
   "outputs": [],
   "source": [
    "nodes=points_on_sphere(12)\n",
    "sphere=GeoGraph(nodes=nodes) #GeoGraphs can also be built from n-dim points only\n",
    "sphere.render(edge_color=edge_color, node_size=50) #this will set geo.render_args ...\n",
    "sphere"
   ]
  },
  {
   "cell_type": "code",
   "execution_count": null,
   "metadata": {
    "collapsed": false
   },
   "outputs": [],
   "source": [
    "delauney_triangulation(geo) #creates a new GeoGraph from Delauney triangulation of a GeoGraph's nodes"
   ]
  },
  {
   "cell_type": "markdown",
   "metadata": {},
   "source": [
    "## Polynomial\n",
    "\n",
    "a Polynomial is an Expr defined by factors and with some more methods"
   ]
  },
  {
   "cell_type": "code",
   "execution_count": null,
   "metadata": {
    "collapsed": false
   },
   "outputs": [],
   "source": [
    "from Goulib.polynomial import *\n",
    "\n",
    "p1=Polynomial([-1,1,3]) # inited from coefficients in ascending power order\n",
    "p1 # Latex output"
   ]
  },
  {
   "cell_type": "code",
   "execution_count": null,
   "metadata": {
    "collapsed": false
   },
   "outputs": [],
   "source": [
    "p2=Polynomial('- 5x^3 +3*x') # inited from string, in any power order, with optional spaces and *\n",
    "p2.plot()"
   ]
  },
  {
   "cell_type": "code",
   "execution_count": null,
   "metadata": {
    "collapsed": false
   },
   "outputs": [],
   "source": [
    "[(x,p1(x)) for x in itertools2.linspace(-1,1,11)] #evaluation"
   ]
  },
  {
   "cell_type": "code",
   "execution_count": null,
   "metadata": {
    "collapsed": false
   },
   "outputs": [],
   "source": [
    "p1-p2+2 # addition and subtraction of polynomials and scalars"
   ]
  },
  {
   "cell_type": "code",
   "execution_count": null,
   "metadata": {
    "collapsed": false
   },
   "outputs": [],
   "source": [
    "-3*p1*p2**2 # polynomial (and scalar) multiplication and scalar power"
   ]
  },
  {
   "cell_type": "code",
   "execution_count": null,
   "metadata": {
    "collapsed": false
   },
   "outputs": [],
   "source": [
    "p1.derivative()+p2.integral() #integral and derivative"
   ]
  },
  {
   "cell_type": "markdown",
   "metadata": {},
   "source": [
    "## Motion\n",
    "\"motion laws\" are functions of time which return (position, velocity, acceleration, jerk) tuples"
   ]
  },
  {
   "cell_type": "code",
   "execution_count": null,
   "metadata": {
    "collapsed": false
   },
   "outputs": [],
   "source": [
    "from Goulib.motion import *"
   ]
  },
  {
   "cell_type": "markdown",
   "metadata": {},
   "source": [
    "### Polynomial Segments\n",
    "\n",
    "Polynomials are very handy to define Segments as coefficients can easily be determined from start/end conditions.\n",
    "Also, polynomials can easily be integrated or derivated in order to obtain position, velocity, or acceleration laws from each other.\n",
    "\n",
    "Motion defines several handy functions that return SegmentPoly matching common situations"
   ]
  },
  {
   "cell_type": "code",
   "execution_count": null,
   "metadata": {
    "collapsed": false
   },
   "outputs": [],
   "source": [
    "seg=Segment2ndDegree(0,1,(-1,1,2)) # time interval and initial position,velocity and constant acceleration\n",
    "seg.plot()"
   ]
  },
  {
   "cell_type": "code",
   "execution_count": null,
   "metadata": {
    "collapsed": false
   },
   "outputs": [],
   "source": [
    "seg=Segment4thDegree(0,None,(-2,1),(2,3)) #start time and initial and final (position,velocity)\n",
    "seg.plot()"
   ]
  },
  {
   "cell_type": "code",
   "execution_count": null,
   "metadata": {
    "collapsed": false
   },
   "outputs": [],
   "source": [
    "seg=Segment4thDegree(0,2,(-2,1),(None,3)) # start and final time, initial (pos,vel) and final vel\n",
    "seg.plot()"
   ]
  },
  {
   "cell_type": "markdown",
   "metadata": {},
   "source": [
    "## Interval\n",
    "operations on [a..b[ intervals"
   ]
  },
  {
   "cell_type": "code",
   "execution_count": null,
   "metadata": {
    "collapsed": false
   },
   "outputs": [],
   "source": [
    "from Goulib.interval import *\n",
    "\n",
    "Interval(5,6)+Interval(2,3)+Interval(3,4)"
   ]
  },
  {
   "cell_type": "markdown",
   "metadata": {},
   "source": [
    "## Piecewise\n",
    "Piecewise defined functions"
   ]
  },
  {
   "cell_type": "code",
   "execution_count": null,
   "metadata": {
    "collapsed": false
   },
   "outputs": [],
   "source": [
    "from Goulib.piecewise import *"
   ]
  },
  {
   "cell_type": "markdown",
   "metadata": {},
   "source": [
    "The simplest are piecewise continuous functions. They are defined by $(x_i,y_i)$ tuples given in any order. \n",
    "\n",
    "$f(x) = \\begin{cases}y_0 & x < x_1 \\\\ y_i & x_i \\le x < x_{i+1} \\\\ y_n & x > x_n \\end{cases}$"
   ]
  },
  {
   "cell_type": "code",
   "execution_count": null,
   "metadata": {
    "collapsed": false
   },
   "outputs": [],
   "source": [
    "p1=Piecewise([(4,4),(3,3),(1,1),(5,0)])\n",
    "p1.plot()"
   ]
  },
  {
   "cell_type": "markdown",
   "metadata": {},
   "source": [
    "By default y0=0 , but it can be specified at construction.\n",
    "\n",
    "Piecewise functions can also be defined by adding (x0,y,x1) segments"
   ]
  },
  {
   "cell_type": "code",
   "execution_count": null,
   "metadata": {
    "collapsed": false
   },
   "outputs": [],
   "source": [
    "p2=Piecewise(default=1)\n",
    "p2+=(2.5,1,6.5)\n",
    "p2+=(1.5,1,3.5)\n",
    "p2.plot(xmax=7,ylim=(-1,5))"
   ]
  },
  {
   "cell_type": "code",
   "execution_count": null,
   "metadata": {
    "collapsed": false
   },
   "outputs": [],
   "source": [
    "plot.plot([p1,p2,p1+p2,p1-p2,p1*p2,p1/p2],\n",
    "     labels=['p1','p2','p1+p2','p1-p2','p1*p2','p1/p2'],\n",
    "     xmax=7, ylim=(-2,10), offset=0.02)"
   ]
  },
  {
   "cell_type": "code",
   "execution_count": null,
   "metadata": {
    "collapsed": false
   },
   "outputs": [],
   "source": [
    "p1=Piecewise([(2,True)],False)\n",
    "p2=Piecewise([(1,True),(2,False),(3,True)],False)\n",
    "plot.plot([p1,p2,p1|p2,p1&p2,p1^p2,p1>>3],\n",
    "     labels=['p1','p2','p1 or p2','p1 and p2','p1 xor p2','p1>>3'],\n",
    "     xmax=7,ylim=(-.5,1.5), offset=0.02)"
   ]
  }
 ],
 "metadata": {
  "kernelspec": {
   "display_name": "Python 2",
   "language": "python",
   "name": "python2"
  },
  "language_info": {
   "codemirror_mode": {
    "name": "ipython",
    "version": 2
   },
   "file_extension": ".py",
   "mimetype": "text/x-python",
   "name": "python",
   "nbconvert_exporter": "python",
   "pygments_lexer": "ipython2",
   "version": "2.7.11"
  },
  "latex_envs": {
   "bibliofile": "biblio.bib",
   "cite_by": "apalike",
   "current_citInitial": 1,
   "eqLabelWithNumbers": true,
   "eqNumInitial": 0
  }
 },
 "nbformat": 4,
 "nbformat_minor": 0
}
