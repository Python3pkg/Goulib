{
 "metadata": {
  "name": "",
  "signature": "sha256:7719cfb0830de46987c175f859b8e65160f4dc1e1b44d731107144f85d1782a1"
 },
 "nbformat": 3,
 "nbformat_minor": 0,
 "worksheets": [
  {
   "cells": [
    {
     "cell_type": "markdown",
     "metadata": {},
     "source": [
      "# Goulib\n",
      "my library of useful code for scientific + technical applications\n",
      "\n",
      "- author: Philippe Guglielmetti goulib@goulu.net\n",
      "- copyright: Copyright 2013 Philippe Guglielmetti\n",
      "- license: LGPL (see LICENSE.TXT)\n",
      "\n",
      "- installation : \"pip install Goulib\"\n",
      "- distribution: https://pypi.python.org/pypi/Goulib\n",
      "- documentation: https://goulib.readthedocs.org/\n",
      "- source : https://github.com/goulu/Goulib\n",
      "\n",
      "Some modules offer specific IPython Notebook support\n"
     ]
    },
    {
     "cell_type": "code",
     "collapsed": false,
     "input": [
      "from IPython.display import display, HTML, Math, Latex # some IPython Notebook utilities\n",
      "from Goulib import math2, itertools2 #Goulib modules that complement std modules"
     ],
     "language": "python",
     "metadata": {},
     "outputs": [],
     "prompt_number": 1
    },
    {
     "cell_type": "markdown",
     "metadata": {},
     "source": [
      "## Colors"
     ]
    },
    {
     "cell_type": "code",
     "collapsed": false,
     "input": [
      "from Goulib.colors import *"
     ],
     "language": "python",
     "metadata": {},
     "outputs": [],
     "prompt_number": 2
    },
    {
     "cell_type": "code",
     "collapsed": false,
     "input": [
      "c=color['blue'] # color is a dict of most used colors indexed by name\n",
      "print c, color_lookup[c] # reversed dict to retrieve color name by hex string"
     ],
     "language": "python",
     "metadata": {},
     "outputs": [
      {
       "output_type": "stream",
       "stream": "stdout",
       "text": [
        "#0000ff blue\n"
       ]
      }
     ],
     "prompt_number": 3
    },
    {
     "cell_type": "code",
     "collapsed": false,
     "input": [
      "red=Color('red') #Color objects can be init'ed by name,\n",
      "green=Color('#00ff00') # by RGB hex string,\n",
      "blue=Color((0,0,1)) #or by RGB triplet\n",
      "\n",
      "c=red+blue #colors can be added\n",
      "print c.name, c.hex, c.rgb # see ? the color name of the sum is correct too !\n",
      "c # Color objects have an HTML representation"
     ],
     "language": "python",
     "metadata": {},
     "outputs": [
      {
       "output_type": "stream",
       "stream": "stdout",
       "text": [
        "magenta #ff00ff [1.0, 0.0, 1.0]\n"
       ]
      },
      {
       "html": [
        "<div style=\"color:#ff00ff\">magenta</div>"
       ],
       "metadata": {},
       "output_type": "pyout",
       "prompt_number": 4,
       "text": [
        "Color('magenta')"
       ]
      }
     ],
     "prompt_number": 4
    },
    {
     "cell_type": "code",
     "collapsed": false,
     "input": [
      "c= Color('gray')-red # colors can be substracted too. RGB values might go off bounds, but hex is bounded\n",
      "print c.name, c.hex, c.rgb # see ? the color name of the sum is correct too !\n",
      "c"
     ],
     "language": "python",
     "metadata": {},
     "outputs": [
      {
       "output_type": "stream",
       "stream": "stdout",
       "text": [
        "teal #008080 [-0.4980392156862745, 0.5019607843137255, 0.5019607843137255]\n"
       ]
      },
      {
       "html": [
        "<div style=\"color:#008080\">teal</div>"
       ],
       "metadata": {},
       "output_type": "pyout",
       "prompt_number": 5,
       "text": [
        "Color('teal')"
       ]
      }
     ],
     "prompt_number": 5
    },
    {
     "cell_type": "code",
     "collapsed": false,
     "input": [
      "from random import random\n",
      "Color((random(),random(),random())) # unknown colors recieve name of the nearest known color\n",
      "# re-run this cell to see changes"
     ],
     "language": "python",
     "metadata": {},
     "outputs": [
      {
       "html": [
        "<div style=\"color:#306a42\">~darkslategray</div>"
       ],
       "metadata": {},
       "output_type": "pyout",
       "prompt_number": 6,
       "text": [
        "Color('#306a42')"
       ]
      }
     ],
     "prompt_number": 6
    },
    {
     "cell_type": "code",
     "collapsed": false,
     "input": [
      "def html(iterable):\n",
      "    for _ in iterable:\n",
      "        display(_)\n",
      "html(map(Color,color_range(5,'red','blue')))"
     ],
     "language": "python",
     "metadata": {},
     "outputs": [
      {
       "html": [
        "<div style=\"color:#ff0000\">red</div>"
       ],
       "metadata": {},
       "output_type": "display_data",
       "text": [
        "Color('red')"
       ]
      },
      {
       "html": [
        "<div style=\"color:#ffff00\">yellow</div>"
       ],
       "metadata": {},
       "output_type": "display_data",
       "text": [
        "Color('yellow')"
       ]
      },
      {
       "html": [
        "<div style=\"color:#00ff00\">lime</div>"
       ],
       "metadata": {},
       "output_type": "display_data",
       "text": [
        "Color('lime')"
       ]
      },
      {
       "html": [
        "<div style=\"color:#00ffff\">aqua</div>"
       ],
       "metadata": {},
       "output_type": "display_data",
       "text": [
        "Color('aqua')"
       ]
      },
      {
       "html": [
        "<div style=\"color:#0000ff\">blue</div>"
       ],
       "metadata": {},
       "output_type": "display_data",
       "text": [
        "Color('blue')"
       ]
      }
     ],
     "prompt_number": 7
    },
    {
     "cell_type": "markdown",
     "metadata": {},
     "source": [
      "## Table\n",
      "Table class with Excel + CSV I/O, easy access to columns, HTML output, and much more."
     ]
    },
    {
     "cell_type": "code",
     "collapsed": false,
     "input": [
      "from Goulib.table import *\n",
      "Table(titles=['A','B'],data=[['first',2],[3,'last']]) # a very simple table"
     ],
     "language": "python",
     "metadata": {},
     "outputs": [
      {
       "html": [
        "<table><thead>\n",
        "<tr><th>A</th><th>B</th></tr>\n",
        "</thead>\n",
        "<tr><td>first</td><td align=\"right\">2</td></tr>\n",
        "<tr><td align=\"right\">3</td><td>last</td></tr>\n",
        "</table>\n"
       ],
       "metadata": {},
       "output_type": "pyout",
       "prompt_number": 8,
       "text": [
        "Table(len=2,titles=['A', 'B'],data=[['first', 2], [3, 'last']])"
       ]
      }
     ],
     "prompt_number": 8
    },
    {
     "cell_type": "code",
     "collapsed": false,
     "input": [
      "t=Table('tests/test.xls') # read Excel files thanks to xlrd (http://www.python-excel.org/)"
     ],
     "language": "python",
     "metadata": {},
     "outputs": [],
     "prompt_number": 9
    },
    {
     "cell_type": "code",
     "collapsed": false,
     "input": [
      "print t.titles #column headers can be used as indexes\n",
      "print\n",
      "print t[:3] # since a Table is a list of rows, rows can be accessed by indexing. \n",
      "print\n",
      "print t.rowasdict(1) #a row can be extracted as a dict where column titles are keys"
     ],
     "language": "python",
     "metadata": {},
     "outputs": [
      {
       "output_type": "stream",
       "stream": "stdout",
       "text": [
        "[u'OrderDate', u'R\\xe9gion', u'Rep', u'Item', u'Unit\\xe9s', u'Cost', u'Total']\n",
        "\n",
        "[[41061, u'East', u'Jones', u'Pencil', 95, 1.99, 189.05], [u'1/23/2012', u'Central', u'Kivell', u'Binder', 50, 19.99, 999.5], [41154, u'Central', u'Jardine', u'Pencil', 36, 4.99, 179.64]]\n",
        "\n",
        "{u'Unit\\xe9s': 50, u'R\\xe9gion': u'Central', u'Rep': u'Kivell', u'Item': u'Binder', u'Cost': 19.99, u'Total': 999.5, u'OrderDate': u'1/23/2012'}\n"
       ]
      }
     ],
     "prompt_number": 10
    },
    {
     "cell_type": "code",
     "collapsed": false,
     "input": [
      "# handle the mess in Excel Cell types ...\n",
      "t.to_date('OrderDate',fmt=['%m/%d/%Y','Excel']) #converts column to date using several possible formats...\n",
      "t.applyf('Cost',float) # apply a function to a column. Here force the column to contain floats\n",
      "t.applyf('Total',lambda x:float(x) if isinstance(x,(int,float)) else float(x.replace(',','')))"
     ],
     "language": "python",
     "metadata": {},
     "outputs": [
      {
       "metadata": {},
       "output_type": "pyout",
       "prompt_number": 11,
       "text": [
        "True"
       ]
      }
     ],
     "prompt_number": 11
    },
    {
     "cell_type": "code",
     "collapsed": false,
     "input": [
      "from Goulib.stats import mean\n",
      "t[10:]=[] #keep only the 10 first lines to save space below\n",
      "t.sort('Total',reverse=True) # Tables can be sorted like lists\n",
      "t.total([max,itertools2.count_unique,itertools2.count_unique,itertools2.count_unique,sum,mean,sum])\n",
      "t.footer #contains the result of the last call to total "
     ],
     "language": "python",
     "metadata": {},
     "outputs": [
      {
       "metadata": {},
       "output_type": "pyout",
       "prompt_number": 12,
       "text": [
        "[datetime.date(2012, 9, 2),\n",
        " 3,\n",
        " 7,\n",
        " 3,\n",
        " 581,\n",
        " 7.289999999999999,\n",
        " 3576.1900000000001]"
       ]
      }
     ],
     "prompt_number": 12
    },
    {
     "cell_type": "code",
     "collapsed": false,
     "input": [
      "t # HTML representation in Notebook. Note the title/header and total/footer rows and cell alignment"
     ],
     "language": "python",
     "metadata": {},
     "outputs": [
      {
       "html": [
        "<table><thead>\n",
        "<tr><th>OrderDate</th><th>R&#233;gion</th><th>Rep</th><th>Item</th><th>Unit&#233;s</th><th>Cost</th><th>Total</th></tr>\n",
        "</thead>\n",
        "<tr><td align=\"right\">2012-01-23</td><td>Central</td><td>Kivell</td><td>Binder</td><td align=\"right\">50</td><td align=\"right\">19.99</td><td align=\"right\">999.50</td></tr>\n",
        "<tr><td align=\"right\">2012-02-26</td><td>Central</td><td>Gill</td><td>Pen</td><td align=\"right\">27</td><td align=\"right\">19.99</td><td align=\"right\">539.73</td></tr>\n",
        "<tr><td align=\"right\">2012-08-06</td><td>East</td><td>Jones</td><td>Binder</td><td align=\"right\">60</td><td align=\"right\">8.99</td><td align=\"right\">539.40</td></tr>\n",
        "<tr><td align=\"right\">2012-05-05</td><td>Central</td><td>Jardine</td><td>Pencil</td><td align=\"right\">90</td><td align=\"right\">4.99</td><td align=\"right\">449.10</td></tr>\n",
        "<tr><td align=\"right\">2012-01-04</td><td>East</td><td>Jones</td><td>Binder</td><td align=\"right\">60</td><td align=\"right\">4.99</td><td align=\"right\">299.40</td></tr>\n",
        "<tr><td align=\"right\">2012-06-01</td><td>East</td><td>Jones</td><td>Pencil</td><td align=\"right\">95</td><td align=\"right\">1.99</td><td align=\"right\">189.05</td></tr>\n",
        "<tr><td align=\"right\">2012-09-02</td><td>Central</td><td>Jardine</td><td>Pencil</td><td align=\"right\">36</td><td align=\"right\">4.99</td><td align=\"right\">179.64</td></tr>\n",
        "<tr><td align=\"right\">2012-03-15</td><td>West</td><td>Sorvino</td><td>Pencil</td><td align=\"right\">56</td><td align=\"right\">2.99</td><td align=\"right\">167.44</td></tr>\n",
        "<tr><td align=\"right\">2012-04-18</td><td>Central</td><td>Andrews</td><td>Pencil</td><td align=\"right\">75</td><td align=\"right\">1.99</td><td align=\"right\">149.25</td></tr>\n",
        "<tr><td align=\"right\">2012-05-22</td><td>West</td><td>Thompson</td><td>Pencil</td><td align=\"right\">32</td><td align=\"right\">1.99</td><td align=\"right\">63.68</td></tr>\n",
        "<tfoot>\n",
        "<tr><th align=\"right\">2012-09-02</th><th align=\"right\">3</th><th align=\"right\">7</th><th align=\"right\">3</th><th align=\"right\">581</th><th align=\"right\">7.29</th><th align=\"right\">3576.19</th></tr>\n",
        "</tfoot>\n",
        "</table>\n"
       ],
       "metadata": {},
       "output_type": "pyout",
       "prompt_number": 13,
       "text": [
        "Table(len=10,titles=[u'OrderDate', u'R\\xe9gion', u'Rep', u'Item', u'Unit\\xe9s', u'Cost', u'Total'],data=[[datetime.date(2012, 1, 23), u'Central', u'Kivell', u'Binder', 50, 19.99, 999.5], [datetime.date(2012, 2, 26), u'Central', u'Gill', u'Pen', 27, 19.99, 539.73], [datetime.date(2012, 8, 6), u'East', u'Jones', u'Binder', 60, 8.99, 539.4], [datetime.date(2012, 5, 5), u'Central', u'Jardine', u'Pencil', 90, 4.99, 449.1], [datetime.date(2012, 1, 4), u'East', u'Jones', u'Binder', 60, 4.99, 299.4]])"
       ]
      }
     ],
     "prompt_number": 13
    },
    {
     "cell_type": "code",
     "collapsed": false,
     "input": [
      "region=t.groupby(u'R\u00e9gion') # dictionary of subtables grouped by a column. notice Unicode support\n",
      "region['East'] # isn't it nice ?"
     ],
     "language": "python",
     "metadata": {},
     "outputs": [
      {
       "html": [
        "<table><thead>\n",
        "<tr><th>OrderDate</th><th>Rep</th><th>Item</th><th>Unit&#233;s</th><th>Cost</th><th>Total</th></tr>\n",
        "</thead>\n",
        "<tr><td align=\"right\">2012-08-06</td><td>Jones</td><td>Binder</td><td align=\"right\">60</td><td align=\"right\">8.99</td><td align=\"right\">539.40</td></tr>\n",
        "<tr><td align=\"right\">2012-01-04</td><td>Jones</td><td>Binder</td><td align=\"right\">60</td><td align=\"right\">4.99</td><td align=\"right\">299.40</td></tr>\n",
        "<tr><td align=\"right\">2012-06-01</td><td>Jones</td><td>Pencil</td><td align=\"right\">95</td><td align=\"right\">1.99</td><td align=\"right\">189.05</td></tr>\n",
        "</table>\n"
       ],
       "metadata": {},
       "output_type": "pyout",
       "prompt_number": 14,
       "text": [
        "Table(len=3,titles=[u'OrderDate', u'Rep', u'Item', u'Unit\\xe9s', u'Cost', u'Total'],data=[[datetime.date(2012, 8, 6), u'Jones', u'Binder', 60, 8.99, 539.4], [datetime.date(2012, 1, 4), u'Jones', u'Binder', 60, 4.99, 299.4], [datetime.date(2012, 6, 1), u'Jones', u'Pencil', 95, 1.99, 189.05]])"
       ]
      }
     ],
     "prompt_number": 14
    },
    {
     "cell_type": "markdown",
     "metadata": {},
     "source": [
      "##Geom\n",
      "Vector, matrix and quaternion operations + line, arc, circle entities for use in 2D and 3D graphics applications.\n"
     ]
    },
    {
     "cell_type": "code",
     "collapsed": false,
     "input": [
      "from Goulib.geom import *\n",
      "import inspect\n",
      "print 'geom defines many classes : %s'%dict(inspect.getmembers(sys.modules['Goulib.geom'], inspect.isclass)).keys()"
     ],
     "language": "python",
     "metadata": {},
     "outputs": [
      {
       "output_type": "stream",
       "stream": "stdout",
       "text": [
        "geom defines many classes : ['Matrix4', 'Ray2', 'Ray3', 'Vector3', 'Arc2', 'Geometry', 'Segment3', 'Quaternion', 'Line3', 'Line2', 'Sphere', 'Point2', 'Plane', 'Vector2', 'Circle', 'Point3', 'Matrix3', 'Segment2']\n"
       ]
      }
     ],
     "prompt_number": 15
    },
    {
     "cell_type": "code",
     "collapsed": false,
     "input": [
      "Arc2((0,0),(0,1),(1,0)) #does not render in IPython"
     ],
     "language": "python",
     "metadata": {},
     "outputs": [
      {
       "metadata": {},
       "output_type": "pyout",
       "prompt_number": 16,
       "text": [
        "Arc2(center=Point2(0, 0),p1=Point2(0, 1),p2=Point2(1, 0),r=1.0)"
       ]
      }
     ],
     "prompt_number": 16
    },
    {
     "cell_type": "code",
     "collapsed": false,
     "input": [
      "from Goulib.drawing import * #adds rendering (and more) to Geom\n",
      "a=Arc2((0,0),(0,1),(1,0)) #same class is now rendered in IPython\n",
      "a"
     ],
     "language": "python",
     "metadata": {},
     "outputs": [
      {
       "metadata": {},
       "output_type": "pyout",
       "png": "[encoded data removed]",
       "prompt_number": 17,
       "svg": [
        "<?xml version=\"1.0\" encoding=\"utf-8\" standalone=\"no\"?>\n",
        "<!DOCTYPE svg PUBLIC \"-//W3C//DTD SVG 1.1//EN\"\n",
        "  \"http://www.w3.org/Graphics/SVG/1.1/DTD/svg11.dtd\">\n",
        "<!-- Created with matplotlib (http://matplotlib.org/) -->\n",
        "<svg height=\"288pt\" version=\"1.1\" viewBox=\"0 0 432 288\" width=\"432pt\" xmlns=\"http://www.w3.org/2000/svg\" xmlns:xlink=\"http://www.w3.org/1999/xlink\">\n",
        " <defs>\n",
        "  <style type=\"text/css\">\n",
        "*{stroke-linecap:butt;stroke-linejoin:round;}\n",
        "  </style>\n",
        " </defs>\n",
        " <g id=\"figure_1\">\n",
        "  <g id=\"patch_1\">\n",
        "   <path d=\"\n",
        "M0 288\n",
        "L432 288\n",
        "L432 0\n",
        "L0 0\n",
        "z\n",
        "\" style=\"fill:none;\"/>\n",
        "  </g>\n",
        "  <g id=\"axes_1\">\n",
        "   <g id=\"PatchCollection_1\">\n",
        "    <defs>\n",
        "     <path d=\"\n",
        "M221.4 -259.2\n",
        "C199.33 -259.2 177.749 -252.653 159.398 -240.392\n",
        "C141.048 -228.131 126.741 -210.697 118.295 -190.307\n",
        "C109.849 -169.918 107.639 -147.474 111.944 -125.828\n",
        "C116.25 -104.182 126.881 -84.2926 142.487 -68.6869\n",
        "C158.093 -53.0812 177.982 -42.45 199.628 -38.1444\n",
        "C221.274 -33.8388 243.718 -36.0493 264.107 -44.495\n",
        "C284.497 -52.9408 301.931 -67.248 314.192 -85.5984\n",
        "C326.453 -103.949 333 -125.53 333 -147.6\" id=\"C0_0_0e4f1423bd\"/>\n",
        "    </defs>\n",
        "    <g clip-path=\"url(#p124b8dd147)\">\n",
        "     <use style=\"fill:none;stroke:#000000;\" x=\"0.0\" xlink:href=\"#C0_0_0e4f1423bd\" y=\"288.0\"/>\n",
        "    </g>\n",
        "   </g>\n",
        "   <g id=\"line2d_1\">\n",
        "    <path clip-path=\"url(#p124b8dd147)\" d=\"\n",
        "M109.8 252\n",
        "L333 28.8\" style=\"fill:none;opacity:0;stroke:#0000ff;stroke-linecap:square;\"/>\n",
        "   </g>\n",
        "  </g>\n",
        " </g>\n",
        " <defs>\n",
        "  <clipPath id=\"p124b8dd147\">\n",
        "   <rect height=\"223.2\" width=\"334.8\" x=\"54.0\" y=\"28.8\"/>\n",
        "  </clipPath>\n",
        " </defs>\n",
        "</svg>\n"
       ],
       "text": [
        "Arc2(center=Point2(0, 0),p1=Point2(0, 1),p2=Point2(1, 0),r=1.0)"
       ]
      }
     ],
     "prompt_number": 17
    },
    {
     "cell_type": "code",
     "collapsed": false,
     "input": [
      "l1=Segment2((-2,.5),Vector2(4,0)) #horizontal at y=0.5\n",
      "l2=Segment2((-2,-.5),Vector2(4,0)) #horizontal at y=-0.5\n",
      "lines=Group([l1,l2])\n",
      "lines.color='blue'\n",
      "Group([lines,a])"
     ],
     "language": "python",
     "metadata": {},
     "outputs": [
      {
       "metadata": {},
       "output_type": "pyout",
       "png": "[encoded data removed]",
       "prompt_number": 18,
       "svg": [
        "<?xml version=\"1.0\" encoding=\"utf-8\" standalone=\"no\"?>\n",
        "<!DOCTYPE svg PUBLIC \"-//W3C//DTD SVG 1.1//EN\"\n",
        "  \"http://www.w3.org/Graphics/SVG/1.1/DTD/svg11.dtd\">\n",
        "<!-- Created with matplotlib (http://matplotlib.org/) -->\n",
        "<svg height=\"288pt\" version=\"1.1\" viewBox=\"0 0 432 288\" width=\"432pt\" xmlns=\"http://www.w3.org/2000/svg\" xmlns:xlink=\"http://www.w3.org/1999/xlink\">\n",
        " <defs>\n",
        "  <style type=\"text/css\">\n",
        "*{stroke-linecap:butt;stroke-linejoin:round;}\n",
        "  </style>\n",
        " </defs>\n",
        " <g id=\"figure_1\">\n",
        "  <g id=\"patch_1\">\n",
        "   <path d=\"\n",
        "M0 288\n",
        "L432 288\n",
        "L432 0\n",
        "L0 0\n",
        "z\n",
        "\" style=\"fill:none;\"/>\n",
        "  </g>\n",
        "  <g id=\"axes_1\">\n",
        "   <g id=\"PatchCollection_1\">\n",
        "    <defs>\n",
        "     <path d=\"\n",
        "M54 -189.45\n",
        "L388.8 -189.45\" id=\"C0_0_2e9d370363\"/>\n",
        "     <path d=\"\n",
        "M54 -105.75\n",
        "L388.8 -105.75\" id=\"C0_1_bdf6014413\"/>\n",
        "     <path d=\"\n",
        "M221.4 -231.3\n",
        "C204.848 -231.3 188.662 -226.39 174.899 -217.194\n",
        "C161.136 -207.998 150.406 -194.923 144.071 -179.631\n",
        "C137.737 -164.338 136.079 -147.505 139.308 -131.271\n",
        "C142.537 -115.037 150.511 -100.119 162.215 -88.4152\n",
        "C173.919 -76.7109 188.837 -68.7375 205.071 -65.5083\n",
        "C221.305 -62.2791 238.138 -63.937 253.431 -70.2713\n",
        "C268.723 -76.6056 281.798 -87.336 290.994 -101.099\n",
        "C300.19 -114.862 305.1 -131.048 305.1 -147.6\" id=\"C0_2_0b16af579f\"/>\n",
        "    </defs>\n",
        "    <g clip-path=\"url(#p124b8dd147)\">\n",
        "     <use style=\"stroke:#000000;\" x=\"0.0\" xlink:href=\"#C0_0_2e9d370363\" y=\"288.0\"/>\n",
        "    </g>\n",
        "    <g clip-path=\"url(#p124b8dd147)\">\n",
        "     <use style=\"stroke:#000000;\" x=\"0.0\" xlink:href=\"#C0_1_bdf6014413\" y=\"288.0\"/>\n",
        "    </g>\n",
        "    <g clip-path=\"url(#p124b8dd147)\">\n",
        "     <use style=\"fill:none;stroke:#000000;\" x=\"0.0\" xlink:href=\"#C0_2_0b16af579f\" y=\"288.0\"/>\n",
        "    </g>\n",
        "   </g>\n",
        "   <g id=\"line2d_1\">\n",
        "    <path clip-path=\"url(#p124b8dd147)\" d=\"\n",
        "M54 224.1\n",
        "L388.8 56.7\" style=\"fill:none;opacity:0;stroke:#0000ff;stroke-linecap:square;\"/>\n",
        "   </g>\n",
        "  </g>\n",
        " </g>\n",
        " <defs>\n",
        "  <clipPath id=\"p124b8dd147\">\n",
        "   <rect height=\"223.2\" width=\"334.8\" x=\"54.0\" y=\"28.8\"/>\n",
        "  </clipPath>\n",
        " </defs>\n",
        "</svg>\n"
       ],
       "text": [
        "[[Segment2(Point2(-2, 0.5),Point2(2, 0.5)),\n",
        "  Segment2(Point2(-2, -0.5),Point2(2, -0.5))],\n",
        " Arc2(center=Point2(0, 0),p1=Point2(0, 1),p2=Point2(1, 0),r=1.0)]"
       ]
      }
     ],
     "prompt_number": 18
    },
    {
     "cell_type": "code",
     "collapsed": false,
     "input": [
      "pts=Group([i[0] for i in lines.intersect(a)]) # list of intersection points\n",
      "Group([lines,a,pts]).render('svg')"
     ],
     "language": "python",
     "metadata": {},
     "outputs": [
      {
       "ename": "NotImplementedError",
       "evalue": "",
       "output_type": "pyerr",
       "traceback": [
        "\u001b[1;31m---------------------------------------------------------------------------\u001b[0m\n\u001b[1;31mNotImplementedError\u001b[0m                       Traceback (most recent call last)",
        "\u001b[1;32m<ipython-input-19-d5e83192d174>\u001b[0m in \u001b[0;36m<module>\u001b[1;34m()\u001b[0m\n\u001b[0;32m      1\u001b[0m \u001b[0mpts\u001b[0m\u001b[1;33m=\u001b[0m\u001b[0mGroup\u001b[0m\u001b[1;33m(\u001b[0m\u001b[1;33m[\u001b[0m\u001b[0mi\u001b[0m\u001b[1;33m[\u001b[0m\u001b[1;36m0\u001b[0m\u001b[1;33m]\u001b[0m \u001b[1;32mfor\u001b[0m \u001b[0mi\u001b[0m \u001b[1;32min\u001b[0m \u001b[0mlines\u001b[0m\u001b[1;33m.\u001b[0m\u001b[0mintersect\u001b[0m\u001b[1;33m(\u001b[0m\u001b[0ma\u001b[0m\u001b[1;33m)\u001b[0m\u001b[1;33m]\u001b[0m\u001b[1;33m)\u001b[0m \u001b[1;31m# list of intersection points\u001b[0m\u001b[1;33m\u001b[0m\u001b[0m\n\u001b[1;32m----> 2\u001b[1;33m \u001b[0mGroup\u001b[0m\u001b[1;33m(\u001b[0m\u001b[1;33m[\u001b[0m\u001b[0mlines\u001b[0m\u001b[1;33m,\u001b[0m\u001b[0ma\u001b[0m\u001b[1;33m,\u001b[0m\u001b[0mpts\u001b[0m\u001b[1;33m]\u001b[0m\u001b[1;33m)\u001b[0m\u001b[1;33m.\u001b[0m\u001b[0mrender\u001b[0m\u001b[1;33m(\u001b[0m\u001b[1;34m'svg'\u001b[0m\u001b[1;33m)\u001b[0m\u001b[1;33m\u001b[0m\u001b[0m\n\u001b[0m",
        "\u001b[1;32mD:\\Users\\guglie0p\\Develop\\Python\\Goulib\\Goulib\\drawing.py\u001b[0m in \u001b[0;36mrender\u001b[1;34m(self, format, **kwargs)\u001b[0m\n\u001b[0;32m    395\u001b[0m         \"\"\"\n\u001b[0;32m    396\u001b[0m \u001b[1;33m\u001b[0m\u001b[0m\n\u001b[1;32m--> 397\u001b[1;33m         \u001b[0mfig\u001b[0m\u001b[1;33m,\u001b[0m\u001b[0m_\u001b[0m\u001b[1;33m=\u001b[0m\u001b[0mself\u001b[0m\u001b[1;33m.\u001b[0m\u001b[0mdraw\u001b[0m\u001b[1;33m(\u001b[0m\u001b[1;33m**\u001b[0m\u001b[0mkwargs\u001b[0m\u001b[1;33m)\u001b[0m\u001b[1;33m\u001b[0m\u001b[0m\n\u001b[0m\u001b[0;32m    398\u001b[0m \u001b[1;33m\u001b[0m\u001b[0m\n\u001b[0;32m    399\u001b[0m         \u001b[1;32mfrom\u001b[0m \u001b[0mio\u001b[0m \u001b[1;32mimport\u001b[0m \u001b[0mBytesIO\u001b[0m\u001b[1;33m\u001b[0m\u001b[0m\n",
        "\u001b[1;32mD:\\Users\\guglie0p\\Develop\\Python\\Goulib\\Goulib\\drawing.py\u001b[0m in \u001b[0;36mdraw\u001b[1;34m(self, fig, **kwargs)\u001b[0m\n\u001b[0;32m    374\u001b[0m             \u001b[0mfig\u001b[0m\u001b[1;33m=\u001b[0m\u001b[0mself\u001b[0m\u001b[1;33m.\u001b[0m\u001b[0mfigure\u001b[0m\u001b[1;33m(\u001b[0m\u001b[0mself\u001b[0m\u001b[1;33m)\u001b[0m\u001b[1;33m\u001b[0m\u001b[0m\n\u001b[0;32m    375\u001b[0m \u001b[1;33m\u001b[0m\u001b[0m\n\u001b[1;32m--> 376\u001b[1;33m         \u001b[0mp\u001b[0m\u001b[1;33m=\u001b[0m\u001b[0mself\u001b[0m\u001b[1;33m.\u001b[0m\u001b[0mpatches\u001b[0m\u001b[1;33m(\u001b[0m\u001b[1;33m)\u001b[0m \u001b[1;31m#some of which might be Annotations, which aren't patches but Artists...\u001b[0m\u001b[1;33m\u001b[0m\u001b[0m\n\u001b[0m\u001b[0;32m    377\u001b[0m \u001b[1;33m\u001b[0m\u001b[0m\n\u001b[0;32m    378\u001b[0m         \u001b[1;32mfrom\u001b[0m \u001b[0mmatplotlib\u001b[0m\u001b[1;33m.\u001b[0m\u001b[0mpatches\u001b[0m \u001b[1;32mimport\u001b[0m \u001b[0mPatch\u001b[0m\u001b[1;33m\u001b[0m\u001b[0m\n",
        "\u001b[1;32mD:\\Users\\guglie0p\\Develop\\Python\\Goulib\\Goulib\\drawing.py\u001b[0m in \u001b[0;36mpatches\u001b[1;34m(self, **kwargs)\u001b[0m\n\u001b[0;32m    519\u001b[0m         \u001b[0mpatches\u001b[0m\u001b[1;33m=\u001b[0m\u001b[1;33m[\u001b[0m\u001b[1;33m]\u001b[0m\u001b[1;33m\u001b[0m\u001b[0m\n\u001b[0;32m    520\u001b[0m         \u001b[1;32mfor\u001b[0m \u001b[0me\u001b[0m \u001b[1;32min\u001b[0m \u001b[0mself\u001b[0m\u001b[1;33m:\u001b[0m\u001b[1;33m\u001b[0m\u001b[0m\n\u001b[1;32m--> 521\u001b[1;33m             \u001b[0mpatches\u001b[0m\u001b[1;33m.\u001b[0m\u001b[0mextend\u001b[0m\u001b[1;33m(\u001b[0m\u001b[0me\u001b[0m\u001b[1;33m.\u001b[0m\u001b[0mpatches\u001b[0m\u001b[1;33m(\u001b[0m\u001b[1;33m**\u001b[0m\u001b[0mkwargs\u001b[0m\u001b[1;33m)\u001b[0m\u001b[1;33m)\u001b[0m\u001b[1;33m\u001b[0m\u001b[0m\n\u001b[0m\u001b[0;32m    522\u001b[0m         \u001b[1;32mreturn\u001b[0m \u001b[0mpatches\u001b[0m\u001b[1;33m\u001b[0m\u001b[0m\n\u001b[0;32m    523\u001b[0m \u001b[1;33m\u001b[0m\u001b[0m\n",
        "\u001b[1;32mD:\\Users\\guglie0p\\Develop\\Python\\Goulib\\Goulib\\drawing.py\u001b[0m in \u001b[0;36mpatches\u001b[1;34m(self, **kwargs)\u001b[0m\n\u001b[0;32m    519\u001b[0m         \u001b[0mpatches\u001b[0m\u001b[1;33m=\u001b[0m\u001b[1;33m[\u001b[0m\u001b[1;33m]\u001b[0m\u001b[1;33m\u001b[0m\u001b[0m\n\u001b[0;32m    520\u001b[0m         \u001b[1;32mfor\u001b[0m \u001b[0me\u001b[0m \u001b[1;32min\u001b[0m \u001b[0mself\u001b[0m\u001b[1;33m:\u001b[0m\u001b[1;33m\u001b[0m\u001b[0m\n\u001b[1;32m--> 521\u001b[1;33m             \u001b[0mpatches\u001b[0m\u001b[1;33m.\u001b[0m\u001b[0mextend\u001b[0m\u001b[1;33m(\u001b[0m\u001b[0me\u001b[0m\u001b[1;33m.\u001b[0m\u001b[0mpatches\u001b[0m\u001b[1;33m(\u001b[0m\u001b[1;33m**\u001b[0m\u001b[0mkwargs\u001b[0m\u001b[1;33m)\u001b[0m\u001b[1;33m)\u001b[0m\u001b[1;33m\u001b[0m\u001b[0m\n\u001b[0m\u001b[0;32m    522\u001b[0m         \u001b[1;32mreturn\u001b[0m \u001b[0mpatches\u001b[0m\u001b[1;33m\u001b[0m\u001b[0m\n\u001b[0;32m    523\u001b[0m \u001b[1;33m\u001b[0m\u001b[0m\n",
        "\u001b[1;32mD:\\Users\\guglie0p\\Develop\\Python\\Goulib\\Goulib\\drawing.py\u001b[0m in \u001b[0;36mpatches\u001b[1;34m(self, **kwargs)\u001b[0m\n\u001b[0;32m    342\u001b[0m             \u001b[0mpath\u001b[0m \u001b[1;33m=\u001b[0m \u001b[0mPath\u001b[0m\u001b[1;33m(\u001b[0m\u001b[0mself\u001b[0m\u001b[1;33m.\u001b[0m\u001b[0mxy\u001b[0m\u001b[1;33m,\u001b[0m \u001b[1;33m[\u001b[0m\u001b[0mPath\u001b[0m\u001b[1;33m.\u001b[0m\u001b[0mMOVETO\u001b[0m\u001b[1;33m,\u001b[0m \u001b[0mPath\u001b[0m\u001b[1;33m.\u001b[0m\u001b[0mCURVE4\u001b[0m\u001b[1;33m,\u001b[0m \u001b[0mPath\u001b[0m\u001b[1;33m.\u001b[0m\u001b[0mCURVE4\u001b[0m\u001b[1;33m,\u001b[0m \u001b[0mPath\u001b[0m\u001b[1;33m.\u001b[0m\u001b[0mCURVE4\u001b[0m\u001b[1;33m]\u001b[0m\u001b[1;33m)\u001b[0m\u001b[1;33m\u001b[0m\u001b[0m\n\u001b[0;32m    343\u001b[0m             \u001b[1;32mreturn\u001b[0m \u001b[1;33m[\u001b[0m\u001b[0mpatches\u001b[0m\u001b[1;33m.\u001b[0m\u001b[0mPathPatch\u001b[0m\u001b[1;33m(\u001b[0m\u001b[0mpath\u001b[0m\u001b[1;33m,\u001b[0m \u001b[1;33m**\u001b[0m\u001b[0mkwargs\u001b[0m\u001b[1;33m)\u001b[0m\u001b[1;33m]\u001b[0m\u001b[1;33m\u001b[0m\u001b[0m\n\u001b[1;32m--> 344\u001b[1;33m         \u001b[1;32mraise\u001b[0m \u001b[0mNotImplementedError\u001b[0m\u001b[1;33m\u001b[0m\u001b[0m\n\u001b[0m\u001b[0;32m    345\u001b[0m \u001b[1;33m\u001b[0m\u001b[0m\n\u001b[0;32m    346\u001b[0m     \u001b[1;33m@\u001b[0m\u001b[0mstaticmethod\u001b[0m\u001b[1;33m\u001b[0m\u001b[0m\n",
        "\u001b[1;31mNotImplementedError\u001b[0m: "
       ]
      },
      {
       "metadata": {},
       "output_type": "display_data",
       "png": "[encoded data removed]",
       "text": [
        "<matplotlib.figure.Figure at 0x5351650>"
       ]
      }
     ],
     "prompt_number": 19
    },
    {
     "cell_type": "markdown",
     "metadata": {},
     "source": [
      "## Drawing\n",
      "vector graphics in .dxf, .svg and .pdf formats based on Geom"
     ]
    },
    {
     "cell_type": "code",
     "collapsed": false,
     "input": [
      "from Goulib.drawing import *\n",
      "import inspect\n",
      "print 'drawing adds more classes to geom : %s'%dict(inspect.getmembers(sys.modules['Goulib.drawing'], inspect.isclass)).keys()"
     ],
     "language": "python",
     "metadata": {},
     "outputs": []
    },
    {
     "cell_type": "markdown",
     "metadata": {},
     "source": [
      "Geom entities and others defined in Drawing can be grouped :"
     ]
    },
    {
     "cell_type": "code",
     "collapsed": false,
     "input": [
      "r1=Rect((0,0),(-1,1))\n",
      "r2=Rect((1,-1),(2,2))\n",
      "c1=Circle(Point2(4,4),1)\n",
      "c2=Circle(Point2(0,2),.5)\n",
      "s1=r1.connect(r2)\n",
      "s1.color='red'\n",
      "s2=r2.connect(c1)\n",
      "s2.color='red'\n",
      "s3=c1.connect(c2)\n",
      "s3.color='red'\n",
      "\n",
      "g=Group([r1,r2,c1,c2,s1,s2,s3])\n",
      "g"
     ],
     "language": "python",
     "metadata": {},
     "outputs": []
    },
    {
     "cell_type": "markdown",
     "metadata": {},
     "source": [
      "Groups can be handled as entities :"
     ]
    },
    {
     "cell_type": "code",
     "collapsed": false,
     "input": [
      "g2=Trans(scale=2, offset=1, rotation=30)*copy(g)\n",
      "print g.distance(g2)\n",
      "Group([g,g2]) #group of groups"
     ],
     "language": "python",
     "metadata": {},
     "outputs": []
    },
    {
     "cell_type": "markdown",
     "metadata": {},
     "source": [
      "Drawing objects can be read/saved from/to various formats including pdf, svg and dxf "
     ]
    },
    {
     "cell_type": "code",
     "collapsed": false,
     "input": [
      "Drawing('tests/drawing.pdf')"
     ],
     "language": "python",
     "metadata": {},
     "outputs": []
    },
    {
     "cell_type": "code",
     "collapsed": false,
     "input": [
      "Drawing('tests/drawing.svg')"
     ],
     "language": "python",
     "metadata": {},
     "outputs": []
    },
    {
     "cell_type": "code",
     "collapsed": false,
     "input": [
      "Drawing('tests/drawing.dxf')"
     ],
     "language": "python",
     "metadata": {},
     "outputs": []
    },
    {
     "cell_type": "markdown",
     "metadata": {},
     "source": [
      "Drawing also extends geom to allow geometric constructions\n"
     ]
    },
    {
     "cell_type": "code",
     "collapsed": false,
     "input": [
      "d=Drawing()\n",
      "for i,color in enumerate(color_range(100,'blue','orange')):\n",
      "    circle=Circle((i*.1,sin(.1*i)),1)\n",
      "    circle.color=color\n",
      "    d.append(circle)\n",
      "d"
     ],
     "language": "python",
     "metadata": {},
     "outputs": []
    },
    {
     "cell_type": "markdown",
     "metadata": {},
     "source": [
      "##Graph\n",
      "efficient Euclidian Graphs for [NetworkX](http://networkx.github.io/) and related algorithms"
     ]
    },
    {
     "cell_type": "code",
     "collapsed": false,
     "input": [
      "import networkx as nx\n",
      "from Goulib.graph import *"
     ],
     "language": "python",
     "metadata": {},
     "outputs": []
    },
    {
     "cell_type": "code",
     "collapsed": false,
     "input": [
      "g=nx.gn_graph(20)\n",
      "nx.draw_networkx(g)"
     ],
     "language": "python",
     "metadata": {},
     "outputs": []
    },
    {
     "cell_type": "code",
     "collapsed": false,
     "input": [
      "draw_networkx(g) #improved version over nx.draw_networkx"
     ],
     "language": "python",
     "metadata": {},
     "outputs": []
    },
    {
     "cell_type": "code",
     "collapsed": false,
     "input": [
      "geo=nx.geographical_threshold_graph(50,25)\n",
      "geo # NetworkX Graphs do not render in Notebooks..."
     ],
     "language": "python",
     "metadata": {},
     "outputs": []
    },
    {
     "cell_type": "code",
     "collapsed": false,
     "input": [
      "geo=GeoGraph(geo)\n",
      "geo # GeoGraphs do !"
     ],
     "language": "python",
     "metadata": {},
     "outputs": []
    },
    {
     "cell_type": "code",
     "collapsed": false,
     "input": [
      "# it's easy to make GeoGraphs look nice\n",
      "def edge_color(data): # simply define a function that maps edge data to a color\n",
      "    return plt.get_cmap('Blues')(data['length']/.25)       \n",
      "geo.render(edge_color=edge_color, node_size=50) #this will set geo.render_args ...\n",
      "geo #... so here we display them :-)"
     ],
     "language": "python",
     "metadata": {},
     "outputs": []
    },
    {
     "cell_type": "code",
     "collapsed": false,
     "input": [
      "d=to_drawing(geo) # graphs can also be converted or added to a Goulib.Drawing\n",
      "c=Circle((0.5,0.5),0.5)\n",
      "c.color='red'\n",
      "d.append(c)"
     ],
     "language": "python",
     "metadata": {},
     "outputs": []
    },
    {
     "cell_type": "code",
     "collapsed": false,
     "input": [
      "nodes=points_on_sphere(12)\n",
      "sphere=GeoGraph(nodes=nodes) #GeoGraphs can also be built from n-dim points only\n",
      "sphere.render(edge_color=edge_color, node_size=50) #this will set geo.render_args ...\n",
      "sphere"
     ],
     "language": "python",
     "metadata": {},
     "outputs": []
    },
    {
     "cell_type": "markdown",
     "metadata": {},
     "source": [
      "##Polynomial"
     ]
    },
    {
     "cell_type": "code",
     "collapsed": false,
     "input": [
      "from Goulib.polynomial import *\n",
      "\n",
      "p1=Polynomial([-1,1,3]) # inited from coefficients in ascending power order\n",
      "p1 # Latex output"
     ],
     "language": "python",
     "metadata": {},
     "outputs": []
    },
    {
     "cell_type": "code",
     "collapsed": false,
     "input": [
      "p2=Polynomial('- 5x^3 +3*x') # inited from string, in any power order, with optional spaces and *\n",
      "p2"
     ],
     "language": "python",
     "metadata": {},
     "outputs": []
    },
    {
     "cell_type": "code",
     "collapsed": false,
     "input": [
      "print [round(p1(x),3) for x in arange(-1,1,.2)] #evaluation"
     ],
     "language": "python",
     "metadata": {},
     "outputs": []
    },
    {
     "cell_type": "code",
     "collapsed": false,
     "input": [
      "p1-p2+2 # addition and subtraction of polynomials and scalars"
     ],
     "language": "python",
     "metadata": {},
     "outputs": []
    },
    {
     "cell_type": "code",
     "collapsed": false,
     "input": [
      "-p1*p2**2 # polynomial (and scalar) multiplication and scalar power"
     ],
     "language": "python",
     "metadata": {},
     "outputs": []
    },
    {
     "cell_type": "code",
     "collapsed": false,
     "input": [
      "p1.derivative()+p2.integral() #integral and derivative"
     ],
     "language": "python",
     "metadata": {},
     "outputs": []
    },
    {
     "cell_type": "markdown",
     "metadata": {},
     "source": [
      "## Motion\n",
      "\"motion laws\", functions of time which return (position, velocity, acceleration, jerk) tuples"
     ]
    },
    {
     "cell_type": "code",
     "collapsed": false,
     "input": [
      "from Goulib.motion import *\n",
      "\n",
      "def plot(pva,t0=None,t1=None,ylim=None):\n",
      "    \"\"\"plots a Segment on pylab\"\"\"\n",
      "    if t0 is None: t0=pva.t0\n",
      "    if t1 is None: t1=pva.t1\n",
      "    x = np.arange(t0,t1, (t1-t0)/100.);\n",
      "    y = [pva(t) for t in x]\n",
      "    y=map(list, zip(*y)) #transpose because of \n",
      "    labels=['Pos','Vel','Acc','Jrk']\n",
      "    for y_arr, label in zip(y, labels):\n",
      "        pylab.plot(x, y_arr, label=label)\n",
      "    pylab.legend()\n",
      "    if ylim: pylab.ylim(ylim)\n",
      "    pylab.show() "
     ],
     "language": "python",
     "metadata": {},
     "outputs": []
    },
    {
     "cell_type": "markdown",
     "metadata": {},
     "source": [
      "##Segments"
     ]
    },
    {
     "cell_type": "markdown",
     "metadata": {},
     "source": [
      "### Polynomial Segments\n",
      "\n",
      "Polynomials are very handy to define Segments as coefficients can easily be determined from start/end conditions.\n",
      "Also, polynomials can easily be integrated or derivated in order to obtain position, velocity, or acceleration laws from each other.\n",
      "\n",
      "Motion defines several handy functions that return SegmentPoly matching common situations"
     ]
    },
    {
     "cell_type": "code",
     "collapsed": false,
     "input": [
      "seg=Segment2ndDegree(0,1,(-1,1,2)) # time interval and initial position\n",
      "plot(seg)"
     ],
     "language": "python",
     "metadata": {},
     "outputs": []
    },
    {
     "cell_type": "code",
     "collapsed": false,
     "input": [
      "seg=Segment4thDegree(0,None,(-2,1),(2,3))\n",
      "plot(seg,ylim=[-2,4])"
     ],
     "language": "python",
     "metadata": {},
     "outputs": []
    },
    {
     "cell_type": "code",
     "collapsed": false,
     "input": [
      "seg=Segment4thDegree(0,2,(-2,1),(None,3))\n",
      "plot(seg,ylim=[-2,4])"
     ],
     "language": "python",
     "metadata": {},
     "outputs": []
    },
    {
     "cell_type": "markdown",
     "metadata": {},
     "source": [
      "## Interval\n",
      "operations on [a..b[ intervals"
     ]
    },
    {
     "cell_type": "code",
     "collapsed": false,
     "input": [
      "from Goulib.interval import *\n",
      "\n",
      "Interval(5,6)+Interval(2,3)+Interval(3,4)"
     ],
     "language": "python",
     "metadata": {},
     "outputs": []
    },
    {
     "cell_type": "markdown",
     "metadata": {},
     "source": [
      "## Piecewise\n",
      "Piecewise defined functions"
     ]
    },
    {
     "cell_type": "code",
     "collapsed": false,
     "input": [
      "from Goulib.piecewise import *\n",
      "\n",
      "def plot(pwfs,ylim=None,labels=None,offset=None,max=None):\n",
      "    \"\"\"plots function\"\"\"\n",
      "    if isinstance(pwfs,Piecewise):\n",
      "        pwfs=[pwfs]\n",
      "    for i,pwf in enumerate(pwfs):\n",
      "        (x,y)=pwf.points(max=max)\n",
      "        if offset:\n",
      "            x=[x+i*offset for x in x]\n",
      "            y=[y+i*offset for y in y]\n",
      "        try:\n",
      "            label=labels[i]\n",
      "        except:\n",
      "            label=''\n",
      "        pylab.plot(x, y, label=label)\n",
      "        \n",
      "    if ylim: pylab.ylim(ylim)\n",
      "    if legend: pylab.legend()\n",
      "    pylab.show() "
     ],
     "language": "python",
     "metadata": {},
     "outputs": []
    },
    {
     "cell_type": "markdown",
     "metadata": {},
     "source": [
      "The simplest are piecewise continuous functions. They are defined by $(x_i,y_i)$ tuples given in any order. \n",
      "\n",
      "$f(x) = \\begin{cases}y_0 & x < x_1 \\\\ y_i & x_i \\le x < x_{i+1} \\\\ y_n & x > x_n \\end{cases}$"
     ]
    },
    {
     "cell_type": "code",
     "collapsed": false,
     "input": [
      "p1=Piecewise([(4,4),(3,3),(1,1),(5,0)])\n",
      "plot(p1,max=6,ylim=(-1,5))"
     ],
     "language": "python",
     "metadata": {},
     "outputs": []
    },
    {
     "cell_type": "markdown",
     "metadata": {},
     "source": [
      "By default y0=0 , but it can be specified at construction.\n",
      "\n",
      "Piecewise functions can also be defined by adding (x0,y,x1) segments"
     ]
    },
    {
     "cell_type": "code",
     "collapsed": false,
     "input": [
      "p2=Piecewise(default=1)\n",
      "p2+=(2.5,1,6.5)\n",
      "p2+=(1.5,1,3.5)\n",
      "plot(p2,max=7,ylim=(-1,5))"
     ],
     "language": "python",
     "metadata": {},
     "outputs": []
    },
    {
     "cell_type": "code",
     "collapsed": false,
     "input": [
      "plot([p1,p2,p1+p2,p1-p2,p1*p2,p1/p2],\n",
      "     labels=['p1','p2','p1+p2','p1-p2','p1*p2','p1/p2'],\n",
      "     max=7,ylim=(-2,10), offset=0.02)"
     ],
     "language": "python",
     "metadata": {},
     "outputs": []
    },
    {
     "cell_type": "code",
     "collapsed": false,
     "input": [
      "p1=Piecewise([(2,True)],False)\n",
      "p2=Piecewise([(1,True),(2,False),(3,True)],False)\n",
      "plot([p1,p2,p1|p2,p1&p2,p1^p2,p1>>3],\n",
      "     labels=['p1','p2','p1 or p2','p1 and p2','p1 xor p2','p1>>3'],\n",
      "     max=7,ylim=(-1,2), offset=0.02)"
     ],
     "language": "python",
     "metadata": {},
     "outputs": []
    },
    {
     "cell_type": "code",
     "collapsed": false,
     "input": [
      "import matplotlib\n",
      "matplotlib.use('webagg')\n",
      "import matplotlib.pyplot as plt\n",
      "plt.plot(range(10))\n",
      "plt.show()"
     ],
     "language": "python",
     "metadata": {},
     "outputs": []
    },
    {
     "cell_type": "markdown",
     "metadata": {},
     "source": [
      "##Stats"
     ]
    },
    {
     "cell_type": "code",
     "collapsed": false,
     "input": [
      "from Goulib.stats import *\n",
      "\n",
      "def plot_pdf(dist,N=1,a=0.01,b=.99):\n",
      "    fig, ax = plt.subplots(1, 1)\n",
      "    x = np.linspace(d.ppf(a), d.ppf(b), 100)\n",
      "    ax.plot(x, dist.pdf(x)*N, 'k-', lw=2)"
     ],
     "language": "python",
     "metadata": {},
     "outputs": []
    }
   ],
   "metadata": {}
  }
 ]
}