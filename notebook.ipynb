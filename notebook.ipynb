{
 "metadata": {
  "name": "",
  "signature": "sha256:26676842627e6ff842445e1100e5a618eda3b8a4e30e2a7c1b9c2eb7c1ce97af"
 },
 "nbformat": 3,
 "nbformat_minor": 0,
 "worksheets": [
  {
   "cells": [
    {
     "cell_type": "markdown",
     "metadata": {},
     "source": [
      "# Goulib\n",
      "my library of useful code for scientific + technical applications\n",
      "\n",
      "- author: Philippe Guglielmetti goulib@goulu.net\n",
      "- copyright: Copyright 2013 Philippe Guglielmetti\n",
      "- license: LGPL (see LICENSE.TXT)\n",
      "\n",
      "- installation : \"pip install Goulib\"\n",
      "- distribution: https://pypi.python.org/pypi/Goulib\n",
      "- documentation: https://goulib.readthedocs.org/\n",
      "- source : https://github.com/goulu/Goulib\n",
      "\n",
      "Some modules offer specific IPython Notebook support\n"
     ]
    },
    {
     "cell_type": "code",
     "collapsed": false,
     "input": [
      "from IPython.display import display, HTML, Math, Latex # some IPython Notebook utilities\n",
      "from Goulib import math2, itertools2 #Goulib modules that complement std modules"
     ],
     "language": "python",
     "metadata": {},
     "outputs": [],
     "prompt_number": 2
    },
    {
     "cell_type": "markdown",
     "metadata": {},
     "source": [
      "## Colors"
     ]
    },
    {
     "cell_type": "code",
     "collapsed": false,
     "input": [
      "from Goulib.colors import *"
     ],
     "language": "python",
     "metadata": {},
     "outputs": [],
     "prompt_number": 3
    },
    {
     "cell_type": "code",
     "collapsed": false,
     "input": [
      "c=color['blue'] # color is a dict of most used colors indexed by name\n",
      "print c, color_lookup[c] # reversed dict to retrieve color name by hex string"
     ],
     "language": "python",
     "metadata": {},
     "outputs": [
      {
       "output_type": "stream",
       "stream": "stdout",
       "text": [
        "#0000ff blue\n"
       ]
      }
     ],
     "prompt_number": 5
    },
    {
     "cell_type": "code",
     "collapsed": false,
     "input": [
      "red=Color('red') #Color objects can be init'ed by name,\n",
      "green=Color('#00ff00') # by RGB hex string,\n",
      "blue=Color((0,0,1)) #or by RGB triplet\n",
      "\n",
      "c=red+blue #colors can be added\n",
      "print c.name, c.hex, c.rgb # see ? the color name of the sum is correct too !\n",
      "c # Color objects have an HTML representation"
     ],
     "language": "python",
     "metadata": {},
     "outputs": [
      {
       "output_type": "stream",
       "stream": "stdout",
       "text": [
        "magenta #ff00ff [1.0, 0.0, 1.0]\n"
       ]
      },
      {
       "html": [
        "<div style=\"color:#ff00ff\">magenta</div>"
       ],
       "metadata": {},
       "output_type": "pyout",
       "prompt_number": 6,
       "text": [
        "Color('magenta')"
       ]
      }
     ],
     "prompt_number": 6
    },
    {
     "cell_type": "code",
     "collapsed": false,
     "input": [
      "c= Color('gray')-red # colors can be substracted too. RGB values might go off bounds, but hex is bounded\n",
      "print c.name, c.hex, c.rgb # see ? the color name of the sum is correct too !\n",
      "c"
     ],
     "language": "python",
     "metadata": {},
     "outputs": [
      {
       "output_type": "stream",
       "stream": "stdout",
       "text": [
        "teal #008080 [-0.4980392156862745, 0.5019607843137255, 0.5019607843137255]\n"
       ]
      },
      {
       "html": [
        "<div style=\"color:#008080\">teal</div>"
       ],
       "metadata": {},
       "output_type": "pyout",
       "prompt_number": 7,
       "text": [
        "Color('teal')"
       ]
      }
     ],
     "prompt_number": 7
    },
    {
     "cell_type": "code",
     "collapsed": false,
     "input": [
      "from random import random\n",
      "Color((random(),random(),random())) # unknown colors recieve name of the nearest known color\n",
      "# re-run this cell to see changes"
     ],
     "language": "python",
     "metadata": {},
     "outputs": [
      {
       "html": [
        "<div style=\"color:#abc046\">~yellowgreen</div>"
       ],
       "metadata": {},
       "output_type": "pyout",
       "prompt_number": 8,
       "text": [
        "Color('#abc046')"
       ]
      }
     ],
     "prompt_number": 8
    },
    {
     "cell_type": "code",
     "collapsed": false,
     "input": [
      "def html(iterable):\n",
      "    for _ in iterable:\n",
      "        display(_)\n",
      "html(map(Color,color_range(5,'blue','orange')))"
     ],
     "language": "python",
     "metadata": {},
     "outputs": [
      {
       "html": [
        "<div style=\"color:#0000ff\">blue</div>"
       ],
       "metadata": {},
       "output_type": "display_data",
       "text": [
        "Color('blue')"
       ]
      },
      {
       "html": [
        "<div style=\"color:#00d5ff\">~deepskyblue</div>"
       ],
       "metadata": {},
       "output_type": "display_data",
       "text": [
        "Color('#00d5ff')"
       ]
      },
      {
       "html": [
        "<div style=\"color:#00ff52\">~springgreen</div>"
       ],
       "metadata": {},
       "output_type": "display_data",
       "text": [
        "Color('#00ff52')"
       ]
      },
      {
       "html": [
        "<div style=\"color:#83ff00\">~chartreuse</div>"
       ],
       "metadata": {},
       "output_type": "display_data",
       "text": [
        "Color('#83ff00')"
       ]
      },
      {
       "html": [
        "<div style=\"color:#ffa400\">~orange</div>"
       ],
       "metadata": {},
       "output_type": "display_data",
       "text": [
        "Color('#ffa400')"
       ]
      }
     ],
     "prompt_number": 9
    },
    {
     "cell_type": "markdown",
     "metadata": {},
     "source": [
      "## Table\n",
      "Table class with Excel + CSV I/O, easy access to columns, HTML output, and much more."
     ]
    },
    {
     "cell_type": "code",
     "collapsed": false,
     "input": [
      "from Goulib.table import *\n",
      "Table(titles=['A','B'],data=[['first',2],[3,'last']]) # a very simple table"
     ],
     "language": "python",
     "metadata": {},
     "outputs": [
      {
       "html": [
        "<table><thead>\n",
        "<tr><th>A</th><th>B</th></tr>\n",
        "</thead>\n",
        "<tr><td>first</td><td align=\"right\">2</td></tr>\n",
        "<tr><td align=\"right\">3</td><td>last</td></tr>\n",
        "</table>\n"
       ],
       "metadata": {},
       "output_type": "pyout",
       "prompt_number": 10,
       "text": [
        "Table(len=2,titles=['A', 'B'],data=[['first', 2], [3, 'last']])"
       ]
      }
     ],
     "prompt_number": 10
    },
    {
     "cell_type": "code",
     "collapsed": false,
     "input": [
      "t=Table('tests/test.xls') # read Excel files thanks to xlrd (http://www.python-excel.org/)"
     ],
     "language": "python",
     "metadata": {},
     "outputs": [],
     "prompt_number": 11
    },
    {
     "cell_type": "code",
     "collapsed": false,
     "input": [
      "print t.titles #column headers can be used as indexes\n",
      "print\n",
      "print t[:3] # since a Table is a list of rows, rows can be accessed by indexing. \n",
      "print\n",
      "print t.rowasdict(1) #a row can be extracted as a dict where column titles are keys"
     ],
     "language": "python",
     "metadata": {},
     "outputs": [
      {
       "output_type": "stream",
       "stream": "stdout",
       "text": [
        "[u'OrderDate', u'Region', u'Rep', u'Item', u'Units', u'Cost', u'Total']\n",
        "\n",
        "[[41061, u'East', u'Jones', u'Pencil', 95, 1.99, 189.05], [u'1/23/2012', u'Central', u'Kivell', u'Binder', 50, 19.99, 999.5], [41154, u'Central', u'Jardine', u'Pencil', 36, 4.99, 179.64]]\n",
        "\n",
        "{u'Region': u'Central', u'Item': u'Binder', u'Cost': 19.99, u'Rep': u'Kivell', u'Units': 50, u'Total': 999.5, u'OrderDate': u'1/23/2012'}\n"
       ]
      }
     ],
     "prompt_number": 12
    },
    {
     "cell_type": "code",
     "collapsed": false,
     "input": [
      "# handle the mess in Excel Cell types ...\n",
      "t.to_date('OrderDate',fmt=['%m/%d/%Y','Excel']) #converts column to date using several possible formats...\n",
      "t.applyf('Cost',float) # apply a function to a column. Here force the column to contain floats\n",
      "t.applyf('Total',lambda x:float(x) if isinstance(x,(int,float)) else float(x.replace(',','')))"
     ],
     "language": "python",
     "metadata": {},
     "outputs": [
      {
       "output_type": "stream",
       "stream": "stderr",
       "text": [
        "ERROR:root:could not applyf to 1/23/2012\n"
       ]
      },
      {
       "ename": "ValueError",
       "evalue": "",
       "output_type": "pyerr",
       "traceback": [
        "\u001b[1;31m---------------------------------------------------------------------------\u001b[0m\n\u001b[1;31mValueError\u001b[0m                                Traceback (most recent call last)",
        "\u001b[1;32m<ipython-input-13-16ac416c76f3>\u001b[0m in \u001b[0;36m<module>\u001b[1;34m()\u001b[0m\n\u001b[0;32m      1\u001b[0m \u001b[1;31m# handle the mess in Excel Cell types ...\u001b[0m\u001b[1;33m\u001b[0m\u001b[1;33m\u001b[0m\u001b[0m\n\u001b[1;32m----> 2\u001b[1;33m \u001b[0mt\u001b[0m\u001b[1;33m.\u001b[0m\u001b[0mto_date\u001b[0m\u001b[1;33m(\u001b[0m\u001b[1;34m'OrderDate'\u001b[0m\u001b[1;33m,\u001b[0m\u001b[0mfmt\u001b[0m\u001b[1;33m=\u001b[0m\u001b[1;33m[\u001b[0m\u001b[1;34m'%m/%d/%Y'\u001b[0m\u001b[1;33m,\u001b[0m\u001b[1;34m'Excel'\u001b[0m\u001b[1;33m]\u001b[0m\u001b[1;33m)\u001b[0m \u001b[1;31m#converts column to date using several possible formats...\u001b[0m\u001b[1;33m\u001b[0m\u001b[0m\n\u001b[0m\u001b[0;32m      3\u001b[0m \u001b[0mt\u001b[0m\u001b[1;33m.\u001b[0m\u001b[0mapplyf\u001b[0m\u001b[1;33m(\u001b[0m\u001b[1;34m'Cost'\u001b[0m\u001b[1;33m,\u001b[0m\u001b[0mfloat\u001b[0m\u001b[1;33m)\u001b[0m \u001b[1;31m# apply a function to a column. Here force the column to contain floats\u001b[0m\u001b[1;33m\u001b[0m\u001b[0m\n\u001b[0;32m      4\u001b[0m \u001b[0mt\u001b[0m\u001b[1;33m.\u001b[0m\u001b[0mapplyf\u001b[0m\u001b[1;33m(\u001b[0m\u001b[1;34m'Total'\u001b[0m\u001b[1;33m,\u001b[0m\u001b[1;32mlambda\u001b[0m \u001b[0mx\u001b[0m\u001b[1;33m:\u001b[0m\u001b[0mfloat\u001b[0m\u001b[1;33m(\u001b[0m\u001b[0mx\u001b[0m\u001b[1;33m)\u001b[0m \u001b[1;32mif\u001b[0m \u001b[0misinstance\u001b[0m\u001b[1;33m(\u001b[0m\u001b[0mx\u001b[0m\u001b[1;33m,\u001b[0m\u001b[1;33m(\u001b[0m\u001b[0mint\u001b[0m\u001b[1;33m,\u001b[0m\u001b[0mfloat\u001b[0m\u001b[1;33m)\u001b[0m\u001b[1;33m)\u001b[0m \u001b[1;32melse\u001b[0m \u001b[0mfloat\u001b[0m\u001b[1;33m(\u001b[0m\u001b[0mx\u001b[0m\u001b[1;33m.\u001b[0m\u001b[0mreplace\u001b[0m\u001b[1;33m(\u001b[0m\u001b[1;34m','\u001b[0m\u001b[1;33m,\u001b[0m\u001b[1;34m''\u001b[0m\u001b[1;33m)\u001b[0m\u001b[1;33m)\u001b[0m\u001b[1;33m)\u001b[0m\u001b[1;33m\u001b[0m\u001b[0m\n",
        "\u001b[1;32mD:\\Users\\guglie0p\\Develop\\Python\\Goulib\\Goulib\\table.pyc\u001b[0m in \u001b[0;36mto_date\u001b[1;34m(self, by, fmt, skiperrors)\u001b[0m\n\u001b[0;32m    527\u001b[0m         \u001b[1;32mif\u001b[0m \u001b[0misinstance\u001b[0m\u001b[1;33m(\u001b[0m\u001b[0mfmt\u001b[0m\u001b[1;33m,\u001b[0m\u001b[0mlist\u001b[0m\u001b[1;33m)\u001b[0m\u001b[1;33m:\u001b[0m\u001b[1;33m\u001b[0m\u001b[0m\n\u001b[0;32m    528\u001b[0m             \u001b[1;32mfor\u001b[0m \u001b[0mf\u001b[0m \u001b[1;32min\u001b[0m \u001b[0mfmt\u001b[0m\u001b[1;33m:\u001b[0m\u001b[1;33m\u001b[0m\u001b[0m\n\u001b[1;32m--> 529\u001b[1;33m                 \u001b[0mres\u001b[0m\u001b[1;33m=\u001b[0m\u001b[0mself\u001b[0m\u001b[1;33m.\u001b[0m\u001b[0mto_date\u001b[0m\u001b[1;33m(\u001b[0m\u001b[0mby\u001b[0m\u001b[1;33m,\u001b[0m \u001b[0mf\u001b[0m\u001b[1;33m,\u001b[0m \u001b[0mskiperrors\u001b[0m\u001b[1;33m=\u001b[0m\u001b[0mTrue\u001b[0m \u001b[1;32mif\u001b[0m \u001b[0mf\u001b[0m\u001b[1;33m!=\u001b[0m\u001b[0mfmt\u001b[0m\u001b[1;33m[\u001b[0m\u001b[1;33m-\u001b[0m\u001b[1;36m1\u001b[0m\u001b[1;33m]\u001b[0m \u001b[1;32melse\u001b[0m \u001b[0mskiperrors\u001b[0m\u001b[1;33m)\u001b[0m\u001b[1;33m\u001b[0m\u001b[0m\n\u001b[0m\u001b[0;32m    530\u001b[0m             \u001b[1;32mreturn\u001b[0m \u001b[0mres\u001b[0m\u001b[1;33m\u001b[0m\u001b[0m\n\u001b[0;32m    531\u001b[0m         \u001b[1;32mreturn\u001b[0m \u001b[0mself\u001b[0m\u001b[1;33m.\u001b[0m\u001b[0mapplyf\u001b[0m\u001b[1;33m(\u001b[0m\u001b[0mby\u001b[0m\u001b[1;33m,\u001b[0m\u001b[1;32mlambda\u001b[0m \u001b[0mx\u001b[0m\u001b[1;33m:\u001b[0m \u001b[0mdatef\u001b[0m\u001b[1;33m(\u001b[0m\u001b[0mx\u001b[0m\u001b[1;33m,\u001b[0m\u001b[0mfmt\u001b[0m\u001b[1;33m=\u001b[0m\u001b[0mfmt\u001b[0m\u001b[1;33m)\u001b[0m\u001b[1;33m,\u001b[0m\u001b[0mskiperrors\u001b[0m\u001b[1;33m)\u001b[0m\u001b[1;33m\u001b[0m\u001b[0m\n",
        "\u001b[1;32mD:\\Users\\guglie0p\\Develop\\Python\\Goulib\\Goulib\\table.pyc\u001b[0m in \u001b[0;36mto_date\u001b[1;34m(self, by, fmt, skiperrors)\u001b[0m\n\u001b[0;32m    529\u001b[0m                 \u001b[0mres\u001b[0m\u001b[1;33m=\u001b[0m\u001b[0mself\u001b[0m\u001b[1;33m.\u001b[0m\u001b[0mto_date\u001b[0m\u001b[1;33m(\u001b[0m\u001b[0mby\u001b[0m\u001b[1;33m,\u001b[0m \u001b[0mf\u001b[0m\u001b[1;33m,\u001b[0m \u001b[0mskiperrors\u001b[0m\u001b[1;33m=\u001b[0m\u001b[0mTrue\u001b[0m \u001b[1;32mif\u001b[0m \u001b[0mf\u001b[0m\u001b[1;33m!=\u001b[0m\u001b[0mfmt\u001b[0m\u001b[1;33m[\u001b[0m\u001b[1;33m-\u001b[0m\u001b[1;36m1\u001b[0m\u001b[1;33m]\u001b[0m \u001b[1;32melse\u001b[0m \u001b[0mskiperrors\u001b[0m\u001b[1;33m)\u001b[0m\u001b[1;33m\u001b[0m\u001b[0m\n\u001b[0;32m    530\u001b[0m             \u001b[1;32mreturn\u001b[0m \u001b[0mres\u001b[0m\u001b[1;33m\u001b[0m\u001b[0m\n\u001b[1;32m--> 531\u001b[1;33m         \u001b[1;32mreturn\u001b[0m \u001b[0mself\u001b[0m\u001b[1;33m.\u001b[0m\u001b[0mapplyf\u001b[0m\u001b[1;33m(\u001b[0m\u001b[0mby\u001b[0m\u001b[1;33m,\u001b[0m\u001b[1;32mlambda\u001b[0m \u001b[0mx\u001b[0m\u001b[1;33m:\u001b[0m \u001b[0mdatef\u001b[0m\u001b[1;33m(\u001b[0m\u001b[0mx\u001b[0m\u001b[1;33m,\u001b[0m\u001b[0mfmt\u001b[0m\u001b[1;33m=\u001b[0m\u001b[0mfmt\u001b[0m\u001b[1;33m)\u001b[0m\u001b[1;33m,\u001b[0m\u001b[0mskiperrors\u001b[0m\u001b[1;33m)\u001b[0m\u001b[1;33m\u001b[0m\u001b[0m\n\u001b[0m\u001b[0;32m    532\u001b[0m \u001b[1;33m\u001b[0m\u001b[0m\n\u001b[0;32m    533\u001b[0m \u001b[1;33m\u001b[0m\u001b[0m\n",
        "\u001b[1;32mD:\\Users\\guglie0p\\Develop\\Python\\Goulib\\Goulib\\table.pyc\u001b[0m in \u001b[0;36mapplyf\u001b[1;34m(self, by, f, skiperrors)\u001b[0m\n\u001b[0;32m    501\u001b[0m                 \u001b[1;32mif\u001b[0m \u001b[1;32mnot\u001b[0m \u001b[0mskiperrors\u001b[0m\u001b[1;33m:\u001b[0m\u001b[1;33m\u001b[0m\u001b[0m\n\u001b[0;32m    502\u001b[0m                     \u001b[0mlogging\u001b[0m\u001b[1;33m.\u001b[0m\u001b[0merror\u001b[0m\u001b[1;33m(\u001b[0m\u001b[1;34m'could not applyf to %s'\u001b[0m\u001b[1;33m%\u001b[0m\u001b[0mx\u001b[0m\u001b[1;33m)\u001b[0m\u001b[1;33m\u001b[0m\u001b[0m\n\u001b[1;32m--> 503\u001b[1;33m                     \u001b[1;32mraise\u001b[0m\u001b[1;33m(\u001b[0m\u001b[0mValueError\u001b[0m\u001b[1;33m)\u001b[0m\u001b[1;33m\u001b[0m\u001b[0m\n\u001b[0m\u001b[0;32m    504\u001b[0m                 \u001b[0mres\u001b[0m\u001b[1;33m=\u001b[0m\u001b[0mFalse\u001b[0m\u001b[1;33m\u001b[0m\u001b[0m\n\u001b[0;32m    505\u001b[0m         \u001b[1;32mreturn\u001b[0m \u001b[0mres\u001b[0m\u001b[1;33m\u001b[0m\u001b[0m\n",
        "\u001b[1;31mValueError\u001b[0m: "
       ]
      }
     ],
     "prompt_number": 13
    },
    {
     "cell_type": "code",
     "collapsed": false,
     "input": [
      "t[10:]=[] #keep only the 10 first lines to save space below\n",
      "t.sort('Total',reverse=True) # Tables can be sorted like lists\n",
      "t.total([max,itertools2.count_unique,itertools2.count_unique,itertools2.count_unique,sum,math2.mean,sum])\n",
      "t.footer #contains the result of the last call to total "
     ],
     "language": "python",
     "metadata": {},
     "outputs": []
    },
    {
     "cell_type": "code",
     "collapsed": false,
     "input": [
      "t # HTML representation in Notebook. Note the title/header and total/footer rows and cell alignment"
     ],
     "language": "python",
     "metadata": {},
     "outputs": []
    },
    {
     "cell_type": "code",
     "collapsed": false,
     "input": [
      "region=t.groupby('Region') # dictionary of subtables grouped by a column\n",
      "region['East'] # isn't it nice ?"
     ],
     "language": "python",
     "metadata": {},
     "outputs": []
    },
    {
     "cell_type": "markdown",
     "metadata": {},
     "source": [
      "##Geom\n",
      "Vector, matrix and quaternion operations + line, arc, circle entities for use in 2D and 3D graphics applications.\n"
     ]
    },
    {
     "cell_type": "code",
     "collapsed": false,
     "input": [
      "from Goulib.geom import *\n",
      "import inspect\n",
      "print 'geom defines many classes : %s'%dict(inspect.getmembers(sys.modules['Goulib.geom'], inspect.isclass)).keys()"
     ],
     "language": "python",
     "metadata": {},
     "outputs": []
    },
    {
     "cell_type": "markdown",
     "metadata": {},
     "source": [
      "## Drawing\n",
      "handle vector graphics in .dxf, .svg and .pdf formats"
     ]
    },
    {
     "cell_type": "code",
     "collapsed": false,
     "input": [
      "from Goulib.drawing import * #don't know how to get rid of this warning message"
     ],
     "language": "python",
     "metadata": {},
     "outputs": []
    },
    {
     "cell_type": "code",
     "collapsed": false,
     "input": [
      "d=Drawing('tests/drawing.dxf') # try to change .pdf in .svg or .dxf here : it works !\n",
      "d"
     ],
     "language": "python",
     "metadata": {},
     "outputs": []
    },
    {
     "cell_type": "code",
     "collapsed": false,
     "input": [
      "d.block"
     ],
     "language": "python",
     "metadata": {},
     "outputs": []
    },
    {
     "cell_type": "code",
     "collapsed": false,
     "input": [
      "d=Drawing()\n",
      "for i,color in enumerate(color_range(100,'blue','orange')):\n",
      "    circle=Circle((i*.1,sin(.1*i)),1)\n",
      "    circle.color=color\n",
      "    d.append(circle)\n",
      "d"
     ],
     "language": "python",
     "metadata": {},
     "outputs": []
    },
    {
     "cell_type": "markdown",
     "metadata": {},
     "source": [
      "##Graph\n",
      "efficient Euclidian Graphs for [NetworkX](http://networkx.github.io/) and related algorithms"
     ]
    },
    {
     "cell_type": "code",
     "collapsed": false,
     "input": [
      "import networkx as nx\n",
      "geo=nx.geographical_threshold_graph(50,25)\n",
      "geo # NetworkX Graphs do not render in Notebooks..."
     ],
     "language": "python",
     "metadata": {},
     "outputs": []
    },
    {
     "cell_type": "code",
     "collapsed": false,
     "input": [
      "from Goulib.graph import *\n",
      "geo=GeoGraph(geo)\n",
      "geo # GeoGraphs do !"
     ],
     "language": "python",
     "metadata": {},
     "outputs": []
    },
    {
     "cell_type": "code",
     "collapsed": false,
     "input": [
      "# it's easy to make GeoGraphs look nice\n",
      "def edge_color(data): # simply define a function that maps edge data to a color\n",
      "    return plt.get_cmap('Blues')(data['length']/.25)       \n",
      "geo.render(edge_color=edge_color, node_size=50) #this will set geo.render_args ...\n",
      "geo #... so here we display them :-)"
     ],
     "language": "python",
     "metadata": {},
     "outputs": []
    },
    {
     "cell_type": "code",
     "collapsed": false,
     "input": [
      "nodes=points_on_sphere(12)\n",
      "sphere=GeoGraph(nodes=nodes) #GeoGraphs can also be built from n-dim points only\n",
      "sphere.render(edge_color=edge_color, node_size=50) #this will set geo.render_args ...\n",
      "sphere"
     ],
     "language": "python",
     "metadata": {},
     "outputs": []
    },
    {
     "cell_type": "markdown",
     "metadata": {},
     "source": [
      "##Polynomial"
     ]
    },
    {
     "cell_type": "code",
     "collapsed": false,
     "input": [
      "from Goulib.polynomial import *\n",
      "\n",
      "p1=Polynomial([-1,1,3]) # inited from coefficients in ascending power order\n",
      "p1 # Latex output"
     ],
     "language": "python",
     "metadata": {},
     "outputs": []
    },
    {
     "cell_type": "code",
     "collapsed": false,
     "input": [
      "p2=Polynomial('- 5x^3 +3*x') # inited from string, in any power order, with optional spaces and *\n",
      "p2"
     ],
     "language": "python",
     "metadata": {},
     "outputs": []
    },
    {
     "cell_type": "code",
     "collapsed": false,
     "input": [
      "print [round(p1(x),3) for x in arange(-1,1,.2)] #evaluation"
     ],
     "language": "python",
     "metadata": {},
     "outputs": []
    },
    {
     "cell_type": "code",
     "collapsed": false,
     "input": [
      "p1-p2+2 # addition and subtraction of polynomials and scalars"
     ],
     "language": "python",
     "metadata": {},
     "outputs": []
    },
    {
     "cell_type": "code",
     "collapsed": false,
     "input": [
      "-p1*p2**2 # polynomial (and scalar) multiplication and scalar power"
     ],
     "language": "python",
     "metadata": {},
     "outputs": []
    },
    {
     "cell_type": "code",
     "collapsed": false,
     "input": [
      "p1.derivative()+p2.integral() #integral and derivative"
     ],
     "language": "python",
     "metadata": {},
     "outputs": []
    },
    {
     "cell_type": "markdown",
     "metadata": {},
     "source": [
      "## Motion\n",
      "\"motion laws\", functions of time which return (position, velocity, acceleration, jerk) tuples"
     ]
    },
    {
     "cell_type": "code",
     "collapsed": false,
     "input": [
      "from Goulib.motion import *\n",
      "\n",
      "def plot(pva,t0=None,t1=None,ylim=None):\n",
      "    \"\"\"plots a Segment on pylab\"\"\"\n",
      "    if t0 is None: t0=pva.t0\n",
      "    if t1 is None: t1=pva.t1\n",
      "    x = np.arange(t0,t1, (t1-t0)/100.);\n",
      "    y = [pva(t) for t in x]\n",
      "    y=map(list, zip(*y)) #transpose because of \n",
      "    labels=['Pos','Vel','Acc','Jrk']\n",
      "    for y_arr, label in zip(y, labels):\n",
      "        pylab.plot(x, y_arr, label=label)\n",
      "    pylab.legend()\n",
      "    if ylim: pylab.ylim(ylim)\n",
      "    pylab.show() "
     ],
     "language": "python",
     "metadata": {},
     "outputs": []
    },
    {
     "cell_type": "markdown",
     "metadata": {},
     "source": [
      "##Segments"
     ]
    },
    {
     "cell_type": "markdown",
     "metadata": {},
     "source": [
      "### Polynomial Segments\n",
      "\n",
      "Polynomials are very handy to define Segments as coefficients can easily be determined from start/end conditions.\n",
      "Also, polynomials can easily be integrated or derivated in order to obtain position, velocity, or acceleration laws from each other.\n",
      "\n",
      "Motion defines several handy functions that return SegmentPoly matching common situations"
     ]
    },
    {
     "cell_type": "code",
     "collapsed": false,
     "input": [
      "seg=Segment2ndDegree(0,1,(-1,1,2)) # time interval and initial position\n",
      "plot(seg)"
     ],
     "language": "python",
     "metadata": {},
     "outputs": []
    },
    {
     "cell_type": "code",
     "collapsed": false,
     "input": [
      "seg=Segment4thDegree(0,None,(-2,1),(2,3))\n",
      "plot(seg,ylim=[-2,4])"
     ],
     "language": "python",
     "metadata": {},
     "outputs": []
    },
    {
     "cell_type": "code",
     "collapsed": false,
     "input": [
      "seg=Segment4thDegree(0,2,(-2,1),(None,3))\n",
      "plot(seg,ylim=[-2,4])"
     ],
     "language": "python",
     "metadata": {},
     "outputs": []
    },
    {
     "cell_type": "markdown",
     "metadata": {},
     "source": [
      "## Interval\n",
      "operations on [a..b[ intervals"
     ]
    },
    {
     "cell_type": "code",
     "collapsed": false,
     "input": [
      "from Goulib.interval import *\n",
      "\n",
      "Interval(5,6)+Interval(2,3)+Interval(3,4)"
     ],
     "language": "python",
     "metadata": {},
     "outputs": []
    },
    {
     "cell_type": "markdown",
     "metadata": {},
     "source": [
      "## Piecewise\n",
      "Piecewise defined functions"
     ]
    },
    {
     "cell_type": "code",
     "collapsed": false,
     "input": [
      "from Goulib.piecewise import *\n",
      "\n",
      "def plot(pwfs,ylim=None,labels=None,offset=None,max=None):\n",
      "    \"\"\"plots function\"\"\"\n",
      "    if isinstance(pwfs,Piecewise):\n",
      "        pwfs=[pwfs]\n",
      "    for i,pwf in enumerate(pwfs):\n",
      "        (x,y)=pwf.points(max=max)\n",
      "        if offset:\n",
      "            x=[x+i*offset for x in x]\n",
      "            y=[y+i*offset for y in y]\n",
      "        try:\n",
      "            label=labels[i]\n",
      "        except:\n",
      "            label=''\n",
      "        pylab.plot(x, y, label=label)\n",
      "        \n",
      "    if ylim: pylab.ylim(ylim)\n",
      "    if legend: pylab.legend()\n",
      "    pylab.show() "
     ],
     "language": "python",
     "metadata": {},
     "outputs": []
    },
    {
     "cell_type": "markdown",
     "metadata": {},
     "source": [
      "The simplest are piecewise continuous functions. They are defined by $(x_i,y_i)$ tuples given in any order. \n",
      "\n",
      "$f(x) = \\begin{cases}y_0 & x < x_1 \\\\ y_i & x_i \\le x < x_{i+1} \\\\ y_n & x > x_n \\end{cases}$"
     ]
    },
    {
     "cell_type": "code",
     "collapsed": false,
     "input": [
      "p1=Piecewise([(4,4),(3,3),(1,1),(5,0)])\n",
      "plot(p1,max=6,ylim=(-1,5))"
     ],
     "language": "python",
     "metadata": {},
     "outputs": []
    },
    {
     "cell_type": "markdown",
     "metadata": {},
     "source": [
      "By default y0=0 , but it can be specified at construction.\n",
      "\n",
      "Piecewise functions can also be defined by adding (x0,y,x1) segments"
     ]
    },
    {
     "cell_type": "code",
     "collapsed": false,
     "input": [
      "p2=Piecewise(default=1)\n",
      "p2+=(2.5,1,6.5)\n",
      "p2+=(1.5,1,3.5)\n",
      "plot(p2,max=7,ylim=(-1,5))"
     ],
     "language": "python",
     "metadata": {},
     "outputs": []
    },
    {
     "cell_type": "code",
     "collapsed": false,
     "input": [
      "plot([p1,p2,p1+p2,p1-p2,p1*p2,p1/p2],\n",
      "     labels=['p1','p2','p1+p2','p1-p2','p1*p2','p1/p2'],\n",
      "     max=7,ylim=(-2,10), offset=0.02)"
     ],
     "language": "python",
     "metadata": {},
     "outputs": []
    },
    {
     "cell_type": "code",
     "collapsed": false,
     "input": [
      "p1=Piecewise([(2,True)],False)\n",
      "p2=Piecewise([(1,True),(2,False),(3,True)],False)\n",
      "plot([p1,p2,p1|p2,p1&p2,p1^p2,p1>>3],\n",
      "     labels=['p1','p2','p1 or p2','p1 and p2','p1 xor p2','p1>>3'],\n",
      "     max=7,ylim=(-1,2), offset=0.02)"
     ],
     "language": "python",
     "metadata": {},
     "outputs": []
    },
    {
     "cell_type": "code",
     "collapsed": false,
     "input": [
      "import matplotlib\n",
      "matplotlib.use('webagg')\n",
      "import matplotlib.pyplot as plt\n",
      "plt.plot(range(10))\n",
      "plt.show()"
     ],
     "language": "python",
     "metadata": {},
     "outputs": []
    }
   ],
   "metadata": {}
  }
 ]
}