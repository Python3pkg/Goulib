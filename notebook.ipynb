{
 "cells": [
  {
   "cell_type": "markdown",
   "metadata": {},
   "source": [
    "# Goulib\n",
    "library of useful code for scientific + technical applications\n",
    "\n",
    "- author: Philippe Guglielmetti goulib@goulu.net\n",
    "- copyright: Copyright 2013 Philippe Guglielmetti\n",
    "- license: LGPL (see LICENSE.TXT)\n",
    "\n",
    "- installation : \"pip install Goulib\"\n",
    "- distribution: https://pypi.python.org/pypi/Goulib\n",
    "- documentation: https://goulib.readthedocs.org/\n",
    "- source : https://github.com/goulu/Goulib\n",
    "\n",
    "Some modules offer specific IPython Notebook support"
   ]
  },
  {
   "cell_type": "code",
   "execution_count": 1,
   "metadata": {
    "collapsed": false
   },
   "outputs": [
    {
     "data": {
      "text/html": [
       "<h2>Notebook</h2>"
      ],
      "text/plain": [
       "<IPython.core.display.HTML object>"
      ]
     },
     "metadata": {},
     "output_type": "display_data"
    },
    {
     "data": {
      "text/html": [
       "<h4>some useful tools for IPYthon/Jupyter notebooks</h4>"
      ],
      "text/plain": [
       "<IPython.core.display.HTML object>"
      ]
     },
     "metadata": {},
     "output_type": "display_data"
    },
    {
     "data": {
      "text/html": [
       "notably a \"print\" function which accepts 1 2 3 or even more parameters"
      ],
      "text/plain": [
       "<IPython.core.display.HTML object>"
      ]
     },
     "metadata": {},
     "output_type": "display_data"
    },
    {
     "name": "stdout",
     "output_type": "stream",
     "text": [
      "[1, 2, 3] ('a', 'b', 'c')\n"
     ]
    }
   ],
   "source": [
    "from Goulib.notebook import *\n",
    "h2('Notebook')\n",
    "h4('some useful tools for IPYthon/Jupyter notebooks')\n",
    "h('notably a \"print\" function which accepts',1,1+1,int(9**.5),'or even more parameters')\n",
    "print([1,2,3],('a','b','c'))"
   ]
  },
  {
   "cell_type": "code",
   "execution_count": 2,
   "metadata": {
    "collapsed": false
   },
   "outputs": [],
   "source": [
    "from Goulib import math2, itertools2 #Goulib modules that complement std modules"
   ]
  },
  {
   "cell_type": "markdown",
   "metadata": {},
   "source": [
    "# Modules\n",
    "\n",
    "* [Math2](notebooks/math2.ipynb) more math without numpy . See also [OEIS](examples/oeis.ipynb) example\n",
    "* [Expr and Polynomial](notebooks/expr.ipynb) Symbolic math expressions with LaTeX representation and plots\n",
    "* [Stats](notebooks/stats.ipynb)\n",
    "* [Table](notebooks/table.ipynb) \"mini pandas.DataFrame\" Table class with Excel + CSV I/O, easy access to columns, HTML output, and much more.\n",
    "* [Geom and Drawing](notebooks/drawing.ipynb) 2D geometry and vector graphics with .DXF, .SVG , .PDF I/O and bitmap graphics output\n",
    "* [Graph](notebooks/graph.ipynb) Eulerian graphs based on NetworkX\n",
    "* [Image](notebooks/image.ipynb) image processing made simple\n",
    "* [Colors](notebooks/colors.ipynb) color management"
   ]
  },
  {
   "cell_type": "markdown",
   "metadata": {},
   "source": [
    "## Motion\n",
    "\"motion laws\" are functions of time which return (position, velocity, acceleration, jerk) tuples"
   ]
  },
  {
   "cell_type": "code",
   "execution_count": 9,
   "metadata": {
    "collapsed": false
   },
   "outputs": [
    {
     "ename": "ImportError",
     "evalue": "cannot import name 'Table'",
     "output_type": "error",
     "traceback": [
      "\u001b[0;31m---------------------------------------------------------------------------\u001b[0m",
      "\u001b[0;31mImportError\u001b[0m                               Traceback (most recent call last)",
      "\u001b[0;32m<ipython-input-9-2971e1a969bf>\u001b[0m in \u001b[0;36m<module>\u001b[0;34m()\u001b[0m\n\u001b[0;32m----> 1\u001b[0;31m \u001b[1;32mfrom\u001b[0m \u001b[0mGoulib\u001b[0m\u001b[1;33m.\u001b[0m\u001b[0mmotion\u001b[0m \u001b[1;32mimport\u001b[0m \u001b[1;33m*\u001b[0m\u001b[1;33m\u001b[0m\u001b[0m\n\u001b[0m",
      "\u001b[0;32mD:\\Users\\guglie0p\\Develop\\Python\\Goulib\\Goulib\\motion.py\u001b[0m in \u001b[0;36m<module>\u001b[0;34m()\u001b[0m\n\u001b[1;32m     14\u001b[0m \u001b[1;32mfrom\u001b[0m \u001b[0mmath\u001b[0m \u001b[1;32mimport\u001b[0m \u001b[0msin\u001b[0m\u001b[1;33m\u001b[0m\u001b[0m\n\u001b[1;32m     15\u001b[0m \u001b[1;32mfrom\u001b[0m \u001b[1;33m.\u001b[0m \u001b[1;32mimport\u001b[0m \u001b[0mplot\u001b[0m\u001b[1;33m,\u001b[0m \u001b[0mpolynomial\u001b[0m\u001b[1;33m,\u001b[0m \u001b[0mitertools2\u001b[0m\u001b[1;33m,\u001b[0m \u001b[0mmath2\u001b[0m\u001b[1;33m\u001b[0m\u001b[0m\n\u001b[0;32m---> 16\u001b[0;31m \u001b[1;32mfrom\u001b[0m \u001b[0mGoulib\u001b[0m\u001b[1;33m.\u001b[0m\u001b[0munits\u001b[0m \u001b[1;32mimport\u001b[0m \u001b[0mV\u001b[0m\u001b[1;33m,\u001b[0m\u001b[0mTable\u001b[0m\u001b[1;33m,\u001b[0m \u001b[0mView\u001b[0m\u001b[1;33m\u001b[0m\u001b[0m\n\u001b[0m\u001b[1;32m     17\u001b[0m \u001b[1;33m\u001b[0m\u001b[0m\n\u001b[1;32m     18\u001b[0m \u001b[1;32mfrom\u001b[0m \u001b[0mnumpy\u001b[0m \u001b[1;32mimport\u001b[0m \u001b[0mallclose\u001b[0m\u001b[1;33m\u001b[0m\u001b[0m\n",
      "\u001b[0;31mImportError\u001b[0m: cannot import name 'Table'"
     ]
    }
   ],
   "source": [
    "from Goulib.motion import *"
   ]
  },
  {
   "cell_type": "markdown",
   "metadata": {},
   "source": [
    "### Polynomial Segments\n",
    "\n",
    "Polynomials are very handy to define Segments as coefficients can easily be determined from start/end conditions.\n",
    "Also, polynomials can easily be integrated or derivated in order to obtain position, velocity, or acceleration laws from each other.\n",
    "\n",
    "Motion defines several handy functions that return SegmentPoly matching common situations"
   ]
  },
  {
   "cell_type": "code",
   "execution_count": null,
   "metadata": {
    "collapsed": false
   },
   "outputs": [],
   "source": [
    "seg=Segment2ndDegree(0,1,(-1,1,2)) # time interval and initial position,velocity and constant acceleration\n",
    "seg.plot()"
   ]
  },
  {
   "cell_type": "code",
   "execution_count": null,
   "metadata": {
    "collapsed": false
   },
   "outputs": [],
   "source": [
    "seg=Segment4thDegree(0,None,(-2,1),(2,3)) #start time and initial and final (position,velocity)\n",
    "seg.plot()"
   ]
  },
  {
   "cell_type": "code",
   "execution_count": null,
   "metadata": {
    "collapsed": false
   },
   "outputs": [],
   "source": [
    "seg=Segment4thDegree(0,2,(-2,1),(None,3)) # start and final time, initial (pos,vel) and final vel\n",
    "seg.plot()"
   ]
  },
  {
   "cell_type": "markdown",
   "metadata": {},
   "source": [
    "## Interval\n",
    "operations on [a..b[ intervals"
   ]
  },
  {
   "cell_type": "code",
   "execution_count": null,
   "metadata": {
    "collapsed": false
   },
   "outputs": [],
   "source": [
    "from Goulib.interval import *\n",
    "\n",
    "Interval(5,6)+Interval(2,3)+Interval(3,4)"
   ]
  },
  {
   "cell_type": "markdown",
   "metadata": {},
   "source": [
    "## Piecewise\n",
    "Piecewise defined functions"
   ]
  },
  {
   "cell_type": "code",
   "execution_count": null,
   "metadata": {
    "collapsed": false
   },
   "outputs": [],
   "source": [
    "from Goulib.piecewise import *"
   ]
  },
  {
   "cell_type": "markdown",
   "metadata": {},
   "source": [
    "The simplest are piecewise continuous functions. They are defined by $(x_i,y_i)$ tuples given in any order. \n",
    "\n",
    "$f(x) = \\begin{cases}y_0 & x < x_1 \\\\ y_i & x_i \\le x < x_{i+1} \\\\ y_n & x > x_n \\end{cases}$"
   ]
  },
  {
   "cell_type": "code",
   "execution_count": null,
   "metadata": {
    "collapsed": false
   },
   "outputs": [],
   "source": [
    "p1=Piecewise([(4,4),(3,3),(1,1),(5,0)])\n",
    "p1.plot()"
   ]
  },
  {
   "cell_type": "markdown",
   "metadata": {},
   "source": [
    "By default y0=0 , but it can be specified at construction.\n",
    "\n",
    "Piecewise functions can also be defined by adding (x0,y,x1) segments"
   ]
  },
  {
   "cell_type": "code",
   "execution_count": null,
   "metadata": {
    "collapsed": false
   },
   "outputs": [],
   "source": [
    "p2=Piecewise(default=1)\n",
    "p2+=(2.5,1,6.5)\n",
    "p2+=(1.5,1,3.5)\n",
    "p2.plot(xmax=7,ylim=(-1,5))"
   ]
  },
  {
   "cell_type": "code",
   "execution_count": null,
   "metadata": {
    "collapsed": false
   },
   "outputs": [],
   "source": [
    "plot.plot([p1,p2,p1+p2,p1-p2,p1*p2,p1/p2],\n",
    "     labels=['p1','p2','p1+p2','p1-p2','p1*p2','p1/p2'],\n",
    "     xmax=7, ylim=(-2,10), offset=0.02)"
   ]
  },
  {
   "cell_type": "code",
   "execution_count": null,
   "metadata": {
    "collapsed": false
   },
   "outputs": [],
   "source": [
    "p1=Piecewise([(2,True)],False)\n",
    "p2=Piecewise([(1,True),(2,False),(3,True)],False)\n",
    "plot.plot([p1,p2,p1|p2,p1&p2,p1^p2,p1>>3],\n",
    "     labels=['p1','p2','p1 or p2','p1 and p2','p1 xor p2','p1>>3'],\n",
    "     xmax=7,ylim=(-.5,1.5), offset=0.02)"
   ]
  }
 ],
 "metadata": {
  "anaconda-cloud": {},
  "kernelspec": {
   "display_name": "Python [conda root]",
   "language": "python",
   "name": "conda-root-py"
  },
  "language_info": {
   "codemirror_mode": {
    "name": "ipython",
    "version": 3
   },
   "file_extension": ".py",
   "mimetype": "text/x-python",
   "name": "python",
   "nbconvert_exporter": "python",
   "pygments_lexer": "ipython3",
   "version": "3.5.2"
  },
  "latex_envs": {
   "bibliofile": "biblio.bib",
   "cite_by": "apalike",
   "current_citInitial": 1,
   "eqLabelWithNumbers": true,
   "eqNumInitial": 0
  }
 },
 "nbformat": 4,
 "nbformat_minor": 0
}
