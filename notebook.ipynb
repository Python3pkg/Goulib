{
 "metadata": {
  "name": "",
  "signature": "sha256:8f2f1ced92f97477d51142d3d35f0d97f744fa778ad1a86c3e05d1961851bf34"
 },
 "nbformat": 3,
 "nbformat_minor": 0,
 "worksheets": [
  {
   "cells": [
    {
     "cell_type": "markdown",
     "metadata": {},
     "source": [
      "# Goulib\n",
      "my library of useful code for scientific + technical applications\n",
      "\n",
      "- author: Philippe Guglielmetti goulib@goulu.net\n",
      "- copyright: Copyright 2013 Philippe Guglielmetti\n",
      "- license: LGPL (see LICENSE.TXT)\n",
      "\n",
      "- installation : \"pip install Goulib\"\n",
      "- distribution: https://pypi.python.org/pypi/Goulib\n",
      "- documentation: https://goulib.readthedocs.org/\n",
      "- source : https://github.com/goulu/Goulib\n",
      "\n",
      "Some modules offer specific IPython Notebook support\n"
     ]
    },
    {
     "cell_type": "code",
     "collapsed": false,
     "input": [
      "from IPython.display import display, HTML, Math, Latex # some IPython Notebook utilities\n",
      "from Goulib import math2, itertools2 #Goulib modules that complement std modules"
     ],
     "language": "python",
     "metadata": {},
     "outputs": [],
     "prompt_number": 1
    },
    {
     "cell_type": "markdown",
     "metadata": {},
     "source": [
      "## Colors"
     ]
    },
    {
     "cell_type": "code",
     "collapsed": false,
     "input": [
      "from Goulib.colors import *"
     ],
     "language": "python",
     "metadata": {},
     "outputs": [],
     "prompt_number": 2
    },
    {
     "cell_type": "code",
     "collapsed": false,
     "input": [
      "c=color['blue'] # color is a dict of most used colors indexed by name\n",
      "print c, color_lookup[c] # reversed dict to retrieve color name by hex string"
     ],
     "language": "python",
     "metadata": {},
     "outputs": [
      {
       "output_type": "stream",
       "stream": "stdout",
       "text": [
        "#0000ff blue\n"
       ]
      }
     ],
     "prompt_number": 3
    },
    {
     "cell_type": "code",
     "collapsed": false,
     "input": [
      "red=Color('red') #Color objects can be init'ed by name,\n",
      "green=Color('#00ff00') # by RGB hex string,\n",
      "blue=Color((0,0,1)) #or by RGB triplet\n",
      "\n",
      "c=red+blue #colors can be added\n",
      "print c.name, c.hex, c.rgb # see ? the color name of the sum is correct too !\n",
      "c # Color objects have an HTML representation"
     ],
     "language": "python",
     "metadata": {},
     "outputs": [
      {
       "output_type": "stream",
       "stream": "stdout",
       "text": [
        "magenta #ff00ff [1.0, 0.0, 1.0]\n"
       ]
      },
      {
       "html": [
        "<div style=\"color:#ff00ff\">magenta</div>"
       ],
       "metadata": {},
       "output_type": "pyout",
       "prompt_number": 4,
       "text": [
        "Color('magenta')"
       ]
      }
     ],
     "prompt_number": 4
    },
    {
     "cell_type": "code",
     "collapsed": false,
     "input": [
      "c= Color('gray')-red # colors can be substracted too. RGB values might go off bounds, but hex is bounded\n",
      "print c.name, c.hex, c.rgb # see ? the color name of the sum is correct too !\n",
      "c"
     ],
     "language": "python",
     "metadata": {},
     "outputs": [
      {
       "output_type": "stream",
       "stream": "stdout",
       "text": [
        "teal #008080 [-0.4980392156862745, 0.5019607843137255, 0.5019607843137255]\n"
       ]
      },
      {
       "html": [
        "<div style=\"color:#008080\">teal</div>"
       ],
       "metadata": {},
       "output_type": "pyout",
       "prompt_number": 5,
       "text": [
        "Color('teal')"
       ]
      }
     ],
     "prompt_number": 5
    },
    {
     "cell_type": "code",
     "collapsed": false,
     "input": [
      "from random import random\n",
      "Color((random(),random(),random())) # unknown colors recieve name of the nearest known color\n",
      "# re-run this cell to see changes"
     ],
     "language": "python",
     "metadata": {},
     "outputs": [
      {
       "html": [
        "<div style=\"color:#403414\">~darkolivegreen</div>"
       ],
       "metadata": {},
       "output_type": "pyout",
       "prompt_number": 6,
       "text": [
        "Color('#403414')"
       ]
      }
     ],
     "prompt_number": 6
    },
    {
     "cell_type": "code",
     "collapsed": false,
     "input": [
      "def html(iterable):\n",
      "    for _ in iterable:\n",
      "        display(_)\n",
      "html(map(Color,color_range(5,'blue','orange')))"
     ],
     "language": "python",
     "metadata": {},
     "outputs": [
      {
       "html": [
        "<div style=\"color:#0000ff\">blue</div>"
       ],
       "metadata": {},
       "output_type": "display_data",
       "text": [
        "Color('blue')"
       ]
      },
      {
       "html": [
        "<div style=\"color:#00d5ff\">~deepskyblue</div>"
       ],
       "metadata": {},
       "output_type": "display_data",
       "text": [
        "Color('#00d5ff')"
       ]
      },
      {
       "html": [
        "<div style=\"color:#00ff52\">~springgreen</div>"
       ],
       "metadata": {},
       "output_type": "display_data",
       "text": [
        "Color('#00ff52')"
       ]
      },
      {
       "html": [
        "<div style=\"color:#83ff00\">~chartreuse</div>"
       ],
       "metadata": {},
       "output_type": "display_data",
       "text": [
        "Color('#83ff00')"
       ]
      },
      {
       "html": [
        "<div style=\"color:#ffa400\">~orange</div>"
       ],
       "metadata": {},
       "output_type": "display_data",
       "text": [
        "Color('#ffa400')"
       ]
      }
     ],
     "prompt_number": 7
    },
    {
     "cell_type": "markdown",
     "metadata": {},
     "source": [
      "## Table\n",
      "Table class with Excel + CSV I/O, easy access to columns, HTML output, and much more."
     ]
    },
    {
     "cell_type": "code",
     "collapsed": false,
     "input": [
      "from Goulib.table import *\n",
      "Table(titles=['A','B'],data=[['first',2],[3,'last']]) # a very simple table"
     ],
     "language": "python",
     "metadata": {},
     "outputs": [
      {
       "html": [
        "<table><thead>\n",
        "<tr><th>A</th><th>B</th></tr>\n",
        "</thead>\n",
        "<tr><td>first</td><td align=\"right\">2</td></tr>\n",
        "<tr><td align=\"right\">3</td><td>last</td></tr>\n",
        "</table>\n"
       ],
       "metadata": {},
       "output_type": "pyout",
       "prompt_number": 8,
       "text": [
        "Table(len=2,titles=['A', 'B'],data=[['first', 2], [3, 'last']])"
       ]
      }
     ],
     "prompt_number": 8
    },
    {
     "cell_type": "code",
     "collapsed": false,
     "input": [
      "t=Table('tests/test.xls') # read Excel files thanks to xlrd (http://www.python-excel.org/)"
     ],
     "language": "python",
     "metadata": {},
     "outputs": [],
     "prompt_number": 9
    },
    {
     "cell_type": "code",
     "collapsed": false,
     "input": [
      "print t.titles #column headers can be used as indexes\n",
      "print\n",
      "print t[:3] # since a Table is a list of rows, rows can be accessed by indexing. \n",
      "print\n",
      "print t.rowasdict(1) #a row can be extracted as a dict where column titles are keys"
     ],
     "language": "python",
     "metadata": {},
     "outputs": [
      {
       "output_type": "stream",
       "stream": "stdout",
       "text": [
        "[u'OrderDate', u'Region', u'Rep', u'Item', u'Units', u'Cost', u'Total']\n",
        "\n",
        "[[41061, u'East', u'Jones', u'Pencil', 95, 1.99, 189.05], [u'1/23/2012', u'Central', u'Kivell', u'Binder', 50, 19.99, 999.5], [41154, u'Central', u'Jardine', u'Pencil', 36, 4.99, 179.64]]\n",
        "\n",
        "{u'Region': u'Central', u'Item': u'Binder', u'Cost': 19.99, u'Rep': u'Kivell', u'Units': 50, u'Total': 999.5, u'OrderDate': u'1/23/2012'}\n"
       ]
      }
     ],
     "prompt_number": 10
    },
    {
     "cell_type": "code",
     "collapsed": false,
     "input": [
      "# handle the mess in Excel Cell types ...\n",
      "t.to_date('OrderDate',fmt=['%m/%d/%Y','Excel']) #converts column to date using several possible formats...\n",
      "t.applyf('Cost',float) # apply a function to a column. Here force the column to contain floats\n",
      "t.applyf('Total',lambda x:float(x) if isinstance(x,(int,float)) else float(x.replace(',','')))"
     ],
     "language": "python",
     "metadata": {},
     "outputs": [
      {
       "metadata": {},
       "output_type": "pyout",
       "prompt_number": 11,
       "text": [
        "True"
       ]
      }
     ],
     "prompt_number": 11
    },
    {
     "cell_type": "code",
     "collapsed": false,
     "input": [
      "t[10:]=[] #keep only the 10 first lines to save space below\n",
      "t.sort('Total',reverse=True) # Tables can be sorted like lists\n",
      "t.total([max,itertools2.count_unique,itertools2.count_unique,itertools2.count_unique,sum,math2.mean,sum])\n",
      "t.footer #contains the result of the last call to total "
     ],
     "language": "python",
     "metadata": {},
     "outputs": [
      {
       "metadata": {},
       "output_type": "pyout",
       "prompt_number": 12,
       "text": [
        "[datetime.date(2012, 9, 2),\n",
        " 3,\n",
        " 7,\n",
        " 3,\n",
        " 581,\n",
        " 7.289999999999999,\n",
        " 3576.1900000000001]"
       ]
      }
     ],
     "prompt_number": 12
    },
    {
     "cell_type": "code",
     "collapsed": false,
     "input": [
      "t # HTML representation in Notebook. Note the title/header and total/footer rows and cell alignment"
     ],
     "language": "python",
     "metadata": {},
     "outputs": [
      {
       "html": [
        "<table><thead>\n",
        "<tr><th>OrderDate</th><th>Region</th><th>Rep</th><th>Item</th><th>Units</th><th>Cost</th><th>Total</th></tr>\n",
        "</thead>\n",
        "<tr><td align=\"right\">2012-01-23</td><td>Central</td><td>Kivell</td><td>Binder</td><td align=\"right\">50</td><td align=\"right\">19.99</td><td align=\"right\">999.50</td></tr>\n",
        "<tr><td align=\"right\">2012-02-26</td><td>Central</td><td>Gill</td><td>Pen</td><td align=\"right\">27</td><td align=\"right\">19.99</td><td align=\"right\">539.73</td></tr>\n",
        "<tr><td align=\"right\">2012-08-06</td><td>East</td><td>Jones</td><td>Binder</td><td align=\"right\">60</td><td align=\"right\">8.99</td><td align=\"right\">539.40</td></tr>\n",
        "<tr><td align=\"right\">2012-05-05</td><td>Central</td><td>Jardine</td><td>Pencil</td><td align=\"right\">90</td><td align=\"right\">4.99</td><td align=\"right\">449.10</td></tr>\n",
        "<tr><td align=\"right\">2012-01-04</td><td>East</td><td>Jones</td><td>Binder</td><td align=\"right\">60</td><td align=\"right\">4.99</td><td align=\"right\">299.40</td></tr>\n",
        "<tr><td align=\"right\">2012-06-01</td><td>East</td><td>Jones</td><td>Pencil</td><td align=\"right\">95</td><td align=\"right\">1.99</td><td align=\"right\">189.05</td></tr>\n",
        "<tr><td align=\"right\">2012-09-02</td><td>Central</td><td>Jardine</td><td>Pencil</td><td align=\"right\">36</td><td align=\"right\">4.99</td><td align=\"right\">179.64</td></tr>\n",
        "<tr><td align=\"right\">2012-03-15</td><td>West</td><td>Sorvino</td><td>Pencil</td><td align=\"right\">56</td><td align=\"right\">2.99</td><td align=\"right\">167.44</td></tr>\n",
        "<tr><td align=\"right\">2012-04-18</td><td>Central</td><td>Andrews</td><td>Pencil</td><td align=\"right\">75</td><td align=\"right\">1.99</td><td align=\"right\">149.25</td></tr>\n",
        "<tr><td align=\"right\">2012-05-22</td><td>West</td><td>Thompson</td><td>Pencil</td><td align=\"right\">32</td><td align=\"right\">1.99</td><td align=\"right\">63.68</td></tr>\n",
        "<tfoot>\n",
        "<tr><th align=\"right\">2012-09-02</th><th align=\"right\">3</th><th align=\"right\">7</th><th align=\"right\">3</th><th align=\"right\">581</th><th align=\"right\">7.29</th><th align=\"right\">3576.19</th></tr>\n",
        "</tfoot>\n",
        "</table>\n"
       ],
       "metadata": {},
       "output_type": "pyout",
       "prompt_number": 13,
       "text": [
        "Table(len=10,titles=[u'OrderDate', u'Region', u'Rep', u'Item', u'Units', u'Cost', u'Total'],data=[[datetime.date(2012, 1, 23), u'Central', u'Kivell', u'Binder', 50, 19.99, 999.5], [datetime.date(2012, 2, 26), u'Central', u'Gill', u'Pen', 27, 19.99, 539.73], [datetime.date(2012, 8, 6), u'East', u'Jones', u'Binder', 60, 8.99, 539.4], [datetime.date(2012, 5, 5), u'Central', u'Jardine', u'Pencil', 90, 4.99, 449.1], [datetime.date(2012, 1, 4), u'East', u'Jones', u'Binder', 60, 4.99, 299.4]])"
       ]
      }
     ],
     "prompt_number": 13
    },
    {
     "cell_type": "code",
     "collapsed": false,
     "input": [
      "region=t.groupby('Region') # dictionary of subtables grouped by a column\n",
      "region['East'] # isn't it nice ?"
     ],
     "language": "python",
     "metadata": {},
     "outputs": [
      {
       "html": [
        "<table><thead>\n",
        "<tr><th>OrderDate</th><th>Rep</th><th>Item</th><th>Units</th><th>Cost</th><th>Total</th></tr>\n",
        "</thead>\n",
        "<tr><td align=\"right\">2012-08-06</td><td>Jones</td><td>Binder</td><td align=\"right\">60</td><td align=\"right\">8.99</td><td align=\"right\">539.40</td></tr>\n",
        "<tr><td align=\"right\">2012-01-04</td><td>Jones</td><td>Binder</td><td align=\"right\">60</td><td align=\"right\">4.99</td><td align=\"right\">299.40</td></tr>\n",
        "<tr><td align=\"right\">2012-06-01</td><td>Jones</td><td>Pencil</td><td align=\"right\">95</td><td align=\"right\">1.99</td><td align=\"right\">189.05</td></tr>\n",
        "</table>\n"
       ],
       "metadata": {},
       "output_type": "pyout",
       "prompt_number": 14,
       "text": [
        "Table(len=3,titles=[u'OrderDate', u'Rep', u'Item', u'Units', u'Cost', u'Total'],data=[[datetime.date(2012, 8, 6), u'Jones', u'Binder', 60, 8.99, 539.4], [datetime.date(2012, 1, 4), u'Jones', u'Binder', 60, 4.99, 299.4], [datetime.date(2012, 6, 1), u'Jones', u'Pencil', 95, 1.99, 189.05]])"
       ]
      }
     ],
     "prompt_number": 14
    },
    {
     "cell_type": "markdown",
     "metadata": {},
     "source": [
      "##Geom\n",
      "Vector, matrix and quaternion operations + line, arc, circle entities for use in 2D and 3D graphics applications.\n"
     ]
    },
    {
     "cell_type": "code",
     "collapsed": false,
     "input": [
      "from Goulib.geom import *\n",
      "import inspect\n",
      "print 'geom defines many classes : %s'%dict(inspect.getmembers(sys.modules['Goulib.geom'], inspect.isclass)).keys()"
     ],
     "language": "python",
     "metadata": {},
     "outputs": [
      {
       "output_type": "stream",
       "stream": "stdout",
       "text": [
        "geom defines many classes : ['Matrix4', 'Ray2', 'Ray3', 'Vector3', 'Arc2', 'Geometry', 'Segment3', 'Quaternion', 'Line3', 'Line2', 'Sphere', 'Point2', 'Plane', 'Vector2', 'Circle', 'Point3', 'Matrix3', 'Segment2']\n"
       ]
      }
     ],
     "prompt_number": 15
    },
    {
     "cell_type": "markdown",
     "metadata": {},
     "source": [
      "## Drawing\n",
      "handle vector graphics in .dxf, .svg and .pdf formats"
     ]
    },
    {
     "cell_type": "code",
     "collapsed": false,
     "input": [
      "from Goulib.drawing import * #don't know how to get rid of this warning message"
     ],
     "language": "python",
     "metadata": {},
     "outputs": [
      {
       "output_type": "stream",
       "stream": "stderr",
       "text": [
        "C:\\Python27\\lib\\site-packages\\matplotlib\\__init__.py:1155: UserWarning:  This call to matplotlib.use() has no effect\n",
        "because the backend has already been chosen;\n",
        "matplotlib.use() must be called *before* pylab, matplotlib.pyplot,\n",
        "or matplotlib.backends is imported for the first time.\n",
        "\n",
        "  warnings.warn(_use_error_msg)\n"
       ]
      }
     ],
     "prompt_number": 1
    },
    {
     "cell_type": "code",
     "collapsed": false,
     "input": [
      "d=Drawing('tests/drawing.dxf') # try to change .pdf in .svg or .dxf here : it works !\n",
      "d"
     ],
     "language": "python",
     "metadata": {},
     "outputs": [
      {
       "output_type": "stream",
       "stream": "stderr",
       "text": [
        "WARNING:root:unhandled entity type TEXT\n"
       ]
      },
      {
       "output_type": "stream",
       "stream": "stderr",
       "text": [
        "WARNING:root:skipped object None\n"
       ]
      },
      {
       "output_type": "stream",
       "stream": "stderr",
       "text": [
        "WARNING:root:unhandled entity type TEXT\n"
       ]
      },
      {
       "output_type": "stream",
       "stream": "stderr",
       "text": [
        "WARNING:root:skipped object None\n"
       ]
      },
      {
       "metadata": {},
       "output_type": "pyout",
       "png": "[encoded data removed]",
       "prompt_number": 4,
       "svg": [
        "<?xml version=\"1.0\" encoding=\"utf-8\" standalone=\"no\"?>\n",
        "<!DOCTYPE svg PUBLIC \"-//W3C//DTD SVG 1.1//EN\"\n",
        "  \"http://www.w3.org/Graphics/SVG/1.1/DTD/svg11.dtd\">\n",
        "<!-- Created with matplotlib (http://matplotlib.org/) -->\n",
        "<svg height=\"288pt\" version=\"1.1\" viewBox=\"0 0 432 288\" width=\"432pt\" xmlns=\"http://www.w3.org/2000/svg\" xmlns:xlink=\"http://www.w3.org/1999/xlink\">\n",
        " <defs>\n",
        "  <style type=\"text/css\">\n",
        "*{stroke-linecap:butt;stroke-linejoin:round;}\n",
        "  </style>\n",
        " </defs>\n",
        " <g id=\"figure_1\">\n",
        "  <g id=\"patch_1\">\n",
        "   <path d=\"\n",
        "M0 288\n",
        "L432 288\n",
        "L432 0\n",
        "L0 0\n",
        "z\n",
        "\" style=\"fill:none;\"/>\n",
        "  </g>\n",
        "  <g id=\"axes_1\">\n",
        "   <g id=\"patch_2\">\n",
        "    <path clip-path=\"url(#p124b8dd147)\" d=\"\n",
        "M350.242 141.066\n",
        "C350.242 136.314 348.352 131.752 344.992 128.391\n",
        "C341.631 125.031 337.069 123.141 332.316 123.141\" style=\"fill:none;stroke:#000000;\"/>\n",
        "   </g>\n",
        "   <g id=\"patch_3\">\n",
        "    <path clip-path=\"url(#p124b8dd147)\" d=\"\n",
        "M332.33 123.141\n",
        "C327.578 123.141 323.015 125.031 319.655 128.391\n",
        "C316.295 131.752 314.405 136.314 314.405 141.066\" style=\"fill:none;stroke:#000000;\"/>\n",
        "   </g>\n",
        "   <g id=\"patch_4\">\n",
        "    <path clip-path=\"url(#p124b8dd147)\" d=\"\n",
        "M71.7502 141.066\n",
        "C71.7502 145.819 73.64 150.381 77.0004 153.742\n",
        "C80.3608 157.102 84.9234 158.992 89.6757 158.992\" style=\"fill:none;stroke:#000000;\"/>\n",
        "   </g>\n",
        "   <g id=\"patch_5\">\n",
        "    <path clip-path=\"url(#p124b8dd147)\" d=\"\n",
        "M314.468 141.118\n",
        "C314.468 145.87 316.358 150.432 319.719 153.793\n",
        "C323.079 157.153 327.641 159.043 332.394 159.043\" style=\"fill:none;stroke:#000000;\"/>\n",
        "   </g>\n",
        "   <g id=\"patch_6\">\n",
        "    <path clip-path=\"url(#p124b8dd147)\" d=\"\n",
        "M332.273 156.59\n",
        "C336.431 156.59 340.419 154.938 343.359 151.998\n",
        "C346.299 149.058 347.951 145.07 347.951 140.912\n",
        "C347.951 136.755 346.299 132.767 343.359 129.827\n",
        "C340.419 126.887 336.431 125.235 332.273 125.235\n",
        "C328.116 125.235 324.127 126.887 321.187 129.827\n",
        "C318.247 132.767 316.596 136.755 316.596 140.912\n",
        "C316.596 145.07 318.247 149.058 321.187 151.998\n",
        "C324.127 154.938 328.116 156.59 332.273 156.59\n",
        "z\n",
        "\" style=\"fill:none;stroke:#ffff00;\"/>\n",
        "   </g>\n",
        "   <g id=\"patch_7\">\n",
        "    <path clip-path=\"url(#p124b8dd147)\" d=\"\n",
        "M306.683 118.985\n",
        "C305.839 118.985 305.028 119.32 304.431 119.917\n",
        "C303.835 120.514 303.499 121.324 303.499 122.168\n",
        "C303.499 123.013 303.835 123.823 304.431 124.42\n",
        "C305.028 125.017 305.839 125.352 306.683 125.352\" style=\"fill:none;stroke:#ffff00;\"/>\n",
        "   </g>\n",
        "   <g id=\"line2d_1\">\n",
        "    <path clip-path=\"url(#p124b8dd147)\" d=\"\n",
        "M71.7502 166.658\n",
        "L358.58 114.809\" style=\"fill:none;opacity:0;stroke:#0000ff;stroke-linecap:square;\"/>\n",
        "   </g>\n",
        "   <g id=\"line2d_2\">\n",
        "    <path clip-path=\"url(#p124b8dd147)\" d=\"\n",
        "M302.683 114.809\n",
        "L302.683 166.658\" style=\"fill:none;stroke:#ff0000;stroke-linecap:square;\"/>\n",
        "   </g>\n",
        "   <g id=\"line2d_3\">\n",
        "    <path clip-path=\"url(#p124b8dd147)\" d=\"\n",
        "M302.683 166.658\n",
        "L358.58 166.658\" style=\"fill:none;stroke:#00ffff;stroke-linecap:square;\"/>\n",
        "   </g>\n",
        "   <g id=\"line2d_4\">\n",
        "    <path clip-path=\"url(#p124b8dd147)\" d=\"\n",
        "M358.58 166.658\n",
        "L358.58 114.809\" style=\"fill:none;stroke:#0000ff;stroke-linecap:square;\"/>\n",
        "   </g>\n",
        "   <g id=\"line2d_5\">\n",
        "    <path clip-path=\"url(#p124b8dd147)\" d=\"\n",
        "M358.58 114.809\n",
        "L302.683 114.809\" style=\"fill:none;stroke:#00ff00;stroke-linecap:square;\"/>\n",
        "   </g>\n",
        "   <g id=\"line2d_6\">\n",
        "    <path clip-path=\"url(#p124b8dd147)\" d=\"\n",
        "M325.551 146.698\n",
        "L326.182 147.056\" style=\"fill:none;stroke:#00ffff;stroke-linecap:square;\"/>\n",
        "   </g>\n",
        "   <g id=\"line2d_7\">\n",
        "    <path clip-path=\"url(#p124b8dd147)\" d=\"\n",
        "M326.182 147.056\n",
        "L327.06 147.129\" style=\"fill:none;stroke:#00ffff;stroke-linecap:square;\"/>\n",
        "   </g>\n",
        "   <g id=\"line2d_8\">\n",
        "    <path clip-path=\"url(#p124b8dd147)\" d=\"\n",
        "M327.06 147.129\n",
        "L328.153 146.914\" style=\"fill:none;stroke:#00ffff;stroke-linecap:square;\"/>\n",
        "   </g>\n",
        "   <g id=\"line2d_9\">\n",
        "    <path clip-path=\"url(#p124b8dd147)\" d=\"\n",
        "M328.153 146.914\n",
        "L329.417 146.418\" style=\"fill:none;stroke:#00ffff;stroke-linecap:square;\"/>\n",
        "   </g>\n",
        "   <g id=\"line2d_10\">\n",
        "    <path clip-path=\"url(#p124b8dd147)\" d=\"\n",
        "M329.417 146.418\n",
        "L330.805 145.662\" style=\"fill:none;stroke:#00ffff;stroke-linecap:square;\"/>\n",
        "   </g>\n",
        "   <g id=\"line2d_11\">\n",
        "    <path clip-path=\"url(#p124b8dd147)\" d=\"\n",
        "M330.805 145.662\n",
        "L332.262 144.673\" style=\"fill:none;stroke:#00ffff;stroke-linecap:square;\"/>\n",
        "   </g>\n",
        "   <g id=\"line2d_12\">\n",
        "    <path clip-path=\"url(#p124b8dd147)\" d=\"\n",
        "M332.262 144.673\n",
        "L333.734 143.49\" style=\"fill:none;stroke:#00ffff;stroke-linecap:square;\"/>\n",
        "   </g>\n",
        "   <g id=\"line2d_13\">\n",
        "    <path clip-path=\"url(#p124b8dd147)\" d=\"\n",
        "M333.734 143.49\n",
        "L335.163 142.158\" style=\"fill:none;stroke:#00ffff;stroke-linecap:square;\"/>\n",
        "   </g>\n",
        "   <g id=\"line2d_14\">\n",
        "    <path clip-path=\"url(#p124b8dd147)\" d=\"\n",
        "M335.163 142.158\n",
        "L336.495 140.729\" style=\"fill:none;stroke:#00ffff;stroke-linecap:square;\"/>\n",
        "   </g>\n",
        "   <g id=\"line2d_15\">\n",
        "    <path clip-path=\"url(#p124b8dd147)\" d=\"\n",
        "M336.495 140.729\n",
        "L337.678 139.257\" style=\"fill:none;stroke:#00ffff;stroke-linecap:square;\"/>\n",
        "   </g>\n",
        "   <g id=\"line2d_16\">\n",
        "    <path clip-path=\"url(#p124b8dd147)\" d=\"\n",
        "M337.678 139.257\n",
        "L338.667 137.8\" style=\"fill:none;stroke:#00ffff;stroke-linecap:square;\"/>\n",
        "   </g>\n",
        "   <g id=\"line2d_17\">\n",
        "    <path clip-path=\"url(#p124b8dd147)\" d=\"\n",
        "M338.667 137.8\n",
        "L339.424 136.412\" style=\"fill:none;stroke:#00ffff;stroke-linecap:square;\"/>\n",
        "   </g>\n",
        "   <g id=\"line2d_18\">\n",
        "    <path clip-path=\"url(#p124b8dd147)\" d=\"\n",
        "M339.424 136.412\n",
        "L339.919 135.148\" style=\"fill:none;stroke:#00ffff;stroke-linecap:square;\"/>\n",
        "   </g>\n",
        "   <g id=\"line2d_19\">\n",
        "    <path clip-path=\"url(#p124b8dd147)\" d=\"\n",
        "M339.919 135.148\n",
        "L340.135 134.055\" style=\"fill:none;stroke:#00ffff;stroke-linecap:square;\"/>\n",
        "   </g>\n",
        "   <g id=\"line2d_20\">\n",
        "    <path clip-path=\"url(#p124b8dd147)\" d=\"\n",
        "M340.135 134.055\n",
        "L340.061 133.177\" style=\"fill:none;stroke:#00ffff;stroke-linecap:square;\"/>\n",
        "   </g>\n",
        "   <g id=\"line2d_21\">\n",
        "    <path clip-path=\"url(#p124b8dd147)\" d=\"\n",
        "M340.061 133.177\n",
        "L339.703 132.546\" style=\"fill:none;stroke:#00ffff;stroke-linecap:square;\"/>\n",
        "   </g>\n",
        "   <g id=\"line2d_22\">\n",
        "    <path clip-path=\"url(#p124b8dd147)\" d=\"\n",
        "M339.703 132.546\n",
        "L339.072 132.187\" style=\"fill:none;stroke:#00ffff;stroke-linecap:square;\"/>\n",
        "   </g>\n",
        "   <g id=\"line2d_23\">\n",
        "    <path clip-path=\"url(#p124b8dd147)\" d=\"\n",
        "M339.072 132.187\n",
        "L338.194 132.114\" style=\"fill:none;stroke:#00ffff;stroke-linecap:square;\"/>\n",
        "   </g>\n",
        "   <g id=\"line2d_24\">\n",
        "    <path clip-path=\"url(#p124b8dd147)\" d=\"\n",
        "M338.194 132.114\n",
        "L337.101 132.33\" style=\"fill:none;stroke:#00ffff;stroke-linecap:square;\"/>\n",
        "   </g>\n",
        "   <g id=\"line2d_25\">\n",
        "    <path clip-path=\"url(#p124b8dd147)\" d=\"\n",
        "M337.101 132.33\n",
        "L335.837 132.825\" style=\"fill:none;stroke:#00ffff;stroke-linecap:square;\"/>\n",
        "   </g>\n",
        "   <g id=\"line2d_26\">\n",
        "    <path clip-path=\"url(#p124b8dd147)\" d=\"\n",
        "M335.837 132.825\n",
        "L334.449 133.582\" style=\"fill:none;stroke:#00ffff;stroke-linecap:square;\"/>\n",
        "   </g>\n",
        "   <g id=\"line2d_27\">\n",
        "    <path clip-path=\"url(#p124b8dd147)\" d=\"\n",
        "M334.449 133.582\n",
        "L332.992 134.571\" style=\"fill:none;stroke:#00ffff;stroke-linecap:square;\"/>\n",
        "   </g>\n",
        "   <g id=\"line2d_28\">\n",
        "    <path clip-path=\"url(#p124b8dd147)\" d=\"\n",
        "M332.992 134.571\n",
        "L331.52 135.754\" style=\"fill:none;stroke:#00ffff;stroke-linecap:square;\"/>\n",
        "   </g>\n",
        "   <g id=\"line2d_29\">\n",
        "    <path clip-path=\"url(#p124b8dd147)\" d=\"\n",
        "M331.52 135.754\n",
        "L330.091 137.086\" style=\"fill:none;stroke:#00ffff;stroke-linecap:square;\"/>\n",
        "   </g>\n",
        "   <g id=\"line2d_30\">\n",
        "    <path clip-path=\"url(#p124b8dd147)\" d=\"\n",
        "M330.091 137.086\n",
        "L328.759 138.515\" style=\"fill:none;stroke:#00ffff;stroke-linecap:square;\"/>\n",
        "   </g>\n",
        "   <g id=\"line2d_31\">\n",
        "    <path clip-path=\"url(#p124b8dd147)\" d=\"\n",
        "M328.759 138.515\n",
        "L327.576 139.987\" style=\"fill:none;stroke:#00ffff;stroke-linecap:square;\"/>\n",
        "   </g>\n",
        "   <g id=\"line2d_32\">\n",
        "    <path clip-path=\"url(#p124b8dd147)\" d=\"\n",
        "M327.576 139.987\n",
        "L326.587 141.444\" style=\"fill:none;stroke:#00ffff;stroke-linecap:square;\"/>\n",
        "   </g>\n",
        "   <g id=\"line2d_33\">\n",
        "    <path clip-path=\"url(#p124b8dd147)\" d=\"\n",
        "M326.587 141.444\n",
        "L325.83 142.832\" style=\"fill:none;stroke:#00ffff;stroke-linecap:square;\"/>\n",
        "   </g>\n",
        "   <g id=\"line2d_34\">\n",
        "    <path clip-path=\"url(#p124b8dd147)\" d=\"\n",
        "M325.83 142.832\n",
        "L325.335 144.096\" style=\"fill:none;stroke:#00ffff;stroke-linecap:square;\"/>\n",
        "   </g>\n",
        "   <g id=\"line2d_35\">\n",
        "    <path clip-path=\"url(#p124b8dd147)\" d=\"\n",
        "M325.335 144.096\n",
        "L325.119 145.188\" style=\"fill:none;stroke:#00ffff;stroke-linecap:square;\"/>\n",
        "   </g>\n",
        "   <g id=\"line2d_36\">\n",
        "    <path clip-path=\"url(#p124b8dd147)\" d=\"\n",
        "M325.119 145.188\n",
        "L325.192 146.067\" style=\"fill:none;stroke:#00ffff;stroke-linecap:square;\"/>\n",
        "   </g>\n",
        "   <g id=\"line2d_37\">\n",
        "    <path clip-path=\"url(#p124b8dd147)\" d=\"\n",
        "M325.192 146.067\n",
        "L325.551 146.698\" style=\"fill:none;stroke:#00ffff;stroke-linecap:square;\"/>\n",
        "   </g>\n",
        "   <g id=\"line2d_38\">\n",
        "    <path clip-path=\"url(#p124b8dd147)\" d=\"\n",
        "M306.683 129.952\n",
        "L306.683 118.985\" style=\"fill:none;stroke:#ffff00;stroke-linecap:square;\"/>\n",
        "   </g>\n",
        "   <g id=\"line2d_39\">\n",
        "    <path clip-path=\"url(#p124b8dd147)\" d=\"\n",
        "M311.754 129.598\n",
        "L312.375 129.319\" style=\"fill:none;stroke:#ffff00;stroke-linecap:square;\"/>\n",
        "   </g>\n",
        "   <g id=\"line2d_40\">\n",
        "    <path clip-path=\"url(#p124b8dd147)\" d=\"\n",
        "M312.375 129.319\n",
        "L312.989 129.041\" style=\"fill:none;stroke:#ffff00;stroke-linecap:square;\"/>\n",
        "   </g>\n",
        "   <g id=\"line2d_41\">\n",
        "    <path clip-path=\"url(#p124b8dd147)\" d=\"\n",
        "M312.989 129.041\n",
        "L313.59 128.764\" style=\"fill:none;stroke:#ffff00;stroke-linecap:square;\"/>\n",
        "   </g>\n",
        "   <g id=\"line2d_42\">\n",
        "    <path clip-path=\"url(#p124b8dd147)\" d=\"\n",
        "M313.59 128.764\n",
        "L314.172 128.488\" style=\"fill:none;stroke:#ffff00;stroke-linecap:square;\"/>\n",
        "   </g>\n",
        "   <g id=\"line2d_43\">\n",
        "    <path clip-path=\"url(#p124b8dd147)\" d=\"\n",
        "M314.172 128.488\n",
        "L314.727 128.213\" style=\"fill:none;stroke:#ffff00;stroke-linecap:square;\"/>\n",
        "   </g>\n",
        "   <g id=\"line2d_44\">\n",
        "    <path clip-path=\"url(#p124b8dd147)\" d=\"\n",
        "M314.727 128.213\n",
        "L315.25 127.941\" style=\"fill:none;stroke:#ffff00;stroke-linecap:square;\"/>\n",
        "   </g>\n",
        "   <g id=\"line2d_45\">\n",
        "    <path clip-path=\"url(#p124b8dd147)\" d=\"\n",
        "M315.25 127.941\n",
        "L315.734 127.67\" style=\"fill:none;stroke:#ffff00;stroke-linecap:square;\"/>\n",
        "   </g>\n",
        "   <g id=\"line2d_46\">\n",
        "    <path clip-path=\"url(#p124b8dd147)\" d=\"\n",
        "M315.734 127.67\n",
        "L316.172 127.403\" style=\"fill:none;stroke:#ffff00;stroke-linecap:square;\"/>\n",
        "   </g>\n",
        "   <g id=\"line2d_47\">\n",
        "    <path clip-path=\"url(#p124b8dd147)\" d=\"\n",
        "M316.172 127.403\n",
        "L316.557 127.138\" style=\"fill:none;stroke:#ffff00;stroke-linecap:square;\"/>\n",
        "   </g>\n",
        "   <g id=\"line2d_48\">\n",
        "    <path clip-path=\"url(#p124b8dd147)\" d=\"\n",
        "M316.557 127.138\n",
        "L316.884 126.878\" style=\"fill:none;stroke:#ffff00;stroke-linecap:square;\"/>\n",
        "   </g>\n",
        "   <g id=\"line2d_49\">\n",
        "    <path clip-path=\"url(#p124b8dd147)\" d=\"\n",
        "M316.884 126.878\n",
        "L317.145 126.621\" style=\"fill:none;stroke:#ffff00;stroke-linecap:square;\"/>\n",
        "   </g>\n",
        "   <g id=\"line2d_50\">\n",
        "    <path clip-path=\"url(#p124b8dd147)\" d=\"\n",
        "M317.145 126.621\n",
        "L317.335 126.368\" style=\"fill:none;stroke:#ffff00;stroke-linecap:square;\"/>\n",
        "   </g>\n",
        "   <g id=\"line2d_51\">\n",
        "    <path clip-path=\"url(#p124b8dd147)\" d=\"\n",
        "M317.335 126.368\n",
        "L317.446 126.12\" style=\"fill:none;stroke:#ffff00;stroke-linecap:square;\"/>\n",
        "   </g>\n",
        "   <g id=\"line2d_52\">\n",
        "    <path clip-path=\"url(#p124b8dd147)\" d=\"\n",
        "M317.446 126.12\n",
        "L317.472 125.878\" style=\"fill:none;stroke:#ffff00;stroke-linecap:square;\"/>\n",
        "   </g>\n",
        "   <g id=\"line2d_53\">\n",
        "    <path clip-path=\"url(#p124b8dd147)\" d=\"\n",
        "M317.472 125.878\n",
        "L317.406 125.641\" style=\"fill:none;stroke:#ffff00;stroke-linecap:square;\"/>\n",
        "   </g>\n",
        "   <g id=\"line2d_54\">\n",
        "    <path clip-path=\"url(#p124b8dd147)\" d=\"\n",
        "M317.406 125.641\n",
        "L317.243 125.409\" style=\"fill:none;stroke:#ffff00;stroke-linecap:square;\"/>\n",
        "   </g>\n",
        "   <g id=\"line2d_55\">\n",
        "    <path clip-path=\"url(#p124b8dd147)\" d=\"\n",
        "M317.243 125.409\n",
        "L316.983 125.184\" style=\"fill:none;stroke:#ffff00;stroke-linecap:square;\"/>\n",
        "   </g>\n",
        "   <g id=\"line2d_56\">\n",
        "    <path clip-path=\"url(#p124b8dd147)\" d=\"\n",
        "M316.983 125.184\n",
        "L316.643 124.963\" style=\"fill:none;stroke:#ffff00;stroke-linecap:square;\"/>\n",
        "   </g>\n",
        "   <g id=\"line2d_57\">\n",
        "    <path clip-path=\"url(#p124b8dd147)\" d=\"\n",
        "M316.643 124.963\n",
        "L316.241 124.744\" style=\"fill:none;stroke:#ffff00;stroke-linecap:square;\"/>\n",
        "   </g>\n",
        "   <g id=\"line2d_58\">\n",
        "    <path clip-path=\"url(#p124b8dd147)\" d=\"\n",
        "M316.241 124.744\n",
        "L315.794 124.528\" style=\"fill:none;stroke:#ffff00;stroke-linecap:square;\"/>\n",
        "   </g>\n",
        "   <g id=\"line2d_59\">\n",
        "    <path clip-path=\"url(#p124b8dd147)\" d=\"\n",
        "M315.794 124.528\n",
        "L315.321 124.311\" style=\"fill:none;stroke:#ffff00;stroke-linecap:square;\"/>\n",
        "   </g>\n",
        "   <g id=\"line2d_60\">\n",
        "    <path clip-path=\"url(#p124b8dd147)\" d=\"\n",
        "M315.321 124.311\n",
        "L314.84 124.092\" style=\"fill:none;stroke:#ffff00;stroke-linecap:square;\"/>\n",
        "   </g>\n",
        "   <g id=\"line2d_61\">\n",
        "    <path clip-path=\"url(#p124b8dd147)\" d=\"\n",
        "M314.84 124.092\n",
        "L314.367 123.871\" style=\"fill:none;stroke:#ffff00;stroke-linecap:square;\"/>\n",
        "   </g>\n",
        "   <g id=\"line2d_62\">\n",
        "    <path clip-path=\"url(#p124b8dd147)\" d=\"\n",
        "M314.367 123.871\n",
        "L313.922 123.645\" style=\"fill:none;stroke:#ffff00;stroke-linecap:square;\"/>\n",
        "   </g>\n",
        "   <g id=\"line2d_63\">\n",
        "    <path clip-path=\"url(#p124b8dd147)\" d=\"\n",
        "M313.922 123.645\n",
        "L313.523 123.414\" style=\"fill:none;stroke:#ffff00;stroke-linecap:square;\"/>\n",
        "   </g>\n",
        "   <g id=\"line2d_64\">\n",
        "    <path clip-path=\"url(#p124b8dd147)\" d=\"\n",
        "M313.523 123.414\n",
        "L313.186 123.175\" style=\"fill:none;stroke:#ffff00;stroke-linecap:square;\"/>\n",
        "   </g>\n",
        "   <g id=\"line2d_65\">\n",
        "    <path clip-path=\"url(#p124b8dd147)\" d=\"\n",
        "M313.186 123.175\n",
        "L312.931 122.927\" style=\"fill:none;stroke:#ffff00;stroke-linecap:square;\"/>\n",
        "   </g>\n",
        "   <g id=\"line2d_66\">\n",
        "    <path clip-path=\"url(#p124b8dd147)\" d=\"\n",
        "M312.931 122.927\n",
        "L312.774 122.669\" style=\"fill:none;stroke:#ffff00;stroke-linecap:square;\"/>\n",
        "   </g>\n",
        "   <g id=\"line2d_67\">\n",
        "    <path clip-path=\"url(#p124b8dd147)\" d=\"\n",
        "M312.774 122.669\n",
        "L312.723 122.4\" style=\"fill:none;stroke:#ffff00;stroke-linecap:square;\"/>\n",
        "   </g>\n",
        "   <g id=\"line2d_68\">\n",
        "    <path clip-path=\"url(#p124b8dd147)\" d=\"\n",
        "M312.723 122.4\n",
        "L312.771 122.121\" style=\"fill:none;stroke:#ffff00;stroke-linecap:square;\"/>\n",
        "   </g>\n",
        "   <g id=\"line2d_69\">\n",
        "    <path clip-path=\"url(#p124b8dd147)\" d=\"\n",
        "M312.771 122.121\n",
        "L312.909 121.834\" style=\"fill:none;stroke:#ffff00;stroke-linecap:square;\"/>\n",
        "   </g>\n",
        "   <g id=\"line2d_70\">\n",
        "    <path clip-path=\"url(#p124b8dd147)\" d=\"\n",
        "M312.909 121.834\n",
        "L313.128 121.538\" style=\"fill:none;stroke:#ffff00;stroke-linecap:square;\"/>\n",
        "   </g>\n",
        "   <g id=\"line2d_71\">\n",
        "    <path clip-path=\"url(#p124b8dd147)\" d=\"\n",
        "M313.128 121.538\n",
        "L313.418 121.234\" style=\"fill:none;stroke:#ffff00;stroke-linecap:square;\"/>\n",
        "   </g>\n",
        "   <g id=\"line2d_72\">\n",
        "    <path clip-path=\"url(#p124b8dd147)\" d=\"\n",
        "M313.418 121.234\n",
        "L313.772 120.925\" style=\"fill:none;stroke:#ffff00;stroke-linecap:square;\"/>\n",
        "   </g>\n",
        "   <g id=\"line2d_73\">\n",
        "    <path clip-path=\"url(#p124b8dd147)\" d=\"\n",
        "M313.772 120.925\n",
        "L314.178 120.61\" style=\"fill:none;stroke:#ffff00;stroke-linecap:square;\"/>\n",
        "   </g>\n",
        "   <g id=\"line2d_74\">\n",
        "    <path clip-path=\"url(#p124b8dd147)\" d=\"\n",
        "M314.178 120.61\n",
        "L314.63 120.29\" style=\"fill:none;stroke:#ffff00;stroke-linecap:square;\"/>\n",
        "   </g>\n",
        "   <g id=\"line2d_75\">\n",
        "    <path clip-path=\"url(#p124b8dd147)\" d=\"\n",
        "M314.63 120.29\n",
        "L315.118 119.967\" style=\"fill:none;stroke:#ffff00;stroke-linecap:square;\"/>\n",
        "   </g>\n",
        "   <g id=\"line2d_76\">\n",
        "    <path clip-path=\"url(#p124b8dd147)\" d=\"\n",
        "M315.118 119.967\n",
        "L315.633 119.641\" style=\"fill:none;stroke:#ffff00;stroke-linecap:square;\"/>\n",
        "   </g>\n",
        "   <g id=\"line2d_77\">\n",
        "    <path clip-path=\"url(#p124b8dd147)\" d=\"\n",
        "M315.633 119.641\n",
        "L316.165 119.313\" style=\"fill:none;stroke:#ffff00;stroke-linecap:square;\"/>\n",
        "   </g>\n",
        "   <g id=\"line2d_78\">\n",
        "    <path clip-path=\"url(#p124b8dd147)\" d=\"\n",
        "M316.165 119.313\n",
        "L316.707 118.985\" style=\"fill:none;stroke:#ffff00;stroke-linecap:square;\"/>\n",
        "   </g>\n",
        "  </g>\n",
        " </g>\n",
        " <defs>\n",
        "  <clipPath id=\"p124b8dd147\">\n",
        "   <rect height=\"223.2\" width=\"334.8\" x=\"54.0\" y=\"28.8\"/>\n",
        "  </clipPath>\n",
        " </defs>\n",
        "</svg>\n"
       ],
       "text": [
        "[Segment2(Point2(-62.993, 237.587),Point2(-62.993, -41.17099999999999)),\n",
        " Segment2(Point2(-62.993, -41.171),Point2(237.52800000000002, -41.171)),\n",
        " Segment2(Point2(237.528, -41.171),Point2(237.528, 237.587)),\n",
        " Segment2(Point2(237.528, 237.587),Point2(-62.99300000000002, 237.587)),\n",
        " Arc2(center=Point2(96.324, 96.417),p1=Point2(192.698, 96.417),p2=Point2(96.324, 192.791),r=96.374),\n",
        " Arc2(center=Point2(96.399, 96.417),p1=Point2(96.399, 192.791),p2=Point2(0.025, 96.417),r=96.374),\n",
        " Arc2(center=Point2(-1208.195, 96.417),p1=Point2(-1304.569, 96.417),p2=Point2(-1208.195, 0.043),r=96.374),\n",
        " Arc2(center=Point2(96.741, 96.142),p1=Point2(0.367, 96.142),p2=Point2(96.741, -0.232),r=96.374),\n",
        " Circle(Point2(96.093, 97.245),84.2892),\n",
        " Chain(Point2(59.954, 66.142),Point2(59.954, 66.142),32),\n",
        " Chain(Point2(-41.49, 156.173),Point2(-41.49, 180.9),2),\n",
        " Chain(Point2(-14.227, 158.075),Point2(12.402, 215.137),40)]"
       ]
      }
     ],
     "prompt_number": 4
    },
    {
     "cell_type": "code",
     "collapsed": false,
     "input": [
      "d.block"
     ],
     "language": "python",
     "metadata": {},
     "outputs": [
      {
       "metadata": {},
       "output_type": "pyout",
       "prompt_number": 5,
       "text": [
        "{u'$MODEL_SPACE': [],\n",
        " u'$PAPER_SPACE': [],\n",
        " u'ARC': [Arc2(center=Point2(652.259, 458.858),p1=Point2(748.633, 458.858),p2=Point2(652.259, 555.232),r=96.374)]}"
       ]
      }
     ],
     "prompt_number": 5
    },
    {
     "cell_type": "code",
     "collapsed": false,
     "input": [
      "d=Drawing()\n",
      "for i,color in enumerate(color_range(100,'blue','orange')):\n",
      "    circle=Circle((i*.1,sin(.1*i)),1)\n",
      "    circle.color=color\n",
      "    d.append(circle)\n",
      "d"
     ],
     "language": "python",
     "metadata": {},
     "outputs": []
    },
    {
     "cell_type": "markdown",
     "metadata": {},
     "source": [
      "##Graph\n",
      "efficient Euclidian Graphs for [NetworkX](http://networkx.github.io/) and related algorithms"
     ]
    },
    {
     "cell_type": "code",
     "collapsed": false,
     "input": [
      "import networkx as nx\n",
      "geo=nx.geographical_threshold_graph(50,25)\n",
      "geo # NetworkX Graphs do not render in Notebooks..."
     ],
     "language": "python",
     "metadata": {},
     "outputs": []
    },
    {
     "cell_type": "code",
     "collapsed": false,
     "input": [
      "from Goulib.graph import *\n",
      "geo=GeoGraph(geo)\n",
      "geo # GeoGraphs do !"
     ],
     "language": "python",
     "metadata": {},
     "outputs": []
    },
    {
     "cell_type": "code",
     "collapsed": false,
     "input": [
      "# it's easy to make GeoGraphs look nice\n",
      "def edge_color(data): # simply define a function that maps edge data to a color\n",
      "    return plt.get_cmap('Blues')(data['length']/.25)       \n",
      "geo.render(edge_color=edge_color, node_size=50) #this will set geo.render_args ...\n",
      "geo #... so here we display them :-)"
     ],
     "language": "python",
     "metadata": {},
     "outputs": []
    },
    {
     "cell_type": "code",
     "collapsed": false,
     "input": [
      "nodes=points_on_sphere(12)\n",
      "sphere=GeoGraph(nodes=nodes) #GeoGraphs can also be built from n-dim points only\n",
      "sphere.render(edge_color=edge_color, node_size=50) #this will set geo.render_args ...\n",
      "sphere"
     ],
     "language": "python",
     "metadata": {},
     "outputs": []
    },
    {
     "cell_type": "markdown",
     "metadata": {},
     "source": [
      "##Polynomial"
     ]
    },
    {
     "cell_type": "code",
     "collapsed": false,
     "input": [
      "from Goulib.polynomial import *\n",
      "\n",
      "p1=Polynomial([-1,1,3]) # inited from coefficients in ascending power order\n",
      "p1 # Latex output"
     ],
     "language": "python",
     "metadata": {},
     "outputs": []
    },
    {
     "cell_type": "code",
     "collapsed": false,
     "input": [
      "p2=Polynomial('- 5x^3 +3*x') # inited from string, in any power order, with optional spaces and *\n",
      "p2"
     ],
     "language": "python",
     "metadata": {},
     "outputs": []
    },
    {
     "cell_type": "code",
     "collapsed": false,
     "input": [
      "print [round(p1(x),3) for x in arange(-1,1,.2)] #evaluation"
     ],
     "language": "python",
     "metadata": {},
     "outputs": []
    },
    {
     "cell_type": "code",
     "collapsed": false,
     "input": [
      "p1-p2+2 # addition and subtraction of polynomials and scalars"
     ],
     "language": "python",
     "metadata": {},
     "outputs": []
    },
    {
     "cell_type": "code",
     "collapsed": false,
     "input": [
      "-p1*p2**2 # polynomial (and scalar) multiplication and scalar power"
     ],
     "language": "python",
     "metadata": {},
     "outputs": []
    },
    {
     "cell_type": "code",
     "collapsed": false,
     "input": [
      "p1.derivative()+p2.integral() #integral and derivative"
     ],
     "language": "python",
     "metadata": {},
     "outputs": []
    },
    {
     "cell_type": "markdown",
     "metadata": {},
     "source": [
      "## Motion\n",
      "\"motion laws\", functions of time which return (position, velocity, acceleration, jerk) tuples"
     ]
    },
    {
     "cell_type": "code",
     "collapsed": false,
     "input": [
      "from Goulib.motion import *\n",
      "\n",
      "def plot(pva,t0=None,t1=None,ylim=None):\n",
      "    \"\"\"plots a Segment on pylab\"\"\"\n",
      "    if t0 is None: t0=pva.t0\n",
      "    if t1 is None: t1=pva.t1\n",
      "    x = np.arange(t0,t1, (t1-t0)/100.);\n",
      "    y = [pva(t) for t in x]\n",
      "    y=map(list, zip(*y)) #transpose because of \n",
      "    labels=['Pos','Vel','Acc','Jrk']\n",
      "    for y_arr, label in zip(y, labels):\n",
      "        pylab.plot(x, y_arr, label=label)\n",
      "    pylab.legend()\n",
      "    if ylim: pylab.ylim(ylim)\n",
      "    pylab.show() "
     ],
     "language": "python",
     "metadata": {},
     "outputs": []
    },
    {
     "cell_type": "markdown",
     "metadata": {},
     "source": [
      "##Segments"
     ]
    },
    {
     "cell_type": "markdown",
     "metadata": {},
     "source": [
      "### Polynomial Segments\n",
      "\n",
      "Polynomials are very handy to define Segments as coefficients can easily be determined from start/end conditions.\n",
      "Also, polynomials can easily be integrated or derivated in order to obtain position, velocity, or acceleration laws from each other.\n",
      "\n",
      "Motion defines several handy functions that return SegmentPoly matching common situations"
     ]
    },
    {
     "cell_type": "code",
     "collapsed": false,
     "input": [
      "seg=Segment2ndDegree(0,1,(-1,1,2)) # time interval and initial position\n",
      "plot(seg)"
     ],
     "language": "python",
     "metadata": {},
     "outputs": []
    },
    {
     "cell_type": "code",
     "collapsed": false,
     "input": [
      "seg=Segment4thDegree(0,None,(-2,1),(2,3))\n",
      "plot(seg,ylim=[-2,4])"
     ],
     "language": "python",
     "metadata": {},
     "outputs": []
    },
    {
     "cell_type": "code",
     "collapsed": false,
     "input": [
      "seg=Segment4thDegree(0,2,(-2,1),(None,3))\n",
      "plot(seg,ylim=[-2,4])"
     ],
     "language": "python",
     "metadata": {},
     "outputs": []
    },
    {
     "cell_type": "markdown",
     "metadata": {},
     "source": [
      "## Interval\n",
      "operations on [a..b[ intervals"
     ]
    },
    {
     "cell_type": "code",
     "collapsed": false,
     "input": [
      "from Goulib.interval import *\n",
      "\n",
      "Interval(5,6)+Interval(2,3)+Interval(3,4)"
     ],
     "language": "python",
     "metadata": {},
     "outputs": []
    },
    {
     "cell_type": "markdown",
     "metadata": {},
     "source": [
      "## Piecewise\n",
      "Piecewise defined functions"
     ]
    },
    {
     "cell_type": "code",
     "collapsed": false,
     "input": [
      "from Goulib.piecewise import *\n",
      "\n",
      "def plot(pwfs,ylim=None,labels=None,offset=None,max=None):\n",
      "    \"\"\"plots function\"\"\"\n",
      "    if isinstance(pwfs,Piecewise):\n",
      "        pwfs=[pwfs]\n",
      "    for i,pwf in enumerate(pwfs):\n",
      "        (x,y)=pwf.points(max=max)\n",
      "        if offset:\n",
      "            x=[x+i*offset for x in x]\n",
      "            y=[y+i*offset for y in y]\n",
      "        try:\n",
      "            label=labels[i]\n",
      "        except:\n",
      "            label=''\n",
      "        pylab.plot(x, y, label=label)\n",
      "        \n",
      "    if ylim: pylab.ylim(ylim)\n",
      "    if legend: pylab.legend()\n",
      "    pylab.show() "
     ],
     "language": "python",
     "metadata": {},
     "outputs": []
    },
    {
     "cell_type": "markdown",
     "metadata": {},
     "source": [
      "The simplest are piecewise continuous functions. They are defined by $(x_i,y_i)$ tuples given in any order. \n",
      "\n",
      "$f(x) = \\begin{cases}y_0 & x < x_1 \\\\ y_i & x_i \\le x < x_{i+1} \\\\ y_n & x > x_n \\end{cases}$"
     ]
    },
    {
     "cell_type": "code",
     "collapsed": false,
     "input": [
      "p1=Piecewise([(4,4),(3,3),(1,1),(5,0)])\n",
      "plot(p1,max=6,ylim=(-1,5))"
     ],
     "language": "python",
     "metadata": {},
     "outputs": []
    },
    {
     "cell_type": "markdown",
     "metadata": {},
     "source": [
      "By default y0=0 , but it can be specified at construction.\n",
      "\n",
      "Piecewise functions can also be defined by adding (x0,y,x1) segments"
     ]
    },
    {
     "cell_type": "code",
     "collapsed": false,
     "input": [
      "p2=Piecewise(default=1)\n",
      "p2+=(2.5,1,6.5)\n",
      "p2+=(1.5,1,3.5)\n",
      "plot(p2,max=7,ylim=(-1,5))"
     ],
     "language": "python",
     "metadata": {},
     "outputs": []
    },
    {
     "cell_type": "code",
     "collapsed": false,
     "input": [
      "plot([p1,p2,p1+p2,p1-p2,p1*p2,p1/p2],\n",
      "     labels=['p1','p2','p1+p2','p1-p2','p1*p2','p1/p2'],\n",
      "     max=7,ylim=(-2,10), offset=0.02)"
     ],
     "language": "python",
     "metadata": {},
     "outputs": []
    },
    {
     "cell_type": "code",
     "collapsed": false,
     "input": [
      "p1=Piecewise([(2,True)],False)\n",
      "p2=Piecewise([(1,True),(2,False),(3,True)],False)\n",
      "plot([p1,p2,p1|p2,p1&p2,p1^p2,p1>>3],\n",
      "     labels=['p1','p2','p1 or p2','p1 and p2','p1 xor p2','p1>>3'],\n",
      "     max=7,ylim=(-1,2), offset=0.02)"
     ],
     "language": "python",
     "metadata": {},
     "outputs": []
    },
    {
     "cell_type": "code",
     "collapsed": false,
     "input": [
      "import matplotlib\n",
      "matplotlib.use('webagg')\n",
      "import matplotlib.pyplot as plt\n",
      "plt.plot(range(10))\n",
      "plt.show()"
     ],
     "language": "python",
     "metadata": {},
     "outputs": []
    }
   ],
   "metadata": {}
  }
 ]
}