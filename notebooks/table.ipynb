{
 "cells": [
  {
   "cell_type": "markdown",
   "metadata": {},
   "source": [
    "# [Goulib](../notebook.ipynb).table\n",
    "\"mini pandas.DataFrame\" Table class with Excel + CSV I/O, easy access to columns, HTML output, and much more."
   ]
  },
  {
   "cell_type": "code",
   "execution_count": 1,
   "metadata": {
    "collapsed": false
   },
   "outputs": [],
   "source": [
    "from Goulib.notebook import *\n",
    "from Goulib.table import *"
   ]
  },
  {
   "cell_type": "code",
   "execution_count": 2,
   "metadata": {
    "collapsed": false
   },
   "outputs": [
    {
     "data": {
      "text/html": [
       "<table><tr><td style=\"text-align:right;\">1</td><td style=\"text-align:right;\">2</td><td style=\"text-align:right;\">3</td></tr>\n",
       "<tr><td style=\"text-align:right;\">4</td><td style=\"text-align:right;\">5</td></tr>\n",
       "</table>\n"
      ],
      "text/plain": [
       "Table(len=2,titles=[],data=[[1, 2, 3], [4, 5]])"
      ]
     },
     "execution_count": 2,
     "metadata": {},
     "output_type": "execute_result"
    }
   ],
   "source": [
    "small=Table(Table([[1,2,3],(4,5)])) #tables can be constructed from any tabular data\n",
    "small"
   ]
  },
  {
   "cell_type": "code",
   "execution_count": 3,
   "metadata": {
    "collapsed": false
   },
   "outputs": [
    {
     "data": {
      "text/html": [
       "<table><thead>\n",
       "<tr><th>complex</th><th>content</th></tr>\n",
       "</thead>\n",
       "<tr><td><table><tr><td style=\"text-align:right;\">1</td><td style=\"text-align:right;\">2</td><td style=\"text-align:right;\">3</td></tr>\n",
       "<tr><td style=\"text-align:right;\">4</td><td style=\"text-align:right;\">5</td></tr>\n",
       "</table>\n",
       "</td><td>$$\\LaTeX : e=m.c^2$$</td></tr>\n",
       "<tr><td>ERROR : Image(mode=RGB size=(128, 128)) _repr_html_ failed : Cannot handle this data type</td><td>ERROR : Image(mode=RGB size=(128, 128)) _repr_html_ failed : Cannot handle this data type</td></tr>\n",
       "</table>\n"
      ],
      "text/plain": [
       "Table(len=2,titles=['complex', 'content'],data=[[Table(len=2,titles=[],data=[[1, 2, 3], [4, 5]]), '$$\\\\LaTeX : e=m.c^2$$'], [Image(mode=RGB size=(128, 128)), Image(mode=RGB size=(128, 128))]])"
      ]
     },
     "execution_count": 3,
     "metadata": {},
     "output_type": "execute_result"
    }
   ],
   "source": [
    "#Table cells can contain other tables, LaTeX expressions, Images... and more (soon...)\n",
    "from Goulib.image import Image\n",
    "lena=Image('../tests/data/lena.png').resize((128,128))\n",
    "Table([[small,'$$\\\\LaTeX : e=m.c^2$$'],[lena,lena]],titles=['complex','content'])"
   ]
  },
  {
   "cell_type": "code",
   "execution_count": 4,
   "metadata": {
    "collapsed": false
   },
   "outputs": [],
   "source": [
    "# Tables can be read from .csv, html, JSON and Excel files (requires xlrd http://www.python-excel.org/)\n",
    "t=Table('../tests/data/test.xls') "
   ]
  },
  {
   "cell_type": "code",
   "execution_count": 5,
   "metadata": {
    "collapsed": false
   },
   "outputs": [
    {
     "data": {
      "text/html": [
       "[OrderDate,Région,Rep,Item,Unités,Cost,Total]"
      ],
      "text/plain": [
       "<IPython.core.display.HTML object>"
      ]
     },
     "metadata": {},
     "output_type": "display_data"
    }
   ],
   "source": [
    "print(t.titles) #Tables have optional column headers"
   ]
  },
  {
   "cell_type": "code",
   "execution_count": 6,
   "metadata": {
    "collapsed": false
   },
   "outputs": [
    {
     "data": {
      "text/html": [
       "<table><thead>\n",
       "<tr><th>OrderDate</th><th>R&#233;gion</th><th>Rep</th><th>Item</th><th>Unit&#233;s</th><th>Cost</th><th>Total</th></tr>\n",
       "</thead>\n",
       "<tr><td style=\"text-align:right;\">41061</td><td>East</td><td>Jones</td><td>Pencil</td><td style=\"text-align:right;\">95</td><td style=\"text-align:right;\">1.99</td><td>&nbsp;</td></tr>\n",
       "<tr><td>1/23/2012</td><td>Central</td><td>Kivell</td><td>Binder</td><td style=\"text-align:right;\">50</td><td style=\"text-align:right;\">19.99</td><td>&nbsp;</td></tr>\n",
       "<tr><td style=\"text-align:right;\">41154</td><td>Central</td><td>Jardine</td><td>Pencil</td><td style=\"text-align:right;\">36</td><td style=\"text-align:right;\">4.99</td><td>&nbsp;</td></tr>\n",
       "<tr><td>2/26/2012</td><td>Central</td><td>Gill</td><td>Pen</td><td style=\"text-align:right;\">27</td><td style=\"text-align:right;\">19.99</td><td>&nbsp;</td></tr>\n",
       "<tr><td>3/15/2012</td><td>West</td><td>Sorvino</td><td>Pencil</td><td style=\"text-align:right;\">56</td><td style=\"text-align:right;\">2.99</td><td>&nbsp;</td></tr>\n",
       "</table>\n"
      ],
      "text/plain": [
       "Table(len=5,titles=['OrderDate', 'Région', 'Rep', 'Item', 'Unités', 'Cost', 'Total'],data=[[41061, 'East', 'Jones', 'Pencil', 95, 1.99, None], ['1/23/2012', 'Central', 'Kivell', 'Binder', 50, 19.99, None], [41154, 'Central', 'Jardine', 'Pencil', 36, 4.99, None], ['2/26/2012', 'Central', 'Gill', 'Pen', 27, 19.99, None], ['3/15/2012', 'West', 'Sorvino', 'Pencil', 56, 2.99, None]])"
      ]
     },
     "execution_count": 6,
     "metadata": {},
     "output_type": "execute_result"
    }
   ],
   "source": [
    "t.setcol('Total',None)\n",
    "Table(t[:5],titles=t.titles) #indexing lines, construction and default HTML representation\n",
    "#notice the Order Dates are messy because of Excel representaion of dates"
   ]
  },
  {
   "cell_type": "code",
   "execution_count": 7,
   "metadata": {
    "collapsed": false
   },
   "outputs": [
    {
     "data": {
      "text/plain": [
       "(4.99, 4.99)"
      ]
     },
     "execution_count": 7,
     "metadata": {},
     "output_type": "execute_result"
    }
   ],
   "source": [
    "t[2,5],t[2,'Cost'] # cells can be accessed by row,col index or title"
   ]
  },
  {
   "cell_type": "code",
   "execution_count": 8,
   "metadata": {
    "collapsed": false
   },
   "outputs": [
    {
     "data": {
      "text/html": [
       "[1.99,19.99,4.99,19.99,2.99]"
      ],
      "text/plain": [
       "<IPython.core.display.HTML object>"
      ]
     },
     "metadata": {},
     "output_type": "display_data"
    }
   ],
   "source": [
    "print(t[:5,'Cost']) # indexing supports slices too"
   ]
  },
  {
   "cell_type": "code",
   "execution_count": 9,
   "metadata": {
    "collapsed": false
   },
   "outputs": [
    {
     "data": {
      "text/plain": [
       "True"
      ]
     },
     "execution_count": 9,
     "metadata": {},
     "output_type": "execute_result"
    }
   ],
   "source": [
    "# handle the mess in Excel Cell types ...\n",
    "t.to_date('OrderDate',fmt=['%m/%d/%Y','Excel']) #converts column to date using several possible formats...\n",
    "t.applyf('Cost',float) # apply a function to a column. Here force the column to contain floats"
   ]
  },
  {
   "cell_type": "code",
   "execution_count": 10,
   "metadata": {
    "collapsed": false
   },
   "outputs": [],
   "source": [
    "# math between columns is still a bit tedious...\n",
    "from Goulib.math2 import vecmul\n",
    "t.setcol('Total',vecmul(t.col('Cost'),t.col('Unités')))"
   ]
  },
  {
   "cell_type": "code",
   "execution_count": 11,
   "metadata": {
    "collapsed": false
   },
   "outputs": [
    {
     "data": {
      "text/plain": [
       "[datetime.date(2013, 12, 21),\n",
       " 3,\n",
       " 11,\n",
       " 5,\n",
       " 2121,\n",
       " 20.308604651162796,\n",
       " 19627.88000000001]"
      ]
     },
     "execution_count": 11,
     "metadata": {},
     "output_type": "execute_result"
    }
   ],
   "source": [
    "#it's easy to make a \"total\" line from columns\n",
    "#with a list of reduce-like functions applied to each column\n",
    "from Goulib.stats import avg\n",
    "from Goulib.itertools2 import count_unique\n",
    "t.total([max,count_unique,count_unique,count_unique,sum,avg,sum])\n",
    "t.footer #result is stored in a separated footer field"
   ]
  },
  {
   "cell_type": "code",
   "execution_count": 12,
   "metadata": {
    "collapsed": false
   },
   "outputs": [
    {
     "data": {
      "text/html": [
       "<table><thead>\n",
       "<tr><th>OrderDate</th><th>R&#233;gion</th><th>Rep</th><th>Item</th><th>Unit&#233;s</th><th>Cost</th><th>Total</th></tr>\n",
       "</thead>\n",
       "<tr><td>...</td><td>...</td><td>...</td><td>...</td><td>...</td><td>...</td><td>...</td></tr>\n",
       "<tr><td style=\"text-align:right;\">2012-01-04</td><td>East</td><td>Jones</td><td>Binder</td><td style=\"text-align:right;\">60</td><td style=\"text-align:right;\">4.99</td><td style=\"text-align:right;\">299.40</td></tr>\n",
       "<tr><td style=\"text-align:right;\">2012-04-18</td><td>Central</td><td>Andrews</td><td>Pencil</td><td style=\"text-align:right;\">75</td><td style=\"text-align:right;\">1.99</td><td style=\"text-align:right;\">149.25</td></tr>\n",
       "<tr><td style=\"text-align:right;\">2012-05-05</td><td>Central</td><td>Jardine</td><td>Pencil</td><td style=\"text-align:right;\">90</td><td style=\"text-align:right;\">4.99</td><td style=\"text-align:right;\">449.10</td></tr>\n",
       "<tr><td style=\"text-align:right;\">2012-05-22</td><td>West</td><td>Thompson</td><td>Pencil</td><td style=\"text-align:right;\">32</td><td style=\"text-align:right;\">1.99</td><td style=\"text-align:right;\">63.68</td></tr>\n",
       "<tr><td style=\"text-align:right;\">2012-08-06</td><td>East</td><td>Jones</td><td>Binder</td><td style=\"text-align:right;\">60</td><td style=\"text-align:right;\">8.99</td><td style=\"text-align:right;\">539.40</td></tr>\n",
       "<tr><td>...</td><td>...</td><td>...</td><td>...</td><td>...</td><td>...</td><td>...</td></tr>\n",
       "<tfoot>\n",
       "<tr><th style=\"text-align:right;\">2013-12-21</th><th style=\"text-align:right;\">3</th><th style=\"text-align:right;\">11</th><th style=\"text-align:right;\">5</th><th style=\"text-align:right;\">2121</th><th style=\"text-align:right;\">20.31</th><th style=\"text-align:right;\">19627.88</th></tr>\n",
       "</tfoot>\n",
       "</table>\n"
      ],
      "text/plain": [
       "<IPython.core.display.HTML object>"
      ]
     },
     "metadata": {},
     "output_type": "display_data"
    }
   ],
   "source": [
    "print(t.html(start=5,stop=10)) # a way to shorten long tables"
   ]
  },
  {
   "cell_type": "code",
   "execution_count": 13,
   "metadata": {
    "collapsed": false
   },
   "outputs": [
    {
     "data": {
      "text/html": [
       "<table><thead>\n",
       "<tr><th>OrderDate</th><th>R&#233;gion</th><th>Rep</th><th>Item</th><th>Unit&#233;s</th><th>Cost</th><th>Total</th></tr>\n",
       "</thead>\n",
       "<tr><td style=\"text-align:right;\">2013-04-12</td><td>Central</td><td>Jardine</td><td>Binder</td><td style=\"text-align:right;\">94</td><td style=\"text-align:right;\">19.99</td><td style=\"text-align:right;\">1879.06</td></tr>\n",
       "<tr><td style=\"text-align:right;\">2012-07-29</td><td>East</td><td>Parent</td><td>Binder</td><td style=\"text-align:right;\">81</td><td style=\"text-align:right;\">19.99</td><td style=\"text-align:right;\">1619.19</td></tr>\n",
       "<tr><td style=\"text-align:right;\">2013-01-02</td><td>Central</td><td>Smith</td><td>Binder</td><td style=\"text-align:right;\">87</td><td style=\"text-align:right;\">15.00</td><td style=\"text-align:right;\">1305.00</td></tr>\n",
       "<tr><td style=\"text-align:right;\">2012-12-29</td><td>East</td><td>Parent</td><td>Pen Set</td><td style=\"text-align:right;\">74</td><td style=\"text-align:right;\">15.99</td><td style=\"text-align:right;\">1183.26</td></tr>\n",
       "<tr><td style=\"text-align:right;\">2013-10-14</td><td>West</td><td>Thompson</td><td>Binder</td><td style=\"text-align:right;\">57</td><td style=\"text-align:right;\">19.99</td><td style=\"text-align:right;\">1139.43</td></tr>\n",
       "<tr><td>...</td><td>...</td><td>...</td><td>...</td><td>...</td><td>...</td><td>...</td></tr>\n",
       "<tfoot>\n",
       "<tr><th style=\"text-align:right;\">2013-12-21</th><th style=\"text-align:right;\">3</th><th style=\"text-align:right;\">11</th><th style=\"text-align:right;\">5</th><th style=\"text-align:right;\">2121</th><th style=\"text-align:right;\">20.31</th><th style=\"text-align:right;\">19627.88</th></tr>\n",
       "</tfoot>\n",
       "</table>\n"
      ],
      "text/plain": [
       "<IPython.core.display.HTML object>"
      ]
     },
     "metadata": {},
     "output_type": "display_data"
    }
   ],
   "source": [
    "t.sort('Total',reverse=True) # Tables can be sorted by column easily\n",
    "print(t.html(stop=5)) # show only the 5 lines with highest total"
   ]
  },
  {
   "cell_type": "code",
   "execution_count": 14,
   "metadata": {
    "collapsed": false
   },
   "outputs": [
    {
     "data": {
      "text/html": [
       "<table><thead>\n",
       "<tr><th>OrderDate</th><th>Rep</th><th>Item</th><th>Unit&#233;s</th><th>Cost</th><th>Total</th></tr>\n",
       "</thead>\n",
       "<tr><td style=\"text-align:right;\">2012-07-29</td><td>Parent</td><td>Binder</td><td style=\"text-align:right;\">81</td><td style=\"text-align:right;\">19.99</td><td style=\"text-align:right;\">1619.19</td></tr>\n",
       "<tr><td style=\"text-align:right;\">2012-12-29</td><td>Parent</td><td>Pen Set</td><td style=\"text-align:right;\">74</td><td style=\"text-align:right;\">15.99</td><td style=\"text-align:right;\">1183.26</td></tr>\n",
       "<tr><td style=\"text-align:right;\">2012-10-22</td><td>Jones</td><td>Pen</td><td style=\"text-align:right;\">64</td><td style=\"text-align:right;\">8.99</td><td style=\"text-align:right;\">575.36</td></tr>\n",
       "<tr><td style=\"text-align:right;\">2012-08-06</td><td>Jones</td><td>Binder</td><td style=\"text-align:right;\">60</td><td style=\"text-align:right;\">8.99</td><td style=\"text-align:right;\">539.40</td></tr>\n",
       "<tr><td style=\"text-align:right;\">2013-04-27</td><td>Howard</td><td>Pen</td><td style=\"text-align:right;\">96</td><td style=\"text-align:right;\">4.99</td><td style=\"text-align:right;\">479.04</td></tr>\n",
       "<tr><td style=\"text-align:right;\">2013-04-07</td><td>Jones</td><td>Pen Set</td><td style=\"text-align:right;\">62</td><td style=\"text-align:right;\">4.99</td><td style=\"text-align:right;\">309.38</td></tr>\n",
       "<tr><td style=\"text-align:right;\">2012-08-11</td><td>Parent</td><td>Pen</td><td style=\"text-align:right;\">15</td><td style=\"text-align:right;\">19.99</td><td style=\"text-align:right;\">299.85</td></tr>\n",
       "<tr><td style=\"text-align:right;\">2012-01-04</td><td>Jones</td><td>Binder</td><td style=\"text-align:right;\">60</td><td style=\"text-align:right;\">4.99</td><td style=\"text-align:right;\">299.40</td></tr>\n",
       "<tr><td style=\"text-align:right;\">2012-09-18</td><td>Jones</td><td>Pen Set</td><td style=\"text-align:right;\">16</td><td style=\"text-align:right;\">15.99</td><td style=\"text-align:right;\">255.84</td></tr>\n",
       "<tr><td style=\"text-align:right;\">2012-06-01</td><td>Jones</td><td>Pencil</td><td style=\"text-align:right;\">95</td><td style=\"text-align:right;\">1.99</td><td style=\"text-align:right;\">189.05</td></tr>\n",
       "<tr><td style=\"text-align:right;\">2012-08-15</td><td>Jones</td><td>Pencil</td><td style=\"text-align:right;\">35</td><td style=\"text-align:right;\">4.99</td><td style=\"text-align:right;\">174.65</td></tr>\n",
       "<tr><td style=\"text-align:right;\">2012-12-07</td><td>Howard</td><td>Binder</td><td style=\"text-align:right;\">29</td><td style=\"text-align:right;\">1.99</td><td style=\"text-align:right;\">57.71</td></tr>\n",
       "<tr><td style=\"text-align:right;\">2013-02-18</td><td>Jones</td><td>Binder</td><td style=\"text-align:right;\">4</td><td style=\"text-align:right;\">4.99</td><td style=\"text-align:right;\">19.96</td></tr>\n",
       "</table>\n"
      ],
      "text/plain": [
       "Table(len=13,titles=['OrderDate', 'Rep', 'Item', 'Unités', 'Cost', 'Total'],data=[[datetime.date(2012, 7, 29), 'Parent', 'Binder', 81, 19.99, 1619.1899999999998], [datetime.date(2012, 12, 29), 'Parent', 'Pen Set', 74, 15.99, 1183.26], [datetime.date(2012, 10, 22), 'Jones', 'Pen', 64, 8.99, 575.36], [datetime.date(2012, 8, 6), 'Jones', 'Binder', 60, 8.99, 539.4], [datetime.date(2013, 4, 27), 'Howard', 'Pen', 96, 4.99, 479.04]])"
      ]
     },
     "execution_count": 14,
     "metadata": {},
     "output_type": "execute_result"
    }
   ],
   "source": [
    "region=t.groupby(u'Région') # dictionary of subtables grouped by a column. notice Unicode support\n",
    "region['East'] # isn't it nice ?"
   ]
  },
  {
   "cell_type": "code",
   "execution_count": 15,
   "metadata": {
    "collapsed": false
   },
   "outputs": [
    {
     "data": {
      "text/plain": [
       "{'Cost': 15.0,\n",
       " 'Item': 'Binder',\n",
       " 'OrderDate': datetime.date(2013, 1, 2),\n",
       " 'Rep': 'Smith',\n",
       " 'Région': 'Central',\n",
       " 'Total': 1305.0,\n",
       " 'Unités': 87}"
      ]
     },
     "execution_count": 15,
     "metadata": {},
     "output_type": "execute_result"
    }
   ],
   "source": [
    "#a row can be extracted as a dict where column titles are keys\n",
    "t.rowasdict(1)"
   ]
  },
  {
   "cell_type": "code",
   "execution_count": 16,
   "metadata": {
    "collapsed": false
   },
   "outputs": [
    {
     "data": {
      "text/plain": [
       "'[{\"Cost\": 19.99, \"Item\": \"Binder\", \"Rep\": \"Jardine\", \"OrderDate\": \"2013-04-12\", \"Unit\\\\u00e9s\": 94, \"Total\": 1879.06, \"R\\\\u00e9gion\": \"Central\"}, {\"Cost\": 15.0, \"Item\": \"Binder\", \"Rep\": \"Smith\", \"OrderDate\": \"2013-01-02\", \"Unit\\\\u00e9s\": 87, \"Total\": 13...'"
      ]
     },
     "execution_count": 16,
     "metadata": {},
     "output_type": "execute_result"
    }
   ],
   "source": [
    "t.json()[:250]+'...' #rowasdict is handy to build json representation"
   ]
  },
  {
   "cell_type": "code",
   "execution_count": 17,
   "metadata": {
    "collapsed": false
   },
   "outputs": [
    {
     "data": {
      "text/html": [
       "<table><thead>\n",
       "<tr><th>OrderDate</th><th>R&#233;gion</th><th>Rep</th><th>Item</th><th>Unit&#233;s</th><th>Cost</th><th>Total</th></tr>\n",
       "</thead>\n",
       "<tr><td style=\"text-align:right;\">2013-04-12</td><td>Central</td><td>Jardine</td><td>Binder</td><td style=\"text-align:right;\">94</td><td style=\"text-align:right;\">19.99</td><td style=\"text-align:right;\">1879.06</td></tr>\n",
       "<tr><td style=\"text-align:right;\">2013-07-08</td><td>Central</td><td>Kivell</td><td>Pen Set</td><td style=\"text-align:right;\">42</td><td style=\"text-align:right;\">23.95</td><td style=\"text-align:right;\">1005.90</td></tr>\n",
       "<tr><td style=\"text-align:right;\">2012-01-23</td><td>Central</td><td>Kivell</td><td>Binder</td><td style=\"text-align:right;\">50</td><td style=\"text-align:right;\">19.99</td><td style=\"text-align:right;\">999.50</td></tr>\n",
       "<tr><td style=\"text-align:right;\">2013-05-31</td><td>Central</td><td>Gill</td><td>Binder</td><td style=\"text-align:right;\">80</td><td style=\"text-align:right;\">8.99</td><td style=\"text-align:right;\">719.20</td></tr>\n",
       "<tr><td style=\"text-align:right;\">2012-02-26</td><td>Central</td><td>Gill</td><td>Pen</td><td style=\"text-align:right;\">27</td><td style=\"text-align:right;\">19.99</td><td style=\"text-align:right;\">539.73</td></tr>\n",
       "<tr><td style=\"text-align:right;\">2012-06-25</td><td>Central</td><td>Morgan</td><td>Pencil</td><td style=\"text-align:right;\">90</td><td style=\"text-align:right;\">4.99</td><td style=\"text-align:right;\">449.10</td></tr>\n",
       "<tr><td style=\"text-align:right;\">2012-11-25</td><td>Central</td><td>Kivell</td><td>Pen Set</td><td style=\"text-align:right;\">96</td><td style=\"text-align:right;\">4.99</td><td style=\"text-align:right;\">479.04</td></tr>\n",
       "<tr><td style=\"text-align:right;\">2013-06-17</td><td>Central</td><td>Kivell</td><td>Desk</td><td style=\"text-align:right;\">5</td><td style=\"text-align:right;\">125.00</td><td style=\"text-align:right;\">625.00</td></tr>\n",
       "<tr><td style=\"text-align:right;\">2012-01-09</td><td>Central</td><td>Smith</td><td>Desk</td><td style=\"text-align:right;\">2</td><td style=\"text-align:right;\">125.00</td><td style=\"text-align:right;\">250.00</td></tr>\n",
       "<tr><td style=\"text-align:right;\">2012-05-10</td><td>Central</td><td>Morgan</td><td>Binder</td><td style=\"text-align:right;\">28</td><td style=\"text-align:right;\">8.99</td><td style=\"text-align:right;\">251.72</td></tr>\n",
       "<tr><td style=\"text-align:right;\">2013-07-21</td><td>Central</td><td>Morgan</td><td>Pen Set</td><td style=\"text-align:right;\">55</td><td style=\"text-align:right;\">12.49</td><td style=\"text-align:right;\">686.95</td></tr>\n",
       "<tr><td style=\"text-align:right;\">2013-01-02</td><td>Central</td><td>Smith</td><td>Binder</td><td style=\"text-align:right;\">87</td><td style=\"text-align:right;\">15.00</td><td style=\"text-align:right;\">1305.00</td></tr>\n",
       "<tr><td style=\"text-align:right;\">2012-05-05</td><td>Central</td><td>Jardine</td><td>Pencil</td><td style=\"text-align:right;\">90</td><td style=\"text-align:right;\">4.99</td><td style=\"text-align:right;\">449.10</td></tr>\n",
       "<tr><td style=\"text-align:right;\">2013-03-24</td><td>Central</td><td>Jardine</td><td>Pen Set</td><td style=\"text-align:right;\">50</td><td style=\"text-align:right;\">4.99</td><td style=\"text-align:right;\">249.50</td></tr>\n",
       "<tr><td style=\"text-align:right;\">2013-01-15</td><td>Central</td><td>Gill</td><td>Binder</td><td style=\"text-align:right;\">46</td><td style=\"text-align:right;\">8.99</td><td style=\"text-align:right;\">413.54</td></tr>\n",
       "<tr><td style=\"text-align:right;\">2012-04-18</td><td>Central</td><td>Andrews</td><td>Pencil</td><td style=\"text-align:right;\">75</td><td style=\"text-align:right;\">1.99</td><td style=\"text-align:right;\">149.25</td></tr>\n",
       "<tr><td style=\"text-align:right;\">2013-12-21</td><td>Central</td><td>Andrews</td><td>Binder</td><td style=\"text-align:right;\">28</td><td style=\"text-align:right;\">4.99</td><td style=\"text-align:right;\">139.72</td></tr>\n",
       "<tr><td style=\"text-align:right;\">2013-05-14</td><td>Central</td><td>Gill</td><td>Pencil</td><td style=\"text-align:right;\">53</td><td style=\"text-align:right;\">1.29</td><td style=\"text-align:right;\">68.37</td></tr>\n",
       "<tr><td style=\"text-align:right;\">2012-12-12</td><td>Central</td><td>Smith</td><td>Pencil</td><td style=\"text-align:right;\">67</td><td style=\"text-align:right;\">1.29</td><td style=\"text-align:right;\">86.43</td></tr>\n",
       "<tr><td style=\"text-align:right;\">2013-10-31</td><td>Central</td><td>Andrews</td><td>Pencil</td><td style=\"text-align:right;\">14</td><td style=\"text-align:right;\">1.29</td><td style=\"text-align:right;\">18.06</td></tr>\n",
       "<tr><td style=\"text-align:right;\">2012-09-02</td><td>Central</td><td>Jardine</td><td>Pencil</td><td style=\"text-align:right;\">36</td><td style=\"text-align:right;\">4.99</td><td style=\"text-align:right;\">179.64</td></tr>\n",
       "<tr><td style=\"text-align:right;\">2013-11-17</td><td>Central</td><td>Jardine</td><td>Binder</td><td style=\"text-align:right;\">11</td><td style=\"text-align:right;\">4.99</td><td style=\"text-align:right;\">54.89</td></tr>\n",
       "<tr><td style=\"text-align:right;\">2012-08-11</td><td>East</td><td>Parent</td><td>Pen</td><td style=\"text-align:right;\">15</td><td style=\"text-align:right;\">19.99</td><td style=\"text-align:right;\">299.85</td></tr>\n",
       "<tr><td style=\"text-align:right;\">2013-10-09</td><td>Central</td><td>Gill</td><td>Pencil</td><td style=\"text-align:right;\">7</td><td style=\"text-align:right;\">1.29</td><td style=\"text-align:right;\">9.03</td></tr>\n",
       "<tr><td style=\"text-align:right;\">2013-04-07</td><td>East</td><td>Jones</td><td>Pen Set</td><td style=\"text-align:right;\">62</td><td style=\"text-align:right;\">4.99</td><td style=\"text-align:right;\">309.38</td></tr>\n",
       "<tr><td style=\"text-align:right;\">2013-10-04</td><td>Central</td><td>Andrews</td><td>Pencil</td><td style=\"text-align:right;\">66</td><td style=\"text-align:right;\">1.99</td><td style=\"text-align:right;\">131.34</td></tr>\n",
       "<tr><td style=\"text-align:right;\">2012-09-18</td><td>East</td><td>Jones</td><td>Pen Set</td><td style=\"text-align:right;\">16</td><td style=\"text-align:right;\">15.99</td><td style=\"text-align:right;\">255.84</td></tr>\n",
       "<tr><td style=\"text-align:right;\">2012-07-29</td><td>East</td><td>Parent</td><td>Binder</td><td style=\"text-align:right;\">81</td><td style=\"text-align:right;\">19.99</td><td style=\"text-align:right;\">1619.19</td></tr>\n",
       "<tr><td style=\"text-align:right;\">2013-04-27</td><td>East</td><td>Howard</td><td>Pen</td><td style=\"text-align:right;\">96</td><td style=\"text-align:right;\">4.99</td><td style=\"text-align:right;\">479.04</td></tr>\n",
       "<tr><td style=\"text-align:right;\">2012-08-06</td><td>East</td><td>Jones</td><td>Binder</td><td style=\"text-align:right;\">60</td><td style=\"text-align:right;\">8.99</td><td style=\"text-align:right;\">539.40</td></tr>\n",
       "<tr><td style=\"text-align:right;\">2012-01-04</td><td>East</td><td>Jones</td><td>Binder</td><td style=\"text-align:right;\">60</td><td style=\"text-align:right;\">4.99</td><td style=\"text-align:right;\">299.40</td></tr>\n",
       "<tr><td style=\"text-align:right;\">2012-10-22</td><td>East</td><td>Jones</td><td>Pen</td><td style=\"text-align:right;\">64</td><td style=\"text-align:right;\">8.99</td><td style=\"text-align:right;\">575.36</td></tr>\n",
       "<tr><td style=\"text-align:right;\">2012-06-01</td><td>East</td><td>Jones</td><td>Pencil</td><td style=\"text-align:right;\">95</td><td style=\"text-align:right;\">1.99</td><td style=\"text-align:right;\">189.05</td></tr>\n",
       "<tr><td style=\"text-align:right;\">2012-08-15</td><td>East</td><td>Jones</td><td>Pencil</td><td style=\"text-align:right;\">35</td><td style=\"text-align:right;\">4.99</td><td style=\"text-align:right;\">174.65</td></tr>\n",
       "<tr><td style=\"text-align:right;\">2012-12-07</td><td>East</td><td>Howard</td><td>Binder</td><td style=\"text-align:right;\">29</td><td style=\"text-align:right;\">1.99</td><td style=\"text-align:right;\">57.71</td></tr>\n",
       "<tr><td style=\"text-align:right;\">2013-02-18</td><td>East</td><td>Jones</td><td>Binder</td><td style=\"text-align:right;\">4</td><td style=\"text-align:right;\">4.99</td><td style=\"text-align:right;\">19.96</td></tr>\n",
       "<tr><td style=\"text-align:right;\">2013-10-14</td><td>West</td><td>Thompson</td><td>Binder</td><td style=\"text-align:right;\">57</td><td style=\"text-align:right;\">19.99</td><td style=\"text-align:right;\">1139.43</td></tr>\n",
       "<tr><td style=\"text-align:right;\">2013-08-24</td><td>West</td><td>Sorvino</td><td>Desk</td><td style=\"text-align:right;\">3</td><td style=\"text-align:right;\">275.00</td><td style=\"text-align:right;\">825.00</td></tr>\n",
       "<tr><td style=\"text-align:right;\">2012-03-15</td><td>West</td><td>Sorvino</td><td>Pencil</td><td style=\"text-align:right;\">56</td><td style=\"text-align:right;\">2.99</td><td style=\"text-align:right;\">167.44</td></tr>\n",
       "<tr><td style=\"text-align:right;\">2013-09-27</td><td>West</td><td>Sorvino</td><td>Pen</td><td style=\"text-align:right;\">76</td><td style=\"text-align:right;\">1.99</td><td style=\"text-align:right;\">151.24</td></tr>\n",
       "<tr><td style=\"text-align:right;\">2013-07-03</td><td>West</td><td>Sorvino</td><td>Binder</td><td style=\"text-align:right;\">7</td><td style=\"text-align:right;\">19.99</td><td style=\"text-align:right;\">139.93</td></tr>\n",
       "<tr><td style=\"text-align:right;\">2012-05-22</td><td>West</td><td>Thompson</td><td>Pencil</td><td style=\"text-align:right;\">32</td><td style=\"text-align:right;\">1.99</td><td style=\"text-align:right;\">63.68</td></tr>\n",
       "<tr><td style=\"text-align:right;\">2012-12-29</td><td>East</td><td>Parent</td><td>Pen Set</td><td style=\"text-align:right;\">74</td><td style=\"text-align:right;\">15.99</td><td style=\"text-align:right;\">1183.26</td></tr>\n",
       "<tfoot>\n",
       "<tr><th style=\"text-align:right;\">2013-12-21</th><th style=\"text-align:right;\">3</th><th style=\"text-align:right;\">11</th><th style=\"text-align:right;\">5</th><th style=\"text-align:right;\">2121</th><th style=\"text-align:right;\">20.31</th><th style=\"text-align:right;\">19627.88</th></tr>\n",
       "</tfoot>\n",
       "</table>\n"
      ],
      "text/plain": [
       "Table(len=43,titles=['OrderDate', 'Région', 'Rep', 'Item', 'Unités', 'Cost', 'Total'],data=[[datetime.date(2013, 4, 12), 'Central', 'Jardine', 'Binder', 94, 19.99, 1879.06], [datetime.date(2013, 7, 8), 'Central', 'Kivell', 'Pen Set', 42, 23.95, 1005.9], [datetime.date(2012, 1, 23), 'Central', 'Kivell', 'Binder', 50, 19.99, 999.4999999999999], [datetime.date(2013, 5, 31), 'Central', 'Gill', 'Binder', 80, 8.99, 719.2], [datetime.date(2012, 2, 26), 'Central', 'Gill', 'Pen', 27, 19.99, 539.7299999999999]])"
      ]
     },
     "execution_count": 17,
     "metadata": {},
     "output_type": "execute_result"
    }
   ],
   "source": [
    "from Goulib.math2 import *\n",
    "from Goulib.itertools2 import *\n",
    "res=Table(t) #copy\n",
    "s=len(res)\n",
    "for i in range(s-1):\n",
    "    line=res[i]\n",
    "    d=[hamming(line,res[j]) for j in range(i+1,s)]\n",
    "    j=index_min(d)[0]+i\n",
    "    res[i+1],res[j]=res[j],res[i+1] #swap\n",
    "res"
   ]
  },
  {
   "cell_type": "code",
   "execution_count": 18,
   "metadata": {
    "collapsed": false
   },
   "outputs": [
    {
     "data": {
      "text/plain": [
       "6"
      ]
     },
     "execution_count": 18,
     "metadata": {},
     "output_type": "execute_result"
    }
   ],
   "source": [
    "hamming(t[1],t[2])"
   ]
  }
 ],
 "metadata": {
  "kernelspec": {
   "display_name": "Python 3",
   "language": "python",
   "name": "python3"
  },
  "language_info": {
   "codemirror_mode": {
    "name": "ipython",
    "version": 3
   },
   "file_extension": ".py",
   "mimetype": "text/x-python",
   "name": "python",
   "nbconvert_exporter": "python",
   "pygments_lexer": "ipython3",
   "version": "3.5.1"
  }
 },
 "nbformat": 4,
 "nbformat_minor": 0
}
