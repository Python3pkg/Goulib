{
 "cells": [
  {
   "cell_type": "markdown",
   "metadata": {},
   "source": [
    "# [Goulib](../notebook.ipynb).table\n",
    "\"mini pandas.DataFrame\" Table class with Excel + CSV I/O, easy access to columns, HTML output, and much more."
   ]
  },
  {
   "cell_type": "code",
   "execution_count": 1,
   "metadata": {
    "collapsed": false
   },
   "outputs": [],
   "source": [
    "from Goulib.notebook import *\n",
    "from Goulib.table import *"
   ]
  },
  {
   "cell_type": "code",
   "execution_count": 2,
   "metadata": {
    "collapsed": false
   },
   "outputs": [
    {
     "data": {
      "text/html": [
       "<table><tr><td style=\"text-align:right;\">1</td><td style=\"text-align:right;\">2</td><td style=\"text-align:right;\">3</td></tr>\n",
       "</table>\n"
      ],
      "text/plain": [
       "Table(len=2,titles=[],data=[[1, 2, 3], [4, 5]])"
      ]
     },
     "execution_count": 2,
     "metadata": {},
     "output_type": "execute_result"
    }
   ],
   "source": [
    "small=Table(Table([[1,2,3],(4,5)])) #tables can be constructed from any tabular data\n",
    "small"
   ]
  },
  {
   "cell_type": "code",
   "execution_count": 3,
   "metadata": {
    "collapsed": false
   },
   "outputs": [
    {
     "data": {
      "text/html": [
       "<table><thead>\n",
       "<tr><th>complex</th><th>content</th></tr>\n",
       "</thead>\n",
       "<tr><td><table><tr><td style=\"text-align:right;\">1</td><td style=\"text-align:right;\">2</td><td style=\"text-align:right;\">3</td></tr>\n",
       "</table>\n",
       "</td><td>$$\\LaTeX : e=m.c^2$$</td></tr>\n",
       "</table>\n"
      ],
      "text/plain": [
       "Table(len=2,titles=['complex', 'content'],data=[[Table(len=2,titles=[],data=[[1, 2, 3], [4, 5]]), '$$\\\\LaTeX : e=m.c^2$$'], [Image(mode=RGB size=(128, 128)), Image(mode=RGB size=(128, 128))]])"
      ]
     },
     "execution_count": 3,
     "metadata": {},
     "output_type": "execute_result"
    }
   ],
   "source": [
    "#Table cells can contain other tables, LaTeX expressions, Images... and more (soon...)\n",
    "from Goulib.image import Image\n",
    "lena=Image('../tests/data/lena.png').resize((128,128))\n",
    "Table([[small,'$$\\\\LaTeX : e=m.c^2$$'],[lena,lena]],titles=['complex','content'])"
   ]
  },
  {
   "cell_type": "code",
   "execution_count": 4,
   "metadata": {
    "collapsed": false
   },
   "outputs": [],
   "source": [
    "# Tables can be read from .csv, html, JSON and Excel files (requires xlrd http://www.python-excel.org/)\n",
    "t=Table('../tests/data/test.xls') "
   ]
  },
  {
   "cell_type": "code",
   "execution_count": 5,
   "metadata": {
    "collapsed": false
   },
   "outputs": [
    {
     "data": {
      "text/html": [
       "[OrderDate,Région,Rep,Item,Unités,Cost,Total]"
      ],
      "text/plain": [
       "<IPython.core.display.HTML object>"
      ]
     },
     "metadata": {},
     "output_type": "display_data"
    }
   ],
   "source": [
    "print(t.titles) #Tables have optional column headers"
   ]
  },
  {
   "cell_type": "code",
   "execution_count": 6,
   "metadata": {
    "collapsed": false
   },
   "outputs": [
    {
     "data": {
      "text/html": [
       "<table><thead>\n",
       "<tr><th>OrderDate</th><th>R&#233;gion</th><th>Rep</th><th>Item</th><th>Unit&#233;s</th><th>Cost</th><th>Total</th></tr>\n",
       "</thead>\n",
       "<tr><td style=\"text-align:right;\">41061</td><td>East</td><td>Jones</td><td>Pencil</td><td style=\"text-align:right;\">95</td><td style=\"text-align:right;\">1.99</td><td>&nbsp;</td></tr>\n",
       "<tr><td>1/23/2012</td><td>Central</td><td>Kivell</td><td>Binder</td><td style=\"text-align:right;\">50</td><td style=\"text-align:right;\">19.99</td><td>&nbsp;</td></tr>\n",
       "<tr><td style=\"text-align:right;\">41154</td><td>Central</td><td>Jardine</td><td>Pencil</td><td style=\"text-align:right;\">36</td><td style=\"text-align:right;\">4.99</td><td>&nbsp;</td></tr>\n",
       "<tr><td>2/26/2012</td><td>Central</td><td>Gill</td><td>Pen</td><td style=\"text-align:right;\">27</td><td style=\"text-align:right;\">19.99</td><td>&nbsp;</td></tr>\n",
       "</table>\n"
      ],
      "text/plain": [
       "Table(len=5,titles=['OrderDate', 'Région', 'Rep', 'Item', 'Unités', 'Cost', 'Total'],data=[[41061, 'East', 'Jones', 'Pencil', 95, 1.99, None], ['1/23/2012', 'Central', 'Kivell', 'Binder', 50, 19.99, None], [41154, 'Central', 'Jardine', 'Pencil', 36, 4.99, None], ['2/26/2012', 'Central', 'Gill', 'Pen', 27, 19.99, None], ['3/15/2012', 'West', 'Sorvino', 'Pencil', 56, 2.99, None]])"
      ]
     },
     "execution_count": 6,
     "metadata": {},
     "output_type": "execute_result"
    }
   ],
   "source": [
    "t.setcol('Total',None)\n",
    "Table(t[:5],titles=t.titles) #indexing lines, construction and default HTML representation\n",
    "#notice the Order Dates are messy because of Excel representaion of dates"
   ]
  },
  {
   "cell_type": "code",
   "execution_count": 7,
   "metadata": {
    "collapsed": false
   },
   "outputs": [
    {
     "data": {
      "text/plain": [
       "True"
      ]
     },
     "execution_count": 7,
     "metadata": {},
     "output_type": "execute_result"
    }
   ],
   "source": [
    "# handle the mess in Excel Cell types ...\n",
    "t.to_date('OrderDate',fmt=['%m/%d/%Y','Excel']) #converts column to date using several possible formats...\n",
    "t.applyf('Cost',float) # apply a function to a column. Here force the column to contain floats"
   ]
  },
  {
   "cell_type": "code",
   "execution_count": 8,
   "metadata": {
    "collapsed": false
   },
   "outputs": [],
   "source": [
    "# math between columns is still a bit tedious...\n",
    "from Goulib.math2 import vecmul\n",
    "t.setcol('Total',vecmul(t.col('Cost'),t.col('Unités')))"
   ]
  },
  {
   "cell_type": "code",
   "execution_count": 9,
   "metadata": {
    "collapsed": false
   },
   "outputs": [
    {
     "data": {
      "text/plain": [
       "[datetime.date(2013, 12, 21),\n",
       " 3,\n",
       " 11,\n",
       " 5,\n",
       " 2121,\n",
       " 20.308604651162796,\n",
       " 19627.88000000001]"
      ]
     },
     "execution_count": 9,
     "metadata": {},
     "output_type": "execute_result"
    }
   ],
   "source": [
    "#it's easy to make a \"total\" line from columns\n",
    "#with a list of reduce-like functions applied to each column\n",
    "from Goulib.stats import avg\n",
    "from Goulib.itertools2 import count_unique\n",
    "t.total([max,count_unique,count_unique,count_unique,sum,avg,sum])\n",
    "t.footer #result is stored in a separated footer field"
   ]
  },
  {
   "cell_type": "code",
   "execution_count": 15,
   "metadata": {
    "collapsed": false
   },
   "outputs": [
    {
     "data": {
      "text/html": [
       "<table><thead>\n",
       "<tr><th>OrderDate</th><th>R&#233;gion</th><th>Rep</th><th>Item</th><th>Unit&#233;s</th><th>Cost</th><th>Total</th></tr>\n",
       "</thead>\n",
       "<tr><td>...</td><td>...</td><td>...</td><td>...</td><td>...</td><td>...</td><td>...</td></tr>\n",
       "<tr><td style=\"text-align:right;\">2013-07-08</td><td>Central</td><td>Kivell</td><td>Pen Set</td><td style=\"text-align:right;\">42</td><td style=\"text-align:right;\">23.95</td><td style=\"text-align:right;\">1005.90</td></tr>\n",
       "<tr><td style=\"text-align:right;\">2012-01-23</td><td>Central</td><td>Kivell</td><td>Binder</td><td style=\"text-align:right;\">50</td><td style=\"text-align:right;\">19.99</td><td style=\"text-align:right;\">999.50</td></tr>\n",
       "<tr><td style=\"text-align:right;\">2013-08-24</td><td>West</td><td>Sorvino</td><td>Desk</td><td style=\"text-align:right;\">3</td><td style=\"text-align:right;\">275.00</td><td style=\"text-align:right;\">825.00</td></tr>\n",
       "<tr><td style=\"text-align:right;\">2013-05-31</td><td>Central</td><td>Gill</td><td>Binder</td><td style=\"text-align:right;\">80</td><td style=\"text-align:right;\">8.99</td><td style=\"text-align:right;\">719.20</td></tr>\n",
       "<tr><td style=\"text-align:right;\">2013-07-21</td><td>Central</td><td>Morgan</td><td>Pen Set</td><td style=\"text-align:right;\">55</td><td style=\"text-align:right;\">12.49</td><td style=\"text-align:right;\">686.95</td></tr>\n",
       "<tr><td>...</td><td>...</td><td>...</td><td>...</td><td>...</td><td>...</td><td>...</td></tr>\n",
       "<tfoot>\n",
       "<tr><th style=\"text-align:right;\">2013-12-21</th><th style=\"text-align:right;\">3</th><th style=\"text-align:right;\">11</th><th style=\"text-align:right;\">5</th><th style=\"text-align:right;\">2121</th><th style=\"text-align:right;\">20.31</th><th style=\"text-align:right;\">19627.88</th></tr>\n",
       "</tfoot>\n",
       "</table>\n"
      ],
      "text/plain": [
       "<IPython.core.display.HTML object>"
      ]
     },
     "metadata": {},
     "output_type": "display_data"
    }
   ],
   "source": [
    "print(t.html(start=5,stop=10)) # a way to shorten long tables"
   ]
  },
  {
   "cell_type": "code",
   "execution_count": 16,
   "metadata": {
    "collapsed": false
   },
   "outputs": [
    {
     "data": {
      "text/html": [
       "<table><thead>\n",
       "<tr><th>OrderDate</th><th>R&#233;gion</th><th>Rep</th><th>Item</th><th>Unit&#233;s</th><th>Cost</th><th>Total</th></tr>\n",
       "</thead>\n",
       "<tr><td style=\"text-align:right;\">2013-04-12</td><td>Central</td><td>Jardine</td><td>Binder</td><td style=\"text-align:right;\">94</td><td style=\"text-align:right;\">19.99</td><td style=\"text-align:right;\">1879.06</td></tr>\n",
       "<tr><td style=\"text-align:right;\">2012-07-29</td><td>East</td><td>Parent</td><td>Binder</td><td style=\"text-align:right;\">81</td><td style=\"text-align:right;\">19.99</td><td style=\"text-align:right;\">1619.19</td></tr>\n",
       "<tr><td style=\"text-align:right;\">2013-01-02</td><td>Central</td><td>Smith</td><td>Binder</td><td style=\"text-align:right;\">87</td><td style=\"text-align:right;\">15.00</td><td style=\"text-align:right;\">1305.00</td></tr>\n",
       "<tr><td style=\"text-align:right;\">2012-12-29</td><td>East</td><td>Parent</td><td>Pen Set</td><td style=\"text-align:right;\">74</td><td style=\"text-align:right;\">15.99</td><td style=\"text-align:right;\">1183.26</td></tr>\n",
       "<tr><td style=\"text-align:right;\">2013-10-14</td><td>West</td><td>Thompson</td><td>Binder</td><td style=\"text-align:right;\">57</td><td style=\"text-align:right;\">19.99</td><td style=\"text-align:right;\">1139.43</td></tr>\n",
       "<tr><td>...</td><td>...</td><td>...</td><td>...</td><td>...</td><td>...</td><td>...</td></tr>\n",
       "<tfoot>\n",
       "<tr><th style=\"text-align:right;\">2013-12-21</th><th style=\"text-align:right;\">3</th><th style=\"text-align:right;\">11</th><th style=\"text-align:right;\">5</th><th style=\"text-align:right;\">2121</th><th style=\"text-align:right;\">20.31</th><th style=\"text-align:right;\">19627.88</th></tr>\n",
       "</tfoot>\n",
       "</table>\n"
      ],
      "text/plain": [
       "<IPython.core.display.HTML object>"
      ]
     },
     "metadata": {},
     "output_type": "display_data"
    }
   ],
   "source": [
    "t.sort('Total',reverse=True) # Tables can be sorted by column easily\n",
    "print(t.html(stop=5)) # show only the 5 lines with highest total"
   ]
  },
  {
   "cell_type": "code",
   "execution_count": 17,
   "metadata": {
    "collapsed": false
   },
   "outputs": [
    {
     "data": {
      "text/plain": [
       "{'Cost': 19.99,\n",
       " 'Item': 'Binder',\n",
       " 'OrderDate': datetime.date(2012, 7, 29),\n",
       " 'Rep': 'Parent',\n",
       " 'Région': 'East',\n",
       " 'Total': 1619.1899999999998,\n",
       " 'Unités': 81}"
      ]
     },
     "execution_count": 17,
     "metadata": {},
     "output_type": "execute_result"
    }
   ],
   "source": [
    "#a row can be extracted as a dict where column titles are keys\n",
    "t.rowasdict(1)"
   ]
  },
  {
   "cell_type": "code",
   "execution_count": 22,
   "metadata": {
    "collapsed": false
   },
   "outputs": [
    {
     "data": {
      "text/plain": [
       "'[{\"Cost\": 19.99, \"Total\": 1879.06, \"R\\\\u00e9gion\": \"Central\", \"OrderDate\": \"2013-04-12\", \"Rep\": \"Jardine\", \"Unit\\\\u00e9s\": 94, \"Item\": \"Binder\"}, {\"Cost\": 19.99, \"Total\": 1619.1899999999998, \"R\\\\u00e9gion\": \"East\", \"OrderDate\": \"2012-07-29\", \"Rep\": \"Par...'"
      ]
     },
     "execution_count": 22,
     "metadata": {},
     "output_type": "execute_result"
    }
   ],
   "source": [
    "t.json()[:250]+'...'"
   ]
  },
  {
   "cell_type": "code",
   "execution_count": null,
   "metadata": {
    "collapsed": false
   },
   "outputs": [],
   "source": [
    "t # HTML representation in Notebook. Note the title/header and total/footer rows and cell alignment"
   ]
  },
  {
   "cell_type": "code",
   "execution_count": null,
   "metadata": {
    "collapsed": false
   },
   "outputs": [],
   "source": [
    "region=t.groupby(u'Région') # dictionary of subtables grouped by a column. notice Unicode support\n",
    "region['East'] # isn't it nice ?"
   ]
  },
  {
   "cell_type": "code",
   "execution_count": null,
   "metadata": {
    "collapsed": false
   },
   "outputs": [],
   "source": [
    "small=\n",
    "small"
   ]
  },
  {
   "cell_type": "code",
   "execution_count": null,
   "metadata": {
    "collapsed": false
   },
   "outputs": [],
   "source": []
  },
  {
   "cell_type": "code",
   "execution_count": null,
   "metadata": {
    "collapsed": false
   },
   "outputs": [],
   "source": [
    "from Goulib.math2 import *\n",
    "from Goulib.itertools2 import *\n",
    "res=Table(t) #copy\n",
    "s=len(res)\n",
    "for i in range(s-1):\n",
    "    line=res[i]\n",
    "    d=[hamming(line,res[j]) for j in range(i+1,s)]\n",
    "    j=index_min(d)[0]+i\n",
    "    res[i+1],res[j]=res[j],res[i+1] #swap\n",
    "res"
   ]
  },
  {
   "cell_type": "code",
   "execution_count": null,
   "metadata": {
    "collapsed": false
   },
   "outputs": [],
   "source": [
    "hamming(t[1],t[2])"
   ]
  }
 ],
 "metadata": {
  "kernelspec": {
   "display_name": "Python 3",
   "language": "python",
   "name": "python3"
  },
  "language_info": {
   "codemirror_mode": {
    "name": "ipython",
    "version": 3
   },
   "file_extension": ".py",
   "mimetype": "text/x-python",
   "name": "python",
   "nbconvert_exporter": "python",
   "pygments_lexer": "ipython3",
   "version": "3.5.1"
  }
 },
 "nbformat": 4,
 "nbformat_minor": 0
}
