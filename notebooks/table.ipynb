{
 "cells": [
  {
   "cell_type": "markdown",
   "metadata": {},
   "source": [
    "# [Goulib](../notebook.ipynb).table\n",
    "\"mini pandas.DataFrame\" Table class with Excel + CSV I/O, easy access to columns, HTML output, and much more."
   ]
  },
  {
   "cell_type": "code",
   "execution_count": 1,
   "metadata": {
    "collapsed": false
   },
   "outputs": [],
   "source": [
    "from Goulib.notebook import *\n",
    "from Goulib.table import *"
   ]
  },
  {
   "cell_type": "code",
   "execution_count": 2,
   "metadata": {
    "collapsed": false
   },
   "outputs": [
    {
     "data": {
      "text/html": [
       "OrderDate Région Rep Item Unités Cost Total"
      ],
      "text/plain": [
       "<IPython.core.display.HTML object>"
      ]
     },
     "metadata": {},
     "output_type": "display_data"
    },
    {
     "data": {
      "text/html": [
       "41061 East Jones Pencil 95 1.99 189.05 1/23/2012 Central Kivell Binder 50 19.99 999.5 41154 Central Jardine Pencil 36 4.99 179.64"
      ],
      "text/plain": [
       "<IPython.core.display.HTML object>"
      ]
     },
     "metadata": {},
     "output_type": "display_data"
    },
    {
     "data": {
      "text/html": [
       "Région Cost Unités Rep Item OrderDate Total"
      ],
      "text/plain": [
       "<IPython.core.display.HTML object>"
      ]
     },
     "metadata": {},
     "output_type": "display_data"
    }
   ],
   "source": [
    "t=Table('../tests/data/test.xls') # read Excel files thanks to xlrd (http://www.python-excel.org/)\n",
    "h(t.titles) #column headers can be used as indexes\n",
    "h(t[:3]) # since a Table is a list of rows, rows can be accessed by indexing. \n",
    "h(t.rowasdict(1)) #a row can be extracted as a dict where column titles are keys"
   ]
  },
  {
   "cell_type": "code",
   "execution_count": 3,
   "metadata": {
    "collapsed": false
   },
   "outputs": [
    {
     "data": {
      "text/plain": [
       "True"
      ]
     },
     "execution_count": 3,
     "metadata": {},
     "output_type": "execute_result"
    }
   ],
   "source": [
    "# handle the mess in Excel Cell types ...\n",
    "t.to_date('OrderDate',fmt=['%m/%d/%Y','Excel']) #converts column to date using several possible formats...\n",
    "t.applyf('Cost',float) # apply a function to a column. Here force the column to contain floats\n",
    "t.applyf('Total',lambda x:float(x) if isinstance(x,(int,float)) else float(x.replace(',','')))"
   ]
  },
  {
   "cell_type": "code",
   "execution_count": 4,
   "metadata": {
    "collapsed": false
   },
   "outputs": [
    {
     "data": {
      "text/plain": [
       "[datetime.date(2012, 9, 2), 3, 7, 3, 581, 7.290000000000001, 3576.19]"
      ]
     },
     "execution_count": 4,
     "metadata": {},
     "output_type": "execute_result"
    }
   ],
   "source": [
    "from Goulib import itertools2, stats\n",
    "t[10:]=[] #keep only the 10 first lines to save space below\n",
    "t.sort('Total',reverse=True) # Tables can be sorted like lists\n",
    "t.total([max,itertools2.count_unique,itertools2.count_unique,itertools2.count_unique,sum,stats.mean,sum])\n",
    "t.footer #contains the result of the last call to total "
   ]
  },
  {
   "cell_type": "code",
   "execution_count": 5,
   "metadata": {
    "collapsed": false
   },
   "outputs": [
    {
     "data": {
      "text/html": [
       "<table><thead>\n",
       "<tr><th>OrderDate</th><th>R&#233;gion</th><th>Rep</th><th>Item</th><th>Unit&#233;s</th><th>Cost</th><th>Total</th></tr>\n",
       "</thead>\n",
       "<tr><td style=\"text-align:right;\">2012-01-23</td><td>Central</td><td>Kivell</td><td>Binder</td><td style=\"text-align:right;\">50</td><td style=\"text-align:right;\">19.99</td><td style=\"text-align:right;\">999.50</td></tr>\n",
       "<tr><td style=\"text-align:right;\">2012-02-26</td><td>Central</td><td>Gill</td><td>Pen</td><td style=\"text-align:right;\">27</td><td style=\"text-align:right;\">19.99</td><td style=\"text-align:right;\">539.73</td></tr>\n",
       "<tr><td style=\"text-align:right;\">2012-08-06</td><td>East</td><td>Jones</td><td>Binder</td><td style=\"text-align:right;\">60</td><td style=\"text-align:right;\">8.99</td><td style=\"text-align:right;\">539.40</td></tr>\n",
       "<tr><td style=\"text-align:right;\">2012-05-05</td><td>Central</td><td>Jardine</td><td>Pencil</td><td style=\"text-align:right;\">90</td><td style=\"text-align:right;\">4.99</td><td style=\"text-align:right;\">449.10</td></tr>\n",
       "<tr><td style=\"text-align:right;\">2012-01-04</td><td>East</td><td>Jones</td><td>Binder</td><td style=\"text-align:right;\">60</td><td style=\"text-align:right;\">4.99</td><td style=\"text-align:right;\">299.40</td></tr>\n",
       "<tr><td style=\"text-align:right;\">2012-06-01</td><td>East</td><td>Jones</td><td>Pencil</td><td style=\"text-align:right;\">95</td><td style=\"text-align:right;\">1.99</td><td style=\"text-align:right;\">189.05</td></tr>\n",
       "<tr><td style=\"text-align:right;\">2012-09-02</td><td>Central</td><td>Jardine</td><td>Pencil</td><td style=\"text-align:right;\">36</td><td style=\"text-align:right;\">4.99</td><td style=\"text-align:right;\">179.64</td></tr>\n",
       "<tr><td style=\"text-align:right;\">2012-03-15</td><td>West</td><td>Sorvino</td><td>Pencil</td><td style=\"text-align:right;\">56</td><td style=\"text-align:right;\">2.99</td><td style=\"text-align:right;\">167.44</td></tr>\n",
       "<tr><td style=\"text-align:right;\">2012-04-18</td><td>Central</td><td>Andrews</td><td>Pencil</td><td style=\"text-align:right;\">75</td><td style=\"text-align:right;\">1.99</td><td style=\"text-align:right;\">149.25</td></tr>\n",
       "<tr><td style=\"text-align:right;\">2012-05-22</td><td>West</td><td>Thompson</td><td>Pencil</td><td style=\"text-align:right;\">32</td><td style=\"text-align:right;\">1.99</td><td style=\"text-align:right;\">63.68</td></tr>\n",
       "<tfoot>\n",
       "<tr><th style=\"text-align:right;\">2012-09-02</th><th style=\"text-align:right;\">3</th><th style=\"text-align:right;\">7</th><th style=\"text-align:right;\">3</th><th style=\"text-align:right;\">581</th><th style=\"text-align:right;\">7.29</th><th style=\"text-align:right;\">3576.19</th></tr>\n",
       "</tfoot>\n",
       "</table>\n"
      ],
      "text/plain": [
       "Table(len=10,titles=['OrderDate', 'Région', 'Rep', 'Item', 'Unités', 'Cost', 'Total'],data=[[datetime.date(2012, 1, 23), 'Central', 'Kivell', 'Binder', 50, 19.99, 999.5], [datetime.date(2012, 2, 26), 'Central', 'Gill', 'Pen', 27, 19.99, 539.73], [datetime.date(2012, 8, 6), 'East', 'Jones', 'Binder', 60, 8.99, 539.4], [datetime.date(2012, 5, 5), 'Central', 'Jardine', 'Pencil', 90, 4.99, 449.1], [datetime.date(2012, 1, 4), 'East', 'Jones', 'Binder', 60, 4.99, 299.4]])"
      ]
     },
     "execution_count": 5,
     "metadata": {},
     "output_type": "execute_result"
    }
   ],
   "source": [
    "t # HTML representation in Notebook. Note the title/header and total/footer rows and cell alignment"
   ]
  },
  {
   "cell_type": "code",
   "execution_count": 6,
   "metadata": {
    "collapsed": false
   },
   "outputs": [
    {
     "data": {
      "text/html": [
       "<table><thead>\n",
       "<tr><th>OrderDate</th><th>Rep</th><th>Item</th><th>Unit&#233;s</th><th>Cost</th><th>Total</th></tr>\n",
       "</thead>\n",
       "<tr><td style=\"text-align:right;\">2012-08-06</td><td>Jones</td><td>Binder</td><td style=\"text-align:right;\">60</td><td style=\"text-align:right;\">8.99</td><td style=\"text-align:right;\">539.40</td></tr>\n",
       "<tr><td style=\"text-align:right;\">2012-01-04</td><td>Jones</td><td>Binder</td><td style=\"text-align:right;\">60</td><td style=\"text-align:right;\">4.99</td><td style=\"text-align:right;\">299.40</td></tr>\n",
       "<tr><td style=\"text-align:right;\">2012-06-01</td><td>Jones</td><td>Pencil</td><td style=\"text-align:right;\">95</td><td style=\"text-align:right;\">1.99</td><td style=\"text-align:right;\">189.05</td></tr>\n",
       "</table>\n"
      ],
      "text/plain": [
       "Table(len=3,titles=['OrderDate', 'Rep', 'Item', 'Unités', 'Cost', 'Total'],data=[[datetime.date(2012, 8, 6), 'Jones', 'Binder', 60, 8.99, 539.4], [datetime.date(2012, 1, 4), 'Jones', 'Binder', 60, 4.99, 299.4], [datetime.date(2012, 6, 1), 'Jones', 'Pencil', 95, 1.99, 189.05]])"
      ]
     },
     "execution_count": 6,
     "metadata": {},
     "output_type": "execute_result"
    }
   ],
   "source": [
    "region=t.groupby(u'Région') # dictionary of subtables grouped by a column. notice Unicode support\n",
    "region['East'] # isn't it nice ?"
   ]
  },
  {
   "cell_type": "code",
   "execution_count": 7,
   "metadata": {
    "collapsed": false
   },
   "outputs": [
    {
     "data": {
      "text/html": [
       "<table><tr><td style=\"text-align:right;\">1</td><td style=\"text-align:right;\">2</td></tr>\n",
       "<tr><td style=\"text-align:right;\">3</td><td style=\"text-align:right;\">4</td></tr>\n",
       "</table>\n"
      ],
      "text/plain": [
       "Table(len=2,titles=[],data=[[1, 2], [3, 4]])"
      ]
     },
     "execution_count": 7,
     "metadata": {},
     "output_type": "execute_result"
    }
   ],
   "source": [
    "small=Table([[1,2],[3,4]])\n",
    "small"
   ]
  },
  {
   "cell_type": "code",
   "execution_count": 8,
   "metadata": {
    "collapsed": false
   },
   "outputs": [
    {
     "name": "stderr",
     "output_type": "stream",
     "text": [
      "C:\\Anaconda\\lib\\site-packages\\skimage\\io\\_io.py:132: UserWarning: <_io.BytesIO object at 0x000000000A04CB48> is a low contrast image\n",
      "  warn('%s is a low contrast image' % fname)\n"
     ]
    },
    {
     "data": {
      "text/html": [
       "<table><thead>\n",
       "<tr><th>complex</th><th>content</th></tr>\n",
       "</thead>\n",
       "<tr><td><table><tr><td style=\"text-align:right;\">1</td><td style=\"text-align:right;\">2</td></tr>\n",
       "<tr><td style=\"text-align:right;\">3</td><td style=\"text-align:right;\">4</td></tr>\n",
       "</table>\n",
       "</td><td>$$\\LaTeX : e=m.c^2$$</td></tr>\n",
       "<tr><td><img src=\"data:image/png;base64,iVBORw0KGgoAAAANSUhEUgAAAIAAAACACAIAAABMXPacAAAAZ0lEQVR4nO3aQQoAIAgEQO3/j+4NRWXRzF2Q3ZNgBAAAAADAc3J8pK3f4m8THbCSAsqk9GtJHwAAAAAAAAAAAIDNvKwCAACc5xYDAAAAAAAAAAAAAAAAAAAAAAAAAAAAAAAAAACu0gHyZQALofVX5AAAAABJRU5ErkJggg==\"></td><td><img src=\"data:image/png;base64,iVBORw0KGgoAAAANSUhEUgAAAIAAAACACAIAAABMXPacAAAAZ0lEQVR4nO3aQQoAIAgEQO3/j+4NRWXRzF2Q3ZNgBAAAAADAc3J8pK3f4m8THbCSAsqk9GtJHwAAAAAAAAAAAIDNvKwCAACc5xYDAAAAAAAAAAAAAAAAAAAAAAAAAAAAAAAAAACu0gHyZQALofVX5AAAAABJRU5ErkJggg==\"></td></tr>\n",
       "</table>\n"
      ],
      "text/plain": [
       "Table(len=2,titles=['complex', 'content'],data=[[Table(len=2,titles=[],data=[[1, 2], [3, 4]]), '$$\\\\LaTeX : e=m.c^2$$'], [<Image path=None mode=RGB size=128x128>, <Image path=None mode=RGB size=128x128>]])"
      ]
     },
     "execution_count": 8,
     "metadata": {},
     "output_type": "execute_result"
    }
   ],
   "source": [
    "#cells can contain other tables, LaTeX expressions, Images... and more (soon...)\n",
    "from Goulib.image import Image\n",
    "lena=Image('../tests/data/lena.png').resize((128,128))\n",
    "Table([[small,'$$\\\\LaTeX : e=m.c^2$$'],[lena,lena]],titles=['complex','content'])"
   ]
  },
  {
   "cell_type": "code",
   "execution_count": 9,
   "metadata": {
    "collapsed": false
   },
   "outputs": [
    {
     "data": {
      "text/html": [
       "<table><thead>\n",
       "<tr><th>OrderDate</th><th>R&#233;gion</th><th>Rep</th><th>Item</th><th>Unit&#233;s</th><th>Cost</th><th>Total</th></tr>\n",
       "</thead>\n",
       "<tr><td style=\"text-align:right;\">2012-02-26</td><td>Central</td><td>Gill</td><td>Pen</td><td style=\"text-align:right;\">27</td><td style=\"text-align:right;\">19.99</td><td style=\"text-align:right;\">539.73</td></tr>\n",
       "<tr><td style=\"text-align:right;\">2012-05-05</td><td>Central</td><td>Jardine</td><td>Pencil</td><td style=\"text-align:right;\">90</td><td style=\"text-align:right;\">4.99</td><td style=\"text-align:right;\">449.10</td></tr>\n",
       "<tr><td style=\"text-align:right;\">2012-09-02</td><td>Central</td><td>Jardine</td><td>Pencil</td><td style=\"text-align:right;\">36</td><td style=\"text-align:right;\">4.99</td><td style=\"text-align:right;\">179.64</td></tr>\n",
       "<tr><td style=\"text-align:right;\">2012-04-18</td><td>Central</td><td>Andrews</td><td>Pencil</td><td style=\"text-align:right;\">75</td><td style=\"text-align:right;\">1.99</td><td style=\"text-align:right;\">149.25</td></tr>\n",
       "<tr><td style=\"text-align:right;\">2012-08-06</td><td>East</td><td>Jones</td><td>Binder</td><td style=\"text-align:right;\">60</td><td style=\"text-align:right;\">8.99</td><td style=\"text-align:right;\">539.40</td></tr>\n",
       "<tr><td style=\"text-align:right;\">2012-01-04</td><td>East</td><td>Jones</td><td>Binder</td><td style=\"text-align:right;\">60</td><td style=\"text-align:right;\">4.99</td><td style=\"text-align:right;\">299.40</td></tr>\n",
       "<tr><td style=\"text-align:right;\">2012-06-01</td><td>East</td><td>Jones</td><td>Pencil</td><td style=\"text-align:right;\">95</td><td style=\"text-align:right;\">1.99</td><td style=\"text-align:right;\">189.05</td></tr>\n",
       "<tr><td style=\"text-align:right;\">2012-03-15</td><td>West</td><td>Sorvino</td><td>Pencil</td><td style=\"text-align:right;\">56</td><td style=\"text-align:right;\">2.99</td><td style=\"text-align:right;\">167.44</td></tr>\n",
       "<tr><td style=\"text-align:right;\">2012-05-22</td><td>West</td><td>Thompson</td><td>Pencil</td><td style=\"text-align:right;\">32</td><td style=\"text-align:right;\">1.99</td><td style=\"text-align:right;\">63.68</td></tr>\n",
       "<tr><td style=\"text-align:right;\">2012-01-23</td><td>Central</td><td>Kivell</td><td>Binder</td><td style=\"text-align:right;\">50</td><td style=\"text-align:right;\">19.99</td><td style=\"text-align:right;\">999.50</td></tr>\n",
       "<tfoot>\n",
       "<tr><th style=\"text-align:right;\">2012-09-02</th><th style=\"text-align:right;\">3</th><th style=\"text-align:right;\">7</th><th style=\"text-align:right;\">3</th><th style=\"text-align:right;\">581</th><th style=\"text-align:right;\">7.29</th><th style=\"text-align:right;\">3576.19</th></tr>\n",
       "</tfoot>\n",
       "</table>\n"
      ],
      "text/plain": [
       "Table(len=10,titles=['OrderDate', 'Région', 'Rep', 'Item', 'Unités', 'Cost', 'Total'],data=[[datetime.date(2012, 2, 26), 'Central', 'Gill', 'Pen', 27, 19.99, 539.73], [datetime.date(2012, 5, 5), 'Central', 'Jardine', 'Pencil', 90, 4.99, 449.1], [datetime.date(2012, 9, 2), 'Central', 'Jardine', 'Pencil', 36, 4.99, 179.64], [datetime.date(2012, 4, 18), 'Central', 'Andrews', 'Pencil', 75, 1.99, 149.25], [datetime.date(2012, 8, 6), 'East', 'Jones', 'Binder', 60, 8.99, 539.4]])"
      ]
     },
     "execution_count": 9,
     "metadata": {},
     "output_type": "execute_result"
    }
   ],
   "source": [
    "from Goulib.math2 import *\n",
    "from Goulib.itertools2 import *\n",
    "res=Table(t) #copy\n",
    "s=len(res)\n",
    "for i in range(s-1):\n",
    "    line=res[i]\n",
    "    d=[hamming(line,res[j]) for j in range(i+1,s)]\n",
    "    j=index_min(d)[0]+i\n",
    "    res[i+1],res[j]=res[j],res[i+1] #swap\n",
    "res"
   ]
  },
  {
   "cell_type": "code",
   "execution_count": 10,
   "metadata": {
    "collapsed": false
   },
   "outputs": [
    {
     "data": {
      "text/plain": [
       "6"
      ]
     },
     "execution_count": 10,
     "metadata": {},
     "output_type": "execute_result"
    }
   ],
   "source": [
    "hamming(t[1],t[2])"
   ]
  }
 ],
 "metadata": {
  "kernelspec": {
   "display_name": "Python 3",
   "language": "python",
   "name": "python3"
  },
  "language_info": {
   "codemirror_mode": {
    "name": "ipython",
    "version": 3
   },
   "file_extension": ".py",
   "mimetype": "text/x-python",
   "name": "python",
   "nbconvert_exporter": "python",
   "pygments_lexer": "ipython3",
   "version": "3.5.1"
  }
 },
 "nbformat": 4,
 "nbformat_minor": 0
}
