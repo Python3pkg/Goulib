{
 "cells": [
  {
   "cell_type": "markdown",
   "metadata": {},
   "source": [
    "# [Goulib](../notebook.ipynb).table\n",
    "\"mini pandas.DataFrame\" Table class with Excel + CSV I/O, easy access to columns, HTML output, and much more."
   ]
  },
  {
   "cell_type": "code",
   "execution_count": 1,
   "metadata": {
    "collapsed": false
   },
   "outputs": [],
   "source": [
    "from Goulib.notebook import *\n",
    "from Goulib.table import *"
   ]
  },
  {
   "cell_type": "code",
   "execution_count": 2,
   "metadata": {
    "collapsed": false
   },
   "outputs": [
    {
     "data": {
      "text/html": [
       "[u'OrderDate', u'R\\xe9gion', u'Rep', u'Item', u'Unit\\xe9s', u'Cost', u'Total']"
      ],
      "text/plain": [
       "<IPython.core.display.HTML object>"
      ]
     },
     "metadata": {},
     "output_type": "display_data"
    },
    {
     "data": {
      "text/html": [
       "[[41061, u'East', u'Jones', u'Pencil', 95, 1.99, 189.05], [u'1/23/2012', u'Central', u'Kivell', u'Binder', 50, 19.99, 999.5], [41154, u'Central', u'Jardine', u'Pencil', 36, 4.99, 179.64]]"
      ],
      "text/plain": [
       "<IPython.core.display.HTML object>"
      ]
     },
     "metadata": {},
     "output_type": "display_data"
    },
    {
     "data": {
      "text/html": [
       "{u'Unit\\xe9s': 50, u'R\\xe9gion': u'Central', u'Rep': u'Kivell', u'Item': u'Binder', u'Cost': 19.99, u'Total': 999.5, u'OrderDate': u'1/23/2012'}"
      ],
      "text/plain": [
       "<IPython.core.display.HTML object>"
      ]
     },
     "metadata": {},
     "output_type": "display_data"
    }
   ],
   "source": [
    "t=Table('../tests/data/test.xls') # read Excel files thanks to xlrd (http://www.python-excel.org/)\n",
    "h(t.titles) #column headers can be used as indexes\n",
    "h(t[:3]) # since a Table is a list of rows, rows can be accessed by indexing. \n",
    "h(t.rowasdict(1)) #a row can be extracted as a dict where column titles are keys"
   ]
  },
  {
   "cell_type": "code",
   "execution_count": 3,
   "metadata": {
    "collapsed": false
   },
   "outputs": [
    {
     "data": {
      "text/plain": [
       "True"
      ]
     },
     "execution_count": 3,
     "metadata": {},
     "output_type": "execute_result"
    }
   ],
   "source": [
    "# handle the mess in Excel Cell types ...\n",
    "t.to_date('OrderDate',fmt=['%m/%d/%Y','Excel']) #converts column to date using several possible formats...\n",
    "t.applyf('Cost',float) # apply a function to a column. Here force the column to contain floats\n",
    "t.applyf('Total',lambda x:float(x) if isinstance(x,(int,float)) else float(x.replace(',','')))"
   ]
  },
  {
   "cell_type": "code",
   "execution_count": 4,
   "metadata": {
    "collapsed": false
   },
   "outputs": [
    {
     "data": {
      "text/plain": [
       "[datetime.date(2012, 9, 2), 3, 7, 3, 581, 7.290000000000001, 3576.19]"
      ]
     },
     "execution_count": 4,
     "metadata": {},
     "output_type": "execute_result"
    }
   ],
   "source": [
    "from Goulib import itertools2, stats\n",
    "t[10:]=[] #keep only the 10 first lines to save space below\n",
    "t.sort('Total',reverse=True) # Tables can be sorted like lists\n",
    "t.total([max,itertools2.count_unique,itertools2.count_unique,itertools2.count_unique,sum,stats.mean,sum])\n",
    "t.footer #contains the result of the last call to total "
   ]
  },
  {
   "cell_type": "code",
   "execution_count": 5,
   "metadata": {
    "collapsed": false
   },
   "outputs": [
    {
     "data": {
      "text/html": [
       "<table><thead>\n",
       "<tr><th>OrderDate</th><th>R&#233;gion</th><th>Rep</th><th>Item</th><th>Unit&#233;s</th><th>Cost</th><th>Total</th></tr>\n",
       "</thead>\n",
       "<tr><td style=\"text-align:right;\">2012-01-23</td><td>Central</td><td>Kivell</td><td>Binder</td><td style=\"text-align:right;\">50</td><td style=\"text-align:right;\">19.99</td><td style=\"text-align:right;\">999.50</td></tr>\n",
       "<tr><td style=\"text-align:right;\">2012-02-26</td><td>Central</td><td>Gill</td><td>Pen</td><td style=\"text-align:right;\">27</td><td style=\"text-align:right;\">19.99</td><td style=\"text-align:right;\">539.73</td></tr>\n",
       "<tr><td style=\"text-align:right;\">2012-08-06</td><td>East</td><td>Jones</td><td>Binder</td><td style=\"text-align:right;\">60</td><td style=\"text-align:right;\">8.99</td><td style=\"text-align:right;\">539.40</td></tr>\n",
       "<tr><td style=\"text-align:right;\">2012-05-05</td><td>Central</td><td>Jardine</td><td>Pencil</td><td style=\"text-align:right;\">90</td><td style=\"text-align:right;\">4.99</td><td style=\"text-align:right;\">449.10</td></tr>\n",
       "<tr><td style=\"text-align:right;\">2012-01-04</td><td>East</td><td>Jones</td><td>Binder</td><td style=\"text-align:right;\">60</td><td style=\"text-align:right;\">4.99</td><td style=\"text-align:right;\">299.40</td></tr>\n",
       "<tr><td style=\"text-align:right;\">2012-06-01</td><td>East</td><td>Jones</td><td>Pencil</td><td style=\"text-align:right;\">95</td><td style=\"text-align:right;\">1.99</td><td style=\"text-align:right;\">189.05</td></tr>\n",
       "<tr><td style=\"text-align:right;\">2012-09-02</td><td>Central</td><td>Jardine</td><td>Pencil</td><td style=\"text-align:right;\">36</td><td style=\"text-align:right;\">4.99</td><td style=\"text-align:right;\">179.64</td></tr>\n",
       "<tr><td style=\"text-align:right;\">2012-03-15</td><td>West</td><td>Sorvino</td><td>Pencil</td><td style=\"text-align:right;\">56</td><td style=\"text-align:right;\">2.99</td><td style=\"text-align:right;\">167.44</td></tr>\n",
       "<tr><td style=\"text-align:right;\">2012-04-18</td><td>Central</td><td>Andrews</td><td>Pencil</td><td style=\"text-align:right;\">75</td><td style=\"text-align:right;\">1.99</td><td style=\"text-align:right;\">149.25</td></tr>\n",
       "<tr><td style=\"text-align:right;\">2012-05-22</td><td>West</td><td>Thompson</td><td>Pencil</td><td style=\"text-align:right;\">32</td><td style=\"text-align:right;\">1.99</td><td style=\"text-align:right;\">63.68</td></tr>\n",
       "<tfoot>\n",
       "<tr><th style=\"text-align:right;\">2012-09-02</th><th style=\"text-align:right;\">3</th><th style=\"text-align:right;\">7</th><th style=\"text-align:right;\">3</th><th style=\"text-align:right;\">581</th><th style=\"text-align:right;\">7.29</th><th style=\"text-align:right;\">3576.19</th></tr>\n",
       "</tfoot>\n",
       "</table>\n"
      ],
      "text/plain": [
       "Table(len=10,titles=[u'OrderDate', u'R\\xe9gion', u'Rep', u'Item', u'Unit\\xe9s', u'Cost', u'Total'],data=[[datetime.date(2012, 1, 23), u'Central', u'Kivell', u'Binder', 50, 19.99, 999.5], [datetime.date(2012, 2, 26), u'Central', u'Gill', u'Pen', 27, 19.99, 539.73], [datetime.date(2012, 8, 6), u'East', u'Jones', u'Binder', 60, 8.99, 539.4], [datetime.date(2012, 5, 5), u'Central', u'Jardine', u'Pencil', 90, 4.99, 449.1], [datetime.date(2012, 1, 4), u'East', u'Jones', u'Binder', 60, 4.99, 299.4]])"
      ]
     },
     "execution_count": 5,
     "metadata": {},
     "output_type": "execute_result"
    }
   ],
   "source": [
    "t # HTML representation in Notebook. Note the title/header and total/footer rows and cell alignment"
   ]
  },
  {
   "cell_type": "code",
   "execution_count": 6,
   "metadata": {
    "collapsed": false
   },
   "outputs": [
    {
     "data": {
      "text/html": [
       "<table><thead>\n",
       "<tr><th>OrderDate</th><th>Rep</th><th>Item</th><th>Unit&#233;s</th><th>Cost</th><th>Total</th></tr>\n",
       "</thead>\n",
       "<tr><td style=\"text-align:right;\">2012-08-06</td><td>Jones</td><td>Binder</td><td style=\"text-align:right;\">60</td><td style=\"text-align:right;\">8.99</td><td style=\"text-align:right;\">539.40</td></tr>\n",
       "<tr><td style=\"text-align:right;\">2012-01-04</td><td>Jones</td><td>Binder</td><td style=\"text-align:right;\">60</td><td style=\"text-align:right;\">4.99</td><td style=\"text-align:right;\">299.40</td></tr>\n",
       "<tr><td style=\"text-align:right;\">2012-06-01</td><td>Jones</td><td>Pencil</td><td style=\"text-align:right;\">95</td><td style=\"text-align:right;\">1.99</td><td style=\"text-align:right;\">189.05</td></tr>\n",
       "</table>\n"
      ],
      "text/plain": [
       "Table(len=3,titles=[u'OrderDate', u'Rep', u'Item', u'Unit\\xe9s', u'Cost', u'Total'],data=[[datetime.date(2012, 8, 6), u'Jones', u'Binder', 60, 8.99, 539.4], [datetime.date(2012, 1, 4), u'Jones', u'Binder', 60, 4.99, 299.4], [datetime.date(2012, 6, 1), u'Jones', u'Pencil', 95, 1.99, 189.05]])"
      ]
     },
     "execution_count": 6,
     "metadata": {},
     "output_type": "execute_result"
    }
   ],
   "source": [
    "region=t.groupby(u'Région') # dictionary of subtables grouped by a column. notice Unicode support\n",
    "region['East'] # isn't it nice ?"
   ]
  },
  {
   "cell_type": "code",
   "execution_count": 7,
   "metadata": {
    "collapsed": false
   },
   "outputs": [
    {
     "data": {
      "text/html": [
       "<table><tr><td style=\"text-align:right;\">1</td><td style=\"text-align:right;\">2</td></tr>\n",
       "<tr><td style=\"text-align:right;\">3</td><td style=\"text-align:right;\">4</td></tr>\n",
       "</table>\n"
      ],
      "text/plain": [
       "Table(len=2,titles=[],data=[[1, 2], [3, 4]])"
      ]
     },
     "execution_count": 7,
     "metadata": {},
     "output_type": "execute_result"
    }
   ],
   "source": [
    "small=Table([[1,2],[3,4]])\n",
    "small"
   ]
  },
  {
   "cell_type": "code",
   "execution_count": 8,
   "metadata": {
    "collapsed": false
   },
   "outputs": [
    {
     "data": {
      "text/html": [
       "<table><thead>\n",
       "<tr><th>complex</th><th>content</th></tr>\n",
       "</thead>\n",
       "<tr><td><table><tr><td style=\"text-align:right;\">1</td><td style=\"text-align:right;\">2</td></tr>\n",
       "<tr><td style=\"text-align:right;\">3</td><td style=\"text-align:right;\">4</td></tr>\n",
       "</table>\n",
       "</td><td>$$\\LaTeX : e=m.c^2$$</td></tr>\n",
       "</table>\n"
      ],
      "text/plain": [
       "Table(len=1,titles=['complex', 'content'],data=[[Table(len=2,titles=[],data=[[1, 2], [3, 4]]), '$$\\\\LaTeX : e=m.c^2$$']])"
      ]
     },
     "execution_count": 8,
     "metadata": {},
     "output_type": "execute_result"
    }
   ],
   "source": [
    "#cells can contain other tables, LaTeX expressions and more (soon...)\n",
    "Table([[small,'$$\\\\LaTeX : e=m.c^2$$']],titles=['complex','content'])"
   ]
  }
 ],
 "metadata": {
  "kernelspec": {
   "display_name": "Python 2",
   "language": "python",
   "name": "python2"
  },
  "language_info": {
   "codemirror_mode": {
    "name": "ipython",
    "version": 2
   },
   "file_extension": ".py",
   "mimetype": "text/x-python",
   "name": "python",
   "nbconvert_exporter": "python",
   "pygments_lexer": "ipython2",
   "version": "2.7.11"
  }
 },
 "nbformat": 4,
 "nbformat_minor": 0
}
