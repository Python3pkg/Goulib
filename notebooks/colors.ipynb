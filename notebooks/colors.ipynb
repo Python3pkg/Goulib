{
 "cells": [
  {
   "cell_type": "markdown",
   "metadata": {},
   "source": [
    "# [Goulib](../notebook.ipynb).colors\n",
    "very simple (RGB) color management\n"
   ]
  },
  {
   "cell_type": "code",
   "execution_count": 1,
   "metadata": {
    "collapsed": false
   },
   "outputs": [
    {
     "data": {
      "application/javascript": [
       "IPython.OutputArea.auto_scroll_threshold = 9999; // to avoid a scrollbar in Pantone table below"
      ],
      "text/plain": [
       "<IPython.core.display.Javascript object>"
      ]
     },
     "metadata": {},
     "output_type": "display_data"
    }
   ],
   "source": [
    "%%javascript\n",
    "IPython.OutputArea.auto_scroll_threshold = 9999; // to avoid a scrollbar in Pantone table below"
   ]
  },
  {
   "cell_type": "code",
   "execution_count": 2,
   "metadata": {
    "collapsed": false
   },
   "outputs": [],
   "source": [
    "from Goulib.notebook import *\n",
    "from Goulib.colors import *"
   ]
  },
  {
   "cell_type": "code",
   "execution_count": 3,
   "metadata": {
    "collapsed": false
   },
   "outputs": [
    {
     "data": {
      "text/html": [
       "<p style=\"color:#0000ff\">blue</p> <p style=\"color:#0000ff\">blue</p>"
      ],
      "text/plain": [
       "<IPython.core.display.HTML object>"
      ]
     },
     "metadata": {},
     "output_type": "display_data"
    }
   ],
   "source": [
    "c=color['blue'] # color is a dict of RGB #hex colors defined in Matplotlib indexed by their name\n",
    "c2=color_lookup[c.hex] # reversed dict to retrieve color by hex string\n",
    "print(c,c2)"
   ]
  },
  {
   "cell_type": "code",
   "execution_count": 4,
   "metadata": {
    "collapsed": false
   },
   "outputs": [
    {
     "data": {
      "text/html": [
       "<p style=\"color:#0000ff\">blue</p>"
      ],
      "text/plain": [
       "Color('blue')"
      ]
     },
     "execution_count": 4,
     "metadata": {},
     "output_type": "execute_result"
    }
   ],
   "source": [
    "red=Color('red') #Color objects can be init'ed by name,\n",
    "green=Color('#00ff00') # by RGB hex string,\n",
    "blue=Color((0,0,1)) #or by RGB triplet\n",
    "blue # Color objects have an HTML representation"
   ]
  },
  {
   "cell_type": "code",
   "execution_count": 5,
   "metadata": {
    "collapsed": false
   },
   "outputs": [
    {
     "data": {
      "text/html": [
       "magenta #ff00ff (1.0,0.0,1.0)"
      ],
      "text/plain": [
       "<IPython.core.display.HTML object>"
      ]
     },
     "metadata": {},
     "output_type": "display_data"
    },
    {
     "data": {
      "text/html": [
       "<p style=\"color:#00ffff\">cyan</p> <p style=\"color:#ff00ff\">magenta</p> <p style=\"color:#ffff00\">yellow</p>"
      ],
      "text/plain": [
       "<IPython.core.display.HTML object>"
      ]
     },
     "metadata": {},
     "output_type": "display_data"
    }
   ],
   "source": [
    "#colors can be added\n",
    "cyan=blue+green\n",
    "magenta=blue+red\n",
    "yellow=red+green\n",
    "\n",
    "print(magenta.name, magenta.hex, magenta.rgb) # see ? the color name of the sum is correct too !\n",
    "print(cyan, magenta, yellow)"
   ]
  },
  {
   "cell_type": "code",
   "execution_count": 6,
   "metadata": {
    "collapsed": false
   },
   "outputs": [
    {
     "data": {
      "text/html": [
       "<p style=\"color:#000000\">black</p>"
      ],
      "text/plain": [
       "Color('black')"
      ]
     },
     "execution_count": 6,
     "metadata": {},
     "output_type": "execute_result"
    }
   ],
   "source": [
    "magenta-cyan-yellow #and colors can be substracted too"
   ]
  },
  {
   "cell_type": "code",
   "execution_count": 7,
   "metadata": {
    "collapsed": false
   },
   "outputs": [
    {
     "data": {
      "text/plain": [
       "(0.0, 0.0, 0.0)"
      ]
     },
     "execution_count": 7,
     "metadata": {},
     "output_type": "execute_result"
    }
   ],
   "source": [
    "Color(magenta-cyan-yellow).rgb"
   ]
  },
  {
   "cell_type": "code",
   "execution_count": 8,
   "metadata": {
    "collapsed": false
   },
   "outputs": [
    {
     "data": {
      "text/html": [
       "<p style=\"color:#008080\">teal</p> teal #008080 (0.0,0.5019607843137255,0.5019607843137255)"
      ],
      "text/plain": [
       "<IPython.core.display.HTML object>"
      ]
     },
     "metadata": {},
     "output_type": "display_data"
    }
   ],
   "source": [
    "c= Color('gray')-red # colors can be substracted too. RGB values are bounded\n",
    "print(c,c.name, c.hex, c.rgb) # see ? the color name of the sum is correct too !"
   ]
  },
  {
   "cell_type": "code",
   "execution_count": 9,
   "metadata": {
    "collapsed": false
   },
   "outputs": [
    {
     "data": {
      "text/html": [
       "<p style=\"color:#41d3bf\">~mediumturquoise</p> <p style=\"color:#524872\">~darkslateblue</p> <p style=\"color:#01aecc\">~darkturquoise</p> <p style=\"color:#9108f3\">~darkviolet</p> <p style=\"color:#d0a17e\">~tan</p> <p style=\"color:#185fcd\">~royalblue</p> <p style=\"color:#3cb331\">~limegreen</p> <p style=\"color:#6050d3\">~slateblue</p> <p style=\"color:#df47a6\">~palevioletred</p> <p style=\"color:#245a98\">~darkslateblue</p>"
      ],
      "text/plain": [
       "<IPython.core.display.HTML object>"
      ]
     },
     "metadata": {},
     "output_type": "display_data"
    }
   ],
   "source": [
    "from random import random\n",
    "r=[Color((random(),random(),random())) for _ in range(10)]\n",
    "print(*r) # unknown colors recieve name of the nearest known color with a tile before"
   ]
  },
  {
   "cell_type": "code",
   "execution_count": 10,
   "metadata": {
    "collapsed": false
   },
   "outputs": [
    {
     "data": {
      "text/html": [
       "<p style=\"color:#ff0000\">red</p> <p style=\"color:#ffff00\">yellow</p> <p style=\"color:#00ff00\">lime</p> <p style=\"color:#00ffff\">cyan</p> <p style=\"color:#0000ff\">blue</p>"
      ],
      "text/plain": [
       "<IPython.core.display.HTML object>"
      ]
     },
     "metadata": {},
     "output_type": "display_data"
    }
   ],
   "source": [
    "print(*map(Color,color_range(5,'red','blue')))"
   ]
  },
  {
   "cell_type": "markdown",
   "metadata": {},
   "source": [
    "## Colors space conversions"
   ]
  },
  {
   "cell_type": "code",
   "execution_count": 11,
   "metadata": {
    "collapsed": true
   },
   "outputs": [],
   "source": [
    "import networkx as nx\n",
    "nx.draw_networkx(converters)"
   ]
  },
  {
   "cell_type": "markdown",
   "metadata": {},
   "source": [
    "## Pantone colors"
   ]
  },
  {
   "cell_type": "code",
   "execution_count": 12,
   "metadata": {
    "collapsed": false
   },
   "outputs": [
    {
     "data": {
      "text/html": [
       "<p style=\"color:#da1f28\">1795C</p> Lab= (47.0,68.0,45.0) RGB= (0.854794296771,0.120230928455,0.155677641749) #da1f28 CMYK= (0.0,0.859345191107,0.817877070147,0.145205703229)"
      ],
      "text/plain": [
       "<IPython.core.display.HTML object>"
      ]
     },
     "metadata": {},
     "output_type": "display_data"
    }
   ],
   "source": [
    "# pantone is a dict of Colors initialized from RGB values\n",
    "bred=pantone['1795C'] #BOBST Red\n",
    "print(bred,'Lab=',bred.lab,'RGB=',bred.rgb,bred.hex,'CMYK=',bred.cmyk)"
   ]
  },
  {
   "cell_type": "code",
   "execution_count": 13,
   "metadata": {
    "collapsed": false
   },
   "outputs": [
    {
     "data": {
      "text/html": [
       "<p style=\"color:#25e0d7\">~turquoise</p>"
      ],
      "text/plain": [
       "Color('~turquoise')"
      ]
     },
     "execution_count": 13,
     "metadata": {},
     "output_type": "execute_result"
    }
   ],
   "source": [
    "-bred"
   ]
  },
  {
   "cell_type": "code",
   "execution_count": 19,
   "metadata": {
    "collapsed": false
   },
   "outputs": [
    {
     "data": {
      "text/html": [
       "<table><tr><td style=\"background-color:#fced89;\"><p style=\"color:#031276\">100C</p></td><td style=\"background-color:#fdea63;\"><p style=\"color:#02159c\">101C</p></td><td style=\"background-color:#ffe500;\"><p style=\"color:#001aff\">102C</p></td><td style=\"background-color:#d1aa00;\"><p style=\"color:#2e55ff\">103C</p></td><td style=\"background-color:#b29400;\"><p style=\"color:#4d6bff\">104C</p></td><td style=\"background-color:#867015;\"><p style=\"color:#798fea\">105C</p></td><td style=\"background-color:#ffe563;\"><p style=\"color:#001a9c\">106C</p></td><td style=\"background-color:#ffe135;\"><p style=\"color:#001eca\">107C</p></td><td style=\"background-color:#ffd900;\"><p style=\"color:#0026ff\">108C</p></td><td style=\"background-color:#ffd000;\"><p style=\"color:#002fff\">109C</p></td></tr>\n",
       "<tr><td style=\"background-color:#e2ab00;\"><p style=\"color:#1d54ff\">110C</p></td><td style=\"background-color:#b78e00;\"><p style=\"color:#4871ff\">111C</p></td><td style=\"background-color:#a08000;\"><p style=\"color:#5f7fff\">112C</p></td><td style=\"background-color:#ffe05c;\"><p style=\"color:#001fa3\">113C</p></td><td style=\"background-color:#ffdd52;\"><p style=\"color:#0022ad\">114C</p></td><td style=\"background-color:#ffdd4d;\"><p style=\"color:#0022b2\">115C</p></td><td style=\"background-color:#ffcc00;\"><p style=\"color:#0033ff\">116C</p></td><td style=\"background-color:#d69c00;\"><p style=\"color:#2963ff\">117C</p></td><td style=\"background-color:#b98900;\"><p style=\"color:#4676ff\">118C</p></td><td style=\"background-color:#8e741c;\"><p style=\"color:#718be3\">119C</p></td></tr>\n",
       "<tr><td style=\"background-color:#f8e0a7;\"><p style=\"color:#071f58\">1205C</p></td><td style=\"background-color:#ffdd79;\"><p style=\"color:#002286\">120C</p></td><td style=\"background-color:#fbdd93;\"><p style=\"color:#04226c\">1215C</p></td><td style=\"background-color:#ffdb70;\"><p style=\"color:#00248f\">121C</p></td><td style=\"background-color:#ffc748;\"><p style=\"color:#0038b7\">1225C</p></td><td style=\"background-color:#ffd352;\"><p style=\"color:#002cad\">122C</p></td><td style=\"background-color:#ffb100;\"><p style=\"color:#004eff\">1235C</p></td><td style=\"background-color:#ffc62a;\"><p style=\"color:#0039d5\">123C</p></td><td style=\"background-color:#cc9000;\"><p style=\"color:#336fff\">1245C</p></td><td style=\"background-color:#f5ab00;\"><p style=\"color:#0a54ff\">124C</p></td></tr>\n",
       "<tr><td style=\"background-color:#ae7e0f;\"><p style=\"color:#5181f0\">1255C</p></td><td style=\"background-color:#c28900;\"><p style=\"color:#3d76ff\">125C</p></td><td style=\"background-color:#8b671a;\"><p style=\"color:#7498e5\">1265C</p></td><td style=\"background-color:#a87c04;\"><p style=\"color:#5783fb\">126C</p></td><td style=\"background-color:#f7df87;\"><p style=\"color:#082078\">127C</p></td><td style=\"background-color:#f9d45f;\"><p style=\"color:#062ba0\">128C</p></td><td style=\"background-color:#facc47;\"><p style=\"color:#0533b8\">129C</p></td><td style=\"background-color:#f8a900;\"><p style=\"color:#0756ff\">130C</p></td><td style=\"background-color:#d98e00;\"><p style=\"color:#2671ff\">131C</p></td><td style=\"background-color:#ad7b00;\"><p style=\"color:#5284ff\">132C</p></td></tr>\n",
       "<tr><td style=\"background-color:#745713;\"><p style=\"color:#8ba8ec\">133C</p></td><td style=\"background-color:#ffce8e;\"><p style=\"color:#003171\">1345C</p></td><td style=\"background-color:#ffd484;\"><p style=\"color:#002b7b\">134C</p></td><td style=\"background-color:#ffc77d;\"><p style=\"color:#003882\">1355C</p></td><td style=\"background-color:#ffc75b;\"><p style=\"color:#0038a4\">135C</p></td><td style=\"background-color:#ffb554;\"><p style=\"color:#004aab\">1365C</p></td><td style=\"background-color:#ffba3b;\"><p style=\"color:#0045c4\">136C</p></td><td style=\"background-color:#ff9a00;\"><p style=\"color:#0065ff\">1375C</p></td><td style=\"background-color:#ff9f00;\"><p style=\"color:#0060ff\">137C</p></td><td style=\"background-color:#dd7600;\"><p style=\"color:#2289ff\">1385C</p></td></tr>\n",
       "<tr><td style=\"background-color:#eb7f00;\"><p style=\"color:#1480ff\">138C</p></td><td style=\"background-color:#a26009;\"><p style=\"color:#5d9ff6\">1395C</p></td><td style=\"background-color:#bb7000;\"><p style=\"color:#448fff\">139C</p></td><td style=\"background-color:#704714;\"><p style=\"color:#8fb8eb\">1405C</p></td><td style=\"background-color:#7f5612;\"><p style=\"color:#80a9ed\">140C</p></td><td style=\"background-color:#f7c869;\"><p style=\"color:#083796\">141C</p></td><td style=\"background-color:#f7b947;\"><p style=\"color:#0846b8\">142C</p></td><td style=\"background-color:#f7a926;\"><p style=\"color:#0856d9\">143C</p></td><td style=\"background-color:#f27f00;\"><p style=\"color:#0d80ff\">144C</p></td><td style=\"background-color:#d57600;\"><p style=\"color:#2a89ff\">145C</p></td></tr>\n",
       "<tr><td style=\"background-color:#a35f00;\"><p style=\"color:#5ca0ff\">146C</p></td><td style=\"background-color:#745721;\"><p style=\"color:#8ba8de\">147C</p></td><td style=\"background-color:#ffb57c;\"><p style=\"color:#004a83\">1485C</p></td><td style=\"background-color:#ffce9d;\"><p style=\"color:#003162\">148C</p></td><td style=\"background-color:#ff953b;\"><p style=\"color:#006ac4\">1495C</p></td><td style=\"background-color:#ffc589;\"><p style=\"color:#003a76\">149C</p></td><td style=\"background-color:#ff7100;\"><p style=\"color:#008eff\">1505C</p></td><td style=\"background-color:#ffa74f;\"><p style=\"color:#0058b0\">150C</p></td><td style=\"background-color:#ff7200;\"><p style=\"color:#008dff\">151C</p></td><td style=\"background-color:#ce4d00;\"><p style=\"color:#31b2ff\">1525C</p></td></tr>\n",
       "<tr><td style=\"background-color:#ed6f00;\"><p style=\"color:#1290ff\">152C</p></td><td style=\"background-color:#973f00;\"><p style=\"color:#68c0ff\">1535C</p></td><td style=\"background-color:#c46500;\"><p style=\"color:#3b9aff\">153C</p></td><td style=\"background-color:#53260b;\"><p style=\"color:#acd9f4\">1545C</p></td><td style=\"background-color:#9f550b;\"><p style=\"color:#60aaf4\">154C</p></td><td style=\"background-color:#ffbfa1;\"><p style=\"color:#00405e\">1555C</p></td><td style=\"background-color:#f1d6b1;\"><p style=\"color:#0e294e\">155C</p></td><td style=\"background-color:#ffa97e;\"><p style=\"color:#005681\">1565C</p></td><td style=\"background-color:#f4bf8a;\"><p style=\"color:#0b4075\">156C</p></td><td style=\"background-color:#ff8541;\"><p style=\"color:#007abe\">1575C</p></td></tr>\n",
       "<tr><td style=\"background-color:#f2994e;\"><p style=\"color:#0d66b1\">157C</p></td><td style=\"background-color:#ff6800;\"><p style=\"color:#0097ff\">1585C</p></td><td style=\"background-color:#ed690e;\"><p style=\"color:#1296f1\">158C</p></td><td style=\"background-color:#de5b02;\"><p style=\"color:#21a4fd\">1595C</p></td><td style=\"background-color:#d35907;\"><p style=\"color:#2ca6f8\">159C</p></td><td style=\"background-color:#a64a14;\"><p style=\"color:#59b5eb\">1605C</p></td><td style=\"background-color:#a74f14;\"><p style=\"color:#58b0eb\">160C</p></td><td style=\"background-color:#883c10;\"><p style=\"color:#77c3ef\">1615C</p></td><td style=\"background-color:#623416;\"><p style=\"color:#9dcbe9\">161C</p></td><td style=\"background-color:#ffa18a;\"><p style=\"color:#005e75\">1625C</p></td></tr>\n",
       "<tr><td style=\"background-color:#ffc4ab;\"><p style=\"color:#003b54\">162C</p></td><td style=\"background-color:#ff8e6f;\"><p style=\"color:#007190\">1635C</p></td><td style=\"background-color:#ff9c71;\"><p style=\"color:#00638e\">163C</p></td><td style=\"background-color:#ff6b3b;\"><p style=\"color:#0094c4\">1645C</p></td><td style=\"background-color:#ff7e44;\"><p style=\"color:#0081bb\">164C</p></td><td style=\"background-color:#ff5100;\"><p style=\"color:#00aeff\">1655C</p></td><td style=\"background-color:#ff6000;\"><p style=\"color:#009fff\">165C</p></td><td style=\"background-color:#e94800;\"><p style=\"color:#16b7ff\">1665C</p></td><td style=\"background-color:#eb5300;\"><p style=\"color:#14acff\">166C</p></td><td style=\"background-color:#ab3b0e;\"><p style=\"color:#54c4f1\">1675C</p></td></tr>\n",
       "<tr><td style=\"background-color:#c5500d;\"><p style=\"color:#3aaff2\">167C</p></td><td style=\"background-color:#893615;\"><p style=\"color:#76c9ea\">1685C</p></td><td style=\"background-color:#723114;\"><p style=\"color:#8dceeb\">168C</p></td><td style=\"background-color:#ffb6b0;\"><p style=\"color:#00494f\">169C</p></td><td style=\"background-color:#ff887a;\"><p style=\"color:#007785\">170C</p></td><td style=\"background-color:#ff6241;\"><p style=\"color:#009dbe\">171C</p></td><td style=\"background-color:#ff4600;\"><p style=\"color:#00b9ff\">172C</p></td><td style=\"background-color:#db4417;\"><p style=\"color:#24bbe8\">173C</p></td><td style=\"background-color:#9c3415;\"><p style=\"color:#63cbea\">174C</p></td><td style=\"background-color:#713120;\"><p style=\"color:#8ecedf\">175C</p></td></tr>\n",
       "<tr><td style=\"background-color:#ff9caf;\"><p style=\"color:#006350\">1765C</p></td><td style=\"background-color:#faafc1;\"><p style=\"color:#05503e\">1767C</p></td><td style=\"background-color:#ffacb8;\"><p style=\"color:#005347\">176C</p></td><td style=\"background-color:#ff8599;\"><p style=\"color:#007a66\">1775C</p></td><td style=\"background-color:#ff6782;\"><p style=\"color:#00987d\">1777C</p></td><td style=\"background-color:#ff818b;\"><p style=\"color:#007e74\">177C</p></td><td style=\"background-color:#fd465a;\"><p style=\"color:#02b9a5\">1785C</p></td><td style=\"background-color:#fd455f;\"><p style=\"color:#02baa0\">1787C</p></td><td style=\"background-color:#f52632;\"><p style=\"color:#0ad9cd\">1788C</p></td><td style=\"background-color:#ff5c60;\"><p style=\"color:#00a39f\">178C</p></td></tr>\n",
       "<tr><td style=\"background-color:#da1f28;\"><p style=\"color:#25e0d7\">1795C</p></td><td style=\"background-color:#d22432;\"><p style=\"color:#2ddbcd\">1797C</p></td><td style=\"background-color:#e73927;\"><p style=\"color:#18c6d8\">179C</p></td><td style=\"background-color:#b4252a;\"><p style=\"color:#4bdad5\">1805C</p></td><td style=\"background-color:#a3282f;\"><p style=\"color:#5cd7d0\">1807C</p></td><td style=\"background-color:#c4362b;\"><p style=\"color:#3bc9d4\">180C</p></td><td style=\"background-color:#7f1d16;\"><p style=\"color:#80e2e9\">1815C</p></td><td style=\"background-color:#602728;\"><p style=\"color:#9fd8d7\">1817C</p></td><td style=\"background-color:#7c2720;\"><p style=\"color:#83d8df\">181C</p></td><td style=\"background-color:#f8b8ca;\"><p style=\"color:#074735\">182C</p></td></tr>\n",
       "<tr><td style=\"background-color:#ff8fa9;\"><p style=\"color:#007056\">183C</p></td><td style=\"background-color:#fc5f7e;\"><p style=\"color:#03a081\">184C</p></td><td style=\"background-color:#ed0835;\"><p style=\"color:#12f7ca\">185C</p></td><td style=\"background-color:#d41032;\"><p style=\"color:#2befcd\">186C</p></td><td style=\"background-color:#b71e34;\"><p style=\"color:#48e1cb\">187C</p></td><td style=\"background-color:#7e232f;\"><p style=\"color:#81dcd0\">188C</p></td><td style=\"background-color:#f6bdcd;\"><p style=\"color:#094232\">1895C</p></td><td style=\"background-color:#faa2bd;\"><p style=\"color:#055d42\">189C</p></td><td style=\"background-color:#f79bb7;\"><p style=\"color:#086448\">1905C</p></td><td style=\"background-color:#fb799e;\"><p style=\"color:#048661\">190C</p></td></tr>\n",
       "<tr><td style=\"background-color:#f5578a;\"><p style=\"color:#0aa875\">1915C</p></td><td style=\"background-color:#f33f70;\"><p style=\"color:#0cc08f\">191C</p></td><td style=\"background-color:#e7034f;\"><p style=\"color:#18fcb0\">1925C</p></td><td style=\"background-color:#eb0b48;\"><p style=\"color:#14f4b7\">192C</p></td><td style=\"background-color:#ce0b46;\"><p style=\"color:#31f4b9\">1935C</p></td><td style=\"background-color:#c50e3d;\"><p style=\"color:#3af1c2\">193C</p></td><td style=\"background-color:#ac123e;\"><p style=\"color:#53edc1\">1945C</p></td><td style=\"background-color:#9d1f3c;\"><p style=\"color:#62e0c3\">194C</p></td><td style=\"background-color:#961a3c;\"><p style=\"color:#69e5c3\">1955C</p></td><td style=\"background-color:#eec8d2;\"><p style=\"color:#11372d\">196C</p></td></tr>\n",
       "<tr><td style=\"background-color:#ed9cb3;\"><p style=\"color:#12634c\">197C</p></td><td style=\"background-color:#e84f6f;\"><p style=\"color:#17b090\">198C</p></td><td style=\"background-color:#dd0e3f;\"><p style=\"color:#22f1c0\">199C</p></td><td style=\"background-color:#c60c35;\"><p style=\"color:#39f3ca\">200C</p></td><td style=\"background-color:#a01c32;\"><p style=\"color:#5fe3cd\">201C</p></td><td style=\"background-color:#8a2032;\"><p style=\"color:#75dfcd\">202C</p></td><td style=\"background-color:#eeacbf;\"><p style=\"color:#115340\">203C</p></td><td style=\"background-color:#ea7a9f;\"><p style=\"color:#158560\">204C</p></td><td style=\"background-color:#e54784;\"><p style=\"color:#1ab87b\">205C</p></td><td style=\"background-color:#d8004b;\"><p style=\"color:#27ffb4\">206C</p></td></tr>\n",
       "<tr><td style=\"background-color:#b30442;\"><p style=\"color:#4cfbbd\">207C</p></td><td style=\"background-color:#902246;\"><p style=\"color:#6fddb9\">208C</p></td><td style=\"background-color:#772841;\"><p style=\"color:#88d7be\">209C</p></td><td style=\"background-color:#ffa0bd;\"><p style=\"color:#005f42\">210C</p></td><td style=\"background-color:#ff7faa;\"><p style=\"color:#008055\">211C</p></td><td style=\"background-color:#f54f91;\"><p style=\"color:#0ab06e\">212C</p></td><td style=\"background-color:#e81c76;\"><p style=\"color:#17e389\">213C</p></td><td style=\"background-color:#d10462;\"><p style=\"color:#2efb9d\">214C</p></td><td style=\"background-color:#ad1654;\"><p style=\"color:#52e9ab\">215C</p></td><td style=\"background-color:#7a1e41;\"><p style=\"color:#85e1be\">216C</p></td></tr>\n",
       "<tr><td style=\"background-color:#f2bbca;\"><p style=\"color:#0d4435\">217C</p></td><td style=\"background-color:#f1709d;\"><p style=\"color:#0e8f62\">218C</p></td><td style=\"background-color:#e4257c;\"><p style=\"color:#1bda83\">219C</p></td><td style=\"background-color:#b00055;\"><p style=\"color:#4fffaa\">220C</p></td><td style=\"background-color:#98004a;\"><p style=\"color:#67ffb5\">221C</p></td><td style=\"background-color:#6e1b3d;\"><p style=\"color:#91e4c2\">222C</p></td><td style=\"background-color:#fc94b5;\"><p style=\"color:#036b4a\">223C</p></td><td style=\"background-color:#f86a9d;\"><p style=\"color:#079562\">224C</p></td><td style=\"background-color:#ed2782;\"><p style=\"color:#12d87d\">225C</p></td><td style=\"background-color:#d9006e;\"><p style=\"color:#26ff91\">226C</p></td></tr>\n",
       "<tr><td style=\"background-color:#af0057;\"><p style=\"color:#50ffa8\">227C</p></td><td style=\"background-color:#8c0949;\"><p style=\"color:#73f6b6\">228C</p></td><td style=\"background-color:#6c1e3d;\"><p style=\"color:#93e1c2\">229C</p></td><td style=\"background-color:#ffa8c2;\"><p style=\"color:#00573d\">230C</p></td><td style=\"background-color:#ff75a5;\"><p style=\"color:#008a5a\">231C</p></td><td style=\"background-color:#f9428e;\"><p style=\"color:#06bd71\">232C</p></td><td style=\"background-color:#cf006b;\"><p style=\"color:#30ff94\">233C</p></td><td style=\"background-color:#a90057;\"><p style=\"color:#56ffa8\">234C</p></td><td style=\"background-color:#8c0949;\"><p style=\"color:#73f6b6\">235C</p></td><td style=\"background-color:#f7c4d2;\"><p style=\"color:#083b2d\">2365C</p></td></tr>\n",
       "<tr><td style=\"background-color:#f9afc5;\"><p style=\"color:#06503a\">236C</p></td><td style=\"background-color:#f1709d;\"><p style=\"color:#0e8f62\">2375C</p></td><td style=\"background-color:#f884aa;\"><p style=\"color:#077b55\">237C</p></td><td style=\"background-color:#e3317f;\"><p style=\"color:#1cce80\">2385C</p></td><td style=\"background-color:#f15490;\"><p style=\"color:#0eab6f\">238C</p></td><td style=\"background-color:#ce0066;\"><p style=\"color:#31ff99\">2395C</p></td><td style=\"background-color:#e93081;\"><p style=\"color:#16cf7e\">239C</p></td><td style=\"background-color:#b10057;\"><p style=\"color:#4effa8\">2405C</p></td><td style=\"background-color:#ce1e70;\"><p style=\"color:#31e18f\">240C</p></td><td style=\"background-color:#a10050;\"><p style=\"color:#5effaf\">2415C</p></td></tr>\n",
       "<tr><td style=\"background-color:#b4055e;\"><p style=\"color:#4bfaa1\">241C</p></td><td style=\"background-color:#880044;\"><p style=\"color:#77ffbb\">2425C</p></td><td style=\"background-color:#801c46;\"><p style=\"color:#7fe3b9\">242C</p></td><td style=\"background-color:#f2b6c7;\"><p style=\"color:#0d4938\">243C</p></td><td style=\"background-color:#f2a2ba;\"><p style=\"color:#0d5d45\">244C</p></td><td style=\"background-color:#ef81a5;\"><p style=\"color:#107e5a\">245C</p></td><td style=\"background-color:#d40270;\"><p style=\"color:#2bfd8f\">246C</p></td><td style=\"background-color:#c10063;\"><p style=\"color:#3eff9c\">247C</p></td><td style=\"background-color:#a90057;\"><p style=\"color:#56ffa8\">248C</p></td><td style=\"background-color:#812148;\"><p style=\"color:#7edeb7\">249C</p></td></tr>\n",
       "<tr><td style=\"background-color:#edc0cd;\"><p style=\"color:#123f32\">250C</p></td><td style=\"background-color:#e89bb2;\"><p style=\"color:#17644d\">251C</p></td><td style=\"background-color:#dc628d;\"><p style=\"color:#239d72\">252C</p></td><td style=\"background-color:#be1566;\"><p style=\"color:#41ea99\">253C</p></td><td style=\"background-color:#a8205c;\"><p style=\"color:#57dfa3\">254C</p></td><td style=\"background-color:#7a2446;\"><p style=\"color:#85dbb9\">255C</p></td><td style=\"background-color:#dea3b4;\"><p style=\"color:#215c4b\">2562C</p></td><td style=\"background-color:#d59bac;\"><p style=\"color:#2a6453\">2563C</p></td><td style=\"background-color:#cc98a6;\"><p style=\"color:#336759\">2567C</p></td><td style=\"background-color:#e1bec7;\"><p style=\"color:#1e4138\">256C</p></td></tr>\n",
       "<tr><td style=\"background-color:#d5839c;\"><p style=\"color:#2a7c63\">2572C</p></td><td style=\"background-color:#c4778f;\"><p style=\"color:#3b8870\">2573C</p></td><td style=\"background-color:#ba758a;\"><p style=\"color:#458a75\">2577C</p></td><td style=\"background-color:#d6a3b1;\"><p style=\"color:#295c4e\">257C</p></td><td style=\"background-color:#bd4874;\"><p style=\"color:#42b78b\">2582C</p></td><td style=\"background-color:#ad4d6e;\"><p style=\"color:#52b291\">2583C</p></td><td style=\"background-color:#9f4465;\"><p style=\"color:#60bb9a\">2587C</p></td><td style=\"background-color:#a24767;\"><p style=\"color:#5db898\">258C</p></td><td style=\"background-color:#ab0959;\"><p style=\"color:#54f6a6\">2592C</p></td><td style=\"background-color:#942854;\"><p style=\"color:#6bd7ab\">2593C</p></td></tr>\n",
       "<tr><td style=\"background-color:#77003b;\"><p style=\"color:#88ffc4\">2597C</p></td><td style=\"background-color:#791841;\"><p style=\"color:#86e7be\">259C</p></td><td style=\"background-color:#93004b;\"><p style=\"color:#6cffb4\">2602C</p></td><td style=\"background-color:#7b1341;\"><p style=\"color:#84ecbe\">2603C</p></td><td style=\"background-color:#680032;\"><p style=\"color:#97ffcd\">2607C</p></td><td style=\"background-color:#691b3a;\"><p style=\"color:#96e4c5\">260C</p></td><td style=\"background-color:#7a1641;\"><p style=\"color:#85e9be\">2612C</p></td><td style=\"background-color:#72133d;\"><p style=\"color:#8decc2\">2613C</p></td><td style=\"background-color:#600230;\"><p style=\"color:#9ffdcf\">2617C</p></td><td style=\"background-color:#621e38;\"><p style=\"color:#9de1c7\">261C</p></td></tr>\n",
       "<tr><td style=\"background-color:#61243a;\"><p style=\"color:#9edbc5\">2622C</p></td><td style=\"background-color:#641636;\"><p style=\"color:#9be9c9\">2623C</p></td><td style=\"background-color:#530d2b;\"><p style=\"color:#acf2d4\">2627C</p></td><td style=\"background-color:#542133;\"><p style=\"color:#abdecc\">262C</p></td><td style=\"background-color:#d0adb6;\"><p style=\"color:#2f5249\">2635C</p></td><td style=\"background-color:#e3ccd2;\"><p style=\"color:#1c332d\">263C</p></td><td style=\"background-color:#c1919e;\"><p style=\"color:#3e6e61\">2645C</p></td><td style=\"background-color:#cfa6b1;\"><p style=\"color:#30594e\">264C</p></td><td style=\"background-color:#b17185;\"><p style=\"color:#4e8e7a\">2655C</p></td><td style=\"background-color:#af627b;\"><p style=\"color:#509d84\">265C</p></td></tr>\n",
       "<tr><td style=\"background-color:#9f4e69;\"><p style=\"color:#60b196\">2665C</p></td><td style=\"background-color:#922c54;\"><p style=\"color:#6dd3ab\">266C</p></td><td style=\"background-color:#70173d;\"><p style=\"color:#8fe8c2\">267C</p></td><td style=\"background-color:#5a0025;\"><p style=\"color:#a5ffda\">2685C</p></td><td style=\"background-color:#641b38;\"><p style=\"color:#9be4c7\">268C</p></td><td style=\"background-color:#481a2b;\"><p style=\"color:#b7e5d4\">2695C</p></td><td style=\"background-color:#562435;\"><p style=\"color:#a9dbca\">269C</p></td><td style=\"background-color:#b99ca3;\"><p style=\"color:#46635c\">2705C</p></td><td style=\"background-color:#d0cbcc;\"><p style=\"color:#2f3433\">2706C</p></td><td style=\"background-color:#cbd0cf;\"><p style=\"color:#342f30\">2707C</p></td></tr>\n",
       "<tr><td style=\"background-color:#c2c4c4;\"><p style=\"color:#3d3b3b\">2708C</p></td><td style=\"background-color:#bfacb1;\"><p style=\"color:#40534e\">270C</p></td><td style=\"background-color:#a77e89;\"><p style=\"color:#588176\">2715C</p></td><td style=\"background-color:#b09fa3;\"><p style=\"color:#4f605c\">2716C</p></td><td style=\"background-color:#b7bcbb;\"><p style=\"color:#484344\">2717C</p></td><td style=\"background-color:#8b7b7f;\"><p style=\"color:#748480\">2718C</p></td><td style=\"background-color:#ad8e96;\"><p style=\"color:#527169\">271C</p></td><td style=\"background-color:#8f5064;\"><p style=\"color:#70af9b\">2725C</p></td><td style=\"background-color:#81505f;\"><p style=\"color:#7eafa0\">2726C</p></td><td style=\"background-color:#817477;\"><p style=\"color:#7e8b88\">2727C</p></td></tr>\n",
       "<tr><td style=\"background-color:#6b424e;\"><p style=\"color:#94bdb1\">2728C</p></td><td style=\"background-color:#98727d;\"><p style=\"color:#678d82\">272C</p></td><td style=\"background-color:#600026;\"><p style=\"color:#9fffd9\">2735C</p></td><td style=\"background-color:#6c163a;\"><p style=\"color:#93e9c5\">2736C</p></td><td style=\"background-color:#5d002d;\"><p style=\"color:#a2ffd2\">2738C</p></td><td style=\"background-color:#4f0d29;\"><p style=\"color:#b0f2d6\">273C</p></td><td style=\"background-color:#4f0021;\"><p style=\"color:#b0ffde\">2745C</p></td><td style=\"background-color:#5d1231;\"><p style=\"color:#a2edce\">2746C</p></td><td style=\"background-color:#441e2a;\"><p style=\"color:#bbe1d5\">2747C</p></td><td style=\"background-color:#461326;\"><p style=\"color:#b9ecd9\">2748C</p></td></tr>\n",
       "<tr><td style=\"background-color:#430c22;\"><p style=\"color:#bcf3dd\">274C</p></td><td style=\"background-color:#44001d;\"><p style=\"color:#bbffe2\">2755C</p></td><td style=\"background-color:#451928;\"><p style=\"color:#bae6d7\">2756C</p></td><td style=\"background-color:#351d24;\"><p style=\"color:#cae2db\">2757C</p></td><td style=\"background-color:#3a1924;\"><p style=\"color:#c5e6db\">2758C</p></td><td style=\"background-color:#3a0c1e;\"><p style=\"color:#c5f3e1\">275C</p></td><td style=\"background-color:#37051a;\"><p style=\"color:#c8fae5\">2765C</p></td><td style=\"background-color:#331a22;\"><p style=\"color:#cce5dd\">2766C</p></td><td style=\"background-color:#242122;\"><p style=\"color:#dbdedd\">2767C</p></td><td style=\"background-color:#2b1b20;\"><p style=\"color:#d4e4df\">2768C</p></td></tr>\n",
       "<tr><td style=\"background-color:#331a22;\"><p style=\"color:#cce5dd\">276C</p></td><td style=\"background-color:#bcc6c3;\"><p style=\"color:#43393c\">277C</p></td><td style=\"background-color:#a9b3b0;\"><p style=\"color:#564c4f\">278C</p></td><td style=\"background-color:#828786;\"><p style=\"color:#7d7879\">279C</p></td><td style=\"background-color:#3f212a;\"><p style=\"color:#c0ded5\">280C</p></td><td style=\"background-color:#332126;\"><p style=\"color:#ccded9\">281C</p></td><td style=\"background-color:#241e20;\"><p style=\"color:#dbe1df\">282C</p></td><td style=\"background-color:#aabdb8;\"><p style=\"color:#554247\">283C</p></td><td style=\"background-color:#93a7a3;\"><p style=\"color:#6c585c\">284C</p></td><td style=\"background-color:#6c7372;\"><p style=\"color:#938c8d\">285C</p></td></tr>\n",
       "<tr><td style=\"background-color:#582e3c;\"><p style=\"color:#a7d1c3\">286C</p></td><td style=\"background-color:#4a3339;\"><p style=\"color:#b5ccc6\">287C</p></td><td style=\"background-color:#3d2c31;\"><p style=\"color:#c2d3ce\">288C</p></td><td style=\"background-color:#202222;\"><p style=\"color:#dfdddd\">289C</p></td><td style=\"background-color:#a8c8c0;\"><p style=\"color:#57373f\">2905C</p></td><td style=\"background-color:#c8d8d4;\"><p style=\"color:#37272b\">290C</p></td><td style=\"background-color:#8cb3ab;\"><p style=\"color:#734c54\">2915C</p></td><td style=\"background-color:#b4cbc6;\"><p style=\"color:#4b3439\">291C</p></td><td style=\"background-color:#658e86;\"><p style=\"color:#9a7179\">2925C</p></td><td style=\"background-color:#90afa8;\"><p style=\"color:#6f5057\">292C</p></td></tr>\n",
       "<tr><td style=\"background-color:#515655;\"><p style=\"color:#aea9aa\">2935C</p></td><td style=\"background-color:#544247;\"><p style=\"color:#abbdb8\">293C</p></td><td style=\"background-color:#3f4f4b;\"><p style=\"color:#c0b0b4\">2945C</p></td><td style=\"background-color:#363233;\"><p style=\"color:#c9cdcc\">294C</p></td><td style=\"background-color:#253834;\"><p style=\"color:#dac7cb\">2955C</p></td><td style=\"background-color:#272b2a;\"><p style=\"color:#d8d4d5\">295C</p></td><td style=\"background-color:#1a302c;\"><p style=\"color:#e5cfd3\">2965C</p></td><td style=\"background-color:#162723;\"><p style=\"color:#e9d8dc\">296C</p></td><td style=\"background-color:#b4d9d1;\"><p style=\"color:#4b262e\">2975C</p></td><td style=\"background-color:#95c5bb;\"><p style=\"color:#6a3a44\">297C</p></td></tr>\n",
       "<tr><td style=\"background-color:#75bbad;\"><p style=\"color:#8a4452\">2985C</p></td><td style=\"background-color:#7bb3a8;\"><p style=\"color:#844c57\">298C</p></td><td style=\"background-color:#489f90;\"><p style=\"color:#b7606f\">2995C</p></td><td style=\"background-color:#5b9c90;\"><p style=\"color:#a4636f\">299C</p></td><td style=\"background-color:#347267;\"><p style=\"color:#cb8d98\">3005C</p></td><td style=\"background-color:#45645e;\"><p style=\"color:#ba9ba1\">300C</p></td><td style=\"background-color:#1e5e54;\"><p style=\"color:#e1a1ab\">3015C</p></td><td style=\"background-color:#304f49;\"><p style=\"color:#cfb0b6\">301C</p></td><td style=\"background-color:#05493f;\"><p style=\"color:#fab6c0\">3025C</p></td><td style=\"background-color:#17423b;\"><p style=\"color:#e8bdc4\">302C</p></td></tr>\n",
       "<tr><td style=\"background-color:#033a32;\"><p style=\"color:#fcc5cd\">3035C</p></td><td style=\"background-color:#0c322c;\"><p style=\"color:#f3cdd3\">303C</p></td><td style=\"background-color:#afdad1;\"><p style=\"color:#50252e\">304C</p></td><td style=\"background-color:#7dc9ba;\"><p style=\"color:#823645\">305C</p></td><td style=\"background-color:#49b4a2;\"><p style=\"color:#b64b5d\">306C</p></td><td style=\"background-color:#006e60;\"><p style=\"color:#ff919f\">307C</p></td><td style=\"background-color:#00574b;\"><p style=\"color:#ffa8b4\">308C</p></td><td style=\"background-color:#003830;\"><p style=\"color:#ffc7cf\">309C</p></td><td style=\"background-color:#85d2c3;\"><p style=\"color:#7a2d3c\">3105C</p></td><td style=\"background-color:#83cfc0;\"><p style=\"color:#7c303f\">310C</p></td></tr>\n",
       "<tr><td style=\"background-color:#54c2af;\"><p style=\"color:#ab3d50\">3115C</p></td><td style=\"background-color:#55bfad;\"><p style=\"color:#aa4052\">311C</p></td><td style=\"background-color:#00ab94;\"><p style=\"color:#ff546b\">3125C</p></td><td style=\"background-color:#00a58f;\"><p style=\"color:#ff5a70\">312C</p></td><td style=\"background-color:#008f78;\"><p style=\"color:#ff7087\">3135C</p></td><td style=\"background-color:#008f7b;\"><p style=\"color:#ff7084\">313C</p></td><td style=\"background-color:#007864;\"><p style=\"color:#ff879b\">3145C</p></td><td style=\"background-color:#007c69;\"><p style=\"color:#ff8396\">314C</p></td><td style=\"background-color:#006454;\"><p style=\"color:#ff9bab\">3155C</p></td><td style=\"background-color:#006354;\"><p style=\"color:#ff9cab\">315C</p></td></tr>\n",
       "<tr><td style=\"background-color:#004e41;\"><p style=\"color:#ffb1be\">3165C</p></td><td style=\"background-color:#00453b;\"><p style=\"color:#ffbac4\">316C</p></td><td style=\"background-color:#c3e4dc;\"><p style=\"color:#3c1b23\">317C</p></td><td style=\"background-color:#9bdbce;\"><p style=\"color:#642431\">318C</p></td><td style=\"background-color:#5dcbb7;\"><p style=\"color:#a23448\">319C</p></td><td style=\"background-color:#00967d;\"><p style=\"color:#ff6982\">320C</p></td><td style=\"background-color:#007f69;\"><p style=\"color:#ff8096\">321C</p></td><td style=\"background-color:#006d5b;\"><p style=\"color:#ff92a4\">322C</p></td><td style=\"background-color:#006051;\"><p style=\"color:#ff9fae\">323C</p></td><td style=\"background-color:#7fd9c8;\"><p style=\"color:#802637\">3242C</p></td></tr>\n",
       "<tr><td style=\"background-color:#82dccb;\"><p style=\"color:#7d2334\">3245C</p></td><td style=\"background-color:#7dd0c0;\"><p style=\"color:#822f3f\">3248C</p></td><td style=\"background-color:#9ed7cb;\"><p style=\"color:#612834\">324C</p></td><td style=\"background-color:#57d1bd;\"><p style=\"color:#a82e42\">3252C</p></td><td style=\"background-color:#44d3bd;\"><p style=\"color:#bb2c42\">3255C</p></td><td style=\"background-color:#47c3af;\"><p style=\"color:#b83c50\">3258C</p></td><td style=\"background-color:#57c5b2;\"><p style=\"color:#a83a4d\">325C</p></td><td style=\"background-color:#00ba9f;\"><p style=\"color:#ff4560\">3262C</p></td><td style=\"background-color:#00c2a7;\"><p style=\"color:#ff3d58\">3265C</p></td><td style=\"background-color:#00a98f;\"><p style=\"color:#ff5670\">3268C</p></td></tr>\n",
       "<tr><td style=\"background-color:#00af97;\"><p style=\"color:#ff5068\">326C</p></td><td style=\"background-color:#009f82;\"><p style=\"color:#ff607d\">3272C</p></td><td style=\"background-color:#00af91;\"><p style=\"color:#ff506e\">3275C</p></td><td style=\"background-color:#00987b;\"><p style=\"color:#ff6784\">3278C</p></td><td style=\"background-color:#008369;\"><p style=\"color:#ff7c96\">327C</p></td><td style=\"background-color:#00836c;\"><p style=\"color:#ff7c93\">3282C</p></td><td style=\"background-color:#00937a;\"><p style=\"color:#ff6c85\">3285C</p></td><td style=\"background-color:#007e65;\"><p style=\"color:#ff819a\">3288C</p></td><td style=\"background-color:#00705a;\"><p style=\"color:#ff8fa5\">328C</p></td><td style=\"background-color:#005a4a;\"><p style=\"color:#ffa5b5\">3292C</p></td></tr>\n",
       "<tr><td style=\"background-color:#007c67;\"><p style=\"color:#ff8398\">3295C</p></td><td style=\"background-color:#006652;\"><p style=\"color:#ff99ad\">3298C</p></td><td style=\"background-color:#00624f;\"><p style=\"color:#ff9db0\">329C</p></td><td style=\"background-color:#004338;\"><p style=\"color:#ffbcc7\">3302C</p></td><td style=\"background-color:#29453f;\"><p style=\"color:#d6bac0\">3305C</p></td><td style=\"background-color:#004337;\"><p style=\"color:#ffbcc8\">3308C</p></td><td style=\"background-color:#005246;\"><p style=\"color:#ffadb9\">330C</p></td><td style=\"background-color:#b3e7dc;\"><p style=\"color:#4c1823\">331C</p></td><td style=\"background-color:#a1e4d6;\"><p style=\"color:#5e1b29\">332C</p></td><td style=\"background-color:#46d9c2;\"><p style=\"color:#b9263d\">333C</p></td></tr>\n",
       "<tr><td style=\"background-color:#009879;\"><p style=\"color:#ff6786\">334C</p></td><td style=\"background-color:#007b65;\"><p style=\"color:#ff849a\">335C</p></td><td style=\"background-color:#006450;\"><p style=\"color:#ff9baf\">336C</p></td><td style=\"background-color:#80e0c8;\"><p style=\"color:#7f1f37\">3375C</p></td><td style=\"background-color:#94d9c9;\"><p style=\"color:#6b2636\">337C</p></td><td style=\"background-color:#39d5b2;\"><p style=\"color:#c62a4d\">3385C</p></td><td style=\"background-color:#75d1be;\"><p style=\"color:#8a2e41\">338C</p></td><td style=\"background-color:#00c491;\"><p style=\"color:#ff3b6e\">3395C</p></td><td style=\"background-color:#00b08c;\"><p style=\"color:#ff4f73\">339C</p></td><td style=\"background-color:#00ae6b;\"><p style=\"color:#ff5194\">3405C</p></td></tr>\n",
       "<tr><td style=\"background-color:#009361;\"><p style=\"color:#ff6c9e\">340C</p></td><td style=\"background-color:#00764c;\"><p style=\"color:#ff89b3\">3415C</p></td><td style=\"background-color:#007756;\"><p style=\"color:#ff88a9\">341C</p></td><td style=\"background-color:#006443;\"><p style=\"color:#ff9bbc\">3425C</p></td><td style=\"background-color:#006a4f;\"><p style=\"color:#ff95b0\">342C</p></td><td style=\"background-color:#004530;\"><p style=\"color:#ffbacf\">3435C</p></td><td style=\"background-color:#00523e;\"><p style=\"color:#ffadc1\">343C</p></td><td style=\"background-color:#a7ddc2;\"><p style=\"color:#58223d\">344C</p></td><td style=\"background-color:#8cd6b1;\"><p style=\"color:#73294e\">345C</p></td><td style=\"background-color:#63c999;\"><p style=\"color:#9c3666\">346C</p></td></tr>\n",
       "<tr><td style=\"background-color:#009344;\"><p style=\"color:#ff6cbb\">347C</p></td><td style=\"background-color:#007e3b;\"><p style=\"color:#ff81c4\">348C</p></td><td style=\"background-color:#006134;\"><p style=\"color:#ff9ecb\">349C</p></td><td style=\"background-color:#1a462c;\"><p style=\"color:#e5b9d3\">350C</p></td><td style=\"background-color:#a8e4c3;\"><p style=\"color:#571b3c\">351C</p></td><td style=\"background-color:#8be0b1;\"><p style=\"color:#741f4e\">352C</p></td><td style=\"background-color:#6edba3;\"><p style=\"color:#91245c\">353C</p></td><td style=\"background-color:#00a83a;\"><p style=\"color:#ff57c5\">354C</p></td><td style=\"background-color:#009232;\"><p style=\"color:#ff6dcd\">355C</p></td><td style=\"background-color:#00712b;\"><p style=\"color:#ff8ed4\">356C</p></td></tr>\n",
       "<tr><td style=\"background-color:#144c2a;\"><p style=\"color:#ebb3d5\">357C</p></td><td style=\"background-color:#aad992;\"><p style=\"color:#55266d\">358C</p></td><td style=\"background-color:#a5d78c;\"><p style=\"color:#5a2873\">359C</p></td><td style=\"background-color:#61bd49;\"><p style=\"color:#9e42b6\">360C</p></td><td style=\"background-color:#31ac2f;\"><p style=\"color:#ce53d0\">361C</p></td><td style=\"background-color:#39962c;\"><p style=\"color:#c669d3\">362C</p></td><td style=\"background-color:#3b8729;\"><p style=\"color:#c478d6\">363C</p></td><td style=\"background-color:#397025;\"><p style=\"color:#c68fda\">364C</p></td><td style=\"background-color:#d2e4a3;\"><p style=\"color:#2d1b5c\">365C</p></td><td style=\"background-color:#c2df8d;\"><p style=\"color:#3d2072\">366C</p></td></tr>\n",
       "<tr><td style=\"background-color:#add76a;\"><p style=\"color:#522895\">367C</p></td><td style=\"background-color:#6fbc20;\"><p style=\"color:#9043df\">368C</p></td><td style=\"background-color:#5ca50b;\"><p style=\"color:#a35af4\">369C</p></td><td style=\"background-color:#598916;\"><p style=\"color:#a676e9\">370C</p></td><td style=\"background-color:#4f601f;\"><p style=\"color:#b09fe0\">371C</p></td><td style=\"background-color:#dde9a3;\"><p style=\"color:#22165c\">372C</p></td><td style=\"background-color:#d6e988;\"><p style=\"color:#291677\">373C</p></td><td style=\"background-color:#c4e461;\"><p style=\"color:#3b1b9e\">374C</p></td><td style=\"background-color:#93d100;\"><p style=\"color:#6c2eff\">375C</p></td><td style=\"background-color:#83b900;\"><p style=\"color:#7c46ff\">376C</p></td></tr>\n",
       "<tr><td style=\"background-color:#708f00;\"><p style=\"color:#8f70ff\">377C</p></td><td style=\"background-color:#525913;\"><p style=\"color:#ada6ec\">378C</p></td><td style=\"background-color:#e6e56f;\"><p style=\"color:#191a90\">379C</p></td><td style=\"background-color:#dcde3f;\"><p style=\"color:#2321c0\">380C</p></td><td style=\"background-color:#d3da0f;\"><p style=\"color:#2c25f0\">381C</p></td><td style=\"background-color:#c3d000;\"><p style=\"color:#3c2fff\">382C</p></td><td style=\"background-color:#a8a900;\"><p style=\"color:#5756ff\">383C</p></td><td style=\"background-color:#939000;\"><p style=\"color:#6c6fff\">384C</p></td><td style=\"background-color:#736915;\"><p style=\"color:#8c96ea\">385C</p></td><td style=\"background-color:#ede770;\"><p style=\"color:#12188f\">386C</p></td></tr>\n",
       "<tr><td style=\"background-color:#e9e63f;\"><p style=\"color:#1619c0\">387C</p></td><td style=\"background-color:#e1e100;\"><p style=\"color:#1e1eff\">388C</p></td><td style=\"background-color:#d3db00;\"><p style=\"color:#2c24ff\">389C</p></td><td style=\"background-color:#baba00;\"><p style=\"color:#4545ff\">390C</p></td><td style=\"background-color:#9b9100;\"><p style=\"color:#646eff\">391C</p></td><td style=\"background-color:#867800;\"><p style=\"color:#7987ff\">392C</p></td><td style=\"background-color:#f9ea7c;\"><p style=\"color:#061583\">3935C</p></td><td style=\"background-color:#f5eb90;\"><p style=\"color:#0a146f\">393C</p></td><td style=\"background-color:#fae500;\"><p style=\"color:#051aff\">3945C</p></td><td style=\"background-color:#f3e643;\"><p style=\"color:#0c19bc\">394C</p></td></tr>\n",
       "<tr><td style=\"background-color:#f6df00;\"><p style=\"color:#0920ff\">3955C</p></td><td style=\"background-color:#eee100;\"><p style=\"color:#111eff\">395C</p></td><td style=\"background-color:#f5dc00;\"><p style=\"color:#0a23ff\">3965C</p></td><td style=\"background-color:#e7dc00;\"><p style=\"color:#1823ff\">396C</p></td><td style=\"background-color:#c4a700;\"><p style=\"color:#3b58ff\">3975C</p></td><td style=\"background-color:#c6b600;\"><p style=\"color:#3949ff\">397C</p></td><td style=\"background-color:#a18700;\"><p style=\"color:#5e78ff\">3985C</p></td><td style=\"background-color:#b29f00;\"><p style=\"color:#4d60ff\">398C</p></td><td style=\"background-color:#6e5a09;\"><p style=\"color:#91a5f6\">3995C</p></td><td style=\"background-color:#a08b00;\"><p style=\"color:#5f74ff\">399C</p></td></tr>\n",
       "<tr><td style=\"background-color:#cec8c4;\"><p style=\"color:#31373b\">400C</p></td><td style=\"background-color:#beb8b1;\"><p style=\"color:#41474e\">401C</p></td><td style=\"background-color:#ada49d;\"><p style=\"color:#525b62\">402C</p></td><td style=\"background-color:#998f86;\"><p style=\"color:#667079\">403C</p></td><td style=\"background-color:#7d7369;\"><p style=\"color:#828c96\">404C</p></td><td style=\"background-color:#655a51;\"><p style=\"color:#9aa5ae\">405C</p></td><td style=\"background-color:#ccc5c3;\"><p style=\"color:#333a3c\">406C</p></td><td style=\"background-color:#a59996;\"><p style=\"color:#5a6669\">408C</p></td><td style=\"background-color:#958682;\"><p style=\"color:#6a797d\">409C</p></td><td style=\"background-color:#7b6c69;\"><p style=\"color:#849396\">410C</p></td></tr>\n",
       "<tr><td style=\"background-color:#61514d;\"><p style=\"color:#9eaeb2\">411C</p></td><td style=\"background-color:#382b27;\"><p style=\"color:#c7d4d8\">412C</p></td><td style=\"background-color:#cac9c4;\"><p style=\"color:#35363b\">413C</p></td><td style=\"background-color:#b6b6b0;\"><p style=\"color:#49494f\">414C</p></td><td style=\"background-color:#9f9e97;\"><p style=\"color:#606168\">415C</p></td><td style=\"background-color:#86877e;\"><p style=\"color:#797881\">416C</p></td><td style=\"background-color:#707065;\"><p style=\"color:#8f8f9a\">417C</p></td><td style=\"background-color:#5a5a50;\"><p style=\"color:#a5a5af\">418C</p></td><td style=\"background-color:#20221d;\"><p style=\"color:#dfdde2\">419C</p></td><td style=\"background-color:#cccccc;\"><p style=\"color:#333333\">420C</p></td></tr>\n",
       "<tr><td style=\"background-color:#bbbbbb;\"><p style=\"color:#444444\">421C</p></td><td style=\"background-color:#a8a8a8;\"><p style=\"color:#575757\">422C</p></td><td style=\"background-color:#939393;\"><p style=\"color:#6c6c6c\">423C</p></td><td style=\"background-color:#787a79;\"><p style=\"color:#878586\">424C</p></td><td style=\"background-color:#585a59;\"><p style=\"color:#a7a5a6\">425C</p></td><td style=\"background-color:#222424;\"><p style=\"color:#dddbdb\">426C</p></td><td style=\"background-color:#898c8b;\"><p style=\"color:#767374\">427C</p></td><td style=\"background-color:#c4c7c6;\"><p style=\"color:#3b3839\">428C</p></td><td style=\"background-color:#acaeae;\"><p style=\"color:#535151\">429C</p></td><td style=\"background-color:#8a8f8e;\"><p style=\"color:#757071\">430C</p></td></tr>\n",
       "<tr><td style=\"background-color:#646968;\"><p style=\"color:#9b9697\">431C</p></td><td style=\"background-color:#464a49;\"><p style=\"color:#b9b5b6\">432C</p></td><td style=\"background-color:#252928;\"><p style=\"color:#dad6d7\">433C</p></td><td style=\"background-color:#d4c9cc;\"><p style=\"color:#2b3633\">434C</p></td><td style=\"background-color:#cababe;\"><p style=\"color:#354541\">435C</p></td><td style=\"background-color:#b8a7ab;\"><p style=\"color:#475854\">436C</p></td><td style=\"background-color:#856f75;\"><p style=\"color:#7a908a\">437C</p></td><td style=\"background-color:#513d3e;\"><p style=\"color:#aec2c1\">438C</p></td><td style=\"background-color:#453535;\"><p style=\"color:#bacaca\">439C</p></td><td style=\"background-color:#392e2c;\"><p style=\"color:#c6d1d3\">440C</p></td></tr>\n",
       "<tr><td style=\"background-color:#cdd3d1;\"><p style=\"color:#322c2e\">441C</p></td><td style=\"background-color:#b5bdbb;\"><p style=\"color:#4a4244\">442C</p></td><td style=\"background-color:#9ba2a0;\"><p style=\"color:#645d5f\">443C</p></td><td style=\"background-color:#7e8584;\"><p style=\"color:#817a7b\">444C</p></td><td style=\"background-color:#515655;\"><p style=\"color:#aea9aa\">445C</p></td><td style=\"background-color:#3c4140;\"><p style=\"color:#c3bebf\">446C</p></td><td style=\"background-color:#333532;\"><p style=\"color:#cccacd\">447C</p></td><td style=\"background-color:#614719;\"><p style=\"color:#9eb8e6\">4485C</p></td><td style=\"background-color:#4a3f27;\"><p style=\"color:#b5c0d8\">448C</p></td><td style=\"background-color:#876c2b;\"><p style=\"color:#7893d4\">4495C</p></td></tr>\n",
       "<tr><td style=\"background-color:#504325;\"><p style=\"color:#afbcda\">449C</p></td><td style=\"background-color:#a1894a;\"><p style=\"color:#5e76b5\">4505C</p></td><td style=\"background-color:#544826;\"><p style=\"color:#abb7d9\">450C</p></td><td style=\"background-color:#b9a46f;\"><p style=\"color:#465b90\">4515C</p></td><td style=\"background-color:#a49b76;\"><p style=\"color:#5b6489\">451C</p></td><td style=\"background-color:#caba8f;\"><p style=\"color:#354570\">4525C</p></td><td style=\"background-color:#b7b192;\"><p style=\"color:#484e6d\">452C</p></td><td style=\"background-color:#d8cbaa;\"><p style=\"color:#273455\">4535C</p></td><td style=\"background-color:#cac4ac;\"><p style=\"color:#353b53\">453C</p></td><td style=\"background-color:#e2dac3;\"><p style=\"color:#1d253c\">4545C</p></td></tr>\n",
       "<tr><td style=\"background-color:#d6d2bf;\"><p style=\"color:#292d40\">454C</p></td><td style=\"background-color:#675215;\"><p style=\"color:#98adea\">455C</p></td><td style=\"background-color:#9d7e0d;\"><p style=\"color:#6281f2\">456C</p></td><td style=\"background-color:#b99100;\"><p style=\"color:#466eff\">457C</p></td><td style=\"background-color:#e2c867;\"><p style=\"color:#1d3798\">458C</p></td><td style=\"background-color:#e6d17e;\"><p style=\"color:#192e81\">459C</p></td><td style=\"background-color:#eada97;\"><p style=\"color:#152568\">460C</p></td><td style=\"background-color:#ece3b6;\"><p style=\"color:#131c49\">461C</p></td><td style=\"background-color:#4e2514;\"><p style=\"color:#b1daeb\">4625C</p></td><td style=\"background-color:#593f24;\"><p style=\"color:#a6c0db\">462C</p></td></tr>\n",
       "<tr><td style=\"background-color:#945a33;\"><p style=\"color:#6ba5cc\">4635C</p></td><td style=\"background-color:#724922;\"><p style=\"color:#8db6dd\">463C</p></td><td style=\"background-color:#b67f5d;\"><p style=\"color:#4980a2\">4645C</p></td><td style=\"background-color:#8a5825;\"><p style=\"color:#75a7da\">464C</p></td><td style=\"background-color:#c39477;\"><p style=\"color:#3c6b88\">4655C</p></td><td style=\"background-color:#bd9b6b;\"><p style=\"color:#426494\">465C</p></td><td style=\"background-color:#d5ae97;\"><p style=\"color:#2a5168\">4665C</p></td><td style=\"background-color:#ceb288;\"><p style=\"color:#314d77\">466C</p></td><td style=\"background-color:#dfc1af;\"><p style=\"color:#203e50\">4675C</p></td><td style=\"background-color:#d9c4a1;\"><p style=\"color:#263b5e\">467C</p></td></tr>\n",
       "<tr><td style=\"background-color:#e5d1c4;\"><p style=\"color:#1a2e3b\">4685C</p></td><td style=\"background-color:#e1d3ba;\"><p style=\"color:#1e2c45\">468C</p></td><td style=\"background-color:#542821;\"><p style=\"color:#abd7de\">4695C</p></td><td style=\"background-color:#633318;\"><p style=\"color:#9ccce7\">469C</p></td><td style=\"background-color:#814b3d;\"><p style=\"color:#7eb4c2\">4705C</p></td><td style=\"background-color:#9e4c1a;\"><p style=\"color:#61b3e5\">470C</p></td><td style=\"background-color:#9e6e5f;\"><p style=\"color:#6191a0\">4715C</p></td><td style=\"background-color:#bb5312;\"><p style=\"color:#44aced\">471C</p></td><td style=\"background-color:#b58d7f;\"><p style=\"color:#4a7280\">4725C</p></td><td style=\"background-color:#e89869;\"><p style=\"color:#176796\">472C</p></td></tr>\n",
       "<tr><td style=\"background-color:#c7aaa1;\"><p style=\"color:#38555e\">4735C</p></td><td style=\"background-color:#f0b896;\"><p style=\"color:#0f4769\">473C</p></td><td style=\"background-color:#d6bfb7;\"><p style=\"color:#294048\">4745C</p></td><td style=\"background-color:#f3c6aa;\"><p style=\"color:#0c3955\">474C</p></td><td style=\"background-color:#dfcec8;\"><p style=\"color:#203137\">4755C</p></td><td style=\"background-color:#f3d0bb;\"><p style=\"color:#0c2f44\">475C</p></td><td style=\"background-color:#523126;\"><p style=\"color:#adced9\">476C</p></td><td style=\"background-color:#5e2d23;\"><p style=\"color:#a1d2dc\">477C</p></td><td style=\"background-color:#753729;\"><p style=\"color:#8ac8d6\">478C</p></td><td style=\"background-color:#b1806d;\"><p style=\"color:#4e7f92\">479C</p></td></tr>\n",
       "<tr><td style=\"background-color:#cbaa9b;\"><p style=\"color:#345564\">480C</p></td><td style=\"background-color:#d5bcaf;\"><p style=\"color:#2a4350\">481C</p></td><td style=\"background-color:#dfcfc5;\"><p style=\"color:#20303a\">482C</p></td><td style=\"background-color:#6b2d21;\"><p style=\"color:#94d2de\">483C</p></td><td style=\"background-color:#a12d1f;\"><p style=\"color:#5ed2e0\">484C</p></td><td style=\"background-color:#e1271e;\"><p style=\"color:#1ed8e1\">485C</p></td><td style=\"background-color:#ef9383;\"><p style=\"color:#106c7c\">486C</p></td><td style=\"background-color:#efab9d;\"><p style=\"color:#105462\">487C</p></td><td style=\"background-color:#eebbaf;\"><p style=\"color:#114450\">488C</p></td><td style=\"background-color:#eecdc4;\"><p style=\"color:#11323b\">489C</p></td></tr>\n",
       "<tr><td style=\"background-color:#5b2729;\"><p style=\"color:#a4d8d6\">490C</p></td><td style=\"background-color:#782a2d;\"><p style=\"color:#87d5d2\">491C</p></td><td style=\"background-color:#93353a;\"><p style=\"color:#6ccac5\">492C</p></td><td style=\"background-color:#e8a7b6;\"><p style=\"color:#175849\">494C</p></td><td style=\"background-color:#eeb9c5;\"><p style=\"color:#11463a\">495C</p></td><td style=\"background-color:#efc4cd;\"><p style=\"color:#103b32\">496C</p></td><td style=\"background-color:#451e1f;\"><p style=\"color:#bae1e0\">4975C</p></td><td style=\"background-color:#502a28;\"><p style=\"color:#afd5d7\">497C</p></td><td style=\"background-color:#864b50;\"><p style=\"color:#79b4af\">4985C</p></td><td style=\"background-color:#69322e;\"><p style=\"color:#96cdd1\">498C</p></td></tr>\n",
       "<tr><td style=\"background-color:#a36a72;\"><p style=\"color:#5c958d\">4995C</p></td><td style=\"background-color:#783830;\"><p style=\"color:#87c7cf\">499C</p></td><td style=\"background-color:#b7838a;\"><p style=\"color:#487c75\">5005C</p></td><td style=\"background-color:#c98691;\"><p style=\"color:#36796e\">500C</p></td><td style=\"background-color:#d2a9b0;\"><p style=\"color:#2d564f\">5015C</p></td><td style=\"background-color:#deacb6;\"><p style=\"color:#215349\">501C</p></td><td style=\"background-color:#dcbcc0;\"><p style=\"color:#23433f\">5025C</p></td><td style=\"background-color:#e6c0c8;\"><p style=\"color:#193f37\">502C</p></td><td style=\"background-color:#e4ccd0;\"><p style=\"color:#1b332f\">5035C</p></td><td style=\"background-color:#eacdd3;\"><p style=\"color:#15322c\">503C</p></td></tr>\n",
       "<tr><td style=\"background-color:#50212a;\"><p style=\"color:#afded5\">504C</p></td><td style=\"background-color:#6f2638;\"><p style=\"color:#90d9c7\">505C</p></td><td style=\"background-color:#7f2b41;\"><p style=\"color:#80d4be\">506C</p></td><td style=\"background-color:#d38ca1;\"><p style=\"color:#2c735e\">507C</p></td><td style=\"background-color:#e5acbc;\"><p style=\"color:#1a5343\">508C</p></td><td style=\"background-color:#e9bac7;\"><p style=\"color:#164538\">509C</p></td><td style=\"background-color:#eac2cc;\"><p style=\"color:#153d33\">510C</p></td><td style=\"background-color:#4f2633;\"><p style=\"color:#b0d9cc\">5115C</p></td><td style=\"background-color:#66243c;\"><p style=\"color:#99dbc3\">511C</p></td><td style=\"background-color:#774253;\"><p style=\"color:#88bdac\">5125C</p></td></tr>\n",
       "<tr><td style=\"background-color:#86204b;\"><p style=\"color:#79dfb4\">512C</p></td><td style=\"background-color:#8d5d6b;\"><p style=\"color:#72a294\">5135C</p></td><td style=\"background-color:#a4275b;\"><p style=\"color:#5bd8a4\">513C</p></td><td style=\"background-color:#a77e89;\"><p style=\"color:#588176\">5145C</p></td><td style=\"background-color:#dd839f;\"><p style=\"color:#227c60\">514C</p></td><td style=\"background-color:#c6a6ae;\"><p style=\"color:#395951\">5155C</p></td><td style=\"background-color:#eaa6ba;\"><p style=\"color:#155945\">515C</p></td><td style=\"background-color:#d8c4c9;\"><p style=\"color:#273b36\">5165C</p></td><td style=\"background-color:#edb9c7;\"><p style=\"color:#124638\">516C</p></td><td style=\"background-color:#e1d4d7;\"><p style=\"color:#1e2b28\">5175C</p></td></tr>\n",
       "<tr><td style=\"background-color:#f1cbd5;\"><p style=\"color:#0e342a\">517C</p></td><td style=\"background-color:#482933;\"><p style=\"color:#b7d6cc\">5185C</p></td><td style=\"background-color:#4f2935;\"><p style=\"color:#b0d6ca\">518C</p></td><td style=\"background-color:#603945;\"><p style=\"color:#9fc6ba\">5195C</p></td><td style=\"background-color:#622c3e;\"><p style=\"color:#9dd3c1\">519C</p></td><td style=\"background-color:#8e6872;\"><p style=\"color:#71978d\">5205C</p></td><td style=\"background-color:#752e48;\"><p style=\"color:#8ad1b7\">520C</p></td><td style=\"background-color:#b5969e;\"><p style=\"color:#4a6961\">5215C</p></td><td style=\"background-color:#ba8494;\"><p style=\"color:#457b6b\">521C</p></td><td style=\"background-color:#c9b0b6;\"><p style=\"color:#364f49\">5225C</p></td></tr>\n",
       "<tr><td style=\"background-color:#c99da9;\"><p style=\"color:#366256\">522C</p></td><td style=\"background-color:#d7c5c9;\"><p style=\"color:#283a36\">5235C</p></td><td style=\"background-color:#d5b3bc;\"><p style=\"color:#2a4c43\">523C</p></td><td style=\"background-color:#e1d4d7;\"><p style=\"color:#1e2b28\">5245C</p></td><td style=\"background-color:#e1cdd2;\"><p style=\"color:#1e322d\">524C</p></td><td style=\"background-color:#39242a;\"><p style=\"color:#c6dbd5\">5255C</p></td><td style=\"background-color:#5b2538;\"><p style=\"color:#a4dac7\">525C</p></td><td style=\"background-color:#523940;\"><p style=\"color:#adc6bf\">5265C</p></td><td style=\"background-color:#761d41;\"><p style=\"color:#89e2be\">526C</p></td><td style=\"background-color:#675257;\"><p style=\"color:#98ada8\">5275C</p></td></tr>\n",
       "<tr><td style=\"background-color:#8b184b;\"><p style=\"color:#74e7b4\">527C</p></td><td style=\"background-color:#908084;\"><p style=\"color:#6f7f7b\">5285C</p></td><td style=\"background-color:#be728a;\"><p style=\"color:#418d75\">528C</p></td><td style=\"background-color:#b2a5a9;\"><p style=\"color:#4d5a56\">5295C</p></td><td style=\"background-color:#d6a3b1;\"><p style=\"color:#295c4e\">529C</p></td><td style=\"background-color:#c9bec1;\"><p style=\"color:#36413e\">5305C</p></td><td style=\"background-color:#dcb0bc;\"><p style=\"color:#234f43\">530C</p></td><td style=\"background-color:#d8d3d4;\"><p style=\"color:#272c2b\">5315C</p></td><td style=\"background-color:#e3c4cc;\"><p style=\"color:#1c3b33\">531C</p></td><td style=\"background-color:#2b292a;\"><p style=\"color:#d4d6d5\">532C</p></td></tr>\n",
       "<tr><td style=\"background-color:#373133;\"><p style=\"color:#c8cecc\">533C</p></td><td style=\"background-color:#463e40;\"><p style=\"color:#b9c1bf\">534C</p></td><td style=\"background-color:#a2a0a0;\"><p style=\"color:#5d5f5f\">535C</p></td><td style=\"background-color:#b0b0b0;\"><p style=\"color:#4f4f4f\">536C</p></td><td style=\"background-color:#c6c6c6;\"><p style=\"color:#393939\">537C</p></td><td style=\"background-color:#d7d7d7;\"><p style=\"color:#282828\">538C</p></td><td style=\"background-color:#182421;\"><p style=\"color:#e7dbde\">5395C</p></td><td style=\"background-color:#182925;\"><p style=\"color:#e7d6da\">539C</p></td><td style=\"background-color:#4f625e;\"><p style=\"color:#b09da1\">5405C</p></td><td style=\"background-color:#202c2a;\"><p style=\"color:#dfd3d5\">540C</p></td></tr>\n",
       "<tr><td style=\"background-color:#677874;\"><p style=\"color:#98878b\">5415C</p></td><td style=\"background-color:#2d3a37;\"><p style=\"color:#d2c5c8\">541C</p></td><td style=\"background-color:#889693;\"><p style=\"color:#77696c\">5425C</p></td><td style=\"background-color:#7d9690;\"><p style=\"color:#82696f\">542C</p></td><td style=\"background-color:#aeb8b6;\"><p style=\"color:#514749\">5435C</p></td><td style=\"background-color:#a5b7b3;\"><p style=\"color:#5a484c\">543C</p></td><td style=\"background-color:#c0c8c6;\"><p style=\"color:#3f3739\">5445C</p></td><td style=\"background-color:#bcc9c6;\"><p style=\"color:#433639\">544C</p></td><td style=\"background-color:#d0d5d4;\"><p style=\"color:#2f2a2b\">5455C</p></td><td style=\"background-color:#c9d4d1;\"><p style=\"color:#362b2e\">545C</p></td></tr>\n",
       "<tr><td style=\"background-color:#042721;\"><p style=\"color:#fbd8de\">5463C</p></td><td style=\"background-color:#1a3530;\"><p style=\"color:#e5cacf\">5467C</p></td><td style=\"background-color:#12342e;\"><p style=\"color:#edcbd1\">546C</p></td><td style=\"background-color:#216156;\"><p style=\"color:#de9ea9\">5473C</p></td><td style=\"background-color:#3e5a54;\"><p style=\"color:#c1a5ab\">5477C</p></td><td style=\"background-color:#003c34;\"><p style=\"color:#ffc3cb\">547C</p></td><td style=\"background-color:#5b8d83;\"><p style=\"color:#a4727c\">5483C</p></td><td style=\"background-color:#647c77;\"><p style=\"color:#9b8388\">5487C</p></td><td style=\"background-color:#004036;\"><p style=\"color:#ffbfc9\">548C</p></td><td style=\"background-color:#89ada5;\"><p style=\"color:#76525a\">5493C</p></td></tr>\n",
       "<tr><td style=\"background-color:#8d9f9b;\"><p style=\"color:#726064\">5497C</p></td><td style=\"background-color:#6f968d;\"><p style=\"color:#906972\">549C</p></td><td style=\"background-color:#a5c1bb;\"><p style=\"color:#5a3e44\">5503C</p></td><td style=\"background-color:#acb9b6;\"><p style=\"color:#534649\">5507C</p></td><td style=\"background-color:#92aea8;\"><p style=\"color:#6d5157\">550C</p></td><td style=\"background-color:#c3d6d1;\"><p style=\"color:#3c292e\">5513C</p></td><td style=\"background-color:#c1cbc9;\"><p style=\"color:#3e3436\">5517C</p></td><td style=\"background-color:#a9c0bb;\"><p style=\"color:#563f44\">551C</p></td><td style=\"background-color:#d0ddda;\"><p style=\"color:#2f2225\">5523C</p></td><td style=\"background-color:#cbd3d1;\"><p style=\"color:#342c2e\">5527C</p></td></tr>\n",
       "<tr><td style=\"background-color:#c0cfcc;\"><p style=\"color:#3f3033\">552C</p></td><td style=\"background-color:#1c3a31;\"><p style=\"color:#e3c5ce\">5535C</p></td><td style=\"background-color:#224232;\"><p style=\"color:#ddbdcd\">553C</p></td><td style=\"background-color:#4a6d62;\"><p style=\"color:#b5929d\">5545C</p></td><td style=\"background-color:#245f49;\"><p style=\"color:#dba0b6\">554C</p></td><td style=\"background-color:#6e8d82;\"><p style=\"color:#91727d\">5555C</p></td><td style=\"background-color:#15684e;\"><p style=\"color:#ea97b1\">555C</p></td><td style=\"background-color:#90a8a1;\"><p style=\"color:#6f575e\">5565C</p></td><td style=\"background-color:#76a28f;\"><p style=\"color:#895d70\">556C</p></td><td style=\"background-color:#a9bdb7;\"><p style=\"color:#564248\">5575C</p></td></tr>\n",
       "<tr><td style=\"background-color:#99bbad;\"><p style=\"color:#664452\">557C</p></td><td style=\"background-color:#c0cfcc;\"><p style=\"color:#3f3033\">5585C</p></td><td style=\"background-color:#acc7bd;\"><p style=\"color:#533842\">558C</p></td><td style=\"background-color:#d2dcda;\"><p style=\"color:#2d2325\">5595C</p></td><td style=\"background-color:#bfd3cd;\"><p style=\"color:#402c32\">559C</p></td><td style=\"background-color:#1a3126;\"><p style=\"color:#e5ced9\">5605C</p></td><td style=\"background-color:#20463e;\"><p style=\"color:#dfb9c1\">560C</p></td><td style=\"background-color:#5b6f60;\"><p style=\"color:#a4909f\">5615C</p></td><td style=\"background-color:#126256;\"><p style=\"color:#ed9da9\">561C</p></td><td style=\"background-color:#6d8173;\"><p style=\"color:#927e8c\">5625C</p></td></tr>\n",
       "<tr><td style=\"background-color:#097567;\"><p style=\"color:#f68a98\">562C</p></td><td style=\"background-color:#99a79c;\"><p style=\"color:#665863\">5635C</p></td><td style=\"background-color:#75b7aa;\"><p style=\"color:#8a4855\">563C</p></td><td style=\"background-color:#b0bbb5;\"><p style=\"color:#4f444a\">5645C</p></td><td style=\"background-color:#9acbc0;\"><p style=\"color:#65343f\">564C</p></td><td style=\"background-color:#bdc6c0;\"><p style=\"color:#42393f\">5655C</p></td><td style=\"background-color:#bbdbd4;\"><p style=\"color:#44242b\">565C</p></td><td style=\"background-color:#cdd3ce;\"><p style=\"color:#322c31\">5665C</p></td><td style=\"background-color:#cfe4df;\"><p style=\"color:#301b20\">566C</p></td><td style=\"background-color:#18453c;\"><p style=\"color:#e7bac3\">567C</p></td></tr>\n",
       "<tr><td style=\"background-color:#008371;\"><p style=\"color:#ff7c8e\">569C</p></td><td style=\"background-color:#7bc7b8;\"><p style=\"color:#843847\">570C</p></td><td style=\"background-color:#a0d7cb;\"><p style=\"color:#5f2834\">571C</p></td><td style=\"background-color:#b4ddd4;\"><p style=\"color:#4b222b\">572C</p></td><td style=\"background-color:#c0e1d9;\"><p style=\"color:#3f1e26\">573C</p></td><td style=\"background-color:#414825;\"><p style=\"color:#beb7da\">5743C</p></td><td style=\"background-color:#434516;\"><p style=\"color:#bcbae9\">5747C</p></td><td style=\"background-color:#424d24;\"><p style=\"color:#bdb2db\">574C</p></td><td style=\"background-color:#62663b;\"><p style=\"color:#9d99c4\">5753C</p></td><td style=\"background-color:#74722e;\"><p style=\"color:#8b8dd1\">5757C</p></td></tr>\n",
       "<tr><td style=\"background-color:#5b722f;\"><p style=\"color:#a48dd0\">575C</p></td><td style=\"background-color:#717549;\"><p style=\"color:#8e8ab6\">5763C</p></td><td style=\"background-color:#939151;\"><p style=\"color:#6c6eae\">5767C</p></td><td style=\"background-color:#6d8e3f;\"><p style=\"color:#9271c0\">576C</p></td><td style=\"background-color:#979872;\"><p style=\"color:#68678d\">5773C</p></td><td style=\"background-color:#adab75;\"><p style=\"color:#52548a\">5777C</p></td><td style=\"background-color:#b7c892;\"><p style=\"color:#48376d\">577C</p></td><td style=\"background-color:#afb091;\"><p style=\"color:#504f6e\">5783C</p></td><td style=\"background-color:#c5c39a;\"><p style=\"color:#3a3c65\">5787C</p></td><td style=\"background-color:#c1cfa0;\"><p style=\"color:#3e305f\">578C</p></td></tr>\n",
       "<tr><td style=\"background-color:#c1c3ab;\"><p style=\"color:#3e3c54\">5793C</p></td><td style=\"background-color:#d1d1b2;\"><p style=\"color:#2e2e4d\">5797C</p></td><td style=\"background-color:#c9d4a9;\"><p style=\"color:#362b56\">579C</p></td><td style=\"background-color:#d1d3c1;\"><p style=\"color:#2e2c3e\">5803C</p></td><td style=\"background-color:#dbdbc5;\"><p style=\"color:#24243a\">5807C</p></td><td style=\"background-color:#d1dbbb;\"><p style=\"color:#2e2444\">580C</p></td><td style=\"background-color:#4e4417;\"><p style=\"color:#b1bbe8\">5815C</p></td><td style=\"background-color:#655a15;\"><p style=\"color:#9aa5ea\">581C</p></td><td style=\"background-color:#827530;\"><p style=\"color:#7d8acf\">5825C</p></td><td style=\"background-color:#8f8600;\"><p style=\"color:#7079ff\">582C</p></td></tr>\n",
       "<tr><td style=\"background-color:#a29755;\"><p style=\"color:#5d68aa\">5835C</p></td><td style=\"background-color:#b5b300;\"><p style=\"color:#4a4cff\">583C</p></td><td style=\"background-color:#b1a76b;\"><p style=\"color:#4e5894\">5845C</p></td><td style=\"background-color:#d4d14e;\"><p style=\"color:#2b2eb1\">584C</p></td><td style=\"background-color:#cac296;\"><p style=\"color:#353d69\">5855C</p></td><td style=\"background-color:#ded86f;\"><p style=\"color:#212790\">585C</p></td><td style=\"background-color:#d7cfad;\"><p style=\"color:#283052\">5865C</p></td><td style=\"background-color:#e4e18c;\"><p style=\"color:#1b1e73\">586C</p></td><td style=\"background-color:#dad5b8;\"><p style=\"color:#252a47\">5875C</p></td><td style=\"background-color:#e6e39e;\"><p style=\"color:#191c61\">587C</p></td></tr>\n",
       "<tr><td style=\"background-color:#f2e9b6;\"><p style=\"color:#0d1649\">600C</p></td><td style=\"background-color:#f5eaa6;\"><p style=\"color:#0a1559\">601C</p></td><td style=\"background-color:#f6e78e;\"><p style=\"color:#091871\">602C</p></td><td style=\"background-color:#f5e160;\"><p style=\"color:#0a1e9f\">603C</p></td><td style=\"background-color:#f4db24;\"><p style=\"color:#0b24db\">604C</p></td><td style=\"background-color:#e9c800;\"><p style=\"color:#1637ff\">605C</p></td><td style=\"background-color:#e1bc00;\"><p style=\"color:#1e43ff\">606C</p></td><td style=\"background-color:#efe9c4;\"><p style=\"color:#10163b\">607C</p></td><td style=\"background-color:#eee7b5;\"><p style=\"color:#11184a\">608C</p></td><td style=\"background-color:#ede19a;\"><p style=\"color:#121e65\">609C</p></td></tr>\n",
       "<tr><td style=\"background-color:#e9d874;\"><p style=\"color:#16278b\">610C</p></td><td style=\"background-color:#dfca47;\"><p style=\"color:#2035b8\">611C</p></td><td style=\"background-color:#ceb300;\"><p style=\"color:#314cff\">612C</p></td><td style=\"background-color:#ba9c00;\"><p style=\"color:#4563ff\">613C</p></td><td style=\"background-color:#e6e0c1;\"><p style=\"color:#191f3e\">614C</p></td><td style=\"background-color:#e2dbb2;\"><p style=\"color:#1d244d\">615C</p></td><td style=\"background-color:#ddd29f;\"><p style=\"color:#222d60\">616C</p></td><td style=\"background-color:#cfc27f;\"><p style=\"color:#303d80\">617C</p></td><td style=\"background-color:#bba853;\"><p style=\"color:#4457ac\">618C</p></td><td style=\"background-color:#a28d2c;\"><p style=\"color:#5d72d3\">619C</p></td></tr>\n",
       "<tr><td style=\"background-color:#8f7815;\"><p style=\"color:#7087ea\">620C</p></td><td style=\"background-color:#d2e0dd;\"><p style=\"color:#2d1f22\">621C</p></td><td style=\"background-color:#bbd0cc;\"><p style=\"color:#442f33\">622C</p></td><td style=\"background-color:#9ebcb4;\"><p style=\"color:#61434b\">623C</p></td><td style=\"background-color:#78a196;\"><p style=\"color:#875e69\">624C</p></td><td style=\"background-color:#518375;\"><p style=\"color:#ae7c8a\">625C</p></td><td style=\"background-color:#205748;\"><p style=\"color:#dfa8b7\">626C</p></td><td style=\"background-color:#022c22;\"><p style=\"color:#fdd3dd\">627C</p></td><td style=\"background-color:#cce1dc;\"><p style=\"color:#331e23\">628C</p></td><td style=\"background-color:#b4d9d1;\"><p style=\"color:#4b262e\">629C</p></td></tr>\n",
       "<tr><td style=\"background-color:#92c9bd;\"><p style=\"color:#6d3642\">630C</p></td><td style=\"background-color:#6ab6a8;\"><p style=\"color:#954957\">631C</p></td><td style=\"background-color:#319b8a;\"><p style=\"color:#ce6475\">632C</p></td><td style=\"background-color:#007a69;\"><p style=\"color:#ff8596\">633C</p></td><td style=\"background-color:#005d4f;\"><p style=\"color:#ffa2b0\">634C</p></td><td style=\"background-color:#b6dcd4;\"><p style=\"color:#49232b\">635C</p></td><td style=\"background-color:#a0d3c8;\"><p style=\"color:#5f2c37\">636C</p></td><td style=\"background-color:#7dc6b8;\"><p style=\"color:#823947\">637C</p></td><td style=\"background-color:#4ab19f;\"><p style=\"color:#b54e60\">638C</p></td><td style=\"background-color:#019785;\"><p style=\"color:#fe687a\">639C</p></td></tr>\n",
       "<tr><td style=\"background-color:#008271;\"><p style=\"color:#ff7d8e\">640C</p></td><td style=\"background-color:#006e60;\"><p style=\"color:#ff919f\">641C</p></td><td style=\"background-color:#d3d8d7;\"><p style=\"color:#2c2728\">642C</p></td><td style=\"background-color:#cdd3d1;\"><p style=\"color:#322c2e\">643C</p></td><td style=\"background-color:#a6b0ae;\"><p style=\"color:#594f51\">644C</p></td><td style=\"background-color:#8a9693;\"><p style=\"color:#75696c\">645C</p></td><td style=\"background-color:#737f7c;\"><p style=\"color:#8c8083\">646C</p></td><td style=\"background-color:#495552;\"><p style=\"color:#b6aaad\">647C</p></td><td style=\"background-color:#2b292a;\"><p style=\"color:#d4d6d5\">648C</p></td><td style=\"background-color:#d8dada;\"><p style=\"color:#272525\">649C</p></td></tr>\n",
       "<tr><td style=\"background-color:#cacccc;\"><p style=\"color:#353333\">650C</p></td><td style=\"background-color:#a7acab;\"><p style=\"color:#585354\">651C</p></td><td style=\"background-color:#888c8b;\"><p style=\"color:#777374\">652C</p></td><td style=\"background-color:#555555;\"><p style=\"color:#aaaaaa\">653C</p></td><td style=\"background-color:#352f30;\"><p style=\"color:#cad0cf\">654C</p></td><td style=\"background-color:#281f22;\"><p style=\"color:#d7e0dd\">655C</p></td><td style=\"background-color:#dbdddd;\"><p style=\"color:#242222\">656C</p></td><td style=\"background-color:#cbd0cf;\"><p style=\"color:#342f30\">657C</p></td><td style=\"background-color:#b5bab9;\"><p style=\"color:#4a4546\">658C</p></td><td style=\"background-color:#919493;\"><p style=\"color:#6e6b6c\">659C</p></td></tr>\n",
       "<tr><td style=\"background-color:#6e696b;\"><p style=\"color:#919694\">660C</p></td><td style=\"background-color:#4e313a;\"><p style=\"color:#b1cec5\">661C</p></td><td style=\"background-color:#421b28;\"><p style=\"color:#bde4d7\">662C</p></td><td style=\"background-color:#e2d7da;\"><p style=\"color:#1d2825\">663C</p></td><td style=\"background-color:#dbced2;\"><p style=\"color:#24312d\">664C</p></td><td style=\"background-color:#cbbabe;\"><p style=\"color:#344541\">665C</p></td><td style=\"background-color:#ae9199;\"><p style=\"color:#516e66\">666C</p></td><td style=\"background-color:#89636d;\"><p style=\"color:#769c92\">667C</p></td><td style=\"background-color:#724955;\"><p style=\"color:#8db6aa\">668C</p></td><td style=\"background-color:#522b37;\"><p style=\"color:#add4c8\">669C</p></td></tr>\n",
       "<tr><td style=\"background-color:#edd4da;\"><p style=\"color:#122b25\">670C</p></td><td style=\"background-color:#ecc1cc;\"><p style=\"color:#133e33\">671C</p></td><td style=\"background-color:#e9a7ba;\"><p style=\"color:#165845\">672C</p></td><td style=\"background-color:#e189a4;\"><p style=\"color:#1e765b\">673C</p></td><td style=\"background-color:#d5638b;\"><p style=\"color:#2a9c74\">674C</p></td><td style=\"background-color:#ba2b68;\"><p style=\"color:#45d497\">675C</p></td><td style=\"background-color:#a40055;\"><p style=\"color:#5bffaa\">676C</p></td><td style=\"background-color:#e9d1d7;\"><p style=\"color:#162e28\">677C</p></td><td style=\"background-color:#e7cbd2;\"><p style=\"color:#18342d\">678C</p></td><td style=\"background-color:#e2bdc7;\"><p style=\"color:#1d4238\">679C</p></td></tr>\n",
       "<tr><td style=\"background-color:#d096a7;\"><p style=\"color:#2f6958\">680C</p></td><td style=\"background-color:#bd738a;\"><p style=\"color:#428c75\">681C</p></td><td style=\"background-color:#a14867;\"><p style=\"color:#5eb798\">682C</p></td><td style=\"background-color:#7f2448;\"><p style=\"color:#80dbb7\">683C</p></td><td style=\"background-color:#e8cad2;\"><p style=\"color:#17352d\">684C</p></td><td style=\"background-color:#e4bcc7;\"><p style=\"color:#1b4338\">685C</p></td><td style=\"background-color:#e0aebc;\"><p style=\"color:#1f5143\">686C</p></td><td style=\"background-color:#cc889c;\"><p style=\"color:#337763\">687C</p></td><td style=\"background-color:#ba6c85;\"><p style=\"color:#45937a\">688C</p></td><td style=\"background-color:#984060;\"><p style=\"color:#67bf9f\">689C</p></td></tr>\n",
       "<tr><td style=\"background-color:#702441;\"><p style=\"color:#8fdbbe\">690C</p></td><td style=\"background-color:#e8ced3;\"><p style=\"color:#17312c\">691C</p></td><td style=\"background-color:#e2c1c8;\"><p style=\"color:#1d3e37\">692C</p></td><td style=\"background-color:#d8a6b0;\"><p style=\"color:#27594f\">693C</p></td><td style=\"background-color:#cc919c;\"><p style=\"color:#336e63\">694C</p></td><td style=\"background-color:#b36977;\"><p style=\"color:#4c9688\">695C</p></td><td style=\"background-color:#954553;\"><p style=\"color:#6abaac\">696C</p></td><td style=\"background-color:#83333c;\"><p style=\"color:#7cccc3\">697C</p></td><td style=\"background-color:#eecfd7;\"><p style=\"color:#113028\">698C</p></td><td style=\"background-color:#f1c3cd;\"><p style=\"color:#0e3c32\">699C</p></td></tr>\n",
       "<tr><td style=\"background-color:#eda9b9;\"><p style=\"color:#125646\">700C</p></td><td style=\"background-color:#e88fa3;\"><p style=\"color:#17705c\">701C</p></td><td style=\"background-color:#d6647b;\"><p style=\"color:#299b84\">702C</p></td><td style=\"background-color:#bd3b4e;\"><p style=\"color:#42c4b1\">703C</p></td><td style=\"background-color:#a4262f;\"><p style=\"color:#5bd9d0\">704C</p></td><td style=\"background-color:#f2d6dd;\"><p style=\"color:#0d2922\">705C</p></td><td style=\"background-color:#f6c9d5;\"><p style=\"color:#09362a\">706C</p></td><td style=\"background-color:#f7b1c1;\"><p style=\"color:#084e3e\">707C</p></td><td style=\"background-color:#f690a5;\"><p style=\"color:#096f5a\">708C</p></td><td style=\"background-color:#f26881;\"><p style=\"color:#0d977e\">709C</p></td></tr>\n",
       "<tr><td style=\"background-color:#e94861;\"><p style=\"color:#16b79e\">710C</p></td><td style=\"background-color:#d52937;\"><p style=\"color:#2ad6c8\">711C</p></td><td style=\"background-color:#fecdae;\"><p style=\"color:#013251\">712C</p></td><td style=\"background-color:#ffc299;\"><p style=\"color:#003d66\">713C</p></td><td style=\"background-color:#ffb17a;\"><p style=\"color:#004e85\">714C</p></td><td style=\"background-color:#ff964b;\"><p style=\"color:#0069b4\">715C</p></td><td style=\"background-color:#f77b0e;\"><p style=\"color:#0884f1\">716C</p></td><td style=\"background-color:#e46100;\"><p style=\"color:#1b9eff\">717C</p></td><td style=\"background-color:#d55300;\"><p style=\"color:#2aacff\">718C</p></td><td style=\"background-color:#f1ceb7;\"><p style=\"color:#0e3148\">719C</p></td></tr>\n",
       "<tr><td style=\"background-color:#f0c3a5;\"><p style=\"color:#0f3c5a\">720C</p></td><td style=\"background-color:#ebaf87;\"><p style=\"color:#145078\">721C</p></td><td style=\"background-color:#da8f59;\"><p style=\"color:#2570a6\">722C</p></td><td style=\"background-color:#c5712f;\"><p style=\"color:#3a8ed0\">723C</p></td><td style=\"background-color:#9f4c00;\"><p style=\"color:#60b3ff\">724C</p></td><td style=\"background-color:#893c00;\"><p style=\"color:#76c3ff\">725C</p></td><td style=\"background-color:#ebcfbc;\"><p style=\"color:#143043\">726C</p></td><td style=\"background-color:#e5bfa5;\"><p style=\"color:#1a405a\">727C</p></td><td style=\"background-color:#d9aa88;\"><p style=\"color:#265577\">728C</p></td><td style=\"background-color:#c88f65;\"><p style=\"color:#37709a\">729C</p></td></tr>\n",
       "<tr><td style=\"background-color:#b06f3d;\"><p style=\"color:#4f90c2\">730C</p></td><td style=\"background-color:#7d400e;\"><p style=\"color:#82bff1\">731C</p></td><td style=\"background-color:#67310b;\"><p style=\"color:#98cef4\">732C</p></td><td style=\"background-color:#1ba592;\"><p style=\"color:#e45a6d\">801C</p></td><td style=\"background-color:#6cdc49;\"><p style=\"color:#9323b6\">802C</p></td><td style=\"background-color:#e7eceb;\"><p style=\"color:#181314\">803C</p></td><td style=\"background-color:#ffa243;\"><p style=\"color:#005dbc\">804C</p></td><td style=\"background-color:#ff5a5e;\"><p style=\"color:#00a5a1\">805C</p></td><td style=\"background-color:#ff1f91;\"><p style=\"color:#00e06e\">806C</p></td><td style=\"background-color:#e30077;\"><p style=\"color:#1cff88\">807C</p></td></tr>\n",
       "<tr><td style=\"background-color:#00ad92;\"><p style=\"color:#ff526d\">808C</p></td><td style=\"background-color:#ebe200;\"><p style=\"color:#141dff\">809C</p></td><td style=\"background-color:#ffcc11;\"><p style=\"color:#0033ee\">810C</p></td><td style=\"background-color:#ff7850;\"><p style=\"color:#0087af\">811C</p></td><td style=\"background-color:#ff3a85;\"><p style=\"color:#00c57a\">812C</p></td><td style=\"background-color:#f31082;\"><p style=\"color:#0cef7d\">813C</p></td><td style=\"background-color:#a45c73;\"><p style=\"color:#5ba38c\">814C</p></td></tr>\n",
       "</table>\n"
      ],
      "text/plain": [
       "Table(len=91,titles=[],data=[[<p style=\"color:#031276\">100C</p>, <p style=\"color:#02159c\">101C</p>, <p style=\"color:#001aff\">102C</p>, <p style=\"color:#2e55ff\">103C</p>, <p style=\"color:#4d6bff\">104C</p>, <p style=\"color:#798fea\">105C</p>, <p style=\"color:#001a9c\">106C</p>, <p style=\"color:#001eca\">107C</p>, <p style=\"color:#0026ff\">108C</p>, <p style=\"color:#002fff\">109C</p>], [<p style=\"color:#1d54ff\">110C</p>, <p style=\"color:#4871ff\">111C</p>, <p style=\"color:#5f7fff\">112C</p>, <p style=\"color:#001fa3\">113C</p>, <p style=\"color:#0022ad\">114C</p>, <p style=\"color:#0022b2\">115C</p>, <p style=\"color:#0033ff\">116C</p>, <p style=\"color:#2963ff\">117C</p>, <p style=\"color:#4676ff\">118C</p>, <p style=\"color:#718be3\">119C</p>], [<p style=\"color:#071f58\">1205C</p>, <p style=\"color:#002286\">120C</p>, <p style=\"color:#04226c\">1215C</p>, <p style=\"color:#00248f\">121C</p>, <p style=\"color:#0038b7\">1225C</p>, <p style=\"color:#002cad\">122C</p>, <p style=\"color:#004eff\">1235C</p>, <p style=\"color:#0039d5\">123C</p>, <p style=\"color:#336fff\">1245C</p>, <p style=\"color:#0a54ff\">124C</p>], [<p style=\"color:#5181f0\">1255C</p>, <p style=\"color:#3d76ff\">125C</p>, <p style=\"color:#7498e5\">1265C</p>, <p style=\"color:#5783fb\">126C</p>, <p style=\"color:#082078\">127C</p>, <p style=\"color:#062ba0\">128C</p>, <p style=\"color:#0533b8\">129C</p>, <p style=\"color:#0756ff\">130C</p>, <p style=\"color:#2671ff\">131C</p>, <p style=\"color:#5284ff\">132C</p>], [<p style=\"color:#8ba8ec\">133C</p>, <p style=\"color:#003171\">1345C</p>, <p style=\"color:#002b7b\">134C</p>, <p style=\"color:#003882\">1355C</p>, <p style=\"color:#0038a4\">135C</p>, <p style=\"color:#004aab\">1365C</p>, <p style=\"color:#0045c4\">136C</p>, <p style=\"color:#0065ff\">1375C</p>, <p style=\"color:#0060ff\">137C</p>, <p style=\"color:#2289ff\">1385C</p>]])"
      ]
     },
     "execution_count": 19,
     "metadata": {},
     "output_type": "execute_result"
    }
   ],
   "source": [
    "from Goulib.table import Table, Cell\n",
    "from Goulib.itertools2 import reshape\n",
    "\n",
    "t=[]\n",
    "for id in sorted(pantone):\n",
    "    c=pantone[id]\n",
    "    c2=-c # complementary color\n",
    "    c2._name=id\n",
    "    s=html(c2)\n",
    "    t.append(Cell(s,style={'background-color':c.hex}))\n",
    "Table(reshape(t,(0,10)))"
   ]
  }
 ],
 "metadata": {
  "kernelspec": {
   "display_name": "Python 3",
   "language": "python",
   "name": "python3"
  },
  "language_info": {
   "codemirror_mode": {
    "name": "ipython",
    "version": 3
   },
   "file_extension": ".py",
   "mimetype": "text/x-python",
   "name": "python",
   "nbconvert_exporter": "python",
   "pygments_lexer": "ipython3",
   "version": "3.5.1"
  }
 },
 "nbformat": 4,
 "nbformat_minor": 0
}
