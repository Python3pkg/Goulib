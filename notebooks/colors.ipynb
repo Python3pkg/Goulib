{
 "cells": [
  {
   "cell_type": "markdown",
   "metadata": {},
   "source": [
    "# [Goulib](../notebook.ipynb).colors\n",
    "very simple (RGB) color management\n"
   ]
  },
  {
   "cell_type": "code",
   "execution_count": 1,
   "metadata": {
    "collapsed": false
   },
   "outputs": [],
   "source": [
    "from Goulib.notebook import *\n",
    "from Goulib.colors import *"
   ]
  },
  {
   "cell_type": "code",
   "execution_count": 2,
   "metadata": {
    "collapsed": false
   },
   "outputs": [
    {
     "data": {
      "text/html": [
       "#0000ff blue"
      ],
      "text/plain": [
       "<IPython.core.display.HTML object>"
      ]
     },
     "metadata": {},
     "output_type": "display_data"
    }
   ],
   "source": [
    "c=color['blue'] # color is a dict of most used colors indexed by name\n",
    "h(c, color_lookup[c]) # reversed dict to retrieve color name by hex string"
   ]
  },
  {
   "cell_type": "code",
   "execution_count": 4,
   "metadata": {
    "collapsed": false
   },
   "outputs": [
    {
     "data": {
      "text/html": [
       "<div style=\"color:#0000ff\">blue</div>"
      ],
      "text/plain": [
       "Color('blue')"
      ]
     },
     "execution_count": 4,
     "metadata": {},
     "output_type": "execute_result"
    }
   ],
   "source": [
    "red=Color('red') #Color objects can be init'ed by name,\n",
    "green=Color('#00ff00') # by RGB hex string,\n",
    "blue=Color((0,0,1)) #or by RGB triplet\n",
    "blue # Color objects have an HTML representation"
   ]
  },
  {
   "cell_type": "code",
   "execution_count": 5,
   "metadata": {
    "collapsed": false
   },
   "outputs": [
    {
     "data": {
      "text/html": [
       "magenta #ff00ff 1.0 0.0 1.0"
      ],
      "text/plain": [
       "<IPython.core.display.HTML object>"
      ]
     },
     "metadata": {},
     "output_type": "display_data"
    },
    {
     "data": {
      "text/html": [
       "<div style=\"color:#ff00ff\">magenta</div>"
      ],
      "text/plain": [
       "Color('magenta')"
      ]
     },
     "execution_count": 5,
     "metadata": {},
     "output_type": "execute_result"
    }
   ],
   "source": [
    "#colors can be added\n",
    "cyan=blue+green\n",
    "magenta=blue+red\n",
    "yellow=red+green\n",
    "\n",
    "h(magenta.name, magenta.hex, magenta.rgb) # see ? the color name of the sum is correct too !\n",
    "magenta"
   ]
  },
  {
   "cell_type": "code",
   "execution_count": 6,
   "metadata": {
    "collapsed": false
   },
   "outputs": [
    {
     "data": {
      "text/html": [
       "<div style=\"color:#000000\">black</div>"
      ],
      "text/plain": [
       "Color('black')"
      ]
     },
     "execution_count": 6,
     "metadata": {},
     "output_type": "execute_result"
    }
   ],
   "source": [
    "magenta-cyan-yellow #and colors can be substracted too"
   ]
  },
  {
   "cell_type": "code",
   "execution_count": 7,
   "metadata": {
    "collapsed": false
   },
   "outputs": [
    {
     "data": {
      "text/html": [
       "teal #008080 -0.498039215686 0.501960784314 0.501960784314"
      ],
      "text/plain": [
       "<IPython.core.display.HTML object>"
      ]
     },
     "metadata": {},
     "output_type": "display_data"
    },
    {
     "data": {
      "text/html": [
       "<div style=\"color:#008080\">teal</div>"
      ],
      "text/plain": [
       "Color('teal')"
      ]
     },
     "execution_count": 7,
     "metadata": {},
     "output_type": "execute_result"
    }
   ],
   "source": [
    "c= Color('gray')-red # colors can be substracted too. RGB values might go off bounds, but hex is bounded\n",
    "h(c.name, c.hex, c.rgb) # see ? the color name of the sum is correct too !\n",
    "c"
   ]
  },
  {
   "cell_type": "code",
   "execution_count": 9,
   "metadata": {
    "collapsed": false
   },
   "outputs": [
    {
     "data": {
      "text/html": [
       "<div style=\"color:#a75e04\">~saddlebrown</div> <div style=\"color:#d53f59\">~indianred</div> <div style=\"color:#3ca5ca\">~steelblue</div> <div style=\"color:#1298b0\">~lightseagreen</div> <div style=\"color:#3a0384\">~indigo</div> <div style=\"color:#d91bd2\">~magenta</div> <div style=\"color:#102677\">~midnightblue</div> <div style=\"color:#4b68f6\">~royalblue</div> <div style=\"color:#d867fa\">~violet</div> <div style=\"color:#a5991a\">~darkgoldenrod</div>"
      ],
      "text/plain": [
       "<IPython.core.display.HTML object>"
      ]
     },
     "metadata": {},
     "output_type": "display_data"
    }
   ],
   "source": [
    "from random import random\n",
    "r=[Color((random(),random(),random())) for _ in range(10)]\n",
    "h(r) # unknown colors recieve name of the nearest known color with a tile before"
   ]
  },
  {
   "cell_type": "code",
   "execution_count": 10,
   "metadata": {
    "collapsed": false
   },
   "outputs": [
    {
     "data": {
      "text/html": [
       "<div style=\"color:#ff0000\">red</div> <div style=\"color:#ffff00\">yellow</div> <div style=\"color:#00ff00\">lime</div> <div style=\"color:#00ffff\">aqua</div> <div style=\"color:#0000ff\">blue</div>"
      ],
      "text/plain": [
       "<IPython.core.display.HTML object>"
      ]
     },
     "metadata": {},
     "output_type": "display_data"
    }
   ],
   "source": [
    "h(map(Color,color_range(5,'red','blue')))"
   ]
  },
  {
   "cell_type": "markdown",
   "metadata": {},
   "source": [
    "## Pantone colors\n",
    "colors from [Pantone](http://www.pantone.com/) are handled as RGB for now..."
   ]
  },
  {
   "cell_type": "code",
   "execution_count": 3,
   "metadata": {
    "collapsed": false
   },
   "outputs": [
    {
     "data": {
      "text/html": [
       "<table><tr><td style=\"background-color:#F3ED86;\">100C</td><td style=\"background-color:#F5EC62;\">101C</td><td style=\"background-color:#FAE600;\">102C</td><td style=\"background-color:#CAAD00;\">103C</td><td style=\"background-color:#AC9600;\">104C</td><td style=\"background-color:#817214;\">105C</td><td style=\"background-color:#F6E761;\">106C</td><td style=\"background-color:#FAE22F;\">107C</td><td style=\"background-color:#FEDB00;\">108C</td><td style=\"background-color:#FFD100;\">109C</td></tr>\n",
       "<tr><td style=\"background-color:#DBAE00;\">110C</td><td style=\"background-color:#AF8F00;\">111C</td><td style=\"background-color:#998000;\">112C</td><td style=\"background-color:#FAE15A;\">113C</td><td style=\"background-color:#FAE051;\">114C</td><td style=\"background-color:#FBDE4A;\">115C</td><td style=\"background-color:#FFCE00;\">116C</td><td style=\"background-color:#CE9D00;\">117C</td><td style=\"background-color:#B38A00;\">118C</td><td style=\"background-color:#8A761A;\">119C</td></tr>\n",
       "<tr><td style=\"background-color:#F3E2A7;\">1205C</td><td style=\"background-color:#F9DF79;\">120C</td><td style=\"background-color:#F5DD92;\">1215C</td><td style=\"background-color:#FBDB6E;\">121C</td><td style=\"background-color:#FDC745;\">1225C</td><td style=\"background-color:#FDD44F;\">122C</td><td style=\"background-color:#FFB300;\">1235C</td><td style=\"background-color:#FFC726;\">123C</td><td style=\"background-color:#C69200;\">1245C</td><td style=\"background-color:#EBAB00;\">124C</td></tr>\n",
       "<tr><td style=\"background-color:#AA800E;\">1255C</td><td style=\"background-color:#BB8900;\">125C</td><td style=\"background-color:#836514;\">1265C</td><td style=\"background-color:#A17C00;\">126C</td><td style=\"background-color:#EFDF85;\">127C</td><td style=\"background-color:#F2D65E;\">128C</td><td style=\"background-color:#F1CD44;\">129C</td><td style=\"background-color:#F1AB00;\">130C</td><td style=\"background-color:#D49100;\">131C</td><td style=\"background-color:#A67A00;\">132C</td></tr>\n",
       "<tr><td style=\"background-color:#715913;\">133C</td><td style=\"background-color:#FBCF8D;\">1345C</td><td style=\"background-color:#F8D583;\">134C</td><td style=\"background-color:#FDC87D;\">1355C</td><td style=\"background-color:#FEC85A;\">135C</td><td style=\"background-color:#FFB754;\">1365C</td><td style=\"background-color:#FFBC3A;\">136C</td><td style=\"background-color:#FF9A00;\">1375C</td><td style=\"background-color:#FF9F00;\">137C</td><td style=\"background-color:#D67500;\">1385C</td></tr>\n",
       "<tr><td style=\"background-color:#E47F00;\">138C</td><td style=\"background-color:#9E6209;\">1395C</td><td style=\"background-color:#B67100;\">139C</td><td style=\"background-color:#6C4713;\">1405C</td><td style=\"background-color:#7A560F;\">140C</td><td style=\"background-color:#EFC868;\">141C</td><td style=\"background-color:#F1BB46;\">142C</td><td style=\"background-color:#EFAA23;\">143C</td><td style=\"background-color:#ED8000;\">144C</td><td style=\"background-color:#CF7600;\">145C</td></tr>\n",
       "<tr><td style=\"background-color:#9F6000;\">146C</td><td style=\"background-color:#715821;\">147C</td><td style=\"background-color:#FFB57B;\">1485C</td><td style=\"background-color:#FBD09D;\">148C</td><td style=\"background-color:#FF963B;\">1495C</td><td style=\"background-color:#FEC688;\">149C</td><td style=\"background-color:#FF7200;\">1505C</td><td style=\"background-color:#FFA94F;\">150C</td><td style=\"background-color:#FF7300;\">151C</td><td style=\"background-color:#CA4E00;\">1525C</td></tr>\n",
       "<tr><td style=\"background-color:#E76F00;\">152C</td><td style=\"background-color:#933F00;\">1535C</td><td style=\"background-color:#C06600;\">153C</td><td style=\"background-color:#51260B;\">1545C</td><td style=\"background-color:#995409;\">154C</td><td style=\"background-color:#FFBFA0;\">1555C</td><td style=\"background-color:#ECD6AF;\">155C</td><td style=\"background-color:#FFA97D;\">1565C</td><td style=\"background-color:#EFC18A;\">156C</td><td style=\"background-color:#FF8642;\">1575C</td></tr>\n",
       "<tr><td style=\"background-color:#ED9B4F;\">157C</td><td style=\"background-color:#FF6900;\">1585C</td><td style=\"background-color:#E96B10;\">158C</td><td style=\"background-color:#DA5C05;\">1595C</td><td style=\"background-color:#CD5806;\">159C</td><td style=\"background-color:#A24A13;\">1605C</td><td style=\"background-color:#A24E12;\">160C</td><td style=\"background-color:#853C10;\">1615C</td><td style=\"background-color:#613517;\">161C</td><td style=\"background-color:#FFA28B;\">1625C</td></tr>\n",
       "<tr><td style=\"background-color:#FDC3AA;\">162C</td><td style=\"background-color:#FF8E70;\">1635C</td><td style=\"background-color:#FF9C71;\">163C</td><td style=\"background-color:#FF6C3B;\">1645C</td><td style=\"background-color:#FF7E43;\">164C</td><td style=\"background-color:#FF5200;\">1655C</td><td style=\"background-color:#FF5F00;\">165C</td><td style=\"background-color:#E54800;\">1665C</td><td style=\"background-color:#E55300;\">166C</td><td style=\"background-color:#A83C0F;\">1675C</td></tr>\n",
       "<tr><td style=\"background-color:#C2510F;\">167C</td><td style=\"background-color:#863514;\">1685C</td><td style=\"background-color:#6F3014;\">168C</td><td style=\"background-color:#FFB6B1;\">169C</td><td style=\"background-color:#FF897B;\">170C</td><td style=\"background-color:#FF6141;\">171C</td><td style=\"background-color:#FD4703;\">172C</td><td style=\"background-color:#D84519;\">173C</td><td style=\"background-color:#9A3416;\">174C</td><td style=\"background-color:#703222;\">175C</td></tr>\n",
       "<tr><td style=\"background-color:#FE9DB0;\">1765C</td><td style=\"background-color:#FAAFC2;\">1767C</td><td style=\"background-color:#FFACB9;\">176C</td><td style=\"background-color:#FF859A;\">1775C</td><td style=\"background-color:#FB6581;\">1777C</td><td style=\"background-color:#FF818C;\">177C</td><td style=\"background-color:#F9455B;\">1785C</td><td style=\"background-color:#F9425F;\">1787C</td><td style=\"background-color:#F02233;\">1788C</td><td style=\"background-color:#FF5B60;\">178C</td></tr>\n",
       "<tr><td style=\"background-color:#D81F2A;\">1795C</td><td style=\"background-color:#D02433;\">1797C</td><td style=\"background-color:#E23828;\">179C</td><td style=\"background-color:#B0232A;\">1805C</td><td style=\"background-color:#A12830;\">1807C</td><td style=\"background-color:#C0362C;\">180C</td><td style=\"background-color:#7C211E;\">1815C</td><td style=\"background-color:#5E2728;\">1817C</td><td style=\"background-color:#792720;\">181C</td><td style=\"background-color:#F8B8CB;\">182C</td></tr>\n",
       "<tr><td style=\"background-color:#FC8DA9;\">183C</td><td style=\"background-color:#F85D7E;\">184C</td><td style=\"background-color:#EA0437;\">185C</td><td style=\"background-color:#D21034;\">186C</td><td style=\"background-color:#B31B34;\">187C</td><td style=\"background-color:#7C2230;\">188C</td><td style=\"background-color:#F3BCD4;\">1895C</td><td style=\"background-color:#F8A1BE;\">189C</td><td style=\"background-color:#F59BBD;\">1905C</td><td style=\"background-color:#F8779E;\">190C</td></tr>\n",
       "<tr><td style=\"background-color:#F2558A;\">1915C</td><td style=\"background-color:#F23F72;\">191C</td><td style=\"background-color:#E40050;\">1925C</td><td style=\"background-color:#E90649;\">192C</td><td style=\"background-color:#CB0447;\">1935C</td><td style=\"background-color:#C30C3E;\">193C</td><td style=\"background-color:#AA113F;\">1945C</td><td style=\"background-color:#9C1E3D;\">194C</td><td style=\"background-color:#93173B;\">1955C</td><td style=\"background-color:#EBC6D3;\">196C</td></tr>\n",
       "<tr><td style=\"background-color:#EB9BB2;\">197C</td><td style=\"background-color:#E44D6F;\">198C</td><td style=\"background-color:#DB0C41;\">199C</td><td style=\"background-color:#C10435;\">200C</td><td style=\"background-color:#9E1B34;\">201C</td><td style=\"background-color:#892034;\">202C</td><td style=\"background-color:#EBADCD;\">203C</td><td style=\"background-color:#E87BAC;\">204C</td><td style=\"background-color:#E34585;\">205C</td><td style=\"background-color:#D7004D;\">206C</td></tr>\n",
       "<tr><td style=\"background-color:#B10042;\">207C</td><td style=\"background-color:#902147;\">208C</td><td style=\"background-color:#752641;\">209C</td><td style=\"background-color:#FA9FCC;\">210C</td><td style=\"background-color:#F97DB8;\">211C</td><td style=\"background-color:#F34E9A;\">212C</td><td style=\"background-color:#E61577;\">213C</td><td style=\"background-color:#D00063;\">214C</td><td style=\"background-color:#AA1054;\">215C</td><td style=\"background-color:#7A1D42;\">216C</td></tr>\n",
       "<tr><td style=\"background-color:#ECBBDD;\">217C</td><td style=\"background-color:#E86FB8;\">218C</td><td style=\"background-color:#E0218A;\">219C</td><td style=\"background-color:#AE0055;\">220C</td><td style=\"background-color:#96004B;\">221C</td><td style=\"background-color:#6C193F;\">222C</td><td style=\"background-color:#F293D1;\">223C</td><td style=\"background-color:#EF6ABF;\">224C</td><td style=\"background-color:#E5239D;\">225C</td><td style=\"background-color:#D60077;\">226C</td></tr>\n",
       "<tr><td style=\"background-color:#AE005F;\">227C</td><td style=\"background-color:#8A0753;\">228C</td><td style=\"background-color:#6A1D44;\">229C</td><td style=\"background-color:#F7A7DB;\">230C</td><td style=\"background-color:#F575C9;\">231C</td><td style=\"background-color:#EF40B0;\">232C</td><td style=\"background-color:#C90081;\">233C</td><td style=\"background-color:#A6006B;\">234C</td><td style=\"background-color:#890857;\">235C</td><td style=\"background-color:#EFC3E4;\">2365C</td></tr>\n",
       "<tr><td style=\"background-color:#F2B0DF;\">236C</td><td style=\"background-color:#E270CD;\">2375C</td><td style=\"background-color:#EE86D3;\">237C</td><td style=\"background-color:#D733B4;\">2385C</td><td style=\"background-color:#E653BC;\">238C</td><td style=\"background-color:#C40098;\">2395C</td><td style=\"background-color:#E032AF;\">239C</td><td style=\"background-color:#A70084;\">2405C</td><td style=\"background-color:#C41E99;\">240C</td><td style=\"background-color:#970076;\">2415C</td></tr>\n",
       "<tr><td style=\"background-color:#AC0481;\">241C</td><td style=\"background-color:#820063;\">2425C</td><td style=\"background-color:#7A1A57;\">242C</td><td style=\"background-color:#E8B7E5;\">243C</td><td style=\"background-color:#E6A2E0;\">244C</td><td style=\"background-color:#DF81D6;\">245C</td><td style=\"background-color:#C70BAC;\">246C</td><td style=\"background-color:#B3009D;\">247C</td><td style=\"background-color:#9E0389;\">248C</td><td style=\"background-color:#7B2266;\">249C</td></tr>\n",
       "<tr><td style=\"background-color:#E3C0E6;\">250C</td><td style=\"background-color:#D99CE1;\">251C</td><td style=\"background-color:#CA65D1;\">252C</td><td style=\"background-color:#A91BB0;\">253C</td><td style=\"background-color:#962399;\">254C</td><td style=\"background-color:#70266C;\">255C</td><td style=\"background-color:#CFA5E4;\">2562C</td><td style=\"background-color:#C79DD8;\">2563C</td><td style=\"background-color:#BB99DA;\">2567C</td><td style=\"background-color:#D9BFE0;\">256C</td></tr>\n",
       "<tr><td style=\"background-color:#C084DC;\">2572C</td><td style=\"background-color:#B279C8;\">2573C</td><td style=\"background-color:#A276CC;\">2577C</td><td style=\"background-color:#CBA4D4;\">257C</td><td style=\"background-color:#A24CC8;\">2582C</td><td style=\"background-color:#9950B2;\">2583C</td><td style=\"background-color:#8348B5;\">2587C</td><td style=\"background-color:#92499E;\">258C</td><td style=\"background-color:#9016B2;\">2592C</td><td style=\"background-color:#7E2B97;\">2593C</td></tr>\n",
       "<tr><td style=\"background-color:#59058D;\">2597C</td><td style=\"background-color:#6C1B72;\">259C</td><td style=\"background-color:#7D0996;\">2602C</td><td style=\"background-color:#68177F;\">2603C</td><td style=\"background-color:#4F027C;\">2607C</td><td style=\"background-color:#5F1D5F;\">260C</td><td style=\"background-color:#6A1A7A;\">2612C</td><td style=\"background-color:#611774;\">2613C</td><td style=\"background-color:#4B0B71;\">2617C</td><td style=\"background-color:#591E55;\">261C</td></tr>\n",
       "<tr><td style=\"background-color:#572458;\">2622C</td><td style=\"background-color:#581963;\">2623C</td><td style=\"background-color:#43125F;\">2627C</td><td style=\"background-color:#4F2248;\">262C</td><td style=\"background-color:#BFAFE4;\">2635C</td><td style=\"background-color:#D8CBEB;\">263C</td><td style=\"background-color:#AA94DE;\">2645C</td><td style=\"background-color:#BCA8E6;\">264C</td><td style=\"background-color:#9173D3;\">2655C</td><td style=\"background-color:#8D65D2;\">265C</td></tr>\n",
       "<tr><td style=\"background-color:#7A52C7;\">2665C</td><td style=\"background-color:#6732BA;\">266C</td><td style=\"background-color:#4F1F91;\">267C</td><td style=\"background-color:#3B0084;\">2685C</td><td style=\"background-color:#4A217E;\">268C</td><td style=\"background-color:#381D59;\">2695C</td><td style=\"background-color:#452663;\">269C</td><td style=\"background-color:#A29FE0;\">2705C</td><td style=\"background-color:#C4CBEA;\">2706C</td><td style=\"background-color:#BDD0EE;\">2707C</td></tr>\n",
       "<tr><td style=\"background-color:#B1C5EA;\">2708C</td><td style=\"background-color:#ADACDC;\">270C</td><td style=\"background-color:#8580D8;\">2715C</td><td style=\"background-color:#94A1E2;\">2716C</td><td style=\"background-color:#A1BDEA;\">2717C</td><td style=\"background-color:#547ED9;\">2718C</td><td style=\"background-color:#9490D2;\">271C</td><td style=\"background-color:#5E53C7;\">2725C</td><td style=\"background-color:#4555C7;\">2726C</td><td style=\"background-color:#3878DB;\">2727C</td></tr>\n",
       "<tr><td style=\"background-color:#0047BE;\">2728C</td><td style=\"background-color:#7973C2;\">272C</td><td style=\"background-color:#280092;\">2735C</td><td style=\"background-color:#1E22AE;\">2736C</td><td style=\"background-color:#00129D;\">2738C</td><td style=\"background-color:#25177A;\">273C</td><td style=\"background-color:#22007A;\">2745C</td><td style=\"background-color:#1A1C96;\">2746C</td><td style=\"background-color:#00237E;\">2747C</td><td style=\"background-color:#001A7B;\">2748C</td></tr>\n",
       "<tr><td style=\"background-color:#211265;\">274C</td><td style=\"background-color:#1B0069;\">2755C</td><td style=\"background-color:#151D71;\">2756C</td><td style=\"background-color:#002065;\">2757C</td><td style=\"background-color:#001D68;\">2758C</td><td style=\"background-color:#1D1157;\">275C</td><td style=\"background-color:#1B0C55;\">2765C</td><td style=\"background-color:#151C55;\">2766C</td><td style=\"background-color:#0B2345;\">2767C</td><td style=\"background-color:#031E51;\">2768C</td></tr>\n",
       "<tr><td style=\"background-color:#241A44;\">276C</td><td style=\"background-color:#A9C7EC;\">277C</td><td style=\"background-color:#8CB4E8;\">278C</td><td style=\"background-color:#4189DD;\">279C</td><td style=\"background-color:#00267F;\">280C</td><td style=\"background-color:#002569;\">281C</td><td style=\"background-color:#00204E;\">282C</td><td style=\"background-color:#93BFEB;\">283C</td><td style=\"background-color:#6CABE7;\">284C</td><td style=\"background-color:#0077D4;\">285C</td></tr>\n",
       "<tr><td style=\"background-color:#0035AD;\">286C</td><td style=\"background-color:#003798;\">287C</td><td style=\"background-color:#003082;\">288C</td><td style=\"background-color:#00234C;\">289C</td><td style=\"background-color:#92C9EB;\">2905C</td><td style=\"background-color:#BED9ED;\">290C</td><td style=\"background-color:#62B4E8;\">2915C</td><td style=\"background-color:#A4CEEC;\">291C</td><td style=\"background-color:#0092DD;\">2925C</td><td style=\"background-color:#6AB2E7;\">292C</td></tr>\n",
       "<tr><td style=\"background-color:#005BC3;\">2935C</td><td style=\"background-color:#0047B6;\">293C</td><td style=\"background-color:#0053A5;\">2945C</td><td style=\"background-color:#003580;\">294C</td><td style=\"background-color:#003B6F;\">2955C</td><td style=\"background-color:#002D62;\">295C</td><td style=\"background-color:#003151;\">2965C</td><td style=\"background-color:#002740;\">296C</td><td style=\"background-color:#A5D9EC;\">2975C</td><td style=\"background-color:#78C7EB;\">297C</td></tr>\n",
       "<tr><td style=\"background-color:#40BDE8;\">2985C</td><td style=\"background-color:#42B4E6;\">298C</td><td style=\"background-color:#00A2E1;\">2995C</td><td style=\"background-color:#00A0E2;\">299C</td><td style=\"background-color:#0076CC;\">3005C</td><td style=\"background-color:#0067C6;\">300C</td><td style=\"background-color:#0060A1;\">3015C</td><td style=\"background-color:#00529B;\">301C</td><td style=\"background-color:#00496E;\">3025C</td><td style=\"background-color:#00436E;\">302C</td></tr>\n",
       "<tr><td style=\"background-color:#003A4F;\">3035C</td><td style=\"background-color:#00344D;\">303C</td><td style=\"background-color:#A2DBEB;\">304C</td><td style=\"background-color:#53CAEB;\">305C</td><td style=\"background-color:#00B5E6;\">306C</td><td style=\"background-color:#0070B2;\">307C</td><td style=\"background-color:#005883;\">308C</td><td style=\"background-color:#003947;\">309C</td><td style=\"background-color:#6FD2E4;\">3105C</td><td style=\"background-color:#66CFE6;\">310C</td></tr>\n",
       "<tr><td style=\"background-color:#00C4DC;\">3115C</td><td style=\"background-color:#00C2E3;\">311C</td><td style=\"background-color:#00AECE;\">3125C</td><td style=\"background-color:#00A7D4;\">312C</td><td style=\"background-color:#0092BA;\">3135C</td><td style=\"background-color:#0092C7;\">313C</td><td style=\"background-color:#007A97;\">3145C</td><td style=\"background-color:#007FAC;\">314C</td><td style=\"background-color:#00667C;\">3155C</td><td style=\"background-color:#006685;\">315C</td></tr>\n",
       "<tr><td style=\"background-color:#004F5D;\">3165C</td><td style=\"background-color:#004650;\">316C</td><td style=\"background-color:#BFE5EA;\">317C</td><td style=\"background-color:#8EDBE5;\">318C</td><td style=\"background-color:#36CCDA;\">319C</td><td style=\"background-color:#0097AC;\">320C</td><td style=\"background-color:#008193;\">321C</td><td style=\"background-color:#006F7A;\">322C</td><td style=\"background-color:#006068;\">323C</td><td style=\"background-color:#75D9D8;\">3242C</td></tr>\n",
       "<tr><td style=\"background-color:#7BDDD8;\">3245C</td><td style=\"background-color:#7BD2C8;\">3248C</td><td style=\"background-color:#98D9DB;\">324C</td><td style=\"background-color:#41D2D2;\">3252C</td><td style=\"background-color:#32D4CB;\">3255C</td><td style=\"background-color:#43C4B7;\">3258C</td><td style=\"background-color:#47C7C7;\">325C</td><td style=\"background-color:#00BAB9;\">3262C</td><td style=\"background-color:#00C2B6;\">3265C</td><td style=\"background-color:#00A994;\">3268C</td></tr>\n",
       "<tr><td style=\"background-color:#00AFAD;\">326C</td><td style=\"background-color:#00A19C;\">3272C</td><td style=\"background-color:#00B09D;\">3275C</td><td style=\"background-color:#00997A;\">3278C</td><td style=\"background-color:#008579;\">327C</td><td style=\"background-color:#008480;\">3282C</td><td style=\"background-color:#009384;\">3285C</td><td style=\"background-color:#007E64;\">3288C</td><td style=\"background-color:#007168;\">328C</td><td style=\"background-color:#005A53;\">3292C</td></tr>\n",
       "<tr><td style=\"background-color:#007C6F;\">3295C</td><td style=\"background-color:#006752;\">3298C</td><td style=\"background-color:#00625A;\">329C</td><td style=\"background-color:#00423C;\">3302C</td><td style=\"background-color:#004A41;\">3305C</td><td style=\"background-color:#004236;\">3308C</td><td style=\"background-color:#00524D;\">330C</td><td style=\"background-color:#B2E7DF;\">331C</td><td style=\"background-color:#9FE4DB;\">332C</td><td style=\"background-color:#43D9C7;\">333C</td></tr>\n",
       "<tr><td style=\"background-color:#009878;\">334C</td><td style=\"background-color:#007B63;\">335C</td><td style=\"background-color:#006651;\">336C</td><td style=\"background-color:#81E0C7;\">3375C</td><td style=\"background-color:#94D8C8;\">337C</td><td style=\"background-color:#3BD6B2;\">3385C</td><td style=\"background-color:#76D1BD;\">338C</td><td style=\"background-color:#00C590;\">3395C</td><td style=\"background-color:#00B08B;\">339C</td><td style=\"background-color:#00AE68;\">3405C</td></tr>\n",
       "<tr><td style=\"background-color:#009460;\">340C</td><td style=\"background-color:#00774B;\">3415C</td><td style=\"background-color:#007856;\">341C</td><td style=\"background-color:#006644;\">3425C</td><td style=\"background-color:#006A4E;\">342C</td><td style=\"background-color:#004731;\">3435C</td><td style=\"background-color:#00533E;\">343C</td><td style=\"background-color:#A6DEC1;\">344C</td><td style=\"background-color:#89D5AF;\">345C</td><td style=\"background-color:#5EC998;\">346C</td></tr>\n",
       "<tr><td style=\"background-color:#009543;\">347C</td><td style=\"background-color:#007E3A;\">348C</td><td style=\"background-color:#006233;\">349C</td><td style=\"background-color:#18472C;\">350C</td><td style=\"background-color:#A7E6C4;\">351C</td><td style=\"background-color:#87E0B0;\">352C</td><td style=\"background-color:#6ADCA2;\">353C</td><td style=\"background-color:#00AB39;\">354C</td><td style=\"background-color:#009530;\">355C</td><td style=\"background-color:#007229;\">356C</td></tr>\n",
       "<tr><td style=\"background-color:#0F4D2A;\">357C</td><td style=\"background-color:#A5DB92;\">358C</td><td style=\"background-color:#9FD98B;\">359C</td><td style=\"background-color:#55BE47;\">360C</td><td style=\"background-color:#12AD2B;\">361C</td><td style=\"background-color:#289728;\">362C</td><td style=\"background-color:#2F8927;\">363C</td><td style=\"background-color:#317023;\">364C</td><td style=\"background-color:#CCE5A2;\">365C</td><td style=\"background-color:#BCE18D;\">366C</td></tr>\n",
       "<tr><td style=\"background-color:#A4D867;\">367C</td><td style=\"background-color:#62BD19;\">368C</td><td style=\"background-color:#4FA600;\">369C</td><td style=\"background-color:#4F8A10;\">370C</td><td style=\"background-color:#4A601C;\">371C</td><td style=\"background-color:#D7E9A1;\">372C</td><td style=\"background-color:#CDE985;\">373C</td><td style=\"background-color:#BAE55F;\">374C</td><td style=\"background-color:#87D300;\">375C</td><td style=\"background-color:#76B900;\">376C</td></tr>\n",
       "<tr><td style=\"background-color:#679000;\">377C</td><td style=\"background-color:#4D5A12;\">378C</td><td style=\"background-color:#DDE56C;\">379C</td><td style=\"background-color:#D3E13C;\">380C</td><td style=\"background-color:#C8DB00;\">381C</td><td style=\"background-color:#B9D300;\">382C</td><td style=\"background-color:#9FAA00;\">383C</td><td style=\"background-color:#8B9000;\">384C</td><td style=\"background-color:#6E6A12;\">385C</td><td style=\"background-color:#E5E96E;\">386C</td></tr>\n",
       "<tr><td style=\"background-color:#DEE63A;\">387C</td><td style=\"background-color:#D7E300;\">388C</td><td style=\"background-color:#C6DB00;\">389C</td><td style=\"background-color:#B2BC00;\">390C</td><td style=\"background-color:#959200;\">391C</td><td style=\"background-color:#7F7800;\">392C</td><td style=\"background-color:#F0EB7A;\">3935C</td><td style=\"background-color:#EDEB8F;\">393C</td><td style=\"background-color:#EFE600;\">3945C</td><td style=\"background-color:#E9E73F;\">394C</td></tr>\n",
       "<tr><td style=\"background-color:#ECE100;\">3955C</td><td style=\"background-color:#E4E400;\">395C</td><td style=\"background-color:#E9DC00;\">3965C</td><td style=\"background-color:#DDDF00;\">396C</td><td style=\"background-color:#BBA800;\">3975C</td><td style=\"background-color:#BEB800;\">397C</td><td style=\"background-color:#9B8900;\">3985C</td><td style=\"background-color:#ABA200;\">398C</td><td style=\"background-color:#6A5B07;\">3995C</td><td style=\"background-color:#998D00;\">399C</td></tr>\n",
       "<tr><td style=\"background-color:#CDC9C4;\">400C</td><td style=\"background-color:#BDB8B1;\">401C</td><td style=\"background-color:#ADA59D;\">402C</td><td style=\"background-color:#988F86;\">403C</td><td style=\"background-color:#7C7369;\">404C</td><td style=\"background-color:#645A50;\">405C</td><td style=\"background-color:#CAC4C2;\">406C</td><td style=\"background-color:#A59997;\">408C</td><td style=\"background-color:#948683;\">409C</td><td style=\"background-color:#7B6E6A;\">410C</td></tr>\n",
       "<tr><td style=\"background-color:#62524E;\">411C</td><td style=\"background-color:#372B27;\">412C</td><td style=\"background-color:#C8C9C3;\">413C</td><td style=\"background-color:#B5B6B0;\">414C</td><td style=\"background-color:#9D9D96;\">415C</td><td style=\"background-color:#87887F;\">416C</td><td style=\"background-color:#6E6F64;\">417C</td><td style=\"background-color:#5A5B51;\">418C</td><td style=\"background-color:#1F211C;\">419C</td><td style=\"background-color:#CCCCCC;\">420C</td></tr>\n",
       "<tr><td style=\"background-color:#BABBBC;\">421C</td><td style=\"background-color:#A9AAAB;\">422C</td><td style=\"background-color:#939495;\">423C</td><td style=\"background-color:#767A7D;\">424C</td><td style=\"background-color:#56595C;\">425C</td><td style=\"background-color:#212424;\">426C</td><td style=\"background-color:#D2D6D9;\">427C</td><td style=\"background-color:#C3C8CD;\">428C</td><td style=\"background-color:#A8ADB4;\">429C</td><td style=\"background-color:#868F98;\">430C</td></tr>\n",
       "<tr><td style=\"background-color:#616A74;\">431C</td><td style=\"background-color:#414B56;\">432C</td><td style=\"background-color:#212930;\">433C</td><td style=\"background-color:#D3C9CE;\">434C</td><td style=\"background-color:#C8BAC0;\">435C</td><td style=\"background-color:#B7A6AD;\">436C</td><td style=\"background-color:#846E74;\">437C</td><td style=\"background-color:#513E3E;\">438C</td><td style=\"background-color:#443535;\">439C</td><td style=\"background-color:#392E2C;\">440C</td></tr>\n",
       "<tr><td style=\"background-color:#CBD1D4;\">441C</td><td style=\"background-color:#B3BCC0;\">442C</td><td style=\"background-color:#99A3A6;\">443C</td><td style=\"background-color:#7B858A;\">444C</td><td style=\"background-color:#4F5559;\">445C</td><td style=\"background-color:#3D4242;\">446C</td><td style=\"background-color:#323532;\">447C</td><td style=\"background-color:#5D4718;\">4485C</td><td style=\"background-color:#473E26;\">448C</td><td style=\"background-color:#836E2C;\">4495C</td></tr>\n",
       "<tr><td style=\"background-color:#4D4325;\">449C</td><td style=\"background-color:#9B8948;\">4505C</td><td style=\"background-color:#514826;\">450C</td><td style=\"background-color:#B5A570;\">4515C</td><td style=\"background-color:#9F9B74;\">451C</td><td style=\"background-color:#C5BA8E;\">4525C</td><td style=\"background-color:#B5B292;\">452C</td><td style=\"background-color:#D4CCAA;\">4535C</td><td style=\"background-color:#C8C5AC;\">453C</td><td style=\"background-color:#DED9C2;\">4545C</td></tr>\n",
       "<tr><td style=\"background-color:#D5D3BF;\">454C</td><td style=\"background-color:#655415;\">455C</td><td style=\"background-color:#977F09;\">456C</td><td style=\"background-color:#B29200;\">457C</td><td style=\"background-color:#DBCA67;\">458C</td><td style=\"background-color:#DFD27C;\">459C</td><td style=\"background-color:#E5DB97;\">460C</td><td style=\"background-color:#E7E3B5;\">461C</td><td style=\"background-color:#4E2614;\">4625C</td><td style=\"background-color:#563F23;\">462C</td></tr>\n",
       "<tr><td style=\"background-color:#905A33;\">4635C</td><td style=\"background-color:#6D4921;\">463C</td><td style=\"background-color:#B17F5C;\">4645C</td><td style=\"background-color:#855723;\">464C</td><td style=\"background-color:#C09477;\">4655C</td><td style=\"background-color:#B99C6B;\">465C</td><td style=\"background-color:#D1AE97;\">4665C</td><td style=\"background-color:#CAB388;\">466C</td><td style=\"background-color:#DDC2B0;\">4675C</td><td style=\"background-color:#D5C4A1;\">467C</td></tr>\n",
       "<tr><td style=\"background-color:#E4D2C5;\">4685C</td><td style=\"background-color:#E0D4BB;\">468C</td><td style=\"background-color:#532821;\">4695C</td><td style=\"background-color:#613418;\">469C</td><td style=\"background-color:#7F4C3E;\">4705C</td><td style=\"background-color:#9B4D1B;\">470C</td><td style=\"background-color:#9B6E5F;\">4715C</td><td style=\"background-color:#B75312;\">471C</td><td style=\"background-color:#B28D7F;\">4725C</td><td style=\"background-color:#E49969;\">472C</td></tr>\n",
       "<tr><td style=\"background-color:#C5AAA0;\">4735C</td><td style=\"background-color:#EDB996;\">473C</td><td style=\"background-color:#D4BEB6;\">4745C</td><td style=\"background-color:#EEC5A9;\">474C</td><td style=\"background-color:#DDCDC7;\">4755C</td><td style=\"background-color:#F0D0BB;\">475C</td><td style=\"background-color:#513127;\">476C</td><td style=\"background-color:#5E2F24;\">477C</td><td style=\"background-color:#723629;\">478C</td><td style=\"background-color:#AD806C;\">479C</td></tr>\n",
       "<tr><td style=\"background-color:#C8A99A;\">480C</td><td style=\"background-color:#D5BDB0;\">481C</td><td style=\"background-color:#DDCEC4;\">482C</td><td style=\"background-color:#6A2E22;\">483C</td><td style=\"background-color:#9F2D20;\">484C</td><td style=\"background-color:#DC241F;\">485C</td><td style=\"background-color:#EC9384;\">486C</td><td style=\"background-color:#ECAB9D;\">487C</td><td style=\"background-color:#ECBBAF;\">488C</td><td style=\"background-color:#EBCDC3;\">489C</td></tr>\n",
       "<tr><td style=\"background-color:#5A272A;\">490C</td><td style=\"background-color:#772B2F;\">491C</td><td style=\"background-color:#91353B;\">492C</td><td style=\"background-color:#E7A7B6;\">494C</td><td style=\"background-color:#EDB8C5;\">495C</td><td style=\"background-color:#EFC4CE;\">496C</td><td style=\"background-color:#441E1F;\">4975C</td><td style=\"background-color:#4E2A28;\">497C</td><td style=\"background-color:#854A50;\">4985C</td><td style=\"background-color:#68322E;\">498C</td></tr>\n",
       "<tr><td style=\"background-color:#A16971;\">4995C</td><td style=\"background-color:#763931;\">499C</td><td style=\"background-color:#B7848C;\">5005C</td><td style=\"background-color:#C88691;\">500C</td><td style=\"background-color:#D1A9B0;\">5015C</td><td style=\"background-color:#DEACB7;\">501C</td><td style=\"background-color:#DBBCC1;\">5025C</td><td style=\"background-color:#E5BFC7;\">502C</td><td style=\"background-color:#E3CBD0;\">5035C</td><td style=\"background-color:#E9CCD2;\">503C</td></tr>\n",
       "<tr><td style=\"background-color:#4E2029;\">504C</td><td style=\"background-color:#6E2639;\">505C</td><td style=\"background-color:#7E2B42;\">506C</td><td style=\"background-color:#D38DA6;\">507C</td><td style=\"background-color:#E2ABBF;\">508C</td><td style=\"background-color:#E7B9CA;\">509C</td><td style=\"background-color:#E9C2D1;\">510C</td><td style=\"background-color:#4B253E;\">5115C</td><td style=\"background-color:#60244E;\">511C</td><td style=\"background-color:#704165;\">5125C</td></tr>\n",
       "<tr><td style=\"background-color:#7E2271;\">512C</td><td style=\"background-color:#885E80;\">5135C</td><td style=\"background-color:#95288F;\">513C</td><td style=\"background-color:#A17E9A;\">5145C</td><td style=\"background-color:#D385C8;\">514C</td><td style=\"background-color:#C0A6BD;\">5155C</td><td style=\"background-color:#DFA5D6;\">515C</td><td style=\"background-color:#D6C5D3;\">5165C</td><td style=\"background-color:#E7BADF;\">516C</td><td style=\"background-color:#E0D5DE;\">5175C</td></tr>\n",
       "<tr><td style=\"background-color:#EBCAE3;\">517C</td><td style=\"background-color:#45293B;\">5185C</td><td style=\"background-color:#4B2A46;\">518C</td><td style=\"background-color:#5E3A51;\">5195C</td><td style=\"background-color:#5A2D5F;\">519C</td><td style=\"background-color:#8B687D;\">5205C</td><td style=\"background-color:#682F73;\">520C</td><td style=\"background-color:#B195A6;\">5215C</td><td style=\"background-color:#AD85BA;\">521C</td><td style=\"background-color:#C6B0BE;\">5225C</td></tr>\n",
       "<tr><td style=\"background-color:#BD9ECA;\">522C</td><td style=\"background-color:#D4C4CE;\">5235C</td><td style=\"background-color:#CBB2D5;\">523C</td><td style=\"background-color:#DFD4DB;\">5245C</td><td style=\"background-color:#DACCE1;\">524C</td><td style=\"background-color:#2A254B;\">5255C</td><td style=\"background-color:#51265A;\">525C</td><td style=\"background-color:#433B67;\">5265C</td><td style=\"background-color:#61207F;\">526C</td><td style=\"background-color:#57527E;\">5275C</td></tr>\n",
       "<tr><td style=\"background-color:#6E20A0;\">527C</td><td style=\"background-color:#8581A4;\">5285C</td><td style=\"background-color:#A774CD;\">528C</td><td style=\"background-color:#AAA7C1;\">5295C</td><td style=\"background-color:#C6A4E1;\">529C</td><td style=\"background-color:#C1BED1;\">5305C</td><td style=\"background-color:#CFB1E3;\">530C</td><td style=\"background-color:#D4D4E0;\">5315C</td><td style=\"background-color:#D7C4E7;\">531C</td><td style=\"background-color:#262A39;\">532C</td></tr>\n",
       "<tr><td style=\"background-color:#253355;\">533C</td><td style=\"background-color:#293F6F;\">534C</td><td style=\"background-color:#95A1C3;\">535C</td><td style=\"background-color:#A4B1CD;\">536C</td><td style=\"background-color:#BDC6DA;\">537C</td><td style=\"background-color:#D2D7E4;\">538C</td><td style=\"background-color:#02253A;\">5395C</td><td style=\"background-color:#002A46;\">539C</td><td style=\"background-color:#3E647E;\">5405C</td><td style=\"background-color:#002F5D;\">540C</td></tr>\n",
       "<tr><td style=\"background-color:#587993;\">5415C</td><td style=\"background-color:#003C79;\">541C</td><td style=\"background-color:#7C98AE;\">5425C</td><td style=\"background-color:#5998C9;\">542C</td><td style=\"background-color:#A5B8C9;\">5435C</td><td style=\"background-color:#93B9DC;\">543C</td><td style=\"background-color:#BCCAD6;\">5445C</td><td style=\"background-color:#B1CBE5;\">544C</td><td style=\"background-color:#CCD6E0;\">5455C</td><td style=\"background-color:#BFD3E6;\">545C</td></tr>\n",
       "<tr><td style=\"background-color:#002830;\">5463C</td><td style=\"background-color:#183533;\">5467C</td><td style=\"background-color:#003440;\">546C</td><td style=\"background-color:#00626E;\">5473C</td><td style=\"background-color:#3C5B59;\">5477C</td><td style=\"background-color:#003E51;\">547C</td><td style=\"background-color:#4F8D97;\">5483C</td><td style=\"background-color:#627D7C;\">5487C</td><td style=\"background-color:#004159;\">548C</td><td style=\"background-color:#81ADB5;\">5493C</td></tr>\n",
       "<tr><td style=\"background-color:#8DA09F;\">5497C</td><td style=\"background-color:#5B97B1;\">549C</td><td style=\"background-color:#A1C3C9;\">5503C</td><td style=\"background-color:#AAB8B9;\">5507C</td><td style=\"background-color:#85B0C6;\">550C</td><td style=\"background-color:#BED5D9;\">5513C</td><td style=\"background-color:#BFCBCC;\">5517C</td><td style=\"background-color:#9FC1D3;\">551C</td><td style=\"background-color:#CFDEE1;\">5523C</td><td style=\"background-color:#CCD4D4;\">5527C</td></tr>\n",
       "<tr><td style=\"background-color:#B9D0DC;\">552C</td><td style=\"background-color:#1B3930;\">5535C</td><td style=\"background-color:#214232;\">553C</td><td style=\"background-color:#4A6D62;\">5545C</td><td style=\"background-color:#24604A;\">554C</td><td style=\"background-color:#6E8D82;\">5555C</td><td style=\"background-color:#13694E;\">555C</td><td style=\"background-color:#8FA8A0;\">5565C</td><td style=\"background-color:#74A18E;\">556C</td><td style=\"background-color:#A9BDB6;\">5575C</td></tr>\n",
       "<tr><td style=\"background-color:#98BAAC;\">557C</td><td style=\"background-color:#C0CFCB;\">5585C</td><td style=\"background-color:#ACC7BD;\">558C</td><td style=\"background-color:#D3DEDB;\">5595C</td><td style=\"background-color:#C0D4CD;\">559C</td><td style=\"background-color:#193025;\">5605C</td><td style=\"background-color:#22483F;\">560C</td><td style=\"background-color:#5A7060;\">5615C</td><td style=\"background-color:#0F6259;\">561C</td><td style=\"background-color:#6C8072;\">5625C</td></tr>\n",
       "<tr><td style=\"background-color:#007770;\">562C</td><td style=\"background-color:#97A69B;\">5635C</td><td style=\"background-color:#72B8B4;\">563C</td><td style=\"background-color:#B1BCB5;\">5645C</td><td style=\"background-color:#98CCC9;\">564C</td><td style=\"background-color:#BDC5BF;\">5655C</td><td style=\"background-color:#B9DCDA;\">565C</td><td style=\"background-color:#CDD3CD;\">5665C</td><td style=\"background-color:#CDE3E2;\">566C</td><td style=\"background-color:#18453B;\">567C</td></tr>\n",
       "<tr><td style=\"background-color:#008478;\">569C</td><td style=\"background-color:#76C6BE;\">570C</td><td style=\"background-color:#9DD6CF;\">571C</td><td style=\"background-color:#B4DEDB;\">572C</td><td style=\"background-color:#C1E2DE;\">573C</td><td style=\"background-color:#3E4723;\">5743C</td><td style=\"background-color:#404616;\">5747C</td><td style=\"background-color:#404F24;\">574C</td><td style=\"background-color:#5E6639;\">5753C</td><td style=\"background-color:#6F732D;\">5757C</td></tr>\n",
       "<tr><td style=\"background-color:#56732E;\">575C</td><td style=\"background-color:#6E7649;\">5763C</td><td style=\"background-color:#8D9150;\">5767C</td><td style=\"background-color:#668E3C;\">576C</td><td style=\"background-color:#939871;\">5773C</td><td style=\"background-color:#A7AB74;\">5777C</td><td style=\"background-color:#B2C891;\">577C</td><td style=\"background-color:#ADB291;\">5783C</td><td style=\"background-color:#C1C49A;\">5787C</td><td style=\"background-color:#BDD0A0;\">578C</td></tr>\n",
       "<tr><td style=\"background-color:#BDC2A9;\">5793C</td><td style=\"background-color:#CED1B3;\">5797C</td><td style=\"background-color:#C5D5A9;\">579C</td><td style=\"background-color:#CED2BF;\">5803C</td><td style=\"background-color:#D9DCC5;\">5807C</td><td style=\"background-color:#CFDDBB;\">580C</td><td style=\"background-color:#4B4516;\">5815C</td><td style=\"background-color:#605A12;\">581C</td><td style=\"background-color:#7D762F;\">5825C</td><td style=\"background-color:#888600;\">582C</td></tr>\n",
       "<tr><td style=\"background-color:#9D9754;\">5835C</td><td style=\"background-color:#ABB400;\">583C</td><td style=\"background-color:#ADA86B;\">5845C</td><td style=\"background-color:#CBD34C;\">584C</td><td style=\"background-color:#C7C397;\">5855C</td><td style=\"background-color:#D8DB6F;\">585C</td><td style=\"background-color:#D3CFAC;\">5865C</td><td style=\"background-color:#DDE18A;\">586C</td><td style=\"background-color:#D9D7B9;\">5875C</td><td style=\"background-color:#E2E59F;\">587C</td></tr>\n",
       "<tr><td style=\"background-color:#EEEBB6;\">600C</td><td style=\"background-color:#EEEAA5;\">601C</td><td style=\"background-color:#EEE88D;\">602C</td><td style=\"background-color:#EDE25E;\">603C</td><td style=\"background-color:#EADB1B;\">604C</td><td style=\"background-color:#E0CA00;\">605C</td><td style=\"background-color:#D8BD00;\">606C</td><td style=\"background-color:#EBE9C3;\">607C</td><td style=\"background-color:#E9E6B4;\">608C</td><td style=\"background-color:#E7E29A;\">609C</td></tr>\n",
       "<tr><td style=\"background-color:#E2D973;\">610C</td><td style=\"background-color:#D8CC46;\">611C</td><td style=\"background-color:#C4B300;\">612C</td><td style=\"background-color:#B39D00;\">613C</td><td style=\"background-color:#E3E1C1;\">614C</td><td style=\"background-color:#DDDBB1;\">615C</td><td style=\"background-color:#D7D29D;\">616C</td><td style=\"background-color:#C9C37F;\">617C</td><td style=\"background-color:#B4A851;\">618C</td><td style=\"background-color:#9C8E2A;\">619C</td></tr>\n",
       "<tr><td style=\"background-color:#887811;\">620C</td><td style=\"background-color:#D2DFDC;\">621C</td><td style=\"background-color:#BDD2CC;\">622C</td><td style=\"background-color:#9EBCB3;\">623C</td><td style=\"background-color:#78A095;\">624C</td><td style=\"background-color:#518274;\">625C</td><td style=\"background-color:#1F5647;\">626C</td><td style=\"background-color:#032D23;\">627C</td><td style=\"background-color:#C8E2E8;\">628C</td><td style=\"background-color:#AADAE5;\">629C</td></tr>\n",
       "<tr><td style=\"background-color:#82CBDD;\">630C</td><td style=\"background-color:#48B8D2;\">631C</td><td style=\"background-color:#009EC0;\">632C</td><td style=\"background-color:#007CA4;\">633C</td><td style=\"background-color:#00628C;\">634C</td><td style=\"background-color:#ADDDEB;\">635C</td><td style=\"background-color:#8DD4E9;\">636C</td><td style=\"background-color:#5BC8E7;\">637C</td><td style=\"background-color:#00B2DE;\">638C</td><td style=\"background-color:#009ACF;\">639C</td></tr>\n",
       "<tr><td style=\"background-color:#0085C2;\">640C</td><td style=\"background-color:#0070B2;\">641C</td><td style=\"background-color:#CED9E7;\">642C</td><td style=\"background-color:#C5D2E3;\">643C</td><td style=\"background-color:#97B1D0;\">644C</td><td style=\"background-color:#7498C0;\">645C</td><td style=\"background-color:#5781AE;\">646C</td><td style=\"background-color:#11568C;\">647C</td><td style=\"background-color:#002B5F;\">648C</td><td style=\"background-color:#D4DCE8;\">649C</td></tr>\n",
       "<tr><td style=\"background-color:#C2CDE0;\">650C</td><td style=\"background-color:#99AECE;\">651C</td><td style=\"background-color:#6F8DB9;\">652C</td><td style=\"background-color:#2A568F;\">653C</td><td style=\"background-color:#003066;\">654C</td><td style=\"background-color:#002252;\">655C</td><td style=\"background-color:#D4DDED;\">656C</td><td style=\"background-color:#BFD0EA;\">657C</td><td style=\"background-color:#A1BBE4;\">658C</td><td style=\"background-color:#6E96D5;\">659C</td></tr>\n",
       "<tr><td style=\"background-color:#296DC1;\">660C</td><td style=\"background-color:#003596;\">661C</td><td style=\"background-color:#002280;\">662C</td><td style=\"background-color:#DED8E6;\">663C</td><td style=\"background-color:#D7D0E0;\">664C</td><td style=\"background-color:#C5BBD3;\">665C</td><td style=\"background-color:#A392B7;\">666C</td><td style=\"background-color:#7C6495;\">667C</td><td style=\"background-color:#624A7E;\">668C</td><td style=\"background-color:#432C5F;\">669C</td></tr>\n",
       "<tr><td style=\"background-color:#EAD4E4;\">670C</td><td style=\"background-color:#E6C1DB;\">671C</td><td style=\"background-color:#E1A7CF;\">672C</td><td style=\"background-color:#DA89BE;\">673C</td><td style=\"background-color:#CE62A4;\">674C</td><td style=\"background-color:#B62A79;\">675C</td><td style=\"background-color:#A30059;\">676C</td><td style=\"background-color:#E5D1DF;\">677C</td><td style=\"background-color:#E2C9DA;\">678C</td><td style=\"background-color:#DEBDD4;\">679C</td></tr>\n",
       "<tr><td style=\"background-color:#CB97B7;\">680C</td><td style=\"background-color:#B8749E;\">681C</td><td style=\"background-color:#9C4878;\">682C</td><td style=\"background-color:#7C2250;\">683C</td><td style=\"background-color:#E5CAD9;\">684C</td><td style=\"background-color:#E1BCD0;\">685C</td><td style=\"background-color:#DBAEC6;\">686C</td><td style=\"background-color:#C686A9;\">687C</td><td style=\"background-color:#B46B93;\">688C</td><td style=\"background-color:#95416F;\">689C</td></tr>\n",
       "<tr><td style=\"background-color:#6D2348;\">690C</td><td style=\"background-color:#E7CDD2;\">691C</td><td style=\"background-color:#E2C1C8;\">692C</td><td style=\"background-color:#D9A7B1;\">693C</td><td style=\"background-color:#CA909C;\">694C</td><td style=\"background-color:#B06876;\">695C</td><td style=\"background-color:#944554;\">696C</td><td style=\"background-color:#81333D;\">697C</td><td style=\"background-color:#EDCFD7;\">698C</td><td style=\"background-color:#F0C2CD;\">699C</td></tr>\n",
       "<tr><td style=\"background-color:#ECA9B9;\">700C</td><td style=\"background-color:#E58DA2;\">701C</td><td style=\"background-color:#D5647C;\">702C</td><td style=\"background-color:#BA394E;\">703C</td><td style=\"background-color:#A22630;\">704C</td><td style=\"background-color:#F2D6DE;\">705C</td><td style=\"background-color:#F5C7D4;\">706C</td><td style=\"background-color:#F5B0C1;\">707C</td><td style=\"background-color:#F590A6;\">708C</td><td style=\"background-color:#EF6782;\">709C</td></tr>\n",
       "<tr><td style=\"background-color:#E54661;\">710C</td><td style=\"background-color:#D32939;\">711C</td><td style=\"background-color:#FACDAE;\">712C</td><td style=\"background-color:#FBC399;\">713C</td><td style=\"background-color:#FDB179;\">714C</td><td style=\"background-color:#F9964A;\">715C</td><td style=\"background-color:#F17C0E;\">716C</td><td style=\"background-color:#DE6100;\">717C</td><td style=\"background-color:#CF5200;\">718C</td><td style=\"background-color:#EFCFB8;\">719C</td></tr>\n",
       "<tr><td style=\"background-color:#ECC3A5;\">720C</td><td style=\"background-color:#E5AE86;\">721C</td><td style=\"background-color:#D58F59;\">722C</td><td style=\"background-color:#C0722F;\">723C</td><td style=\"background-color:#9A4B00;\">724C</td><td style=\"background-color:#843B00;\">725C</td><td style=\"background-color:#E8CEBB;\">726C</td><td style=\"background-color:#E1BEA4;\">727C</td><td style=\"background-color:#D5AA88;\">728C</td><td style=\"background-color:#C38E63;\">729C</td></tr>\n",
       "<tr><td style=\"background-color:#AC703D;\">730C</td><td style=\"background-color:#793F0D;\">731C</td><td style=\"background-color:#64300A;\">732C</td><td style=\"background-color:#00A7D8;\">801C</td><td style=\"background-color:#5BDD45;\">802C</td><td style=\"background-color:#FFE805;\">803C</td><td style=\"background-color:#FFA243;\">804C</td><td style=\"background-color:#FF585E;\">805C</td><td style=\"background-color:#FF1CAC;\">806C</td><td style=\"background-color:#D708B2;\">807C</td></tr>\n",
       "<tr><td style=\"background-color:#00AE97;\">808C</td><td style=\"background-color:#E1E400;\">809C</td><td style=\"background-color:#FFCE09;\">810C</td><td style=\"background-color:#FF7750;\">811C</td><td style=\"background-color:#FF3485;\">812C</td><td style=\"background-color:#EA12AF;\">813C</td><td style=\"background-color:#7E60CE;\">814C</td></tr>\n",
       "</table>\n"
      ],
      "text/plain": [
       "Table(len=91,titles=[],data=[[100C, 101C, 102C, 103C, 104C, 105C, 106C, 107C, 108C, 109C], [110C, 111C, 112C, 113C, 114C, 115C, 116C, 117C, 118C, 119C], [1205C, 120C, 1215C, 121C, 1225C, 122C, 1235C, 123C, 1245C, 124C], [1255C, 125C, 1265C, 126C, 127C, 128C, 129C, 130C, 131C, 132C], [133C, 1345C, 134C, 1355C, 135C, 1365C, 136C, 1375C, 137C, 1385C]])"
      ]
     },
     "execution_count": 3,
     "metadata": {},
     "output_type": "execute_result"
    }
   ],
   "source": [
    "from Goulib.table import Table, Cell\n",
    "from Goulib.itertools2 import reshape\n",
    "\n",
    "t=[Cell(name,style={'background-color':pantone[name]}) for name in sorted(pantone)]\n",
    "Table(reshape(t,(0,10)))"
   ]
  }
 ],
 "metadata": {
  "kernelspec": {
   "display_name": "Python 2",
   "language": "python",
   "name": "python2"
  },
  "language_info": {
   "codemirror_mode": {
    "name": "ipython",
    "version": 2
   },
   "file_extension": ".py",
   "mimetype": "text/x-python",
   "name": "python",
   "nbconvert_exporter": "python",
   "pygments_lexer": "ipython2",
   "version": "2.7.11"
  }
 },
 "nbformat": 4,
 "nbformat_minor": 0
}
