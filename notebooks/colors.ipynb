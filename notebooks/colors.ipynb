{
 "cells": [
  {
   "cell_type": "markdown",
   "metadata": {},
   "source": [
    "# [Goulib](../notebook.ipynb).colors\n",
    "very simple (RGB) color management\n"
   ]
  },
  {
   "cell_type": "code",
   "execution_count": 1,
   "metadata": {
    "collapsed": false
   },
   "outputs": [
    {
     "data": {
      "application/javascript": [
       "IPython.OutputArea.auto_scroll_threshold = 9999; // to avoid a scrollbar in Pantone table below"
      ],
      "text/plain": [
       "<IPython.core.display.Javascript object>"
      ]
     },
     "metadata": {},
     "output_type": "display_data"
    }
   ],
   "source": [
    "%%javascript\n",
    "IPython.OutputArea.auto_scroll_threshold = 9999; // to avoid a scrollbar in Pantone table below"
   ]
  },
  {
   "cell_type": "code",
   "execution_count": 2,
   "metadata": {
    "collapsed": false
   },
   "outputs": [],
   "source": [
    "from Goulib.notebook import *\n",
    "from Goulib.colors import *"
   ]
  },
  {
   "cell_type": "code",
   "execution_count": 3,
   "metadata": {
    "collapsed": false
   },
   "outputs": [
    {
     "data": {
      "text/html": [
       "#0000ff blue"
      ],
      "text/plain": [
       "<IPython.core.display.HTML object>"
      ]
     },
     "metadata": {},
     "output_type": "display_data"
    }
   ],
   "source": [
    "c=color['blue'] # color is a dict of RGB #hex colors defined in Matplotlib indexed by their name\n",
    "h(c, color_lookup[c]) # reversed dict to retrieve color name by hex string"
   ]
  },
  {
   "cell_type": "code",
   "execution_count": 4,
   "metadata": {
    "collapsed": false
   },
   "outputs": [
    {
     "data": {
      "text/html": [
       "<div style=\"color:#0000ff\">blue</div>"
      ],
      "text/plain": [
       "Color('blue')"
      ]
     },
     "execution_count": 4,
     "metadata": {},
     "output_type": "execute_result"
    }
   ],
   "source": [
    "red=Color('red') #Color objects can be init'ed by name,\n",
    "green=Color('#00ff00') # by RGB hex string,\n",
    "blue=Color((0,0,1)) #or by RGB triplet\n",
    "blue # Color objects have an HTML representation"
   ]
  },
  {
   "cell_type": "code",
   "execution_count": 5,
   "metadata": {
    "collapsed": false
   },
   "outputs": [
    {
     "data": {
      "text/html": [
       "magenta #ff00ff 1.0 0.0 1.0"
      ],
      "text/plain": [
       "<IPython.core.display.HTML object>"
      ]
     },
     "metadata": {},
     "output_type": "display_data"
    },
    {
     "data": {
      "text/html": [
       "<div style=\"color:#00ffff\">cyan</div> <div style=\"color:#ff00ff\">magenta</div> <div style=\"color:#ffff00\">yellow</div>"
      ],
      "text/plain": [
       "<IPython.core.display.HTML object>"
      ]
     },
     "metadata": {},
     "output_type": "display_data"
    }
   ],
   "source": [
    "#colors can be added\n",
    "cyan=blue+green\n",
    "magenta=blue+red\n",
    "yellow=red+green\n",
    "\n",
    "h(magenta.name, magenta.hex, magenta.rgb) # see ? the color name of the sum is correct too !\n",
    "h(cyan, magenta, yellow)"
   ]
  },
  {
   "cell_type": "code",
   "execution_count": 6,
   "metadata": {
    "collapsed": false
   },
   "outputs": [
    {
     "data": {
      "text/html": [
       "<div style=\"color:#000000\">black</div>"
      ],
      "text/plain": [
       "Color('black')"
      ]
     },
     "execution_count": 6,
     "metadata": {},
     "output_type": "execute_result"
    }
   ],
   "source": [
    "magenta-cyan-yellow #and colors can be substracted too"
   ]
  },
  {
   "cell_type": "code",
   "execution_count": 7,
   "metadata": {
    "collapsed": false
   },
   "outputs": [
    {
     "data": {
      "text/plain": [
       "[0.0, 0, 0.0]"
      ]
     },
     "execution_count": 7,
     "metadata": {},
     "output_type": "execute_result"
    }
   ],
   "source": [
    "Color(magenta-cyan-yellow).rgb"
   ]
  },
  {
   "cell_type": "code",
   "execution_count": 8,
   "metadata": {
    "collapsed": false
   },
   "outputs": [
    {
     "data": {
      "text/html": [
       "teal #008080 0 0.501960784314 0.501960784314"
      ],
      "text/plain": [
       "<IPython.core.display.HTML object>"
      ]
     },
     "metadata": {},
     "output_type": "display_data"
    },
    {
     "data": {
      "text/html": [
       "<div style=\"color:#008080\">teal</div>"
      ],
      "text/plain": [
       "Color('teal')"
      ]
     },
     "execution_count": 8,
     "metadata": {},
     "output_type": "execute_result"
    }
   ],
   "source": [
    "c= Color('gray')-red # colors can be substracted too. RGB values are bounded\n",
    "h(c.name, c.hex, c.rgb) # see ? the color name of the sum is correct too !\n",
    "c"
   ]
  },
  {
   "cell_type": "code",
   "execution_count": 9,
   "metadata": {
    "collapsed": false
   },
   "outputs": [
    {
     "data": {
      "text/html": [
       "<div style=\"color:#3f1231\">~darkslategray</div> <div style=\"color:#2cbb7c\">~mediumseagreen</div> <div style=\"color:#efab25\">~goldenrod</div> <div style=\"color:#5258ac\">~slateblue</div> <div style=\"color:#c9b82a\">~goldenrod</div> <div style=\"color:#a8aa26\">~yellowgreen</div> <div style=\"color:#462f95\">~darkslateblue</div> <div style=\"color:#1a9ddc\">~dodgerblue</div> <div style=\"color:#896ee1\">~mediumpurple</div> <div style=\"color:#bd663c\">~peru</div>"
      ],
      "text/plain": [
       "<IPython.core.display.HTML object>"
      ]
     },
     "metadata": {},
     "output_type": "display_data"
    }
   ],
   "source": [
    "from random import random\n",
    "r=[Color((random(),random(),random())) for _ in range(10)]\n",
    "h(r) # unknown colors recieve name of the nearest known color with a tile before"
   ]
  },
  {
   "cell_type": "code",
   "execution_count": 10,
   "metadata": {
    "collapsed": false
   },
   "outputs": [
    {
     "data": {
      "text/html": [
       "<div style=\"color:#ff0000\">red</div> <div style=\"color:#ffff00\">yellow</div> <div style=\"color:#00ff00\">lime</div> <div style=\"color:#00ffff\">cyan</div> <div style=\"color:#0000ff\">blue</div>"
      ],
      "text/plain": [
       "<IPython.core.display.HTML object>"
      ]
     },
     "metadata": {},
     "output_type": "display_data"
    }
   ],
   "source": [
    "h(map(Color,color_range(5,'red','blue')))"
   ]
  },
  {
   "cell_type": "markdown",
   "metadata": {},
   "source": [
    "## Pantone colors\n",
    "colors from [Pantone](http://www.pantone.com/) are handled as RGB for now..."
   ]
  },
  {
   "cell_type": "code",
   "execution_count": 15,
   "metadata": {
    "collapsed": false
   },
   "outputs": [
    {
     "data": {
      "text/html": [
       "<table><tr><td style=\"background-color:#f6e761;\">106C ~khaki</td><td style=\"background-color:#f5ec62;\">101C ~khaki</td><td style=\"background-color:#fedb00;\">108C ~gold</td><td style=\"background-color:#817214;\">105C ~olive</td><td style=\"background-color:#f3ed86;\">100C ~khaki</td></tr>\n",
       "<tr><td style=\"background-color:#ac9600;\">104C ~darkgoldenrod</td><td style=\"background-color:#caad00;\">103C ~goldenrod</td><td style=\"background-color:#ffd100;\">109C ~gold</td><td style=\"background-color:#fae22f;\">107C ~gold</td><td style=\"background-color:#fae600;\">102C ~gold</td></tr>\n",
       "<tr><td style=\"background-color:#998000;\">112C ~olive</td><td style=\"background-color:#ce9d00;\">117C ~darkgoldenrod</td><td style=\"background-color:#8a761a;\">119C ~olive</td><td style=\"background-color:#fae15a;\">113C ~khaki</td><td style=\"background-color:#fae051;\">114C ~khaki</td></tr>\n",
       "<tr><td style=\"background-color:#dbae00;\">110C ~goldenrod</td><td style=\"background-color:#fbde4a;\">115C ~sandybrown</td><td style=\"background-color:#b38a00;\">118C ~darkgoldenrod</td><td style=\"background-color:#af8f00;\">111C ~darkgoldenrod</td><td style=\"background-color:#ffce00;\">116C ~gold</td></tr>\n",
       "<tr><td style=\"background-color:#ebab00;\">124C ~orange</td><td style=\"background-color:#ffc726;\">123C ~gold</td><td style=\"background-color:#f2d65e;\">128C ~khaki</td><td style=\"background-color:#efdf85;\">127C ~khaki</td><td style=\"background-color:#fdd44f;\">122C ~sandybrown</td></tr>\n",
       "<tr><td style=\"background-color:#a17c00;\">126C ~darkgoldenrod</td><td style=\"background-color:#fbdb6e;\">121C ~khaki</td><td style=\"background-color:#bb8900;\">125C ~darkgoldenrod</td><td style=\"background-color:#f1cd44;\">129C ~sandybrown</td><td style=\"background-color:#f9df79;\">120C ~khaki</td></tr>\n",
       "<tr><td style=\"background-color:#715913;\">133C ~saddlebrown</td><td style=\"background-color:#ff9f00;\">137C ~orange</td><td style=\"background-color:#f1ab00;\">130C ~orange</td><td style=\"background-color:#f8d583;\">134C ~khaki</td><td style=\"background-color:#e47f00;\">138C ~darkorange</td></tr>\n",
       "<tr><td style=\"background-color:#d49100;\">131C ~darkgoldenrod</td><td style=\"background-color:#fec85a;\">135C ~sandybrown</td><td style=\"background-color:#b67100;\">139C ~darkgoldenrod</td><td style=\"background-color:#a67a00;\">132C ~darkgoldenrod</td><td style=\"background-color:#ffbc3a;\">136C ~sandybrown</td></tr>\n",
       "<tr><td style=\"background-color:#fec688;\">149C ~burlywood</td><td style=\"background-color:#7a560f;\">140C ~saddlebrown</td><td style=\"background-color:#715821;\">147C ~saddlebrown</td><td style=\"background-color:#efaa23;\">143C ~goldenrod</td><td style=\"background-color:#fbd09d;\">148C ~navajowhite</td></tr>\n",
       "<tr><td style=\"background-color:#9f6000;\">146C ~saddlebrown</td><td style=\"background-color:#cf7600;\">145C ~darkgoldenrod</td><td style=\"background-color:#f1bb46;\">142C ~sandybrown</td><td style=\"background-color:#efc868;\">141C ~sandybrown</td><td style=\"background-color:#ed8000;\">144C ~darkorange</td></tr>\n",
       "<tr><td style=\"background-color:#c06600;\">153C ~darkgoldenrod</td><td style=\"background-color:#ed9b4f;\">157C ~sandybrown</td><td style=\"background-color:#ffa94f;\">150C ~sandybrown</td><td style=\"background-color:#995409;\">154C ~saddlebrown</td><td style=\"background-color:#ff7300;\">151C ~darkorange</td></tr>\n",
       "<tr><td style=\"background-color:#e96b10;\">158C ~chocolate</td><td style=\"background-color:#ecd6af;\">155C ~wheat</td><td style=\"background-color:#e76f00;\">152C ~chocolate</td><td style=\"background-color:#cd5806;\">159C ~chocolate</td><td style=\"background-color:#efc18a;\">156C ~burlywood</td></tr>\n",
       "<tr><td style=\"background-color:#e55300;\">166C ~orangered</td><td style=\"background-color:#fdc3aa;\">162C ~lightpink</td><td style=\"background-color:#ffb6b1;\">169C ~lightpink</td><td style=\"background-color:#ff5f00;\">165C ~orangered</td><td style=\"background-color:#613517;\">161C ~saddlebrown</td></tr>\n",
       "<tr><td style=\"background-color:#6f3014;\">168C ~saddlebrown</td><td style=\"background-color:#ff7e43;\">164C ~coral</td><td style=\"background-color:#a24e12;\">160C ~saddlebrown</td><td style=\"background-color:#c2510f;\">167C ~chocolate</td><td style=\"background-color:#ff9c71;\">163C ~lightsalmon</td></tr>\n",
       "<tr><td style=\"background-color:#ff897b;\">170C ~salmon</td><td style=\"background-color:#e23828;\">179C ~crimson</td><td style=\"background-color:#ff6141;\">171C ~tomato</td><td style=\"background-color:#ffacb9;\">176C ~lightpink</td><td style=\"background-color:#703222;\">175C ~saddlebrown</td></tr>\n",
       "<tr><td style=\"background-color:#fd4703;\">172C ~orangered</td><td style=\"background-color:#ff818c;\">177C ~lightcoral</td><td style=\"background-color:#ff5b60;\">178C ~tomato</td><td style=\"background-color:#9a3416;\">174C ~saddlebrown</td><td style=\"background-color:#d84519;\">173C ~chocolate</td></tr>\n",
       "<tr><td style=\"background-color:#f85d7e;\">184C ~lightcoral</td><td style=\"background-color:#7c2230;\">188C ~brown</td><td style=\"background-color:#fc8da9;\">183C ~hotpink</td><td style=\"background-color:#b31b34;\">187C ~firebrick</td><td style=\"background-color:#f8b8cb;\">182C ~pink</td></tr>\n",
       "<tr><td style=\"background-color:#d21034;\">186C ~crimson</td><td style=\"background-color:#792720;\">181C ~saddlebrown</td><td style=\"background-color:#ea0437;\">185C ~crimson</td><td style=\"background-color:#c0362c;\">180C ~firebrick</td><td style=\"background-color:#f8a1be;\">189C ~lightpink</td></tr>\n",
       "<tr><td style=\"background-color:#9c1e3d;\">194C ~brown</td><td style=\"background-color:#db0c41;\">199C ~crimson</td><td style=\"background-color:#f8779e;\">190C ~hotpink</td><td style=\"background-color:#f23f72;\">191C ~indianred</td><td style=\"background-color:#ebc6d3;\">196C ~thistle</td></tr>\n",
       "<tr><td style=\"background-color:#e90649;\">192C ~crimson</td><td style=\"background-color:#eb9bb2;\">197C ~lightpink</td><td style=\"background-color:#c30c3e;\">193C ~crimson</td><td style=\"background-color:#e44d6f;\">198C ~indianred</td><td style=\"background-color:#e87bac;\">204C ~hotpink</td></tr>\n",
       "<tr><td style=\"background-color:#902147;\">208C ~brown</td><td style=\"background-color:#9e1b34;\">201C ~brown</td><td style=\"background-color:#892034;\">202C ~brown</td><td style=\"background-color:#e34585;\">205C ~palevioletred</td><td style=\"background-color:#d7004d;\">206C ~crimson</td></tr>\n",
       "<tr><td style=\"background-color:#752641;\">209C ~brown</td><td style=\"background-color:#ebadcd;\">203C ~plum</td><td style=\"background-color:#b10042;\">207C ~firebrick</td><td style=\"background-color:#c10435;\">200C ~crimson</td><td style=\"background-color:#7a1d42;\">216C ~brown</td></tr>\n",
       "<tr><td style=\"background-color:#f34e9a;\">212C ~hotpink</td><td style=\"background-color:#aa1054;\">215C ~brown</td><td style=\"background-color:#f97db8;\">211C ~hotpink</td><td style=\"background-color:#d00063;\">214C ~mediumvioletred</td><td style=\"background-color:#fa9fcc;\">210C ~lightpink</td></tr>\n",
       "<tr><td style=\"background-color:#e0218a;\">219C ~mediumvioletred</td><td style=\"background-color:#ecbbdd;\">217C ~thistle</td><td style=\"background-color:#e86fb8;\">218C ~hotpink</td><td style=\"background-color:#e61577;\">213C ~mediumvioletred</td><td style=\"background-color:#d60077;\">226C ~mediumvioletred</td></tr>\n",
       "<tr><td style=\"background-color:#6c193f;\">222C ~brown</td><td style=\"background-color:#ae005f;\">227C ~mediumvioletred</td><td style=\"background-color:#8a0753;\">228C ~purple</td><td style=\"background-color:#f293d1;\">223C ~plum</td><td style=\"background-color:#ef6abf;\">224C ~hotpink</td></tr>\n",
       "<tr><td style=\"background-color:#ae0055;\">220C ~crimson</td><td style=\"background-color:#6a1d44;\">229C ~brown</td><td style=\"background-color:#e5239d;\">225C ~deeppink</td><td style=\"background-color:#96004b;\">221C ~brown</td><td style=\"background-color:#f575c9;\">231C ~hotpink</td></tr>\n",
       "<tr><td style=\"background-color:#e653bc;\">238C ~hotpink</td><td style=\"background-color:#a6006b;\">234C ~darkmagenta</td><td style=\"background-color:#ee86d3;\">237C ~violet</td><td style=\"background-color:#f7a7db;\">230C ~plum</td><td style=\"background-color:#e032af;\">239C ~deeppink</td></tr>\n",
       "<tr><td style=\"background-color:#c90081;\">233C ~mediumvioletred</td><td style=\"background-color:#f2b0df;\">236C ~plum</td><td style=\"background-color:#ef40b0;\">232C ~hotpink</td><td style=\"background-color:#890857;\">235C ~purple</td><td style=\"background-color:#e6a2e0;\">244C ~plum</td></tr>\n",
       "<tr><td style=\"background-color:#9e0389;\">248C ~darkmagenta</td><td style=\"background-color:#c41e99;\">240C ~mediumvioletred</td><td style=\"background-color:#df81d6;\">245C ~orchid</td><td style=\"background-color:#ac0481;\">241C ~mediumvioletred</td><td style=\"background-color:#c70bac;\">246C ~mediumvioletred</td></tr>\n",
       "<tr><td style=\"background-color:#7a1a57;\">242C ~purple</td><td style=\"background-color:#7b2266;\">249C ~purple</td><td style=\"background-color:#b3009d;\">247C ~mediumvioletred</td><td style=\"background-color:#e8b7e5;\">243C ~thistle</td><td style=\"background-color:#962399;\">254C ~darkmagenta</td></tr>\n",
       "<tr><td style=\"background-color:#a91bb0;\">253C ~darkorchid</td><td style=\"background-color:#cba4d4;\">257C ~plum</td><td style=\"background-color:#6c1b72;\">259C ~purple</td><td style=\"background-color:#ca65d1;\">252C ~orchid</td><td style=\"background-color:#d99ce1;\">251C ~plum</td></tr>\n",
       "<tr><td style=\"background-color:#92499e;\">258C ~darkorchid</td><td style=\"background-color:#d9bfe0;\">256C ~thistle</td><td style=\"background-color:#70266c;\">255C ~purple</td><td style=\"background-color:#e3c0e6;\">250C ~thistle</td><td style=\"background-color:#4a217e;\">268C ~darkslateblue</td></tr>\n",
       "<tr><td style=\"background-color:#591e55;\">261C ~indigo</td><td style=\"background-color:#8d65d2;\">265C ~mediumpurple</td><td style=\"background-color:#452663;\">269C ~darkslateblue</td><td style=\"background-color:#4f2248;\">262C ~darkslategray</td><td style=\"background-color:#6732ba;\">266C ~slateblue</td></tr>\n",
       "<tr><td style=\"background-color:#d8cbeb;\">263C ~thistle</td><td style=\"background-color:#4f1f91;\">267C ~darkslateblue</td><td style=\"background-color:#5f1d5f;\">260C ~indigo</td><td style=\"background-color:#bca8e6;\">264C ~lightsteelblue</td><td style=\"background-color:#241a44;\">276C ~midnightblue</td></tr>\n",
       "<tr><td style=\"background-color:#1d1157;\">275C ~midnightblue</td><td style=\"background-color:#4189dd;\">279C ~royalblue</td><td style=\"background-color:#adacdc;\">270C ~lightsteelblue</td><td style=\"background-color:#211265;\">274C ~midnightblue</td><td style=\"background-color:#25177a;\">273C ~midnightblue</td></tr>\n",
       "<tr><td style=\"background-color:#7973c2;\">272C ~slateblue</td><td style=\"background-color:#9490d2;\">271C ~mediumpurple</td><td style=\"background-color:#8cb4e8;\">278C ~skyblue</td><td style=\"background-color:#a9c7ec;\">277C ~lightsteelblue</td><td style=\"background-color:#0077d4;\">285C ~dodgerblue</td></tr>\n",
       "<tr><td style=\"background-color:#00204e;\">282C ~midnightblue</td><td style=\"background-color:#0035ad;\">286C ~mediumblue</td><td style=\"background-color:#93bfeb;\">283C ~skyblue</td><td style=\"background-color:#003082;\">288C ~midnightblue</td><td style=\"background-color:#003798;\">287C ~midnightblue</td></tr>\n",
       "<tr><td style=\"background-color:#00234c;\">289C ~midnightblue</td><td style=\"background-color:#00267f;\">280C ~midnightblue</td><td style=\"background-color:#6cabe7;\">284C ~cornflowerblue</td><td style=\"background-color:#002569;\">281C ~midnightblue</td><td style=\"background-color:#a4ceec;\">291C ~lightblue</td></tr>\n",
       "<tr><td style=\"background-color:#42b4e6;\">298C ~mediumturquoise</td><td style=\"background-color:#003580;\">294C ~midnightblue</td><td style=\"background-color:#bed9ed;\">290C ~powderblue</td><td style=\"background-color:#78c7eb;\">297C ~skyblue</td><td style=\"background-color:#0047b6;\">293C ~mediumblue</td></tr>\n",
       "<tr><td style=\"background-color:#00a0e2;\">299C ~deepskyblue</td><td style=\"background-color:#002740;\">296C ~midnightblue</td><td style=\"background-color:#002d62;\">295C ~midnightblue</td><td style=\"background-color:#6ab2e7;\">292C ~cornflowerblue</td><td style=\"background-color:#003947;\">309C ~darkslategray</td></tr>\n",
       "<tr><td style=\"background-color:#00436e;\">302C ~midnightblue</td><td style=\"background-color:#00b5e6;\">306C ~deepskyblue</td><td style=\"background-color:#00529b;\">301C ~teal</td><td style=\"background-color:#005883;\">308C ~teal</td><td style=\"background-color:#53caeb;\">305C ~mediumturquoise</td></tr>\n",
       "<tr><td style=\"background-color:#00344d;\">303C ~midnightblue</td><td style=\"background-color:#0067c6;\">300C ~darkcyan</td><td style=\"background-color:#a2dbeb;\">304C ~lightblue</td><td style=\"background-color:#0070b2;\">307C ~darkcyan</td><td style=\"background-color:#007fac;\">314C ~darkcyan</td></tr>\n",
       "<tr><td style=\"background-color:#00c2e3;\">311C ~darkturquoise</td><td style=\"background-color:#006685;\">315C ~teal</td><td style=\"background-color:#00a7d4;\">312C ~darkturquoise</td><td style=\"background-color:#004650;\">316C ~darkslategray</td><td style=\"background-color:#8edbe5;\">318C ~skyblue</td></tr>\n",
       "<tr><td style=\"background-color:#0092c7;\">313C ~lightseagreen</td><td style=\"background-color:#bfe5ea;\">317C ~powderblue</td><td style=\"background-color:#36ccda;\">319C ~mediumturquoise</td><td style=\"background-color:#66cfe6;\">310C ~skyblue</td><td style=\"background-color:#47c7c7;\">325C ~mediumturquoise</td></tr>\n",
       "<tr><td style=\"background-color:#0097ac;\">320C ~darkcyan</td><td style=\"background-color:#00625a;\">329C ~teal</td><td style=\"background-color:#98d9db;\">324C ~lightblue</td><td style=\"background-color:#007168;\">328C ~teal</td><td style=\"background-color:#006068;\">323C ~teal</td></tr>\n",
       "<tr><td style=\"background-color:#008579;\">327C ~teal</td><td style=\"background-color:#006f7a;\">322C ~teal</td><td style=\"background-color:#00afad;\">326C ~lightseagreen</td><td style=\"background-color:#008193;\">321C ~darkcyan</td><td style=\"background-color:#43d9c7;\">333C ~mediumturquoise</td></tr>\n",
       "<tr><td style=\"background-color:#76d1bd;\">338C ~mediumaquamarine</td><td style=\"background-color:#00b08b;\">339C ~darkcyan</td><td style=\"background-color:#00524d;\">330C ~darkslategray</td><td style=\"background-color:#009878;\">334C ~darkcyan</td><td style=\"background-color:#007b63;\">335C ~teal</td></tr>\n",
       "<tr><td style=\"background-color:#b2e7df;\">331C ~powderblue</td><td style=\"background-color:#006651;\">336C ~darkslategray</td><td style=\"background-color:#9fe4db;\">332C ~powderblue</td><td style=\"background-color:#94d8c8;\">337C ~skyblue</td><td style=\"background-color:#007856;\">341C ~teal</td></tr>\n",
       "<tr><td style=\"background-color:#a6dec1;\">344C ~lightblue</td><td style=\"background-color:#00533e;\">343C ~darkslategray</td><td style=\"background-color:#009460;\">340C ~teal</td><td style=\"background-color:#006233;\">349C ~darkgreen</td><td style=\"background-color:#009543;\">347C ~forestgreen</td></tr>\n",
       "<tr><td style=\"background-color:#007e3a;\">348C ~forestgreen</td><td style=\"background-color:#5ec998;\">346C ~mediumaquamarine</td><td style=\"background-color:#006a4e;\">342C ~darkslategray</td><td style=\"background-color:#89d5af;\">345C ~mediumaquamarine</td><td style=\"background-color:#009530;\">355C ~forestgreen</td></tr>\n",
       "<tr><td style=\"background-color:#a5db92;\">358C ~lightgreen</td><td style=\"background-color:#a7e6c4;\">351C ~powderblue</td><td style=\"background-color:#007229;\">356C ~forestgreen</td><td style=\"background-color:#87e0b0;\">352C ~lightgreen</td><td style=\"background-color:#9fd98b;\">359C ~lightgreen</td></tr>\n",
       "<tr><td style=\"background-color:#0f4d2a;\">357C ~darkslategray</td><td style=\"background-color:#00ab39;\">354C ~forestgreen</td><td style=\"background-color:#6adca2;\">353C ~mediumaquamarine</td><td style=\"background-color:#18472c;\">350C ~darkslategray</td><td style=\"background-color:#289728;\">362C ~forestgreen</td></tr>\n",
       "<tr><td style=\"background-color:#a4d867;\">367C ~darkkhaki</td><td style=\"background-color:#2f8927;\">363C ~forestgreen</td><td style=\"background-color:#cce5a2;\">365C ~palegoldenrod</td><td style=\"background-color:#bce18d;\">366C ~palegreen</td><td style=\"background-color:#4fa600;\">369C ~olivedrab</td></tr>\n",
       "<tr><td style=\"background-color:#62bd19;\">368C ~olivedrab</td><td style=\"background-color:#12ad2b;\">361C ~forestgreen</td><td style=\"background-color:#317023;\">364C ~forestgreen</td><td style=\"background-color:#55be47;\">360C ~limegreen</td><td style=\"background-color:#679000;\">377C ~olive</td></tr>\n",
       "<tr><td style=\"background-color:#4f8a10;\">370C ~olivedrab</td><td style=\"background-color:#dde56c;\">379C ~khaki</td><td style=\"background-color:#bae55f;\">374C ~darkkhaki</td><td style=\"background-color:#4a601c;\">371C ~darkolivegreen</td><td style=\"background-color:#d7e9a1;\">372C ~palegoldenrod</td></tr>\n",
       "<tr><td style=\"background-color:#87d300;\">375C ~lawngreen</td><td style=\"background-color:#76b900;\">376C ~olivedrab</td><td style=\"background-color:#4d5a12;\">378C ~darkolivegreen</td><td style=\"background-color:#cde985;\">373C ~khaki</td><td style=\"background-color:#6e6a12;\">385C ~olive</td></tr>\n",
       "<tr><td style=\"background-color:#c6db00;\">389C ~gold</td><td style=\"background-color:#d3e13c;\">380C ~greenyellow</td><td style=\"background-color:#8b9000;\">384C ~olive</td><td style=\"background-color:#9faa00;\">383C ~darkgoldenrod</td><td style=\"background-color:#e5e96e;\">386C ~khaki</td></tr>\n",
       "<tr><td style=\"background-color:#d7e300;\">388C ~gold</td><td style=\"background-color:#dee63a;\">387C ~greenyellow</td><td style=\"background-color:#b9d300;\">382C ~yellowgreen</td><td style=\"background-color:#c8db00;\">381C ~gold</td><td style=\"background-color:#7f7800;\">392C ~olive</td></tr>\n",
       "<tr><td style=\"background-color:#dddf00;\">396C ~gold</td><td style=\"background-color:#998d00;\">399C ~olive</td><td style=\"background-color:#edeb8f;\">393C ~khaki</td><td style=\"background-color:#beb800;\">397C ~goldenrod</td><td style=\"background-color:#b2bc00;\">390C ~darkgoldenrod</td></tr>\n",
       "<tr><td style=\"background-color:#e9e73f;\">394C ~greenyellow</td><td style=\"background-color:#aba200;\">398C ~darkgoldenrod</td><td style=\"background-color:#959200;\">391C ~olive</td><td style=\"background-color:#e4e400;\">395C ~gold</td><td style=\"background-color:#ada59d;\">402C ~darkgrey</td></tr>\n",
       "<tr><td style=\"background-color:#988f86;\">403C ~grey</td><td style=\"background-color:#7c7369;\">404C ~dimgray</td><td style=\"background-color:#645a50;\">405C ~dimgray</td><td style=\"background-color:#cdc9c4;\">400C ~silver</td><td style=\"background-color:#bdb8b1;\">401C ~silver</td></tr>\n",
       "<tr><td style=\"background-color:#a59997;\">408C ~darkgrey</td><td style=\"background-color:#cac4c2;\">406C ~silver</td><td style=\"background-color:#948683;\">409C ~grey</td><td style=\"background-color:#b5b6b0;\">414C ~darkgrey</td><td style=\"background-color:#1f211c;\">419C ~black</td></tr>\n",
       "<tr><td style=\"background-color:#6e6f64;\">417C ~dimgray</td><td style=\"background-color:#7b6e6a;\">410C ~dimgray</td><td style=\"background-color:#9d9d96;\">415C ~darkgrey</td><td style=\"background-color:#c8c9c3;\">413C ~silver</td><td style=\"background-color:#5a5b51;\">418C ~dimgray</td></tr>\n",
       "<tr><td style=\"background-color:#87887f;\">416C ~grey</td><td style=\"background-color:#372b27;\">412C ~darkslategray</td><td style=\"background-color:#62524e;\">411C ~dimgray</td><td style=\"background-color:#939495;\">423C ~lightslategray</td><td style=\"background-color:#56595c;\">425C ~dimgray</td></tr>\n",
       "<tr><td style=\"background-color:#babbbc;\">421C ~silver</td><td style=\"background-color:#a9aaab;\">422C ~darkgrey</td><td style=\"background-color:#212424;\">426C ~black</td><td style=\"background-color:#c3c8cd;\">428C ~silver</td><td style=\"background-color:#d2d6d9;\">427C ~lightgray</td></tr>\n",
       "<tr><td style=\"background-color:#a8adb4;\">429C ~darkgrey</td><td style=\"background-color:#cccccc;\">420C ~lightgray</td><td style=\"background-color:#767a7d;\">424C ~grey</td><td style=\"background-color:#414b56;\">432C ~darkslategray</td><td style=\"background-color:#616a74;\">431C ~dimgray</td></tr>\n",
       "<tr><td style=\"background-color:#513e3e;\">438C ~darkslategray</td><td style=\"background-color:#d3c9ce;\">434C ~lightgray</td><td style=\"background-color:#c8bac0;\">435C ~silver</td><td style=\"background-color:#868f98;\">430C ~lightslategray</td><td style=\"background-color:#846e74;\">437C ~grey</td></tr>\n",
       "<tr><td style=\"background-color:#212930;\">433C ~darkslategray</td><td style=\"background-color:#443535;\">439C ~darkslategray</td><td style=\"background-color:#b7a6ad;\">436C ~darkgrey</td><td style=\"background-color:#b3bcc0;\">442C ~silver</td><td style=\"background-color:#392e2c;\">440C ~darkslategray</td></tr>\n",
       "<tr><td style=\"background-color:#3d4242;\">446C ~darkslategray</td><td style=\"background-color:#473e26;\">448C ~darkolivegreen</td><td style=\"background-color:#99a3a6;\">443C ~darkgrey</td><td style=\"background-color:#323532;\">447C ~darkslategray</td><td style=\"background-color:#4d4325;\">449C ~darkolivegreen</td></tr>\n",
       "<tr><td style=\"background-color:#7b858a;\">444C ~grey</td><td style=\"background-color:#cbd1d4;\">441C ~lightgray</td><td style=\"background-color:#4f5559;\">445C ~darkslategray</td><td style=\"background-color:#655415;\">455C ~darkolivegreen</td><td style=\"background-color:#514826;\">450C ~darkolivegreen</td></tr>\n",
       "<tr><td style=\"background-color:#d5d3bf;\">454C ~lightgray</td><td style=\"background-color:#c8c5ac;\">453C ~silver</td><td style=\"background-color:#b29200;\">457C ~darkgoldenrod</td><td style=\"background-color:#b5b292;\">452C ~darkgrey</td><td style=\"background-color:#dfd27c;\">459C ~burlywood</td></tr>\n",
       "<tr><td style=\"background-color:#977f09;\">456C ~olive</td><td style=\"background-color:#dbca67;\">458C ~darkkhaki</td><td style=\"background-color:#9f9b74;\">451C ~rosybrown</td><td style=\"background-color:#cab388;\">466C ~tan</td><td style=\"background-color:#e7e3b5;\">461C ~palegoldenrod</td></tr>\n",
       "<tr><td style=\"background-color:#563f23;\">462C ~darkolivegreen</td><td style=\"background-color:#e5db97;\">460C ~khaki</td><td style=\"background-color:#d5c4a1;\">467C ~tan</td><td style=\"background-color:#e0d4bb;\">468C ~wheat</td><td style=\"background-color:#6d4921;\">463C ~saddlebrown</td></tr>\n",
       "<tr><td style=\"background-color:#b99c6b;\">465C ~darkkhaki</td><td style=\"background-color:#855723;\">464C ~saddlebrown</td><td style=\"background-color:#613418;\">469C ~saddlebrown</td><td style=\"background-color:#edb996;\">473C ~burlywood</td><td style=\"background-color:#723629;\">478C ~saddlebrown</td></tr>\n",
       "<tr><td style=\"background-color:#5e2f24;\">477C ~saddlebrown</td><td style=\"background-color:#e49969;\">472C ~darksalmon</td><td style=\"background-color:#b75312;\">471C ~sienna</td><td style=\"background-color:#f0d0bb;\">475C ~wheat</td><td style=\"background-color:#ad806c;\">479C ~rosybrown</td></tr>\n",
       "<tr><td style=\"background-color:#9b4d1b;\">470C ~sienna</td><td style=\"background-color:#513127;\">476C ~darkolivegreen</td><td style=\"background-color:#eec5a9;\">474C ~wheat</td><td style=\"background-color:#d5bdb0;\">481C ~silver</td><td style=\"background-color:#ec9384;\">486C ~darksalmon</td></tr>\n",
       "<tr><td style=\"background-color:#ddcec4;\">482C ~lightgray</td><td style=\"background-color:#ecab9d;\">487C ~burlywood</td><td style=\"background-color:#ecbbaf;\">488C ~lightpink</td><td style=\"background-color:#dc241f;\">485C ~crimson</td><td style=\"background-color:#6a2e22;\">483C ~saddlebrown</td></tr>\n",
       "<tr><td style=\"background-color:#9f2d20;\">484C ~brown</td><td style=\"background-color:#c8a99a;\">480C ~tan</td><td style=\"background-color:#ebcdc3;\">489C ~pink</td><td style=\"background-color:#edb8c5;\">495C ~lightpink</td><td style=\"background-color:#efc4ce;\">496C ~pink</td></tr>\n",
       "<tr><td style=\"background-color:#772b2f;\">491C ~saddlebrown</td><td style=\"background-color:#e7a7b6;\">494C ~lightpink</td><td style=\"background-color:#5a272a;\">490C ~saddlebrown</td><td style=\"background-color:#763931;\">499C ~saddlebrown</td><td style=\"background-color:#4e2a28;\">497C ~darkslategray</td></tr>\n",
       "<tr><td style=\"background-color:#68322e;\">498C ~saddlebrown</td><td style=\"background-color:#91353b;\">492C ~brown</td><td style=\"background-color:#d38da6;\">507C ~rosybrown</td><td style=\"background-color:#e9ccd2;\">503C ~thistle</td><td style=\"background-color:#c88691;\">500C ~rosybrown</td></tr>\n",
       "<tr><td style=\"background-color:#7e2b42;\">506C ~brown</td><td style=\"background-color:#e7b9ca;\">509C ~thistle</td><td style=\"background-color:#e5bfc7;\">502C ~thistle</td><td style=\"background-color:#6e2639;\">505C ~saddlebrown</td><td style=\"background-color:#e2abbf;\">508C ~lightpink</td></tr>\n",
       "<tr><td style=\"background-color:#deacb7;\">501C ~lightpink</td><td style=\"background-color:#4e2029;\">504C ~darkslategray</td><td style=\"background-color:#e7badf;\">516C ~thistle</td><td style=\"background-color:#4b2a46;\">518C ~darkslategray</td><td style=\"background-color:#95288f;\">513C ~darkmagenta</td></tr>\n",
       "<tr><td style=\"background-color:#ebcae3;\">517C ~gainsboro</td><td style=\"background-color:#e9c2d1;\">510C ~thistle</td><td style=\"background-color:#5a2d5f;\">519C ~darkslateblue</td><td style=\"background-color:#d385c8;\">514C ~orchid</td><td style=\"background-color:#60244e;\">511C ~darkslategray</td></tr>\n",
       "<tr><td style=\"background-color:#dfa5d6;\">515C ~plum</td><td style=\"background-color:#7e2271;\">512C ~purple</td><td style=\"background-color:#61207f;\">526C ~indigo</td><td style=\"background-color:#a774cd;\">528C ~mediumpurple</td><td style=\"background-color:#bd9eca;\">522C ~silver</td></tr>\n",
       "<tr><td style=\"background-color:#51265a;\">525C ~darkslategray</td><td style=\"background-color:#ad85ba;\">521C ~darkgrey</td><td style=\"background-color:#dacce1;\">524C ~thistle</td><td style=\"background-color:#682f73;\">520C ~darkslateblue</td><td style=\"background-color:#c6a4e1;\">529C ~plum</td></tr>\n",
       "<tr><td style=\"background-color:#6e20a0;\">527C ~darkmagenta</td><td style=\"background-color:#cbb2d5;\">523C ~thistle</td><td style=\"background-color:#cfb1e3;\">530C ~thistle</td><td style=\"background-color:#d7c4e7;\">531C ~thistle</td><td style=\"background-color:#95a1c3;\">535C ~darkgrey</td></tr>\n",
       "<tr><td style=\"background-color:#d2d7e4;\">538C ~gainsboro</td><td style=\"background-color:#262a39;\">532C ~darkslategray</td><td style=\"background-color:#002a46;\">539C ~midnightblue</td><td style=\"background-color:#a4b1cd;\">536C ~lightsteelblue</td><td style=\"background-color:#bdc6da;\">537C ~lightsteelblue</td></tr>\n",
       "<tr><td style=\"background-color:#293f6f;\">534C ~darkslategray</td><td style=\"background-color:#253355;\">533C ~darkslategray</td><td style=\"background-color:#003440;\">546C ~darkslategray</td><td style=\"background-color:#003c79;\">541C ~midnightblue</td><td style=\"background-color:#bfd3e6;\">545C ~lightblue</td></tr>\n",
       "<tr><td style=\"background-color:#002f5d;\">540C ~midnightblue</td><td style=\"background-color:#5b97b1;\">549C ~cadetblue</td><td style=\"background-color:#b1cbe5;\">544C ~lightsteelblue</td><td style=\"background-color:#004159;\">548C ~darkslategray</td><td style=\"background-color:#93b9dc;\">543C ~skyblue</td></tr>\n",
       "<tr><td style=\"background-color:#003e51;\">547C ~darkslategray</td><td style=\"background-color:#5998c9;\">542C ~steelblue</td><td style=\"background-color:#98baac;\">557C ~darkgrey</td><td style=\"background-color:#214232;\">553C ~darkslategray</td><td style=\"background-color:#acc7bd;\">558C ~silver</td></tr>\n",
       "<tr><td style=\"background-color:#24604a;\">554C ~darkslategray</td><td style=\"background-color:#c0d4cd;\">559C ~lightgray</td><td style=\"background-color:#13694e;\">555C ~darkslategray</td><td style=\"background-color:#85b0c6;\">550C ~darkgrey</td><td style=\"background-color:#9fc1d3;\">551C ~lightsteelblue</td></tr>\n",
       "<tr><td style=\"background-color:#74a18e;\">556C ~lightslategray</td><td style=\"background-color:#b9d0dc;\">552C ~lightsteelblue</td><td style=\"background-color:#18453b;\">567C ~darkslategray</td><td style=\"background-color:#008478;\">569C ~teal</td><td style=\"background-color:#007770;\">562C ~teal</td></tr>\n",
       "<tr><td style=\"background-color:#cde3e2;\">566C ~gainsboro</td><td style=\"background-color:#0f6259;\">561C ~darkslategray</td><td style=\"background-color:#b9dcda;\">565C ~powderblue</td><td style=\"background-color:#22483f;\">560C ~darkslategray</td><td style=\"background-color:#98ccc9;\">564C ~lightsteelblue</td></tr>\n",
       "<tr><td style=\"background-color:#72b8b4;\">563C ~mediumaquamarine</td><td style=\"background-color:#b2c891;\">577C ~darkseagreen</td><td style=\"background-color:#c5d5a9;\">579C ~silver</td><td style=\"background-color:#76c6be;\">570C ~mediumaquamarine</td><td style=\"background-color:#404f24;\">574C ~darkolivegreen</td></tr>\n",
       "<tr><td style=\"background-color:#9dd6cf;\">571C ~lightblue</td><td style=\"background-color:#56732e;\">575C ~darkolivegreen</td><td style=\"background-color:#b4dedb;\">572C ~powderblue</td><td style=\"background-color:#668e3c;\">576C ~olivedrab</td><td style=\"background-color:#bdd0a0;\">578C ~silver</td></tr>\n",
       "<tr><td style=\"background-color:#c1e2de;\">573C ~powderblue</td><td style=\"background-color:#d8db6f;\">585C ~khaki</td><td style=\"background-color:#888600;\">582C ~olive</td><td style=\"background-color:#cfddbb;\">580C ~lightgray</td><td style=\"background-color:#e2e59f;\">587C ~palegoldenrod</td></tr>\n",
       "<tr><td style=\"background-color:#abb400;\">583C ~darkgoldenrod</td><td style=\"background-color:#605a12;\">581C ~darkolivegreen</td><td style=\"background-color:#cbd34c;\">584C ~darkkhaki</td><td style=\"background-color:#dde18a;\">586C ~khaki</td><td style=\"background-color:#eeeaa5;\">601C ~palegoldenrod</td></tr>\n",
       "<tr><td style=\"background-color:#e7e29a;\">609C ~khaki</td><td style=\"background-color:#d8bd00;\">606C ~goldenrod</td><td style=\"background-color:#ede25e;\">603C ~khaki</td><td style=\"background-color:#eadb1b;\">604C ~gold</td><td style=\"background-color:#eeebb6;\">600C ~palegoldenrod</td></tr>\n",
       "<tr><td style=\"background-color:#eee88d;\">602C ~khaki</td><td style=\"background-color:#ebe9c3;\">607C ~bisque</td><td style=\"background-color:#e0ca00;\">605C ~gold</td><td style=\"background-color:#e9e6b4;\">608C ~palegoldenrod</td><td style=\"background-color:#dddbb1;\">615C ~palegoldenrod</td></tr>\n",
       "<tr><td style=\"background-color:#9c8e2a;\">619C ~darkgoldenrod</td><td style=\"background-color:#e3e1c1;\">614C ~wheat</td><td style=\"background-color:#e2d973;\">610C ~khaki</td><td style=\"background-color:#b39d00;\">613C ~darkgoldenrod</td><td style=\"background-color:#c9c37f;\">617C ~tan</td></tr>\n",
       "<tr><td style=\"background-color:#c4b300;\">612C ~goldenrod</td><td style=\"background-color:#b4a851;\">618C ~darkkhaki</td><td style=\"background-color:#d8cc46;\">611C ~darkkhaki</td><td style=\"background-color:#d7d29d;\">616C ~palegoldenrod</td><td style=\"background-color:#032d23;\">627C ~black</td></tr>\n",
       "<tr><td style=\"background-color:#c8e2e8;\">628C ~gainsboro</td><td style=\"background-color:#887811;\">620C ~olive</td><td style=\"background-color:#78a095;\">624C ~lightslategray</td><td style=\"background-color:#bdd2cc;\">622C ~silver</td><td style=\"background-color:#d2dfdc;\">621C ~gainsboro</td></tr>\n",
       "<tr><td style=\"background-color:#aadae5;\">629C ~lightblue</td><td style=\"background-color:#518274;\">625C ~dimgray</td><td style=\"background-color:#9ebcb3;\">623C ~darkgrey</td><td style=\"background-color:#1f5647;\">626C ~darkslategray</td><td style=\"background-color:#5bc8e7;\">637C ~mediumturquoise</td></tr>\n",
       "<tr><td style=\"background-color:#00b2de;\">638C ~darkturquoise</td><td style=\"background-color:#8dd4e9;\">636C ~skyblue</td><td style=\"background-color:#009ec0;\">632C ~lightseagreen</td><td style=\"background-color:#82cbdd;\">630C ~skyblue</td><td style=\"background-color:#009acf;\">639C ~darkturquoise</td></tr>\n",
       "<tr><td style=\"background-color:#007ca4;\">633C ~darkcyan</td><td style=\"background-color:#00628c;\">634C ~teal</td><td style=\"background-color:#adddeb;\">635C ~powderblue</td><td style=\"background-color:#48b8d2;\">631C ~mediumturquoise</td><td style=\"background-color:#c5d2e3;\">643C ~lightgray</td></tr>\n",
       "<tr><td style=\"background-color:#0085c2;\">640C ~darkcyan</td><td style=\"background-color:#0070b2;\">641C ~darkcyan</td><td style=\"background-color:#97b1d0;\">644C ~lightsteelblue</td><td style=\"background-color:#5781ae;\">646C ~steelblue</td><td style=\"background-color:#11568c;\">647C ~teal</td></tr>\n",
       "<tr><td style=\"background-color:#ced9e7;\">642C ~gainsboro</td><td style=\"background-color:#7498c0;\">645C ~cadetblue</td><td style=\"background-color:#002b5f;\">648C ~midnightblue</td><td style=\"background-color:#d4dce8;\">649C ~gainsboro</td><td style=\"background-color:#a1bbe4;\">658C ~lightsteelblue</td></tr>\n",
       "<tr><td style=\"background-color:#99aece;\">651C ~lightsteelblue</td><td style=\"background-color:#002252;\">655C ~midnightblue</td><td style=\"background-color:#c2cde0;\">650C ~lightsteelblue</td><td style=\"background-color:#2a568f;\">653C ~darkslateblue</td><td style=\"background-color:#003066;\">654C ~midnightblue</td></tr>\n",
       "<tr><td style=\"background-color:#6e96d5;\">659C ~cornflowerblue</td><td style=\"background-color:#bfd0ea;\">657C ~lightblue</td><td style=\"background-color:#d4dded;\">656C ~gainsboro</td><td style=\"background-color:#6f8db9;\">652C ~lightslategray</td><td style=\"background-color:#c5bbd3;\">665C ~thistle</td></tr>\n",
       "<tr><td style=\"background-color:#003596;\">661C ~midnightblue</td><td style=\"background-color:#a392b7;\">666C ~darkgrey</td><td style=\"background-color:#002280;\">662C ~midnightblue</td><td style=\"background-color:#7c6495;\">667C ~slategray</td><td style=\"background-color:#296dc1;\">660C ~steelblue</td></tr>\n",
       "<tr><td style=\"background-color:#624a7e;\">668C ~darkslateblue</td><td style=\"background-color:#ded8e6;\">663C ~gainsboro</td><td style=\"background-color:#d7d0e0;\">664C ~gainsboro</td><td style=\"background-color:#432c5f;\">669C ~darkslategray</td><td style=\"background-color:#debdd4;\">679C ~thistle</td></tr>\n",
       "<tr><td style=\"background-color:#e1a7cf;\">672C ~plum</td><td style=\"background-color:#b62a79;\">675C ~mediumvioletred</td><td style=\"background-color:#da89be;\">673C ~orchid</td><td style=\"background-color:#e6c1db;\">671C ~thistle</td><td style=\"background-color:#e2c9da;\">678C ~thistle</td></tr>\n",
       "<tr><td style=\"background-color:#ce62a4;\">674C ~palevioletred</td><td style=\"background-color:#e5d1df;\">677C ~gainsboro</td><td style=\"background-color:#ead4e4;\">670C ~gainsboro</td><td style=\"background-color:#a30059;\">676C ~purple</td><td style=\"background-color:#e5cad9;\">684C ~thistle</td></tr>\n",
       "<tr><td style=\"background-color:#cb97b7;\">680C ~darkgrey</td><td style=\"background-color:#e1bcd0;\">685C ~thistle</td><td style=\"background-color:#95416f;\">689C ~dimgray</td><td style=\"background-color:#dbaec6;\">686C ~thistle</td><td style=\"background-color:#b8749e;\">681C ~rosybrown</td></tr>\n",
       "<tr><td style=\"background-color:#9c4878;\">682C ~indianred</td><td style=\"background-color:#c686a9;\">687C ~rosybrown</td><td style=\"background-color:#b46b93;\">688C ~palevioletred</td><td style=\"background-color:#7c2250;\">683C ~brown</td><td style=\"background-color:#d9a7b1;\">693C ~silver</td></tr>\n",
       "<tr><td style=\"background-color:#edcfd7;\">698C ~gainsboro</td><td style=\"background-color:#81333d;\">697C ~brown</td><td style=\"background-color:#e2c1c8;\">692C ~thistle</td><td style=\"background-color:#e7cdd2;\">691C ~lightgray</td><td style=\"background-color:#944554;\">696C ~sienna</td></tr>\n",
       "<tr><td style=\"background-color:#f0c2cd;\">699C ~pink</td><td style=\"background-color:#6d2348;\">690C ~brown</td><td style=\"background-color:#b06876;\">695C ~indianred</td><td style=\"background-color:#ca909c;\">694C ~rosybrown</td><td style=\"background-color:#a22630;\">704C ~brown</td></tr>\n",
       "<tr><td style=\"background-color:#ba394e;\">703C ~indianred</td><td style=\"background-color:#f5b0c1;\">707C ~lightpink</td><td style=\"background-color:#f5c7d4;\">706C ~pink</td><td style=\"background-color:#d5647c;\">702C ~palevioletred</td><td style=\"background-color:#f2d6de;\">705C ~mistyrose</td></tr>\n",
       "<tr><td style=\"background-color:#eca9b9;\">700C ~lightpink</td><td style=\"background-color:#f590a6;\">708C ~lightcoral</td><td style=\"background-color:#e58da2;\">701C ~palevioletred</td><td style=\"background-color:#ef6782;\">709C ~lightcoral</td><td style=\"background-color:#facdae;\">712C ~peachpuff</td></tr>\n",
       "<tr><td style=\"background-color:#cf5200;\">718C ~chocolate</td><td style=\"background-color:#efcfb8;\">719C ~wheat</td><td style=\"background-color:#de6100;\">717C ~chocolate</td><td style=\"background-color:#fbc399;\">713C ~navajowhite</td><td style=\"background-color:#fdb179;\">714C ~lightsalmon</td></tr>\n",
       "<tr><td style=\"background-color:#e54661;\">710C ~indianred</td><td style=\"background-color:#f9964a;\">715C ~coral</td><td style=\"background-color:#d32939;\">711C ~crimson</td><td style=\"background-color:#f17c0e;\">716C ~darkorange</td><td style=\"background-color:#e8cebb;\">726C ~wheat</td></tr>\n",
       "<tr><td style=\"background-color:#843b00;\">725C ~saddlebrown</td><td style=\"background-color:#d58f59;\">722C ~peru</td><td style=\"background-color:#e5ae86;\">721C ~burlywood</td><td style=\"background-color:#9a4b00;\">724C ~saddlebrown</td><td style=\"background-color:#c38e63;\">729C ~peru</td></tr>\n",
       "<tr><td style=\"background-color:#ecc3a5;\">720C ~wheat</td><td style=\"background-color:#e1bea4;\">727C ~burlywood</td><td style=\"background-color:#d5aa88;\">728C ~tan</td><td style=\"background-color:#c0722f;\">723C ~chocolate</td><td style=\"background-color:#ac703d;\">730C ~sienna</td></tr>\n",
       "<tr><td style=\"background-color:#793f0d;\">731C ~saddlebrown</td><td style=\"background-color:#64300a;\">732C ~saddlebrown</td><td style=\"background-color:#00ae97;\">808C ~darkcyan</td><td style=\"background-color:#e1e400;\">809C ~gold</td><td style=\"background-color:#00a7d8;\">801C ~darkturquoise</td></tr>\n",
       "<tr><td style=\"background-color:#5bdd45;\">802C ~limegreen</td><td style=\"background-color:#ffa243;\">804C ~sandybrown</td><td style=\"background-color:#ff585e;\">805C ~tomato</td><td style=\"background-color:#ffe805;\">803C ~gold</td><td style=\"background-color:#ff1cac;\">806C ~deeppink</td></tr>\n",
       "<tr><td style=\"background-color:#d708b2;\">807C ~mediumvioletred</td><td style=\"background-color:#ff3485;\">812C ~deeppink</td><td style=\"background-color:#ea12af;\">813C ~deeppink</td><td style=\"background-color:#ffce09;\">810C ~gold</td><td style=\"background-color:#ff7750;\">811C ~coral</td></tr>\n",
       "<tr><td style=\"background-color:#7e60ce;\">814C ~slateblue</td><td style=\"background-color:#f3e2a7;\">1205C ~palegoldenrod</td><td style=\"background-color:#f5dd92;\">1215C ~khaki</td><td style=\"background-color:#fdc745;\">1225C ~sandybrown</td><td style=\"background-color:#ffb300;\">1235C ~orange</td></tr>\n",
       "<tr><td style=\"background-color:#c69200;\">1245C ~darkgoldenrod</td><td style=\"background-color:#aa800e;\">1255C ~darkgoldenrod</td><td style=\"background-color:#836514;\">1265C ~saddlebrown</td><td style=\"background-color:#fbcf8d;\">1345C ~khaki</td><td style=\"background-color:#fdc87d;\">1355C ~khaki</td></tr>\n",
       "<tr><td style=\"background-color:#ffb754;\">1365C ~sandybrown</td><td style=\"background-color:#ff9a00;\">1375C ~orange</td><td style=\"background-color:#d67500;\">1385C ~chocolate</td><td style=\"background-color:#9e6209;\">1395C ~saddlebrown</td><td style=\"background-color:#6c4713;\">1405C ~saddlebrown</td></tr>\n",
       "<tr><td style=\"background-color:#ffb57b;\">1485C ~lightsalmon</td><td style=\"background-color:#ff963b;\">1495C ~coral</td><td style=\"background-color:#ff7200;\">1505C ~darkorange</td><td style=\"background-color:#ca4e00;\">1525C ~chocolate</td><td style=\"background-color:#933f00;\">1535C ~saddlebrown</td></tr>\n",
       "<tr><td style=\"background-color:#51260b;\">1545C ~maroon</td><td style=\"background-color:#ffbfa0;\">1555C ~navajowhite</td><td style=\"background-color:#ffa97d;\">1565C ~lightsalmon</td><td style=\"background-color:#ff8642;\">1575C ~coral</td><td style=\"background-color:#ff6900;\">1585C ~darkorange</td></tr>\n",
       "<tr><td style=\"background-color:#da5c05;\">1595C ~chocolate</td><td style=\"background-color:#a24a13;\">1605C ~saddlebrown</td><td style=\"background-color:#853c10;\">1615C ~saddlebrown</td><td style=\"background-color:#ffa28b;\">1625C ~lightsalmon</td><td style=\"background-color:#ff8e70;\">1635C ~salmon</td></tr>\n",
       "<tr><td style=\"background-color:#ff6c3b;\">1645C ~tomato</td><td style=\"background-color:#ff5200;\">1655C ~orangered</td><td style=\"background-color:#e54800;\">1665C ~orangered</td><td style=\"background-color:#a83c0f;\">1675C ~saddlebrown</td><td style=\"background-color:#863514;\">1685C ~saddlebrown</td></tr>\n",
       "<tr><td style=\"background-color:#fe9db0;\">1765C ~lightpink</td><td style=\"background-color:#faafc2;\">1767C ~lightpink</td><td style=\"background-color:#ff859a;\">1775C ~lightcoral</td><td style=\"background-color:#fb6581;\">1777C ~lightcoral</td><td style=\"background-color:#f9425f;\">1787C ~tomato</td></tr>\n",
       "<tr><td style=\"background-color:#f02233;\">1788C ~crimson</td><td style=\"background-color:#f9455b;\">1785C ~tomato</td><td style=\"background-color:#d02433;\">1797C ~crimson</td><td style=\"background-color:#d81f2a;\">1795C ~crimson</td><td style=\"background-color:#a12830;\">1807C ~brown</td></tr>\n",
       "<tr><td style=\"background-color:#b0232a;\">1805C ~firebrick</td><td style=\"background-color:#5e2728;\">1817C ~saddlebrown</td><td style=\"background-color:#7c211e;\">1815C ~saddlebrown</td><td style=\"background-color:#f3bcd4;\">1895C ~pink</td><td style=\"background-color:#f59bbd;\">1905C ~lightpink</td></tr>\n",
       "<tr><td style=\"background-color:#f2558a;\">1915C ~palevioletred</td><td style=\"background-color:#e40050;\">1925C ~crimson</td><td style=\"background-color:#cb0447;\">1935C ~crimson</td><td style=\"background-color:#aa113f;\">1945C ~brown</td><td style=\"background-color:#93173b;\">1955C ~brown</td></tr>\n",
       "<tr><td style=\"background-color:#efc3e4;\">2365C ~thistle</td><td style=\"background-color:#e270cd;\">2375C ~orchid</td><td style=\"background-color:#d733b4;\">2385C ~mediumorchid</td><td style=\"background-color:#c40098;\">2395C ~mediumvioletred</td><td style=\"background-color:#a70084;\">2405C ~darkmagenta</td></tr>\n",
       "<tr><td style=\"background-color:#970076;\">2415C ~darkmagenta</td><td style=\"background-color:#820063;\">2425C ~purple</td><td style=\"background-color:#cfa5e4;\">2562C ~plum</td><td style=\"background-color:#bb99da;\">2567C ~plum</td><td style=\"background-color:#c79dd8;\">2563C ~plum</td></tr>\n",
       "<tr><td style=\"background-color:#c084dc;\">2572C ~orchid</td><td style=\"background-color:#b279c8;\">2573C ~mediumpurple</td><td style=\"background-color:#a276cc;\">2577C ~mediumpurple</td><td style=\"background-color:#8348b5;\">2587C ~darkorchid</td><td style=\"background-color:#a24cc8;\">2582C ~darkorchid</td></tr>\n",
       "<tr><td style=\"background-color:#9950b2;\">2583C ~darkorchid</td><td style=\"background-color:#59058d;\">2597C ~indigo</td><td style=\"background-color:#9016b2;\">2592C ~darkorchid</td><td style=\"background-color:#7e2b97;\">2593C ~darkmagenta</td><td style=\"background-color:#7d0996;\">2602C ~darkmagenta</td></tr>\n",
       "<tr><td style=\"background-color:#68177f;\">2603C ~purple</td><td style=\"background-color:#4f027c;\">2607C ~indigo</td><td style=\"background-color:#611774;\">2613C ~indigo</td><td style=\"background-color:#4b0b71;\">2617C ~indigo</td><td style=\"background-color:#6a1a7a;\">2612C ~purple</td></tr>\n",
       "<tr><td style=\"background-color:#572458;\">2622C ~indigo</td><td style=\"background-color:#43125f;\">2627C ~indigo</td><td style=\"background-color:#581963;\">2623C ~indigo</td><td style=\"background-color:#bfafe4;\">2635C ~lightsteelblue</td><td style=\"background-color:#aa94de;\">2645C ~mediumpurple</td></tr>\n",
       "<tr><td style=\"background-color:#9173d3;\">2655C ~mediumpurple</td><td style=\"background-color:#7a52c7;\">2665C ~slateblue</td><td style=\"background-color:#3b0084;\">2685C ~indigo</td><td style=\"background-color:#381d59;\">2695C ~midnightblue</td><td style=\"background-color:#bdd0ee;\">2707C ~lightblue</td></tr>\n",
       "<tr><td style=\"background-color:#c4cbea;\">2706C ~lightsteelblue</td><td style=\"background-color:#b1c5ea;\">2708C ~lightsteelblue</td><td style=\"background-color:#a29fe0;\">2705C ~lightsteelblue</td><td style=\"background-color:#a1bdea;\">2717C ~lightsteelblue</td><td style=\"background-color:#8580d8;\">2715C ~mediumpurple</td></tr>\n",
       "<tr><td style=\"background-color:#547ed9;\">2718C ~royalblue</td><td style=\"background-color:#94a1e2;\">2716C ~lightsteelblue</td><td style=\"background-color:#3878db;\">2727C ~royalblue</td><td style=\"background-color:#0047be;\">2728C ~mediumblue</td><td style=\"background-color:#4555c7;\">2726C ~royalblue</td></tr>\n",
       "<tr><td style=\"background-color:#5e53c7;\">2725C ~slateblue</td><td style=\"background-color:#00129d;\">2738C ~darkblue</td><td style=\"background-color:#280092;\">2735C ~indigo</td><td style=\"background-color:#1e22ae;\">2736C ~mediumblue</td><td style=\"background-color:#00237e;\">2747C ~midnightblue</td></tr>\n",
       "<tr><td style=\"background-color:#001a7b;\">2748C ~navy</td><td style=\"background-color:#1a1c96;\">2746C ~midnightblue</td><td style=\"background-color:#22007a;\">2745C ~midnightblue</td><td style=\"background-color:#002065;\">2757C ~midnightblue</td><td style=\"background-color:#001d68;\">2758C ~midnightblue</td></tr>\n",
       "<tr><td style=\"background-color:#1b0069;\">2755C ~midnightblue</td><td style=\"background-color:#151d71;\">2756C ~midnightblue</td><td style=\"background-color:#0b2345;\">2767C ~midnightblue</td><td style=\"background-color:#031e51;\">2768C ~midnightblue</td><td style=\"background-color:#1b0c55;\">2765C ~midnightblue</td></tr>\n",
       "<tr><td style=\"background-color:#151c55;\">2766C ~midnightblue</td><td style=\"background-color:#92c9eb;\">2905C ~skyblue</td><td style=\"background-color:#62b4e8;\">2915C ~cornflowerblue</td><td style=\"background-color:#0092dd;\">2925C ~dodgerblue</td><td style=\"background-color:#005bc3;\">2935C ~royalblue</td></tr>\n",
       "<tr><td style=\"background-color:#0053a5;\">2945C ~teal</td><td style=\"background-color:#003b6f;\">2955C ~midnightblue</td><td style=\"background-color:#003151;\">2965C ~midnightblue</td><td style=\"background-color:#a5d9ec;\">2975C ~lightblue</td><td style=\"background-color:#40bde8;\">2985C ~mediumturquoise</td></tr>\n",
       "<tr><td style=\"background-color:#00a2e1;\">2995C ~deepskyblue</td><td style=\"background-color:#0076cc;\">3005C ~dodgerblue</td><td style=\"background-color:#0060a1;\">3015C ~teal</td><td style=\"background-color:#00496e;\">3025C ~midnightblue</td><td style=\"background-color:#003a4f;\">3035C ~darkslategray</td></tr>\n",
       "<tr><td style=\"background-color:#6fd2e4;\">3105C ~skyblue</td><td style=\"background-color:#00c4dc;\">3115C ~darkturquoise</td><td style=\"background-color:#00aece;\">3125C ~darkturquoise</td><td style=\"background-color:#0092ba;\">3135C ~darkcyan</td><td style=\"background-color:#007a97;\">3145C ~darkcyan</td></tr>\n",
       "<tr><td style=\"background-color:#00667c;\">3155C ~teal</td><td style=\"background-color:#004f5d;\">3165C ~darkslategray</td><td style=\"background-color:#75d9d8;\">3242C ~skyblue</td><td style=\"background-color:#7bddd8;\">3245C ~skyblue</td><td style=\"background-color:#7bd2c8;\">3248C ~mediumaquamarine</td></tr>\n",
       "<tr><td style=\"background-color:#41d2d2;\">3252C ~mediumturquoise</td><td style=\"background-color:#43c4b7;\">3258C ~mediumturquoise</td><td style=\"background-color:#32d4cb;\">3255C ~turquoise</td><td style=\"background-color:#00bab9;\">3262C ~darkturquoise</td><td style=\"background-color:#00c2b6;\">3265C ~darkturquoise</td></tr>\n",
       "<tr><td style=\"background-color:#00a994;\">3268C ~darkcyan</td><td style=\"background-color:#00997a;\">3278C ~darkcyan</td><td style=\"background-color:#00b09d;\">3275C ~lightseagreen</td><td style=\"background-color:#00a19c;\">3272C ~darkcyan</td><td style=\"background-color:#008480;\">3282C ~teal</td></tr>\n",
       "<tr><td style=\"background-color:#007e64;\">3288C ~teal</td><td style=\"background-color:#009384;\">3285C ~darkcyan</td><td style=\"background-color:#007c6f;\">3295C ~teal</td><td style=\"background-color:#005a53;\">3292C ~darkslategray</td><td style=\"background-color:#006752;\">3298C ~teal</td></tr>\n",
       "<tr><td style=\"background-color:#004236;\">3308C ~darkslategray</td><td style=\"background-color:#00423c;\">3302C ~darkslategray</td><td style=\"background-color:#004a41;\">3305C ~darkslategray</td><td style=\"background-color:#81e0c7;\">3375C ~aquamarine</td><td style=\"background-color:#3bd6b2;\">3385C ~mediumturquoise</td></tr>\n",
       "<tr><td style=\"background-color:#00c590;\">3395C ~lightseagreen</td><td style=\"background-color:#00ae68;\">3405C ~darkcyan</td><td style=\"background-color:#00774b;\">3415C ~seagreen</td><td style=\"background-color:#006644;\">3425C ~darkslategray</td><td style=\"background-color:#004731;\">3435C ~darkslategray</td></tr>\n",
       "<tr><td style=\"background-color:#f0eb7a;\">3935C ~khaki</td><td style=\"background-color:#efe600;\">3945C ~gold</td><td style=\"background-color:#ece100;\">3955C ~gold</td><td style=\"background-color:#e9dc00;\">3965C ~gold</td><td style=\"background-color:#bba800;\">3975C ~darkgoldenrod</td></tr>\n",
       "<tr><td style=\"background-color:#9b8900;\">3985C ~olive</td><td style=\"background-color:#6a5b07;\">3995C ~saddlebrown</td><td style=\"background-color:#5d4718;\">4485C ~darkolivegreen</td><td style=\"background-color:#836e2c;\">4495C ~sienna</td><td style=\"background-color:#9b8948;\">4505C ~peru</td></tr>\n",
       "<tr><td style=\"background-color:#b5a570;\">4515C ~darkkhaki</td><td style=\"background-color:#c5ba8e;\">4525C ~tan</td><td style=\"background-color:#d4ccaa;\">4535C ~silver</td><td style=\"background-color:#ded9c2;\">4545C ~lightgray</td><td style=\"background-color:#4e2614;\">4625C ~maroon</td></tr>\n",
       "<tr><td style=\"background-color:#905a33;\">4635C ~sienna</td><td style=\"background-color:#b17f5c;\">4645C ~peru</td><td style=\"background-color:#c09477;\">4655C ~rosybrown</td><td style=\"background-color:#d1ae97;\">4665C ~tan</td><td style=\"background-color:#ddc2b0;\">4675C ~silver</td></tr>\n",
       "<tr><td style=\"background-color:#e4d2c5;\">4685C ~lightgray</td><td style=\"background-color:#532821;\">4695C ~saddlebrown</td><td style=\"background-color:#7f4c3e;\">4705C ~sienna</td><td style=\"background-color:#9b6e5f;\">4715C ~grey</td><td style=\"background-color:#b28d7f;\">4725C ~rosybrown</td></tr>\n",
       "<tr><td style=\"background-color:#c5aaa0;\">4735C ~tan</td><td style=\"background-color:#d4beb6;\">4745C ~silver</td><td style=\"background-color:#ddcdc7;\">4755C ~lightgray</td><td style=\"background-color:#441e1f;\">4975C ~darkslategray</td><td style=\"background-color:#854a50;\">4985C ~sienna</td></tr>\n",
       "<tr><td style=\"background-color:#a16971;\">4995C ~grey</td><td style=\"background-color:#b7848c;\">5005C ~rosybrown</td><td style=\"background-color:#d1a9b0;\">5015C ~silver</td><td style=\"background-color:#dbbcc1;\">5025C ~thistle</td><td style=\"background-color:#e3cbd0;\">5035C ~thistle</td></tr>\n",
       "<tr><td style=\"background-color:#4b253e;\">5115C ~darkslategray</td><td style=\"background-color:#704165;\">5125C ~dimgray</td><td style=\"background-color:#885e80;\">5135C ~grey</td><td style=\"background-color:#a17e9a;\">5145C ~rosybrown</td><td style=\"background-color:#c0a6bd;\">5155C ~silver</td></tr>\n",
       "<tr><td style=\"background-color:#d6c5d3;\">5165C ~thistle</td><td style=\"background-color:#e0d5de;\">5175C ~gainsboro</td><td style=\"background-color:#45293b;\">5185C ~darkslategray</td><td style=\"background-color:#5e3a51;\">5195C ~darkslategray</td><td style=\"background-color:#8b687d;\">5205C ~grey</td></tr>\n",
       "<tr><td style=\"background-color:#b195a6;\">5215C ~darkgrey</td><td style=\"background-color:#c6b0be;\">5225C ~silver</td><td style=\"background-color:#d4c4ce;\">5235C ~thistle</td><td style=\"background-color:#dfd4db;\">5245C ~gainsboro</td><td style=\"background-color:#2a254b;\">5255C ~midnightblue</td></tr>\n",
       "<tr><td style=\"background-color:#433b67;\">5265C ~darkslateblue</td><td style=\"background-color:#57527e;\">5275C ~darkslateblue</td><td style=\"background-color:#8581a4;\">5285C ~lightslategray</td><td style=\"background-color:#aaa7c1;\">5295C ~darkgrey</td><td style=\"background-color:#c1bed1;\">5305C ~silver</td></tr>\n",
       "<tr><td style=\"background-color:#d4d4e0;\">5315C ~gainsboro</td><td style=\"background-color:#02253a;\">5395C ~midnightblue</td><td style=\"background-color:#3e647e;\">5405C ~darkslateblue</td><td style=\"background-color:#587993;\">5415C ~slategray</td><td style=\"background-color:#7c98ae;\">5425C ~lightslategray</td></tr>\n",
       "<tr><td style=\"background-color:#a5b8c9;\">5435C ~lightsteelblue</td><td style=\"background-color:#bccad6;\">5445C ~lightsteelblue</td><td style=\"background-color:#ccd6e0;\">5455C ~lightgray</td><td style=\"background-color:#183533;\">5467C ~darkslategray</td><td style=\"background-color:#002830;\">5463C ~black</td></tr>\n",
       "<tr><td style=\"background-color:#00626e;\">5473C ~teal</td><td style=\"background-color:#3c5b59;\">5477C ~darkslategray</td><td style=\"background-color:#4f8d97;\">5483C ~cadetblue</td><td style=\"background-color:#627d7c;\">5487C ~slategray</td><td style=\"background-color:#8da09f;\">5497C ~darkgrey</td></tr>\n",
       "<tr><td style=\"background-color:#81adb5;\">5493C ~darkgrey</td><td style=\"background-color:#a1c3c9;\">5503C ~lightsteelblue</td><td style=\"background-color:#aab8b9;\">5507C ~darkgrey</td><td style=\"background-color:#bed5d9;\">5513C ~lightblue</td><td style=\"background-color:#bfcbcc;\">5517C ~silver</td></tr>\n",
       "<tr><td style=\"background-color:#ccd4d4;\">5527C ~lightgray</td><td style=\"background-color:#cfdee1;\">5523C ~gainsboro</td><td style=\"background-color:#1b3930;\">5535C ~darkslategray</td><td style=\"background-color:#4a6d62;\">5545C ~dimgray</td><td style=\"background-color:#6e8d82;\">5555C ~slategray</td></tr>\n",
       "<tr><td style=\"background-color:#8fa8a0;\">5565C ~darkseagreen</td><td style=\"background-color:#a9bdb6;\">5575C ~darkgrey</td><td style=\"background-color:#c0cfcb;\">5585C ~silver</td><td style=\"background-color:#d3dedb;\">5595C ~gainsboro</td><td style=\"background-color:#193025;\">5605C ~darkslategray</td></tr>\n",
       "<tr><td style=\"background-color:#5a7060;\">5615C ~dimgray</td><td style=\"background-color:#6c8072;\">5625C ~grey</td><td style=\"background-color:#97a69b;\">5635C ~darkgrey</td><td style=\"background-color:#b1bcb5;\">5645C ~silver</td><td style=\"background-color:#bdc5bf;\">5655C ~silver</td></tr>\n",
       "<tr><td style=\"background-color:#cdd3cd;\">5665C ~lightgray</td><td style=\"background-color:#404616;\">5747C ~darkolivegreen</td><td style=\"background-color:#3e4723;\">5743C ~darkolivegreen</td><td style=\"background-color:#5e6639;\">5753C ~darkolivegreen</td><td style=\"background-color:#6f732d;\">5757C ~darkolivegreen</td></tr>\n",
       "<tr><td style=\"background-color:#8d9150;\">5767C ~grey</td><td style=\"background-color:#6e7649;\">5763C ~dimgray</td><td style=\"background-color:#a7ab74;\">5777C ~darkkhaki</td><td style=\"background-color:#939871;\">5773C ~grey</td><td style=\"background-color:#adb291;\">5783C ~darkgrey</td></tr>\n",
       "<tr><td style=\"background-color:#c1c49a;\">5787C ~tan</td><td style=\"background-color:#bdc2a9;\">5793C ~silver</td><td style=\"background-color:#ced1b3;\">5797C ~silver</td><td style=\"background-color:#d9dcc5;\">5807C ~lightgray</td><td style=\"background-color:#ced2bf;\">5803C ~lightgray</td></tr>\n",
       "<tr><td style=\"background-color:#4b4516;\">5815C ~darkolivegreen</td><td style=\"background-color:#7d762f;\">5825C ~olivedrab</td><td style=\"background-color:#9d9754;\">5835C ~darkkhaki</td><td style=\"background-color:#ada86b;\">5845C ~darkkhaki</td><td style=\"background-color:#c7c397;\">5855C ~tan</td></tr>\n",
       "<tr><td style=\"background-color:#d3cfac;\">5865C ~silver</td><td style=\"background-color:#d9d7b9;\">5875C ~lightgray</td></tr>\n",
       "</table>\n"
      ],
      "text/plain": [
       "Table(len=182,titles=[],data=[[106C ~khaki, 101C ~khaki, 108C ~gold, 105C ~olive, 100C ~khaki], [104C ~darkgoldenrod, 103C ~goldenrod, 109C ~gold, 107C ~gold, 102C ~gold], [112C ~olive, 117C ~darkgoldenrod, 119C ~olive, 113C ~khaki, 114C ~khaki], [110C ~goldenrod, 115C ~sandybrown, 118C ~darkgoldenrod, 111C ~darkgoldenrod, 116C ~gold], [124C ~orange, 123C ~gold, 128C ~khaki, 127C ~khaki, 122C ~sandybrown]])"
      ]
     },
     "execution_count": 15,
     "metadata": {},
     "output_type": "execute_result"
    }
   ],
   "source": [
    "from Goulib.table import Table, Cell\n",
    "from Goulib.itertools2 import reshape\n",
    "\n",
    "t=[]\n",
    "for name in sorted(pantone,key=lambda x:int(x[:-2])):\n",
    "    c=pantone[name]\n",
    "    s='%s %s'%(name,Color(c).name)\n",
    "    t.append(Cell(s,style={'background-color':c}))\n",
    "Table(reshape(t,(0,5)))"
   ]
  }
 ],
 "metadata": {
  "kernelspec": {
   "display_name": "Python 2",
   "language": "python",
   "name": "python2"
  },
  "language_info": {
   "codemirror_mode": {
    "name": "ipython",
    "version": 2
   },
   "file_extension": ".py",
   "mimetype": "text/x-python",
   "name": "python",
   "nbconvert_exporter": "python",
   "pygments_lexer": "ipython2",
   "version": "2.7.11"
  }
 },
 "nbformat": 4,
 "nbformat_minor": 0
}
