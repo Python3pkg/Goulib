{
 "cells": [
  {
   "cell_type": "markdown",
   "metadata": {},
   "source": [
    "# [Goulib](../notebook.ipynb).colors\n",
    "color toolbox\n"
   ]
  },
  {
   "cell_type": "code",
   "execution_count": 1,
   "metadata": {
    "collapsed": false
   },
   "outputs": [
    {
     "data": {
      "application/javascript": [
       "IPython.OutputArea.auto_scroll_threshold = 9999; // to avoid a scrollbar in Pantone table below"
      ],
      "text/plain": [
       "<IPython.core.display.Javascript object>"
      ]
     },
     "metadata": {},
     "output_type": "display_data"
    }
   ],
   "source": [
    "%%javascript\n",
    "IPython.OutputArea.auto_scroll_threshold = 9999; // to avoid a scrollbar in Pantone table below"
   ]
  },
  {
   "cell_type": "code",
   "execution_count": 2,
   "metadata": {
    "collapsed": true
   },
   "outputs": [],
   "source": [
    "%matplotlib notebook \n",
    "import matplotlib.pyplot as plt"
   ]
  },
  {
   "cell_type": "code",
   "execution_count": 3,
   "metadata": {
    "collapsed": false
   },
   "outputs": [],
   "source": [
    "from Goulib.notebook import *\n",
    "from Goulib.colors import *"
   ]
  },
  {
   "cell_type": "markdown",
   "metadata": {},
   "source": [
    "## Color objects"
   ]
  },
  {
   "cell_type": "code",
   "execution_count": 4,
   "metadata": {
    "collapsed": false
   },
   "outputs": [],
   "source": [
    "red=Color('red') #Color objects can be init'ed by a name (as in matplotlib or html)\n",
    "green=Color('#00ff00') # by RGB hex string,\n",
    "blue=Color((0,0,1)) # by RGB triplet\n",
    "\n",
    "cmyk=Color((.45,.12,.67,.05),'cmyk') # or by specifying the colorspace used\n",
    "lab=Color((47.0, 68.0, 45.0),'Lab')"
   ]
  },
  {
   "cell_type": "code",
   "execution_count": 5,
   "metadata": {
    "collapsed": false
   },
   "outputs": [
    {
     "data": {
      "text/html": [
       "<span style=\"color:#ff0000\">red</span> <span style=\"color:#00ff00\">lime</span> <span style=\"color:#0000ff\">blue</span> <span style=\"color:#80d447\">~yellowgreen</span> <span style=\"color:#da1f28\">~crimson</span>"
      ],
      "text/plain": [
       "<IPython.core.display.HTML object>"
      ]
     },
     "metadata": {},
     "output_type": "display_data"
    }
   ],
   "source": [
    "print(red,green,blue,cmyk,lab) #colors automagically recieve a name and have an HTML representation"
   ]
  },
  {
   "cell_type": "code",
   "execution_count": 6,
   "metadata": {
    "collapsed": false
   },
   "outputs": [
    {
     "data": {
      "text/html": [
       "<span style=\"color:#465965\">~darkslategray</span> <span style=\"color:#60c86a\">~limegreen</span> <span style=\"color:#90cb0e\">~yellowgreen</span> <span style=\"color:#17aaaa\">~lightseagreen</span> <span style=\"color:#efd868\">~khaki</span> <span style=\"color:#db4a54\">~indianred</span> <span style=\"color:#81bc9c\">~darkseagreen</span> <span style=\"color:#396384\">~royalblue</span> <span style=\"color:#a69b1e\">~darkkhaki</span> <span style=\"color:#c9364c\">~crimson</span>"
      ],
      "text/plain": [
       "<IPython.core.display.HTML object>"
      ]
     },
     "metadata": {},
     "output_type": "display_data"
    }
   ],
   "source": [
    "from random import random\n",
    "r=[Color((random(),random(),random())) for _ in range(10)]\n",
    "print(*r) # unknown colors recieve name of the nearest known color with a tile before"
   ]
  },
  {
   "cell_type": "code",
   "execution_count": 7,
   "metadata": {
    "collapsed": false
   },
   "outputs": [
    {
     "data": {
      "text/html": [
       "<span style=\"color:#00ffff\">cyan</span> <span style=\"color:#ff00ff\">magenta</span> <span style=\"color:#ffff00\">yellow</span>"
      ],
      "text/plain": [
       "<IPython.core.display.HTML object>"
      ]
     },
     "metadata": {},
     "output_type": "display_data"
    }
   ],
   "source": [
    "#colors can be added\n",
    "cyan=blue+green\n",
    "magenta=blue+red\n",
    "yellow=red+green\n",
    "print(cyan, magenta, yellow) # see ? the names of calculated colors are correct !"
   ]
  },
  {
   "cell_type": "code",
   "execution_count": 8,
   "metadata": {
    "collapsed": false
   },
   "outputs": [
    {
     "data": {
      "text/html": [
       "<span style=\"color:#000000\">black</span>"
      ],
      "text/plain": [
       "Color('black')"
      ]
     },
     "execution_count": 8,
     "metadata": {},
     "output_type": "execute_result"
    }
   ],
   "source": [
    "magenta-cyan-yellow #colors can be substracted too"
   ]
  },
  {
   "cell_type": "code",
   "execution_count": 9,
   "metadata": {
    "collapsed": false
   },
   "outputs": [
    {
     "data": {
      "text/html": [
       "<span style=\"color:#802bb8\">~darkviolet</span>"
      ],
      "text/plain": [
       "Color('~darkviolet')"
      ]
     },
     "execution_count": 9,
     "metadata": {},
     "output_type": "execute_result"
    }
   ],
   "source": [
    "-cmyk # unary minus gives the complementary color"
   ]
  },
  {
   "cell_type": "code",
   "execution_count": 10,
   "metadata": {
    "collapsed": false
   },
   "outputs": [
    {
     "data": {
      "text/html": [
       "<span style=\"color:#008080\">teal</span> #008080"
      ],
      "text/plain": [
       "<IPython.core.display.HTML object>"
      ]
     },
     "metadata": {},
     "output_type": "display_data"
    }
   ],
   "source": [
    "c= Color('gray')-red # colors can be substracted too. \n",
    "print(c,c.hex) # notice RGB values were bounded"
   ]
  },
  {
   "cell_type": "markdown",
   "metadata": {},
   "source": [
    "## Colorspaces and conversion"
   ]
  },
  {
   "cell_type": "code",
   "execution_count": 11,
   "metadata": {
    "collapsed": false
   },
   "outputs": [
    {
     "data": {
      "text/plain": [
       "('XYZ', 'xyY', 'Lab', 'Luv', 'HSV', 'CMYK', 'RGB', 'HEX')"
      ]
     },
     "execution_count": 11,
     "metadata": {},
     "output_type": "execute_result"
    }
   ],
   "source": [
    "# Colors can be initialized and converted to-from any of the following colorspaces\n",
    "colorspaces"
   ]
  },
  {
   "cell_type": "code",
   "execution_count": 12,
   "metadata": {
    "collapsed": false
   },
   "outputs": [
    {
     "data": {
      "text/html": [
       "rgb hex cmyk lab"
      ],
      "text/plain": [
       "<IPython.core.display.HTML object>"
      ]
     },
     "metadata": {},
     "output_type": "display_data"
    }
   ],
   "source": [
    "#each Color keeps track of the colorspace used at construction\n",
    "print(blue.space,red.space,cmyk.space,lab.space) "
   ]
  },
  {
   "cell_type": "code",
   "execution_count": 13,
   "metadata": {
    "collapsed": false
   },
   "outputs": [
    {
     "data": {
      "text/html": [
       "XYZ = (0.412453,0.212671,0.019334)"
      ],
      "text/plain": [
       "<IPython.core.display.HTML object>"
      ]
     },
     "metadata": {},
     "output_type": "display_data"
    },
    {
     "data": {
      "text/html": [
       "xyY = (0.6399998137970202,0.32999978276319014,0.212671)"
      ],
      "text/plain": [
       "<IPython.core.display.HTML object>"
      ]
     },
     "metadata": {},
     "output_type": "display_data"
    },
    {
     "data": {
      "text/html": [
       "Lab = (53.2405879437449,80.0923082256922,67.2027510444287)"
      ],
      "text/plain": [
       "<IPython.core.display.HTML object>"
      ]
     },
     "metadata": {},
     "output_type": "display_data"
    },
    {
     "data": {
      "text/html": [
       "Luv = (53.2405879437449,175.0144735628877,37.75617373935089)"
      ],
      "text/plain": [
       "<IPython.core.display.HTML object>"
      ]
     },
     "metadata": {},
     "output_type": "display_data"
    },
    {
     "data": {
      "text/html": [
       "HSV = (0.0,1.0,1.0)"
      ],
      "text/plain": [
       "<IPython.core.display.HTML object>"
      ]
     },
     "metadata": {},
     "output_type": "display_data"
    },
    {
     "data": {
      "text/html": [
       "CMYK = (0.0,1.0,1.0,0.0)"
      ],
      "text/plain": [
       "<IPython.core.display.HTML object>"
      ]
     },
     "metadata": {},
     "output_type": "display_data"
    },
    {
     "data": {
      "text/html": [
       "RGB = (1.0,0.0,0.0)"
      ],
      "text/plain": [
       "<IPython.core.display.HTML object>"
      ]
     },
     "metadata": {},
     "output_type": "display_data"
    },
    {
     "data": {
      "text/html": [
       "HEX = #ff0000"
      ],
      "text/plain": [
       "<IPython.core.display.HTML object>"
      ]
     },
     "metadata": {},
     "output_type": "display_data"
    }
   ],
   "source": [
    "for s in colorspaces:\n",
    "    print(s,'=',red.convert(s))"
   ]
  },
  {
   "cell_type": "code",
   "execution_count": 14,
   "metadata": {
    "collapsed": false
   },
   "outputs": [],
   "source": [
    "# converters #should produce a graph but doesn't work yet"
   ]
  },
  {
   "cell_type": "markdown",
   "metadata": {},
   "source": [
    "## Color ranges"
   ]
  },
  {
   "cell_type": "code",
   "execution_count": 15,
   "metadata": {
    "collapsed": false
   },
   "outputs": [
    {
     "data": {
      "text/html": [
       "[<span style=\"color:#ff0000\">red</span>,<span style=\"color:#ff5d00\">~orangered</span>,<span style=\"color:#ffb900\">~orange</span>,<span style=\"color:#e8ff00\">~yellow</span>,<span style=\"color:#8bff00\">~chartreuse</span>,<span style=\"color:#2eff00\">~lime</span>,<span style=\"color:#00ff2e\">~lime</span>,<span style=\"color:#00ff8b\">~springgreen</span>,<span style=\"color:#00ffe8\">~turquoise</span>,<span style=\"color:#00b9ff\">~deepskyblue</span>,<span style=\"color:#005dff\">~royalblue</span>,<span style=\"color:#0000ff\">blue</span>]"
      ],
      "text/plain": [
       "<IPython.core.display.HTML object>"
      ]
     },
     "metadata": {},
     "output_type": "display_data"
    }
   ],
   "source": [
    "print(color_range(12,'red','blue')) # ranges are generated in by linear interpolation in 'hsv' by default"
   ]
  },
  {
   "cell_type": "code",
   "execution_count": 16,
   "metadata": {
    "collapsed": false
   },
   "outputs": [
    {
     "data": {
      "text/html": [
       "[<span style=\"color:#ff0000\">red</span>,<span style=\"color:#f50055\">~crimson</span>,<span style=\"color:#e90076\">~deeppink</span>,<span style=\"color:#de008f\">~mediumvioletred</span>,<span style=\"color:#d100a2\">~mediumvioletred</span>,<span style=\"color:#c300b4\">~darkorchid</span>,<span style=\"color:#b400c3\">~darkorchid</span>,<span style=\"color:#a200d1\">~darkviolet</span>,<span style=\"color:#8f00de\">~darkviolet</span>,<span style=\"color:#7600e9\">~blueviolet</span>,<span style=\"color:#5500f5\">~blue</span>,<span style=\"color:#0000ff\">blue</span>]"
      ],
      "text/plain": [
       "<IPython.core.display.HTML object>"
      ]
     },
     "metadata": {},
     "output_type": "display_data"
    }
   ],
   "source": [
    "print(color_range(12,'red','blue','xyz')) # but another colorspace can be specified"
   ]
  },
  {
   "cell_type": "markdown",
   "metadata": {},
   "source": [
    "## Standard color tables"
   ]
  },
  {
   "cell_type": "code",
   "execution_count": 17,
   "metadata": {
    "collapsed": false
   },
   "outputs": [
    {
     "data": {
      "text/html": [
       "color contains 144 web colors indexed by name : <span style=\"color:#0000ff\">blue</span>"
      ],
      "text/plain": [
       "<IPython.core.display.HTML object>"
      ]
     },
     "metadata": {},
     "output_type": "display_data"
    },
    {
     "data": {
      "text/html": [
       "color_lookup contains 138 web colors indexed by hex : <span style=\"color:#808000\">olive</span>"
      ],
      "text/plain": [
       "<IPython.core.display.HTML object>"
      ]
     },
     "metadata": {},
     "output_type": "display_data"
    },
    {
     "data": {
      "text/html": [
       "acadcolors contains 256 Autocad ACI colors indexed by int : [<span style=\"color:#000000\">black</span>,<span style=\"color:#ff0000\">red</span>,<span style=\"color:#ffff00\">yellow</span>,<span style=\"color:#00ff00\">lime</span>,<span style=\"color:#00ffff\">cyan</span>,<span style=\"color:#0000ff\">blue</span>,<span style=\"color:#ff00ff\">magenta</span>,<span style=\"color:#ffffff\">white</span>,<span style=\"color:#414141\">8</span>,<span style=\"color:#808080\">grey</span>,<span style=\"color:#ff0000\">red</span>,<span style=\"color:#ffaaaa\">11</span>,<span style=\"color:#bd0000\">12</span>,<span style=\"color:#bd7e7e\">13</span>,<span style=\"color:#810000\">14</span>,<span style=\"color:#815656\">15</span>]"
      ],
      "text/plain": [
       "<IPython.core.display.HTML object>"
      ]
     },
     "metadata": {},
     "output_type": "display_data"
    },
    {
     "data": {
      "text/html": [
       "pantone contains 907 Pantone colors indexed by name : <span style=\"color:#da1f28\">1795C</span>"
      ],
      "text/plain": [
       "<IPython.core.display.HTML object>"
      ]
     },
     "metadata": {},
     "output_type": "display_data"
    }
   ],
   "source": [
    "# several dictionaries of standard  colors are predefined:\n",
    "print('color contains',len(color),'web colors indexed by name :',color['blue'])\n",
    "print('color_lookup contains',len(color_lookup),'web colors indexed by hex :',color_lookup['#808000'])\n",
    "print('acadcolors contains',len(acadcolors),'Autocad ACI colors indexed by int :',acadcolors[0:16])\n",
    "print('pantone contains',len(pantone),'Pantone colors indexed by name :',pantone['1795C'])"
   ]
  },
  {
   "cell_type": "code",
   "execution_count": 18,
   "metadata": {
    "collapsed": false
   },
   "outputs": [
    {
     "data": {
      "text/html": [
       "<table><tr><td style=\"background-color:#fced89;\"><span title=\"lab = (93.0, -8.0, 50.0)\" style=\"color:#000000\">100C</span></td><td style=\"background-color:#fdea63;\"><span title=\"lab = (92.0, -9.0, 66.0)\" style=\"color:#000000\">101C</span></td><td style=\"background-color:#ffe500;\"><span title=\"lab = (91.0, -7.0, 100.0)\" style=\"color:#000000\">102C</span></td><td style=\"background-color:#d1aa00;\"><span title=\"lab = (71.0, 0.0, 91.0)\" style=\"color:#000000\">103C</span></td><td style=\"background-color:#b29400;\"><span title=\"lab = (62.0, -1.0, 74.0)\" style=\"color:#000000\">104C</span></td><td style=\"background-color:#867015;\"><span title=\"lab = (48.0, -1.0, 49.0)\" style=\"color:#ffffff\">105C</span></td><td style=\"background-color:#ffe563;\"><span title=\"lab = (91.0, -6.0, 65.0)\" style=\"color:#000000\">106C</span></td><td style=\"background-color:#ffe135;\"><span title=\"lab = (90.0, -4.0, 81.0)\" style=\"color:#000000\">107C</span></td><td style=\"background-color:#ffd900;\"><span title=\"lab = (88.0, 0.0, 95.0)\" style=\"color:#000000\">108C</span></td><td style=\"background-color:#ffd000;\"><span title=\"lab = (86.0, 5.0, 100.0)\" style=\"color:#000000\">109C</span></td><td style=\"background-color:#e2ab00;\"><span title=\"lab = (73.0, 7.0, 94.0)\" style=\"color:#000000\">110C</span></td><td style=\"background-color:#b78e00;\"><span title=\"lab = (61.0, 4.0, 75.0)\" style=\"color:#000000\">111C</span></td><td style=\"background-color:#a08000;\"><span title=\"lab = (55.0, 2.0, 62.0)\" style=\"color:#000000\">112C</span></td><td style=\"background-color:#ffe05c;\"><span title=\"lab = (90.0, -2.0, 67.0)\" style=\"color:#000000\">113C</span></td><td style=\"background-color:#ffdd52;\"><span title=\"lab = (89.0, -2.0, 70.0)\" style=\"color:#000000\">114C</span></td><td style=\"background-color:#ffdd4d;\"><span title=\"lab = (89.0, -1.0, 72.0)\" style=\"color:#000000\">115C</span></td><td style=\"background-color:#ffcc00;\"><span title=\"lab = (85.0, 7.0, 93.0)\" style=\"color:#000000\">116C</span></td><td style=\"background-color:#d69c00;\"><span title=\"lab = (68.0, 10.0, 83.0)\" style=\"color:#000000\">117C</span></td><td style=\"background-color:#b98900;\"><span title=\"lab = (60.0, 8.0, 73.0)\" style=\"color:#000000\">118C</span></td><td style=\"background-color:#8e741c;\"><span title=\"lab = (50.0, 1.0, 49.0)\" style=\"color:#000000\">119C</span></td></tr>\n",
       "<tr><td style=\"background-color:#ffdd79;\"><span title=\"lab = (89.0, 0.0, 53.0)\" style=\"color:#000000\">120C</span></td><td style=\"background-color:#ffdb70;\"><span title=\"lab = (89.0, 2.0, 57.0)\" style=\"color:#000000\">121C</span></td><td style=\"background-color:#ffd352;\"><span title=\"lab = (87.0, 5.0, 68.0)\" style=\"color:#000000\">122C</span></td><td style=\"background-color:#ffc62a;\"><span title=\"lab = (84.0, 12.0, 79.0)\" style=\"color:#000000\">123C</span></td><td style=\"background-color:#f5ab00;\"><span title=\"lab = (75.0, 16.0, 85.0)\" style=\"color:#000000\">124C</span></td><td style=\"background-color:#c28900;\"><span title=\"lab = (61.0, 12.0, 72.0)\" style=\"color:#000000\">125C</span></td><td style=\"background-color:#a87c04;\"><span title=\"lab = (55.0, 8.0, 60.0)\" style=\"color:#000000\">126C</span></td><td style=\"background-color:#f7df87;\"><span title=\"lab = (89.0, -3.0, 46.0)\" style=\"color:#000000\">127C</span></td><td style=\"background-color:#f9d45f;\"><span title=\"lab = (86.0, 0.0, 61.0)\" style=\"color:#000000\">128C</span></td><td style=\"background-color:#facc47;\"><span title=\"lab = (84.0, 3.0, 69.0)\" style=\"color:#000000\">129C</span></td><td style=\"background-color:#f8a900;\"><span title=\"lab = (75.0, 18.0, 86.0)\" style=\"color:#000000\">130C</span></td><td style=\"background-color:#d98e00;\"><span title=\"lab = (65.0, 19.0, 80.0)\" style=\"color:#000000\">131C</span></td><td style=\"background-color:#ad7b00;\"><span title=\"lab = (55.0, 11.0, 64.0)\" style=\"color:#000000\">132C</span></td><td style=\"background-color:#745713;\"><span title=\"lab = (39.0, 5.0, 41.0)\" style=\"color:#ffffff\">133C</span></td><td style=\"background-color:#ffd484;\"><span title=\"lab = (87.0, 5.0, 45.0)\" style=\"color:#000000\">134C</span></td><td style=\"background-color:#ffc75b;\"><span title=\"lab = (84.0, 12.0, 61.0)\" style=\"color:#000000\">135C</span></td><td style=\"background-color:#ffba3b;\"><span title=\"lab = (81.0, 18.0, 71.0)\" style=\"color:#000000\">136C</span></td><td style=\"background-color:#ff9f00;\"><span title=\"lab = (75.0, 32.0, 87.0)\" style=\"color:#000000\">137C</span></td><td style=\"background-color:#eb7f00;\"><span title=\"lab = (64.0, 35.0, 83.0)\" style=\"color:#000000\">138C</span></td><td style=\"background-color:#bb7000;\"><span title=\"lab = (54.0, 23.0, 68.0)\" style=\"color:#000000\">139C</span></td></tr>\n",
       "<tr><td style=\"background-color:#7f5612;\"><span title=\"lab = (40.0, 11.0, 43.0)\" style=\"color:#ffffff\">140C</span></td><td style=\"background-color:#f7c869;\"><span title=\"lab = (83.0, 6.0, 53.0)\" style=\"color:#000000\">141C</span></td><td style=\"background-color:#f7b947;\"><span title=\"lab = (79.0, 12.0, 64.0)\" style=\"color:#000000\">142C</span></td><td style=\"background-color:#f7a926;\"><span title=\"lab = (75.0, 19.0, 72.0)\" style=\"color:#000000\">143C</span></td><td style=\"background-color:#f27f00;\"><span title=\"lab = (65.0, 38.0, 79.0)\" style=\"color:#000000\">144C</span></td><td style=\"background-color:#d57600;\"><span title=\"lab = (59.0, 31.0, 71.0)\" style=\"color:#000000\">145C</span></td><td style=\"background-color:#a35f00;\"><span title=\"lab = (47.0, 22.0, 56.0)\" style=\"color:#ffffff\">146C</span></td><td style=\"background-color:#745721;\"><span title=\"lab = (39.0, 6.0, 35.0)\" style=\"color:#ffffff\">147C</span></td><td style=\"background-color:#ffce9d;\"><span title=\"lab = (86.0, 11.0, 31.0)\" style=\"color:#000000\">148C</span></td><td style=\"background-color:#ffc589;\"><span title=\"lab = (84.0, 15.0, 39.0)\" style=\"color:#000000\">149C</span></td><td style=\"background-color:#ffa74f;\"><span title=\"lab = (77.0, 29.0, 59.0)\" style=\"color:#000000\">150C</span></td><td style=\"background-color:#ff7200;\"><span title=\"lab = (66.0, 53.0, 86.0)\" style=\"color:#000000\">151C</span></td><td style=\"background-color:#ed6f00;\"><span title=\"lab = (61.0, 44.0, 77.0)\" style=\"color:#000000\">152C</span></td><td style=\"background-color:#c46500;\"><span title=\"lab = (53.0, 33.0, 63.0)\" style=\"color:#000000\">153C</span></td><td style=\"background-color:#9f550b;\"><span title=\"lab = (44.0, 26.0, 50.0)\" style=\"color:#ffffff\">154C</span></td><td style=\"background-color:#f1d6b1;\"><span title=\"lab = (87.0, 4.0, 22.0)\" style=\"color:#000000\">155C</span></td><td style=\"background-color:#f4bf8a;\"><span title=\"lab = (81.0, 12.0, 34.0)\" style=\"color:#000000\">156C</span></td><td style=\"background-color:#f2994e;\"><span title=\"lab = (71.0, 27.0, 52.0)\" style=\"color:#000000\">157C</span></td><td style=\"background-color:#ed690e;\"><span title=\"lab = (60.0, 47.0, 66.0)\" style=\"color:#000000\">158C</span></td><td style=\"background-color:#d35907;\"><span title=\"lab = (53.0, 45.0, 61.0)\" style=\"color:#000000\">159C</span></td></tr>\n",
       "<tr><td style=\"background-color:#a74f14;\"><span title=\"lab = (44.0, 33.0, 48.0)\" style=\"color:#ffffff\">160C</span></td><td style=\"background-color:#623416;\"><span title=\"lab = (27.0, 18.0, 27.0)\" style=\"color:#ffffff\">161C</span></td><td style=\"background-color:#ffc4ab;\"><span title=\"lab = (84.0, 19.0, 21.0)\" style=\"color:#000000\">162C</span></td><td style=\"background-color:#ff9c71;\"><span title=\"lab = (75.0, 37.0, 40.0)\" style=\"color:#000000\">163C</span></td><td style=\"background-color:#ff7e44;\"><span title=\"lab = (69.0, 50.0, 56.0)\" style=\"color:#000000\">164C</span></td><td style=\"background-color:#ff6000;\"><span title=\"lab = (63.0, 61.0, 75.0)\" style=\"color:#000000\">165C</span></td><td style=\"background-color:#eb5300;\"><span title=\"lab = (56.0, 56.0, 70.0)\" style=\"color:#000000\">166C</span></td><td style=\"background-color:#c5500d;\"><span title=\"lab = (49.0, 44.0, 56.0)\" style=\"color:#ffffff\">167C</span></td><td style=\"background-color:#723114;\"><span title=\"lab = (29.0, 27.0, 31.0)\" style=\"color:#ffffff\">168C</span></td><td style=\"background-color:#ffb6b0;\"><span title=\"lab = (81.0, 27.0, 14.0)\" style=\"color:#000000\">169C</span></td><td style=\"background-color:#ff887a;\"><span title=\"lab = (71.0, 47.0, 30.0)\" style=\"color:#000000\">170C</span></td><td style=\"background-color:#ff6241;\"><span title=\"lab = (64.0, 62.0, 52.0)\" style=\"color:#000000\">171C</span></td><td style=\"background-color:#ff4600;\"><span title=\"lab = (58.0, 68.0, 70.0)\" style=\"color:#000000\">172C</span></td><td style=\"background-color:#db4417;\"><span title=\"lab = (51.0, 57.0, 56.0)\" style=\"color:#000000\">173C</span></td><td style=\"background-color:#9c3415;\"><span title=\"lab = (37.0, 42.0, 41.0)\" style=\"color:#ffffff\">174C</span></td><td style=\"background-color:#713120;\"><span title=\"lab = (29.0, 27.0, 24.0)\" style=\"color:#ffffff\">175C</span></td><td style=\"background-color:#ffacb8;\"><span title=\"lab = (79.0, 33.0, 7.0)\" style=\"color:#000000\">176C</span></td><td style=\"background-color:#ff818b;\"><span title=\"lab = (70.0, 52.0, 19.0)\" style=\"color:#000000\">177C</span></td><td style=\"background-color:#ff5c60;\"><span title=\"lab = (63.0, 65.0, 34.0)\" style=\"color:#000000\">178C</span></td><td style=\"background-color:#e73927;\"><span title=\"lab = (52.0, 65.0, 51.0)\" style=\"color:#000000\">179C</span></td></tr>\n",
       "<tr><td style=\"background-color:#c4362b;\"><span title=\"lab = (45.0, 55.0, 40.0)\" style=\"color:#ffffff\">180C</span></td><td style=\"background-color:#7c2720;\"><span title=\"lab = (29.0, 36.0, 25.0)\" style=\"color:#ffffff\">181C</span></td><td style=\"background-color:#f8b8ca;\"><span title=\"lab = (81.0, 26.0, 0.0)\" style=\"color:#000000\">182C</span></td><td style=\"background-color:#ff8fa9;\"><span title=\"lab = (72.0, 45.0, 5.0)\" style=\"color:#000000\">183C</span></td><td style=\"background-color:#fc5f7e;\"><span title=\"lab = (62.0, 62.0, 15.0)\" style=\"color:#000000\">184C</span></td><td style=\"background-color:#ed0835;\"><span title=\"lab = (50.0, 76.0, 42.0)\" style=\"color:#ffffff\">185C</span></td><td style=\"background-color:#d41032;\"><span title=\"lab = (45.0, 69.0, 37.0)\" style=\"color:#ffffff\">186C</span></td><td style=\"background-color:#b71e34;\"><span title=\"lab = (40.0, 59.0, 28.0)\" style=\"color:#ffffff\">187C</span></td><td style=\"background-color:#7e232f;\"><span title=\"lab = (29.0, 40.0, 15.0)\" style=\"color:#ffffff\">188C</span></td><td style=\"background-color:#f9a2be;\"><span title=\"lab = (76.0, 36.0, -1.0)\" style=\"color:#000000\">189C</span></td><td style=\"background-color:#fb799e;\"><span title=\"lab = (67.0, 53.0, 4.0)\" style=\"color:#000000\">190C</span></td><td style=\"background-color:#f33f70;\"><span title=\"lab = (56.0, 70.0, 15.0)\" style=\"color:#000000\">191C</span></td><td style=\"background-color:#eb0b48;\"><span title=\"lab = (50.0, 76.0, 31.0)\" style=\"color:#ffffff\">192C</span></td><td style=\"background-color:#c50e3d;\"><span title=\"lab = (42.0, 66.0, 26.0)\" style=\"color:#ffffff\">193C</span></td><td style=\"background-color:#9d1f3c;\"><span title=\"lab = (35.0, 52.0, 16.0)\" style=\"color:#ffffff\">194C</span></td><td style=\"background-color:#edc8d4;\"><span title=\"lab = (84.0, 15.0, -1.0)\" style=\"color:#000000\">196C</span></td><td style=\"background-color:#ed9cb3;\"><span title=\"lab = (73.0, 33.0, 1.0)\" style=\"color:#000000\">197C</span></td><td style=\"background-color:#e84f6f;\"><span title=\"lab = (56.0, 61.0, 15.0)\" style=\"color:#000000\">198C</span></td><td style=\"background-color:#dd0e3f;\"><span title=\"lab = (47.0, 72.0, 32.0)\" style=\"color:#ffffff\">199C</span></td><td style=\"background-color:#c60c35;\"><span title=\"lab = (42.0, 66.0, 31.0)\" style=\"color:#ffffff\">200C</span></td></tr>\n",
       "<tr><td style=\"background-color:#a01c32;\"><span title=\"lab = (35.0, 53.0, 22.0)\" style=\"color:#ffffff\">201C</span></td><td style=\"background-color:#8a2032;\"><span title=\"lab = (31.0, 45.0, 16.0)\" style=\"color:#ffffff\">202C</span></td><td style=\"background-color:#eaadcc;\"><span title=\"lab = (77.0, 27.0, -7.0)\" style=\"color:#000000\">203C</span></td><td style=\"background-color:#e77baa;\"><span title=\"lab = (65.0, 47.0, -6.0)\" style=\"color:#000000\">204C</span></td><td style=\"background-color:#e54784;\"><span title=\"lab = (55.0, 65.0, 1.0)\" style=\"color:#000000\">205C</span></td><td style=\"background-color:#d8004b;\"><span title=\"lab = (45.0, 75.0, 22.0)\" style=\"color:#ffffff\">206C</span></td><td style=\"background-color:#b30442;\"><span title=\"lab = (38.0, 63.0, 17.0)\" style=\"color:#ffffff\">207C</span></td><td style=\"background-color:#902246;\"><span title=\"lab = (33.0, 48.0, 6.0)\" style=\"color:#ffffff\">208C</span></td><td style=\"background-color:#772841;\"><span title=\"lab = (29.0, 37.0, 3.0)\" style=\"color:#ffffff\">209C</span></td><td style=\"background-color:#faa0cb;\"><span title=\"lab = (76.0, 39.0, -8.0)\" style=\"color:#000000\">210C</span></td><td style=\"background-color:#fb80b8;\"><span title=\"lab = (69.0, 53.0, -8.0)\" style=\"color:#000000\">211C</span></td><td style=\"background-color:#f35099;\"><span title=\"lab = (59.0, 68.0, -5.0)\" style=\"color:#000000\">212C</span></td><td style=\"background-color:#e81c76;\"><span title=\"lab = (51.0, 76.0, 4.0)\" style=\"color:#000000\">213C</span></td><td style=\"background-color:#d10462;\"><span title=\"lab = (45.0, 72.0, 7.0)\" style=\"color:#ffffff\">214C</span></td><td style=\"background-color:#ad1654;\"><span title=\"lab = (38.0, 60.0, 5.0)\" style=\"color:#ffffff\">215C</span></td><td style=\"background-color:#7a1e41;\"><span title=\"lab = (28.0, 42.0, 2.0)\" style=\"color:#ffffff\">216C</span></td><td style=\"background-color:#eabcdc;\"><span title=\"lab = (81.0, 22.0, -10.0)\" style=\"color:#000000\">217C</span></td><td style=\"background-color:#e972b9;\"><span title=\"lab = (64.0, 54.0, -16.0)\" style=\"color:#000000\">218C</span></td><td style=\"background-color:#e12789;\"><span title=\"lab = (51.0, 74.0, -8.0)\" style=\"color:#000000\">219C</span></td><td style=\"background-color:#b00055;\"><span title=\"lab = (37.0, 66.0, 3.0)\" style=\"color:#ffffff\">220C</span></td></tr>\n",
       "<tr><td style=\"background-color:#98004a;\"><span title=\"lab = (32.0, 58.0, 2.0)\" style=\"color:#ffffff\">221C</span></td><td style=\"background-color:#6d1b40;\"><span title=\"lab = (25.0, 39.0, -2.0)\" style=\"color:#ffffff\">222C</span></td><td style=\"background-color:#f295d1;\"><span title=\"lab = (73.0, 43.0, -16.0)\" style=\"color:#000000\">223C</span></td><td style=\"background-color:#ee6dbe;\"><span title=\"lab = (64.0, 59.0, -19.0)\" style=\"color:#000000\">224C</span></td><td style=\"background-color:#e62c9e;\"><span title=\"lab = (53.0, 76.0, -17.0)\" style=\"color:#000000\">225C</span></td><td style=\"background-color:#d70076;\"><span title=\"lab = (45.0, 80.0, -5.0)\" style=\"color:#ffffff\">226C</span></td><td style=\"background-color:#ad005d;\"><span title=\"lab = (36.0, 68.0, -4.0)\" style=\"color:#ffffff\">227C</span></td><td style=\"background-color:#8a0c52;\"><span title=\"lab = (30.0, 53.0, -6.0)\" style=\"color:#ffffff\">228C</span></td><td style=\"background-color:#6a1e44;\"><span title=\"lab = (25.0, 37.0, -5.0)\" style=\"color:#ffffff\">229C</span></td><td style=\"background-color:#f7a9dc;\"><span title=\"lab = (78.0, 36.0, -14.0)\" style=\"color:#000000\">230C</span></td><td style=\"background-color:#f477c8;\"><span title=\"lab = (67.0, 57.0, -20.0)\" style=\"color:#000000\">231C</span></td><td style=\"background-color:#ef46b0;\"><span title=\"lab = (58.0, 73.0, -20.0)\" style=\"color:#000000\">232C</span></td><td style=\"background-color:#ca0081;\"><span title=\"lab = (44.0, 75.0, -14.0)\" style=\"color:#ffffff\">233C</span></td><td style=\"background-color:#a4026a;\"><span title=\"lab = (36.0, 63.0, -12.0)\" style=\"color:#ffffff\">234C</span></td><td style=\"background-color:#890d56;\"><span title=\"lab = (30.0, 53.0, -9.0)\" style=\"color:#ffffff\">235C</span></td><td style=\"background-color:#efb0de;\"><span title=\"lab = (79.0, 30.0, -14.0)\" style=\"color:#000000\">236C</span></td><td style=\"background-color:#ea87d1;\"><span title=\"lab = (69.0, 48.0, -22.0)\" style=\"color:#000000\">237C</span></td><td style=\"background-color:#e457bb;\"><span title=\"lab = (59.0, 65.0, -25.0)\" style=\"color:#000000\">238C</span></td><td style=\"background-color:#dd36ad;\"><span title=\"lab = (53.0, 73.0, -26.0)\" style=\"color:#000000\">239C</span></td><td style=\"background-color:#c32698;\"><span title=\"lab = (46.0, 69.0, -25.0)\" style=\"color:#ffffff\">240C</span></td></tr>\n",
       "<tr><td style=\"background-color:#ab1281;\"><span title=\"lab = (39.0, 65.0, -22.0)\" style=\"color:#ffffff\">241C</span></td><td style=\"background-color:#7b1e58;\"><span title=\"lab = (29.0, 45.0, -12.0)\" style=\"color:#ffffff\">242C</span></td><td style=\"background-color:#e6b8e5;\"><span title=\"lab = (80.0, 24.0, -16.0)\" style=\"color:#000000\">243C</span></td><td style=\"background-color:#e3a4e0;\"><span title=\"lab = (75.0, 33.0, -21.0)\" style=\"color:#000000\">244C</span></td><td style=\"background-color:#dc84d6;\"><span title=\"lab = (67.0, 46.0, -28.0)\" style=\"color:#000000\">245C</span></td><td style=\"background-color:#c31aab;\"><span title=\"lab = (46.0, 74.0, -36.0)\" style=\"color:#ffffff\">246C</span></td><td style=\"background-color:#b0079d;\"><span title=\"lab = (41.0, 71.0, -36.0)\" style=\"color:#ffffff\">247C</span></td><td style=\"background-color:#9b0e88;\"><span title=\"lab = (36.0, 63.0, -31.0)\" style=\"color:#ffffff\">248C</span></td><td style=\"background-color:#792465;\"><span title=\"lab = (30.0, 44.0, -19.0)\" style=\"color:#ffffff\">249C</span></td><td style=\"background-color:#e2c1e6;\"><span title=\"lab = (82.0, 18.0, -14.0)\" style=\"color:#000000\">250C</span></td><td style=\"background-color:#d59de0;\"><span title=\"lab = (72.0, 32.0, -26.0)\" style=\"color:#000000\">251C</span></td><td style=\"background-color:#c467cf;\"><span title=\"lab = (58.0, 52.0, -38.0)\" style=\"color:#000000\">252C</span></td><td style=\"background-color:#a526b0;\"><span title=\"lab = (42.0, 66.0, -46.0)\" style=\"color:#ffffff\">253C</span></td><td style=\"background-color:#922a9a;\"><span title=\"lab = (38.0, 57.0, -39.0)\" style=\"color:#ffffff\">254C</span></td><td style=\"background-color:#6d286c;\"><span title=\"lab = (29.0, 40.0, -25.0)\" style=\"color:#ffffff\">255C</span></td><td style=\"background-color:#d6bfdf;\"><span title=\"lab = (80.0, 14.0, -13.0)\" style=\"color:#000000\">256C</span></td><td style=\"background-color:#c7a5d3;\"><span title=\"lab = (72.0, 21.0, -19.0)\" style=\"color:#000000\">257C</span></td><td style=\"background-color:#8d4b9d;\"><span title=\"lab = (43.0, 41.0, -33.0)\" style=\"color:#ffffff\">258C</span></td><td style=\"background-color:#681f72;\"><span title=\"lab = (27.0, 44.0, -32.0)\" style=\"color:#ffffff\">259C</span></td><td style=\"background-color:#5c1f5f;\"><span title=\"lab = (24.0, 37.0, -25.0)\" style=\"color:#ffffff\">260C</span></td></tr>\n",
       "<tr><td style=\"background-color:#582155;\"><span title=\"lab = (23.0, 33.0, -20.0)\" style=\"color:#ffffff\">261C</span></td><td style=\"background-color:#4e2347;\"><span title=\"lab = (21.0, 26.0, -14.0)\" style=\"color:#ffffff\">262C</span></td><td style=\"background-color:#d6cdec;\"><span title=\"lab = (84.0, 9.0, -14.0)\" style=\"color:#000000\">263C</span></td><td style=\"background-color:#b5a8e5;\"><span title=\"lab = (72.0, 17.0, -29.0)\" style=\"color:#000000\">264C</span></td><td style=\"background-color:#8168d1;\"><span title=\"lab = (51.0, 34.0, -51.0)\" style=\"color:#000000\">265C</span></td><td style=\"background-color:#5739bb;\"><span title=\"lab = (35.0, 46.0, -64.0)\" style=\"color:#ffffff\">266C</span></td><td style=\"background-color:#402491;\"><span title=\"lab = (25.0, 41.0, -55.0)\" style=\"color:#ffffff\">267C</span></td><td style=\"background-color:#3f247d;\"><span title=\"lab = (23.0, 35.0, -46.0)\" style=\"color:#ffffff\">268C</span></td><td style=\"background-color:#402863;\"><span title=\"lab = (22.0, 25.0, -31.0)\" style=\"color:#ffffff\">269C</span></td><td style=\"background-color:#a8aedc;\"><span title=\"lab = (72.0, 8.0, -24.0)\" style=\"color:#000000\">270C</span></td><td style=\"background-color:#8b91d2;\"><span title=\"lab = (62.0, 13.0, -34.0)\" style=\"color:#000000\">271C</span></td><td style=\"background-color:#6e76c2;\"><span title=\"lab = (52.0, 17.0, -41.0)\" style=\"color:#000000\">272C</span></td><td style=\"background-color:#001b79;\"><span title=\"lab = (16.0, 32.0, -55.0)\" style=\"color:#ffffff\">273C</span></td><td style=\"background-color:#081665;\"><span title=\"lab = (13.0, 28.0, -47.0)\" style=\"color:#ffffff\">274C</span></td><td style=\"background-color:#0b1457;\"><span title=\"lab = (11.0, 24.0, -41.0)\" style=\"color:#ffffff\">275C</span></td><td style=\"background-color:#1f1c45;\"><span title=\"lab = (13.0, 14.0, -25.0)\" style=\"color:#ffffff\">276C</span></td><td style=\"background-color:#a2c8ec;\"><span title=\"lab = (79.0, -4.0, -22.0)\" style=\"color:#000000\">277C</span></td><td style=\"background-color:#80b5e9;\"><span title=\"lab = (72.0, -4.0, -31.0)\" style=\"color:#000000\">278C</span></td><td style=\"background-color:#008cdd;\"><span title=\"lab = (56.0, -2.0, -50.0)\" style=\"color:#000000\">279C</span></td><td style=\"background-color:#00297e;\"><span title=\"lab = (17.0, 16.0, -57.0)\" style=\"color:#ffffff\">280C</span></td></tr>\n",
       "<tr><td style=\"background-color:#002668;\"><span title=\"lab = (15.0, 10.0, -46.0)\" style=\"color:#ffffff\">281C</span></td><td style=\"background-color:#00214d;\"><span title=\"lab = (12.0, 3.0, -33.0)\" style=\"color:#ffffff\">282C</span></td><td style=\"background-color:#88bfea;\"><span title=\"lab = (75.0, -7.0, -27.0)\" style=\"color:#000000\">283C</span></td><td style=\"background-color:#57abe5;\"><span title=\"lab = (67.0, -8.0, -37.0)\" style=\"color:#000000\">284C</span></td><td style=\"background-color:#0079d4;\"><span title=\"lab = (48.0, -3.0, -58.0)\" style=\"color:#ffffff\">285C</span></td><td style=\"background-color:#003aae;\"><span title=\"lab = (25.0, 21.0, -73.0)\" style=\"color:#ffffff\">286C</span></td><td style=\"background-color:#003b99;\"><span title=\"lab = (24.0, 12.0, -62.0)\" style=\"color:#ffffff\">287C</span></td><td style=\"background-color:#003281;\"><span title=\"lab = (20.0, 9.0, -54.0)\" style=\"color:#ffffff\">288C</span></td><td style=\"background-color:#00254b;\"><span title=\"lab = (13.0, -1.0, -30.0)\" style=\"color:#ffffff\">289C</span></td><td style=\"background-color:#bad9ec;\"><span title=\"lab = (85.0, -6.0, -13.0)\" style=\"color:#000000\">290C</span></td><td style=\"background-color:#9bcdeb;\"><span title=\"lab = (80.0, -9.0, -20.0)\" style=\"color:#000000\">291C</span></td><td style=\"background-color:#56b2e5;\"><span title=\"lab = (69.0, -12.0, -34.0)\" style=\"color:#000000\">292C</span></td><td style=\"background-color:#004bb6;\"><span title=\"lab = (30.0, 9.0, -70.0)\" style=\"color:#ffffff\">293C</span></td><td style=\"background-color:#00377f;\"><span title=\"lab = (21.0, 2.0, -51.0)\" style=\"color:#ffffff\">294C</span></td><td style=\"background-color:#002e62;\"><span title=\"lab = (17.0, -2.0, -39.0)\" style=\"color:#ffffff\">295C</span></td><td style=\"background-color:#002841;\"><span title=\"lab = (14.0, -8.0, -21.0)\" style=\"color:#ffffff\">296C</span></td><td style=\"background-color:#6ac7ea;\"><span title=\"lab = (76.0, -18.0, -26.0)\" style=\"color:#000000\">297C</span></td><td style=\"background-color:#0eb6e7;\"><span title=\"lab = (69.0, -21.0, -35.0)\" style=\"color:#000000\">298C</span></td><td style=\"background-color:#00a0e1;\"><span title=\"lab = (60.0, -24.0, -46.0)\" style=\"color:#000000\">299C</span></td><td style=\"background-color:#006bc6;\"><span title=\"lab = (40.0, -13.0, -63.0)\" style=\"color:#ffffff\">300C</span></td></tr>\n",
       "<tr><td style=\"background-color:#00549b;\"><span title=\"lab = (31.0, -13.0, -52.0)\" style=\"color:#ffffff\">301C</span></td><td style=\"background-color:#00456f;\"><span title=\"lab = (25.0, -17.0, -34.0)\" style=\"color:#ffffff\">302C</span></td><td style=\"background-color:#00334b;\"><span title=\"lab = (18.0, -15.0, -22.0)\" style=\"color:#ffffff\">303C</span></td><td style=\"background-color:#9ddbeb;\"><span title=\"lab = (84.0, -16.0, -14.0)\" style=\"color:#000000\">304C</span></td><td style=\"background-color:#3acbec;\"><span title=\"lab = (76.0, -27.0, -27.0)\" style=\"color:#000000\">305C</span></td><td style=\"background-color:#00b7e6;\"><span title=\"lab = (67.0, -35.0, -38.0)\" style=\"color:#000000\">306C</span></td><td style=\"background-color:#0072b3;\"><span title=\"lab = (41.0, -31.0, -50.0)\" style=\"color:#ffffff\">307C</span></td><td style=\"background-color:#005984;\"><span title=\"lab = (32.0, -29.0, -36.0)\" style=\"color:#ffffff\">308C</span></td><td style=\"background-color:#003947;\"><span title=\"lab = (20.0, -20.0, -16.0)\" style=\"color:#ffffff\">309C</span></td><td style=\"background-color:#58d1e7;\"><span title=\"lab = (78.0, -27.0, -21.0)\" style=\"color:#000000\">310C</span></td><td style=\"background-color:#00c1e1;\"><span title=\"lab = (71.0, -35.0, -29.0)\" style=\"color:#000000\">311C</span></td><td style=\"background-color:#00a8d4;\"><span title=\"lab = (60.0, -45.0, -39.0)\" style=\"color:#000000\">312C</span></td><td style=\"background-color:#0093c7;\"><span title=\"lab = (52.0, -46.0, -44.0)\" style=\"color:#000000\">313C</span></td><td style=\"background-color:#007fab;\"><span title=\"lab = (45.0, -43.0, -39.0)\" style=\"color:#ffffff\">314C</span></td><td style=\"background-color:#006584;\"><span title=\"lab = (36.0, -38.0, -30.0)\" style=\"color:#ffffff\">315C</span></td><td style=\"background-color:#004650;\"><span title=\"lab = (25.0, -25.0, -14.0)\" style=\"color:#ffffff\">316C</span></td><td style=\"background-color:#bbe4e9;\"><span title=\"lab = (88.0, -12.0, -7.0)\" style=\"color:#000000\">317C</span></td><td style=\"background-color:#88dce6;\"><span title=\"lab = (83.0, -23.0, -13.0)\" style=\"color:#000000\">318C</span></td><td style=\"background-color:#09ccda;\"><span title=\"lab = (75.0, -36.0, -19.0)\" style=\"color:#000000\">319C</span></td><td style=\"background-color:#0098ad;\"><span title=\"lab = (53.0, -61.0, -28.0)\" style=\"color:#000000\">320C</span></td></tr>\n",
       "<tr><td style=\"background-color:#008193;\"><span title=\"lab = (45.0, -55.0, -25.0)\" style=\"color:#ffffff\">321C</span></td><td style=\"background-color:#006e7a;\"><span title=\"lab = (39.0, -46.0, -19.0)\" style=\"color:#ffffff\">322C</span></td><td style=\"background-color:#006169;\"><span title=\"lab = (35.0, -37.0, -15.0)\" style=\"color:#ffffff\">323C</span></td><td style=\"background-color:#93d8da;\"><span title=\"lab = (82.0, -21.0, -8.0)\" style=\"color:#000000\">324C</span></td><td style=\"background-color:#38c6c6;\"><span title=\"lab = (73.0, -36.0, -11.0)\" style=\"color:#000000\">325C</span></td><td style=\"background-color:#00b0ae;\"><span title=\"lab = (63.0, -51.0, -13.0)\" style=\"color:#000000\">326C</span></td><td style=\"background-color:#008378;\"><span title=\"lab = (45.0, -69.0, -9.0)\" style=\"color:#ffffff\">327C</span></td><td style=\"background-color:#007168;\"><span title=\"lab = (39.0, -58.0, -8.0)\" style=\"color:#ffffff\">328C</span></td><td style=\"background-color:#00625a;\"><span title=\"lab = (34.0, -51.0, -7.0)\" style=\"color:#ffffff\">329C</span></td><td style=\"background-color:#00524e;\"><span title=\"lab = (30.0, -30.0, -5.0)\" style=\"color:#ffffff\">330C</span></td><td style=\"background-color:#b1e7e0;\"><span title=\"lab = (88.0, -19.0, -2.0)\" style=\"color:#000000\">331C</span></td><td style=\"background-color:#9de4dc;\"><span title=\"lab = (86.0, -24.0, -3.0)\" style=\"color:#000000\">332C</span></td><td style=\"background-color:#3bd9c8;\"><span title=\"lab = (79.0, -44.0, -3.0)\" style=\"color:#000000\">333C</span></td><td style=\"background-color:#009879;\"><span title=\"lab = (53.0, -69.0, 2.0)\" style=\"color:#000000\">334C</span></td><td style=\"background-color:#007b65;\"><span title=\"lab = (44.0, -51.0, 1.0)\" style=\"color:#ffffff\">335C</span></td><td style=\"background-color:#006450;\"><span title=\"lab = (36.0, -41.0, 2.0)\" style=\"color:#ffffff\">336C</span></td><td style=\"background-color:#94d9c9;\"><span title=\"lab = (82.0, -25.0, 1.0)\" style=\"color:#000000\">337C</span></td><td style=\"background-color:#75d1be;\"><span title=\"lab = (78.0, -32.0, 1.0)\" style=\"color:#000000\">338C</span></td><td style=\"background-color:#00b08c;\"><span title=\"lab = (63.0, -56.0, 6.0)\" style=\"color:#000000\">339C</span></td><td style=\"background-color:#009361;\"><span title=\"lab = (51.0, -73.0, 13.0)\" style=\"color:#000000\">340C</span></td></tr>\n",
       "<tr><td style=\"background-color:#007756;\"><span title=\"lab = (42.0, -54.0, 7.0)\" style=\"color:#ffffff\">341C</span></td><td style=\"background-color:#006a4f;\"><span title=\"lab = (38.0, -44.0, 6.0)\" style=\"color:#ffffff\">342C</span></td><td style=\"background-color:#00523e;\"><span title=\"lab = (30.0, -31.0, 5.0)\" style=\"color:#ffffff\">343C</span></td><td style=\"background-color:#a7ddc2;\"><span title=\"lab = (84.0, -23.0, 8.0)\" style=\"color:#000000\">344C</span></td><td style=\"background-color:#8cd6b1;\"><span title=\"lab = (80.0, -31.0, 11.0)\" style=\"color:#000000\">345C</span></td><td style=\"background-color:#63c999;\"><span title=\"lab = (74.0, -41.0, 15.0)\" style=\"color:#000000\">346C</span></td><td style=\"background-color:#009344;\"><span title=\"lab = (51.0, -74.0, 29.0)\" style=\"color:#000000\">347C</span></td><td style=\"background-color:#007e3b;\"><span title=\"lab = (44.0, -63.0, 25.0)\" style=\"color:#ffffff\">348C</span></td><td style=\"background-color:#006134;\"><span title=\"lab = (35.0, -43.0, 18.0)\" style=\"color:#ffffff\">349C</span></td><td style=\"background-color:#1a462c;\"><span title=\"lab = (26.0, -22.0, 11.0)\" style=\"color:#ffffff\">350C</span></td><td style=\"background-color:#a8e4c3;\"><span title=\"lab = (86.0, -26.0, 10.0)\" style=\"color:#000000\">351C</span></td><td style=\"background-color:#8be0b1;\"><span title=\"lab = (83.0, -36.0, 15.0)\" style=\"color:#000000\">352C</span></td><td style=\"background-color:#6edba3;\"><span title=\"lab = (80.0, -44.0, 18.0)\" style=\"color:#000000\">353C</span></td><td style=\"background-color:#00a83a;\"><span title=\"lab = (58.0, -82.0, 42.0)\" style=\"color:#000000\">354C</span></td><td style=\"background-color:#009232;\"><span title=\"lab = (51.0, -72.0, 38.0)\" style=\"color:#000000\">355C</span></td><td style=\"background-color:#00712b;\"><span title=\"lab = (40.0, -54.0, 29.0)\" style=\"color:#ffffff\">356C</span></td><td style=\"background-color:#144c2a;\"><span title=\"lab = (28.0, -27.0, 15.0)\" style=\"color:#ffffff\">357C</span></td><td style=\"background-color:#aad992;\"><span title=\"lab = (82.0, -28.0, 30.0)\" style=\"color:#000000\">358C</span></td><td style=\"background-color:#a5d78c;\"><span title=\"lab = (81.0, -30.0, 32.0)\" style=\"color:#000000\">359C</span></td><td style=\"background-color:#61bd49;\"><span title=\"lab = (69.0, -49.0, 49.0)\" style=\"color:#000000\">360C</span></td></tr>\n",
       "<tr><td style=\"background-color:#31ac2f;\"><span title=\"lab = (62.0, -57.0, 52.0)\" style=\"color:#000000\">361C</span></td><td style=\"background-color:#39962c;\"><span title=\"lab = (55.0, -48.0, 46.0)\" style=\"color:#000000\">362C</span></td><td style=\"background-color:#3b8729;\"><span title=\"lab = (50.0, -42.0, 42.0)\" style=\"color:#000000\">363C</span></td><td style=\"background-color:#397025;\"><span title=\"lab = (42.0, -33.0, 35.0)\" style=\"color:#ffffff\">364C</span></td><td style=\"background-color:#d2e4a3;\"><span title=\"lab = (88.0, -17.0, 30.0)\" style=\"color:#000000\">365C</span></td><td style=\"background-color:#c2df8d;\"><span title=\"lab = (85.0, -23.0, 37.0)\" style=\"color:#000000\">366C</span></td><td style=\"background-color:#add76a;\"><span title=\"lab = (81.0, -31.0, 49.0)\" style=\"color:#000000\">367C</span></td><td style=\"background-color:#6fbc20;\"><span title=\"lab = (69.0, -47.0, 64.0)\" style=\"color:#000000\">368C</span></td><td style=\"background-color:#5ca50b;\"><span title=\"lab = (61.0, -45.0, 61.0)\" style=\"color:#000000\">369C</span></td><td style=\"background-color:#598916;\"><span title=\"lab = (52.0, -34.0, 51.0)\" style=\"color:#000000\">370C</span></td><td style=\"background-color:#4f601f;\"><span title=\"lab = (38.0, -17.0, 34.0)\" style=\"color:#ffffff\">371C</span></td><td style=\"background-color:#dde9a3;\"><span title=\"lab = (90.0, -15.0, 33.0)\" style=\"color:#000000\">372C</span></td><td style=\"background-color:#d6e988;\"><span title=\"lab = (89.0, -21.0, 45.0)\" style=\"color:#000000\">373C</span></td><td style=\"background-color:#c4e461;\"><span title=\"lab = (86.0, -29.0, 59.0)\" style=\"color:#000000\">374C</span></td><td style=\"background-color:#93d100;\"><span title=\"lab = (77.0, -44.0, 81.0)\" style=\"color:#000000\">375C</span></td><td style=\"background-color:#83b900;\"><span title=\"lab = (69.0, -40.0, 75.0)\" style=\"color:#000000\">376C</span></td><td style=\"background-color:#708f00;\"><span title=\"lab = (55.0, -28.0, 61.0)\" style=\"color:#000000\">377C</span></td><td style=\"background-color:#525913;\"><span title=\"lab = (36.0, -13.0, 37.0)\" style=\"color:#ffffff\">378C</span></td><td style=\"background-color:#e6e56f;\"><span title=\"lab = (89.0, -15.0, 57.0)\" style=\"color:#000000\">379C</span></td><td style=\"background-color:#dcde3f;\"><span title=\"lab = (86.0, -19.0, 73.0)\" style=\"color:#000000\">380C</span></td></tr>\n",
       "<tr><td style=\"background-color:#d3da0f;\"><span title=\"lab = (84.0, -22.0, 82.0)\" style=\"color:#000000\">381C</span></td><td style=\"background-color:#c3d000;\"><span title=\"lab = (80.0, -25.0, 88.0)\" style=\"color:#000000\">382C</span></td><td style=\"background-color:#a8a900;\"><span title=\"lab = (67.0, -17.0, 77.0)\" style=\"color:#000000\">383C</span></td><td style=\"background-color:#939000;\"><span title=\"lab = (58.0, -13.0, 68.0)\" style=\"color:#000000\">384C</span></td><td style=\"background-color:#736915;\"><span title=\"lab = (44.0, -6.0, 45.0)\" style=\"color:#ffffff\">385C</span></td><td style=\"background-color:#ede770;\"><span title=\"lab = (90.0, -13.0, 58.0)\" style=\"color:#000000\">386C</span></td><td style=\"background-color:#e9e63f;\"><span title=\"lab = (89.0, -17.0, 76.0)\" style=\"color:#000000\">387C</span></td><td style=\"background-color:#e1e100;\"><span title=\"lab = (87.0, -20.0, 90.0)\" style=\"color:#000000\">388C</span></td><td style=\"background-color:#d3db00;\"><span title=\"lab = (84.0, -24.0, 98.0)\" style=\"color:#000000\">389C</span></td><td style=\"background-color:#baba00;\"><span title=\"lab = (73.0, -18.0, 90.0)\" style=\"color:#000000\">390C</span></td><td style=\"background-color:#9b9100;\"><span title=\"lab = (59.0, -10.0, 71.0)\" style=\"color:#000000\">391C</span></td><td style=\"background-color:#867800;\"><span title=\"lab = (50.0, -6.0, 58.0)\" style=\"color:#000000\">392C</span></td><td style=\"background-color:#f5eb90;\"><span title=\"lab = (92.0, -9.0, 45.0)\" style=\"color:#000000\">393C</span></td><td style=\"background-color:#f3e643;\"><span title=\"lab = (90.0, -13.0, 76.0)\" style=\"color:#000000\">394C</span></td><td style=\"background-color:#eee100;\"><span title=\"lab = (88.0, -15.0, 93.0)\" style=\"color:#000000\">395C</span></td><td style=\"background-color:#e7dc00;\"><span title=\"lab = (86.0, -16.0, 102.0)\" style=\"color:#000000\">396C</span></td><td style=\"background-color:#c6b600;\"><span title=\"lab = (73.0, -11.0, 92.0)\" style=\"color:#000000\">397C</span></td><td style=\"background-color:#b29f00;\"><span title=\"lab = (65.0, -8.0, 83.0)\" style=\"color:#000000\">398C</span></td><td style=\"background-color:#a08b00;\"><span title=\"lab = (58.0, -5.0, 72.0)\" style=\"color:#000000\">399C</span></td><td style=\"background-color:#cec8c4;\"><span title=\"lab = (81.0, 1.0, 3.0)\" style=\"color:#000000\">400C</span></td></tr>\n",
       "<tr><td style=\"background-color:#beb8b1;\"><span title=\"lab = (75.0, 1.0, 4.0)\" style=\"color:#000000\">401C</span></td><td style=\"background-color:#ada49d;\"><span title=\"lab = (68.0, 2.0, 5.0)\" style=\"color:#000000\">402C</span></td><td style=\"background-color:#998f86;\"><span title=\"lab = (60.0, 2.0, 6.0)\" style=\"color:#000000\">403C</span></td><td style=\"background-color:#7d7369;\"><span title=\"lab = (49.0, 2.0, 7.0)\" style=\"color:#ffffff\">404C</span></td><td style=\"background-color:#655a51;\"><span title=\"lab = (39.0, 3.0, 7.0)\" style=\"color:#ffffff\">405C</span></td><td style=\"background-color:#ccc5c3;\"><span title=\"lab = (80.0, 2.0, 2.0)\" style=\"color:#000000\">406C</span></td><td style=\"background-color:#a59996;\"><span title=\"lab = (64.0, 4.0, 3.0)\" style=\"color:#000000\">408C</span></td><td style=\"background-color:#958682;\"><span title=\"lab = (57.0, 5.0, 4.0)\" style=\"color:#000000\">409C</span></td><td style=\"background-color:#7b6c69;\"><span title=\"lab = (47.0, 5.0, 4.0)\" style=\"color:#ffffff\">410C</span></td><td style=\"background-color:#61514d;\"><span title=\"lab = (36.0, 6.0, 5.0)\" style=\"color:#ffffff\">411C</span></td><td style=\"background-color:#382b27;\"><span title=\"lab = (19.0, 5.0, 5.0)\" style=\"color:#ffffff\">412C</span></td><td style=\"background-color:#cac9c4;\"><span title=\"lab = (81.0, -1.0, 3.0)\" style=\"color:#000000\">413C</span></td><td style=\"background-color:#b6b6b0;\"><span title=\"lab = (74.0, -1.0, 3.0)\" style=\"color:#000000\">414C</span></td><td style=\"background-color:#9f9e97;\"><span title=\"lab = (65.0, -1.0, 4.0)\" style=\"color:#000000\">415C</span></td><td style=\"background-color:#86877e;\"><span title=\"lab = (56.0, -2.0, 5.0)\" style=\"color:#000000\">416C</span></td><td style=\"background-color:#707065;\"><span title=\"lab = (47.0, -2.0, 6.0)\" style=\"color:#ffffff\">417C</span></td><td style=\"background-color:#5a5a50;\"><span title=\"lab = (38.0, -2.0, 6.0)\" style=\"color:#ffffff\">418C</span></td><td style=\"background-color:#20221d;\"><span title=\"lab = (13.0, -2.0, 3.0)\" style=\"color:#ffffff\">419C</span></td><td style=\"background-color:#cccccc;\"><span title=\"lab = (82.0, 0.0, 0.0)\" style=\"color:#000000\">420C</span></td><td style=\"background-color:#babbbd;\"><span title=\"lab = (76.0, 0.0, -1.0)\" style=\"color:#000000\">421C</span></td></tr>\n",
       "<tr><td style=\"background-color:#a8a8aa;\"><span title=\"lab = (69.0, 0.0, -1.0)\" style=\"color:#000000\">422C</span></td><td style=\"background-color:#929395;\"><span title=\"lab = (61.0, 0.0, -1.0)\" style=\"color:#000000\">423C</span></td><td style=\"background-color:#767a7d;\"><span title=\"lab = (51.0, -1.0, -2.0)\" style=\"color:#000000\">424C</span></td><td style=\"background-color:#565a5d;\"><span title=\"lab = (38.0, -1.0, -2.0)\" style=\"color:#ffffff\">425C</span></td><td style=\"background-color:#212425;\"><span title=\"lab = (14.0, -1.0, -1.0)\" style=\"color:#ffffff\">426C</span></td><td style=\"background-color:#888c8f;\"><span title=\"lab = (58.0, -1.0, -2.0)\" style=\"color:#000000\">427C</span></td><td style=\"background-color:#c2c7cc;\"><span title=\"lab = (80.0, -1.0, -3.0)\" style=\"color:#000000\">428C</span></td><td style=\"background-color:#a8afb5;\"><span title=\"lab = (71.0, -1.0, -4.0)\" style=\"color:#000000\">429C</span></td><td style=\"background-color:#858f98;\"><span title=\"lab = (59.0, -2.0, -6.0)\" style=\"color:#000000\">430C</span></td><td style=\"background-color:#5e6973;\"><span title=\"lab = (44.0, -2.0, -7.0)\" style=\"color:#ffffff\">431C</span></td><td style=\"background-color:#3e4a55;\"><span title=\"lab = (31.0, -2.0, -8.0)\" style=\"color:#ffffff\">432C</span></td><td style=\"background-color:#202930;\"><span title=\"lab = (16.0, -2.0, -6.0)\" style=\"color:#ffffff\">433C</span></td><td style=\"background-color:#d3cace;\"><span title=\"lab = (82.0, 4.0, -1.0)\" style=\"color:#000000\">434C</span></td><td style=\"background-color:#c9bbc0;\"><span title=\"lab = (77.0, 6.0, -1.0)\" style=\"color:#000000\">435C</span></td><td style=\"background-color:#b7a7ad;\"><span title=\"lab = (70.0, 7.0, -1.0)\" style=\"color:#000000\">436C</span></td><td style=\"background-color:#856f75;\"><span title=\"lab = (49.0, 10.0, 0.0)\" style=\"color:#ffffff\">437C</span></td><td style=\"background-color:#513d3e;\"><span title=\"lab = (28.0, 9.0, 3.0)\" style=\"color:#ffffff\">438C</span></td><td style=\"background-color:#453535;\"><span title=\"lab = (24.0, 7.0, 3.0)\" style=\"color:#ffffff\">439C</span></td><td style=\"background-color:#392e2c;\"><span title=\"lab = (20.0, 5.0, 3.0)\" style=\"color:#ffffff\">440C</span></td><td style=\"background-color:#ccd3d5;\"><span title=\"lab = (84.0, -2.0, -2.0)\" style=\"color:#000000\">441C</span></td></tr>\n",
       "<tr><td style=\"background-color:#b3bdc1;\"><span title=\"lab = (76.0, -3.0, -3.0)\" style=\"color:#000000\">442C</span></td><td style=\"background-color:#98a2a6;\"><span title=\"lab = (66.0, -3.0, -3.0)\" style=\"color:#000000\">443C</span></td><td style=\"background-color:#7a868a;\"><span title=\"lab = (55.0, -3.0, -4.0)\" style=\"color:#000000\">444C</span></td><td style=\"background-color:#4f5659;\"><span title=\"lab = (36.0, -2.0, -3.0)\" style=\"color:#ffffff\">445C</span></td><td style=\"background-color:#3c4141;\"><span title=\"lab = (27.0, -2.0, -1.0)\" style=\"color:#ffffff\">446C</span></td><td style=\"background-color:#333532;\"><span title=\"lab = (22.0, -2.0, 2.0)\" style=\"color:#ffffff\">447C</span></td><td style=\"background-color:#4a3f27;\"><span title=\"lab = (27.0, 1.0, 16.0)\" style=\"color:#ffffff\">448C</span></td><td style=\"background-color:#504325;\"><span title=\"lab = (29.0, 1.0, 20.0)\" style=\"color:#ffffff\">449C</span></td><td style=\"background-color:#544826;\"><span title=\"lab = (31.0, 0.0, 22.0)\" style=\"color:#ffffff\">450C</span></td><td style=\"background-color:#a49b76;\"><span title=\"lab = (64.0, -3.0, 21.0)\" style=\"color:#000000\">451C</span></td><td style=\"background-color:#b7b192;\"><span title=\"lab = (72.0, -3.0, 17.0)\" style=\"color:#000000\">452C</span></td><td style=\"background-color:#cac4ac;\"><span title=\"lab = (79.0, -2.0, 13.0)\" style=\"color:#000000\">453C</span></td><td style=\"background-color:#d6d2bf;\"><span title=\"lab = (84.0, -2.0, 10.0)\" style=\"color:#000000\">454C</span></td><td style=\"background-color:#675215;\"><span title=\"lab = (36.0, 2.0, 37.0)\" style=\"color:#ffffff\">455C</span></td><td style=\"background-color:#9d7e0d;\"><span title=\"lab = (54.0, 2.0, 57.0)\" style=\"color:#000000\">456C</span></td><td style=\"background-color:#b99100;\"><span title=\"lab = (62.0, 4.0, 68.0)\" style=\"color:#000000\">457C</span></td><td style=\"background-color:#e2c867;\"><span title=\"lab = (81.0, -3.0, 51.0)\" style=\"color:#000000\">458C</span></td><td style=\"background-color:#e6d17e;\"><span title=\"lab = (84.0, -4.0, 44.0)\" style=\"color:#000000\">459C</span></td><td style=\"background-color:#eada97;\"><span title=\"lab = (87.0, -4.0, 35.0)\" style=\"color:#000000\">460C</span></td><td style=\"background-color:#ece3b6;\"><span title=\"lab = (90.0, -4.0, 23.0)\" style=\"color:#000000\">461C</span></td></tr>\n",
       "<tr><td style=\"background-color:#593f24;\"><span title=\"lab = (29.0, 8.0, 21.0)\" style=\"color:#ffffff\">462C</span></td><td style=\"background-color:#724922;\"><span title=\"lab = (35.0, 13.0, 30.0)\" style=\"color:#ffffff\">463C</span></td><td style=\"background-color:#8a5825;\"><span title=\"lab = (42.0, 16.0, 37.0)\" style=\"color:#ffffff\">464C</span></td><td style=\"background-color:#bd9b6b;\"><span title=\"lab = (66.0, 6.0, 30.0)\" style=\"color:#000000\">465C</span></td><td style=\"background-color:#ceb288;\"><span title=\"lab = (74.0, 4.0, 25.0)\" style=\"color:#000000\">466C</span></td><td style=\"background-color:#d9c4a1;\"><span title=\"lab = (80.0, 2.0, 20.0)\" style=\"color:#000000\">467C</span></td><td style=\"background-color:#e1d3ba;\"><span title=\"lab = (85.0, 1.0, 14.0)\" style=\"color:#000000\">468C</span></td><td style=\"background-color:#633318;\"><span title=\"lab = (27.0, 19.0, 26.0)\" style=\"color:#ffffff\">469C</span></td><td style=\"background-color:#9e4c1a;\"><span title=\"lab = (42.0, 31.0, 43.0)\" style=\"color:#ffffff\">470C</span></td><td style=\"background-color:#bb5312;\"><span title=\"lab = (48.0, 39.0, 53.0)\" style=\"color:#ffffff\">471C</span></td><td style=\"background-color:#e89869;\"><span title=\"lab = (70.0, 25.0, 37.0)\" style=\"color:#000000\">472C</span></td><td style=\"background-color:#f0b896;\"><span title=\"lab = (79.0, 16.0, 25.0)\" style=\"color:#000000\">473C</span></td><td style=\"background-color:#f3c6aa;\"><span title=\"lab = (83.0, 12.0, 20.0)\" style=\"color:#000000\">474C</span></td><td style=\"background-color:#f3d0bb;\"><span title=\"lab = (86.0, 9.0, 15.0)\" style=\"color:#000000\">475C</span></td><td style=\"background-color:#523126;\"><span title=\"lab = (24.0, 14.0, 13.0)\" style=\"color:#ffffff\">476C</span></td><td style=\"background-color:#5e2d23;\"><span title=\"lab = (25.0, 21.0, 17.0)\" style=\"color:#ffffff\">477C</span></td><td style=\"background-color:#753729;\"><span title=\"lab = (31.0, 26.0, 21.0)\" style=\"color:#ffffff\">478C</span></td><td style=\"background-color:#b1806d;\"><span title=\"lab = (58.0, 16.0, 18.0)\" style=\"color:#000000\">479C</span></td><td style=\"background-color:#cbaa9b;\"><span title=\"lab = (72.0, 10.0, 12.0)\" style=\"color:#000000\">480C</span></td><td style=\"background-color:#d5bcaf;\"><span title=\"lab = (78.0, 7.0, 10.0)\" style=\"color:#000000\">481C</span></td></tr>\n",
       "<tr><td style=\"background-color:#dfcfc5;\"><span title=\"lab = (84.0, 4.0, 7.0)\" style=\"color:#000000\">482C</span></td><td style=\"background-color:#6b2d21;\"><span title=\"lab = (27.0, 27.0, 21.0)\" style=\"color:#ffffff\">483C</span></td><td style=\"background-color:#a12d1f;\"><span title=\"lab = (37.0, 47.0, 36.0)\" style=\"color:#ffffff\">484C</span></td><td style=\"background-color:#e1271e;\"><span title=\"lab = (49.0, 68.0, 52.0)\" style=\"color:#ffffff\">485C</span></td><td style=\"background-color:#ef9383;\"><span title=\"lab = (70.0, 33.0, 23.0)\" style=\"color:#000000\">486C</span></td><td style=\"background-color:#efab9d;\"><span title=\"lab = (76.0, 23.0, 17.0)\" style=\"color:#000000\">487C</span></td><td style=\"background-color:#eebbaf;\"><span title=\"lab = (80.0, 17.0, 13.0)\" style=\"color:#000000\">488C</span></td><td style=\"background-color:#eecdc4;\"><span title=\"lab = (85.0, 10.0, 9.0)\" style=\"color:#000000\">489C</span></td><td style=\"background-color:#5b2729;\"><span title=\"lab = (23.0, 24.0, 10.0)\" style=\"color:#ffffff\">490C</span></td><td style=\"background-color:#782a2d;\"><span title=\"lab = (29.0, 34.0, 16.0)\" style=\"color:#ffffff\">491C</span></td><td style=\"background-color:#93353a;\"><span title=\"lab = (36.0, 40.0, 18.0)\" style=\"color:#ffffff\">492C</span></td><td style=\"background-color:#e8a7b6;\"><span title=\"lab = (75.0, 26.0, 2.0)\" style=\"color:#000000\">494C</span></td><td style=\"background-color:#eeb9c5;\"><span title=\"lab = (80.0, 21.0, 1.0)\" style=\"color:#000000\">495C</span></td><td style=\"background-color:#efc4cd;\"><span title=\"lab = (83.0, 17.0, 1.0)\" style=\"color:#000000\">496C</span></td><td style=\"background-color:#502a28;\"><span title=\"lab = (22.0, 17.0, 9.0)\" style=\"color:#ffffff\">497C</span></td><td style=\"background-color:#69322e;\"><span title=\"lab = (28.0, 24.0, 14.0)\" style=\"color:#ffffff\">498C</span></td><td style=\"background-color:#783830;\"><span title=\"lab = (32.0, 27.0, 18.0)\" style=\"color:#ffffff\">499C</span></td><td style=\"background-color:#c98691;\"><span title=\"lab = (63.0, 27.0, 5.0)\" style=\"color:#000000\">500C</span></td><td style=\"background-color:#deacb6;\"><span title=\"lab = (75.0, 20.0, 2.0)\" style=\"color:#000000\">501C</span></td><td style=\"background-color:#e6c0c8;\"><span title=\"lab = (81.0, 15.0, 1.0)\" style=\"color:#000000\">502C</span></td></tr>\n",
       "<tr><td style=\"background-color:#eacdd3;\"><span title=\"lab = (85.0, 11.0, 1.0)\" style=\"color:#000000\">503C</span></td><td style=\"background-color:#50212a;\"><span title=\"lab = (20.0, 23.0, 5.0)\" style=\"color:#ffffff\">504C</span></td><td style=\"background-color:#6f2638;\"><span title=\"lab = (27.0, 34.0, 6.0)\" style=\"color:#ffffff\">505C</span></td><td style=\"background-color:#7f2b41;\"><span title=\"lab = (31.0, 38.0, 6.0)\" style=\"color:#ffffff\">506C</span></td><td style=\"background-color:#d28ca5;\"><span title=\"lab = (66.0, 30.0, -2.0)\" style=\"color:#000000\">507C</span></td><td style=\"background-color:#e3acc0;\"><span title=\"lab = (76.0, 23.0, -2.0)\" style=\"color:#000000\">508C</span></td><td style=\"background-color:#e8bacb;\"><span title=\"lab = (80.0, 19.0, -2.0)\" style=\"color:#000000\">509C</span></td><td style=\"background-color:#e8c2d0;\"><span title=\"lab = (82.0, 16.0, -2.0)\" style=\"color:#000000\">510C</span></td><td style=\"background-color:#60264e;\"><span title=\"lab = (25.0, 32.0, -12.0)\" style=\"color:#ffffff\">511C</span></td><td style=\"background-color:#7b256f;\"><span title=\"lab = (31.0, 46.0, -24.0)\" style=\"color:#ffffff\">512C</span></td><td style=\"background-color:#932e90;\"><span title=\"lab = (38.0, 54.0, -33.0)\" style=\"color:#ffffff\">513C</span></td><td style=\"background-color:#ce85c6;\"><span title=\"lab = (65.0, 38.0, -22.0)\" style=\"color:#000000\">514C</span></td><td style=\"background-color:#dfa7d7;\"><span title=\"lab = (75.0, 28.0, -16.0)\" style=\"color:#000000\">515C</span></td><td style=\"background-color:#e4badd;\"><span title=\"lab = (80.0, 21.0, -12.0)\" style=\"color:#000000\">516C</span></td><td style=\"background-color:#eacbe4;\"><span title=\"lab = (85.0, 15.0, -8.0)\" style=\"color:#000000\">517C</span></td><td style=\"background-color:#492a45;\"><span title=\"lab = (22.0, 19.0, -11.0)\" style=\"color:#ffffff\">518C</span></td><td style=\"background-color:#562e5e;\"><span title=\"lab = (26.0, 27.0, -21.0)\" style=\"color:#ffffff\">519C</span></td><td style=\"background-color:#653273;\"><span title=\"lab = (30.0, 34.0, -28.0)\" style=\"color:#ffffff\">520C</span></td><td style=\"background-color:#aa86ba;\"><span title=\"lab = (61.0, 23.0, -22.0)\" style=\"color:#000000\">521C</span></td><td style=\"background-color:#ba9fc9;\"><span title=\"lab = (69.0, 18.0, -18.0)\" style=\"color:#000000\">522C</span></td></tr>\n",
       "<tr><td style=\"background-color:#cab4d5;\"><span title=\"lab = (76.0, 14.0, -14.0)\" style=\"color:#000000\">523C</span></td><td style=\"background-color:#d9cde2;\"><span title=\"lab = (84.0, 8.0, -9.0)\" style=\"color:#000000\">524C</span></td><td style=\"background-color:#4d275a;\"><span title=\"lab = (23.0, 27.0, -23.0)\" style=\"color:#ffffff\">525C</span></td><td style=\"background-color:#5b2580;\"><span title=\"lab = (27.0, 41.0, -41.0)\" style=\"color:#ffffff\">526C</span></td><td style=\"background-color:#64279f;\"><span title=\"lab = (31.0, 50.0, -54.0)\" style=\"color:#ffffff\">527C</span></td><td style=\"background-color:#9f77cd;\"><span title=\"lab = (57.0, 33.0, -39.0)\" style=\"color:#000000\">528C</span></td><td style=\"background-color:#c0a5e0;\"><span title=\"lab = (72.0, 21.0, -26.0)\" style=\"color:#000000\">529C</span></td><td style=\"background-color:#cbb2e2;\"><span title=\"lab = (76.0, 18.0, -21.0)\" style=\"color:#000000\">530C</span></td><td style=\"background-color:#d6c6e8;\"><span title=\"lab = (82.0, 12.0, -15.0)\" style=\"color:#000000\">531C</span></td><td style=\"background-color:#232a38;\"><span title=\"lab = (17.0, 1.0, -10.0)\" style=\"color:#ffffff\">532C</span></td><td style=\"background-color:#1c3354;\"><span title=\"lab = (21.0, 3.0, -23.0)\" style=\"color:#ffffff\">533C</span></td><td style=\"background-color:#1a416f;\"><span title=\"lab = (27.0, 4.0, -31.0)\" style=\"color:#ffffff\">534C</span></td><td style=\"background-color:#8fa1c2;\"><span title=\"lab = (66.0, 1.0, -19.0)\" style=\"color:#000000\">535C</span></td><td style=\"background-color:#a0b2cd;\"><span title=\"lab = (72.0, 0.0, -16.0)\" style=\"color:#000000\">536C</span></td><td style=\"background-color:#bcc7db;\"><span title=\"lab = (80.0, 0.0, -11.0)\" style=\"color:#000000\">537C</span></td><td style=\"background-color:#d0d8e4;\"><span title=\"lab = (86.0, 0.0, -7.0)\" style=\"color:#000000\">538C</span></td><td style=\"background-color:#002b46;\"><span title=\"lab = (15.0, -8.0, -23.0)\" style=\"color:#ffffff\">539C</span></td><td style=\"background-color:#002f5c;\"><span title=\"lab = (17.0, -6.0, -35.0)\" style=\"color:#ffffff\">540C</span></td><td style=\"background-color:#003e79;\"><span title=\"lab = (23.0, -6.0, -44.0)\" style=\"color:#ffffff\">541C</span></td><td style=\"background-color:#4798c8;\"><span title=\"lab = (60.0, -10.0, -32.0)\" style=\"color:#000000\">542C</span></td></tr>\n",
       "<tr><td style=\"background-color:#8ab9db;\"><span title=\"lab = (73.0, -7.0, -22.0)\" style=\"color:#000000\">543C</span></td><td style=\"background-color:#abcae4;\"><span title=\"lab = (80.0, -5.0, -16.0)\" style=\"color:#000000\">544C</span></td><td style=\"background-color:#bdd5e8;\"><span title=\"lab = (84.0, -4.0, -12.0)\" style=\"color:#000000\">545C</span></td><td style=\"background-color:#003441;\"><span title=\"lab = (19.0, -14.0, -13.0)\" style=\"color:#ffffff\">546C</span></td><td style=\"background-color:#003e50;\"><span title=\"lab = (22.0, -20.0, -19.0)\" style=\"color:#ffffff\">547C</span></td><td style=\"background-color:#004159;\"><span title=\"lab = (23.0, -23.0, -23.0)\" style=\"color:#ffffff\">548C</span></td><td style=\"background-color:#5097b0;\"><span title=\"lab = (59.0, -15.0, -20.0)\" style=\"color:#000000\">549C</span></td><td style=\"background-color:#7eb0c5;\"><span title=\"lab = (69.0, -11.0, -16.0)\" style=\"color:#000000\">550C</span></td><td style=\"background-color:#9ac1d3;\"><span title=\"lab = (76.0, -9.0, -13.0)\" style=\"color:#000000\">551C</span></td><td style=\"background-color:#b6d0dc;\"><span title=\"lab = (82.0, -6.0, -9.0)\" style=\"color:#000000\">552C</span></td><td style=\"background-color:#224232;\"><span title=\"lab = (25.0, -16.0, 6.0)\" style=\"color:#ffffff\">553C</span></td><td style=\"background-color:#245f49;\"><span title=\"lab = (36.0, -25.0, 7.0)\" style=\"color:#ffffff\">554C</span></td><td style=\"background-color:#15684e;\"><span title=\"lab = (39.0, -31.0, 8.0)\" style=\"color:#ffffff\">555C</span></td><td style=\"background-color:#76a28f;\"><span title=\"lab = (63.0, -19.0, 5.0)\" style=\"color:#000000\">556C</span></td><td style=\"background-color:#99bbad;\"><span title=\"lab = (73.0, -14.0, 3.0)\" style=\"color:#000000\">557C</span></td><td style=\"background-color:#acc7bd;\"><span title=\"lab = (78.0, -11.0, 2.0)\" style=\"color:#000000\">558C</span></td><td style=\"background-color:#bfd3cd;\"><span title=\"lab = (83.0, -8.0, 1.0)\" style=\"color:#000000\">559C</span></td><td style=\"background-color:#20463e;\"><span title=\"lab = (27.0, -16.0, 1.0)\" style=\"color:#ffffff\">560C</span></td><td style=\"background-color:#09625a;\"><span title=\"lab = (37.0, -26.0, -2.0)\" style=\"color:#ffffff\">561C</span></td><td style=\"background-color:#00766f;\"><span title=\"lab = (44.0, -31.0, -5.0)\" style=\"color:#ffffff\">562C</span></td></tr>\n",
       "<tr><td style=\"background-color:#6eb8b3;\"><span title=\"lab = (70.0, -24.0, -5.0)\" style=\"color:#000000\">563C</span></td><td style=\"background-color:#95cbc8;\"><span title=\"lab = (78.0, -18.0, -4.0)\" style=\"color:#000000\">564C</span></td><td style=\"background-color:#b8dbd9;\"><span title=\"lab = (85.0, -12.0, -3.0)\" style=\"color:#000000\">565C</span></td><td style=\"background-color:#cde4e3;\"><span title=\"lab = (89.0, -8.0, -2.0)\" style=\"color:#000000\">566C</span></td><td style=\"background-color:#18453c;\"><span title=\"lab = (26.0, -18.0, 1.0)\" style=\"color:#ffffff\">567C</span></td><td style=\"background-color:#008378;\"><span title=\"lab = (48.0, -41.0, -4.0)\" style=\"color:#ffffff\">569C</span></td><td style=\"background-color:#74c7bf;\"><span title=\"lab = (75.0, -27.0, -4.0)\" style=\"color:#000000\">570C</span></td><td style=\"background-color:#9cd7d1;\"><span title=\"lab = (82.0, -20.0, -3.0)\" style=\"color:#000000\">571C</span></td><td style=\"background-color:#b1ddd9;\"><span title=\"lab = (85.0, -15.0, -3.0)\" style=\"color:#000000\">572C</span></td><td style=\"background-color:#bee1dd;\"><span title=\"lab = (87.0, -12.0, -2.0)\" style=\"color:#000000\">573C</span></td><td style=\"background-color:#424d24;\"><span title=\"lab = (31.0, -12.0, 23.0)\" style=\"color:#ffffff\">574C</span></td><td style=\"background-color:#5b722f;\"><span title=\"lab = (45.0, -20.0, 34.0)\" style=\"color:#ffffff\">575C</span></td><td style=\"background-color:#6d8e3f;\"><span title=\"lab = (55.0, -25.0, 38.0)\" style=\"color:#000000\">576C</span></td><td style=\"background-color:#b7c892;\"><span title=\"lab = (78.0, -15.0, 25.0)\" style=\"color:#000000\">577C</span></td><td style=\"background-color:#c1cfa0;\"><span title=\"lab = (81.0, -13.0, 22.0)\" style=\"color:#000000\">578C</span></td><td style=\"background-color:#c9d4a9;\"><span title=\"lab = (83.0, -11.0, 20.0)\" style=\"color:#000000\">579C</span></td><td style=\"background-color:#d1dbbb;\"><span title=\"lab = (86.0, -9.0, 15.0)\" style=\"color:#000000\">580C</span></td><td style=\"background-color:#655a15;\"><span title=\"lab = (38.0, -4.0, 39.0)\" style=\"color:#ffffff\">581C</span></td><td style=\"background-color:#8f8600;\"><span title=\"lab = (55.0, -9.0, 60.0)\" style=\"color:#000000\">582C</span></td><td style=\"background-color:#b5b300;\"><span title=\"lab = (71.0, -16.0, 75.0)\" style=\"color:#000000\">583C</span></td></tr>\n",
       "<tr><td style=\"background-color:#d4d14e;\"><span title=\"lab = (82.0, -15.0, 63.0)\" style=\"color:#000000\">584C</span></td><td style=\"background-color:#ded86f;\"><span title=\"lab = (85.0, -12.0, 52.0)\" style=\"color:#000000\">585C</span></td><td style=\"background-color:#e4e18c;\"><span title=\"lab = (88.0, -11.0, 42.0)\" style=\"color:#000000\">586C</span></td><td style=\"background-color:#e6e39e;\"><span title=\"lab = (89.0, -9.0, 34.0)\" style=\"color:#000000\">587C</span></td><td style=\"background-color:#f2e9b6;\"><span title=\"lab = (92.0, -5.0, 26.0)\" style=\"color:#000000\">600C</span></td><td style=\"background-color:#f5eaa6;\"><span title=\"lab = (92.0, -6.0, 34.0)\" style=\"color:#000000\">601C</span></td><td style=\"background-color:#f6e78e;\"><span title=\"lab = (91.0, -7.0, 45.0)\" style=\"color:#000000\">602C</span></td><td style=\"background-color:#f5e160;\"><span title=\"lab = (89.0, -8.0, 64.0)\" style=\"color:#000000\">603C</span></td><td style=\"background-color:#f4db24;\"><span title=\"lab = (87.0, -8.0, 82.0)\" style=\"color:#000000\">604C</span></td><td style=\"background-color:#e9c800;\"><span title=\"lab = (81.0, -5.0, 99.0)\" style=\"color:#000000\">605C</span></td><td style=\"background-color:#e1bc00;\"><span title=\"lab = (77.0, -2.0, 98.0)\" style=\"color:#000000\">606C</span></td><td style=\"background-color:#efe9c4;\"><span title=\"lab = (92.0, -4.0, 19.0)\" style=\"color:#000000\">607C</span></td><td style=\"background-color:#eee7b5;\"><span title=\"lab = (91.0, -5.0, 25.0)\" style=\"color:#000000\">608C</span></td><td style=\"background-color:#ede19a;\"><span title=\"lab = (89.0, -6.0, 36.0)\" style=\"color:#000000\">609C</span></td><td style=\"background-color:#e9d874;\"><span title=\"lab = (86.0, -7.0, 51.0)\" style=\"color:#000000\">610C</span></td><td style=\"background-color:#dfca47;\"><span title=\"lab = (81.0, -7.0, 65.0)\" style=\"color:#000000\">611C</span></td><td style=\"background-color:#ceb300;\"><span title=\"lab = (73.0, -5.0, 78.0)\" style=\"color:#000000\">612C</span></td><td style=\"background-color:#ba9c00;\"><span title=\"lab = (65.0, -2.0, 77.0)\" style=\"color:#000000\">613C</span></td><td style=\"background-color:#e6e0c1;\"><span title=\"lab = (89.0, -3.0, 16.0)\" style=\"color:#000000\">614C</span></td><td style=\"background-color:#e2dbb2;\"><span title=\"lab = (87.0, -4.0, 21.0)\" style=\"color:#000000\">615C</span></td></tr>\n",
       "<tr><td style=\"background-color:#ddd29f;\"><span title=\"lab = (84.0, -4.0, 27.0)\" style=\"color:#000000\">616C</span></td><td style=\"background-color:#cfc27f;\"><span title=\"lab = (78.0, -5.0, 35.0)\" style=\"color:#000000\">617C</span></td><td style=\"background-color:#bba853;\"><span title=\"lab = (69.0, -4.0, 46.0)\" style=\"color:#000000\">618C</span></td><td style=\"background-color:#a28d2c;\"><span title=\"lab = (59.0, -3.0, 52.0)\" style=\"color:#000000\">619C</span></td><td style=\"background-color:#8f7815;\"><span title=\"lab = (51.0, -1.0, 52.0)\" style=\"color:#000000\">620C</span></td><td style=\"background-color:#d2e0dd;\"><span title=\"lab = (88.0, -5.0, 0.0)\" style=\"color:#000000\">621C</span></td><td style=\"background-color:#bbd0cc;\"><span title=\"lab = (82.0, -8.0, 0.0)\" style=\"color:#000000\">622C</span></td><td style=\"background-color:#9ebcb4;\"><span title=\"lab = (74.0, -12.0, 1.0)\" style=\"color:#000000\">623C</span></td><td style=\"background-color:#78a196;\"><span title=\"lab = (63.0, -16.0, 1.0)\" style=\"color:#000000\">624C</span></td><td style=\"background-color:#518375;\"><span title=\"lab = (51.0, -20.0, 2.0)\" style=\"color:#000000\">625C</span></td><td style=\"background-color:#205748;\"><span title=\"lab = (33.0, -22.0, 3.0)\" style=\"color:#ffffff\">626C</span></td><td style=\"background-color:#022c22;\"><span title=\"lab = (15.0, -17.0, 2.0)\" style=\"color:#ffffff\">627C</span></td><td style=\"background-color:#c6e2e8;\"><span title=\"lab = (88.0, -8.0, -6.0)\" style=\"color:#000000\">628C</span></td><td style=\"background-color:#a6dae6;\"><span title=\"lab = (84.0, -14.0, -11.0)\" style=\"color:#000000\">629C</span></td><td style=\"background-color:#79cadd;\"><span title=\"lab = (77.0, -20.0, -17.0)\" style=\"color:#000000\">630C</span></td><td style=\"background-color:#2eb8d1;\"><span title=\"lab = (69.0, -27.0, -23.0)\" style=\"color:#000000\">631C</span></td><td style=\"background-color:#009dbf;\"><span title=\"lab = (58.0, -34.0, -30.0)\" style=\"color:#000000\">632C</span></td><td style=\"background-color:#007da4;\"><span title=\"lab = (45.0, -37.0, -35.0)\" style=\"color:#ffffff\">633C</span></td><td style=\"background-color:#006089;\"><span title=\"lab = (34.0, -33.0, -36.0)\" style=\"color:#ffffff\">634C</span></td><td style=\"background-color:#a8ddea;\"><span title=\"lab = (85.0, -14.0, -12.0)\" style=\"color:#000000\">635C</span></td></tr>\n",
       "<tr><td style=\"background-color:#85d5ea;\"><span title=\"lab = (81.0, -19.0, -18.0)\" style=\"color:#000000\">636C</span></td><td style=\"background-color:#45c8e6;\"><span title=\"lab = (75.0, -26.0, -25.0)\" style=\"color:#000000\">637C</span></td><td style=\"background-color:#00b3de;\"><span title=\"lab = (66.0, -34.0, -35.0)\" style=\"color:#000000\">638C</span></td><td style=\"background-color:#009bce;\"><span title=\"lab = (56.0, -38.0, -42.0)\" style=\"color:#000000\">639C</span></td><td style=\"background-color:#0086c1;\"><span title=\"lab = (48.0, -37.0, -47.0)\" style=\"color:#ffffff\">640C</span></td><td style=\"background-color:#0072b3;\"><span title=\"lab = (41.0, -32.0, -50.0)\" style=\"color:#ffffff\">641C</span></td><td style=\"background-color:#cbd9e6;\"><span title=\"lab = (86.0, -2.0, -8.0)\" style=\"color:#000000\">642C</span></td><td style=\"background-color:#c4d3e4;\"><span title=\"lab = (84.0, -2.0, -10.0)\" style=\"color:#000000\">643C</span></td><td style=\"background-color:#91b1d0;\"><span title=\"lab = (71.0, -4.0, -19.0)\" style=\"color:#000000\">644C</span></td><td style=\"background-color:#6a98bf;\"><span title=\"lab = (61.0, -5.0, -25.0)\" style=\"color:#000000\">645C</span></td><td style=\"background-color:#4981ad;\"><span title=\"lab = (52.0, -5.0, -29.0)\" style=\"color:#000000\">646C</span></td><td style=\"background-color:#00588c;\"><span title=\"lab = (35.0, -5.0, -36.0)\" style=\"color:#ffffff\">647C</span></td><td style=\"background-color:#002d5f;\"><span title=\"lab = (17.0, 1.0, -37.0)\" style=\"color:#ffffff\">648C</span></td><td style=\"background-color:#d1dbe7;\"><span title=\"lab = (87.0, -1.0, -7.0)\" style=\"color:#000000\">649C</span></td><td style=\"background-color:#bfcde0;\"><span title=\"lab = (82.0, -1.0, -11.0)\" style=\"color:#000000\">650C</span></td><td style=\"background-color:#93aecd;\"><span title=\"lab = (70.0, -2.0, -19.0)\" style=\"color:#000000\">651C</span></td><td style=\"background-color:#678fba;\"><span title=\"lab = (58.0, -2.0, -27.0)\" style=\"color:#000000\">652C</span></td><td style=\"background-color:#045890;\"><span title=\"lab = (36.0, 0.0, -37.0)\" style=\"color:#ffffff\">653C</span></td><td style=\"background-color:#003267;\"><span title=\"lab = (20.0, 3.0, -37.0)\" style=\"color:#ffffff\">654C</span></td><td style=\"background-color:#002351;\"><span title=\"lab = (13.0, 5.0, -34.0)\" style=\"color:#ffffff\">655C</span></td></tr>\n",
       "<tr><td style=\"background-color:#d2deee;\"><span title=\"lab = (88.0, -1.0, -9.0)\" style=\"color:#000000\">656C</span></td><td style=\"background-color:#bbd1eb;\"><span title=\"lab = (83.0, -2.0, -15.0)\" style=\"color:#000000\">657C</span></td><td style=\"background-color:#99bce4;\"><span title=\"lab = (75.0, -2.0, -24.0)\" style=\"color:#000000\">658C</span></td><td style=\"background-color:#5e97d4;\"><span title=\"lab = (61.0, -1.0, -37.0)\" style=\"color:#000000\">659C</span></td><td style=\"background-color:#006ec0;\"><span title=\"lab = (45.0, 2.0, -51.0)\" style=\"color:#ffffff\">660C</span></td><td style=\"background-color:#003996;\"><span title=\"lab = (24.0, 15.0, -60.0)\" style=\"color:#ffffff\">661C</span></td><td style=\"background-color:#00257f;\"><span title=\"lab = (16.0, 21.0, -59.0)\" style=\"color:#ffffff\">662C</span></td><td style=\"background-color:#dcd8e5;\"><span title=\"lab = (87.0, 4.0, -6.0)\" style=\"color:#000000\">663C</span></td><td style=\"background-color:#d5cfdf;\"><span title=\"lab = (84.0, 5.0, -7.0)\" style=\"color:#000000\">664C</span></td><td style=\"background-color:#c2bbd2;\"><span title=\"lab = (77.0, 7.0, -11.0)\" style=\"color:#000000\">665C</span></td><td style=\"background-color:#a093b7;\"><span title=\"lab = (63.0, 12.0, -17.0)\" style=\"color:#000000\">666C</span></td><td style=\"background-color:#766594;\"><span title=\"lab = (46.0, 17.0, -23.0)\" style=\"color:#ffffff\">667C</span></td><td style=\"background-color:#5e4c7e;\"><span title=\"lab = (36.0, 19.0, -26.0)\" style=\"color:#ffffff\">668C</span></td><td style=\"background-color:#3e2e5f;\"><span title=\"lab = (23.0, 20.0, -27.0)\" style=\"color:#ffffff\">669C</span></td><td style=\"background-color:#e9d4e4;\"><span title=\"lab = (87.0, 10.0, -5.0)\" style=\"color:#000000\">670C</span></td><td style=\"background-color:#e6c2db;\"><span title=\"lab = (82.0, 17.0, -8.0)\" style=\"color:#000000\">671C</span></td><td style=\"background-color:#e0a8cf;\"><span title=\"lab = (75.0, 27.0, -12.0)\" style=\"color:#000000\">672C</span></td><td style=\"background-color:#d88abd;\"><span title=\"lab = (67.0, 37.0, -14.0)\" style=\"color:#000000\">673C</span></td><td style=\"background-color:#cd65a4;\"><span title=\"lab = (57.0, 49.0, -15.0)\" style=\"color:#000000\">674C</span></td><td style=\"background-color:#b62d78;\"><span title=\"lab = (43.0, 60.0, -10.0)\" style=\"color:#ffffff\">675C</span></td></tr>\n",
       "<tr><td style=\"background-color:#a30158;\"><span title=\"lab = (35.0, 61.0, -2.0)\" style=\"color:#ffffff\">676C</span></td><td style=\"background-color:#e5d2df;\"><span title=\"lab = (86.0, 9.0, -4.0)\" style=\"color:#000000\">677C</span></td><td style=\"background-color:#e3cbdb;\"><span title=\"lab = (84.0, 11.0, -5.0)\" style=\"color:#000000\">678C</span></td><td style=\"background-color:#ddbdd4;\"><span title=\"lab = (80.0, 15.0, -7.0)\" style=\"color:#000000\">679C</span></td><td style=\"background-color:#c997b7;\"><span title=\"lab = (68.0, 24.0, -9.0)\" style=\"color:#000000\">680C</span></td><td style=\"background-color:#b6749d;\"><span title=\"lab = (57.0, 32.0, -11.0)\" style=\"color:#000000\">681C</span></td><td style=\"background-color:#9c4977;\"><span title=\"lab = (43.0, 40.0, -10.0)\" style=\"color:#ffffff\">682C</span></td><td style=\"background-color:#7d2550;\"><span title=\"lab = (30.0, 42.0, -5.0)\" style=\"color:#ffffff\">683C</span></td><td style=\"background-color:#e5cad9;\"><span title=\"lab = (84.0, 12.0, -4.0)\" style=\"color:#000000\">684C</span></td><td style=\"background-color:#e0bdd0;\"><span title=\"lab = (80.0, 16.0, -5.0)\" style=\"color:#000000\">685C</span></td><td style=\"background-color:#dbafc7;\"><span title=\"lab = (76.0, 20.0, -6.0)\" style=\"color:#000000\">686C</span></td><td style=\"background-color:#c788aa;\"><span title=\"lab = (64.0, 29.0, -8.0)\" style=\"color:#000000\">687C</span></td><td style=\"background-color:#b56d94;\"><span title=\"lab = (55.0, 34.0, -9.0)\" style=\"color:#000000\">688C</span></td><td style=\"background-color:#94416e;\"><span title=\"lab = (40.0, 40.0, -9.0)\" style=\"color:#ffffff\">689C</span></td><td style=\"background-color:#6e2548;\"><span title=\"lab = (27.0, 36.0, -5.0)\" style=\"color:#ffffff\">690C</span></td><td style=\"background-color:#e8ced3;\"><span title=\"lab = (85.0, 10.0, 1.0)\" style=\"color:#000000\">691C</span></td><td style=\"background-color:#e2c1c8;\"><span title=\"lab = (81.0, 13.0, 1.0)\" style=\"color:#000000\">692C</span></td><td style=\"background-color:#d8a6b0;\"><span title=\"lab = (73.0, 20.0, 2.0)\" style=\"color:#000000\">693C</span></td><td style=\"background-color:#cc919c;\"><span title=\"lab = (66.0, 24.0, 3.0)\" style=\"color:#000000\">694C</span></td><td style=\"background-color:#b36977;\"><span title=\"lab = (53.0, 31.0, 5.0)\" style=\"color:#000000\">695C</span></td></tr>\n",
       "<tr><td style=\"background-color:#954553;\"><span title=\"lab = (40.0, 35.0, 8.0)\" style=\"color:#ffffff\">696C</span></td><td style=\"background-color:#83333c;\"><span title=\"lab = (33.0, 35.0, 12.0)\" style=\"color:#ffffff\">697C</span></td><td style=\"background-color:#eecfd7;\"><span title=\"lab = (86.0, 12.0, 0.0)\" style=\"color:#000000\">698C</span></td><td style=\"background-color:#f1c3cd;\"><span title=\"lab = (83.0, 18.0, 1.0)\" style=\"color:#000000\">699C</span></td><td style=\"background-color:#eda9b9;\"><span title=\"lab = (76.0, 27.0, 2.0)\" style=\"color:#000000\">700C</span></td><td style=\"background-color:#e88fa3;\"><span title=\"lab = (69.0, 36.0, 4.0)\" style=\"color:#000000\">701C</span></td><td style=\"background-color:#d6647b;\"><span title=\"lab = (57.0, 47.0, 9.0)\" style=\"color:#000000\">702C</span></td><td style=\"background-color:#bd3b4e;\"><span title=\"lab = (45.0, 53.0, 19.0)\" style=\"color:#ffffff\">703C</span></td><td style=\"background-color:#a4262f;\"><span title=\"lab = (37.0, 51.0, 27.0)\" style=\"color:#ffffff\">704C</span></td><td style=\"background-color:#f2d6dd;\"><span title=\"lab = (88.0, 11.0, 0.0)\" style=\"color:#000000\">705C</span></td><td style=\"background-color:#f6c9d5;\"><span title=\"lab = (85.0, 18.0, 0.0)\" style=\"color:#000000\">706C</span></td><td style=\"background-color:#f7b1c1;\"><span title=\"lab = (79.0, 28.0, 2.0)\" style=\"color:#000000\">707C</span></td><td style=\"background-color:#f690a5;\"><span title=\"lab = (71.0, 41.0, 6.0)\" style=\"color:#000000\">708C</span></td><td style=\"background-color:#f26881;\"><span title=\"lab = (62.0, 55.0, 13.0)\" style=\"color:#000000\">709C</span></td><td style=\"background-color:#e94861;\"><span title=\"lab = (55.0, 63.0, 22.0)\" style=\"color:#000000\">710C</span></td><td style=\"background-color:#d52937;\"><span title=\"lab = (47.0, 65.0, 36.0)\" style=\"color:#ffffff\">711C</span></td><td style=\"background-color:#fecdae;\"><span title=\"lab = (86.0, 13.0, 22.0)\" style=\"color:#000000\">712C</span></td><td style=\"background-color:#ffc299;\"><span title=\"lab = (83.0, 17.0, 29.0)\" style=\"color:#000000\">713C</span></td><td style=\"background-color:#ffb17a;\"><span title=\"lab = (79.0, 24.0, 40.0)\" style=\"color:#000000\">714C</span></td><td style=\"background-color:#ff964b;\"><span title=\"lab = (72.0, 34.0, 55.0)\" style=\"color:#000000\">715C</span></td></tr>\n",
       "<tr><td style=\"background-color:#f77b0e;\"><span title=\"lab = (65.0, 42.0, 70.0)\" style=\"color:#000000\">716C</span></td><td style=\"background-color:#e46100;\"><span title=\"lab = (57.0, 47.0, 76.0)\" style=\"color:#000000\">717C</span></td><td style=\"background-color:#d55300;\"><span title=\"lab = (52.0, 48.0, 74.0)\" style=\"color:#000000\">718C</span></td><td style=\"background-color:#f1ceb7;\"><span title=\"lab = (85.0, 9.0, 16.0)\" style=\"color:#000000\">719C</span></td><td style=\"background-color:#f0c3a5;\"><span title=\"lab = (82.0, 12.0, 21.0)\" style=\"color:#000000\">720C</span></td><td style=\"background-color:#ebaf87;\"><span title=\"lab = (76.0, 17.0, 29.0)\" style=\"color:#000000\">721C</span></td><td style=\"background-color:#da8f59;\"><span title=\"lab = (66.0, 23.0, 40.0)\" style=\"color:#000000\">722C</span></td><td style=\"background-color:#c5712f;\"><span title=\"lab = (56.0, 28.0, 49.0)\" style=\"color:#000000\">723C</span></td><td style=\"background-color:#9f4c00;\"><span title=\"lab = (42.0, 31.0, 53.0)\" style=\"color:#ffffff\">724C</span></td><td style=\"background-color:#893c00;\"><span title=\"lab = (35.0, 30.0, 46.0)\" style=\"color:#ffffff\">725C</span></td><td style=\"background-color:#ebcfbc;\"><span title=\"lab = (85.0, 7.0, 13.0)\" style=\"color:#000000\">726C</span></td><td style=\"background-color:#e5bfa5;\"><span title=\"lab = (80.0, 10.0, 18.0)\" style=\"color:#000000\">727C</span></td><td style=\"background-color:#d9aa88;\"><span title=\"lab = (73.0, 13.0, 24.0)\" style=\"color:#000000\">728C</span></td><td style=\"background-color:#c88f65;\"><span title=\"lab = (64.0, 17.0, 31.0)\" style=\"color:#000000\">729C</span></td><td style=\"background-color:#b06f3d;\"><span title=\"lab = (53.0, 21.0, 38.0)\" style=\"color:#000000\">730C</span></td><td style=\"background-color:#7d400e;\"><span title=\"lab = (34.0, 23.0, 39.0)\" style=\"color:#ffffff\">731C</span></td><td style=\"background-color:#67310b;\"><span title=\"lab = (27.0, 22.0, 33.0)\" style=\"color:#ffffff\">732C</span></td><td style=\"background-color:#00a8d9;\"><span title=\"lab = (61.0, -39.0, -40.0)\" style=\"color:#000000\">801C</span></td><td style=\"background-color:#6cdc49;\"><span title=\"lab = (79.0, -58.0, 60.0)\" style=\"color:#000000\">802C</span></td><td style=\"background-color:#00f6ff;\"><span title=\"lab = (93.0, -2.0, -90.0)\" style=\"color:#000000\">803C</span></td></tr>\n",
       "<tr><td style=\"background-color:#ffa243;\"><span title=\"lab = (82.0, 50.0, 71.0)\" style=\"color:#000000\">804C</span></td><td style=\"background-color:#ff5a5e;\"><span title=\"lab = (69.0, 77.0, 44.0)\" style=\"color:#000000\">805C</span></td><td style=\"background-color:#ff25ab;\"><span title=\"lab = (59.0, 86.0, -15.0)\" style=\"color:#000000\">806C</span></td><td style=\"background-color:#d318b0;\"><span title=\"lab = (49.0, 78.0, -34.0)\" style=\"color:#ffffff\">807C</span></td><td style=\"background-color:#00ad97;\"><span title=\"lab = (61.0, -61.0, -3.0)\" style=\"color:#000000\">808C</span></td><td style=\"background-color:#ebe200;\"><span title=\"lab = (88.0, -16.0, 88.0)\" style=\"color:#000000\">809C</span></td><td style=\"background-color:#ffcc11;\"><span title=\"lab = (88.0, 19.0, 88.0)\" style=\"color:#000000\">810C</span></td><td style=\"background-color:#ff7850;\"><span title=\"lab = (74.0, 67.0, 57.0)\" style=\"color:#000000\">811C</span></td><td style=\"background-color:#ff3a85;\"><span title=\"lab = (62.0, 82.0, 12.0)\" style=\"color:#000000\">812C</span></td><td style=\"background-color:#e81ead;\"><span title=\"lab = (53.0, 81.0, -26.0)\" style=\"color:#000000\">813C</span></td><td style=\"background-color:#6f63ce;\"><span title=\"lab = (48.0, 32.0, -54.0)\" style=\"color:#ffffff\">814C</span></td><td style=\"background-color:#f8e0a7;\"><span title=\"lab = (90.0, 0.0, 31.0)\" style=\"color:#000000\">1205C</span></td><td style=\"background-color:#fbdd93;\"><span title=\"lab = (89.0, 1.0, 40.0)\" style=\"color:#000000\">1215C</span></td><td style=\"background-color:#ffc748;\"><span title=\"lab = (84.0, 11.0, 69.0)\" style=\"color:#000000\">1225C</span></td><td style=\"background-color:#ffb100;\"><span title=\"lab = (79.0, 22.0, 85.0)\" style=\"color:#000000\">1235C</span></td><td style=\"background-color:#cc9000;\"><span title=\"lab = (64.0, 13.0, 69.0)\" style=\"color:#000000\">1245C</span></td><td style=\"background-color:#ae7e0f;\"><span title=\"lab = (56.0, 10.0, 59.0)\" style=\"color:#000000\">1255C</span></td><td style=\"background-color:#8b671a;\"><span title=\"lab = (46.0, 7.0, 46.0)\" style=\"color:#ffffff\">1265C</span></td><td style=\"background-color:#ffce8e;\"><span title=\"lab = (86.0, 10.0, 39.0)\" style=\"color:#000000\">1345C</span></td><td style=\"background-color:#ffc77d;\"><span title=\"lab = (84.0, 13.0, 45.0)\" style=\"color:#000000\">1355C</span></td></tr>\n",
       "<tr><td style=\"background-color:#ffb554;\"><span title=\"lab = (80.0, 21.0, 60.0)\" style=\"color:#000000\">1365C</span></td><td style=\"background-color:#ff9a00;\"><span title=\"lab = (74.0, 35.0, 81.0)\" style=\"color:#000000\">1375C</span></td><td style=\"background-color:#dd7600;\"><span title=\"lab = (60.0, 34.0, 74.0)\" style=\"color:#000000\">1385C</span></td><td style=\"background-color:#a26009;\"><span title=\"lab = (47.0, 21.0, 53.0)\" style=\"color:#ffffff\">1395C</span></td><td style=\"background-color:#704714;\"><span title=\"lab = (34.0, 13.0, 36.0)\" style=\"color:#ffffff\">1405C</span></td><td style=\"background-color:#ffb57c;\"><span title=\"lab = (81.0, 26.0, 42.0)\" style=\"color:#000000\">1485C</span></td><td style=\"background-color:#ff953b;\"><span title=\"lab = (74.0, 41.0, 65.0)\" style=\"color:#000000\">1495C</span></td><td style=\"background-color:#ff7100;\"><span title=\"lab = (67.0, 56.0, 90.0)\" style=\"color:#000000\">1505C</span></td><td style=\"background-color:#ce4d00;\"><span title=\"lab = (50.0, 48.0, 73.0)\" style=\"color:#ffffff\">1525C</span></td><td style=\"background-color:#973f00;\"><span title=\"lab = (38.0, 34.0, 53.0)\" style=\"color:#ffffff\">1535C</span></td><td style=\"background-color:#53260b;\"><span title=\"lab = (21.0, 19.0, 26.0)\" style=\"color:#ffffff\">1545C</span></td><td style=\"background-color:#ffbfa1;\"><span title=\"lab = (83.0, 21.0, 25.0)\" style=\"color:#000000\">1555C</span></td><td style=\"background-color:#ffa97e;\"><span title=\"lab = (78.0, 31.0, 37.0)\" style=\"color:#000000\">1565C</span></td><td style=\"background-color:#ff8541;\"><span title=\"lab = (70.0, 46.0, 58.0)\" style=\"color:#000000\">1575C</span></td><td style=\"background-color:#ff6800;\"><span title=\"lab = (64.0, 57.0, 74.0)\" style=\"color:#000000\">1585C</span></td><td style=\"background-color:#de5b02;\"><span title=\"lab = (55.0, 48.0, 64.0)\" style=\"color:#000000\">1595C</span></td><td style=\"background-color:#a64a14;\"><span title=\"lab = (43.0, 35.0, 47.0)\" style=\"color:#ffffff\">1605C</span></td><td style=\"background-color:#883c10;\"><span title=\"lab = (35.0, 30.0, 40.0)\" style=\"color:#ffffff\">1615C</span></td><td style=\"background-color:#ffa18a;\"><span title=\"lab = (76.0, 35.0, 28.0)\" style=\"color:#000000\">1625C</span></td><td style=\"background-color:#ff8e6f;\"><span title=\"lab = (72.0, 44.0, 37.0)\" style=\"color:#000000\">1635C</span></td></tr>\n",
       "<tr><td style=\"background-color:#ff6b3b;\"><span title=\"lab = (65.0, 57.0, 56.0)\" style=\"color:#000000\">1645C</span></td><td style=\"background-color:#ff5100;\"><span title=\"lab = (60.0, 65.0, 72.0)\" style=\"color:#000000\">1655C</span></td><td style=\"background-color:#e94800;\"><span title=\"lab = (54.0, 60.0, 67.0)\" style=\"color:#000000\">1665C</span></td><td style=\"background-color:#ab3b0e;\"><span title=\"lab = (41.0, 44.0, 48.0)\" style=\"color:#ffffff\">1675C</span></td><td style=\"background-color:#893615;\"><span title=\"lab = (34.0, 34.0, 37.0)\" style=\"color:#ffffff\">1685C</span></td><td style=\"background-color:#ff9caf;\"><span title=\"lab = (75.0, 39.0, 6.0)\" style=\"color:#000000\">1765C</span></td><td style=\"background-color:#faafc1;\"><span title=\"lab = (79.0, 30.0, 2.0)\" style=\"color:#000000\">1767C</span></td><td style=\"background-color:#ff8599;\"><span title=\"lab = (70.0, 49.0, 11.0)\" style=\"color:#000000\">1775C</span></td><td style=\"background-color:#ff6782;\"><span title=\"lab = (64.0, 60.0, 16.0)\" style=\"color:#000000\">1777C</span></td><td style=\"background-color:#fd465a;\"><span title=\"lab = (58.0, 69.0, 31.0)\" style=\"color:#000000\">1785C</span></td><td style=\"background-color:#fd455f;\"><span title=\"lab = (58.0, 70.0, 28.0)\" style=\"color:#000000\">1787C</span></td><td style=\"background-color:#f52632;\"><span title=\"lab = (53.0, 74.0, 47.0)\" style=\"color:#000000\">1788C</span></td><td style=\"background-color:#da1f28;\"><span title=\"rgb = (0.854794296770759, 0.12023092845495059, 0.1556776417492546)\n",
       "lab = (47.0, 68.0, 45.0)\n",
       "hex = #da1f28\" style=\"color:#ffffff\">1795C</span></td><td style=\"background-color:#d22432;\"><span title=\"lab = (46.0, 65.0, 38.0)\" style=\"color:#ffffff\">1797C</span></td><td style=\"background-color:#b4252a;\"><span title=\"lab = (40.0, 56.0, 34.0)\" style=\"color:#ffffff\">1805C</span></td><td style=\"background-color:#a3282f;\"><span title=\"lab = (37.0, 50.0, 27.0)\" style=\"color:#ffffff\">1807C</span></td><td style=\"background-color:#7f1d16;\"><span title=\"lab = (28.0, 41.0, 30.0)\" style=\"color:#ffffff\">1815C</span></td><td style=\"background-color:#602728;\"><span title=\"lab = (24.0, 26.0, 12.0)\" style=\"color:#ffffff\">1817C</span></td><td style=\"background-color:#f3bdd4;\"><span title=\"lab = (82.0, 23.0, -4.0)\" style=\"color:#000000\">1895C</span></td><td style=\"background-color:#f69bbd;\"><span title=\"lab = (74.0, 38.0, -3.0)\" style=\"color:#000000\">1905C</span></td></tr>\n",
       "<tr><td style=\"background-color:#f5578a;\"><span title=\"lab = (60.0, 64.0, 5.0)\" style=\"color:#000000\">1915C</span></td><td style=\"background-color:#e7034f;\"><span title=\"lab = (49.0, 76.0, 25.0)\" style=\"color:#ffffff\">1925C</span></td><td style=\"background-color:#ce0b46;\"><span title=\"lab = (44.0, 69.0, 23.0)\" style=\"color:#ffffff\">1935C</span></td><td style=\"background-color:#ac123e;\"><span title=\"lab = (37.0, 59.0, 18.0)\" style=\"color:#ffffff\">1945C</span></td><td style=\"background-color:#961a3c;\"><span title=\"lab = (33.0, 51.0, 13.0)\" style=\"color:#ffffff\">1955C</span></td><td style=\"background-color:#efc5e5;\"><span title=\"lab = (84.0, 20.0, -10.0)\" style=\"color:#000000\">2365C</span></td><td style=\"background-color:#e074ce;\"><span title=\"lab = (64.0, 54.0, -28.0)\" style=\"color:#000000\">2375C</span></td><td style=\"background-color:#d439b3;\"><span title=\"lab = (52.0, 71.0, -31.0)\" style=\"color:#000000\">2385C</span></td><td style=\"background-color:#c10096;\"><span title=\"lab = (42.0, 79.0, -30.0)\" style=\"color:#ffffff\">2395C</span></td><td style=\"background-color:#a50083;\"><span title=\"lab = (36.0, 70.0, -28.0)\" style=\"color:#ffffff\">2405C</span></td><td style=\"background-color:#970076;\"><span title=\"lab = (33.0, 64.0, -25.0)\" style=\"color:#ffffff\">2415C</span></td><td style=\"background-color:#800062;\"><span title=\"lab = (28.0, 55.0, -20.0)\" style=\"color:#ffffff\">2425C</span></td><td style=\"background-color:#c9a6e3;\"><span title=\"lab = (73.0, 24.0, -26.0)\" style=\"color:#000000\">2562C</span></td><td style=\"background-color:#c29ed7;\"><span title=\"lab = (70.0, 24.0, -24.0)\" style=\"color:#000000\">2563C</span></td><td style=\"background-color:#b59ad8;\"><span title=\"lab = (68.0, 22.0, -28.0)\" style=\"color:#000000\">2567C</span></td><td style=\"background-color:#ba87dc;\"><span title=\"lab = (64.0, 35.0, -36.0)\" style=\"color:#000000\">2572C</span></td><td style=\"background-color:#ac7bc7;\"><span title=\"lab = (59.0, 33.0, -32.0)\" style=\"color:#000000\">2573C</span></td><td style=\"background-color:#9b79cb;\"><span title=\"lab = (57.0, 30.0, -38.0)\" style=\"color:#000000\">2577C</span></td><td style=\"background-color:#9a50c7;\"><span title=\"lab = (48.0, 51.0, -50.0)\" style=\"color:#ffffff\">2582C</span></td><td style=\"background-color:#9252b1;\"><span title=\"lab = (46.0, 43.0, -40.0)\" style=\"color:#ffffff\">2583C</span></td></tr>\n",
       "<tr><td style=\"background-color:#794cb5;\"><span title=\"lab = (42.0, 41.0, -49.0)\" style=\"color:#ffffff\">2587C</span></td><td style=\"background-color:#8822b1;\"><span title=\"lab = (37.0, 62.0, -55.0)\" style=\"color:#ffffff\">2592C</span></td><td style=\"background-color:#793198;\"><span title=\"lab = (35.0, 48.0, -43.0)\" style=\"color:#ffffff\">2593C</span></td><td style=\"background-color:#4f138e;\"><span title=\"lab = (24.0, 50.0, -55.0)\" style=\"color:#ffffff\">2597C</span></td><td style=\"background-color:#771696;\"><span title=\"lab = (31.0, 57.0, -48.0)\" style=\"color:#ffffff\">2602C</span></td><td style=\"background-color:#621e80;\"><span title=\"lab = (27.0, 46.0, -41.0)\" style=\"color:#ffffff\">2603C</span></td><td style=\"background-color:#450d7c;\"><span title=\"lab = (20.0, 46.0, -50.0)\" style=\"color:#ffffff\">2607C</span></td><td style=\"background-color:#651e79;\"><span title=\"lab = (27.0, 45.0, -37.0)\" style=\"color:#ffffff\">2612C</span></td><td style=\"background-color:#5d1c74;\"><span title=\"lab = (25.0, 43.0, -37.0)\" style=\"color:#ffffff\">2613C</span></td><td style=\"background-color:#421270;\"><span title=\"lab = (19.0, 41.0, -44.0)\" style=\"color:#ffffff\">2617C</span></td><td style=\"background-color:#552759;\"><span title=\"lab = (24.0, 30.0, -21.0)\" style=\"color:#ffffff\">2622C</span></td><td style=\"background-color:#531b62;\"><span title=\"lab = (22.0, 37.0, -30.0)\" style=\"color:#ffffff\">2623C</span></td><td style=\"background-color:#3c155e;\"><span title=\"lab = (17.0, 34.0, -36.0)\" style=\"color:#ffffff\">2627C</span></td><td style=\"background-color:#b9afe4;\"><span title=\"lab = (74.0, 14.0, -25.0)\" style=\"color:#000000\">2635C</span></td><td style=\"background-color:#a194dc;\"><span title=\"lab = (65.0, 20.0, -35.0)\" style=\"color:#000000\">2645C</span></td><td style=\"background-color:#8776d4;\"><span title=\"lab = (55.0, 28.0, -46.0)\" style=\"color:#000000\">2655C</span></td><td style=\"background-color:#6c56c6;\"><span title=\"lab = (44.0, 37.0, -56.0)\" style=\"color:#ffffff\">2665C</span></td><td style=\"background-color:#1f007d;\"><span title=\"lab = (14.0, 48.0, -61.0)\" style=\"color:#ffffff\">2685C</span></td><td style=\"background-color:#311e58;\"><span title=\"lab = (17.0, 24.0, -32.0)\" style=\"color:#ffffff\">2695C</span></td><td style=\"background-color:#989fde;\"><span title=\"lab = (67.0, 12.0, -33.0)\" style=\"color:#000000\">2705C</span></td></tr>\n",
       "<tr><td style=\"background-color:#c0ccea;\"><span title=\"lab = (82.0, 2.0, -16.0)\" style=\"color:#000000\">2706C</span></td><td style=\"background-color:#b9d1ee;\"><span title=\"lab = (83.0, -2.0, -17.0)\" style=\"color:#000000\">2707C</span></td><td style=\"background-color:#abc6ea;\"><span title=\"lab = (79.0, -1.0, -21.0)\" style=\"color:#000000\">2708C</span></td><td style=\"background-color:#7782d7;\"><span title=\"lab = (57.0, 18.0, -45.0)\" style=\"color:#000000\">2715C</span></td><td style=\"background-color:#89a2e2;\"><span title=\"lab = (67.0, 7.0, -35.0)\" style=\"color:#000000\">2716C</span></td><td style=\"background-color:#99bfeb;\"><span title=\"lab = (76.0, -2.0, -26.0)\" style=\"color:#000000\">2717C</span></td><td style=\"background-color:#3280d8;\"><span title=\"lab = (53.0, 7.0, -52.0)\" style=\"color:#000000\">2718C</span></td><td style=\"background-color:#4858c7;\"><span title=\"lab = (42.0, 29.0, -60.0)\" style=\"color:#ffffff\">2725C</span></td><td style=\"background-color:#1458c7;\"><span title=\"lab = (40.0, 23.0, -63.0)\" style=\"color:#ffffff\">2726C</span></td><td style=\"background-color:#007ada;\"><span title=\"lab = (50.0, 6.0, -58.0)\" style=\"color:#ffffff\">2727C</span></td><td style=\"background-color:#004bbd;\"><span title=\"lab = (33.0, 20.0, -69.0)\" style=\"color:#ffffff\">2728C</span></td><td style=\"background-color:#000091;\"><span title=\"lab = (14.0, 54.0, -74.0)\" style=\"color:#ffffff\">2735C</span></td><td style=\"background-color:#002aae;\"><span title=\"lab = (24.0, 40.0, -75.0)\" style=\"color:#ffffff\">2736C</span></td><td style=\"background-color:#001d9e;\"><span title=\"lab = (18.0, 41.0, -75.0)\" style=\"color:#ffffff\">2738C</span></td><td style=\"background-color:#000579;\"><span title=\"lab = (12.0, 43.0, -62.0)\" style=\"color:#ffffff\">2745C</span></td><td style=\"background-color:#002396;\"><span title=\"lab = (20.0, 36.0, -67.0)\" style=\"color:#ffffff\">2746C</span></td><td style=\"background-color:#00277e;\"><span title=\"lab = (17.0, 20.0, -57.0)\" style=\"color:#ffffff\">2747C</span></td><td style=\"background-color:#001f7b;\"><span title=\"lab = (15.0, 26.0, -58.0)\" style=\"color:#ffffff\">2748C</span></td><td style=\"background-color:#000869;\"><span title=\"lab = (10.0, 37.0, -55.0)\" style=\"color:#ffffff\">2755C</span></td><td style=\"background-color:#002171;\"><span title=\"lab = (16.0, 23.0, -50.0)\" style=\"color:#ffffff\">2756C</span></td></tr>\n",
       "<tr><td style=\"background-color:#002264;\"><span title=\"lab = (14.0, 13.0, -45.0)\" style=\"color:#ffffff\">2757C</span></td><td style=\"background-color:#002069;\"><span title=\"lab = (14.0, 18.0, -48.0)\" style=\"color:#ffffff\">2758C</span></td><td style=\"background-color:#060f54;\"><span title=\"lab = (9.0, 26.0, -42.0)\" style=\"color:#ffffff\">2765C</span></td><td style=\"background-color:#001e54;\"><span title=\"lab = (13.0, 14.0, -36.0)\" style=\"color:#ffffff\">2766C</span></td><td style=\"background-color:#002344;\"><span title=\"lab = (13.0, 2.0, -25.0)\" style=\"color:#ffffff\">2767C</span></td><td style=\"background-color:#001f50;\"><span title=\"lab = (12.0, 9.0, -35.0)\" style=\"color:#ffffff\">2768C</span></td><td style=\"background-color:#89c9eb;\"><span title=\"lab = (78.0, -12.0, -23.0)\" style=\"color:#000000\">2905C</span></td><td style=\"background-color:#4cb6e8;\"><span title=\"lab = (70.0, -15.0, -34.0)\" style=\"color:#000000\">2915C</span></td><td style=\"background-color:#0093db;\"><span title=\"lab = (56.0, -16.0, -49.0)\" style=\"color:#000000\">2925C</span></td><td style=\"background-color:#005dc2;\"><span title=\"lab = (36.0, -2.0, -67.0)\" style=\"color:#ffffff\">2935C</span></td><td style=\"background-color:#0054a4;\"><span title=\"lab = (32.0, -7.0, -56.0)\" style=\"color:#ffffff\">2945C</span></td><td style=\"background-color:#003c6f;\"><span title=\"lab = (22.0, -9.0, -39.0)\" style=\"color:#ffffff\">2955C</span></td><td style=\"background-color:#003251;\"><span title=\"lab = (18.0, -10.0, -26.0)\" style=\"color:#ffffff\">2965C</span></td><td style=\"background-color:#a1daed;\"><span title=\"lab = (84.0, -14.0, -15.0)\" style=\"color:#000000\">2975C</span></td><td style=\"background-color:#00bde7;\"><span title=\"lab = (71.0, -25.0, -32.0)\" style=\"color:#000000\">2985C</span></td><td style=\"background-color:#00a3e1;\"><span title=\"lab = (60.0, -30.0, -46.0)\" style=\"color:#000000\">2995C</span></td><td style=\"background-color:#0078cc;\"><span title=\"lab = (44.0, -23.0, -60.0)\" style=\"color:#ffffff\">3005C</span></td><td style=\"background-color:#0063a2;\"><span title=\"lab = (36.0, -23.0, -48.0)\" style=\"color:#ffffff\">3015C</span></td><td style=\"background-color:#004b6f;\"><span title=\"lab = (27.0, -22.0, -31.0)\" style=\"color:#ffffff\">3025C</span></td><td style=\"background-color:#003b50;\"><span title=\"lab = (21.0, -19.0, -20.0)\" style=\"color:#ffffff\">3035C</span></td></tr>\n",
       "<tr><td style=\"background-color:#64d3e4;\"><span title=\"lab = (79.0, -27.0, -18.0)\" style=\"color:#000000\">3105C</span></td><td style=\"background-color:#00c4db;\"><span title=\"lab = (72.0, -36.0, -24.0)\" style=\"color:#000000\">3115C</span></td><td style=\"background-color:#00adcd;\"><span title=\"lab = (62.0, -47.0, -32.0)\" style=\"color:#000000\">3125C</span></td><td style=\"background-color:#0092b9;\"><span title=\"lab = (51.0, -53.0, -38.0)\" style=\"color:#000000\">3135C</span></td><td style=\"background-color:#007a96;\"><span title=\"lab = (43.0, -46.0, -30.0)\" style=\"color:#ffffff\">3145C</span></td><td style=\"background-color:#00667c;\"><span title=\"lab = (36.0, -41.0, -25.0)\" style=\"color:#ffffff\">3155C</span></td><td style=\"background-color:#004f5d;\"><span title=\"lab = (28.0, -33.0, -18.0)\" style=\"color:#ffffff\">3165C</span></td><td style=\"background-color:#6fdad9;\"><span title=\"lab = (81.0, -31.0, -9.0)\" style=\"color:#000000\">3242C</span></td><td style=\"background-color:#76ddd8;\"><span title=\"lab = (82.0, -31.0, -7.0)\" style=\"color:#000000\">3245C</span></td><td style=\"background-color:#77d0c7;\"><span title=\"lab = (78.0, -29.0, -4.0)\" style=\"color:#000000\">3248C</span></td><td style=\"background-color:#2fd2d3;\"><span title=\"lab = (77.0, -39.0, -12.0)\" style=\"color:#000000\">3252C</span></td><td style=\"background-color:#1fd4cc;\"><span title=\"lab = (77.0, -43.0, -8.0)\" style=\"color:#000000\">3255C</span></td><td style=\"background-color:#3bc4b7;\"><span title=\"lab = (72.0, -39.0, -4.0)\" style=\"color:#000000\">3258C</span></td><td style=\"background-color:#00bbba;\"><span title=\"lab = (66.0, -58.0, -15.0)\" style=\"color:#000000\">3262C</span></td><td style=\"background-color:#00c3b7;\"><span title=\"lab = (69.0, -59.0, -9.0)\" style=\"color:#000000\">3265C</span></td><td style=\"background-color:#00a994;\"><span title=\"lab = (60.0, -58.0, -3.0)\" style=\"color:#000000\">3268C</span></td><td style=\"background-color:#00a09c;\"><span title=\"lab = (55.0, -71.0, -15.0)\" style=\"color:#000000\">3272C</span></td><td style=\"background-color:#00b09e;\"><span title=\"lab = (61.0, -71.0, -7.0)\" style=\"color:#000000\">3275C</span></td><td style=\"background-color:#00987b;\"><span title=\"lab = (53.0, -68.0, 1.0)\" style=\"color:#000000\">3278C</span></td><td style=\"background-color:#008380;\"><span title=\"lab = (46.0, -58.0, -12.0)\" style=\"color:#ffffff\">3282C</span></td></tr>\n",
       "<tr><td style=\"background-color:#009385;\"><span title=\"lab = (52.0, -59.0, -6.0)\" style=\"color:#000000\">3285C</span></td><td style=\"background-color:#007e65;\"><span title=\"lab = (44.0, -61.0, 1.0)\" style=\"color:#ffffff\">3288C</span></td><td style=\"background-color:#005a54;\"><span title=\"lab = (32.0, -40.0, -6.0)\" style=\"color:#ffffff\">3292C</span></td><td style=\"background-color:#007c6f;\"><span title=\"lab = (44.0, -51.0, -5.0)\" style=\"color:#ffffff\">3295C</span></td><td style=\"background-color:#006652;\"><span title=\"lab = (36.0, -48.0, 1.0)\" style=\"color:#ffffff\">3298C</span></td><td style=\"background-color:#00433d;\"><span title=\"lab = (24.0, -27.0, -3.0)\" style=\"color:#ffffff\">3302C</span></td><td style=\"background-color:#284541;\"><span title=\"lab = (27.0, -12.0, -1.0)\" style=\"color:#ffffff\">3305C</span></td><td style=\"background-color:#004337;\"><span title=\"lab = (24.0, -26.0, 1.0)\" style=\"color:#ffffff\">3308C</span></td><td style=\"background-color:#80e0c8;\"><span title=\"lab = (83.0, -34.0, 3.0)\" style=\"color:#000000\">3375C</span></td><td style=\"background-color:#39d5b2;\"><span title=\"lab = (77.0, -48.0, 6.0)\" style=\"color:#000000\">3385C</span></td><td style=\"background-color:#00c491;\"><span title=\"lab = (69.0, -67.0, 12.0)\" style=\"color:#000000\">3395C</span></td><td style=\"background-color:#00ae6b;\"><span title=\"lab = (60.0, -81.0, 20.0)\" style=\"color:#000000\">3405C</span></td><td style=\"background-color:#00764c;\"><span title=\"lab = (42.0, -54.0, 13.0)\" style=\"color:#ffffff\">3415C</span></td><td style=\"background-color:#006443;\"><span title=\"lab = (36.0, -42.0, 10.0)\" style=\"color:#ffffff\">3425C</span></td><td style=\"background-color:#004530;\"><span title=\"lab = (25.0, -28.0, 7.0)\" style=\"color:#ffffff\">3435C</span></td><td style=\"background-color:#f9ea7c;\"><span title=\"lab = (92.0, -9.0, 55.0)\" style=\"color:#000000\">3935C</span></td><td style=\"background-color:#fae500;\"><span title=\"lab = (90.0, -11.0, 90.0)\" style=\"color:#000000\">3945C</span></td><td style=\"background-color:#f6df00;\"><span title=\"lab = (88.0, -11.0, 103.0)\" style=\"color:#000000\">3955C</span></td><td style=\"background-color:#f5dc00;\"><span title=\"lab = (87.0, -10.0, 107.0)\" style=\"color:#000000\">3965C</span></td><td style=\"background-color:#c4a700;\"><span title=\"lab = (69.0, -4.0, 85.0)\" style=\"color:#000000\">3975C</span></td></tr>\n",
       "<tr><td style=\"background-color:#a18700;\"><span title=\"lab = (57.0, -2.0, 68.0)\" style=\"color:#000000\">3985C</span></td><td style=\"background-color:#6e5a09;\"><span title=\"lab = (39.0, 0.0, 44.0)\" style=\"color:#ffffff\">3995C</span></td><td style=\"background-color:#614719;\"><span title=\"lab = (32.0, 6.0, 31.0)\" style=\"color:#ffffff\">4485C</span></td><td style=\"background-color:#876c2b;\"><span title=\"lab = (47.0, 3.0, 39.0)\" style=\"color:#ffffff\">4495C</span></td><td style=\"background-color:#a1894a;\"><span title=\"lab = (58.0, 1.0, 37.0)\" style=\"color:#000000\">4505C</span></td><td style=\"background-color:#b9a46f;\"><span title=\"lab = (68.0, 0.0, 30.0)\" style=\"color:#000000\">4515C</span></td><td style=\"background-color:#caba8f;\"><span title=\"lab = (76.0, -1.0, 24.0)\" style=\"color:#000000\">4525C</span></td><td style=\"background-color:#d8cbaa;\"><span title=\"lab = (82.0, -1.0, 18.0)\" style=\"color:#000000\">4535C</span></td><td style=\"background-color:#e2dac3;\"><span title=\"lab = (87.0, -1.0, 12.0)\" style=\"color:#000000\">4545C</span></td><td style=\"background-color:#4e2514;\"><span title=\"lab = (20.0, 18.0, 20.0)\" style=\"color:#ffffff\">4625C</span></td><td style=\"background-color:#945a33;\"><span title=\"lab = (44.0, 20.0, 32.0)\" style=\"color:#ffffff\">4635C</span></td><td style=\"background-color:#b67f5d;\"><span title=\"lab = (58.0, 17.0, 27.0)\" style=\"color:#000000\">4645C</span></td><td style=\"background-color:#c39477;\"><span title=\"lab = (65.0, 14.0, 22.0)\" style=\"color:#000000\">4655C</span></td><td style=\"background-color:#d5ae97;\"><span title=\"lab = (74.0, 11.0, 17.0)\" style=\"color:#000000\">4665C</span></td><td style=\"background-color:#dfc1af;\"><span title=\"lab = (80.0, 8.0, 13.0)\" style=\"color:#000000\">4675C</span></td><td style=\"background-color:#e5d1c4;\"><span title=\"lab = (85.0, 5.0, 9.0)\" style=\"color:#000000\">4685C</span></td><td style=\"background-color:#542821;\"><span title=\"lab = (22.0, 20.0, 14.0)\" style=\"color:#ffffff\">4695C</span></td><td style=\"background-color:#814b3d;\"><span title=\"lab = (38.0, 21.0, 18.0)\" style=\"color:#ffffff\">4705C</span></td><td style=\"background-color:#9e6e5f;\"><span title=\"lab = (51.0, 17.0, 16.0)\" style=\"color:#000000\">4715C</span></td><td style=\"background-color:#b58d7f;\"><span title=\"lab = (62.0, 13.0, 13.0)\" style=\"color:#000000\">4725C</span></td></tr>\n",
       "<tr><td style=\"background-color:#c7aaa1;\"><span title=\"lab = (72.0, 9.0, 9.0)\" style=\"color:#000000\">4735C</span></td><td style=\"background-color:#d6bfb7;\"><span title=\"lab = (79.0, 7.0, 7.0)\" style=\"color:#000000\">4745C</span></td><td style=\"background-color:#dfcec8;\"><span title=\"lab = (84.0, 5.0, 5.0)\" style=\"color:#000000\">4755C</span></td><td style=\"background-color:#451e1f;\"><span title=\"lab = (17.0, 19.0, 8.0)\" style=\"color:#ffffff\">4975C</span></td><td style=\"background-color:#864b50;\"><span title=\"lab = (39.0, 26.0, 8.0)\" style=\"color:#ffffff\">4985C</span></td><td style=\"background-color:#a36a72;\"><span title=\"lab = (51.0, 24.0, 5.0)\" style=\"color:#000000\">4995C</span></td><td style=\"background-color:#b7838a;\"><span title=\"lab = (60.0, 21.0, 4.0)\" style=\"color:#000000\">5005C</span></td><td style=\"background-color:#d2a9b0;\"><span title=\"lab = (73.0, 16.0, 2.0)\" style=\"color:#000000\">5015C</span></td><td style=\"background-color:#dcbcc0;\"><span title=\"lab = (79.0, 12.0, 2.0)\" style=\"color:#000000\">5025C</span></td><td style=\"background-color:#e4ccd0;\"><span title=\"lab = (84.0, 9.0, 1.0)\" style=\"color:#000000\">5035C</span></td><td style=\"background-color:#4b263f;\"><span title=\"lab = (21.0, 21.0, -8.0)\" style=\"color:#ffffff\">5115C</span></td><td style=\"background-color:#704366;\"><span title=\"lab = (35.0, 25.0, -12.0)\" style=\"color:#ffffff\">5125C</span></td><td style=\"background-color:#865e7f;\"><span title=\"lab = (45.0, 22.0, -12.0)\" style=\"color:#ffffff\">5135C</span></td><td style=\"background-color:#a07f9b;\"><span title=\"lab = (57.0, 18.0, -10.0)\" style=\"color:#000000\">5145C</span></td><td style=\"background-color:#bfa6bd;\"><span title=\"lab = (71.0, 13.0, -8.0)\" style=\"color:#000000\">5155C</span></td><td style=\"background-color:#d4c5d3;\"><span title=\"lab = (81.0, 8.0, -5.0)\" style=\"color:#000000\">5165C</span></td><td style=\"background-color:#ded4dd;\"><span title=\"lab = (86.0, 5.0, -3.0)\" style=\"color:#000000\">5175C</span></td><td style=\"background-color:#452a3c;\"><span title=\"lab = (21.0, 16.0, -6.0)\" style=\"color:#ffffff\">5185C</span></td><td style=\"background-color:#5c3a50;\"><span title=\"lab = (29.0, 19.0, -7.0)\" style=\"color:#ffffff\">5195C</span></td><td style=\"background-color:#8a687c;\"><span title=\"lab = (48.0, 17.0, -6.0)\" style=\"color:#ffffff\">5205C</span></td></tr>\n",
       "<tr><td style=\"background-color:#b196a7;\"><span title=\"lab = (65.0, 13.0, -5.0)\" style=\"color:#000000\">5215C</span></td><td style=\"background-color:#c5b0bd;\"><span title=\"lab = (74.0, 10.0, -4.0)\" style=\"color:#000000\">5225C</span></td><td style=\"background-color:#d4c5cf;\"><span title=\"lab = (81.0, 7.0, -3.0)\" style=\"color:#000000\">5235C</span></td><td style=\"background-color:#dfd4db;\"><span title=\"lab = (86.0, 5.0, -2.0)\" style=\"color:#000000\">5245C</span></td><td style=\"background-color:#25264b;\"><span title=\"lab = (17.0, 11.0, -23.0)\" style=\"color:#ffffff\">5255C</span></td><td style=\"background-color:#3c3b66;\"><span title=\"lab = (27.0, 12.0, -25.0)\" style=\"color:#ffffff\">5265C</span></td><td style=\"background-color:#51547e;\"><span title=\"lab = (37.0, 10.0, -24.0)\" style=\"color:#ffffff\">5275C</span></td><td style=\"background-color:#8081a3;\"><span title=\"lab = (55.0, 7.0, -18.0)\" style=\"color:#000000\">5285C</span></td><td style=\"background-color:#a6a6c0;\"><span title=\"lab = (69.0, 5.0, -13.0)\" style=\"color:#000000\">5295C</span></td><td style=\"background-color:#c1bfd1;\"><span title=\"lab = (78.0, 4.0, -9.0)\" style=\"color:#000000\">5305C</span></td><td style=\"background-color:#d3d3e0;\"><span title=\"lab = (85.0, 2.0, -6.0)\" style=\"color:#000000\">5315C</span></td><td style=\"background-color:#002539;\"><span title=\"lab = (13.0, -6.0, -17.0)\" style=\"color:#ffffff\">5395C</span></td><td style=\"background-color:#35647d;\"><span title=\"lab = (40.0, -8.0, -19.0)\" style=\"color:#ffffff\">5405C</span></td><td style=\"background-color:#517992;\"><span title=\"lab = (49.0, -7.0, -18.0)\" style=\"color:#ffffff\">5415C</span></td><td style=\"background-color:#7798ad;\"><span title=\"lab = (61.0, -6.0, -15.0)\" style=\"color:#000000\">5425C</span></td><td style=\"background-color:#a3b9ca;\"><span title=\"lab = (74.0, -4.0, -11.0)\" style=\"color:#000000\">5435C</span></td><td style=\"background-color:#b9c9d5;\"><span title=\"lab = (80.0, -3.0, -8.0)\" style=\"color:#000000\">5445C</span></td><td style=\"background-color:#cad6df;\"><span title=\"lab = (85.0, -2.0, -6.0)\" style=\"color:#000000\">5455C</span></td><td style=\"background-color:#00272f;\"><span title=\"lab = (13.0, -14.0, -10.0)\" style=\"color:#ffffff\">5463C</span></td><td style=\"background-color:#173533;\"><span title=\"lab = (20.0, -12.0, -2.0)\" style=\"color:#ffffff\">5467C</span></td></tr>\n",
       "<tr><td style=\"background-color:#00626d;\"><span title=\"lab = (37.0, -23.0, -14.0)\" style=\"color:#ffffff\">5473C</span></td><td style=\"background-color:#3a5a59;\"><span title=\"lab = (36.0, -12.0, -3.0)\" style=\"color:#ffffff\">5477C</span></td><td style=\"background-color:#488e98;\"><span title=\"lab = (55.0, -19.0, -12.0)\" style=\"color:#000000\">5483C</span></td><td style=\"background-color:#617c7c;\"><span title=\"lab = (50.0, -10.0, -3.0)\" style=\"color:#000000\">5487C</span></td><td style=\"background-color:#7eaeb5;\"><span title=\"lab = (68.0, -14.0, -9.0)\" style=\"color:#000000\">5493C</span></td><td style=\"background-color:#8b9f9e;\"><span title=\"lab = (64.0, -7.0, -2.0)\" style=\"color:#000000\">5497C</span></td><td style=\"background-color:#9dc2c8;\"><span title=\"lab = (76.0, -11.0, -7.0)\" style=\"color:#000000\">5503C</span></td><td style=\"background-color:#aab9b9;\"><span title=\"lab = (74.0, -5.0, -2.0)\" style=\"color:#000000\">5507C</span></td><td style=\"background-color:#bed6db;\"><span title=\"lab = (84.0, -7.0, -5.0)\" style=\"color:#000000\">5513C</span></td><td style=\"background-color:#bfcccd;\"><span title=\"lab = (81.0, -4.0, -2.0)\" style=\"color:#000000\">5517C</span></td><td style=\"background-color:#cddddf;\"><span title=\"lab = (87.0, -5.0, -3.0)\" style=\"color:#000000\">5523C</span></td><td style=\"background-color:#cad3d3;\"><span title=\"lab = (84.0, -3.0, -1.0)\" style=\"color:#000000\">5527C</span></td><td style=\"background-color:#1c3a31;\"><span title=\"lab = (22.0, -14.0, 2.0)\" style=\"color:#ffffff\">5535C</span></td><td style=\"background-color:#4a6d62;\"><span title=\"lab = (43.0, -15.0, 2.0)\" style=\"color:#ffffff\">5545C</span></td><td style=\"background-color:#6e8d82;\"><span title=\"lab = (56.0, -13.0, 2.0)\" style=\"color:#000000\">5555C</span></td><td style=\"background-color:#90a8a1;\"><span title=\"lab = (67.0, -10.0, 1.0)\" style=\"color:#000000\">5565C</span></td><td style=\"background-color:#a9bdb7;\"><span title=\"lab = (75.0, -8.0, 1.0)\" style=\"color:#000000\">5575C</span></td><td style=\"background-color:#c0cfcc;\"><span title=\"lab = (82.0, -6.0, 0.0)\" style=\"color:#000000\">5585C</span></td><td style=\"background-color:#d2dcda;\"><span title=\"lab = (87.0, -4.0, 0.0)\" style=\"color:#000000\">5595C</span></td><td style=\"background-color:#1a3126;\"><span title=\"lab = (18.0, -12.0, 4.0)\" style=\"color:#ffffff\">5605C</span></td></tr>\n",
       "<tr><td style=\"background-color:#5b6f60;\"><span title=\"lab = (45.0, -11.0, 6.0)\" style=\"color:#ffffff\">5615C</span></td><td style=\"background-color:#6d8173;\"><span title=\"lab = (52.0, -10.0, 5.0)\" style=\"color:#000000\">5625C</span></td><td style=\"background-color:#99a79c;\"><span title=\"lab = (67.0, -7.0, 4.0)\" style=\"color:#000000\">5635C</span></td><td style=\"background-color:#b0bbb5;\"><span title=\"lab = (75.0, -5.0, 2.0)\" style=\"color:#000000\">5645C</span></td><td style=\"background-color:#bdc6c0;\"><span title=\"lab = (79.0, -4.0, 2.0)\" style=\"color:#000000\">5655C</span></td><td style=\"background-color:#cdd3ce;\"><span title=\"lab = (84.0, -3.0, 2.0)\" style=\"color:#000000\">5665C</span></td><td style=\"background-color:#414825;\"><span title=\"lab = (29.0, -9.0, 20.0)\" style=\"color:#ffffff\">5743C</span></td><td style=\"background-color:#434516;\"><span title=\"lab = (28.0, -8.0, 27.0)\" style=\"color:#ffffff\">5747C</span></td><td style=\"background-color:#62663b;\"><span title=\"lab = (42.0, -9.0, 24.0)\" style=\"color:#ffffff\">5753C</span></td><td style=\"background-color:#74722e;\"><span title=\"lab = (47.0, -9.0, 37.0)\" style=\"color:#ffffff\">5757C</span></td><td style=\"background-color:#717549;\"><span title=\"lab = (48.0, -9.0, 24.0)\" style=\"color:#ffffff\">5763C</span></td><td style=\"background-color:#939151;\"><span title=\"lab = (59.0, -9.0, 34.0)\" style=\"color:#000000\">5767C</span></td><td style=\"background-color:#979872;\"><span title=\"lab = (62.0, -7.0, 20.0)\" style=\"color:#000000\">5773C</span></td><td style=\"background-color:#adab75;\"><span title=\"lab = (69.0, -8.0, 28.0)\" style=\"color:#000000\">5777C</span></td><td style=\"background-color:#afb091;\"><span title=\"lab = (71.0, -6.0, 16.0)\" style=\"color:#000000\">5783C</span></td><td style=\"background-color:#c5c39a;\"><span title=\"lab = (78.0, -6.0, 21.0)\" style=\"color:#000000\">5787C</span></td><td style=\"background-color:#c1c3ab;\"><span title=\"lab = (78.0, -5.0, 12.0)\" style=\"color:#000000\">5793C</span></td><td style=\"background-color:#d1d1b2;\"><span title=\"lab = (83.0, -5.0, 15.0)\" style=\"color:#000000\">5797C</span></td><td style=\"background-color:#d1d3c1;\"><span title=\"lab = (84.0, -4.0, 9.0)\" style=\"color:#000000\">5803C</span></td><td style=\"background-color:#dbdbc5;\"><span title=\"lab = (87.0, -4.0, 11.0)\" style=\"color:#000000\">5807C</span></td></tr>\n",
       "<tr><td style=\"background-color:#4e4417;\"><span title=\"lab = (29.0, -2.0, 28.0)\" style=\"color:#ffffff\">5815C</span></td><td style=\"background-color:#827530;\"><span title=\"lab = (49.0, -4.0, 39.0)\" style=\"color:#ffffff\">5825C</span></td><td style=\"background-color:#a29755;\"><span title=\"lab = (62.0, -5.0, 36.0)\" style=\"color:#000000\">5835C</span></td><td style=\"background-color:#b1a76b;\"><span title=\"lab = (68.0, -5.0, 32.0)\" style=\"color:#000000\">5845C</span></td><td style=\"background-color:#cac296;\"><span title=\"lab = (78.0, -4.0, 23.0)\" style=\"color:#000000\">5855C</span></td><td style=\"background-color:#d7cfad;\"><span title=\"lab = (83.0, -3.0, 18.0)\" style=\"color:#000000\">5865C</span></td><td style=\"background-color:#dad5b8;\"><span title=\"lab = (85.0, -3.0, 15.0)\" style=\"color:#000000\">5875C</span></td></tr>\n",
       "</table>\n"
      ],
      "text/plain": [
       "Table(len=46,titles=[],data=[[<span title=\"lab = (93.0, -8.0, 50.0)\" style=\"color:#000000\">100C</span>, <span title=\"lab = (92.0, -9.0, 66.0)\" style=\"color:#000000\">101C</span>, <span title=\"lab = (91.0, -7.0, 100.0)\" style=\"color:#000000\">102C</span>, <span title=\"lab = (71.0, 0.0, 91.0)\" style=\"color:#000000\">103C</span>, <span title=\"lab = (62.0, -1.0, 74.0)\" style=\"color:#000000\">104C</span>, <span title=\"lab = (48.0, -1.0, 49.0)\" style=\"color:#ffffff\">105C</span>, <span title=\"lab = (91.0, -6.0, 65.0)\" style=\"color:#000000\">106C</span>, <span title=\"lab = (90.0, -4.0, 81.0)\" style=\"color:#000000\">107C</span>, <span title=\"lab = (88.0, 0.0, 95.0)\" style=\"color:#000000\">108C</span>, <span title=\"lab = (86.0, 5.0, 100.0)\" style=\"color:#000000\">109C</span>, <span title=\"lab = (73.0, 7.0, 94.0)\" style=\"color:#000000\">110C</span>, <span title=\"lab = (61.0, 4.0, 75.0)\" style=\"color:#000000\">111C</span>, <span title=\"lab = (55.0, 2.0, 62.0)\" style=\"color:#000000\">112C</span>, <span title=\"lab = (90.0, -2.0, 67.0)\" style=\"color:#000000\">113C</span>, <span title=\"lab = (89.0, -2.0, 70.0)\" style=\"color:#000000\">114C</span>, <span title=\"lab = (89.0, -1.0, 72.0)\" style=\"color:#000000\">115C</span>, <span title=\"lab = (85.0, 7.0, 93.0)\" style=\"color:#000000\">116C</span>, <span title=\"lab = (68.0, 10.0, 83.0)\" style=\"color:#000000\">117C</span>, <span title=\"lab = (60.0, 8.0, 73.0)\" style=\"color:#000000\">118C</span>, <span title=\"lab = (50.0, 1.0, 49.0)\" style=\"color:#000000\">119C</span>], [<span title=\"lab = (89.0, 0.0, 53.0)\" style=\"color:#000000\">120C</span>, <span title=\"lab = (89.0, 2.0, 57.0)\" style=\"color:#000000\">121C</span>, <span title=\"lab = (87.0, 5.0, 68.0)\" style=\"color:#000000\">122C</span>, <span title=\"lab = (84.0, 12.0, 79.0)\" style=\"color:#000000\">123C</span>, <span title=\"lab = (75.0, 16.0, 85.0)\" style=\"color:#000000\">124C</span>, <span title=\"lab = (61.0, 12.0, 72.0)\" style=\"color:#000000\">125C</span>, <span title=\"lab = (55.0, 8.0, 60.0)\" style=\"color:#000000\">126C</span>, <span title=\"lab = (89.0, -3.0, 46.0)\" style=\"color:#000000\">127C</span>, <span title=\"lab = (86.0, 0.0, 61.0)\" style=\"color:#000000\">128C</span>, <span title=\"lab = (84.0, 3.0, 69.0)\" style=\"color:#000000\">129C</span>, <span title=\"lab = (75.0, 18.0, 86.0)\" style=\"color:#000000\">130C</span>, <span title=\"lab = (65.0, 19.0, 80.0)\" style=\"color:#000000\">131C</span>, <span title=\"lab = (55.0, 11.0, 64.0)\" style=\"color:#000000\">132C</span>, <span title=\"lab = (39.0, 5.0, 41.0)\" style=\"color:#ffffff\">133C</span>, <span title=\"lab = (87.0, 5.0, 45.0)\" style=\"color:#000000\">134C</span>, <span title=\"lab = (84.0, 12.0, 61.0)\" style=\"color:#000000\">135C</span>, <span title=\"lab = (81.0, 18.0, 71.0)\" style=\"color:#000000\">136C</span>, <span title=\"lab = (75.0, 32.0, 87.0)\" style=\"color:#000000\">137C</span>, <span title=\"lab = (64.0, 35.0, 83.0)\" style=\"color:#000000\">138C</span>, <span title=\"lab = (54.0, 23.0, 68.0)\" style=\"color:#000000\">139C</span>], [<span title=\"lab = (40.0, 11.0, 43.0)\" style=\"color:#ffffff\">140C</span>, <span title=\"lab = (83.0, 6.0, 53.0)\" style=\"color:#000000\">141C</span>, <span title=\"lab = (79.0, 12.0, 64.0)\" style=\"color:#000000\">142C</span>, <span title=\"lab = (75.0, 19.0, 72.0)\" style=\"color:#000000\">143C</span>, <span title=\"lab = (65.0, 38.0, 79.0)\" style=\"color:#000000\">144C</span>, <span title=\"lab = (59.0, 31.0, 71.0)\" style=\"color:#000000\">145C</span>, <span title=\"lab = (47.0, 22.0, 56.0)\" style=\"color:#ffffff\">146C</span>, <span title=\"lab = (39.0, 6.0, 35.0)\" style=\"color:#ffffff\">147C</span>, <span title=\"lab = (86.0, 11.0, 31.0)\" style=\"color:#000000\">148C</span>, <span title=\"lab = (84.0, 15.0, 39.0)\" style=\"color:#000000\">149C</span>, <span title=\"lab = (77.0, 29.0, 59.0)\" style=\"color:#000000\">150C</span>, <span title=\"lab = (66.0, 53.0, 86.0)\" style=\"color:#000000\">151C</span>, <span title=\"lab = (61.0, 44.0, 77.0)\" style=\"color:#000000\">152C</span>, <span title=\"lab = (53.0, 33.0, 63.0)\" style=\"color:#000000\">153C</span>, <span title=\"lab = (44.0, 26.0, 50.0)\" style=\"color:#ffffff\">154C</span>, <span title=\"lab = (87.0, 4.0, 22.0)\" style=\"color:#000000\">155C</span>, <span title=\"lab = (81.0, 12.0, 34.0)\" style=\"color:#000000\">156C</span>, <span title=\"lab = (71.0, 27.0, 52.0)\" style=\"color:#000000\">157C</span>, <span title=\"lab = (60.0, 47.0, 66.0)\" style=\"color:#000000\">158C</span>, <span title=\"lab = (53.0, 45.0, 61.0)\" style=\"color:#000000\">159C</span>], [<span title=\"lab = (44.0, 33.0, 48.0)\" style=\"color:#ffffff\">160C</span>, <span title=\"lab = (27.0, 18.0, 27.0)\" style=\"color:#ffffff\">161C</span>, <span title=\"lab = (84.0, 19.0, 21.0)\" style=\"color:#000000\">162C</span>, <span title=\"lab = (75.0, 37.0, 40.0)\" style=\"color:#000000\">163C</span>, <span title=\"lab = (69.0, 50.0, 56.0)\" style=\"color:#000000\">164C</span>, <span title=\"lab = (63.0, 61.0, 75.0)\" style=\"color:#000000\">165C</span>, <span title=\"lab = (56.0, 56.0, 70.0)\" style=\"color:#000000\">166C</span>, <span title=\"lab = (49.0, 44.0, 56.0)\" style=\"color:#ffffff\">167C</span>, <span title=\"lab = (29.0, 27.0, 31.0)\" style=\"color:#ffffff\">168C</span>, <span title=\"lab = (81.0, 27.0, 14.0)\" style=\"color:#000000\">169C</span>, <span title=\"lab = (71.0, 47.0, 30.0)\" style=\"color:#000000\">170C</span>, <span title=\"lab = (64.0, 62.0, 52.0)\" style=\"color:#000000\">171C</span>, <span title=\"lab = (58.0, 68.0, 70.0)\" style=\"color:#000000\">172C</span>, <span title=\"lab = (51.0, 57.0, 56.0)\" style=\"color:#000000\">173C</span>, <span title=\"lab = (37.0, 42.0, 41.0)\" style=\"color:#ffffff\">174C</span>, <span title=\"lab = (29.0, 27.0, 24.0)\" style=\"color:#ffffff\">175C</span>, <span title=\"lab = (79.0, 33.0, 7.0)\" style=\"color:#000000\">176C</span>, <span title=\"lab = (70.0, 52.0, 19.0)\" style=\"color:#000000\">177C</span>, <span title=\"lab = (63.0, 65.0, 34.0)\" style=\"color:#000000\">178C</span>, <span title=\"lab = (52.0, 65.0, 51.0)\" style=\"color:#000000\">179C</span>], [<span title=\"lab = (45.0, 55.0, 40.0)\" style=\"color:#ffffff\">180C</span>, <span title=\"lab = (29.0, 36.0, 25.0)\" style=\"color:#ffffff\">181C</span>, <span title=\"lab = (81.0, 26.0, 0.0)\" style=\"color:#000000\">182C</span>, <span title=\"lab = (72.0, 45.0, 5.0)\" style=\"color:#000000\">183C</span>, <span title=\"lab = (62.0, 62.0, 15.0)\" style=\"color:#000000\">184C</span>, <span title=\"lab = (50.0, 76.0, 42.0)\" style=\"color:#ffffff\">185C</span>, <span title=\"lab = (45.0, 69.0, 37.0)\" style=\"color:#ffffff\">186C</span>, <span title=\"lab = (40.0, 59.0, 28.0)\" style=\"color:#ffffff\">187C</span>, <span title=\"lab = (29.0, 40.0, 15.0)\" style=\"color:#ffffff\">188C</span>, <span title=\"lab = (76.0, 36.0, -1.0)\" style=\"color:#000000\">189C</span>, <span title=\"lab = (67.0, 53.0, 4.0)\" style=\"color:#000000\">190C</span>, <span title=\"lab = (56.0, 70.0, 15.0)\" style=\"color:#000000\">191C</span>, <span title=\"lab = (50.0, 76.0, 31.0)\" style=\"color:#ffffff\">192C</span>, <span title=\"lab = (42.0, 66.0, 26.0)\" style=\"color:#ffffff\">193C</span>, <span title=\"lab = (35.0, 52.0, 16.0)\" style=\"color:#ffffff\">194C</span>, <span title=\"lab = (84.0, 15.0, -1.0)\" style=\"color:#000000\">196C</span>, <span title=\"lab = (73.0, 33.0, 1.0)\" style=\"color:#000000\">197C</span>, <span title=\"lab = (56.0, 61.0, 15.0)\" style=\"color:#000000\">198C</span>, <span title=\"lab = (47.0, 72.0, 32.0)\" style=\"color:#ffffff\">199C</span>, <span title=\"lab = (42.0, 66.0, 31.0)\" style=\"color:#ffffff\">200C</span>]])"
      ]
     },
     "execution_count": 18,
     "metadata": {},
     "output_type": "execute_result"
    }
   ],
   "source": [
    "def ColorTable(colors,key,width=10):\n",
    "    from Goulib.table import Table, Cell\n",
    "    from Goulib.itertools2 import reshape\n",
    "    \n",
    "    def tooltip(c):\n",
    "        return '\\n'.join('%s = %s'%(k,v) for k,v in c._values.items())\n",
    "\n",
    "    labels=(color['black'],color['white']) #possible colors for labels\n",
    "    t=[]\n",
    "    for c in sorted(colors.values(),key=key):\n",
    "        c2=nearest_color(c,labels,opt=max) #chose the label color with max difference to pantone color\n",
    "        s='<span title=\"%s\" style=\"color:%s\">%s</span>'%(tooltip(c),c2.hex,c.name)\n",
    "        t.append(Cell(s,style={'background-color':c.hex}))\n",
    "    return Table(reshape(t,(0,width)))\n",
    "\n",
    "ColorTable(pantone,lambda c:int(c.name[:-1]),20)"
   ]
  },
  {
   "cell_type": "code",
   "execution_count": 19,
   "metadata": {
    "collapsed": false
   },
   "outputs": [],
   "source": [
    "def ColorCoords(colors,mode,cmode='rgb'):\n",
    "    \"\"\"coordinates of a color map\"\"\"\n",
    "    x,y,z,c,l=[],[],[],[],[]\n",
    "    for id in colors:\n",
    "        p=colors[id]\n",
    "        v=p.convert(mode)\n",
    "        x.append(v[1])\n",
    "        y.append(v[2])\n",
    "        z.append(v[0])\n",
    "        c.append(p.convert(cmode))\n",
    "        l.append(p.name)\n",
    "    return x,y,z,c,l\n",
    "\n",
    "def ColorCube(colors,mode='xyY',s=50):\n",
    "    \"\"\"draw an interactive color cube of colors\"\"\"\n",
    "    x,y,z,c,l=ColorCoords(colors,mode,'hex')\n",
    "    fig = plt.figure()\n",
    "    from mpl_toolkits.mplot3d import Axes3D\n",
    "    ax = fig.add_subplot(111,projection='3d')\n",
    "    ax.scatter(x,y,z,c=c,s=s,lw=0,depthshade=False)\n",
    "    ax.set_xlabel(mode[1])\n",
    "    ax.set_ylabel(mode[2])\n",
    "    ax.set_zlabel(mode[0])"
   ]
  },
  {
   "cell_type": "code",
   "execution_count": 20,
   "metadata": {
    "collapsed": false
   },
   "outputs": [
    {
     "data": {
      "application/javascript": [
       "/* Put everything inside the global mpl namespace */\n",
       "window.mpl = {};\n",
       "\n",
       "mpl.get_websocket_type = function() {\n",
       "    if (typeof(WebSocket) !== 'undefined') {\n",
       "        return WebSocket;\n",
       "    } else if (typeof(MozWebSocket) !== 'undefined') {\n",
       "        return MozWebSocket;\n",
       "    } else {\n",
       "        alert('Your browser does not have WebSocket support.' +\n",
       "              'Please try Chrome, Safari or Firefox ≥ 6. ' +\n",
       "              'Firefox 4 and 5 are also supported but you ' +\n",
       "              'have to enable WebSockets in about:config.');\n",
       "    };\n",
       "}\n",
       "\n",
       "mpl.figure = function(figure_id, websocket, ondownload, parent_element) {\n",
       "    this.id = figure_id;\n",
       "\n",
       "    this.ws = websocket;\n",
       "\n",
       "    this.supports_binary = (this.ws.binaryType != undefined);\n",
       "\n",
       "    if (!this.supports_binary) {\n",
       "        var warnings = document.getElementById(\"mpl-warnings\");\n",
       "        if (warnings) {\n",
       "            warnings.style.display = 'block';\n",
       "            warnings.textContent = (\n",
       "                \"This browser does not support binary websocket messages. \" +\n",
       "                    \"Performance may be slow.\");\n",
       "        }\n",
       "    }\n",
       "\n",
       "    this.imageObj = new Image();\n",
       "\n",
       "    this.context = undefined;\n",
       "    this.message = undefined;\n",
       "    this.canvas = undefined;\n",
       "    this.rubberband_canvas = undefined;\n",
       "    this.rubberband_context = undefined;\n",
       "    this.format_dropdown = undefined;\n",
       "\n",
       "    this.image_mode = 'full';\n",
       "\n",
       "    this.root = $('<div/>');\n",
       "    this._root_extra_style(this.root)\n",
       "    this.root.attr('style', 'display: inline-block');\n",
       "\n",
       "    $(parent_element).append(this.root);\n",
       "\n",
       "    this._init_header(this);\n",
       "    this._init_canvas(this);\n",
       "    this._init_toolbar(this);\n",
       "\n",
       "    var fig = this;\n",
       "\n",
       "    this.waiting = false;\n",
       "\n",
       "    this.ws.onopen =  function () {\n",
       "            fig.send_message(\"supports_binary\", {value: fig.supports_binary});\n",
       "            fig.send_message(\"send_image_mode\", {});\n",
       "            fig.send_message(\"refresh\", {});\n",
       "        }\n",
       "\n",
       "    this.imageObj.onload = function() {\n",
       "            if (fig.image_mode == 'full') {\n",
       "                // Full images could contain transparency (where diff images\n",
       "                // almost always do), so we need to clear the canvas so that\n",
       "                // there is no ghosting.\n",
       "                fig.context.clearRect(0, 0, fig.canvas.width, fig.canvas.height);\n",
       "            }\n",
       "            fig.context.drawImage(fig.imageObj, 0, 0);\n",
       "        };\n",
       "\n",
       "    this.imageObj.onunload = function() {\n",
       "        this.ws.close();\n",
       "    }\n",
       "\n",
       "    this.ws.onmessage = this._make_on_message_function(this);\n",
       "\n",
       "    this.ondownload = ondownload;\n",
       "}\n",
       "\n",
       "mpl.figure.prototype._init_header = function() {\n",
       "    var titlebar = $(\n",
       "        '<div class=\"ui-dialog-titlebar ui-widget-header ui-corner-all ' +\n",
       "        'ui-helper-clearfix\"/>');\n",
       "    var titletext = $(\n",
       "        '<div class=\"ui-dialog-title\" style=\"width: 100%; ' +\n",
       "        'text-align: center; padding: 3px;\"/>');\n",
       "    titlebar.append(titletext)\n",
       "    this.root.append(titlebar);\n",
       "    this.header = titletext[0];\n",
       "}\n",
       "\n",
       "\n",
       "\n",
       "mpl.figure.prototype._canvas_extra_style = function(canvas_div) {\n",
       "\n",
       "}\n",
       "\n",
       "\n",
       "mpl.figure.prototype._root_extra_style = function(canvas_div) {\n",
       "\n",
       "}\n",
       "\n",
       "mpl.figure.prototype._init_canvas = function() {\n",
       "    var fig = this;\n",
       "\n",
       "    var canvas_div = $('<div/>');\n",
       "\n",
       "    canvas_div.attr('style', 'position: relative; clear: both; outline: 0');\n",
       "\n",
       "    function canvas_keyboard_event(event) {\n",
       "        return fig.key_event(event, event['data']);\n",
       "    }\n",
       "\n",
       "    canvas_div.keydown('key_press', canvas_keyboard_event);\n",
       "    canvas_div.keyup('key_release', canvas_keyboard_event);\n",
       "    this.canvas_div = canvas_div\n",
       "    this._canvas_extra_style(canvas_div)\n",
       "    this.root.append(canvas_div);\n",
       "\n",
       "    var canvas = $('<canvas/>');\n",
       "    canvas.addClass('mpl-canvas');\n",
       "    canvas.attr('style', \"left: 0; top: 0; z-index: 0; outline: 0\")\n",
       "\n",
       "    this.canvas = canvas[0];\n",
       "    this.context = canvas[0].getContext(\"2d\");\n",
       "\n",
       "    var rubberband = $('<canvas/>');\n",
       "    rubberband.attr('style', \"position: absolute; left: 0; top: 0; z-index: 1;\")\n",
       "\n",
       "    var pass_mouse_events = true;\n",
       "\n",
       "    canvas_div.resizable({\n",
       "        start: function(event, ui) {\n",
       "            pass_mouse_events = false;\n",
       "        },\n",
       "        resize: function(event, ui) {\n",
       "            fig.request_resize(ui.size.width, ui.size.height);\n",
       "        },\n",
       "        stop: function(event, ui) {\n",
       "            pass_mouse_events = true;\n",
       "            fig.request_resize(ui.size.width, ui.size.height);\n",
       "        },\n",
       "    });\n",
       "\n",
       "    function mouse_event_fn(event) {\n",
       "        if (pass_mouse_events)\n",
       "            return fig.mouse_event(event, event['data']);\n",
       "    }\n",
       "\n",
       "    rubberband.mousedown('button_press', mouse_event_fn);\n",
       "    rubberband.mouseup('button_release', mouse_event_fn);\n",
       "    // Throttle sequential mouse events to 1 every 20ms.\n",
       "    rubberband.mousemove('motion_notify', mouse_event_fn);\n",
       "\n",
       "    rubberband.mouseenter('figure_enter', mouse_event_fn);\n",
       "    rubberband.mouseleave('figure_leave', mouse_event_fn);\n",
       "\n",
       "    canvas_div.on(\"wheel\", function (event) {\n",
       "        event = event.originalEvent;\n",
       "        event['data'] = 'scroll'\n",
       "        if (event.deltaY < 0) {\n",
       "            event.step = 1;\n",
       "        } else {\n",
       "            event.step = -1;\n",
       "        }\n",
       "        mouse_event_fn(event);\n",
       "    });\n",
       "\n",
       "    canvas_div.append(canvas);\n",
       "    canvas_div.append(rubberband);\n",
       "\n",
       "    this.rubberband = rubberband;\n",
       "    this.rubberband_canvas = rubberband[0];\n",
       "    this.rubberband_context = rubberband[0].getContext(\"2d\");\n",
       "    this.rubberband_context.strokeStyle = \"#000000\";\n",
       "\n",
       "    this._resize_canvas = function(width, height) {\n",
       "        // Keep the size of the canvas, canvas container, and rubber band\n",
       "        // canvas in synch.\n",
       "        canvas_div.css('width', width)\n",
       "        canvas_div.css('height', height)\n",
       "\n",
       "        canvas.attr('width', width);\n",
       "        canvas.attr('height', height);\n",
       "\n",
       "        rubberband.attr('width', width);\n",
       "        rubberband.attr('height', height);\n",
       "    }\n",
       "\n",
       "    // Set the figure to an initial 600x600px, this will subsequently be updated\n",
       "    // upon first draw.\n",
       "    this._resize_canvas(600, 600);\n",
       "\n",
       "    // Disable right mouse context menu.\n",
       "    $(this.rubberband_canvas).bind(\"contextmenu\",function(e){\n",
       "        return false;\n",
       "    });\n",
       "\n",
       "    function set_focus () {\n",
       "        canvas.focus();\n",
       "        canvas_div.focus();\n",
       "    }\n",
       "\n",
       "    window.setTimeout(set_focus, 100);\n",
       "}\n",
       "\n",
       "mpl.figure.prototype._init_toolbar = function() {\n",
       "    var fig = this;\n",
       "\n",
       "    var nav_element = $('<div/>')\n",
       "    nav_element.attr('style', 'width: 100%');\n",
       "    this.root.append(nav_element);\n",
       "\n",
       "    // Define a callback function for later on.\n",
       "    function toolbar_event(event) {\n",
       "        return fig.toolbar_button_onclick(event['data']);\n",
       "    }\n",
       "    function toolbar_mouse_event(event) {\n",
       "        return fig.toolbar_button_onmouseover(event['data']);\n",
       "    }\n",
       "\n",
       "    for(var toolbar_ind in mpl.toolbar_items) {\n",
       "        var name = mpl.toolbar_items[toolbar_ind][0];\n",
       "        var tooltip = mpl.toolbar_items[toolbar_ind][1];\n",
       "        var image = mpl.toolbar_items[toolbar_ind][2];\n",
       "        var method_name = mpl.toolbar_items[toolbar_ind][3];\n",
       "\n",
       "        if (!name) {\n",
       "            // put a spacer in here.\n",
       "            continue;\n",
       "        }\n",
       "        var button = $('<button/>');\n",
       "        button.addClass('ui-button ui-widget ui-state-default ui-corner-all ' +\n",
       "                        'ui-button-icon-only');\n",
       "        button.attr('role', 'button');\n",
       "        button.attr('aria-disabled', 'false');\n",
       "        button.click(method_name, toolbar_event);\n",
       "        button.mouseover(tooltip, toolbar_mouse_event);\n",
       "\n",
       "        var icon_img = $('<span/>');\n",
       "        icon_img.addClass('ui-button-icon-primary ui-icon');\n",
       "        icon_img.addClass(image);\n",
       "        icon_img.addClass('ui-corner-all');\n",
       "\n",
       "        var tooltip_span = $('<span/>');\n",
       "        tooltip_span.addClass('ui-button-text');\n",
       "        tooltip_span.html(tooltip);\n",
       "\n",
       "        button.append(icon_img);\n",
       "        button.append(tooltip_span);\n",
       "\n",
       "        nav_element.append(button);\n",
       "    }\n",
       "\n",
       "    var fmt_picker_span = $('<span/>');\n",
       "\n",
       "    var fmt_picker = $('<select/>');\n",
       "    fmt_picker.addClass('mpl-toolbar-option ui-widget ui-widget-content');\n",
       "    fmt_picker_span.append(fmt_picker);\n",
       "    nav_element.append(fmt_picker_span);\n",
       "    this.format_dropdown = fmt_picker[0];\n",
       "\n",
       "    for (var ind in mpl.extensions) {\n",
       "        var fmt = mpl.extensions[ind];\n",
       "        var option = $(\n",
       "            '<option/>', {selected: fmt === mpl.default_extension}).html(fmt);\n",
       "        fmt_picker.append(option)\n",
       "    }\n",
       "\n",
       "    // Add hover states to the ui-buttons\n",
       "    $( \".ui-button\" ).hover(\n",
       "        function() { $(this).addClass(\"ui-state-hover\");},\n",
       "        function() { $(this).removeClass(\"ui-state-hover\");}\n",
       "    );\n",
       "\n",
       "    var status_bar = $('<span class=\"mpl-message\"/>');\n",
       "    nav_element.append(status_bar);\n",
       "    this.message = status_bar[0];\n",
       "}\n",
       "\n",
       "mpl.figure.prototype.request_resize = function(x_pixels, y_pixels) {\n",
       "    // Request matplotlib to resize the figure. Matplotlib will then trigger a resize in the client,\n",
       "    // which will in turn request a refresh of the image.\n",
       "    this.send_message('resize', {'width': x_pixels, 'height': y_pixels});\n",
       "}\n",
       "\n",
       "mpl.figure.prototype.send_message = function(type, properties) {\n",
       "    properties['type'] = type;\n",
       "    properties['figure_id'] = this.id;\n",
       "    this.ws.send(JSON.stringify(properties));\n",
       "}\n",
       "\n",
       "mpl.figure.prototype.send_draw_message = function() {\n",
       "    if (!this.waiting) {\n",
       "        this.waiting = true;\n",
       "        this.ws.send(JSON.stringify({type: \"draw\", figure_id: this.id}));\n",
       "    }\n",
       "}\n",
       "\n",
       "\n",
       "mpl.figure.prototype.handle_save = function(fig, msg) {\n",
       "    var format_dropdown = fig.format_dropdown;\n",
       "    var format = format_dropdown.options[format_dropdown.selectedIndex].value;\n",
       "    fig.ondownload(fig, format);\n",
       "}\n",
       "\n",
       "\n",
       "mpl.figure.prototype.handle_resize = function(fig, msg) {\n",
       "    var size = msg['size'];\n",
       "    if (size[0] != fig.canvas.width || size[1] != fig.canvas.height) {\n",
       "        fig._resize_canvas(size[0], size[1]);\n",
       "        fig.send_message(\"refresh\", {});\n",
       "    };\n",
       "}\n",
       "\n",
       "mpl.figure.prototype.handle_rubberband = function(fig, msg) {\n",
       "    var x0 = msg['x0'];\n",
       "    var y0 = fig.canvas.height - msg['y0'];\n",
       "    var x1 = msg['x1'];\n",
       "    var y1 = fig.canvas.height - msg['y1'];\n",
       "    x0 = Math.floor(x0) + 0.5;\n",
       "    y0 = Math.floor(y0) + 0.5;\n",
       "    x1 = Math.floor(x1) + 0.5;\n",
       "    y1 = Math.floor(y1) + 0.5;\n",
       "    var min_x = Math.min(x0, x1);\n",
       "    var min_y = Math.min(y0, y1);\n",
       "    var width = Math.abs(x1 - x0);\n",
       "    var height = Math.abs(y1 - y0);\n",
       "\n",
       "    fig.rubberband_context.clearRect(\n",
       "        0, 0, fig.canvas.width, fig.canvas.height);\n",
       "\n",
       "    fig.rubberband_context.strokeRect(min_x, min_y, width, height);\n",
       "}\n",
       "\n",
       "mpl.figure.prototype.handle_figure_label = function(fig, msg) {\n",
       "    // Updates the figure title.\n",
       "    fig.header.textContent = msg['label'];\n",
       "}\n",
       "\n",
       "mpl.figure.prototype.handle_cursor = function(fig, msg) {\n",
       "    var cursor = msg['cursor'];\n",
       "    switch(cursor)\n",
       "    {\n",
       "    case 0:\n",
       "        cursor = 'pointer';\n",
       "        break;\n",
       "    case 1:\n",
       "        cursor = 'default';\n",
       "        break;\n",
       "    case 2:\n",
       "        cursor = 'crosshair';\n",
       "        break;\n",
       "    case 3:\n",
       "        cursor = 'move';\n",
       "        break;\n",
       "    }\n",
       "    fig.rubberband_canvas.style.cursor = cursor;\n",
       "}\n",
       "\n",
       "mpl.figure.prototype.handle_message = function(fig, msg) {\n",
       "    fig.message.textContent = msg['message'];\n",
       "}\n",
       "\n",
       "mpl.figure.prototype.handle_draw = function(fig, msg) {\n",
       "    // Request the server to send over a new figure.\n",
       "    fig.send_draw_message();\n",
       "}\n",
       "\n",
       "mpl.figure.prototype.handle_image_mode = function(fig, msg) {\n",
       "    fig.image_mode = msg['mode'];\n",
       "}\n",
       "\n",
       "mpl.figure.prototype.updated_canvas_event = function() {\n",
       "    // Called whenever the canvas gets updated.\n",
       "    this.send_message(\"ack\", {});\n",
       "}\n",
       "\n",
       "// A function to construct a web socket function for onmessage handling.\n",
       "// Called in the figure constructor.\n",
       "mpl.figure.prototype._make_on_message_function = function(fig) {\n",
       "    return function socket_on_message(evt) {\n",
       "        if (evt.data instanceof Blob) {\n",
       "            /* FIXME: We get \"Resource interpreted as Image but\n",
       "             * transferred with MIME type text/plain:\" errors on\n",
       "             * Chrome.  But how to set the MIME type?  It doesn't seem\n",
       "             * to be part of the websocket stream */\n",
       "            evt.data.type = \"image/png\";\n",
       "\n",
       "            /* Free the memory for the previous frames */\n",
       "            if (fig.imageObj.src) {\n",
       "                (window.URL || window.webkitURL).revokeObjectURL(\n",
       "                    fig.imageObj.src);\n",
       "            }\n",
       "\n",
       "            fig.imageObj.src = (window.URL || window.webkitURL).createObjectURL(\n",
       "                evt.data);\n",
       "            fig.updated_canvas_event();\n",
       "            fig.waiting = false;\n",
       "            return;\n",
       "        }\n",
       "        else if (typeof evt.data === 'string' && evt.data.slice(0, 21) == \"data:image/png;base64\") {\n",
       "            fig.imageObj.src = evt.data;\n",
       "            fig.updated_canvas_event();\n",
       "            fig.waiting = false;\n",
       "            return;\n",
       "        }\n",
       "\n",
       "        var msg = JSON.parse(evt.data);\n",
       "        var msg_type = msg['type'];\n",
       "\n",
       "        // Call the  \"handle_{type}\" callback, which takes\n",
       "        // the figure and JSON message as its only arguments.\n",
       "        try {\n",
       "            var callback = fig[\"handle_\" + msg_type];\n",
       "        } catch (e) {\n",
       "            console.log(\"No handler for the '\" + msg_type + \"' message type: \", msg);\n",
       "            return;\n",
       "        }\n",
       "\n",
       "        if (callback) {\n",
       "            try {\n",
       "                // console.log(\"Handling '\" + msg_type + \"' message: \", msg);\n",
       "                callback(fig, msg);\n",
       "            } catch (e) {\n",
       "                console.log(\"Exception inside the 'handler_\" + msg_type + \"' callback:\", e, e.stack, msg);\n",
       "            }\n",
       "        }\n",
       "    };\n",
       "}\n",
       "\n",
       "// from http://stackoverflow.com/questions/1114465/getting-mouse-location-in-canvas\n",
       "mpl.findpos = function(e) {\n",
       "    //this section is from http://www.quirksmode.org/js/events_properties.html\n",
       "    var targ;\n",
       "    if (!e)\n",
       "        e = window.event;\n",
       "    if (e.target)\n",
       "        targ = e.target;\n",
       "    else if (e.srcElement)\n",
       "        targ = e.srcElement;\n",
       "    if (targ.nodeType == 3) // defeat Safari bug\n",
       "        targ = targ.parentNode;\n",
       "\n",
       "    // jQuery normalizes the pageX and pageY\n",
       "    // pageX,Y are the mouse positions relative to the document\n",
       "    // offset() returns the position of the element relative to the document\n",
       "    var x = e.pageX - $(targ).offset().left;\n",
       "    var y = e.pageY - $(targ).offset().top;\n",
       "\n",
       "    return {\"x\": x, \"y\": y};\n",
       "};\n",
       "\n",
       "/*\n",
       " * return a copy of an object with only non-object keys\n",
       " * we need this to avoid circular references\n",
       " * http://stackoverflow.com/a/24161582/3208463\n",
       " */\n",
       "function simpleKeys (original) {\n",
       "  return Object.keys(original).reduce(function (obj, key) {\n",
       "    if (typeof original[key] !== 'object')\n",
       "        obj[key] = original[key]\n",
       "    return obj;\n",
       "  }, {});\n",
       "}\n",
       "\n",
       "mpl.figure.prototype.mouse_event = function(event, name) {\n",
       "    var canvas_pos = mpl.findpos(event)\n",
       "\n",
       "    if (name === 'button_press')\n",
       "    {\n",
       "        this.canvas.focus();\n",
       "        this.canvas_div.focus();\n",
       "    }\n",
       "\n",
       "    var x = canvas_pos.x;\n",
       "    var y = canvas_pos.y;\n",
       "\n",
       "    this.send_message(name, {x: x, y: y, button: event.button,\n",
       "                             step: event.step,\n",
       "                             guiEvent: simpleKeys(event)});\n",
       "\n",
       "    /* This prevents the web browser from automatically changing to\n",
       "     * the text insertion cursor when the button is pressed.  We want\n",
       "     * to control all of the cursor setting manually through the\n",
       "     * 'cursor' event from matplotlib */\n",
       "    event.preventDefault();\n",
       "    return false;\n",
       "}\n",
       "\n",
       "mpl.figure.prototype._key_event_extra = function(event, name) {\n",
       "    // Handle any extra behaviour associated with a key event\n",
       "}\n",
       "\n",
       "mpl.figure.prototype.key_event = function(event, name) {\n",
       "\n",
       "    // Prevent repeat events\n",
       "    if (name == 'key_press')\n",
       "    {\n",
       "        if (event.which === this._key)\n",
       "            return;\n",
       "        else\n",
       "            this._key = event.which;\n",
       "    }\n",
       "    if (name == 'key_release')\n",
       "        this._key = null;\n",
       "\n",
       "    var value = '';\n",
       "    if (event.ctrlKey && event.which != 17)\n",
       "        value += \"ctrl+\";\n",
       "    if (event.altKey && event.which != 18)\n",
       "        value += \"alt+\";\n",
       "    if (event.shiftKey && event.which != 16)\n",
       "        value += \"shift+\";\n",
       "\n",
       "    value += 'k';\n",
       "    value += event.which.toString();\n",
       "\n",
       "    this._key_event_extra(event, name);\n",
       "\n",
       "    this.send_message(name, {key: value,\n",
       "                             guiEvent: simpleKeys(event)});\n",
       "    return false;\n",
       "}\n",
       "\n",
       "mpl.figure.prototype.toolbar_button_onclick = function(name) {\n",
       "    if (name == 'download') {\n",
       "        this.handle_save(this, null);\n",
       "    } else {\n",
       "        this.send_message(\"toolbar_button\", {name: name});\n",
       "    }\n",
       "};\n",
       "\n",
       "mpl.figure.prototype.toolbar_button_onmouseover = function(tooltip) {\n",
       "    this.message.textContent = tooltip;\n",
       "};\n",
       "mpl.toolbar_items = [[\"Home\", \"Reset original view\", \"fa fa-home icon-home\", \"home\"], [\"Back\", \"Back to  previous view\", \"fa fa-arrow-left icon-arrow-left\", \"back\"], [\"Forward\", \"Forward to next view\", \"fa fa-arrow-right icon-arrow-right\", \"forward\"], [\"\", \"\", \"\", \"\"], [\"Pan\", \"Pan axes with left mouse, zoom with right\", \"fa fa-arrows icon-move\", \"pan\"], [\"Zoom\", \"Zoom to rectangle\", \"fa fa-square-o icon-check-empty\", \"zoom\"], [\"\", \"\", \"\", \"\"], [\"Download\", \"Download plot\", \"fa fa-floppy-o icon-save\", \"download\"]];\n",
       "\n",
       "mpl.extensions = [\"eps\", \"jpeg\", \"pdf\", \"png\", \"ps\", \"raw\", \"svg\", \"tif\"];\n",
       "\n",
       "mpl.default_extension = \"png\";var comm_websocket_adapter = function(comm) {\n",
       "    // Create a \"websocket\"-like object which calls the given IPython comm\n",
       "    // object with the appropriate methods. Currently this is a non binary\n",
       "    // socket, so there is still some room for performance tuning.\n",
       "    var ws = {};\n",
       "\n",
       "    ws.close = function() {\n",
       "        comm.close()\n",
       "    };\n",
       "    ws.send = function(m) {\n",
       "        //console.log('sending', m);\n",
       "        comm.send(m);\n",
       "    };\n",
       "    // Register the callback with on_msg.\n",
       "    comm.on_msg(function(msg) {\n",
       "        //console.log('receiving', msg['content']['data'], msg);\n",
       "        // Pass the mpl event to the overriden (by mpl) onmessage function.\n",
       "        ws.onmessage(msg['content']['data'])\n",
       "    });\n",
       "    return ws;\n",
       "}\n",
       "\n",
       "mpl.mpl_figure_comm = function(comm, msg) {\n",
       "    // This is the function which gets called when the mpl process\n",
       "    // starts-up an IPython Comm through the \"matplotlib\" channel.\n",
       "\n",
       "    var id = msg.content.data.id;\n",
       "    // Get hold of the div created by the display call when the Comm\n",
       "    // socket was opened in Python.\n",
       "    var element = $(\"#\" + id);\n",
       "    var ws_proxy = comm_websocket_adapter(comm)\n",
       "\n",
       "    function ondownload(figure, format) {\n",
       "        window.open(figure.imageObj.src);\n",
       "    }\n",
       "\n",
       "    var fig = new mpl.figure(id, ws_proxy,\n",
       "                           ondownload,\n",
       "                           element.get(0));\n",
       "\n",
       "    // Call onopen now - mpl needs it, as it is assuming we've passed it a real\n",
       "    // web socket which is closed, not our websocket->open comm proxy.\n",
       "    ws_proxy.onopen();\n",
       "\n",
       "    fig.parent_element = element.get(0);\n",
       "    fig.cell_info = mpl.find_output_cell(\"<div id='\" + id + \"'></div>\");\n",
       "    if (!fig.cell_info) {\n",
       "        console.error(\"Failed to find cell for figure\", id, fig);\n",
       "        return;\n",
       "    }\n",
       "\n",
       "    var output_index = fig.cell_info[2]\n",
       "    var cell = fig.cell_info[0];\n",
       "\n",
       "};\n",
       "\n",
       "mpl.figure.prototype.handle_close = function(fig, msg) {\n",
       "    fig.root.unbind('remove')\n",
       "\n",
       "    // Update the output cell to use the data from the current canvas.\n",
       "    fig.push_to_output();\n",
       "    var dataURL = fig.canvas.toDataURL();\n",
       "    // Re-enable the keyboard manager in IPython - without this line, in FF,\n",
       "    // the notebook keyboard shortcuts fail.\n",
       "    IPython.keyboard_manager.enable()\n",
       "    $(fig.parent_element).html('<img src=\"' + dataURL + '\">');\n",
       "    fig.close_ws(fig, msg);\n",
       "}\n",
       "\n",
       "mpl.figure.prototype.close_ws = function(fig, msg){\n",
       "    fig.send_message('closing', msg);\n",
       "    // fig.ws.close()\n",
       "}\n",
       "\n",
       "mpl.figure.prototype.push_to_output = function(remove_interactive) {\n",
       "    // Turn the data on the canvas into data in the output cell.\n",
       "    var dataURL = this.canvas.toDataURL();\n",
       "    this.cell_info[1]['text/html'] = '<img src=\"' + dataURL + '\">';\n",
       "}\n",
       "\n",
       "mpl.figure.prototype.updated_canvas_event = function() {\n",
       "    // Tell IPython that the notebook contents must change.\n",
       "    IPython.notebook.set_dirty(true);\n",
       "    this.send_message(\"ack\", {});\n",
       "    var fig = this;\n",
       "    // Wait a second, then push the new image to the DOM so\n",
       "    // that it is saved nicely (might be nice to debounce this).\n",
       "    setTimeout(function () { fig.push_to_output() }, 1000);\n",
       "}\n",
       "\n",
       "mpl.figure.prototype._init_toolbar = function() {\n",
       "    var fig = this;\n",
       "\n",
       "    var nav_element = $('<div/>')\n",
       "    nav_element.attr('style', 'width: 100%');\n",
       "    this.root.append(nav_element);\n",
       "\n",
       "    // Define a callback function for later on.\n",
       "    function toolbar_event(event) {\n",
       "        return fig.toolbar_button_onclick(event['data']);\n",
       "    }\n",
       "    function toolbar_mouse_event(event) {\n",
       "        return fig.toolbar_button_onmouseover(event['data']);\n",
       "    }\n",
       "\n",
       "    for(var toolbar_ind in mpl.toolbar_items){\n",
       "        var name = mpl.toolbar_items[toolbar_ind][0];\n",
       "        var tooltip = mpl.toolbar_items[toolbar_ind][1];\n",
       "        var image = mpl.toolbar_items[toolbar_ind][2];\n",
       "        var method_name = mpl.toolbar_items[toolbar_ind][3];\n",
       "\n",
       "        if (!name) { continue; };\n",
       "\n",
       "        var button = $('<button class=\"btn btn-default\" href=\"#\" title=\"' + name + '\"><i class=\"fa ' + image + ' fa-lg\"></i></button>');\n",
       "        button.click(method_name, toolbar_event);\n",
       "        button.mouseover(tooltip, toolbar_mouse_event);\n",
       "        nav_element.append(button);\n",
       "    }\n",
       "\n",
       "    // Add the status bar.\n",
       "    var status_bar = $('<span class=\"mpl-message\" style=\"text-align:right; float: right;\"/>');\n",
       "    nav_element.append(status_bar);\n",
       "    this.message = status_bar[0];\n",
       "\n",
       "    // Add the close button to the window.\n",
       "    var buttongrp = $('<div class=\"btn-group inline pull-right\"></div>');\n",
       "    var button = $('<button class=\"btn btn-mini btn-primary\" href=\"#\" title=\"Stop Interaction\"><i class=\"fa fa-power-off icon-remove icon-large\"></i></button>');\n",
       "    button.click(function (evt) { fig.handle_close(fig, {}); } );\n",
       "    button.mouseover('Stop Interaction', toolbar_mouse_event);\n",
       "    buttongrp.append(button);\n",
       "    var titlebar = this.root.find($('.ui-dialog-titlebar'));\n",
       "    titlebar.prepend(buttongrp);\n",
       "}\n",
       "\n",
       "mpl.figure.prototype._root_extra_style = function(el){\n",
       "    var fig = this\n",
       "    el.on(\"remove\", function(){\n",
       "\tfig.close_ws(fig, {});\n",
       "    });\n",
       "}\n",
       "\n",
       "mpl.figure.prototype._canvas_extra_style = function(el){\n",
       "    // this is important to make the div 'focusable\n",
       "    el.attr('tabindex', 0)\n",
       "    // reach out to IPython and tell the keyboard manager to turn it's self\n",
       "    // off when our div gets focus\n",
       "\n",
       "    // location in version 3\n",
       "    if (IPython.notebook.keyboard_manager) {\n",
       "        IPython.notebook.keyboard_manager.register_events(el);\n",
       "    }\n",
       "    else {\n",
       "        // location in version 2\n",
       "        IPython.keyboard_manager.register_events(el);\n",
       "    }\n",
       "\n",
       "}\n",
       "\n",
       "mpl.figure.prototype._key_event_extra = function(event, name) {\n",
       "    var manager = IPython.notebook.keyboard_manager;\n",
       "    if (!manager)\n",
       "        manager = IPython.keyboard_manager;\n",
       "\n",
       "    // Check for shift+enter\n",
       "    if (event.shiftKey && event.which == 13) {\n",
       "        this.canvas_div.blur();\n",
       "        event.shiftKey = false;\n",
       "        // Send a \"J\" for go to next cell\n",
       "        event.which = 74;\n",
       "        event.keyCode = 74;\n",
       "        manager.command_mode();\n",
       "        manager.handle_keydown(event);\n",
       "    }\n",
       "}\n",
       "\n",
       "mpl.figure.prototype.handle_save = function(fig, msg) {\n",
       "    fig.ondownload(fig, null);\n",
       "}\n",
       "\n",
       "\n",
       "mpl.find_output_cell = function(html_output) {\n",
       "    // Return the cell and output element which can be found *uniquely* in the notebook.\n",
       "    // Note - this is a bit hacky, but it is done because the \"notebook_saving.Notebook\"\n",
       "    // IPython event is triggered only after the cells have been serialised, which for\n",
       "    // our purposes (turning an active figure into a static one), is too late.\n",
       "    var cells = IPython.notebook.get_cells();\n",
       "    var ncells = cells.length;\n",
       "    for (var i=0; i<ncells; i++) {\n",
       "        var cell = cells[i];\n",
       "        if (cell.cell_type === 'code'){\n",
       "            for (var j=0; j<cell.output_area.outputs.length; j++) {\n",
       "                var data = cell.output_area.outputs[j];\n",
       "                if (data.data) {\n",
       "                    // IPython >= 3 moved mimebundle to data attribute of output\n",
       "                    data = data.data;\n",
       "                }\n",
       "                if (data['text/html'] == html_output) {\n",
       "                    return [cell, data, j];\n",
       "                }\n",
       "            }\n",
       "        }\n",
       "    }\n",
       "}\n",
       "\n",
       "// Register the function which deals with the matplotlib target/channel.\n",
       "// The kernel may be null if the page has been refreshed.\n",
       "if (IPython.notebook.kernel != null) {\n",
       "    IPython.notebook.kernel.comm_manager.register_target('matplotlib', mpl.mpl_figure_comm);\n",
       "}\n"
      ],
      "text/plain": [
       "<IPython.core.display.Javascript object>"
      ]
     },
     "metadata": {},
     "output_type": "display_data"
    },
    {
     "data": {
      "text/html": [
       "<img src=\"data:image/png;base64,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\">"
      ],
      "text/plain": [
       "<IPython.core.display.HTML object>"
      ]
     },
     "metadata": {},
     "output_type": "display_data"
    }
   ],
   "source": [
    "ColorCube(pantone)\n",
    "plt.show()"
   ]
  },
  {
   "cell_type": "markdown",
   "metadata": {},
   "source": [
    "## Pantone colors"
   ]
  },
  {
   "cell_type": "code",
   "execution_count": 21,
   "metadata": {
    "collapsed": false
   },
   "outputs": [
    {
     "data": {
      "text/html": [
       "<span style=\"color:#da1f28\">1795C</span> <span style=\"color:#da1f28\">~crimson</span> 0.0565294041884"
      ],
      "text/plain": [
       "<IPython.core.display.HTML object>"
      ]
     },
     "metadata": {},
     "output_type": "display_data"
    },
    {
     "data": {
      "text/plain": [
       "(47.0, 68.0, 45.0)"
      ]
     },
     "execution_count": 21,
     "metadata": {},
     "output_type": "execute_result"
    }
   ],
   "source": [
    "# pantone is a dict of Colors initialized from Lab values\n",
    "bred=pantone['1795C'] #BOBST Red\n",
    "bred2=Color(bred.hex) #the corresponding RGB color\n",
    "print(bred,bred2,deltaE(bred,bred2))\n",
    "bred.lab"
   ]
  },
  {
   "cell_type": "code",
   "execution_count": 22,
   "metadata": {
    "collapsed": false
   },
   "outputs": [
    {
     "data": {
      "text/html": [
       "<span style=\"color:#6cdc49\">802C</span> <span style=\"color:#80d447\">~yellowgreen</span> 3.08310421202"
      ],
      "text/plain": [
       "<IPython.core.display.HTML object>"
      ]
     },
     "metadata": {},
     "output_type": "display_data"
    }
   ],
   "source": [
    "p=nearest_color(cmyk,pantone) # find best matching Pantone color\n",
    "print(p,cmyk,deltaE(p,cmyk))"
   ]
  },
  {
   "cell_type": "code",
   "execution_count": 23,
   "metadata": {
    "collapsed": false
   },
   "outputs": [],
   "source": [
    "x,y,z,c,l=ColorCoords(pantone,'xyz','rgb')\n",
    "plt.scatter(x,y,s=z,c=c) #already cool\n",
    "plt.show()"
   ]
  },
  {
   "cell_type": "code",
   "execution_count": 25,
   "metadata": {
    "collapsed": false
   },
   "outputs": [
    {
     "data": {
      "application/javascript": [
       "/* Put everything inside the global mpl namespace */\n",
       "window.mpl = {};\n",
       "\n",
       "mpl.get_websocket_type = function() {\n",
       "    if (typeof(WebSocket) !== 'undefined') {\n",
       "        return WebSocket;\n",
       "    } else if (typeof(MozWebSocket) !== 'undefined') {\n",
       "        return MozWebSocket;\n",
       "    } else {\n",
       "        alert('Your browser does not have WebSocket support.' +\n",
       "              'Please try Chrome, Safari or Firefox ≥ 6. ' +\n",
       "              'Firefox 4 and 5 are also supported but you ' +\n",
       "              'have to enable WebSockets in about:config.');\n",
       "    };\n",
       "}\n",
       "\n",
       "mpl.figure = function(figure_id, websocket, ondownload, parent_element) {\n",
       "    this.id = figure_id;\n",
       "\n",
       "    this.ws = websocket;\n",
       "\n",
       "    this.supports_binary = (this.ws.binaryType != undefined);\n",
       "\n",
       "    if (!this.supports_binary) {\n",
       "        var warnings = document.getElementById(\"mpl-warnings\");\n",
       "        if (warnings) {\n",
       "            warnings.style.display = 'block';\n",
       "            warnings.textContent = (\n",
       "                \"This browser does not support binary websocket messages. \" +\n",
       "                    \"Performance may be slow.\");\n",
       "        }\n",
       "    }\n",
       "\n",
       "    this.imageObj = new Image();\n",
       "\n",
       "    this.context = undefined;\n",
       "    this.message = undefined;\n",
       "    this.canvas = undefined;\n",
       "    this.rubberband_canvas = undefined;\n",
       "    this.rubberband_context = undefined;\n",
       "    this.format_dropdown = undefined;\n",
       "\n",
       "    this.image_mode = 'full';\n",
       "\n",
       "    this.root = $('<div/>');\n",
       "    this._root_extra_style(this.root)\n",
       "    this.root.attr('style', 'display: inline-block');\n",
       "\n",
       "    $(parent_element).append(this.root);\n",
       "\n",
       "    this._init_header(this);\n",
       "    this._init_canvas(this);\n",
       "    this._init_toolbar(this);\n",
       "\n",
       "    var fig = this;\n",
       "\n",
       "    this.waiting = false;\n",
       "\n",
       "    this.ws.onopen =  function () {\n",
       "            fig.send_message(\"supports_binary\", {value: fig.supports_binary});\n",
       "            fig.send_message(\"send_image_mode\", {});\n",
       "            fig.send_message(\"refresh\", {});\n",
       "        }\n",
       "\n",
       "    this.imageObj.onload = function() {\n",
       "            if (fig.image_mode == 'full') {\n",
       "                // Full images could contain transparency (where diff images\n",
       "                // almost always do), so we need to clear the canvas so that\n",
       "                // there is no ghosting.\n",
       "                fig.context.clearRect(0, 0, fig.canvas.width, fig.canvas.height);\n",
       "            }\n",
       "            fig.context.drawImage(fig.imageObj, 0, 0);\n",
       "        };\n",
       "\n",
       "    this.imageObj.onunload = function() {\n",
       "        this.ws.close();\n",
       "    }\n",
       "\n",
       "    this.ws.onmessage = this._make_on_message_function(this);\n",
       "\n",
       "    this.ondownload = ondownload;\n",
       "}\n",
       "\n",
       "mpl.figure.prototype._init_header = function() {\n",
       "    var titlebar = $(\n",
       "        '<div class=\"ui-dialog-titlebar ui-widget-header ui-corner-all ' +\n",
       "        'ui-helper-clearfix\"/>');\n",
       "    var titletext = $(\n",
       "        '<div class=\"ui-dialog-title\" style=\"width: 100%; ' +\n",
       "        'text-align: center; padding: 3px;\"/>');\n",
       "    titlebar.append(titletext)\n",
       "    this.root.append(titlebar);\n",
       "    this.header = titletext[0];\n",
       "}\n",
       "\n",
       "\n",
       "\n",
       "mpl.figure.prototype._canvas_extra_style = function(canvas_div) {\n",
       "\n",
       "}\n",
       "\n",
       "\n",
       "mpl.figure.prototype._root_extra_style = function(canvas_div) {\n",
       "\n",
       "}\n",
       "\n",
       "mpl.figure.prototype._init_canvas = function() {\n",
       "    var fig = this;\n",
       "\n",
       "    var canvas_div = $('<div/>');\n",
       "\n",
       "    canvas_div.attr('style', 'position: relative; clear: both; outline: 0');\n",
       "\n",
       "    function canvas_keyboard_event(event) {\n",
       "        return fig.key_event(event, event['data']);\n",
       "    }\n",
       "\n",
       "    canvas_div.keydown('key_press', canvas_keyboard_event);\n",
       "    canvas_div.keyup('key_release', canvas_keyboard_event);\n",
       "    this.canvas_div = canvas_div\n",
       "    this._canvas_extra_style(canvas_div)\n",
       "    this.root.append(canvas_div);\n",
       "\n",
       "    var canvas = $('<canvas/>');\n",
       "    canvas.addClass('mpl-canvas');\n",
       "    canvas.attr('style', \"left: 0; top: 0; z-index: 0; outline: 0\")\n",
       "\n",
       "    this.canvas = canvas[0];\n",
       "    this.context = canvas[0].getContext(\"2d\");\n",
       "\n",
       "    var rubberband = $('<canvas/>');\n",
       "    rubberband.attr('style', \"position: absolute; left: 0; top: 0; z-index: 1;\")\n",
       "\n",
       "    var pass_mouse_events = true;\n",
       "\n",
       "    canvas_div.resizable({\n",
       "        start: function(event, ui) {\n",
       "            pass_mouse_events = false;\n",
       "        },\n",
       "        resize: function(event, ui) {\n",
       "            fig.request_resize(ui.size.width, ui.size.height);\n",
       "        },\n",
       "        stop: function(event, ui) {\n",
       "            pass_mouse_events = true;\n",
       "            fig.request_resize(ui.size.width, ui.size.height);\n",
       "        },\n",
       "    });\n",
       "\n",
       "    function mouse_event_fn(event) {\n",
       "        if (pass_mouse_events)\n",
       "            return fig.mouse_event(event, event['data']);\n",
       "    }\n",
       "\n",
       "    rubberband.mousedown('button_press', mouse_event_fn);\n",
       "    rubberband.mouseup('button_release', mouse_event_fn);\n",
       "    // Throttle sequential mouse events to 1 every 20ms.\n",
       "    rubberband.mousemove('motion_notify', mouse_event_fn);\n",
       "\n",
       "    rubberband.mouseenter('figure_enter', mouse_event_fn);\n",
       "    rubberband.mouseleave('figure_leave', mouse_event_fn);\n",
       "\n",
       "    canvas_div.on(\"wheel\", function (event) {\n",
       "        event = event.originalEvent;\n",
       "        event['data'] = 'scroll'\n",
       "        if (event.deltaY < 0) {\n",
       "            event.step = 1;\n",
       "        } else {\n",
       "            event.step = -1;\n",
       "        }\n",
       "        mouse_event_fn(event);\n",
       "    });\n",
       "\n",
       "    canvas_div.append(canvas);\n",
       "    canvas_div.append(rubberband);\n",
       "\n",
       "    this.rubberband = rubberband;\n",
       "    this.rubberband_canvas = rubberband[0];\n",
       "    this.rubberband_context = rubberband[0].getContext(\"2d\");\n",
       "    this.rubberband_context.strokeStyle = \"#000000\";\n",
       "\n",
       "    this._resize_canvas = function(width, height) {\n",
       "        // Keep the size of the canvas, canvas container, and rubber band\n",
       "        // canvas in synch.\n",
       "        canvas_div.css('width', width)\n",
       "        canvas_div.css('height', height)\n",
       "\n",
       "        canvas.attr('width', width);\n",
       "        canvas.attr('height', height);\n",
       "\n",
       "        rubberband.attr('width', width);\n",
       "        rubberband.attr('height', height);\n",
       "    }\n",
       "\n",
       "    // Set the figure to an initial 600x600px, this will subsequently be updated\n",
       "    // upon first draw.\n",
       "    this._resize_canvas(600, 600);\n",
       "\n",
       "    // Disable right mouse context menu.\n",
       "    $(this.rubberband_canvas).bind(\"contextmenu\",function(e){\n",
       "        return false;\n",
       "    });\n",
       "\n",
       "    function set_focus () {\n",
       "        canvas.focus();\n",
       "        canvas_div.focus();\n",
       "    }\n",
       "\n",
       "    window.setTimeout(set_focus, 100);\n",
       "}\n",
       "\n",
       "mpl.figure.prototype._init_toolbar = function() {\n",
       "    var fig = this;\n",
       "\n",
       "    var nav_element = $('<div/>')\n",
       "    nav_element.attr('style', 'width: 100%');\n",
       "    this.root.append(nav_element);\n",
       "\n",
       "    // Define a callback function for later on.\n",
       "    function toolbar_event(event) {\n",
       "        return fig.toolbar_button_onclick(event['data']);\n",
       "    }\n",
       "    function toolbar_mouse_event(event) {\n",
       "        return fig.toolbar_button_onmouseover(event['data']);\n",
       "    }\n",
       "\n",
       "    for(var toolbar_ind in mpl.toolbar_items) {\n",
       "        var name = mpl.toolbar_items[toolbar_ind][0];\n",
       "        var tooltip = mpl.toolbar_items[toolbar_ind][1];\n",
       "        var image = mpl.toolbar_items[toolbar_ind][2];\n",
       "        var method_name = mpl.toolbar_items[toolbar_ind][3];\n",
       "\n",
       "        if (!name) {\n",
       "            // put a spacer in here.\n",
       "            continue;\n",
       "        }\n",
       "        var button = $('<button/>');\n",
       "        button.addClass('ui-button ui-widget ui-state-default ui-corner-all ' +\n",
       "                        'ui-button-icon-only');\n",
       "        button.attr('role', 'button');\n",
       "        button.attr('aria-disabled', 'false');\n",
       "        button.click(method_name, toolbar_event);\n",
       "        button.mouseover(tooltip, toolbar_mouse_event);\n",
       "\n",
       "        var icon_img = $('<span/>');\n",
       "        icon_img.addClass('ui-button-icon-primary ui-icon');\n",
       "        icon_img.addClass(image);\n",
       "        icon_img.addClass('ui-corner-all');\n",
       "\n",
       "        var tooltip_span = $('<span/>');\n",
       "        tooltip_span.addClass('ui-button-text');\n",
       "        tooltip_span.html(tooltip);\n",
       "\n",
       "        button.append(icon_img);\n",
       "        button.append(tooltip_span);\n",
       "\n",
       "        nav_element.append(button);\n",
       "    }\n",
       "\n",
       "    var fmt_picker_span = $('<span/>');\n",
       "\n",
       "    var fmt_picker = $('<select/>');\n",
       "    fmt_picker.addClass('mpl-toolbar-option ui-widget ui-widget-content');\n",
       "    fmt_picker_span.append(fmt_picker);\n",
       "    nav_element.append(fmt_picker_span);\n",
       "    this.format_dropdown = fmt_picker[0];\n",
       "\n",
       "    for (var ind in mpl.extensions) {\n",
       "        var fmt = mpl.extensions[ind];\n",
       "        var option = $(\n",
       "            '<option/>', {selected: fmt === mpl.default_extension}).html(fmt);\n",
       "        fmt_picker.append(option)\n",
       "    }\n",
       "\n",
       "    // Add hover states to the ui-buttons\n",
       "    $( \".ui-button\" ).hover(\n",
       "        function() { $(this).addClass(\"ui-state-hover\");},\n",
       "        function() { $(this).removeClass(\"ui-state-hover\");}\n",
       "    );\n",
       "\n",
       "    var status_bar = $('<span class=\"mpl-message\"/>');\n",
       "    nav_element.append(status_bar);\n",
       "    this.message = status_bar[0];\n",
       "}\n",
       "\n",
       "mpl.figure.prototype.request_resize = function(x_pixels, y_pixels) {\n",
       "    // Request matplotlib to resize the figure. Matplotlib will then trigger a resize in the client,\n",
       "    // which will in turn request a refresh of the image.\n",
       "    this.send_message('resize', {'width': x_pixels, 'height': y_pixels});\n",
       "}\n",
       "\n",
       "mpl.figure.prototype.send_message = function(type, properties) {\n",
       "    properties['type'] = type;\n",
       "    properties['figure_id'] = this.id;\n",
       "    this.ws.send(JSON.stringify(properties));\n",
       "}\n",
       "\n",
       "mpl.figure.prototype.send_draw_message = function() {\n",
       "    if (!this.waiting) {\n",
       "        this.waiting = true;\n",
       "        this.ws.send(JSON.stringify({type: \"draw\", figure_id: this.id}));\n",
       "    }\n",
       "}\n",
       "\n",
       "\n",
       "mpl.figure.prototype.handle_save = function(fig, msg) {\n",
       "    var format_dropdown = fig.format_dropdown;\n",
       "    var format = format_dropdown.options[format_dropdown.selectedIndex].value;\n",
       "    fig.ondownload(fig, format);\n",
       "}\n",
       "\n",
       "\n",
       "mpl.figure.prototype.handle_resize = function(fig, msg) {\n",
       "    var size = msg['size'];\n",
       "    if (size[0] != fig.canvas.width || size[1] != fig.canvas.height) {\n",
       "        fig._resize_canvas(size[0], size[1]);\n",
       "        fig.send_message(\"refresh\", {});\n",
       "    };\n",
       "}\n",
       "\n",
       "mpl.figure.prototype.handle_rubberband = function(fig, msg) {\n",
       "    var x0 = msg['x0'];\n",
       "    var y0 = fig.canvas.height - msg['y0'];\n",
       "    var x1 = msg['x1'];\n",
       "    var y1 = fig.canvas.height - msg['y1'];\n",
       "    x0 = Math.floor(x0) + 0.5;\n",
       "    y0 = Math.floor(y0) + 0.5;\n",
       "    x1 = Math.floor(x1) + 0.5;\n",
       "    y1 = Math.floor(y1) + 0.5;\n",
       "    var min_x = Math.min(x0, x1);\n",
       "    var min_y = Math.min(y0, y1);\n",
       "    var width = Math.abs(x1 - x0);\n",
       "    var height = Math.abs(y1 - y0);\n",
       "\n",
       "    fig.rubberband_context.clearRect(\n",
       "        0, 0, fig.canvas.width, fig.canvas.height);\n",
       "\n",
       "    fig.rubberband_context.strokeRect(min_x, min_y, width, height);\n",
       "}\n",
       "\n",
       "mpl.figure.prototype.handle_figure_label = function(fig, msg) {\n",
       "    // Updates the figure title.\n",
       "    fig.header.textContent = msg['label'];\n",
       "}\n",
       "\n",
       "mpl.figure.prototype.handle_cursor = function(fig, msg) {\n",
       "    var cursor = msg['cursor'];\n",
       "    switch(cursor)\n",
       "    {\n",
       "    case 0:\n",
       "        cursor = 'pointer';\n",
       "        break;\n",
       "    case 1:\n",
       "        cursor = 'default';\n",
       "        break;\n",
       "    case 2:\n",
       "        cursor = 'crosshair';\n",
       "        break;\n",
       "    case 3:\n",
       "        cursor = 'move';\n",
       "        break;\n",
       "    }\n",
       "    fig.rubberband_canvas.style.cursor = cursor;\n",
       "}\n",
       "\n",
       "mpl.figure.prototype.handle_message = function(fig, msg) {\n",
       "    fig.message.textContent = msg['message'];\n",
       "}\n",
       "\n",
       "mpl.figure.prototype.handle_draw = function(fig, msg) {\n",
       "    // Request the server to send over a new figure.\n",
       "    fig.send_draw_message();\n",
       "}\n",
       "\n",
       "mpl.figure.prototype.handle_image_mode = function(fig, msg) {\n",
       "    fig.image_mode = msg['mode'];\n",
       "}\n",
       "\n",
       "mpl.figure.prototype.updated_canvas_event = function() {\n",
       "    // Called whenever the canvas gets updated.\n",
       "    this.send_message(\"ack\", {});\n",
       "}\n",
       "\n",
       "// A function to construct a web socket function for onmessage handling.\n",
       "// Called in the figure constructor.\n",
       "mpl.figure.prototype._make_on_message_function = function(fig) {\n",
       "    return function socket_on_message(evt) {\n",
       "        if (evt.data instanceof Blob) {\n",
       "            /* FIXME: We get \"Resource interpreted as Image but\n",
       "             * transferred with MIME type text/plain:\" errors on\n",
       "             * Chrome.  But how to set the MIME type?  It doesn't seem\n",
       "             * to be part of the websocket stream */\n",
       "            evt.data.type = \"image/png\";\n",
       "\n",
       "            /* Free the memory for the previous frames */\n",
       "            if (fig.imageObj.src) {\n",
       "                (window.URL || window.webkitURL).revokeObjectURL(\n",
       "                    fig.imageObj.src);\n",
       "            }\n",
       "\n",
       "            fig.imageObj.src = (window.URL || window.webkitURL).createObjectURL(\n",
       "                evt.data);\n",
       "            fig.updated_canvas_event();\n",
       "            fig.waiting = false;\n",
       "            return;\n",
       "        }\n",
       "        else if (typeof evt.data === 'string' && evt.data.slice(0, 21) == \"data:image/png;base64\") {\n",
       "            fig.imageObj.src = evt.data;\n",
       "            fig.updated_canvas_event();\n",
       "            fig.waiting = false;\n",
       "            return;\n",
       "        }\n",
       "\n",
       "        var msg = JSON.parse(evt.data);\n",
       "        var msg_type = msg['type'];\n",
       "\n",
       "        // Call the  \"handle_{type}\" callback, which takes\n",
       "        // the figure and JSON message as its only arguments.\n",
       "        try {\n",
       "            var callback = fig[\"handle_\" + msg_type];\n",
       "        } catch (e) {\n",
       "            console.log(\"No handler for the '\" + msg_type + \"' message type: \", msg);\n",
       "            return;\n",
       "        }\n",
       "\n",
       "        if (callback) {\n",
       "            try {\n",
       "                // console.log(\"Handling '\" + msg_type + \"' message: \", msg);\n",
       "                callback(fig, msg);\n",
       "            } catch (e) {\n",
       "                console.log(\"Exception inside the 'handler_\" + msg_type + \"' callback:\", e, e.stack, msg);\n",
       "            }\n",
       "        }\n",
       "    };\n",
       "}\n",
       "\n",
       "// from http://stackoverflow.com/questions/1114465/getting-mouse-location-in-canvas\n",
       "mpl.findpos = function(e) {\n",
       "    //this section is from http://www.quirksmode.org/js/events_properties.html\n",
       "    var targ;\n",
       "    if (!e)\n",
       "        e = window.event;\n",
       "    if (e.target)\n",
       "        targ = e.target;\n",
       "    else if (e.srcElement)\n",
       "        targ = e.srcElement;\n",
       "    if (targ.nodeType == 3) // defeat Safari bug\n",
       "        targ = targ.parentNode;\n",
       "\n",
       "    // jQuery normalizes the pageX and pageY\n",
       "    // pageX,Y are the mouse positions relative to the document\n",
       "    // offset() returns the position of the element relative to the document\n",
       "    var x = e.pageX - $(targ).offset().left;\n",
       "    var y = e.pageY - $(targ).offset().top;\n",
       "\n",
       "    return {\"x\": x, \"y\": y};\n",
       "};\n",
       "\n",
       "/*\n",
       " * return a copy of an object with only non-object keys\n",
       " * we need this to avoid circular references\n",
       " * http://stackoverflow.com/a/24161582/3208463\n",
       " */\n",
       "function simpleKeys (original) {\n",
       "  return Object.keys(original).reduce(function (obj, key) {\n",
       "    if (typeof original[key] !== 'object')\n",
       "        obj[key] = original[key]\n",
       "    return obj;\n",
       "  }, {});\n",
       "}\n",
       "\n",
       "mpl.figure.prototype.mouse_event = function(event, name) {\n",
       "    var canvas_pos = mpl.findpos(event)\n",
       "\n",
       "    if (name === 'button_press')\n",
       "    {\n",
       "        this.canvas.focus();\n",
       "        this.canvas_div.focus();\n",
       "    }\n",
       "\n",
       "    var x = canvas_pos.x;\n",
       "    var y = canvas_pos.y;\n",
       "\n",
       "    this.send_message(name, {x: x, y: y, button: event.button,\n",
       "                             step: event.step,\n",
       "                             guiEvent: simpleKeys(event)});\n",
       "\n",
       "    /* This prevents the web browser from automatically changing to\n",
       "     * the text insertion cursor when the button is pressed.  We want\n",
       "     * to control all of the cursor setting manually through the\n",
       "     * 'cursor' event from matplotlib */\n",
       "    event.preventDefault();\n",
       "    return false;\n",
       "}\n",
       "\n",
       "mpl.figure.prototype._key_event_extra = function(event, name) {\n",
       "    // Handle any extra behaviour associated with a key event\n",
       "}\n",
       "\n",
       "mpl.figure.prototype.key_event = function(event, name) {\n",
       "\n",
       "    // Prevent repeat events\n",
       "    if (name == 'key_press')\n",
       "    {\n",
       "        if (event.which === this._key)\n",
       "            return;\n",
       "        else\n",
       "            this._key = event.which;\n",
       "    }\n",
       "    if (name == 'key_release')\n",
       "        this._key = null;\n",
       "\n",
       "    var value = '';\n",
       "    if (event.ctrlKey && event.which != 17)\n",
       "        value += \"ctrl+\";\n",
       "    if (event.altKey && event.which != 18)\n",
       "        value += \"alt+\";\n",
       "    if (event.shiftKey && event.which != 16)\n",
       "        value += \"shift+\";\n",
       "\n",
       "    value += 'k';\n",
       "    value += event.which.toString();\n",
       "\n",
       "    this._key_event_extra(event, name);\n",
       "\n",
       "    this.send_message(name, {key: value,\n",
       "                             guiEvent: simpleKeys(event)});\n",
       "    return false;\n",
       "}\n",
       "\n",
       "mpl.figure.prototype.toolbar_button_onclick = function(name) {\n",
       "    if (name == 'download') {\n",
       "        this.handle_save(this, null);\n",
       "    } else {\n",
       "        this.send_message(\"toolbar_button\", {name: name});\n",
       "    }\n",
       "};\n",
       "\n",
       "mpl.figure.prototype.toolbar_button_onmouseover = function(tooltip) {\n",
       "    this.message.textContent = tooltip;\n",
       "};\n",
       "mpl.toolbar_items = [[\"Home\", \"Reset original view\", \"fa fa-home icon-home\", \"home\"], [\"Back\", \"Back to  previous view\", \"fa fa-arrow-left icon-arrow-left\", \"back\"], [\"Forward\", \"Forward to next view\", \"fa fa-arrow-right icon-arrow-right\", \"forward\"], [\"\", \"\", \"\", \"\"], [\"Pan\", \"Pan axes with left mouse, zoom with right\", \"fa fa-arrows icon-move\", \"pan\"], [\"Zoom\", \"Zoom to rectangle\", \"fa fa-square-o icon-check-empty\", \"zoom\"], [\"\", \"\", \"\", \"\"], [\"Download\", \"Download plot\", \"fa fa-floppy-o icon-save\", \"download\"]];\n",
       "\n",
       "mpl.extensions = [\"eps\", \"jpeg\", \"pdf\", \"png\", \"ps\", \"raw\", \"svg\", \"tif\"];\n",
       "\n",
       "mpl.default_extension = \"png\";var comm_websocket_adapter = function(comm) {\n",
       "    // Create a \"websocket\"-like object which calls the given IPython comm\n",
       "    // object with the appropriate methods. Currently this is a non binary\n",
       "    // socket, so there is still some room for performance tuning.\n",
       "    var ws = {};\n",
       "\n",
       "    ws.close = function() {\n",
       "        comm.close()\n",
       "    };\n",
       "    ws.send = function(m) {\n",
       "        //console.log('sending', m);\n",
       "        comm.send(m);\n",
       "    };\n",
       "    // Register the callback with on_msg.\n",
       "    comm.on_msg(function(msg) {\n",
       "        //console.log('receiving', msg['content']['data'], msg);\n",
       "        // Pass the mpl event to the overriden (by mpl) onmessage function.\n",
       "        ws.onmessage(msg['content']['data'])\n",
       "    });\n",
       "    return ws;\n",
       "}\n",
       "\n",
       "mpl.mpl_figure_comm = function(comm, msg) {\n",
       "    // This is the function which gets called when the mpl process\n",
       "    // starts-up an IPython Comm through the \"matplotlib\" channel.\n",
       "\n",
       "    var id = msg.content.data.id;\n",
       "    // Get hold of the div created by the display call when the Comm\n",
       "    // socket was opened in Python.\n",
       "    var element = $(\"#\" + id);\n",
       "    var ws_proxy = comm_websocket_adapter(comm)\n",
       "\n",
       "    function ondownload(figure, format) {\n",
       "        window.open(figure.imageObj.src);\n",
       "    }\n",
       "\n",
       "    var fig = new mpl.figure(id, ws_proxy,\n",
       "                           ondownload,\n",
       "                           element.get(0));\n",
       "\n",
       "    // Call onopen now - mpl needs it, as it is assuming we've passed it a real\n",
       "    // web socket which is closed, not our websocket->open comm proxy.\n",
       "    ws_proxy.onopen();\n",
       "\n",
       "    fig.parent_element = element.get(0);\n",
       "    fig.cell_info = mpl.find_output_cell(\"<div id='\" + id + \"'></div>\");\n",
       "    if (!fig.cell_info) {\n",
       "        console.error(\"Failed to find cell for figure\", id, fig);\n",
       "        return;\n",
       "    }\n",
       "\n",
       "    var output_index = fig.cell_info[2]\n",
       "    var cell = fig.cell_info[0];\n",
       "\n",
       "};\n",
       "\n",
       "mpl.figure.prototype.handle_close = function(fig, msg) {\n",
       "    fig.root.unbind('remove')\n",
       "\n",
       "    // Update the output cell to use the data from the current canvas.\n",
       "    fig.push_to_output();\n",
       "    var dataURL = fig.canvas.toDataURL();\n",
       "    // Re-enable the keyboard manager in IPython - without this line, in FF,\n",
       "    // the notebook keyboard shortcuts fail.\n",
       "    IPython.keyboard_manager.enable()\n",
       "    $(fig.parent_element).html('<img src=\"' + dataURL + '\">');\n",
       "    fig.close_ws(fig, msg);\n",
       "}\n",
       "\n",
       "mpl.figure.prototype.close_ws = function(fig, msg){\n",
       "    fig.send_message('closing', msg);\n",
       "    // fig.ws.close()\n",
       "}\n",
       "\n",
       "mpl.figure.prototype.push_to_output = function(remove_interactive) {\n",
       "    // Turn the data on the canvas into data in the output cell.\n",
       "    var dataURL = this.canvas.toDataURL();\n",
       "    this.cell_info[1]['text/html'] = '<img src=\"' + dataURL + '\">';\n",
       "}\n",
       "\n",
       "mpl.figure.prototype.updated_canvas_event = function() {\n",
       "    // Tell IPython that the notebook contents must change.\n",
       "    IPython.notebook.set_dirty(true);\n",
       "    this.send_message(\"ack\", {});\n",
       "    var fig = this;\n",
       "    // Wait a second, then push the new image to the DOM so\n",
       "    // that it is saved nicely (might be nice to debounce this).\n",
       "    setTimeout(function () { fig.push_to_output() }, 1000);\n",
       "}\n",
       "\n",
       "mpl.figure.prototype._init_toolbar = function() {\n",
       "    var fig = this;\n",
       "\n",
       "    var nav_element = $('<div/>')\n",
       "    nav_element.attr('style', 'width: 100%');\n",
       "    this.root.append(nav_element);\n",
       "\n",
       "    // Define a callback function for later on.\n",
       "    function toolbar_event(event) {\n",
       "        return fig.toolbar_button_onclick(event['data']);\n",
       "    }\n",
       "    function toolbar_mouse_event(event) {\n",
       "        return fig.toolbar_button_onmouseover(event['data']);\n",
       "    }\n",
       "\n",
       "    for(var toolbar_ind in mpl.toolbar_items){\n",
       "        var name = mpl.toolbar_items[toolbar_ind][0];\n",
       "        var tooltip = mpl.toolbar_items[toolbar_ind][1];\n",
       "        var image = mpl.toolbar_items[toolbar_ind][2];\n",
       "        var method_name = mpl.toolbar_items[toolbar_ind][3];\n",
       "\n",
       "        if (!name) { continue; };\n",
       "\n",
       "        var button = $('<button class=\"btn btn-default\" href=\"#\" title=\"' + name + '\"><i class=\"fa ' + image + ' fa-lg\"></i></button>');\n",
       "        button.click(method_name, toolbar_event);\n",
       "        button.mouseover(tooltip, toolbar_mouse_event);\n",
       "        nav_element.append(button);\n",
       "    }\n",
       "\n",
       "    // Add the status bar.\n",
       "    var status_bar = $('<span class=\"mpl-message\" style=\"text-align:right; float: right;\"/>');\n",
       "    nav_element.append(status_bar);\n",
       "    this.message = status_bar[0];\n",
       "\n",
       "    // Add the close button to the window.\n",
       "    var buttongrp = $('<div class=\"btn-group inline pull-right\"></div>');\n",
       "    var button = $('<button class=\"btn btn-mini btn-primary\" href=\"#\" title=\"Stop Interaction\"><i class=\"fa fa-power-off icon-remove icon-large\"></i></button>');\n",
       "    button.click(function (evt) { fig.handle_close(fig, {}); } );\n",
       "    button.mouseover('Stop Interaction', toolbar_mouse_event);\n",
       "    buttongrp.append(button);\n",
       "    var titlebar = this.root.find($('.ui-dialog-titlebar'));\n",
       "    titlebar.prepend(buttongrp);\n",
       "}\n",
       "\n",
       "mpl.figure.prototype._root_extra_style = function(el){\n",
       "    var fig = this\n",
       "    el.on(\"remove\", function(){\n",
       "\tfig.close_ws(fig, {});\n",
       "    });\n",
       "}\n",
       "\n",
       "mpl.figure.prototype._canvas_extra_style = function(el){\n",
       "    // this is important to make the div 'focusable\n",
       "    el.attr('tabindex', 0)\n",
       "    // reach out to IPython and tell the keyboard manager to turn it's self\n",
       "    // off when our div gets focus\n",
       "\n",
       "    // location in version 3\n",
       "    if (IPython.notebook.keyboard_manager) {\n",
       "        IPython.notebook.keyboard_manager.register_events(el);\n",
       "    }\n",
       "    else {\n",
       "        // location in version 2\n",
       "        IPython.keyboard_manager.register_events(el);\n",
       "    }\n",
       "\n",
       "}\n",
       "\n",
       "mpl.figure.prototype._key_event_extra = function(event, name) {\n",
       "    var manager = IPython.notebook.keyboard_manager;\n",
       "    if (!manager)\n",
       "        manager = IPython.keyboard_manager;\n",
       "\n",
       "    // Check for shift+enter\n",
       "    if (event.shiftKey && event.which == 13) {\n",
       "        this.canvas_div.blur();\n",
       "        event.shiftKey = false;\n",
       "        // Send a \"J\" for go to next cell\n",
       "        event.which = 74;\n",
       "        event.keyCode = 74;\n",
       "        manager.command_mode();\n",
       "        manager.handle_keydown(event);\n",
       "    }\n",
       "}\n",
       "\n",
       "mpl.figure.prototype.handle_save = function(fig, msg) {\n",
       "    fig.ondownload(fig, null);\n",
       "}\n",
       "\n",
       "\n",
       "mpl.find_output_cell = function(html_output) {\n",
       "    // Return the cell and output element which can be found *uniquely* in the notebook.\n",
       "    // Note - this is a bit hacky, but it is done because the \"notebook_saving.Notebook\"\n",
       "    // IPython event is triggered only after the cells have been serialised, which for\n",
       "    // our purposes (turning an active figure into a static one), is too late.\n",
       "    var cells = IPython.notebook.get_cells();\n",
       "    var ncells = cells.length;\n",
       "    for (var i=0; i<ncells; i++) {\n",
       "        var cell = cells[i];\n",
       "        if (cell.cell_type === 'code'){\n",
       "            for (var j=0; j<cell.output_area.outputs.length; j++) {\n",
       "                var data = cell.output_area.outputs[j];\n",
       "                if (data.data) {\n",
       "                    // IPython >= 3 moved mimebundle to data attribute of output\n",
       "                    data = data.data;\n",
       "                }\n",
       "                if (data['text/html'] == html_output) {\n",
       "                    return [cell, data, j];\n",
       "                }\n",
       "            }\n",
       "        }\n",
       "    }\n",
       "}\n",
       "\n",
       "// Register the function which deals with the matplotlib target/channel.\n",
       "// The kernel may be null if the page has been refreshed.\n",
       "if (IPython.notebook.kernel != null) {\n",
       "    IPython.notebook.kernel.comm_manager.register_target('matplotlib', mpl.mpl_figure_comm);\n",
       "}\n"
      ],
      "text/plain": [
       "<IPython.core.display.Javascript object>"
      ]
     },
     "metadata": {},
     "output_type": "display_data"
    },
    {
     "data": {
      "text/html": [
       "<img src=\"data:image/png;base64,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\">"
      ],
      "text/plain": [
       "<IPython.core.display.HTML object>"
      ]
     },
     "metadata": {},
     "output_type": "display_data"
    },
    {
     "ename": "AttributeError",
     "evalue": "module 'matplotlib.pyplot' has no attribute 'Axes3D'",
     "output_type": "error",
     "traceback": [
      "\u001b[1;31m---------------------------------------------------------------------------\u001b[0m",
      "\u001b[1;31mAttributeError\u001b[0m                            Traceback (most recent call last)",
      "\u001b[1;32m<ipython-input-25-c8aaf19cf74c>\u001b[0m in \u001b[0;36m<module>\u001b[1;34m()\u001b[0m\n\u001b[0;32m      1\u001b[0m \u001b[0mfig\u001b[0m \u001b[1;33m=\u001b[0m \u001b[0mplt\u001b[0m\u001b[1;33m.\u001b[0m\u001b[0mfigure\u001b[0m\u001b[1;33m(\u001b[0m\u001b[1;33m)\u001b[0m\u001b[1;33m\u001b[0m\u001b[0m\n\u001b[1;32m----> 2\u001b[1;33m \u001b[0max\u001b[0m \u001b[1;33m=\u001b[0m \u001b[0mplt\u001b[0m\u001b[1;33m.\u001b[0m\u001b[0mAxes3D\u001b[0m\u001b[1;33m(\u001b[0m\u001b[0mfig\u001b[0m\u001b[1;33m)\u001b[0m\u001b[1;33m\u001b[0m\u001b[0m\n\u001b[0m\u001b[0;32m      3\u001b[0m \u001b[0max\u001b[0m\u001b[1;33m.\u001b[0m\u001b[0mscatter\u001b[0m\u001b[1;33m(\u001b[0m\u001b[0mx\u001b[0m\u001b[1;33m,\u001b[0m\u001b[0my\u001b[0m\u001b[1;33m,\u001b[0m\u001b[0mz\u001b[0m\u001b[1;33m,\u001b[0m\u001b[0mc\u001b[0m\u001b[1;33m=\u001b[0m\u001b[0mc\u001b[0m\u001b[1;33m,\u001b[0m\u001b[0ms\u001b[0m\u001b[1;33m=\u001b[0m\u001b[1;36m100\u001b[0m\u001b[1;33m,\u001b[0m\u001b[0mlw\u001b[0m\u001b[1;33m=\u001b[0m\u001b[1;36m0\u001b[0m\u001b[1;33m,\u001b[0m\u001b[0mdepthshade\u001b[0m\u001b[1;33m=\u001b[0m\u001b[1;32mFalse\u001b[0m\u001b[1;33m)\u001b[0m\u001b[1;33m\u001b[0m\u001b[0m\n",
      "\u001b[1;31mAttributeError\u001b[0m: module 'matplotlib.pyplot' has no attribute 'Axes3D'"
     ]
    }
   ],
   "source": [
    "fig = plt.figure()\n",
    "ax = plt.Axes3D(fig)\n",
    "ax.scatter(x,y,z,c=c,s=100,lw=0,depthshade=False)"
   ]
  },
  {
   "cell_type": "code",
   "execution_count": null,
   "metadata": {
    "collapsed": false
   },
   "outputs": [],
   "source": [
    "import mpld3 #much cooler !\n",
    "fig, ax = plt.subplots()\n",
    "scatter = ax.scatter(x,y,c=c,lw=0,s=z)\n",
    "tooltip = mpld3.plugins.PointLabelTooltip(scatter, labels=l)\n",
    "mpld3.plugins.connect(fig, tooltip)\n",
    "mpld3.display()"
   ]
  },
  {
   "cell_type": "code",
   "execution_count": null,
   "metadata": {
    "collapsed": false
   },
   "outputs": [],
   "source": []
  }
 ],
 "metadata": {
  "kernelspec": {
   "display_name": "Python 3",
   "language": "python",
   "name": "python3"
  },
  "language_info": {
   "codemirror_mode": {
    "name": "ipython",
    "version": 3
   },
   "file_extension": ".py",
   "mimetype": "text/x-python",
   "name": "python",
   "nbconvert_exporter": "python",
   "pygments_lexer": "ipython3",
   "version": "3.5.1"
  }
 },
 "nbformat": 4,
 "nbformat_minor": 0
}
