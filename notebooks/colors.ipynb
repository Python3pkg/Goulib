{
 "cells": [
  {
   "cell_type": "markdown",
   "metadata": {},
   "source": [
    "# [Goulib](../notebook.ipynb).colors\n",
    "color toolbox\n"
   ]
  },
  {
   "cell_type": "code",
   "execution_count": 1,
   "metadata": {
    "collapsed": false
   },
   "outputs": [
    {
     "data": {
      "application/javascript": [
       "IPython.OutputArea.auto_scroll_threshold = 9999; // to avoid a scrollbar in Pantone table below"
      ],
      "text/plain": [
       "<IPython.core.display.Javascript object>"
      ]
     },
     "metadata": {},
     "output_type": "display_data"
    }
   ],
   "source": [
    "%%javascript\n",
    "IPython.OutputArea.auto_scroll_threshold = 9999; // to avoid a scrollbar in Pantone table below"
   ]
  },
  {
   "cell_type": "code",
   "execution_count": 2,
   "metadata": {
    "collapsed": false
   },
   "outputs": [],
   "source": [
    "from Goulib.notebook import *\n",
    "from Goulib.colors import *"
   ]
  },
  {
   "cell_type": "code",
   "execution_count": 3,
   "metadata": {
    "collapsed": false
   },
   "outputs": [
    {
     "data": {
      "text/html": [
       "<p style=\"color:#0000ff\">blue</p>"
      ],
      "text/plain": [
       "Color('blue')"
      ]
     },
     "execution_count": 3,
     "metadata": {},
     "output_type": "execute_result"
    }
   ],
   "source": [
    "c=color['blue'] # color is a dict of RGB #hex colors defined in Matplotlib indexed by their name\n",
    "c2=color_lookup[c.hex] # reversed dict to retrieve color by hex string\n",
    "c2"
   ]
  },
  {
   "cell_type": "code",
   "execution_count": 4,
   "metadata": {
    "collapsed": false
   },
   "outputs": [
    {
     "data": {
      "text/html": [
       "<p style=\"color:#0000ff\">blue</p>"
      ],
      "text/plain": [
       "Color('blue')"
      ]
     },
     "execution_count": 4,
     "metadata": {},
     "output_type": "execute_result"
    }
   ],
   "source": [
    "red=Color('red') #Color objects can be init'ed by name,\n",
    "green=Color('#00ff00') # by RGB hex string,\n",
    "blue=Color((0,0,1)) #or by RGB triplet\n",
    "blue # Color objects have an HTML representation"
   ]
  },
  {
   "cell_type": "code",
   "execution_count": 5,
   "metadata": {
    "collapsed": false
   },
   "outputs": [
    {
     "data": {
      "text/html": [
       "magenta #ff00ff (1.0,0.0,1.0)"
      ],
      "text/plain": [
       "<IPython.core.display.HTML object>"
      ]
     },
     "metadata": {},
     "output_type": "display_data"
    },
    {
     "data": {
      "text/html": [
       "<p style=\"color:#00ffff\">cyan</p> <p style=\"color:#ff00ff\">magenta</p> <p style=\"color:#ffff00\">yellow</p>"
      ],
      "text/plain": [
       "<IPython.core.display.HTML object>"
      ]
     },
     "metadata": {},
     "output_type": "display_data"
    }
   ],
   "source": [
    "#colors can be added\n",
    "cyan=blue+green\n",
    "magenta=blue+red\n",
    "yellow=red+green\n",
    "\n",
    "print(magenta.name, magenta.hex, magenta.rgb) # see ? the color name of the sum is correct too !\n",
    "print(cyan, magenta, yellow)"
   ]
  },
  {
   "cell_type": "code",
   "execution_count": 6,
   "metadata": {
    "collapsed": false
   },
   "outputs": [
    {
     "data": {
      "text/html": [
       "<p style=\"color:#000000\">black</p>"
      ],
      "text/plain": [
       "Color('black')"
      ]
     },
     "execution_count": 6,
     "metadata": {},
     "output_type": "execute_result"
    }
   ],
   "source": [
    "magenta-cyan-yellow #and colors can be substracted too"
   ]
  },
  {
   "cell_type": "code",
   "execution_count": 7,
   "metadata": {
    "collapsed": false
   },
   "outputs": [
    {
     "data": {
      "text/plain": [
       "(0.0, 0.0, 0.0)"
      ]
     },
     "execution_count": 7,
     "metadata": {},
     "output_type": "execute_result"
    }
   ],
   "source": [
    "Color(magenta-cyan-yellow).rgb"
   ]
  },
  {
   "cell_type": "code",
   "execution_count": 8,
   "metadata": {
    "collapsed": false
   },
   "outputs": [
    {
     "data": {
      "text/html": [
       "<p style=\"color:#008080\">teal</p> teal #008080 (0.0,0.5019607843137255,0.5019607843137255)"
      ],
      "text/plain": [
       "<IPython.core.display.HTML object>"
      ]
     },
     "metadata": {},
     "output_type": "display_data"
    }
   ],
   "source": [
    "c= Color('gray')-red # colors can be substracted too. RGB values are bounded\n",
    "print(c,c.name, c.hex, c.rgb) # see ? the color name of the sum is correct too !"
   ]
  },
  {
   "cell_type": "code",
   "execution_count": 9,
   "metadata": {
    "collapsed": false
   },
   "outputs": [
    {
     "data": {
      "text/html": [
       "<p style=\"color:#c60f7e\">~mediumvioletred</p> <p style=\"color:#bef357\">~greenyellow</p> <p style=\"color:#17b1f3\">~deepskyblue</p> <p style=\"color:#35ca2c\">~limegreen</p> <p style=\"color:#fcae22\">~orange</p> <p style=\"color:#0d7d55\">~seagreen</p> <p style=\"color:#e3fcef\">~honeydew</p> <p style=\"color:#82441d\">~saddlebrown</p> <p style=\"color:#16fc92\">~mediumspringgreen</p> <p style=\"color:#f7962f\">~darkorange</p>"
      ],
      "text/plain": [
       "<IPython.core.display.HTML object>"
      ]
     },
     "metadata": {},
     "output_type": "display_data"
    }
   ],
   "source": [
    "from random import random\n",
    "r=[Color((random(),random(),random())) for _ in range(10)]\n",
    "print(*r) # unknown colors recieve name of the nearest known color with a tile before"
   ]
  },
  {
   "cell_type": "code",
   "execution_count": 10,
   "metadata": {
    "collapsed": false
   },
   "outputs": [
    {
     "data": {
      "text/html": [
       "<p style=\"color:#ff0000\">red</p> <p style=\"color:#ffff00\">yellow</p> <p style=\"color:#00ff00\">lime</p> <p style=\"color:#00ffff\">cyan</p> <p style=\"color:#0000ff\">blue</p>"
      ],
      "text/plain": [
       "<IPython.core.display.HTML object>"
      ]
     },
     "metadata": {},
     "output_type": "display_data"
    }
   ],
   "source": [
    "print(*map(Color,color_range(5,'red','blue')))"
   ]
  },
  {
   "cell_type": "markdown",
   "metadata": {},
   "source": [
    "## Colors space conversions"
   ]
  },
  {
   "cell_type": "code",
   "execution_count": 11,
   "metadata": {
    "collapsed": false
   },
   "outputs": [
    {
     "data": {
      "text/plain": [
       "<Goulib.graph.DiGraph at 0x6f81a90>"
      ]
     },
     "execution_count": 11,
     "metadata": {},
     "output_type": "execute_result"
    }
   ],
   "source": [
    "converters #should deisplay the graph of converters here ..."
   ]
  },
  {
   "cell_type": "code",
   "execution_count": 12,
   "metadata": {
    "collapsed": false
   },
   "outputs": [
    {
     "data": {
      "text/html": [
       "<p style=\"color:#80d447\">~yellowgreen</p> (0.45,0.12,0.67,0.05)"
      ],
      "text/plain": [
       "<IPython.core.display.HTML object>"
      ]
     },
     "metadata": {},
     "output_type": "display_data"
    }
   ],
   "source": [
    "cmyk=Color((.45,.12,.67,.05),mode='cmyk') # a random cmyk color\n",
    "print(cmyk,cmyk.cmyk)"
   ]
  },
  {
   "cell_type": "markdown",
   "metadata": {},
   "source": [
    "## Pantone colors"
   ]
  },
  {
   "cell_type": "code",
   "execution_count": 13,
   "metadata": {
    "collapsed": false
   },
   "outputs": [
    {
     "data": {
      "text/html": [
       "<p style=\"color:#da1f28\">1795C</p> <p style=\"color:#da1f28\">~crimson</p> 0.0565294041884"
      ],
      "text/plain": [
       "<IPython.core.display.HTML object>"
      ]
     },
     "metadata": {},
     "output_type": "display_data"
    }
   ],
   "source": [
    "# pantone is a dict of Colors initialized from RGB values\n",
    "bred=pantone['1795C'] #BOBST Red\n",
    "bred2=Color(bred.hex) #the corresponding RGB color\n",
    "print(bred,bred2,deltaE(bred,bred2))"
   ]
  },
  {
   "cell_type": "code",
   "execution_count": 14,
   "metadata": {
    "collapsed": false
   },
   "outputs": [
    {
     "data": {
      "text/html": [
       "<p style=\"color:#6cdc49\">802C</p> <p style=\"color:#80d447\">~yellowgreen</p> 3.08310421202"
      ],
      "text/plain": [
       "<IPython.core.display.HTML object>"
      ]
     },
     "metadata": {},
     "output_type": "display_data"
    }
   ],
   "source": [
    "p=nearest_color(cmyk,pantone) # find best matching Pantone color\n",
    "print(p,cmyk,deltaE(p,cmyk))"
   ]
  },
  {
   "cell_type": "code",
   "execution_count": 15,
   "metadata": {
    "collapsed": false
   },
   "outputs": [
    {
     "data": {
      "text/html": [
       "<table><tr><td style=\"background-color:#d1aa00;\"><p style=\"color:#0000cd\">103C</p></td><td style=\"background-color:#867015;\"><p style=\"color:#0000ff\">105C</p></td><td style=\"background-color:#ffd000;\"><p style=\"color:#000080\">109C</p></td><td style=\"background-color:#fced89;\"><p style=\"color:#000080\">100C</p></td><td style=\"background-color:#ffd900;\"><p style=\"color:#000080\">108C</p></td><td style=\"background-color:#ffe500;\"><p style=\"color:#000080\">102C</p></td><td style=\"background-color:#b29400;\"><p style=\"color:#0000cd\">104C</p></td><td style=\"background-color:#fdea63;\"><p style=\"color:#000080\">101C</p></td><td style=\"background-color:#ffe563;\"><p style=\"color:#000080\">106C</p></td><td style=\"background-color:#ffe135;\"><p style=\"color:#000080\">107C</p></td></tr>\n",
       "<tr><td style=\"background-color:#e2ab00;\"><p style=\"color:#00008b\">110C</p></td><td style=\"background-color:#d69c00;\"><p style=\"color:#00008b\">117C</p></td><td style=\"background-color:#b98900;\"><p style=\"color:#0000cd\">118C</p></td><td style=\"background-color:#ffdd52;\"><p style=\"color:#000080\">114C</p></td><td style=\"background-color:#a08000;\"><p style=\"color:#0000cd\">112C</p></td><td style=\"background-color:#ffe05c;\"><p style=\"color:#000080\">113C</p></td><td style=\"background-color:#8e741c;\"><p style=\"color:#0000ff\">119C</p></td><td style=\"background-color:#ffdd4d;\"><p style=\"color:#000080\">115C</p></td><td style=\"background-color:#b78e00;\"><p style=\"color:#0000cd\">111C</p></td><td style=\"background-color:#ffcc00;\"><p style=\"color:#000080\">116C</p></td></tr>\n",
       "<tr><td style=\"background-color:#c28900;\"><p style=\"color:#00008b\">125C</p></td><td style=\"background-color:#facc47;\"><p style=\"color:#000080\">129C</p></td><td style=\"background-color:#ffdd79;\"><p style=\"color:#000080\">120C</p></td><td style=\"background-color:#f7df87;\"><p style=\"color:#000080\">127C</p></td><td style=\"background-color:#f5ab00;\"><p style=\"color:#00008b\">124C</p></td><td style=\"background-color:#ffdb70;\"><p style=\"color:#000080\">121C</p></td><td style=\"background-color:#ffc62a;\"><p style=\"color:#000080\">123C</p></td><td style=\"background-color:#f9d45f;\"><p style=\"color:#000080\">128C</p></td><td style=\"background-color:#a87c04;\"><p style=\"color:#0000cd\">126C</p></td><td style=\"background-color:#ffd352;\"><p style=\"color:#000080\">122C</p></td></tr>\n",
       "<tr><td style=\"background-color:#d98e00;\"><p style=\"color:#00008b\">131C</p></td><td style=\"background-color:#ff9f00;\"><p style=\"color:#000080\">137C</p></td><td style=\"background-color:#745713;\"><p style=\"color:#ff00ff\">133C</p></td><td style=\"background-color:#ffd484;\"><p style=\"color:#000080\">134C</p></td><td style=\"background-color:#eb7f00;\"><p style=\"color:#000080\">138C</p></td><td style=\"background-color:#ffba3b;\"><p style=\"color:#000080\">136C</p></td><td style=\"background-color:#bb7000;\"><p style=\"color:#00008b\">139C</p></td><td style=\"background-color:#ffc75b;\"><p style=\"color:#000080\">135C</p></td><td style=\"background-color:#ad7b00;\"><p style=\"color:#0000cd\">132C</p></td><td style=\"background-color:#f8a900;\"><p style=\"color:#00008b\">130C</p></td></tr>\n",
       "<tr><td style=\"background-color:#f27f00;\"><p style=\"color:#000080\">144C</p></td><td style=\"background-color:#ffce9d;\"><p style=\"color:#000080\">148C</p></td><td style=\"background-color:#f7b947;\"><p style=\"color:#000080\">142C</p></td><td style=\"background-color:#d57600;\"><p style=\"color:#000080\">145C</p></td><td style=\"background-color:#f7c869;\"><p style=\"color:#000080\">141C</p></td><td style=\"background-color:#ffc589;\"><p style=\"color:#000080\">149C</p></td><td style=\"background-color:#a35f00;\"><p style=\"color:#0000cd\">146C</p></td><td style=\"background-color:#7f5612;\"><p style=\"color:#ff00ff\">140C</p></td><td style=\"background-color:#745721;\"><p style=\"color:#ff00ff\">147C</p></td><td style=\"background-color:#f7a926;\"><p style=\"color:#000080\">143C</p></td></tr>\n",
       "<tr><td style=\"background-color:#d35907;\"><p style=\"color:#00ff00\">159C</p></td><td style=\"background-color:#ed690e;\"><p style=\"color:#00ff00\">158C</p></td><td style=\"background-color:#f1d6b1;\"><p style=\"color:#000080\">155C</p></td><td style=\"background-color:#f4bf8a;\"><p style=\"color:#000080\">156C</p></td><td style=\"background-color:#ff7200;\"><p style=\"color:#000080\">151C</p></td><td style=\"background-color:#9f550b;\"><p style=\"color:#00ff7f\">154C</p></td><td style=\"background-color:#ed6f00;\"><p style=\"color:#000080\">152C</p></td><td style=\"background-color:#c46500;\"><p style=\"color:#000080\">153C</p></td><td style=\"background-color:#f2994e;\"><p style=\"color:#000080\">157C</p></td><td style=\"background-color:#ffa74f;\"><p style=\"color:#000080\">150C</p></td></tr>\n",
       "<tr><td style=\"background-color:#723114;\"><p style=\"color:#00ff00\">168C</p></td><td style=\"background-color:#ff7e44;\"><p style=\"color:#00ff00\">164C</p></td><td style=\"background-color:#ff6000;\"><p style=\"color:#00ff00\">165C</p></td><td style=\"background-color:#623416;\"><p style=\"color:#00ff00\">161C</p></td><td style=\"background-color:#ffb6b0;\"><p style=\"color:#000000\">169C</p></td><td style=\"background-color:#eb5300;\"><p style=\"color:#00ff00\">166C</p></td><td style=\"background-color:#ffc4ab;\"><p style=\"color:#000080\">162C</p></td><td style=\"background-color:#a74f14;\"><p style=\"color:#00ff00\">160C</p></td><td style=\"background-color:#c5500d;\"><p style=\"color:#00ff00\">167C</p></td><td style=\"background-color:#ff9c71;\"><p style=\"color:#000080\">163C</p></td></tr>\n",
       "<tr><td style=\"background-color:#ff4600;\"><p style=\"color:#00ff00\">172C</p></td><td style=\"background-color:#e73927;\"><p style=\"color:#00ff00\">179C</p></td><td style=\"background-color:#ff6241;\"><p style=\"color:#00ff00\">171C</p></td><td style=\"background-color:#713120;\"><p style=\"color:#00ff00\">175C</p></td><td style=\"background-color:#9c3415;\"><p style=\"color:#00ff00\">174C</p></td><td style=\"background-color:#db4417;\"><p style=\"color:#00ff00\">173C</p></td><td style=\"background-color:#ffacb8;\"><p style=\"color:#000000\">176C</p></td><td style=\"background-color:#ff5c60;\"><p style=\"color:#00ff00\">178C</p></td><td style=\"background-color:#ff887a;\"><p style=\"color:#00ff00\">170C</p></td><td style=\"background-color:#ff818b;\"><p style=\"color:#00ff00\">177C</p></td></tr>\n",
       "<tr><td style=\"background-color:#c4362b;\"><p style=\"color:#00ff00\">180C</p></td><td style=\"background-color:#d41032;\"><p style=\"color:#00ff00\">186C</p></td><td style=\"background-color:#fc5f7e;\"><p style=\"color:#00ff00\">184C</p></td><td style=\"background-color:#f8b8ca;\"><p style=\"color:#000000\">182C</p></td><td style=\"background-color:#7e232f;\"><p style=\"color:#00ff00\">188C</p></td><td style=\"background-color:#ff8fa9;\"><p style=\"color:#00ff00\">183C</p></td><td style=\"background-color:#ed0835;\"><p style=\"color:#00ff00\">185C</p></td><td style=\"background-color:#7c2720;\"><p style=\"color:#00ff00\">181C</p></td><td style=\"background-color:#b71e34;\"><p style=\"color:#00ff00\">187C</p></td><td style=\"background-color:#faa2bd;\"><p style=\"color:#00ff00\">189C</p></td></tr>\n",
       "<tr><td style=\"background-color:#c50e3d;\"><p style=\"color:#00ff00\">193C</p></td><td style=\"background-color:#9d1f3c;\"><p style=\"color:#00ff00\">194C</p></td><td style=\"background-color:#fb799e;\"><p style=\"color:#00ff00\">190C</p></td><td style=\"background-color:#e84f6f;\"><p style=\"color:#00ff00\">198C</p></td><td style=\"background-color:#dd0e3f;\"><p style=\"color:#00ff00\">199C</p></td><td style=\"background-color:#ed9cb3;\"><p style=\"color:#00ff00\">197C</p></td><td style=\"background-color:#eb0b48;\"><p style=\"color:#00ff00\">192C</p></td><td style=\"background-color:#f33f70;\"><p style=\"color:#00ff00\">191C</p></td><td style=\"background-color:#eec8d2;\"><p style=\"color:#000000\">196C</p></td><td style=\"background-color:#eeacbf;\"><p style=\"color:#000000\">203C</p></td></tr>\n",
       "<tr><td style=\"background-color:#e54784;\"><p style=\"color:#00ff00\">205C</p></td><td style=\"background-color:#ea7a9f;\"><p style=\"color:#00ff00\">204C</p></td><td style=\"background-color:#d8004b;\"><p style=\"color:#00ff00\">206C</p></td><td style=\"background-color:#8a2032;\"><p style=\"color:#00ff00\">202C</p></td><td style=\"background-color:#c60c35;\"><p style=\"color:#00ff00\">200C</p></td><td style=\"background-color:#772841;\"><p style=\"color:#00ff00\">209C</p></td><td style=\"background-color:#902246;\"><p style=\"color:#00ff00\">208C</p></td><td style=\"background-color:#b30442;\"><p style=\"color:#00ff00\">207C</p></td><td style=\"background-color:#a01c32;\"><p style=\"color:#00ff00\">201C</p></td><td style=\"background-color:#f2bbca;\"><p style=\"color:#000000\">217C</p></td></tr>\n",
       "<tr><td style=\"background-color:#f54f91;\"><p style=\"color:#00ff00\">212C</p></td><td style=\"background-color:#7a1e41;\"><p style=\"color:#00ff00\">216C</p></td><td style=\"background-color:#e81c76;\"><p style=\"color:#00ff00\">213C</p></td><td style=\"background-color:#ad1654;\"><p style=\"color:#00ff00\">215C</p></td><td style=\"background-color:#d10462;\"><p style=\"color:#00ff00\">214C</p></td><td style=\"background-color:#ff7faa;\"><p style=\"color:#00ff00\">211C</p></td><td style=\"background-color:#f1709d;\"><p style=\"color:#00ff00\">218C</p></td><td style=\"background-color:#e4257c;\"><p style=\"color:#00ff00\">219C</p></td><td style=\"background-color:#ffa0bd;\"><p style=\"color:#00ff00\">210C</p></td><td style=\"background-color:#6c1e3d;\"><p style=\"color:#00ff00\">229C</p></td></tr>\n",
       "<tr><td style=\"background-color:#6e1b3d;\"><p style=\"color:#00ff00\">222C</p></td><td style=\"background-color:#ed2782;\"><p style=\"color:#00ff00\">225C</p></td><td style=\"background-color:#f86a9d;\"><p style=\"color:#00ff00\">224C</p></td><td style=\"background-color:#8c0949;\"><p style=\"color:#00ff00\">228C</p></td><td style=\"background-color:#af0057;\"><p style=\"color:#00ff00\">227C</p></td><td style=\"background-color:#d9006e;\"><p style=\"color:#00ff00\">226C</p></td><td style=\"background-color:#b00055;\"><p style=\"color:#00ff00\">220C</p></td><td style=\"background-color:#fc94b5;\"><p style=\"color:#00ff00\">223C</p></td><td style=\"background-color:#98004a;\"><p style=\"color:#00ff00\">221C</p></td><td style=\"background-color:#8c0949;\"><p style=\"color:#00ff00\">235C</p></td></tr>\n",
       "<tr><td style=\"background-color:#f15490;\"><p style=\"color:#00ff00\">238C</p></td><td style=\"background-color:#ffa8c2;\"><p style=\"color:#00ff00\">230C</p></td><td style=\"background-color:#cf006b;\"><p style=\"color:#00ff00\">233C</p></td><td style=\"background-color:#f9428e;\"><p style=\"color:#00ff00\">232C</p></td><td style=\"background-color:#e93081;\"><p style=\"color:#00ff00\">239C</p></td><td style=\"background-color:#f9afc5;\"><p style=\"color:#000000\">236C</p></td><td style=\"background-color:#a90057;\"><p style=\"color:#00ff00\">234C</p></td><td style=\"background-color:#f884aa;\"><p style=\"color:#00ff00\">237C</p></td><td style=\"background-color:#ff75a5;\"><p style=\"color:#00ff00\">231C</p></td><td style=\"background-color:#b4055e;\"><p style=\"color:#00ff00\">241C</p></td></tr>\n",
       "<tr><td style=\"background-color:#ef81a5;\"><p style=\"color:#00ff00\">245C</p></td><td style=\"background-color:#812148;\"><p style=\"color:#00ff00\">249C</p></td><td style=\"background-color:#a90057;\"><p style=\"color:#00ff00\">248C</p></td><td style=\"background-color:#d40270;\"><p style=\"color:#00ff00\">246C</p></td><td style=\"background-color:#f2a2ba;\"><p style=\"color:#00ff00\">244C</p></td><td style=\"background-color:#f2b6c7;\"><p style=\"color:#000000\">243C</p></td><td style=\"background-color:#ce1e70;\"><p style=\"color:#00ff00\">240C</p></td><td style=\"background-color:#801c46;\"><p style=\"color:#00ff00\">242C</p></td><td style=\"background-color:#c10063;\"><p style=\"color:#00ff00\">247C</p></td><td style=\"background-color:#d6a3b1;\"><p style=\"color:#00ff00\">257C</p></td></tr>\n",
       "<tr><td style=\"background-color:#dc628d;\"><p style=\"color:#00ff00\">252C</p></td><td style=\"background-color:#be1566;\"><p style=\"color:#00ff00\">253C</p></td><td style=\"background-color:#e89bb2;\"><p style=\"color:#00ff00\">251C</p></td><td style=\"background-color:#e1bec7;\"><p style=\"color:#000000\">256C</p></td><td style=\"background-color:#a8205c;\"><p style=\"color:#00ff00\">254C</p></td><td style=\"background-color:#a24767;\"><p style=\"color:#00ff00\">258C</p></td><td style=\"background-color:#791841;\"><p style=\"color:#00ff00\">259C</p></td><td style=\"background-color:#edc0cd;\"><p style=\"color:#000000\">250C</p></td><td style=\"background-color:#7a2446;\"><p style=\"color:#00ff00\">255C</p></td><td style=\"background-color:#70173d;\"><p style=\"color:#00ff00\">267C</p></td></tr>\n",
       "<tr><td style=\"background-color:#cfa6b1;\"><p style=\"color:#000000\">264C</p></td><td style=\"background-color:#e3ccd2;\"><p style=\"color:#000000\">263C</p></td><td style=\"background-color:#621e38;\"><p style=\"color:#00ff00\">261C</p></td><td style=\"background-color:#691b3a;\"><p style=\"color:#00ff00\">260C</p></td><td style=\"background-color:#542133;\"><p style=\"color:#00ff00\">262C</p></td><td style=\"background-color:#641b38;\"><p style=\"color:#00ff00\">268C</p></td><td style=\"background-color:#922c54;\"><p style=\"color:#00ff00\">266C</p></td><td style=\"background-color:#562435;\"><p style=\"color:#00ff00\">269C</p></td><td style=\"background-color:#af627b;\"><p style=\"color:#00ff00\">265C</p></td><td style=\"background-color:#430c22;\"><p style=\"color:#00ff00\">274C</p></td></tr>\n",
       "<tr><td style=\"background-color:#828786;\"><p style=\"color:#000080\">279C</p></td><td style=\"background-color:#bfacb1;\"><p style=\"color:#000000\">270C</p></td><td style=\"background-color:#331a22;\"><p style=\"color:#00ffff\">276C</p></td><td style=\"background-color:#a9b3b0;\"><p style=\"color:#000080\">278C</p></td><td style=\"background-color:#98727d;\"><p style=\"color:#00ffff\">272C</p></td><td style=\"background-color:#bcc6c3;\"><p style=\"color:#000080\">277C</p></td><td style=\"background-color:#3a0c1e;\"><p style=\"color:#00ffff\">275C</p></td><td style=\"background-color:#4f0d29;\"><p style=\"color:#00ff00\">273C</p></td><td style=\"background-color:#ad8e96;\"><p style=\"color:#00ffff\">271C</p></td><td style=\"background-color:#4a3339;\"><p style=\"color:#00ffff\">287C</p></td></tr>\n",
       "<tr><td style=\"background-color:#202222;\"><p style=\"color:#ffff00\">289C</p></td><td style=\"background-color:#aabdb8;\"><p style=\"color:#000080\">283C</p></td><td style=\"background-color:#6c7372;\"><p style=\"color:#ffff00\">285C</p></td><td style=\"background-color:#582e3c;\"><p style=\"color:#00ffff\">286C</p></td><td style=\"background-color:#241e20;\"><p style=\"color:#00ffff\">282C</p></td><td style=\"background-color:#3f212a;\"><p style=\"color:#00ffff\">280C</p></td><td style=\"background-color:#3d2c31;\"><p style=\"color:#00ffff\">288C</p></td><td style=\"background-color:#332126;\"><p style=\"color:#00ffff\">281C</p></td><td style=\"background-color:#93a7a3;\"><p style=\"color:#000080\">284C</p></td><td style=\"background-color:#363233;\"><p style=\"color:#00ffff\">294C</p></td></tr>\n",
       "<tr><td style=\"background-color:#90afa8;\"><p style=\"color:#000080\">292C</p></td><td style=\"background-color:#162723;\"><p style=\"color:#ffff00\">296C</p></td><td style=\"background-color:#272b2a;\"><p style=\"color:#ffff00\">295C</p></td><td style=\"background-color:#5b9c90;\"><p style=\"color:#800000\">299C</p></td><td style=\"background-color:#544247;\"><p style=\"color:#00ffff\">293C</p></td><td style=\"background-color:#7bb3a8;\"><p style=\"color:#800000\">298C</p></td><td style=\"background-color:#c8d8d4;\"><p style=\"color:#000000\">290C</p></td><td style=\"background-color:#b4cbc6;\"><p style=\"color:#000080\">291C</p></td><td style=\"background-color:#95c5bb;\"><p style=\"color:#000080\">297C</p></td><td style=\"background-color:#7dc9ba;\"><p style=\"color:#800000\">305C</p></td></tr>\n",
       "<tr><td style=\"background-color:#003830;\"><p style=\"color:#ffff00\">309C</p></td><td style=\"background-color:#17423b;\"><p style=\"color:#ffff00\">302C</p></td><td style=\"background-color:#006e60;\"><p style=\"color:#dc143c\">307C</p></td><td style=\"background-color:#304f49;\"><p style=\"color:#ffff00\">301C</p></td><td style=\"background-color:#49b4a2;\"><p style=\"color:#800000\">306C</p></td><td style=\"background-color:#00574b;\"><p style=\"color:#fff0f5\">308C</p></td><td style=\"background-color:#afdad1;\"><p style=\"color:#000080\">304C</p></td><td style=\"background-color:#45645e;\"><p style=\"color:#ffff00\">300C</p></td><td style=\"background-color:#0c322c;\"><p style=\"color:#ffff00\">303C</p></td><td style=\"background-color:#007c69;\"><p style=\"color:#dc143c\">314C</p></td></tr>\n",
       "<tr><td style=\"background-color:#c3e4dc;\"><p style=\"color:#000000\">317C</p></td><td style=\"background-color:#9bdbce;\"><p style=\"color:#000080\">318C</p></td><td style=\"background-color:#006354;\"><p style=\"color:#dc143c\">315C</p></td><td style=\"background-color:#55bfad;\"><p style=\"color:#800000\">311C</p></td><td style=\"background-color:#00a58f;\"><p style=\"color:#dc143c\">312C</p></td><td style=\"background-color:#83cfc0;\"><p style=\"color:#000080\">310C</p></td><td style=\"background-color:#008f7b;\"><p style=\"color:#dc143c\">313C</p></td><td style=\"background-color:#5dcbb7;\"><p style=\"color:#800000\">319C</p></td><td style=\"background-color:#00453b;\"><p style=\"color:#ffc0cb\">316C</p></td><td style=\"background-color:#007f69;\"><p style=\"color:#dc143c\">321C</p></td></tr>\n",
       "<tr><td style=\"background-color:#00967d;\"><p style=\"color:#dc143c\">320C</p></td><td style=\"background-color:#00624f;\"><p style=\"color:#dc143c\">329C</p></td><td style=\"background-color:#006d5b;\"><p style=\"color:#dc143c\">322C</p></td><td style=\"background-color:#00705a;\"><p style=\"color:#dc143c\">328C</p></td><td style=\"background-color:#9ed7cb;\"><p style=\"color:#000080\">324C</p></td><td style=\"background-color:#57c5b2;\"><p style=\"color:#800000\">325C</p></td><td style=\"background-color:#006051;\"><p style=\"color:#dc143c\">323C</p></td><td style=\"background-color:#00af97;\"><p style=\"color:#dc143c\">326C</p></td><td style=\"background-color:#008369;\"><p style=\"color:#ff1493\">327C</p></td><td style=\"background-color:#b3e7dc;\"><p style=\"color:#000000\">331C</p></td></tr>\n",
       "<tr><td style=\"background-color:#009879;\"><p style=\"color:#dc143c\">334C</p></td><td style=\"background-color:#94d9c9;\"><p style=\"color:#000080\">337C</p></td><td style=\"background-color:#00b08c;\"><p style=\"color:#ff1493\">339C</p></td><td style=\"background-color:#46d9c2;\"><p style=\"color:#800000\">333C</p></td><td style=\"background-color:#a1e4d6;\"><p style=\"color:#000080\">332C</p></td><td style=\"background-color:#005246;\"><p style=\"color:#fff0f5\">330C</p></td><td style=\"background-color:#75d1be;\"><p style=\"color:#800000\">338C</p></td><td style=\"background-color:#007b65;\"><p style=\"color:#dc143c\">335C</p></td><td style=\"background-color:#006450;\"><p style=\"color:#dc143c\">336C</p></td><td style=\"background-color:#006a4f;\"><p style=\"color:#ff1493\">342C</p></td></tr>\n",
       "<tr><td style=\"background-color:#63c999;\"><p style=\"color:#ff1493\">346C</p></td><td style=\"background-color:#007e3b;\"><p style=\"color:#ff1493\">348C</p></td><td style=\"background-color:#009361;\"><p style=\"color:#ff1493\">340C</p></td><td style=\"background-color:#006134;\"><p style=\"color:#ff1493\">349C</p></td><td style=\"background-color:#009344;\"><p style=\"color:#ff1493\">347C</p></td><td style=\"background-color:#a7ddc2;\"><p style=\"color:#000080\">344C</p></td><td style=\"background-color:#007756;\"><p style=\"color:#ff1493\">341C</p></td><td style=\"background-color:#8cd6b1;\"><p style=\"color:#000080\">345C</p></td><td style=\"background-color:#00523e;\"><p style=\"color:#ff1493\">343C</p></td><td style=\"background-color:#6edba3;\"><p style=\"color:#c71585\">353C</p></td></tr>\n",
       "<tr><td style=\"background-color:#009232;\"><p style=\"color:#ff1493\">355C</p></td><td style=\"background-color:#144c2a;\"><p style=\"color:#ff69b4\">357C</p></td><td style=\"background-color:#aad992;\"><p style=\"color:#4b0082\">358C</p></td><td style=\"background-color:#8be0b1;\"><p style=\"color:#000080\">352C</p></td><td style=\"background-color:#00a83a;\"><p style=\"color:#ff1493\">354C</p></td><td style=\"background-color:#a5d78c;\"><p style=\"color:#4b0082\">359C</p></td><td style=\"background-color:#00712b;\"><p style=\"color:#ff1493\">356C</p></td><td style=\"background-color:#a8e4c3;\"><p style=\"color:#000080\">351C</p></td><td style=\"background-color:#1a462c;\"><p style=\"color:#ffc0cb\">350C</p></td><td style=\"background-color:#3b8729;\"><p style=\"color:#ff00ff\">363C</p></td></tr>\n",
       "<tr><td style=\"background-color:#61bd49;\"><p style=\"color:#9400d3\">360C</p></td><td style=\"background-color:#add76a;\"><p style=\"color:#00008b\">367C</p></td><td style=\"background-color:#c2df8d;\"><p style=\"color:#000080\">366C</p></td><td style=\"background-color:#39962c;\"><p style=\"color:#ff00ff\">362C</p></td><td style=\"background-color:#6fbc20;\"><p style=\"color:#9400d3\">368C</p></td><td style=\"background-color:#31ac2f;\"><p style=\"color:#ff00ff\">361C</p></td><td style=\"background-color:#d2e4a3;\"><p style=\"color:#000080\">365C</p></td><td style=\"background-color:#5ca50b;\"><p style=\"color:#ff00ff\">369C</p></td><td style=\"background-color:#397025;\"><p style=\"color:#ff00ff\">364C</p></td><td style=\"background-color:#708f00;\"><p style=\"color:#0000ff\">377C</p></td></tr>\n",
       "<tr><td style=\"background-color:#83b900;\"><p style=\"color:#0000ff\">376C</p></td><td style=\"background-color:#525913;\"><p style=\"color:#ff00ff\">378C</p></td><td style=\"background-color:#dde9a3;\"><p style=\"color:#000080\">372C</p></td><td style=\"background-color:#598916;\"><p style=\"color:#0000ff\">370C</p></td><td style=\"background-color:#93d100;\"><p style=\"color:#0000cd\">375C</p></td><td style=\"background-color:#d6e988;\"><p style=\"color:#000080\">373C</p></td><td style=\"background-color:#c4e461;\"><p style=\"color:#000080\">374C</p></td><td style=\"background-color:#4f601f;\"><p style=\"color:#ff00ff\">371C</p></td><td style=\"background-color:#e6e56f;\"><p style=\"color:#000080\">379C</p></td><td style=\"background-color:#d3db00;\"><p style=\"color:#00008b\">389C</p></td></tr>\n",
       "<tr><td style=\"background-color:#d3da0f;\"><p style=\"color:#000080\">381C</p></td><td style=\"background-color:#dcde3f;\"><p style=\"color:#000080\">380C</p></td><td style=\"background-color:#ede770;\"><p style=\"color:#000080\">386C</p></td><td style=\"background-color:#e1e100;\"><p style=\"color:#000080\">388C</p></td><td style=\"background-color:#c3d000;\"><p style=\"color:#00008b\">382C</p></td><td style=\"background-color:#736915;\"><p style=\"color:#ff00ff\">385C</p></td><td style=\"background-color:#a8a900;\"><p style=\"color:#0000cd\">383C</p></td><td style=\"background-color:#e9e63f;\"><p style=\"color:#000080\">387C</p></td><td style=\"background-color:#939000;\"><p style=\"color:#0000ff\">384C</p></td><td style=\"background-color:#c6b600;\"><p style=\"color:#0000cd\">397C</p></td></tr>\n",
       "<tr><td style=\"background-color:#a08b00;\"><p style=\"color:#0000ff\">399C</p></td><td style=\"background-color:#f3e643;\"><p style=\"color:#000080\">394C</p></td><td style=\"background-color:#b29f00;\"><p style=\"color:#0000cd\">398C</p></td><td style=\"background-color:#9b9100;\"><p style=\"color:#0000ff\">391C</p></td><td style=\"background-color:#f5eb90;\"><p style=\"color:#000080\">393C</p></td><td style=\"background-color:#baba00;\"><p style=\"color:#0000cd\">390C</p></td><td style=\"background-color:#eee100;\"><p style=\"color:#000080\">395C</p></td><td style=\"background-color:#867800;\"><p style=\"color:#0000ff\">392C</p></td><td style=\"background-color:#e7dc00;\"><p style=\"color:#000080\">396C</p></td><td style=\"background-color:#7d7369;\"><p style=\"color:#ffff00\">404C</p></td></tr>\n",
       "<tr><td style=\"background-color:#ccc5c3;\"><p style=\"color:#000080\">406C</p></td><td style=\"background-color:#ada49d;\"><p style=\"color:#000080\">402C</p></td><td style=\"background-color:#cec8c4;\"><p style=\"color:#000080\">400C</p></td><td style=\"background-color:#958682;\"><p style=\"color:#000080\">409C</p></td><td style=\"background-color:#beb8b1;\"><p style=\"color:#000080\">401C</p></td><td style=\"background-color:#998f86;\"><p style=\"color:#000080\">403C</p></td><td style=\"background-color:#a59996;\"><p style=\"color:#000080\">408C</p></td><td style=\"background-color:#655a51;\"><p style=\"color:#ffff00\">405C</p></td><td style=\"background-color:#707065;\"><p style=\"color:#ffff00\">417C</p></td><td style=\"background-color:#5a5a50;\"><p style=\"color:#ffff00\">418C</p></td></tr>\n",
       "<tr><td style=\"background-color:#9f9e97;\"><p style=\"color:#000080\">415C</p></td><td style=\"background-color:#cac9c4;\"><p style=\"color:#000080\">413C</p></td><td style=\"background-color:#86877e;\"><p style=\"color:#000080\">416C</p></td><td style=\"background-color:#61514d;\"><p style=\"color:#00ff00\">411C</p></td><td style=\"background-color:#20221d;\"><p style=\"color:#ffff00\">419C</p></td><td style=\"background-color:#b6b6b0;\"><p style=\"color:#000080\">414C</p></td><td style=\"background-color:#382b27;\"><p style=\"color:#ffff00\">412C</p></td><td style=\"background-color:#7b6c69;\"><p style=\"color:#00ff00\">410C</p></td><td style=\"background-color:#acaeae;\"><p style=\"color:#000080\">429C</p></td><td style=\"background-color:#bbbbbb;\"><p style=\"color:#000080\">421C</p></td></tr>\n",
       "<tr><td style=\"background-color:#898c8b;\"><p style=\"color:#000080\">427C</p></td><td style=\"background-color:#222424;\"><p style=\"color:#ffff00\">426C</p></td><td style=\"background-color:#787a79;\"><p style=\"color:#ffff00\">424C</p></td><td style=\"background-color:#585a59;\"><p style=\"color:#ffff00\">425C</p></td><td style=\"background-color:#cccccc;\"><p style=\"color:#000080\">420C</p></td><td style=\"background-color:#939393;\"><p style=\"color:#000080\">423C</p></td><td style=\"background-color:#c4c7c6;\"><p style=\"color:#000080\">428C</p></td><td style=\"background-color:#a8a8a8;\"><p style=\"color:#000080\">422C</p></td><td style=\"background-color:#464a49;\"><p style=\"color:#ffff00\">432C</p></td><td style=\"background-color:#252928;\"><p style=\"color:#ffff00\">433C</p></td></tr>\n",
       "<tr><td style=\"background-color:#453535;\"><p style=\"color:#00ff00\">439C</p></td><td style=\"background-color:#cababe;\"><p style=\"color:#000000\">435C</p></td><td style=\"background-color:#646968;\"><p style=\"color:#ffff00\">431C</p></td><td style=\"background-color:#856f75;\"><p style=\"color:#00ffff\">437C</p></td><td style=\"background-color:#8a8f8e;\"><p style=\"color:#000080\">430C</p></td><td style=\"background-color:#b8a7ab;\"><p style=\"color:#000000\">436C</p></td><td style=\"background-color:#d4c9cc;\"><p style=\"color:#000000\">434C</p></td><td style=\"background-color:#513d3e;\"><p style=\"color:#00ff00\">438C</p></td><td style=\"background-color:#4a3f27;\"><p style=\"color:#00ffff\">448C</p></td><td style=\"background-color:#9ba2a0;\"><p style=\"color:#000080\">443C</p></td></tr>\n",
       "<tr><td style=\"background-color:#7e8584;\"><p style=\"color:#000080\">444C</p></td><td style=\"background-color:#515655;\"><p style=\"color:#ffff00\">445C</p></td><td style=\"background-color:#b5bdbb;\"><p style=\"color:#000080\">442C</p></td><td style=\"background-color:#392e2c;\"><p style=\"color:#ffff00\">440C</p></td><td style=\"background-color:#cdd3d1;\"><p style=\"color:#000000\">441C</p></td><td style=\"background-color:#3c4140;\"><p style=\"color:#ffff00\">446C</p></td><td style=\"background-color:#504325;\"><p style=\"color:#00ffff\">449C</p></td><td style=\"background-color:#333532;\"><p style=\"color:#ffff00\">447C</p></td><td style=\"background-color:#544826;\"><p style=\"color:#00ffff\">450C</p></td><td style=\"background-color:#b7b192;\"><p style=\"color:#000080\">452C</p></td></tr>\n",
       "<tr><td style=\"background-color:#d6d2bf;\"><p style=\"color:#000080\">454C</p></td><td style=\"background-color:#9d7e0d;\"><p style=\"color:#0000cd\">456C</p></td><td style=\"background-color:#a49b76;\"><p style=\"color:#000080\">451C</p></td><td style=\"background-color:#e2c867;\"><p style=\"color:#000080\">458C</p></td><td style=\"background-color:#675215;\"><p style=\"color:#ff00ff\">455C</p></td><td style=\"background-color:#cac4ac;\"><p style=\"color:#000080\">453C</p></td><td style=\"background-color:#e6d17e;\"><p style=\"color:#000080\">459C</p></td><td style=\"background-color:#b99100;\"><p style=\"color:#0000cd\">457C</p></td><td style=\"background-color:#8a5825;\"><p style=\"color:#00ff7f\">464C</p></td><td style=\"background-color:#bd9b6b;\"><p style=\"color:#000080\">465C</p></td></tr>\n",
       "<tr><td style=\"background-color:#e1d3ba;\"><p style=\"color:#000080\">468C</p></td><td style=\"background-color:#633318;\"><p style=\"color:#00ff00\">469C</p></td><td style=\"background-color:#ceb288;\"><p style=\"color:#000080\">466C</p></td><td style=\"background-color:#ece3b6;\"><p style=\"color:#000080\">461C</p></td><td style=\"background-color:#eada97;\"><p style=\"color:#000080\">460C</p></td><td style=\"background-color:#d9c4a1;\"><p style=\"color:#000080\">467C</p></td><td style=\"background-color:#724922;\"><p style=\"color:#00ff00\">463C</p></td><td style=\"background-color:#593f24;\"><p style=\"color:#00ffff\">462C</p></td><td style=\"background-color:#bb5312;\"><p style=\"color:#00ff00\">471C</p></td><td style=\"background-color:#753729;\"><p style=\"color:#00ff00\">478C</p></td></tr>\n",
       "<tr><td style=\"background-color:#f3d0bb;\"><p style=\"color:#000080\">475C</p></td><td style=\"background-color:#523126;\"><p style=\"color:#00ff00\">476C</p></td><td style=\"background-color:#5e2d23;\"><p style=\"color:#00ff00\">477C</p></td><td style=\"background-color:#9e4c1a;\"><p style=\"color:#00ff00\">470C</p></td><td style=\"background-color:#f0b896;\"><p style=\"color:#000080\">473C</p></td><td style=\"background-color:#f3c6aa;\"><p style=\"color:#000080\">474C</p></td><td style=\"background-color:#e89869;\"><p style=\"color:#000080\">472C</p></td><td style=\"background-color:#b1806d;\"><p style=\"color:#00ff00\">479C</p></td><td style=\"background-color:#e1271e;\"><p style=\"color:#00ff00\">485C</p></td><td style=\"background-color:#a12d1f;\"><p style=\"color:#00ff00\">484C</p></td></tr>\n",
       "<tr><td style=\"background-color:#eecdc4;\"><p style=\"color:#000080\">489C</p></td><td style=\"background-color:#d5bcaf;\"><p style=\"color:#000080\">481C</p></td><td style=\"background-color:#eebbaf;\"><p style=\"color:#000080\">488C</p></td><td style=\"background-color:#cbaa9b;\"><p style=\"color:#000080\">480C</p></td><td style=\"background-color:#6b2d21;\"><p style=\"color:#00ff00\">483C</p></td><td style=\"background-color:#ef9383;\"><p style=\"color:#00ff00\">486C</p></td><td style=\"background-color:#efab9d;\"><p style=\"color:#000080\">487C</p></td><td style=\"background-color:#dfcfc5;\"><p style=\"color:#000080\">482C</p></td><td style=\"background-color:#5b2729;\"><p style=\"color:#00ff00\">490C</p></td><td style=\"background-color:#eeb9c5;\"><p style=\"color:#000000\">495C</p></td></tr>\n",
       "<tr><td style=\"background-color:#783830;\"><p style=\"color:#00ff00\">499C</p></td><td style=\"background-color:#69322e;\"><p style=\"color:#00ff00\">498C</p></td><td style=\"background-color:#e8a7b6;\"><p style=\"color:#000000\">494C</p></td><td style=\"background-color:#502a28;\"><p style=\"color:#00ff00\">497C</p></td><td style=\"background-color:#782a2d;\"><p style=\"color:#00ff00\">491C</p></td><td style=\"background-color:#efc4cd;\"><p style=\"color:#000000\">496C</p></td><td style=\"background-color:#93353a;\"><p style=\"color:#00ff00\">492C</p></td><td style=\"background-color:#e6c0c8;\"><p style=\"color:#000000\">502C</p></td><td style=\"background-color:#e9bac7;\"><p style=\"color:#000000\">509C</p></td><td style=\"background-color:#eacdd3;\"><p style=\"color:#000000\">503C</p></td></tr>\n",
       "<tr><td style=\"background-color:#e5acbc;\"><p style=\"color:#000000\">508C</p></td><td style=\"background-color:#d38ca1;\"><p style=\"color:#00ff00\">507C</p></td><td style=\"background-color:#50212a;\"><p style=\"color:#00ffff\">504C</p></td><td style=\"background-color:#c98691;\"><p style=\"color:#00ffff\">500C</p></td><td style=\"background-color:#7f2b41;\"><p style=\"color:#00ff00\">506C</p></td><td style=\"background-color:#deacb6;\"><p style=\"color:#000000\">501C</p></td><td style=\"background-color:#6f2638;\"><p style=\"color:#00ffff\">505C</p></td><td style=\"background-color:#4f2935;\"><p style=\"color:#00ffff\">518C</p></td><td style=\"background-color:#a4275b;\"><p style=\"color:#00ff00\">513C</p></td><td style=\"background-color:#66243c;\"><p style=\"color:#00ff00\">511C</p></td></tr>\n",
       "<tr><td style=\"background-color:#f1cbd5;\"><p style=\"color:#000000\">517C</p></td><td style=\"background-color:#dd839f;\"><p style=\"color:#00ff00\">514C</p></td><td style=\"background-color:#eac2cc;\"><p style=\"color:#000000\">510C</p></td><td style=\"background-color:#622c3e;\"><p style=\"color:#00ff00\">519C</p></td><td style=\"background-color:#eaa6ba;\"><p style=\"color:#00ff00\">515C</p></td><td style=\"background-color:#edb9c7;\"><p style=\"color:#000000\">516C</p></td><td style=\"background-color:#86204b;\"><p style=\"color:#00ff00\">512C</p></td><td style=\"background-color:#ba8494;\"><p style=\"color:#00ff00\">521C</p></td><td style=\"background-color:#752e48;\"><p style=\"color:#00ff00\">520C</p></td><td style=\"background-color:#d5b3bc;\"><p style=\"color:#000000\">523C</p></td></tr>\n",
       "<tr><td style=\"background-color:#d6a3b1;\"><p style=\"color:#00ff00\">529C</p></td><td style=\"background-color:#c99da9;\"><p style=\"color:#00ffff\">522C</p></td><td style=\"background-color:#e1cdd2;\"><p style=\"color:#000000\">524C</p></td><td style=\"background-color:#8b184b;\"><p style=\"color:#00ff00\">527C</p></td><td style=\"background-color:#761d41;\"><p style=\"color:#00ff00\">526C</p></td><td style=\"background-color:#be728a;\"><p style=\"color:#00ff00\">528C</p></td><td style=\"background-color:#5b2538;\"><p style=\"color:#00ff00\">525C</p></td><td style=\"background-color:#463e40;\"><p style=\"color:#00ffff\">534C</p></td><td style=\"background-color:#c6c6c6;\"><p style=\"color:#000080\">537C</p></td><td style=\"background-color:#b0b0b0;\"><p style=\"color:#000080\">536C</p></td></tr>\n",
       "<tr><td style=\"background-color:#2b292a;\"><p style=\"color:#ffff00\">532C</p></td><td style=\"background-color:#e3c4cc;\"><p style=\"color:#000000\">531C</p></td><td style=\"background-color:#a2a0a0;\"><p style=\"color:#000080\">535C</p></td><td style=\"background-color:#dcb0bc;\"><p style=\"color:#000000\">530C</p></td><td style=\"background-color:#182925;\"><p style=\"color:#ffff00\">539C</p></td><td style=\"background-color:#373133;\"><p style=\"color:#00ffff\">533C</p></td><td style=\"background-color:#d7d7d7;\"><p style=\"color:#000000\">538C</p></td><td style=\"background-color:#12342e;\"><p style=\"color:#ffff00\">546C</p></td><td style=\"background-color:#c9d4d1;\"><p style=\"color:#000000\">545C</p></td><td style=\"background-color:#6f968d;\"><p style=\"color:#800000\">549C</p></td></tr>\n",
       "<tr><td style=\"background-color:#2d3a37;\"><p style=\"color:#ffff00\">541C</p></td><td style=\"background-color:#a5b7b3;\"><p style=\"color:#000080\">543C</p></td><td style=\"background-color:#7d9690;\"><p style=\"color:#000080\">542C</p></td><td style=\"background-color:#003c34;\"><p style=\"color:#ffff00\">547C</p></td><td style=\"background-color:#004036;\"><p style=\"color:#ffc0cb\">548C</p></td><td style=\"background-color:#bcc9c6;\"><p style=\"color:#000080\">544C</p></td><td style=\"background-color:#202c2a;\"><p style=\"color:#ffff00\">540C</p></td><td style=\"background-color:#99bbad;\"><p style=\"color:#000080\">557C</p></td><td style=\"background-color:#76a28f;\"><p style=\"color:#ff1493\">556C</p></td><td style=\"background-color:#acc7bd;\"><p style=\"color:#000080\">558C</p></td></tr>\n",
       "<tr><td style=\"background-color:#92aea8;\"><p style=\"color:#000080\">550C</p></td><td style=\"background-color:#15684e;\"><p style=\"color:#ff1493\">555C</p></td><td style=\"background-color:#c0cfcc;\"><p style=\"color:#000080\">552C</p></td><td style=\"background-color:#bfd3cd;\"><p style=\"color:#000080\">559C</p></td><td style=\"background-color:#245f49;\"><p style=\"color:#ff1493\">554C</p></td><td style=\"background-color:#a9c0bb;\"><p style=\"color:#000080\">551C</p></td><td style=\"background-color:#224232;\"><p style=\"color:#ffc0cb\">553C</p></td><td style=\"background-color:#75b7aa;\"><p style=\"color:#800000\">563C</p></td><td style=\"background-color:#9acbc0;\"><p style=\"color:#000080\">564C</p></td><td style=\"background-color:#126256;\"><p style=\"color:#ffc0cb\">561C</p></td></tr>\n",
       "<tr><td style=\"background-color:#20463e;\"><p style=\"color:#ffff00\">560C</p></td><td style=\"background-color:#097567;\"><p style=\"color:#dc143c\">562C</p></td><td style=\"background-color:#18453c;\"><p style=\"color:#ffff00\">567C</p></td><td style=\"background-color:#cfe4df;\"><p style=\"color:#000000\">566C</p></td><td style=\"background-color:#bbdbd4;\"><p style=\"color:#000000\">565C</p></td><td style=\"background-color:#008371;\"><p style=\"color:#dc143c\">569C</p></td><td style=\"background-color:#5b722f;\"><p style=\"color:#ff00ff\">575C</p></td><td style=\"background-color:#b4ddd4;\"><p style=\"color:#000000\">572C</p></td><td style=\"background-color:#c1cfa0;\"><p style=\"color:#000080\">578C</p></td><td style=\"background-color:#c9d4a9;\"><p style=\"color:#000080\">579C</p></td></tr>\n",
       "<tr><td style=\"background-color:#6d8e3f;\"><p style=\"color:#0000ff\">576C</p></td><td style=\"background-color:#b7c892;\"><p style=\"color:#00008b\">577C</p></td><td style=\"background-color:#a0d7cb;\"><p style=\"color:#000080\">571C</p></td><td style=\"background-color:#7bc7b8;\"><p style=\"color:#800000\">570C</p></td><td style=\"background-color:#c0e1d9;\"><p style=\"color:#000000\">573C</p></td><td style=\"background-color:#424d24;\"><p style=\"color:#ff00ff\">574C</p></td><td style=\"background-color:#8f8600;\"><p style=\"color:#0000ff\">582C</p></td><td style=\"background-color:#e4e18c;\"><p style=\"color:#000080\">586C</p></td><td style=\"background-color:#d1dbbb;\"><p style=\"color:#000080\">580C</p></td><td style=\"background-color:#e6e39e;\"><p style=\"color:#000080\">587C</p></td></tr>\n",
       "<tr><td style=\"background-color:#655a15;\"><p style=\"color:#ff00ff\">581C</p></td><td style=\"background-color:#b5b300;\"><p style=\"color:#0000cd\">583C</p></td><td style=\"background-color:#ded86f;\"><p style=\"color:#000080\">585C</p></td><td style=\"background-color:#d4d14e;\"><p style=\"color:#00008b\">584C</p></td><td style=\"background-color:#eee7b5;\"><p style=\"color:#000080\">608C</p></td><td style=\"background-color:#f5eaa6;\"><p style=\"color:#000080\">601C</p></td><td style=\"background-color:#efe9c4;\"><p style=\"color:#000080\">607C</p></td><td style=\"background-color:#ede19a;\"><p style=\"color:#000080\">609C</p></td><td style=\"background-color:#e1bc00;\"><p style=\"color:#00008b\">606C</p></td><td style=\"background-color:#f5e160;\"><p style=\"color:#000080\">603C</p></td></tr>\n",
       "<tr><td style=\"background-color:#e9c800;\"><p style=\"color:#00008b\">605C</p></td><td style=\"background-color:#f2e9b6;\"><p style=\"color:#000080\">600C</p></td><td style=\"background-color:#f6e78e;\"><p style=\"color:#000080\">602C</p></td><td style=\"background-color:#f4db24;\"><p style=\"color:#000080\">604C</p></td><td style=\"background-color:#dfca47;\"><p style=\"color:#00008b\">611C</p></td><td style=\"background-color:#e9d874;\"><p style=\"color:#000080\">610C</p></td><td style=\"background-color:#ddd29f;\"><p style=\"color:#000080\">616C</p></td><td style=\"background-color:#ceb300;\"><p style=\"color:#00008b\">612C</p></td><td style=\"background-color:#e2dbb2;\"><p style=\"color:#000080\">615C</p></td><td style=\"background-color:#cfc27f;\"><p style=\"color:#000080\">617C</p></td></tr>\n",
       "<tr><td style=\"background-color:#bba853;\"><p style=\"color:#00008b\">618C</p></td><td style=\"background-color:#e6e0c1;\"><p style=\"color:#000080\">614C</p></td><td style=\"background-color:#ba9c00;\"><p style=\"color:#0000cd\">613C</p></td><td style=\"background-color:#a28d2c;\"><p style=\"color:#0000cd\">619C</p></td><td style=\"background-color:#8f7815;\"><p style=\"color:#0000ff\">620C</p></td><td style=\"background-color:#cce1dc;\"><p style=\"color:#000000\">628C</p></td><td style=\"background-color:#78a196;\"><p style=\"color:#800000\">624C</p></td><td style=\"background-color:#022c22;\"><p style=\"color:#ffff00\">627C</p></td><td style=\"background-color:#205748;\"><p style=\"color:#ff1493\">626C</p></td><td style=\"background-color:#b4d9d1;\"><p style=\"color:#000080\">629C</p></td></tr>\n",
       "<tr><td style=\"background-color:#9ebcb4;\"><p style=\"color:#000080\">623C</p></td><td style=\"background-color:#d2e0dd;\"><p style=\"color:#000000\">621C</p></td><td style=\"background-color:#bbd0cc;\"><p style=\"color:#000080\">622C</p></td><td style=\"background-color:#518375;\"><p style=\"color:#ff1493\">625C</p></td><td style=\"background-color:#a0d3c8;\"><p style=\"color:#000080\">636C</p></td><td style=\"background-color:#319b8a;\"><p style=\"color:#dc143c\">632C</p></td><td style=\"background-color:#b6dcd4;\"><p style=\"color:#000000\">635C</p></td><td style=\"background-color:#019785;\"><p style=\"color:#dc143c\">639C</p></td><td style=\"background-color:#6ab6a8;\"><p style=\"color:#800000\">631C</p></td><td style=\"background-color:#007a69;\"><p style=\"color:#dc143c\">633C</p></td></tr>\n",
       "<tr><td style=\"background-color:#005d4f;\"><p style=\"color:#fff0f5\">634C</p></td><td style=\"background-color:#4ab19f;\"><p style=\"color:#800000\">638C</p></td><td style=\"background-color:#7dc6b8;\"><p style=\"color:#800000\">637C</p></td><td style=\"background-color:#92c9bd;\"><p style=\"color:#000080\">630C</p></td><td style=\"background-color:#d8dada;\"><p style=\"color:#000000\">649C</p></td><td style=\"background-color:#8a9693;\"><p style=\"color:#000080\">645C</p></td><td style=\"background-color:#495552;\"><p style=\"color:#ffff00\">647C</p></td><td style=\"background-color:#006e60;\"><p style=\"color:#dc143c\">641C</p></td><td style=\"background-color:#008271;\"><p style=\"color:#dc143c\">640C</p></td><td style=\"background-color:#d3d8d7;\"><p style=\"color:#000000\">642C</p></td></tr>\n",
       "<tr><td style=\"background-color:#a6b0ae;\"><p style=\"color:#000080\">644C</p></td><td style=\"background-color:#737f7c;\"><p style=\"color:#ffff00\">646C</p></td><td style=\"background-color:#2b292a;\"><p style=\"color:#ffff00\">648C</p></td><td style=\"background-color:#cdd3d1;\"><p style=\"color:#000000\">643C</p></td><td style=\"background-color:#555555;\"><p style=\"color:#ffff00\">653C</p></td><td style=\"background-color:#352f30;\"><p style=\"color:#00ffff\">654C</p></td><td style=\"background-color:#a7acab;\"><p style=\"color:#000080\">651C</p></td><td style=\"background-color:#dbdddd;\"><p style=\"color:#000000\">656C</p></td><td style=\"background-color:#cacccc;\"><p style=\"color:#000080\">650C</p></td><td style=\"background-color:#919493;\"><p style=\"color:#000080\">659C</p></td></tr>\n",
       "<tr><td style=\"background-color:#b5bab9;\"><p style=\"color:#000080\">658C</p></td><td style=\"background-color:#888c8b;\"><p style=\"color:#000080\">652C</p></td><td style=\"background-color:#281f22;\"><p style=\"color:#00ffff\">655C</p></td><td style=\"background-color:#cbd0cf;\"><p style=\"color:#000000\">657C</p></td><td style=\"background-color:#421b28;\"><p style=\"color:#00ffff\">662C</p></td><td style=\"background-color:#dbced2;\"><p style=\"color:#000000\">664C</p></td><td style=\"background-color:#ae9199;\"><p style=\"color:#00ffff\">666C</p></td><td style=\"background-color:#724955;\"><p style=\"color:#00ffff\">668C</p></td><td style=\"background-color:#89636d;\"><p style=\"color:#00ffff\">667C</p></td><td style=\"background-color:#cbbabe;\"><p style=\"color:#000000\">665C</p></td></tr>\n",
       "<tr><td style=\"background-color:#6e696b;\"><p style=\"color:#00ffff\">660C</p></td><td style=\"background-color:#4e313a;\"><p style=\"color:#00ffff\">661C</p></td><td style=\"background-color:#e2d7da;\"><p style=\"color:#000000\">663C</p></td><td style=\"background-color:#522b37;\"><p style=\"color:#00ffff\">669C</p></td><td style=\"background-color:#e9d1d7;\"><p style=\"color:#000000\">677C</p></td><td style=\"background-color:#ba2b68;\"><p style=\"color:#00ff00\">675C</p></td><td style=\"background-color:#d5638b;\"><p style=\"color:#00ff00\">674C</p></td><td style=\"background-color:#e9a7ba;\"><p style=\"color:#00ff00\">672C</p></td><td style=\"background-color:#e7cbd2;\"><p style=\"color:#000000\">678C</p></td><td style=\"background-color:#edd4da;\"><p style=\"color:#000000\">670C</p></td></tr>\n",
       "<tr><td style=\"background-color:#e189a4;\"><p style=\"color:#00ff00\">673C</p></td><td style=\"background-color:#a40055;\"><p style=\"color:#00ff00\">676C</p></td><td style=\"background-color:#e2bdc7;\"><p style=\"color:#000000\">679C</p></td><td style=\"background-color:#ecc1cc;\"><p style=\"color:#000000\">671C</p></td><td style=\"background-color:#e4bcc7;\"><p style=\"color:#000000\">685C</p></td><td style=\"background-color:#a14867;\"><p style=\"color:#00ff00\">682C</p></td><td style=\"background-color:#bd738a;\"><p style=\"color:#00ff00\">681C</p></td><td style=\"background-color:#cc889c;\"><p style=\"color:#00ff00\">687C</p></td><td style=\"background-color:#e8cad2;\"><p style=\"color:#000000\">684C</p></td><td style=\"background-color:#d096a7;\"><p style=\"color:#00ff00\">680C</p></td></tr>\n",
       "<tr><td style=\"background-color:#7f2448;\"><p style=\"color:#00ff00\">683C</p></td><td style=\"background-color:#e0aebc;\"><p style=\"color:#000000\">686C</p></td><td style=\"background-color:#984060;\"><p style=\"color:#00ff00\">689C</p></td><td style=\"background-color:#ba6c85;\"><p style=\"color:#00ff00\">688C</p></td><td style=\"background-color:#d8a6b0;\"><p style=\"color:#000000\">693C</p></td><td style=\"background-color:#f1c3cd;\"><p style=\"color:#000000\">699C</p></td><td style=\"background-color:#e2c1c8;\"><p style=\"color:#000000\">692C</p></td><td style=\"background-color:#954553;\"><p style=\"color:#00ffff\">696C</p></td><td style=\"background-color:#b36977;\"><p style=\"color:#00ffff\">695C</p></td><td style=\"background-color:#eecfd7;\"><p style=\"color:#000000\">698C</p></td></tr>\n",
       "<tr><td style=\"background-color:#cc919c;\"><p style=\"color:#00ffff\">694C</p></td><td style=\"background-color:#83333c;\"><p style=\"color:#00ff00\">697C</p></td><td style=\"background-color:#702441;\"><p style=\"color:#00ff00\">690C</p></td><td style=\"background-color:#e8ced3;\"><p style=\"color:#000000\">691C</p></td><td style=\"background-color:#f690a5;\"><p style=\"color:#00ff00\">708C</p></td><td style=\"background-color:#a4262f;\"><p style=\"color:#00ff00\">704C</p></td><td style=\"background-color:#d6647b;\"><p style=\"color:#00ff00\">702C</p></td><td style=\"background-color:#eda9b9;\"><p style=\"color:#000000\">700C</p></td><td style=\"background-color:#f7b1c1;\"><p style=\"color:#000000\">707C</p></td><td style=\"background-color:#f26881;\"><p style=\"color:#00ff00\">709C</p></td></tr>\n",
       "<tr><td style=\"background-color:#bd3b4e;\"><p style=\"color:#00ff00\">703C</p></td><td style=\"background-color:#e88fa3;\"><p style=\"color:#00ff00\">701C</p></td><td style=\"background-color:#f6c9d5;\"><p style=\"color:#000000\">706C</p></td><td style=\"background-color:#f2d6dd;\"><p style=\"color:#000000\">705C</p></td><td style=\"background-color:#e94861;\"><p style=\"color:#00ff00\">710C</p></td><td style=\"background-color:#ffc299;\"><p style=\"color:#000080\">713C</p></td><td style=\"background-color:#fecdae;\"><p style=\"color:#000080\">712C</p></td><td style=\"background-color:#ffb17a;\"><p style=\"color:#000080\">714C</p></td><td style=\"background-color:#f1ceb7;\"><p style=\"color:#000080\">719C</p></td><td style=\"background-color:#f77b0e;\"><p style=\"color:#000080\">716C</p></td></tr>\n",
       "<tr><td style=\"background-color:#d55300;\"><p style=\"color:#00ff00\">718C</p></td><td style=\"background-color:#e46100;\"><p style=\"color:#00ff00\">717C</p></td><td style=\"background-color:#ff964b;\"><p style=\"color:#000080\">715C</p></td><td style=\"background-color:#d52937;\"><p style=\"color:#00ff00\">711C</p></td><td style=\"background-color:#893c00;\"><p style=\"color:#00ff00\">725C</p></td><td style=\"background-color:#9f4c00;\"><p style=\"color:#00ff7f\">724C</p></td><td style=\"background-color:#f0c3a5;\"><p style=\"color:#000080\">720C</p></td><td style=\"background-color:#c88f65;\"><p style=\"color:#000080\">729C</p></td><td style=\"background-color:#d9aa88;\"><p style=\"color:#000080\">728C</p></td><td style=\"background-color:#da8f59;\"><p style=\"color:#000080\">722C</p></td></tr>\n",
       "<tr><td style=\"background-color:#c5712f;\"><p style=\"color:#000080\">723C</p></td><td style=\"background-color:#ebaf87;\"><p style=\"color:#000080\">721C</p></td><td style=\"background-color:#e5bfa5;\"><p style=\"color:#000080\">727C</p></td><td style=\"background-color:#ebcfbc;\"><p style=\"color:#000080\">726C</p></td><td style=\"background-color:#7d400e;\"><p style=\"color:#00ff00\">731C</p></td><td style=\"background-color:#67310b;\"><p style=\"color:#00ff00\">732C</p></td><td style=\"background-color:#b06f3d;\"><p style=\"color:#000080\">730C</p></td><td style=\"background-color:#ff5a5e;\"><p style=\"color:#00ff00\">805C</p></td><td style=\"background-color:#6cdc49;\"><p style=\"color:#4b0082\">802C</p></td><td style=\"background-color:#ff1f91;\"><p style=\"color:#00ff00\">806C</p></td></tr>\n",
       "<tr><td style=\"background-color:#00ad92;\"><p style=\"color:#dc143c\">808C</p></td><td style=\"background-color:#e30077;\"><p style=\"color:#00ff00\">807C</p></td><td style=\"background-color:#ebe200;\"><p style=\"color:#000080\">809C</p></td><td style=\"background-color:#ffa243;\"><p style=\"color:#000080\">804C</p></td><td style=\"background-color:#e7eceb;\"><p style=\"color:#000000\">803C</p></td><td style=\"background-color:#1ba592;\"><p style=\"color:#dc143c\">801C</p></td><td style=\"background-color:#ff3a85;\"><p style=\"color:#00ff00\">812C</p></td><td style=\"background-color:#ffcc11;\"><p style=\"color:#000080\">810C</p></td><td style=\"background-color:#a45c73;\"><p style=\"color:#00ff00\">814C</p></td><td style=\"background-color:#ff7850;\"><p style=\"color:#00ff00\">811C</p></td></tr>\n",
       "<tr><td style=\"background-color:#f31082;\"><p style=\"color:#00ff00\">813C</p></td><td style=\"background-color:#f8e0a7;\"><p style=\"color:#000080\">1205C</p></td><td style=\"background-color:#fbdd93;\"><p style=\"color:#000080\">1215C</p></td><td style=\"background-color:#ffc748;\"><p style=\"color:#000080\">1225C</p></td><td style=\"background-color:#ffb100;\"><p style=\"color:#000080\">1235C</p></td><td style=\"background-color:#cc9000;\"><p style=\"color:#00008b\">1245C</p></td><td style=\"background-color:#ae7e0f;\"><p style=\"color:#0000cd\">1255C</p></td><td style=\"background-color:#8b671a;\"><p style=\"color:#0000ff\">1265C</p></td><td style=\"background-color:#ffce8e;\"><p style=\"color:#000080\">1345C</p></td><td style=\"background-color:#ffc77d;\"><p style=\"color:#000080\">1355C</p></td></tr>\n",
       "<tr><td style=\"background-color:#ffb554;\"><p style=\"color:#000080\">1365C</p></td><td style=\"background-color:#ff9a00;\"><p style=\"color:#000080\">1375C</p></td><td style=\"background-color:#dd7600;\"><p style=\"color:#000080\">1385C</p></td><td style=\"background-color:#a26009;\"><p style=\"color:#0000cd\">1395C</p></td><td style=\"background-color:#704714;\"><p style=\"color:#00ffff\">1405C</p></td><td style=\"background-color:#ffb57c;\"><p style=\"color:#000080\">1485C</p></td><td style=\"background-color:#ff953b;\"><p style=\"color:#000080\">1495C</p></td><td style=\"background-color:#ff7100;\"><p style=\"color:#000080\">1505C</p></td><td style=\"background-color:#ce4d00;\"><p style=\"color:#00ff00\">1525C</p></td><td style=\"background-color:#973f00;\"><p style=\"color:#00ff00\">1535C</p></td></tr>\n",
       "<tr><td style=\"background-color:#53260b;\"><p style=\"color:#00ff00\">1545C</p></td><td style=\"background-color:#ffbfa1;\"><p style=\"color:#000080\">1555C</p></td><td style=\"background-color:#ffa97e;\"><p style=\"color:#000080\">1565C</p></td><td style=\"background-color:#ff8541;\"><p style=\"color:#000080\">1575C</p></td><td style=\"background-color:#ff6800;\"><p style=\"color:#00ff00\">1585C</p></td><td style=\"background-color:#de5b02;\"><p style=\"color:#00ff00\">1595C</p></td><td style=\"background-color:#a64a14;\"><p style=\"color:#00ff00\">1605C</p></td><td style=\"background-color:#883c10;\"><p style=\"color:#00ff00\">1615C</p></td><td style=\"background-color:#ffa18a;\"><p style=\"color:#000080\">1625C</p></td><td style=\"background-color:#ff8e6f;\"><p style=\"color:#00ff00\">1635C</p></td></tr>\n",
       "<tr><td style=\"background-color:#ff6b3b;\"><p style=\"color:#00ff00\">1645C</p></td><td style=\"background-color:#ff5100;\"><p style=\"color:#00ff00\">1655C</p></td><td style=\"background-color:#e94800;\"><p style=\"color:#00ff00\">1665C</p></td><td style=\"background-color:#ab3b0e;\"><p style=\"color:#00ff00\">1675C</p></td><td style=\"background-color:#893615;\"><p style=\"color:#00ff00\">1685C</p></td><td style=\"background-color:#faafc1;\"><p style=\"color:#000000\">1767C</p></td><td style=\"background-color:#ff9caf;\"><p style=\"color:#00ff00\">1765C</p></td><td style=\"background-color:#ff6782;\"><p style=\"color:#00ff00\">1777C</p></td><td style=\"background-color:#ff8599;\"><p style=\"color:#00ff00\">1775C</p></td><td style=\"background-color:#fd465a;\"><p style=\"color:#00ff00\">1785C</p></td></tr>\n",
       "<tr><td style=\"background-color:#f52632;\"><p style=\"color:#00ff00\">1788C</p></td><td style=\"background-color:#fd455f;\"><p style=\"color:#00ff00\">1787C</p></td><td style=\"background-color:#d22432;\"><p style=\"color:#00ff00\">1797C</p></td><td style=\"background-color:#da1f28;\"><p style=\"color:#00ff00\">1795C</p></td><td style=\"background-color:#b4252a;\"><p style=\"color:#00ff00\">1805C</p></td><td style=\"background-color:#a3282f;\"><p style=\"color:#00ff00\">1807C</p></td><td style=\"background-color:#602728;\"><p style=\"color:#00ff00\">1817C</p></td><td style=\"background-color:#7f1d16;\"><p style=\"color:#00ff00\">1815C</p></td><td style=\"background-color:#f6bdcd;\"><p style=\"color:#000000\">1895C</p></td><td style=\"background-color:#f79bb7;\"><p style=\"color:#00ff00\">1905C</p></td></tr>\n",
       "<tr><td style=\"background-color:#f5578a;\"><p style=\"color:#00ff00\">1915C</p></td><td style=\"background-color:#e7034f;\"><p style=\"color:#00ff00\">1925C</p></td><td style=\"background-color:#ce0b46;\"><p style=\"color:#00ff00\">1935C</p></td><td style=\"background-color:#ac123e;\"><p style=\"color:#00ff00\">1945C</p></td><td style=\"background-color:#961a3c;\"><p style=\"color:#00ff00\">1955C</p></td><td style=\"background-color:#f7c4d2;\"><p style=\"color:#000000\">2365C</p></td><td style=\"background-color:#f1709d;\"><p style=\"color:#00ff00\">2375C</p></td><td style=\"background-color:#e3317f;\"><p style=\"color:#00ff00\">2385C</p></td><td style=\"background-color:#ce0066;\"><p style=\"color:#00ff00\">2395C</p></td><td style=\"background-color:#b10057;\"><p style=\"color:#00ff00\">2405C</p></td></tr>\n",
       "<tr><td style=\"background-color:#a10050;\"><p style=\"color:#00ff00\">2415C</p></td><td style=\"background-color:#880044;\"><p style=\"color:#00ff00\">2425C</p></td><td style=\"background-color:#dea3b4;\"><p style=\"color:#00ff00\">2562C</p></td><td style=\"background-color:#d59bac;\"><p style=\"color:#00ff00\">2563C</p></td><td style=\"background-color:#cc98a6;\"><p style=\"color:#00ff00\">2567C</p></td><td style=\"background-color:#ba758a;\"><p style=\"color:#00ff00\">2577C</p></td><td style=\"background-color:#c4778f;\"><p style=\"color:#00ff00\">2573C</p></td><td style=\"background-color:#d5839c;\"><p style=\"color:#00ff00\">2572C</p></td><td style=\"background-color:#ad4d6e;\"><p style=\"color:#00ff00\">2583C</p></td><td style=\"background-color:#9f4465;\"><p style=\"color:#00ff00\">2587C</p></td></tr>\n",
       "<tr><td style=\"background-color:#bd4874;\"><p style=\"color:#00ff00\">2582C</p></td><td style=\"background-color:#ab0959;\"><p style=\"color:#00ff00\">2592C</p></td><td style=\"background-color:#942854;\"><p style=\"color:#00ff00\">2593C</p></td><td style=\"background-color:#77003b;\"><p style=\"color:#00ff00\">2597C</p></td><td style=\"background-color:#93004b;\"><p style=\"color:#00ff00\">2602C</p></td><td style=\"background-color:#680032;\"><p style=\"color:#00ff00\">2607C</p></td><td style=\"background-color:#7b1341;\"><p style=\"color:#00ff00\">2603C</p></td><td style=\"background-color:#600230;\"><p style=\"color:#00ff00\">2617C</p></td><td style=\"background-color:#72133d;\"><p style=\"color:#00ff00\">2613C</p></td><td style=\"background-color:#7a1641;\"><p style=\"color:#00ff00\">2612C</p></td></tr>\n",
       "<tr><td style=\"background-color:#530d2b;\"><p style=\"color:#00ff00\">2627C</p></td><td style=\"background-color:#61243a;\"><p style=\"color:#00ff00\">2622C</p></td><td style=\"background-color:#641636;\"><p style=\"color:#00ff00\">2623C</p></td><td style=\"background-color:#d0adb6;\"><p style=\"color:#000000\">2635C</p></td><td style=\"background-color:#c1919e;\"><p style=\"color:#00ffff\">2645C</p></td><td style=\"background-color:#b17185;\"><p style=\"color:#00ff00\">2655C</p></td><td style=\"background-color:#9f4e69;\"><p style=\"color:#00ff00\">2665C</p></td><td style=\"background-color:#5a0025;\"><p style=\"color:#00ff00\">2685C</p></td><td style=\"background-color:#481a2b;\"><p style=\"color:#00ff00\">2695C</p></td><td style=\"background-color:#c2c4c4;\"><p style=\"color:#000080\">2708C</p></td></tr>\n",
       "<tr><td style=\"background-color:#b99ca3;\"><p style=\"color:#00ffff\">2705C</p></td><td style=\"background-color:#cbd0cf;\"><p style=\"color:#000000\">2707C</p></td><td style=\"background-color:#d0cbcc;\"><p style=\"color:#000080\">2706C</p></td><td style=\"background-color:#8b7b7f;\"><p style=\"color:#00ffff\">2718C</p></td><td style=\"background-color:#b7bcbb;\"><p style=\"color:#000080\">2717C</p></td><td style=\"background-color:#b09fa3;\"><p style=\"color:#000080\">2716C</p></td><td style=\"background-color:#a77e89;\"><p style=\"color:#00ffff\">2715C</p></td><td style=\"background-color:#81505f;\"><p style=\"color:#00ff00\">2726C</p></td><td style=\"background-color:#8f5064;\"><p style=\"color:#00ff00\">2725C</p></td><td style=\"background-color:#817477;\"><p style=\"color:#00ffff\">2727C</p></td></tr>\n",
       "<tr><td style=\"background-color:#6b424e;\"><p style=\"color:#00ffff\">2728C</p></td><td style=\"background-color:#600026;\"><p style=\"color:#00ff00\">2735C</p></td><td style=\"background-color:#6c163a;\"><p style=\"color:#00ff00\">2736C</p></td><td style=\"background-color:#5d002d;\"><p style=\"color:#00ff00\">2738C</p></td><td style=\"background-color:#441e2a;\"><p style=\"color:#00ffff\">2747C</p></td><td style=\"background-color:#5d1231;\"><p style=\"color:#00ff00\">2746C</p></td><td style=\"background-color:#461326;\"><p style=\"color:#00ff00\">2748C</p></td><td style=\"background-color:#4f0021;\"><p style=\"color:#00ff00\">2745C</p></td><td style=\"background-color:#44001d;\"><p style=\"color:#00ff00\">2755C</p></td><td style=\"background-color:#451928;\"><p style=\"color:#00ffff\">2756C</p></td></tr>\n",
       "<tr><td style=\"background-color:#3a1924;\"><p style=\"color:#00ffff\">2758C</p></td><td style=\"background-color:#351d24;\"><p style=\"color:#00ffff\">2757C</p></td><td style=\"background-color:#242122;\"><p style=\"color:#00ffff\">2767C</p></td><td style=\"background-color:#331a22;\"><p style=\"color:#00ffff\">2766C</p></td><td style=\"background-color:#2b1b20;\"><p style=\"color:#00ffff\">2768C</p></td><td style=\"background-color:#37051a;\"><p style=\"color:#00ffff\">2765C</p></td><td style=\"background-color:#a8c8c0;\"><p style=\"color:#000080\">2905C</p></td><td style=\"background-color:#8cb3ab;\"><p style=\"color:#800000\">2915C</p></td><td style=\"background-color:#658e86;\"><p style=\"color:#800000\">2925C</p></td><td style=\"background-color:#515655;\"><p style=\"color:#ffff00\">2935C</p></td></tr>\n",
       "<tr><td style=\"background-color:#3f4f4b;\"><p style=\"color:#ffff00\">2945C</p></td><td style=\"background-color:#253834;\"><p style=\"color:#ffff00\">2955C</p></td><td style=\"background-color:#1a302c;\"><p style=\"color:#ffff00\">2965C</p></td><td style=\"background-color:#b4d9d1;\"><p style=\"color:#000080\">2975C</p></td><td style=\"background-color:#75bbad;\"><p style=\"color:#800000\">2985C</p></td><td style=\"background-color:#489f90;\"><p style=\"color:#dc143c\">2995C</p></td><td style=\"background-color:#347267;\"><p style=\"color:#dc143c\">3005C</p></td><td style=\"background-color:#1e5e54;\"><p style=\"color:#ffc0cb\">3015C</p></td><td style=\"background-color:#05493f;\"><p style=\"color:#ffc0cb\">3025C</p></td><td style=\"background-color:#033a32;\"><p style=\"color:#ffff00\">3035C</p></td></tr>\n",
       "<tr><td style=\"background-color:#85d2c3;\"><p style=\"color:#000080\">3105C</p></td><td style=\"background-color:#54c2af;\"><p style=\"color:#800000\">3115C</p></td><td style=\"background-color:#00ab94;\"><p style=\"color:#dc143c\">3125C</p></td><td style=\"background-color:#008f78;\"><p style=\"color:#dc143c\">3135C</p></td><td style=\"background-color:#007864;\"><p style=\"color:#dc143c\">3145C</p></td><td style=\"background-color:#006454;\"><p style=\"color:#dc143c\">3155C</p></td><td style=\"background-color:#004e41;\"><p style=\"color:#fff0f5\">3165C</p></td><td style=\"background-color:#7dd0c0;\"><p style=\"color:#800000\">3248C</p></td><td style=\"background-color:#7fd9c8;\"><p style=\"color:#000080\">3242C</p></td><td style=\"background-color:#82dccb;\"><p style=\"color:#000080\">3245C</p></td></tr>\n",
       "<tr><td style=\"background-color:#47c3af;\"><p style=\"color:#800000\">3258C</p></td><td style=\"background-color:#44d3bd;\"><p style=\"color:#800000\">3255C</p></td><td style=\"background-color:#57d1bd;\"><p style=\"color:#800000\">3252C</p></td><td style=\"background-color:#00a98f;\"><p style=\"color:#dc143c\">3268C</p></td><td style=\"background-color:#00ba9f;\"><p style=\"color:#dc143c\">3262C</p></td><td style=\"background-color:#00c2a7;\"><p style=\"color:#dc143c\">3265C</p></td><td style=\"background-color:#009f82;\"><p style=\"color:#dc143c\">3272C</p></td><td style=\"background-color:#00af91;\"><p style=\"color:#dc143c\">3275C</p></td><td style=\"background-color:#00987b;\"><p style=\"color:#dc143c\">3278C</p></td><td style=\"background-color:#00836c;\"><p style=\"color:#dc143c\">3282C</p></td></tr>\n",
       "<tr><td style=\"background-color:#00937a;\"><p style=\"color:#dc143c\">3285C</p></td><td style=\"background-color:#007e65;\"><p style=\"color:#dc143c\">3288C</p></td><td style=\"background-color:#005a4a;\"><p style=\"color:#ffb6c1\">3292C</p></td><td style=\"background-color:#006652;\"><p style=\"color:#dc143c\">3298C</p></td><td style=\"background-color:#007c67;\"><p style=\"color:#dc143c\">3295C</p></td><td style=\"background-color:#004338;\"><p style=\"color:#fff0f5\">3302C</p></td><td style=\"background-color:#29453f;\"><p style=\"color:#ffff00\">3305C</p></td><td style=\"background-color:#004337;\"><p style=\"color:#ffc0cb\">3308C</p></td><td style=\"background-color:#80e0c8;\"><p style=\"color:#000080\">3375C</p></td><td style=\"background-color:#39d5b2;\"><p style=\"color:#ff1493\">3385C</p></td></tr>\n",
       "<tr><td style=\"background-color:#00c491;\"><p style=\"color:#ff1493\">3395C</p></td><td style=\"background-color:#00ae6b;\"><p style=\"color:#ff1493\">3405C</p></td><td style=\"background-color:#00764c;\"><p style=\"color:#ff1493\">3415C</p></td><td style=\"background-color:#006443;\"><p style=\"color:#ff1493\">3425C</p></td><td style=\"background-color:#004530;\"><p style=\"color:#ff69b4\">3435C</p></td><td style=\"background-color:#f9ea7c;\"><p style=\"color:#000080\">3935C</p></td><td style=\"background-color:#fae500;\"><p style=\"color:#000080\">3945C</p></td><td style=\"background-color:#f6df00;\"><p style=\"color:#000080\">3955C</p></td><td style=\"background-color:#f5dc00;\"><p style=\"color:#000080\">3965C</p></td><td style=\"background-color:#c4a700;\"><p style=\"color:#0000cd\">3975C</p></td></tr>\n",
       "<tr><td style=\"background-color:#a18700;\"><p style=\"color:#0000ff\">3985C</p></td><td style=\"background-color:#6e5a09;\"><p style=\"color:#ff00ff\">3995C</p></td><td style=\"background-color:#614719;\"><p style=\"color:#00ffff\">4485C</p></td><td style=\"background-color:#876c2b;\"><p style=\"color:#0000ff\">4495C</p></td><td style=\"background-color:#a1894a;\"><p style=\"color:#00008b\">4505C</p></td><td style=\"background-color:#b9a46f;\"><p style=\"color:#000080\">4515C</p></td><td style=\"background-color:#caba8f;\"><p style=\"color:#000080\">4525C</p></td><td style=\"background-color:#d8cbaa;\"><p style=\"color:#000080\">4535C</p></td><td style=\"background-color:#e2dac3;\"><p style=\"color:#000080\">4545C</p></td><td style=\"background-color:#4e2514;\"><p style=\"color:#00ff00\">4625C</p></td></tr>\n",
       "<tr><td style=\"background-color:#945a33;\"><p style=\"color:#00ff00\">4635C</p></td><td style=\"background-color:#b67f5d;\"><p style=\"color:#000080\">4645C</p></td><td style=\"background-color:#c39477;\"><p style=\"color:#000080\">4655C</p></td><td style=\"background-color:#d5ae97;\"><p style=\"color:#000080\">4665C</p></td><td style=\"background-color:#dfc1af;\"><p style=\"color:#000080\">4675C</p></td><td style=\"background-color:#e5d1c4;\"><p style=\"color:#000080\">4685C</p></td><td style=\"background-color:#542821;\"><p style=\"color:#00ff00\">4695C</p></td><td style=\"background-color:#814b3d;\"><p style=\"color:#00ff00\">4705C</p></td><td style=\"background-color:#9e6e5f;\"><p style=\"color:#00ff00\">4715C</p></td><td style=\"background-color:#b58d7f;\"><p style=\"color:#000080\">4725C</p></td></tr>\n",
       "<tr><td style=\"background-color:#c7aaa1;\"><p style=\"color:#000080\">4735C</p></td><td style=\"background-color:#d6bfb7;\"><p style=\"color:#000080\">4745C</p></td><td style=\"background-color:#dfcec8;\"><p style=\"color:#000080\">4755C</p></td><td style=\"background-color:#451e1f;\"><p style=\"color:#00ff00\">4975C</p></td><td style=\"background-color:#864b50;\"><p style=\"color:#00ff00\">4985C</p></td><td style=\"background-color:#a36a72;\"><p style=\"color:#00ffff\">4995C</p></td><td style=\"background-color:#b7838a;\"><p style=\"color:#00ffff\">5005C</p></td><td style=\"background-color:#d2a9b0;\"><p style=\"color:#000000\">5015C</p></td><td style=\"background-color:#dcbcc0;\"><p style=\"color:#000000\">5025C</p></td><td style=\"background-color:#e4ccd0;\"><p style=\"color:#000000\">5035C</p></td></tr>\n",
       "<tr><td style=\"background-color:#4f2633;\"><p style=\"color:#00ffff\">5115C</p></td><td style=\"background-color:#774253;\"><p style=\"color:#00ff00\">5125C</p></td><td style=\"background-color:#8d5d6b;\"><p style=\"color:#00ff00\">5135C</p></td><td style=\"background-color:#a77e89;\"><p style=\"color:#00ffff\">5145C</p></td><td style=\"background-color:#c6a6ae;\"><p style=\"color:#000000\">5155C</p></td><td style=\"background-color:#d8c4c9;\"><p style=\"color:#000000\">5165C</p></td><td style=\"background-color:#e1d4d7;\"><p style=\"color:#000000\">5175C</p></td><td style=\"background-color:#482933;\"><p style=\"color:#00ffff\">5185C</p></td><td style=\"background-color:#603945;\"><p style=\"color:#00ffff\">5195C</p></td><td style=\"background-color:#8e6872;\"><p style=\"color:#00ffff\">5205C</p></td></tr>\n",
       "<tr><td style=\"background-color:#b5969e;\"><p style=\"color:#00ffff\">5215C</p></td><td style=\"background-color:#c9b0b6;\"><p style=\"color:#000000\">5225C</p></td><td style=\"background-color:#d7c5c9;\"><p style=\"color:#000000\">5235C</p></td><td style=\"background-color:#e1d4d7;\"><p style=\"color:#000000\">5245C</p></td><td style=\"background-color:#39242a;\"><p style=\"color:#00ffff\">5255C</p></td><td style=\"background-color:#523940;\"><p style=\"color:#00ffff\">5265C</p></td><td style=\"background-color:#675257;\"><p style=\"color:#00ffff\">5275C</p></td><td style=\"background-color:#908084;\"><p style=\"color:#00ffff\">5285C</p></td><td style=\"background-color:#b2a5a9;\"><p style=\"color:#000080\">5295C</p></td><td style=\"background-color:#c9bec1;\"><p style=\"color:#000080\">5305C</p></td></tr>\n",
       "<tr><td style=\"background-color:#d8d3d4;\"><p style=\"color:#000000\">5315C</p></td><td style=\"background-color:#182421;\"><p style=\"color:#ffff00\">5395C</p></td><td style=\"background-color:#4f625e;\"><p style=\"color:#ffff00\">5405C</p></td><td style=\"background-color:#677874;\"><p style=\"color:#ffff00\">5415C</p></td><td style=\"background-color:#889693;\"><p style=\"color:#000080\">5425C</p></td><td style=\"background-color:#aeb8b6;\"><p style=\"color:#000080\">5435C</p></td><td style=\"background-color:#c0c8c6;\"><p style=\"color:#000080\">5445C</p></td><td style=\"background-color:#d0d5d4;\"><p style=\"color:#000000\">5455C</p></td><td style=\"background-color:#1a3530;\"><p style=\"color:#ffff00\">5467C</p></td><td style=\"background-color:#042721;\"><p style=\"color:#ffff00\">5463C</p></td></tr>\n",
       "<tr><td style=\"background-color:#3e5a54;\"><p style=\"color:#ffff00\">5477C</p></td><td style=\"background-color:#216156;\"><p style=\"color:#ffc0cb\">5473C</p></td><td style=\"background-color:#647c77;\"><p style=\"color:#ffff00\">5487C</p></td><td style=\"background-color:#5b8d83;\"><p style=\"color:#dc143c\">5483C</p></td><td style=\"background-color:#89ada5;\"><p style=\"color:#800000\">5493C</p></td><td style=\"background-color:#8d9f9b;\"><p style=\"color:#000080\">5497C</p></td><td style=\"background-color:#a5c1bb;\"><p style=\"color:#000080\">5503C</p></td><td style=\"background-color:#acb9b6;\"><p style=\"color:#000080\">5507C</p></td><td style=\"background-color:#c3d6d1;\"><p style=\"color:#000000\">5513C</p></td><td style=\"background-color:#c1cbc9;\"><p style=\"color:#000080\">5517C</p></td></tr>\n",
       "<tr><td style=\"background-color:#cbd3d1;\"><p style=\"color:#000000\">5527C</p></td><td style=\"background-color:#d0ddda;\"><p style=\"color:#000000\">5523C</p></td><td style=\"background-color:#1c3a31;\"><p style=\"color:#ffff00\">5535C</p></td><td style=\"background-color:#4a6d62;\"><p style=\"color:#ff1493\">5545C</p></td><td style=\"background-color:#6e8d82;\"><p style=\"color:#ff1493\">5555C</p></td><td style=\"background-color:#90a8a1;\"><p style=\"color:#000080\">5565C</p></td><td style=\"background-color:#a9bdb7;\"><p style=\"color:#000080\">5575C</p></td><td style=\"background-color:#c0cfcc;\"><p style=\"color:#000080\">5585C</p></td><td style=\"background-color:#d2dcda;\"><p style=\"color:#000000\">5595C</p></td><td style=\"background-color:#1a3126;\"><p style=\"color:#ffff00\">5605C</p></td></tr>\n",
       "<tr><td style=\"background-color:#5b6f60;\"><p style=\"color:#ff1493\">5615C</p></td><td style=\"background-color:#6d8173;\"><p style=\"color:#ff1493\">5625C</p></td><td style=\"background-color:#99a79c;\"><p style=\"color:#000080\">5635C</p></td><td style=\"background-color:#b0bbb5;\"><p style=\"color:#000080\">5645C</p></td><td style=\"background-color:#bdc6c0;\"><p style=\"color:#000080\">5655C</p></td><td style=\"background-color:#cdd3ce;\"><p style=\"color:#000080\">5665C</p></td><td style=\"background-color:#434516;\"><p style=\"color:#ff00ff\">5747C</p></td><td style=\"background-color:#414825;\"><p style=\"color:#ff00ff\">5743C</p></td><td style=\"background-color:#62663b;\"><p style=\"color:#ff00ff\">5753C</p></td><td style=\"background-color:#74722e;\"><p style=\"color:#0000ff\">5757C</p></td></tr>\n",
       "<tr><td style=\"background-color:#717549;\"><p style=\"color:#0000ff\">5763C</p></td><td style=\"background-color:#939151;\"><p style=\"color:#0000cd\">5767C</p></td><td style=\"background-color:#979872;\"><p style=\"color:#00008b\">5773C</p></td><td style=\"background-color:#adab75;\"><p style=\"color:#00008b\">5777C</p></td><td style=\"background-color:#afb091;\"><p style=\"color:#000080\">5783C</p></td><td style=\"background-color:#c5c39a;\"><p style=\"color:#000080\">5787C</p></td><td style=\"background-color:#c1c3ab;\"><p style=\"color:#000080\">5793C</p></td><td style=\"background-color:#d1d1b2;\"><p style=\"color:#000080\">5797C</p></td><td style=\"background-color:#d1d3c1;\"><p style=\"color:#000080\">5803C</p></td><td style=\"background-color:#dbdbc5;\"><p style=\"color:#000080\">5807C</p></td></tr>\n",
       "<tr><td style=\"background-color:#4e4417;\"><p style=\"color:#ff00ff\">5815C</p></td><td style=\"background-color:#827530;\"><p style=\"color:#0000ff\">5825C</p></td><td style=\"background-color:#a29755;\"><p style=\"color:#00008b\">5835C</p></td><td style=\"background-color:#b1a76b;\"><p style=\"color:#00008b\">5845C</p></td><td style=\"background-color:#cac296;\"><p style=\"color:#000080\">5855C</p></td><td style=\"background-color:#d7cfad;\"><p style=\"color:#000080\">5865C</p></td><td style=\"background-color:#dad5b8;\"><p style=\"color:#000080\">5875C</p></td></tr>\n",
       "</table>\n"
      ],
      "text/plain": [
       "Table(len=91,titles=[],data=[[<p style=\"color:#0000cd\">103C</p>, <p style=\"color:#0000ff\">105C</p>, <p style=\"color:#000080\">109C</p>, <p style=\"color:#000080\">100C</p>, <p style=\"color:#000080\">108C</p>, <p style=\"color:#000080\">102C</p>, <p style=\"color:#0000cd\">104C</p>, <p style=\"color:#000080\">101C</p>, <p style=\"color:#000080\">106C</p>, <p style=\"color:#000080\">107C</p>], [<p style=\"color:#00008b\">110C</p>, <p style=\"color:#00008b\">117C</p>, <p style=\"color:#0000cd\">118C</p>, <p style=\"color:#000080\">114C</p>, <p style=\"color:#0000cd\">112C</p>, <p style=\"color:#000080\">113C</p>, <p style=\"color:#0000ff\">119C</p>, <p style=\"color:#000080\">115C</p>, <p style=\"color:#0000cd\">111C</p>, <p style=\"color:#000080\">116C</p>], [<p style=\"color:#00008b\">125C</p>, <p style=\"color:#000080\">129C</p>, <p style=\"color:#000080\">120C</p>, <p style=\"color:#000080\">127C</p>, <p style=\"color:#00008b\">124C</p>, <p style=\"color:#000080\">121C</p>, <p style=\"color:#000080\">123C</p>, <p style=\"color:#000080\">128C</p>, <p style=\"color:#0000cd\">126C</p>, <p style=\"color:#000080\">122C</p>], [<p style=\"color:#00008b\">131C</p>, <p style=\"color:#000080\">137C</p>, <p style=\"color:#ff00ff\">133C</p>, <p style=\"color:#000080\">134C</p>, <p style=\"color:#000080\">138C</p>, <p style=\"color:#000080\">136C</p>, <p style=\"color:#00008b\">139C</p>, <p style=\"color:#000080\">135C</p>, <p style=\"color:#0000cd\">132C</p>, <p style=\"color:#00008b\">130C</p>], [<p style=\"color:#000080\">144C</p>, <p style=\"color:#000080\">148C</p>, <p style=\"color:#000080\">142C</p>, <p style=\"color:#000080\">145C</p>, <p style=\"color:#000080\">141C</p>, <p style=\"color:#000080\">149C</p>, <p style=\"color:#0000cd\">146C</p>, <p style=\"color:#ff00ff\">140C</p>, <p style=\"color:#ff00ff\">147C</p>, <p style=\"color:#000080\">143C</p>]])"
      ]
     },
     "execution_count": 15,
     "metadata": {},
     "output_type": "execute_result"
    }
   ],
   "source": [
    "from Goulib.table import Table, Cell\n",
    "from Goulib.itertools2 import reshape\n",
    "\n",
    "t=[]\n",
    "for id in sorted(pantone,key=lambda c:int(c[:-2])):\n",
    "    c=pantone[id]\n",
    "    c2=nearest_color(c,opt=max) #most different standard color\n",
    "    c2._name=id\n",
    "    s=html(c2)\n",
    "    t.append(Cell(s,style={'background-color':c.hex}))\n",
    "Table(reshape(t,(0,10)))"
   ]
  }
 ],
 "metadata": {
  "kernelspec": {
   "display_name": "Python 3",
   "language": "python",
   "name": "python3"
  },
  "language_info": {
   "codemirror_mode": {
    "name": "ipython",
    "version": 3
   },
   "file_extension": ".py",
   "mimetype": "text/x-python",
   "name": "python",
   "nbconvert_exporter": "python",
   "pygments_lexer": "ipython3",
   "version": "3.5.1"
  }
 },
 "nbformat": 4,
 "nbformat_minor": 0
}
