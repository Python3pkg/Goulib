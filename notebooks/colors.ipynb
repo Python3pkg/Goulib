{
 "cells": [
  {
   "cell_type": "markdown",
   "metadata": {},
   "source": [
    "# [Goulib](../notebook.ipynb).colors\n",
    "very simple (RGB) color management\n"
   ]
  },
  {
   "cell_type": "code",
   "execution_count": 1,
   "metadata": {
    "collapsed": false
   },
   "outputs": [
    {
     "data": {
      "application/javascript": [
       "IPython.OutputArea.auto_scroll_threshold = 9999;"
      ],
      "text/plain": [
       "<IPython.core.display.Javascript object>"
      ]
     },
     "metadata": {},
     "output_type": "display_data"
    }
   ],
   "source": [
    "%%javascript\n",
    "IPython.OutputArea.auto_scroll_threshold = 9999;"
   ]
  },
  {
   "cell_type": "code",
   "execution_count": 2,
   "metadata": {
    "collapsed": false
   },
   "outputs": [],
   "source": [
    "from Goulib.notebook import *\n",
    "from Goulib.colors import *"
   ]
  },
  {
   "cell_type": "code",
   "execution_count": 3,
   "metadata": {
    "collapsed": false
   },
   "outputs": [
    {
     "data": {
      "text/html": [
       "#0000ff blue"
      ],
      "text/plain": [
       "<IPython.core.display.HTML object>"
      ]
     },
     "metadata": {},
     "output_type": "display_data"
    }
   ],
   "source": [
    "c=color['blue'] # color is a dict of most used colors indexed by name\n",
    "h(c, color_lookup[c]) # reversed dict to retrieve color name by hex string"
   ]
  },
  {
   "cell_type": "code",
   "execution_count": 4,
   "metadata": {
    "collapsed": false
   },
   "outputs": [
    {
     "data": {
      "text/html": [
       "<div style=\"color:#0000ff\">blue</div>"
      ],
      "text/plain": [
       "Color('blue')"
      ]
     },
     "execution_count": 4,
     "metadata": {},
     "output_type": "execute_result"
    }
   ],
   "source": [
    "red=Color('red') #Color objects can be init'ed by name,\n",
    "green=Color('#00ff00') # by RGB hex string,\n",
    "blue=Color((0,0,1)) #or by RGB triplet\n",
    "blue # Color objects have an HTML representation"
   ]
  },
  {
   "cell_type": "code",
   "execution_count": 5,
   "metadata": {
    "collapsed": false
   },
   "outputs": [
    {
     "data": {
      "text/html": [
       "magenta #ff00ff 1.0 0.0 1.0"
      ],
      "text/plain": [
       "<IPython.core.display.HTML object>"
      ]
     },
     "metadata": {},
     "output_type": "display_data"
    },
    {
     "data": {
      "text/html": [
       "<div style=\"color:#ff00ff\">magenta</div>"
      ],
      "text/plain": [
       "Color('magenta')"
      ]
     },
     "execution_count": 5,
     "metadata": {},
     "output_type": "execute_result"
    }
   ],
   "source": [
    "#colors can be added\n",
    "cyan=blue+green\n",
    "magenta=blue+red\n",
    "yellow=red+green\n",
    "\n",
    "h(magenta.name, magenta.hex, magenta.rgb) # see ? the color name of the sum is correct too !\n",
    "magenta"
   ]
  },
  {
   "cell_type": "code",
   "execution_count": 6,
   "metadata": {
    "collapsed": false
   },
   "outputs": [
    {
     "data": {
      "text/html": [
       "<div style=\"color:#000000\">black</div>"
      ],
      "text/plain": [
       "Color('black')"
      ]
     },
     "execution_count": 6,
     "metadata": {},
     "output_type": "execute_result"
    }
   ],
   "source": [
    "magenta-cyan-yellow #and colors can be substracted too"
   ]
  },
  {
   "cell_type": "code",
   "execution_count": 7,
   "metadata": {
    "collapsed": false
   },
   "outputs": [
    {
     "data": {
      "text/html": [
       "teal #008080 -0.498039215686 0.501960784314 0.501960784314"
      ],
      "text/plain": [
       "<IPython.core.display.HTML object>"
      ]
     },
     "metadata": {},
     "output_type": "display_data"
    },
    {
     "data": {
      "text/html": [
       "<div style=\"color:#008080\">teal</div>"
      ],
      "text/plain": [
       "Color('teal')"
      ]
     },
     "execution_count": 7,
     "metadata": {},
     "output_type": "execute_result"
    }
   ],
   "source": [
    "c= Color('gray')-red # colors can be substracted too. RGB values might go off bounds, but hex is bounded\n",
    "h(c.name, c.hex, c.rgb) # see ? the color name of the sum is correct too !\n",
    "c"
   ]
  },
  {
   "cell_type": "code",
   "execution_count": 8,
   "metadata": {
    "collapsed": false
   },
   "outputs": [
    {
     "data": {
      "text/html": [
       "<div style=\"color:#de8cce\">~plum</div> <div style=\"color:#59a5c3\">~cadetblue</div> <div style=\"color:#41d2c2\">~mediumturquoise</div> <div style=\"color:#982d27\">~brown</div> <div style=\"color:#c5a921\">~goldenrod</div> <div style=\"color:#9c8185\">~grey</div> <div style=\"color:#67e803\">~lawngreen</div> <div style=\"color:#264225\">~darkslategray</div> <div style=\"color:#86b09d\">~darkseagreen</div> <div style=\"color:#1deb33\">~limegreen</div>"
      ],
      "text/plain": [
       "<IPython.core.display.HTML object>"
      ]
     },
     "metadata": {},
     "output_type": "display_data"
    }
   ],
   "source": [
    "from random import random\n",
    "r=[Color((random(),random(),random())) for _ in range(10)]\n",
    "h(r) # unknown colors recieve name of the nearest known color with a tile before"
   ]
  },
  {
   "cell_type": "code",
   "execution_count": 9,
   "metadata": {
    "collapsed": false
   },
   "outputs": [
    {
     "data": {
      "text/html": [
       "<div style=\"color:#ff0000\">red</div> <div style=\"color:#ffff00\">yellow</div> <div style=\"color:#00ff00\">lime</div> <div style=\"color:#00ffff\">aqua</div> <div style=\"color:#0000ff\">blue</div>"
      ],
      "text/plain": [
       "<IPython.core.display.HTML object>"
      ]
     },
     "metadata": {},
     "output_type": "display_data"
    }
   ],
   "source": [
    "h(map(Color,color_range(5,'red','blue')))"
   ]
  },
  {
   "cell_type": "markdown",
   "metadata": {},
   "source": [
    "## Pantone colors\n",
    "colors from [Pantone](http://www.pantone.com/) are handled as RGB for now..."
   ]
  },
  {
   "cell_type": "code",
   "execution_count": 10,
   "metadata": {
    "collapsed": false
   },
   "outputs": [
    {
     "data": {
      "text/html": [
       "<table><tr><td style=\"background-color:#f3ed86;\">100C</td><td style=\"background-color:#f5ec62;\">101C</td><td style=\"background-color:#fae600;\">102C</td><td style=\"background-color:#caad00;\">103C</td><td style=\"background-color:#ac9600;\">104C</td><td style=\"background-color:#817214;\">105C</td><td style=\"background-color:#f6e761;\">106C</td><td style=\"background-color:#fae22f;\">107C</td><td style=\"background-color:#fedb00;\">108C</td><td style=\"background-color:#ffd100;\">109C</td></tr>\n",
       "<tr><td style=\"background-color:#dbae00;\">110C</td><td style=\"background-color:#af8f00;\">111C</td><td style=\"background-color:#998000;\">112C</td><td style=\"background-color:#fae15a;\">113C</td><td style=\"background-color:#fae051;\">114C</td><td style=\"background-color:#fbde4a;\">115C</td><td style=\"background-color:#ffce00;\">116C</td><td style=\"background-color:#ce9d00;\">117C</td><td style=\"background-color:#b38a00;\">118C</td><td style=\"background-color:#8a761a;\">119C</td></tr>\n",
       "<tr><td style=\"background-color:#f3e2a7;\">1205C</td><td style=\"background-color:#f9df79;\">120C</td><td style=\"background-color:#f5dd92;\">1215C</td><td style=\"background-color:#fbdb6e;\">121C</td><td style=\"background-color:#fdc745;\">1225C</td><td style=\"background-color:#fdd44f;\">122C</td><td style=\"background-color:#ffb300;\">1235C</td><td style=\"background-color:#ffc726;\">123C</td><td style=\"background-color:#c69200;\">1245C</td><td style=\"background-color:#ebab00;\">124C</td></tr>\n",
       "<tr><td style=\"background-color:#aa800e;\">1255C</td><td style=\"background-color:#bb8900;\">125C</td><td style=\"background-color:#836514;\">1265C</td><td style=\"background-color:#a17c00;\">126C</td><td style=\"background-color:#efdf85;\">127C</td><td style=\"background-color:#f2d65e;\">128C</td><td style=\"background-color:#f1cd44;\">129C</td><td style=\"background-color:#f1ab00;\">130C</td><td style=\"background-color:#d49100;\">131C</td><td style=\"background-color:#a67a00;\">132C</td></tr>\n",
       "<tr><td style=\"background-color:#715913;\">133C</td><td style=\"background-color:#fbcf8d;\">1345C</td><td style=\"background-color:#f8d583;\">134C</td><td style=\"background-color:#fdc87d;\">1355C</td><td style=\"background-color:#fec85a;\">135C</td><td style=\"background-color:#ffb754;\">1365C</td><td style=\"background-color:#ffbc3a;\">136C</td><td style=\"background-color:#ff9a00;\">1375C</td><td style=\"background-color:#ff9f00;\">137C</td><td style=\"background-color:#d67500;\">1385C</td></tr>\n",
       "<tr><td style=\"background-color:#e47f00;\">138C</td><td style=\"background-color:#9e6209;\">1395C</td><td style=\"background-color:#b67100;\">139C</td><td style=\"background-color:#6c4713;\">1405C</td><td style=\"background-color:#7a560f;\">140C</td><td style=\"background-color:#efc868;\">141C</td><td style=\"background-color:#f1bb46;\">142C</td><td style=\"background-color:#efaa23;\">143C</td><td style=\"background-color:#ed8000;\">144C</td><td style=\"background-color:#cf7600;\">145C</td></tr>\n",
       "<tr><td style=\"background-color:#9f6000;\">146C</td><td style=\"background-color:#715821;\">147C</td><td style=\"background-color:#ffb57b;\">1485C</td><td style=\"background-color:#fbd09d;\">148C</td><td style=\"background-color:#ff963b;\">1495C</td><td style=\"background-color:#fec688;\">149C</td><td style=\"background-color:#ff7200;\">1505C</td><td style=\"background-color:#ffa94f;\">150C</td><td style=\"background-color:#ff7300;\">151C</td><td style=\"background-color:#ca4e00;\">1525C</td></tr>\n",
       "<tr><td style=\"background-color:#e76f00;\">152C</td><td style=\"background-color:#933f00;\">1535C</td><td style=\"background-color:#c06600;\">153C</td><td style=\"background-color:#51260b;\">1545C</td><td style=\"background-color:#995409;\">154C</td><td style=\"background-color:#ffbfa0;\">1555C</td><td style=\"background-color:#ecd6af;\">155C</td><td style=\"background-color:#ffa97d;\">1565C</td><td style=\"background-color:#efc18a;\">156C</td><td style=\"background-color:#ff8642;\">1575C</td></tr>\n",
       "<tr><td style=\"background-color:#ed9b4f;\">157C</td><td style=\"background-color:#ff6900;\">1585C</td><td style=\"background-color:#e96b10;\">158C</td><td style=\"background-color:#da5c05;\">1595C</td><td style=\"background-color:#cd5806;\">159C</td><td style=\"background-color:#a24a13;\">1605C</td><td style=\"background-color:#a24e12;\">160C</td><td style=\"background-color:#853c10;\">1615C</td><td style=\"background-color:#613517;\">161C</td><td style=\"background-color:#ffa28b;\">1625C</td></tr>\n",
       "<tr><td style=\"background-color:#fdc3aa;\">162C</td><td style=\"background-color:#ff8e70;\">1635C</td><td style=\"background-color:#ff9c71;\">163C</td><td style=\"background-color:#ff6c3b;\">1645C</td><td style=\"background-color:#ff7e43;\">164C</td><td style=\"background-color:#ff5200;\">1655C</td><td style=\"background-color:#ff5f00;\">165C</td><td style=\"background-color:#e54800;\">1665C</td><td style=\"background-color:#e55300;\">166C</td><td style=\"background-color:#a83c0f;\">1675C</td></tr>\n",
       "<tr><td style=\"background-color:#c2510f;\">167C</td><td style=\"background-color:#863514;\">1685C</td><td style=\"background-color:#6f3014;\">168C</td><td style=\"background-color:#ffb6b1;\">169C</td><td style=\"background-color:#ff897b;\">170C</td><td style=\"background-color:#ff6141;\">171C</td><td style=\"background-color:#fd4703;\">172C</td><td style=\"background-color:#d84519;\">173C</td><td style=\"background-color:#9a3416;\">174C</td><td style=\"background-color:#703222;\">175C</td></tr>\n",
       "<tr><td style=\"background-color:#fe9db0;\">1765C</td><td style=\"background-color:#faafc2;\">1767C</td><td style=\"background-color:#ffacb9;\">176C</td><td style=\"background-color:#ff859a;\">1775C</td><td style=\"background-color:#fb6581;\">1777C</td><td style=\"background-color:#ff818c;\">177C</td><td style=\"background-color:#f9455b;\">1785C</td><td style=\"background-color:#f9425f;\">1787C</td><td style=\"background-color:#f02233;\">1788C</td><td style=\"background-color:#ff5b60;\">178C</td></tr>\n",
       "<tr><td style=\"background-color:#d81f2a;\">1795C</td><td style=\"background-color:#d02433;\">1797C</td><td style=\"background-color:#e23828;\">179C</td><td style=\"background-color:#b0232a;\">1805C</td><td style=\"background-color:#a12830;\">1807C</td><td style=\"background-color:#c0362c;\">180C</td><td style=\"background-color:#7c211e;\">1815C</td><td style=\"background-color:#5e2728;\">1817C</td><td style=\"background-color:#792720;\">181C</td><td style=\"background-color:#f8b8cb;\">182C</td></tr>\n",
       "<tr><td style=\"background-color:#fc8da9;\">183C</td><td style=\"background-color:#f85d7e;\">184C</td><td style=\"background-color:#ea0437;\">185C</td><td style=\"background-color:#d21034;\">186C</td><td style=\"background-color:#b31b34;\">187C</td><td style=\"background-color:#7c2230;\">188C</td><td style=\"background-color:#f3bcd4;\">1895C</td><td style=\"background-color:#f8a1be;\">189C</td><td style=\"background-color:#f59bbd;\">1905C</td><td style=\"background-color:#f8779e;\">190C</td></tr>\n",
       "<tr><td style=\"background-color:#f2558a;\">1915C</td><td style=\"background-color:#f23f72;\">191C</td><td style=\"background-color:#e40050;\">1925C</td><td style=\"background-color:#e90649;\">192C</td><td style=\"background-color:#cb0447;\">1935C</td><td style=\"background-color:#c30c3e;\">193C</td><td style=\"background-color:#aa113f;\">1945C</td><td style=\"background-color:#9c1e3d;\">194C</td><td style=\"background-color:#93173b;\">1955C</td><td style=\"background-color:#ebc6d3;\">196C</td></tr>\n",
       "<tr><td style=\"background-color:#eb9bb2;\">197C</td><td style=\"background-color:#e44d6f;\">198C</td><td style=\"background-color:#db0c41;\">199C</td><td style=\"background-color:#c10435;\">200C</td><td style=\"background-color:#9e1b34;\">201C</td><td style=\"background-color:#892034;\">202C</td><td style=\"background-color:#ebadcd;\">203C</td><td style=\"background-color:#e87bac;\">204C</td><td style=\"background-color:#e34585;\">205C</td><td style=\"background-color:#d7004d;\">206C</td></tr>\n",
       "<tr><td style=\"background-color:#b10042;\">207C</td><td style=\"background-color:#902147;\">208C</td><td style=\"background-color:#752641;\">209C</td><td style=\"background-color:#fa9fcc;\">210C</td><td style=\"background-color:#f97db8;\">211C</td><td style=\"background-color:#f34e9a;\">212C</td><td style=\"background-color:#e61577;\">213C</td><td style=\"background-color:#d00063;\">214C</td><td style=\"background-color:#aa1054;\">215C</td><td style=\"background-color:#7a1d42;\">216C</td></tr>\n",
       "<tr><td style=\"background-color:#ecbbdd;\">217C</td><td style=\"background-color:#e86fb8;\">218C</td><td style=\"background-color:#e0218a;\">219C</td><td style=\"background-color:#ae0055;\">220C</td><td style=\"background-color:#96004b;\">221C</td><td style=\"background-color:#6c193f;\">222C</td><td style=\"background-color:#f293d1;\">223C</td><td style=\"background-color:#ef6abf;\">224C</td><td style=\"background-color:#e5239d;\">225C</td><td style=\"background-color:#d60077;\">226C</td></tr>\n",
       "<tr><td style=\"background-color:#ae005f;\">227C</td><td style=\"background-color:#8a0753;\">228C</td><td style=\"background-color:#6a1d44;\">229C</td><td style=\"background-color:#f7a7db;\">230C</td><td style=\"background-color:#f575c9;\">231C</td><td style=\"background-color:#ef40b0;\">232C</td><td style=\"background-color:#c90081;\">233C</td><td style=\"background-color:#a6006b;\">234C</td><td style=\"background-color:#890857;\">235C</td><td style=\"background-color:#efc3e4;\">2365C</td></tr>\n",
       "<tr><td style=\"background-color:#f2b0df;\">236C</td><td style=\"background-color:#e270cd;\">2375C</td><td style=\"background-color:#ee86d3;\">237C</td><td style=\"background-color:#d733b4;\">2385C</td><td style=\"background-color:#e653bc;\">238C</td><td style=\"background-color:#c40098;\">2395C</td><td style=\"background-color:#e032af;\">239C</td><td style=\"background-color:#a70084;\">2405C</td><td style=\"background-color:#c41e99;\">240C</td><td style=\"background-color:#970076;\">2415C</td></tr>\n",
       "<tr><td style=\"background-color:#ac0481;\">241C</td><td style=\"background-color:#820063;\">2425C</td><td style=\"background-color:#7a1a57;\">242C</td><td style=\"background-color:#e8b7e5;\">243C</td><td style=\"background-color:#e6a2e0;\">244C</td><td style=\"background-color:#df81d6;\">245C</td><td style=\"background-color:#c70bac;\">246C</td><td style=\"background-color:#b3009d;\">247C</td><td style=\"background-color:#9e0389;\">248C</td><td style=\"background-color:#7b2266;\">249C</td></tr>\n",
       "<tr><td style=\"background-color:#e3c0e6;\">250C</td><td style=\"background-color:#d99ce1;\">251C</td><td style=\"background-color:#ca65d1;\">252C</td><td style=\"background-color:#a91bb0;\">253C</td><td style=\"background-color:#962399;\">254C</td><td style=\"background-color:#70266c;\">255C</td><td style=\"background-color:#cfa5e4;\">2562C</td><td style=\"background-color:#c79dd8;\">2563C</td><td style=\"background-color:#bb99da;\">2567C</td><td style=\"background-color:#d9bfe0;\">256C</td></tr>\n",
       "<tr><td style=\"background-color:#c084dc;\">2572C</td><td style=\"background-color:#b279c8;\">2573C</td><td style=\"background-color:#a276cc;\">2577C</td><td style=\"background-color:#cba4d4;\">257C</td><td style=\"background-color:#a24cc8;\">2582C</td><td style=\"background-color:#9950b2;\">2583C</td><td style=\"background-color:#8348b5;\">2587C</td><td style=\"background-color:#92499e;\">258C</td><td style=\"background-color:#9016b2;\">2592C</td><td style=\"background-color:#7e2b97;\">2593C</td></tr>\n",
       "<tr><td style=\"background-color:#59058d;\">2597C</td><td style=\"background-color:#6c1b72;\">259C</td><td style=\"background-color:#7d0996;\">2602C</td><td style=\"background-color:#68177f;\">2603C</td><td style=\"background-color:#4f027c;\">2607C</td><td style=\"background-color:#5f1d5f;\">260C</td><td style=\"background-color:#6a1a7a;\">2612C</td><td style=\"background-color:#611774;\">2613C</td><td style=\"background-color:#4b0b71;\">2617C</td><td style=\"background-color:#591e55;\">261C</td></tr>\n",
       "<tr><td style=\"background-color:#572458;\">2622C</td><td style=\"background-color:#581963;\">2623C</td><td style=\"background-color:#43125f;\">2627C</td><td style=\"background-color:#4f2248;\">262C</td><td style=\"background-color:#bfafe4;\">2635C</td><td style=\"background-color:#d8cbeb;\">263C</td><td style=\"background-color:#aa94de;\">2645C</td><td style=\"background-color:#bca8e6;\">264C</td><td style=\"background-color:#9173d3;\">2655C</td><td style=\"background-color:#8d65d2;\">265C</td></tr>\n",
       "<tr><td style=\"background-color:#7a52c7;\">2665C</td><td style=\"background-color:#6732ba;\">266C</td><td style=\"background-color:#4f1f91;\">267C</td><td style=\"background-color:#3b0084;\">2685C</td><td style=\"background-color:#4a217e;\">268C</td><td style=\"background-color:#381d59;\">2695C</td><td style=\"background-color:#452663;\">269C</td><td style=\"background-color:#a29fe0;\">2705C</td><td style=\"background-color:#c4cbea;\">2706C</td><td style=\"background-color:#bdd0ee;\">2707C</td></tr>\n",
       "<tr><td style=\"background-color:#b1c5ea;\">2708C</td><td style=\"background-color:#adacdc;\">270C</td><td style=\"background-color:#8580d8;\">2715C</td><td style=\"background-color:#94a1e2;\">2716C</td><td style=\"background-color:#a1bdea;\">2717C</td><td style=\"background-color:#547ed9;\">2718C</td><td style=\"background-color:#9490d2;\">271C</td><td style=\"background-color:#5e53c7;\">2725C</td><td style=\"background-color:#4555c7;\">2726C</td><td style=\"background-color:#3878db;\">2727C</td></tr>\n",
       "<tr><td style=\"background-color:#0047be;\">2728C</td><td style=\"background-color:#7973c2;\">272C</td><td style=\"background-color:#280092;\">2735C</td><td style=\"background-color:#1e22ae;\">2736C</td><td style=\"background-color:#00129d;\">2738C</td><td style=\"background-color:#25177a;\">273C</td><td style=\"background-color:#22007a;\">2745C</td><td style=\"background-color:#1a1c96;\">2746C</td><td style=\"background-color:#00237e;\">2747C</td><td style=\"background-color:#001a7b;\">2748C</td></tr>\n",
       "<tr><td style=\"background-color:#211265;\">274C</td><td style=\"background-color:#1b0069;\">2755C</td><td style=\"background-color:#151d71;\">2756C</td><td style=\"background-color:#002065;\">2757C</td><td style=\"background-color:#001d68;\">2758C</td><td style=\"background-color:#1d1157;\">275C</td><td style=\"background-color:#1b0c55;\">2765C</td><td style=\"background-color:#151c55;\">2766C</td><td style=\"background-color:#0b2345;\">2767C</td><td style=\"background-color:#031e51;\">2768C</td></tr>\n",
       "<tr><td style=\"background-color:#241a44;\">276C</td><td style=\"background-color:#a9c7ec;\">277C</td><td style=\"background-color:#8cb4e8;\">278C</td><td style=\"background-color:#4189dd;\">279C</td><td style=\"background-color:#00267f;\">280C</td><td style=\"background-color:#002569;\">281C</td><td style=\"background-color:#00204e;\">282C</td><td style=\"background-color:#93bfeb;\">283C</td><td style=\"background-color:#6cabe7;\">284C</td><td style=\"background-color:#0077d4;\">285C</td></tr>\n",
       "<tr><td style=\"background-color:#0035ad;\">286C</td><td style=\"background-color:#003798;\">287C</td><td style=\"background-color:#003082;\">288C</td><td style=\"background-color:#00234c;\">289C</td><td style=\"background-color:#92c9eb;\">2905C</td><td style=\"background-color:#bed9ed;\">290C</td><td style=\"background-color:#62b4e8;\">2915C</td><td style=\"background-color:#a4ceec;\">291C</td><td style=\"background-color:#0092dd;\">2925C</td><td style=\"background-color:#6ab2e7;\">292C</td></tr>\n",
       "<tr><td style=\"background-color:#005bc3;\">2935C</td><td style=\"background-color:#0047b6;\">293C</td><td style=\"background-color:#0053a5;\">2945C</td><td style=\"background-color:#003580;\">294C</td><td style=\"background-color:#003b6f;\">2955C</td><td style=\"background-color:#002d62;\">295C</td><td style=\"background-color:#003151;\">2965C</td><td style=\"background-color:#002740;\">296C</td><td style=\"background-color:#a5d9ec;\">2975C</td><td style=\"background-color:#78c7eb;\">297C</td></tr>\n",
       "<tr><td style=\"background-color:#40bde8;\">2985C</td><td style=\"background-color:#42b4e6;\">298C</td><td style=\"background-color:#00a2e1;\">2995C</td><td style=\"background-color:#00a0e2;\">299C</td><td style=\"background-color:#0076cc;\">3005C</td><td style=\"background-color:#0067c6;\">300C</td><td style=\"background-color:#0060a1;\">3015C</td><td style=\"background-color:#00529b;\">301C</td><td style=\"background-color:#00496e;\">3025C</td><td style=\"background-color:#00436e;\">302C</td></tr>\n",
       "<tr><td style=\"background-color:#003a4f;\">3035C</td><td style=\"background-color:#00344d;\">303C</td><td style=\"background-color:#a2dbeb;\">304C</td><td style=\"background-color:#53caeb;\">305C</td><td style=\"background-color:#00b5e6;\">306C</td><td style=\"background-color:#0070b2;\">307C</td><td style=\"background-color:#005883;\">308C</td><td style=\"background-color:#003947;\">309C</td><td style=\"background-color:#6fd2e4;\">3105C</td><td style=\"background-color:#66cfe6;\">310C</td></tr>\n",
       "<tr><td style=\"background-color:#00c4dc;\">3115C</td><td style=\"background-color:#00c2e3;\">311C</td><td style=\"background-color:#00aece;\">3125C</td><td style=\"background-color:#00a7d4;\">312C</td><td style=\"background-color:#0092ba;\">3135C</td><td style=\"background-color:#0092c7;\">313C</td><td style=\"background-color:#007a97;\">3145C</td><td style=\"background-color:#007fac;\">314C</td><td style=\"background-color:#00667c;\">3155C</td><td style=\"background-color:#006685;\">315C</td></tr>\n",
       "<tr><td style=\"background-color:#004f5d;\">3165C</td><td style=\"background-color:#004650;\">316C</td><td style=\"background-color:#bfe5ea;\">317C</td><td style=\"background-color:#8edbe5;\">318C</td><td style=\"background-color:#36ccda;\">319C</td><td style=\"background-color:#0097ac;\">320C</td><td style=\"background-color:#008193;\">321C</td><td style=\"background-color:#006f7a;\">322C</td><td style=\"background-color:#006068;\">323C</td><td style=\"background-color:#75d9d8;\">3242C</td></tr>\n",
       "<tr><td style=\"background-color:#7bddd8;\">3245C</td><td style=\"background-color:#7bd2c8;\">3248C</td><td style=\"background-color:#98d9db;\">324C</td><td style=\"background-color:#41d2d2;\">3252C</td><td style=\"background-color:#32d4cb;\">3255C</td><td style=\"background-color:#43c4b7;\">3258C</td><td style=\"background-color:#47c7c7;\">325C</td><td style=\"background-color:#00bab9;\">3262C</td><td style=\"background-color:#00c2b6;\">3265C</td><td style=\"background-color:#00a994;\">3268C</td></tr>\n",
       "<tr><td style=\"background-color:#00afad;\">326C</td><td style=\"background-color:#00a19c;\">3272C</td><td style=\"background-color:#00b09d;\">3275C</td><td style=\"background-color:#00997a;\">3278C</td><td style=\"background-color:#008579;\">327C</td><td style=\"background-color:#008480;\">3282C</td><td style=\"background-color:#009384;\">3285C</td><td style=\"background-color:#007e64;\">3288C</td><td style=\"background-color:#007168;\">328C</td><td style=\"background-color:#005a53;\">3292C</td></tr>\n",
       "<tr><td style=\"background-color:#007c6f;\">3295C</td><td style=\"background-color:#006752;\">3298C</td><td style=\"background-color:#00625a;\">329C</td><td style=\"background-color:#00423c;\">3302C</td><td style=\"background-color:#004a41;\">3305C</td><td style=\"background-color:#004236;\">3308C</td><td style=\"background-color:#00524d;\">330C</td><td style=\"background-color:#b2e7df;\">331C</td><td style=\"background-color:#9fe4db;\">332C</td><td style=\"background-color:#43d9c7;\">333C</td></tr>\n",
       "<tr><td style=\"background-color:#009878;\">334C</td><td style=\"background-color:#007b63;\">335C</td><td style=\"background-color:#006651;\">336C</td><td style=\"background-color:#81e0c7;\">3375C</td><td style=\"background-color:#94d8c8;\">337C</td><td style=\"background-color:#3bd6b2;\">3385C</td><td style=\"background-color:#76d1bd;\">338C</td><td style=\"background-color:#00c590;\">3395C</td><td style=\"background-color:#00b08b;\">339C</td><td style=\"background-color:#00ae68;\">3405C</td></tr>\n",
       "<tr><td style=\"background-color:#009460;\">340C</td><td style=\"background-color:#00774b;\">3415C</td><td style=\"background-color:#007856;\">341C</td><td style=\"background-color:#006644;\">3425C</td><td style=\"background-color:#006a4e;\">342C</td><td style=\"background-color:#004731;\">3435C</td><td style=\"background-color:#00533e;\">343C</td><td style=\"background-color:#a6dec1;\">344C</td><td style=\"background-color:#89d5af;\">345C</td><td style=\"background-color:#5ec998;\">346C</td></tr>\n",
       "<tr><td style=\"background-color:#009543;\">347C</td><td style=\"background-color:#007e3a;\">348C</td><td style=\"background-color:#006233;\">349C</td><td style=\"background-color:#18472c;\">350C</td><td style=\"background-color:#a7e6c4;\">351C</td><td style=\"background-color:#87e0b0;\">352C</td><td style=\"background-color:#6adca2;\">353C</td><td style=\"background-color:#00ab39;\">354C</td><td style=\"background-color:#009530;\">355C</td><td style=\"background-color:#007229;\">356C</td></tr>\n",
       "<tr><td style=\"background-color:#0f4d2a;\">357C</td><td style=\"background-color:#a5db92;\">358C</td><td style=\"background-color:#9fd98b;\">359C</td><td style=\"background-color:#55be47;\">360C</td><td style=\"background-color:#12ad2b;\">361C</td><td style=\"background-color:#289728;\">362C</td><td style=\"background-color:#2f8927;\">363C</td><td style=\"background-color:#317023;\">364C</td><td style=\"background-color:#cce5a2;\">365C</td><td style=\"background-color:#bce18d;\">366C</td></tr>\n",
       "<tr><td style=\"background-color:#a4d867;\">367C</td><td style=\"background-color:#62bd19;\">368C</td><td style=\"background-color:#4fa600;\">369C</td><td style=\"background-color:#4f8a10;\">370C</td><td style=\"background-color:#4a601c;\">371C</td><td style=\"background-color:#d7e9a1;\">372C</td><td style=\"background-color:#cde985;\">373C</td><td style=\"background-color:#bae55f;\">374C</td><td style=\"background-color:#87d300;\">375C</td><td style=\"background-color:#76b900;\">376C</td></tr>\n",
       "<tr><td style=\"background-color:#679000;\">377C</td><td style=\"background-color:#4d5a12;\">378C</td><td style=\"background-color:#dde56c;\">379C</td><td style=\"background-color:#d3e13c;\">380C</td><td style=\"background-color:#c8db00;\">381C</td><td style=\"background-color:#b9d300;\">382C</td><td style=\"background-color:#9faa00;\">383C</td><td style=\"background-color:#8b9000;\">384C</td><td style=\"background-color:#6e6a12;\">385C</td><td style=\"background-color:#e5e96e;\">386C</td></tr>\n",
       "<tr><td style=\"background-color:#dee63a;\">387C</td><td style=\"background-color:#d7e300;\">388C</td><td style=\"background-color:#c6db00;\">389C</td><td style=\"background-color:#b2bc00;\">390C</td><td style=\"background-color:#959200;\">391C</td><td style=\"background-color:#7f7800;\">392C</td><td style=\"background-color:#f0eb7a;\">3935C</td><td style=\"background-color:#edeb8f;\">393C</td><td style=\"background-color:#efe600;\">3945C</td><td style=\"background-color:#e9e73f;\">394C</td></tr>\n",
       "<tr><td style=\"background-color:#ece100;\">3955C</td><td style=\"background-color:#e4e400;\">395C</td><td style=\"background-color:#e9dc00;\">3965C</td><td style=\"background-color:#dddf00;\">396C</td><td style=\"background-color:#bba800;\">3975C</td><td style=\"background-color:#beb800;\">397C</td><td style=\"background-color:#9b8900;\">3985C</td><td style=\"background-color:#aba200;\">398C</td><td style=\"background-color:#6a5b07;\">3995C</td><td style=\"background-color:#998d00;\">399C</td></tr>\n",
       "<tr><td style=\"background-color:#cdc9c4;\">400C</td><td style=\"background-color:#bdb8b1;\">401C</td><td style=\"background-color:#ada59d;\">402C</td><td style=\"background-color:#988f86;\">403C</td><td style=\"background-color:#7c7369;\">404C</td><td style=\"background-color:#645a50;\">405C</td><td style=\"background-color:#cac4c2;\">406C</td><td style=\"background-color:#a59997;\">408C</td><td style=\"background-color:#948683;\">409C</td><td style=\"background-color:#7b6e6a;\">410C</td></tr>\n",
       "<tr><td style=\"background-color:#62524e;\">411C</td><td style=\"background-color:#372b27;\">412C</td><td style=\"background-color:#c8c9c3;\">413C</td><td style=\"background-color:#b5b6b0;\">414C</td><td style=\"background-color:#9d9d96;\">415C</td><td style=\"background-color:#87887f;\">416C</td><td style=\"background-color:#6e6f64;\">417C</td><td style=\"background-color:#5a5b51;\">418C</td><td style=\"background-color:#1f211c;\">419C</td><td style=\"background-color:#cccccc;\">420C</td></tr>\n",
       "<tr><td style=\"background-color:#babbbc;\">421C</td><td style=\"background-color:#a9aaab;\">422C</td><td style=\"background-color:#939495;\">423C</td><td style=\"background-color:#767a7d;\">424C</td><td style=\"background-color:#56595c;\">425C</td><td style=\"background-color:#212424;\">426C</td><td style=\"background-color:#d2d6d9;\">427C</td><td style=\"background-color:#c3c8cd;\">428C</td><td style=\"background-color:#a8adb4;\">429C</td><td style=\"background-color:#868f98;\">430C</td></tr>\n",
       "<tr><td style=\"background-color:#616a74;\">431C</td><td style=\"background-color:#414b56;\">432C</td><td style=\"background-color:#212930;\">433C</td><td style=\"background-color:#d3c9ce;\">434C</td><td style=\"background-color:#c8bac0;\">435C</td><td style=\"background-color:#b7a6ad;\">436C</td><td style=\"background-color:#846e74;\">437C</td><td style=\"background-color:#513e3e;\">438C</td><td style=\"background-color:#443535;\">439C</td><td style=\"background-color:#392e2c;\">440C</td></tr>\n",
       "<tr><td style=\"background-color:#cbd1d4;\">441C</td><td style=\"background-color:#b3bcc0;\">442C</td><td style=\"background-color:#99a3a6;\">443C</td><td style=\"background-color:#7b858a;\">444C</td><td style=\"background-color:#4f5559;\">445C</td><td style=\"background-color:#3d4242;\">446C</td><td style=\"background-color:#323532;\">447C</td><td style=\"background-color:#5d4718;\">4485C</td><td style=\"background-color:#473e26;\">448C</td><td style=\"background-color:#836e2c;\">4495C</td></tr>\n",
       "<tr><td style=\"background-color:#4d4325;\">449C</td><td style=\"background-color:#9b8948;\">4505C</td><td style=\"background-color:#514826;\">450C</td><td style=\"background-color:#b5a570;\">4515C</td><td style=\"background-color:#9f9b74;\">451C</td><td style=\"background-color:#c5ba8e;\">4525C</td><td style=\"background-color:#b5b292;\">452C</td><td style=\"background-color:#d4ccaa;\">4535C</td><td style=\"background-color:#c8c5ac;\">453C</td><td style=\"background-color:#ded9c2;\">4545C</td></tr>\n",
       "<tr><td style=\"background-color:#d5d3bf;\">454C</td><td style=\"background-color:#655415;\">455C</td><td style=\"background-color:#977f09;\">456C</td><td style=\"background-color:#b29200;\">457C</td><td style=\"background-color:#dbca67;\">458C</td><td style=\"background-color:#dfd27c;\">459C</td><td style=\"background-color:#e5db97;\">460C</td><td style=\"background-color:#e7e3b5;\">461C</td><td style=\"background-color:#4e2614;\">4625C</td><td style=\"background-color:#563f23;\">462C</td></tr>\n",
       "<tr><td style=\"background-color:#905a33;\">4635C</td><td style=\"background-color:#6d4921;\">463C</td><td style=\"background-color:#b17f5c;\">4645C</td><td style=\"background-color:#855723;\">464C</td><td style=\"background-color:#c09477;\">4655C</td><td style=\"background-color:#b99c6b;\">465C</td><td style=\"background-color:#d1ae97;\">4665C</td><td style=\"background-color:#cab388;\">466C</td><td style=\"background-color:#ddc2b0;\">4675C</td><td style=\"background-color:#d5c4a1;\">467C</td></tr>\n",
       "<tr><td style=\"background-color:#e4d2c5;\">4685C</td><td style=\"background-color:#e0d4bb;\">468C</td><td style=\"background-color:#532821;\">4695C</td><td style=\"background-color:#613418;\">469C</td><td style=\"background-color:#7f4c3e;\">4705C</td><td style=\"background-color:#9b4d1b;\">470C</td><td style=\"background-color:#9b6e5f;\">4715C</td><td style=\"background-color:#b75312;\">471C</td><td style=\"background-color:#b28d7f;\">4725C</td><td style=\"background-color:#e49969;\">472C</td></tr>\n",
       "<tr><td style=\"background-color:#c5aaa0;\">4735C</td><td style=\"background-color:#edb996;\">473C</td><td style=\"background-color:#d4beb6;\">4745C</td><td style=\"background-color:#eec5a9;\">474C</td><td style=\"background-color:#ddcdc7;\">4755C</td><td style=\"background-color:#f0d0bb;\">475C</td><td style=\"background-color:#513127;\">476C</td><td style=\"background-color:#5e2f24;\">477C</td><td style=\"background-color:#723629;\">478C</td><td style=\"background-color:#ad806c;\">479C</td></tr>\n",
       "<tr><td style=\"background-color:#c8a99a;\">480C</td><td style=\"background-color:#d5bdb0;\">481C</td><td style=\"background-color:#ddcec4;\">482C</td><td style=\"background-color:#6a2e22;\">483C</td><td style=\"background-color:#9f2d20;\">484C</td><td style=\"background-color:#dc241f;\">485C</td><td style=\"background-color:#ec9384;\">486C</td><td style=\"background-color:#ecab9d;\">487C</td><td style=\"background-color:#ecbbaf;\">488C</td><td style=\"background-color:#ebcdc3;\">489C</td></tr>\n",
       "<tr><td style=\"background-color:#5a272a;\">490C</td><td style=\"background-color:#772b2f;\">491C</td><td style=\"background-color:#91353b;\">492C</td><td style=\"background-color:#e7a7b6;\">494C</td><td style=\"background-color:#edb8c5;\">495C</td><td style=\"background-color:#efc4ce;\">496C</td><td style=\"background-color:#441e1f;\">4975C</td><td style=\"background-color:#4e2a28;\">497C</td><td style=\"background-color:#854a50;\">4985C</td><td style=\"background-color:#68322e;\">498C</td></tr>\n",
       "<tr><td style=\"background-color:#a16971;\">4995C</td><td style=\"background-color:#763931;\">499C</td><td style=\"background-color:#b7848c;\">5005C</td><td style=\"background-color:#c88691;\">500C</td><td style=\"background-color:#d1a9b0;\">5015C</td><td style=\"background-color:#deacb7;\">501C</td><td style=\"background-color:#dbbcc1;\">5025C</td><td style=\"background-color:#e5bfc7;\">502C</td><td style=\"background-color:#e3cbd0;\">5035C</td><td style=\"background-color:#e9ccd2;\">503C</td></tr>\n",
       "<tr><td style=\"background-color:#4e2029;\">504C</td><td style=\"background-color:#6e2639;\">505C</td><td style=\"background-color:#7e2b42;\">506C</td><td style=\"background-color:#d38da6;\">507C</td><td style=\"background-color:#e2abbf;\">508C</td><td style=\"background-color:#e7b9ca;\">509C</td><td style=\"background-color:#e9c2d1;\">510C</td><td style=\"background-color:#4b253e;\">5115C</td><td style=\"background-color:#60244e;\">511C</td><td style=\"background-color:#704165;\">5125C</td></tr>\n",
       "<tr><td style=\"background-color:#7e2271;\">512C</td><td style=\"background-color:#885e80;\">5135C</td><td style=\"background-color:#95288f;\">513C</td><td style=\"background-color:#a17e9a;\">5145C</td><td style=\"background-color:#d385c8;\">514C</td><td style=\"background-color:#c0a6bd;\">5155C</td><td style=\"background-color:#dfa5d6;\">515C</td><td style=\"background-color:#d6c5d3;\">5165C</td><td style=\"background-color:#e7badf;\">516C</td><td style=\"background-color:#e0d5de;\">5175C</td></tr>\n",
       "<tr><td style=\"background-color:#ebcae3;\">517C</td><td style=\"background-color:#45293b;\">5185C</td><td style=\"background-color:#4b2a46;\">518C</td><td style=\"background-color:#5e3a51;\">5195C</td><td style=\"background-color:#5a2d5f;\">519C</td><td style=\"background-color:#8b687d;\">5205C</td><td style=\"background-color:#682f73;\">520C</td><td style=\"background-color:#b195a6;\">5215C</td><td style=\"background-color:#ad85ba;\">521C</td><td style=\"background-color:#c6b0be;\">5225C</td></tr>\n",
       "<tr><td style=\"background-color:#bd9eca;\">522C</td><td style=\"background-color:#d4c4ce;\">5235C</td><td style=\"background-color:#cbb2d5;\">523C</td><td style=\"background-color:#dfd4db;\">5245C</td><td style=\"background-color:#dacce1;\">524C</td><td style=\"background-color:#2a254b;\">5255C</td><td style=\"background-color:#51265a;\">525C</td><td style=\"background-color:#433b67;\">5265C</td><td style=\"background-color:#61207f;\">526C</td><td style=\"background-color:#57527e;\">5275C</td></tr>\n",
       "<tr><td style=\"background-color:#6e20a0;\">527C</td><td style=\"background-color:#8581a4;\">5285C</td><td style=\"background-color:#a774cd;\">528C</td><td style=\"background-color:#aaa7c1;\">5295C</td><td style=\"background-color:#c6a4e1;\">529C</td><td style=\"background-color:#c1bed1;\">5305C</td><td style=\"background-color:#cfb1e3;\">530C</td><td style=\"background-color:#d4d4e0;\">5315C</td><td style=\"background-color:#d7c4e7;\">531C</td><td style=\"background-color:#262a39;\">532C</td></tr>\n",
       "<tr><td style=\"background-color:#253355;\">533C</td><td style=\"background-color:#293f6f;\">534C</td><td style=\"background-color:#95a1c3;\">535C</td><td style=\"background-color:#a4b1cd;\">536C</td><td style=\"background-color:#bdc6da;\">537C</td><td style=\"background-color:#d2d7e4;\">538C</td><td style=\"background-color:#02253a;\">5395C</td><td style=\"background-color:#002a46;\">539C</td><td style=\"background-color:#3e647e;\">5405C</td><td style=\"background-color:#002f5d;\">540C</td></tr>\n",
       "<tr><td style=\"background-color:#587993;\">5415C</td><td style=\"background-color:#003c79;\">541C</td><td style=\"background-color:#7c98ae;\">5425C</td><td style=\"background-color:#5998c9;\">542C</td><td style=\"background-color:#a5b8c9;\">5435C</td><td style=\"background-color:#93b9dc;\">543C</td><td style=\"background-color:#bccad6;\">5445C</td><td style=\"background-color:#b1cbe5;\">544C</td><td style=\"background-color:#ccd6e0;\">5455C</td><td style=\"background-color:#bfd3e6;\">545C</td></tr>\n",
       "<tr><td style=\"background-color:#002830;\">5463C</td><td style=\"background-color:#183533;\">5467C</td><td style=\"background-color:#003440;\">546C</td><td style=\"background-color:#00626e;\">5473C</td><td style=\"background-color:#3c5b59;\">5477C</td><td style=\"background-color:#003e51;\">547C</td><td style=\"background-color:#4f8d97;\">5483C</td><td style=\"background-color:#627d7c;\">5487C</td><td style=\"background-color:#004159;\">548C</td><td style=\"background-color:#81adb5;\">5493C</td></tr>\n",
       "<tr><td style=\"background-color:#8da09f;\">5497C</td><td style=\"background-color:#5b97b1;\">549C</td><td style=\"background-color:#a1c3c9;\">5503C</td><td style=\"background-color:#aab8b9;\">5507C</td><td style=\"background-color:#85b0c6;\">550C</td><td style=\"background-color:#bed5d9;\">5513C</td><td style=\"background-color:#bfcbcc;\">5517C</td><td style=\"background-color:#9fc1d3;\">551C</td><td style=\"background-color:#cfdee1;\">5523C</td><td style=\"background-color:#ccd4d4;\">5527C</td></tr>\n",
       "<tr><td style=\"background-color:#b9d0dc;\">552C</td><td style=\"background-color:#1b3930;\">5535C</td><td style=\"background-color:#214232;\">553C</td><td style=\"background-color:#4a6d62;\">5545C</td><td style=\"background-color:#24604a;\">554C</td><td style=\"background-color:#6e8d82;\">5555C</td><td style=\"background-color:#13694e;\">555C</td><td style=\"background-color:#8fa8a0;\">5565C</td><td style=\"background-color:#74a18e;\">556C</td><td style=\"background-color:#a9bdb6;\">5575C</td></tr>\n",
       "<tr><td style=\"background-color:#98baac;\">557C</td><td style=\"background-color:#c0cfcb;\">5585C</td><td style=\"background-color:#acc7bd;\">558C</td><td style=\"background-color:#d3dedb;\">5595C</td><td style=\"background-color:#c0d4cd;\">559C</td><td style=\"background-color:#193025;\">5605C</td><td style=\"background-color:#22483f;\">560C</td><td style=\"background-color:#5a7060;\">5615C</td><td style=\"background-color:#0f6259;\">561C</td><td style=\"background-color:#6c8072;\">5625C</td></tr>\n",
       "<tr><td style=\"background-color:#007770;\">562C</td><td style=\"background-color:#97a69b;\">5635C</td><td style=\"background-color:#72b8b4;\">563C</td><td style=\"background-color:#b1bcb5;\">5645C</td><td style=\"background-color:#98ccc9;\">564C</td><td style=\"background-color:#bdc5bf;\">5655C</td><td style=\"background-color:#b9dcda;\">565C</td><td style=\"background-color:#cdd3cd;\">5665C</td><td style=\"background-color:#cde3e2;\">566C</td><td style=\"background-color:#18453b;\">567C</td></tr>\n",
       "<tr><td style=\"background-color:#008478;\">569C</td><td style=\"background-color:#76c6be;\">570C</td><td style=\"background-color:#9dd6cf;\">571C</td><td style=\"background-color:#b4dedb;\">572C</td><td style=\"background-color:#c1e2de;\">573C</td><td style=\"background-color:#3e4723;\">5743C</td><td style=\"background-color:#404616;\">5747C</td><td style=\"background-color:#404f24;\">574C</td><td style=\"background-color:#5e6639;\">5753C</td><td style=\"background-color:#6f732d;\">5757C</td></tr>\n",
       "<tr><td style=\"background-color:#56732e;\">575C</td><td style=\"background-color:#6e7649;\">5763C</td><td style=\"background-color:#8d9150;\">5767C</td><td style=\"background-color:#668e3c;\">576C</td><td style=\"background-color:#939871;\">5773C</td><td style=\"background-color:#a7ab74;\">5777C</td><td style=\"background-color:#b2c891;\">577C</td><td style=\"background-color:#adb291;\">5783C</td><td style=\"background-color:#c1c49a;\">5787C</td><td style=\"background-color:#bdd0a0;\">578C</td></tr>\n",
       "<tr><td style=\"background-color:#bdc2a9;\">5793C</td><td style=\"background-color:#ced1b3;\">5797C</td><td style=\"background-color:#c5d5a9;\">579C</td><td style=\"background-color:#ced2bf;\">5803C</td><td style=\"background-color:#d9dcc5;\">5807C</td><td style=\"background-color:#cfddbb;\">580C</td><td style=\"background-color:#4b4516;\">5815C</td><td style=\"background-color:#605a12;\">581C</td><td style=\"background-color:#7d762f;\">5825C</td><td style=\"background-color:#888600;\">582C</td></tr>\n",
       "<tr><td style=\"background-color:#9d9754;\">5835C</td><td style=\"background-color:#abb400;\">583C</td><td style=\"background-color:#ada86b;\">5845C</td><td style=\"background-color:#cbd34c;\">584C</td><td style=\"background-color:#c7c397;\">5855C</td><td style=\"background-color:#d8db6f;\">585C</td><td style=\"background-color:#d3cfac;\">5865C</td><td style=\"background-color:#dde18a;\">586C</td><td style=\"background-color:#d9d7b9;\">5875C</td><td style=\"background-color:#e2e59f;\">587C</td></tr>\n",
       "<tr><td style=\"background-color:#eeebb6;\">600C</td><td style=\"background-color:#eeeaa5;\">601C</td><td style=\"background-color:#eee88d;\">602C</td><td style=\"background-color:#ede25e;\">603C</td><td style=\"background-color:#eadb1b;\">604C</td><td style=\"background-color:#e0ca00;\">605C</td><td style=\"background-color:#d8bd00;\">606C</td><td style=\"background-color:#ebe9c3;\">607C</td><td style=\"background-color:#e9e6b4;\">608C</td><td style=\"background-color:#e7e29a;\">609C</td></tr>\n",
       "<tr><td style=\"background-color:#e2d973;\">610C</td><td style=\"background-color:#d8cc46;\">611C</td><td style=\"background-color:#c4b300;\">612C</td><td style=\"background-color:#b39d00;\">613C</td><td style=\"background-color:#e3e1c1;\">614C</td><td style=\"background-color:#dddbb1;\">615C</td><td style=\"background-color:#d7d29d;\">616C</td><td style=\"background-color:#c9c37f;\">617C</td><td style=\"background-color:#b4a851;\">618C</td><td style=\"background-color:#9c8e2a;\">619C</td></tr>\n",
       "<tr><td style=\"background-color:#887811;\">620C</td><td style=\"background-color:#d2dfdc;\">621C</td><td style=\"background-color:#bdd2cc;\">622C</td><td style=\"background-color:#9ebcb3;\">623C</td><td style=\"background-color:#78a095;\">624C</td><td style=\"background-color:#518274;\">625C</td><td style=\"background-color:#1f5647;\">626C</td><td style=\"background-color:#032d23;\">627C</td><td style=\"background-color:#c8e2e8;\">628C</td><td style=\"background-color:#aadae5;\">629C</td></tr>\n",
       "<tr><td style=\"background-color:#82cbdd;\">630C</td><td style=\"background-color:#48b8d2;\">631C</td><td style=\"background-color:#009ec0;\">632C</td><td style=\"background-color:#007ca4;\">633C</td><td style=\"background-color:#00628c;\">634C</td><td style=\"background-color:#adddeb;\">635C</td><td style=\"background-color:#8dd4e9;\">636C</td><td style=\"background-color:#5bc8e7;\">637C</td><td style=\"background-color:#00b2de;\">638C</td><td style=\"background-color:#009acf;\">639C</td></tr>\n",
       "<tr><td style=\"background-color:#0085c2;\">640C</td><td style=\"background-color:#0070b2;\">641C</td><td style=\"background-color:#ced9e7;\">642C</td><td style=\"background-color:#c5d2e3;\">643C</td><td style=\"background-color:#97b1d0;\">644C</td><td style=\"background-color:#7498c0;\">645C</td><td style=\"background-color:#5781ae;\">646C</td><td style=\"background-color:#11568c;\">647C</td><td style=\"background-color:#002b5f;\">648C</td><td style=\"background-color:#d4dce8;\">649C</td></tr>\n",
       "<tr><td style=\"background-color:#c2cde0;\">650C</td><td style=\"background-color:#99aece;\">651C</td><td style=\"background-color:#6f8db9;\">652C</td><td style=\"background-color:#2a568f;\">653C</td><td style=\"background-color:#003066;\">654C</td><td style=\"background-color:#002252;\">655C</td><td style=\"background-color:#d4dded;\">656C</td><td style=\"background-color:#bfd0ea;\">657C</td><td style=\"background-color:#a1bbe4;\">658C</td><td style=\"background-color:#6e96d5;\">659C</td></tr>\n",
       "<tr><td style=\"background-color:#296dc1;\">660C</td><td style=\"background-color:#003596;\">661C</td><td style=\"background-color:#002280;\">662C</td><td style=\"background-color:#ded8e6;\">663C</td><td style=\"background-color:#d7d0e0;\">664C</td><td style=\"background-color:#c5bbd3;\">665C</td><td style=\"background-color:#a392b7;\">666C</td><td style=\"background-color:#7c6495;\">667C</td><td style=\"background-color:#624a7e;\">668C</td><td style=\"background-color:#432c5f;\">669C</td></tr>\n",
       "<tr><td style=\"background-color:#ead4e4;\">670C</td><td style=\"background-color:#e6c1db;\">671C</td><td style=\"background-color:#e1a7cf;\">672C</td><td style=\"background-color:#da89be;\">673C</td><td style=\"background-color:#ce62a4;\">674C</td><td style=\"background-color:#b62a79;\">675C</td><td style=\"background-color:#a30059;\">676C</td><td style=\"background-color:#e5d1df;\">677C</td><td style=\"background-color:#e2c9da;\">678C</td><td style=\"background-color:#debdd4;\">679C</td></tr>\n",
       "<tr><td style=\"background-color:#cb97b7;\">680C</td><td style=\"background-color:#b8749e;\">681C</td><td style=\"background-color:#9c4878;\">682C</td><td style=\"background-color:#7c2250;\">683C</td><td style=\"background-color:#e5cad9;\">684C</td><td style=\"background-color:#e1bcd0;\">685C</td><td style=\"background-color:#dbaec6;\">686C</td><td style=\"background-color:#c686a9;\">687C</td><td style=\"background-color:#b46b93;\">688C</td><td style=\"background-color:#95416f;\">689C</td></tr>\n",
       "<tr><td style=\"background-color:#6d2348;\">690C</td><td style=\"background-color:#e7cdd2;\">691C</td><td style=\"background-color:#e2c1c8;\">692C</td><td style=\"background-color:#d9a7b1;\">693C</td><td style=\"background-color:#ca909c;\">694C</td><td style=\"background-color:#b06876;\">695C</td><td style=\"background-color:#944554;\">696C</td><td style=\"background-color:#81333d;\">697C</td><td style=\"background-color:#edcfd7;\">698C</td><td style=\"background-color:#f0c2cd;\">699C</td></tr>\n",
       "<tr><td style=\"background-color:#eca9b9;\">700C</td><td style=\"background-color:#e58da2;\">701C</td><td style=\"background-color:#d5647c;\">702C</td><td style=\"background-color:#ba394e;\">703C</td><td style=\"background-color:#a22630;\">704C</td><td style=\"background-color:#f2d6de;\">705C</td><td style=\"background-color:#f5c7d4;\">706C</td><td style=\"background-color:#f5b0c1;\">707C</td><td style=\"background-color:#f590a6;\">708C</td><td style=\"background-color:#ef6782;\">709C</td></tr>\n",
       "<tr><td style=\"background-color:#e54661;\">710C</td><td style=\"background-color:#d32939;\">711C</td><td style=\"background-color:#facdae;\">712C</td><td style=\"background-color:#fbc399;\">713C</td><td style=\"background-color:#fdb179;\">714C</td><td style=\"background-color:#f9964a;\">715C</td><td style=\"background-color:#f17c0e;\">716C</td><td style=\"background-color:#de6100;\">717C</td><td style=\"background-color:#cf5200;\">718C</td><td style=\"background-color:#efcfb8;\">719C</td></tr>\n",
       "<tr><td style=\"background-color:#ecc3a5;\">720C</td><td style=\"background-color:#e5ae86;\">721C</td><td style=\"background-color:#d58f59;\">722C</td><td style=\"background-color:#c0722f;\">723C</td><td style=\"background-color:#9a4b00;\">724C</td><td style=\"background-color:#843b00;\">725C</td><td style=\"background-color:#e8cebb;\">726C</td><td style=\"background-color:#e1bea4;\">727C</td><td style=\"background-color:#d5aa88;\">728C</td><td style=\"background-color:#c38e63;\">729C</td></tr>\n",
       "<tr><td style=\"background-color:#ac703d;\">730C</td><td style=\"background-color:#793f0d;\">731C</td><td style=\"background-color:#64300a;\">732C</td><td style=\"background-color:#00a7d8;\">801C</td><td style=\"background-color:#5bdd45;\">802C</td><td style=\"background-color:#ffe805;\">803C</td><td style=\"background-color:#ffa243;\">804C</td><td style=\"background-color:#ff585e;\">805C</td><td style=\"background-color:#ff1cac;\">806C</td><td style=\"background-color:#d708b2;\">807C</td></tr>\n",
       "<tr><td style=\"background-color:#00ae97;\">808C</td><td style=\"background-color:#e1e400;\">809C</td><td style=\"background-color:#ffce09;\">810C</td><td style=\"background-color:#ff7750;\">811C</td><td style=\"background-color:#ff3485;\">812C</td><td style=\"background-color:#ea12af;\">813C</td><td style=\"background-color:#7e60ce;\">814C</td></tr>\n",
       "</table>\n"
      ],
      "text/plain": [
       "Table(len=91,titles=[],data=[[100C, 101C, 102C, 103C, 104C, 105C, 106C, 107C, 108C, 109C], [110C, 111C, 112C, 113C, 114C, 115C, 116C, 117C, 118C, 119C], [1205C, 120C, 1215C, 121C, 1225C, 122C, 1235C, 123C, 1245C, 124C], [1255C, 125C, 1265C, 126C, 127C, 128C, 129C, 130C, 131C, 132C], [133C, 1345C, 134C, 1355C, 135C, 1365C, 136C, 1375C, 137C, 1385C]])"
      ]
     },
     "execution_count": 10,
     "metadata": {},
     "output_type": "execute_result"
    }
   ],
   "source": [
    "from Goulib.table import Table, Cell\n",
    "from Goulib.itertools2 import reshape\n",
    "\n",
    "t=[Cell(name,style={'background-color':pantone[name]}) for name in sorted(pantone)]\n",
    "Table(reshape(t,(0,10)))"
   ]
  }
 ],
 "metadata": {
  "kernelspec": {
   "display_name": "Python 2",
   "language": "python",
   "name": "python2"
  },
  "language_info": {
   "codemirror_mode": {
    "name": "ipython",
    "version": 2
   },
   "file_extension": ".py",
   "mimetype": "text/x-python",
   "name": "python",
   "nbconvert_exporter": "python",
   "pygments_lexer": "ipython2",
   "version": "2.7.11"
  }
 },
 "nbformat": 4,
 "nbformat_minor": 0
}
